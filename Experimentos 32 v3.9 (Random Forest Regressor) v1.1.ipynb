{
 "cells": [
  {
   "cell_type": "markdown",
   "metadata": {},
   "source": [
    "## World Development Indicators - Analytics"
   ]
  },
  {
   "cell_type": "code",
   "execution_count": 36,
   "metadata": {
    "collapsed": false
   },
   "outputs": [
    {
     "data": {
      "text/html": [
       "<div>\n",
       "<table border=\"1\" class=\"dataframe\">\n",
       "  <thead>\n",
       "    <tr style=\"text-align: right;\">\n",
       "      <th></th>\n",
       "      <th>CountryName</th>\n",
       "      <th>CountryCode</th>\n",
       "      <th>IndicatorName</th>\n",
       "      <th>IndicatorCode</th>\n",
       "      <th>Year</th>\n",
       "      <th>Value</th>\n",
       "    </tr>\n",
       "  </thead>\n",
       "  <tbody>\n",
       "    <tr>\n",
       "      <th>0</th>\n",
       "      <td>Antigua and Barbuda</td>\n",
       "      <td>ATG</td>\n",
       "      <td>Adolescent fertility rate (births per 1,000 wo...</td>\n",
       "      <td>SP.ADO.TFRT</td>\n",
       "      <td>1960</td>\n",
       "      <td>126.144000</td>\n",
       "    </tr>\n",
       "    <tr>\n",
       "      <th>1</th>\n",
       "      <td>Antigua and Barbuda</td>\n",
       "      <td>ATG</td>\n",
       "      <td>Age dependency ratio (% of working-age populat...</td>\n",
       "      <td>SP.POP.DPND</td>\n",
       "      <td>1960</td>\n",
       "      <td>88.237117</td>\n",
       "    </tr>\n",
       "    <tr>\n",
       "      <th>2</th>\n",
       "      <td>Antigua and Barbuda</td>\n",
       "      <td>ATG</td>\n",
       "      <td>Age dependency ratio, old (% of working-age po...</td>\n",
       "      <td>SP.POP.DPND.OL</td>\n",
       "      <td>1960</td>\n",
       "      <td>7.779958</td>\n",
       "    </tr>\n",
       "    <tr>\n",
       "      <th>3</th>\n",
       "      <td>Antigua and Barbuda</td>\n",
       "      <td>ATG</td>\n",
       "      <td>Age dependency ratio, young (% of working-age ...</td>\n",
       "      <td>SP.POP.DPND.YG</td>\n",
       "      <td>1960</td>\n",
       "      <td>80.457159</td>\n",
       "    </tr>\n",
       "    <tr>\n",
       "      <th>4</th>\n",
       "      <td>Antigua and Barbuda</td>\n",
       "      <td>ATG</td>\n",
       "      <td>Birth rate, crude (per 1,000 people)</td>\n",
       "      <td>SP.DYN.CBRT.IN</td>\n",
       "      <td>1960</td>\n",
       "      <td>32.920000</td>\n",
       "    </tr>\n",
       "  </tbody>\n",
       "</table>\n",
       "</div>"
      ],
      "text/plain": [
       "           CountryName CountryCode  \\\n",
       "0  Antigua and Barbuda         ATG   \n",
       "1  Antigua and Barbuda         ATG   \n",
       "2  Antigua and Barbuda         ATG   \n",
       "3  Antigua and Barbuda         ATG   \n",
       "4  Antigua and Barbuda         ATG   \n",
       "\n",
       "                                       IndicatorName   IndicatorCode  Year  \\\n",
       "0  Adolescent fertility rate (births per 1,000 wo...     SP.ADO.TFRT  1960   \n",
       "1  Age dependency ratio (% of working-age populat...     SP.POP.DPND  1960   \n",
       "2  Age dependency ratio, old (% of working-age po...  SP.POP.DPND.OL  1960   \n",
       "3  Age dependency ratio, young (% of working-age ...  SP.POP.DPND.YG  1960   \n",
       "4               Birth rate, crude (per 1,000 people)  SP.DYN.CBRT.IN  1960   \n",
       "\n",
       "        Value  \n",
       "0  126.144000  \n",
       "1   88.237117  \n",
       "2    7.779958  \n",
       "3   80.457159  \n",
       "4   32.920000  "
      ]
     },
     "execution_count": 36,
     "metadata": {},
     "output_type": "execute_result"
    }
   ],
   "source": [
    "import numpy as np\n",
    "import pandas as pd\n",
    "import matplotlib.pyplot as plt\n",
    "import time\n",
    "\n",
    "tabla = np.array(pd.read_csv(\"economia7.csv\").drop('Unnamed: 0', 1))\n",
    "pd.DataFrame(tabla).head()"
   ]
  },
  {
   "cell_type": "code",
   "execution_count": 38,
   "metadata": {
    "collapsed": false
   },
   "outputs": [],
   "source": [
    "def r2(y_true, y_predict):\n",
    "    from sklearn.metrics import r2_score\n",
    "    return r2_score(y_true, y_predict)"
   ]
  },
  {
   "cell_type": "code",
   "execution_count": 39,
   "metadata": {
    "collapsed": false
   },
   "outputs": [],
   "source": [
    "def imputador(tab):\n",
    "    from sklearn.preprocessing import Imputer\n",
    "    impute=Imputer(missing_values=\"NaN\",strategy='mean',axis=0)\n",
    "    impute.fit(tab)\n",
    "    tab_imputada=impute.transform(tab)\n",
    "    return pd.DataFrame(tab_imputada)"
   ]
  },
  {
   "cell_type": "code",
   "execution_count": 40,
   "metadata": {
    "collapsed": true
   },
   "outputs": [],
   "source": [
    "def zeros(tab):\n",
    "    df = pd.DataFrame(tab)\n",
    "    #Eliminamos las columnas de NaN descartando Indicadores que no tienen regristros para ningún pais y año deseados\n",
    "    df = df.dropna(how='all',axis=1)\n",
    "    #Asignamos a los NaN el valor de 0    \n",
    "    df = df.fillna(0)\n",
    "    return df"
   ]
  },
  {
   "cell_type": "code",
   "execution_count": 42,
   "metadata": {
    "collapsed": true
   },
   "outputs": [],
   "source": [
    "def Splitter(tab,y_indicator):\n",
    "    from sklearn.model_selection import train_test_split\n",
    "    # Asignamos X e y, eliminando la columna y en X\n",
    "    X = correlacion(tab,y_indicator)\n",
    "    y = tab[:,y_indicator]\n",
    "    # Separamos Train y Test respectivamente para X e y\n",
    "    X_train, X_test, y_train, y_test = train_test_split(X, y, test_size=0.2)\n",
    "    return X_train, X_test, y_train, y_test"
   ]
  },
  {
   "cell_type": "code",
   "execution_count": 43,
   "metadata": {
    "collapsed": true
   },
   "outputs": [],
   "source": [
    "def correlacion(tab,y_indicator):\n",
    "    # Buscamos los indicadores que se correlacionen más (coeficiente > 0.7)\n",
    "    eliminar = []\n",
    "    tabla_correlacion = np.array(pd.DataFrame(tab).corr())\n",
    "    for i in range(np.shape(tab)[1]):\n",
    "        if abs(tabla_correlacion[i,y_indicator]) > 0.7:\n",
    "            eliminar.append(i)\n",
    "\n",
    "    # Eliminamos los indicadores que se correlacionan más (Coeficiente > 0.7)\n",
    "    temporal = tab[:,:]\n",
    "\n",
    "    for i in range(len(eliminar)):\n",
    "        temporal = np.delete(temporal[:,:], eliminar[i]-i, 1)\n",
    "\n",
    "    return temporal"
   ]
  },
  {
   "cell_type": "code",
   "execution_count": 44,
   "metadata": {
    "collapsed": true
   },
   "outputs": [],
   "source": [
    "def GridSearchCV_Universal(estimador,X_train, y_train):\n",
    "    from sklearn.model_selection import GridSearchCV\n",
    "    from sklearn.model_selection import ShuffleSplit\n",
    "    from sklearn.ensemble import RandomForestRegressor\n",
    "    from sklearn.tree import DecisionTreeRegressor\n",
    "        \n",
    "    if(estimador=='DTR'):\n",
    "        estimator = DecisionTreeRegressor()\n",
    "        param_grid = {'max_depth': [1, 2, 3, 4, 5, 6, 7, 8, 9, 10], \n",
    "                  'splitter': ['best', 'random']\n",
    "                 }\n",
    "        \n",
    "    if(estimador=='RFR'):\n",
    "        estimator = RandomForestRegressor()       \n",
    "        param_grid = { \n",
    "                \"n_estimators\"      : [10,20,30,40],\n",
    "                \"max_features\"      : [\"auto\", \"sqrt\", \"log2\"],\n",
    "                \"min_samples_split\" : [2,4,8],\n",
    "                \"bootstrap\": [True, False],\n",
    "                }\n",
    "    \n",
    "    grid = GridSearchCV(estimator, param_grid, n_jobs=-1, cv=ShuffleSplit(test_size=0.2))   \n",
    "    grid.fit(X_train, y_train)\n",
    "    \n",
    "    return grid.best_params_"
   ]
  },
  {
   "cell_type": "code",
   "execution_count": 45,
   "metadata": {
    "collapsed": true
   },
   "outputs": [],
   "source": [
    "def estimator_Universal(estimador, X_train, X_test, y_train, y_test, best_params):\n",
    "    from sklearn.ensemble import RandomForestRegressor\n",
    "    from sklearn.tree import DecisionTreeRegressor\n",
    "    \n",
    "    if(estimador=='DTR'):\n",
    "        estimator = DecisionTreeRegressor().set_params(**best_params)\n",
    "    if(estimador=='RFR'):\n",
    "        estimator = RandomForestRegressor(n_jobs=-1).set_params(**best_params)\n",
    "\n",
    "    estimator.fit(X_train,y_train)\n",
    "    y_predict = estimator.predict(X_test)\n",
    "    return r2(y_test,y_predict)"
   ]
  },
  {
   "cell_type": "code",
   "execution_count": 46,
   "metadata": {
    "collapsed": true
   },
   "outputs": [],
   "source": [
    "def iter_Splitter(estimador,tab):    \n",
    "    R2_global = list()\n",
    "    start_time = time.time()\n",
    "    for i in range(0,np.shape(imputador(tab2))[1]):\n",
    "        ## Zero\n",
    "        start_time_2 = time.time()\n",
    "        X_train, X_test, y_train, y_test = Splitter(np.array(zeros(tab)),i)\n",
    "        best_params = GridSearchCV_Universal(estimador, X_train, y_train)\n",
    "        print i , \"Zero\" , best_params, \"- %s s\" % (time.time() - start_time_2)\n",
    "        R2_Original = estimator_Universal(estimador, X_train, X_test, y_train, y_test, best_params)\n",
    "\n",
    "        ## Imputer\n",
    "        start_time_3 = time.time()\n",
    "        X_train, X_test, y_train, y_test = Splitter(np.array(imputador(tab)),i)\n",
    "        best_params = GridSearchCV_Universal(estimador, X_train, y_train)\n",
    "        print i , \"Zero\" , best_params, \"- %s s\" % (time.time() - start_time_3)\n",
    "        R2_Imputado = estimator_Universal(estimador, X_train, X_test, y_train, y_test, best_params)\n",
    "\n",
    "        # Join results\n",
    "        R2_global.append([R2_Original,R2_Imputado])\n",
    "    \n",
    "    print(\"--- %s seconds ---\" % (time.time() - start_time))\n",
    "    return pd.DataFrame(R2_global,columns=['Original','Imputado'])"
   ]
  },
  {
   "cell_type": "code",
   "execution_count": 47,
   "metadata": {
    "collapsed": true
   },
   "outputs": [],
   "source": [
    "iter_Splitter('DTR',tabla)"
   ]
  },
  {
   "cell_type": "code",
   "execution_count": null,
   "metadata": {
    "collapsed": true
   },
   "outputs": [],
   "source": [
    "iter_Splitter('RFR',tabla)"
   ]
  },
  {
   "cell_type": "code",
   "execution_count": 26,
   "metadata": {
    "collapsed": false
   },
   "outputs": [
    {
     "name": "stdout",
     "output_type": "stream",
     "text": [
      "Best Params {'splitter': 'random', 'max_depth': 7} - 0.810426950455 s\n",
      "Best Params {'splitter': 'best', 'max_depth': 9} - 0.626332998276 s\n",
      "Best Params {'splitter': 'random', 'max_depth': 5} - 0.715851783752 s\n",
      "Best Params {'splitter': 'random', 'max_depth': 9} - 0.600108861923 s\n",
      "Best Params {'splitter': 'best', 'max_depth': 9} - 0.709694862366 s\n",
      "Best Params {'splitter': 'random', 'max_depth': 8} - 0.729998111725 s\n",
      "Best Params {'splitter': 'best', 'max_depth': 10} - 0.722052097321 s\n",
      "Best Params {'splitter': 'best', 'max_depth': 7} - 0.73463511467 s\n",
      "Best Params {'splitter': 'best', 'max_depth': 9} - 0.750251054764 s\n",
      "Best Params {'splitter': 'best', 'max_depth': 8} - 0.756103992462 s\n",
      "Best Params {'splitter': 'best', 'max_depth': 2} - 0.718957901001 s\n",
      "Best Params {'splitter': 'best', 'max_depth': 1} - 0.706968069077 s\n",
      "Best Params {'splitter': 'best', 'max_depth': 5} - 0.71296787262 s\n",
      "Best Params {'splitter': 'best', 'max_depth': 4} - 0.707448005676 s\n",
      "Best Params {'splitter': 'best', 'max_depth': 7} - 0.724426984787 s\n",
      "Best Params {'splitter': 'random', 'max_depth': 3} - 0.738592147827 s\n",
      "Best Params {'splitter': 'best', 'max_depth': 4} - 0.630789041519 s\n",
      "Best Params {'splitter': 'best', 'max_depth': 9} - 0.62447810173 s\n",
      "Best Params {'splitter': 'random', 'max_depth': 8} - 0.609366893768 s\n",
      "Best Params {'splitter': 'best', 'max_depth': 8} - 0.649877071381 s\n",
      "Best Params {'splitter': 'best', 'max_depth': 1} - 0.718439102173 s\n",
      "Best Params {'splitter': 'random', 'max_depth': 1} - 0.615149021149 s\n",
      "Best Params {'splitter': 'best', 'max_depth': 6} - 0.721040010452 s\n",
      "Best Params {'splitter': 'best', 'max_depth': 9} - 0.728596925735 s\n",
      "Best Params {'splitter': 'best', 'max_depth': 10} - 0.60728597641 s\n",
      "Best Params {'splitter': 'best', 'max_depth': 8} - 0.721502065659 s\n",
      "Best Params {'splitter': 'best', 'max_depth': 6} - 0.710561037064 s\n",
      "Best Params {'splitter': 'best', 'max_depth': 10} - 0.683804988861 s\n",
      "Best Params {'splitter': 'best', 'max_depth': 9} - 0.705537080765 s\n",
      "Best Params {'splitter': 'best', 'max_depth': 6} - 0.610074996948 s\n",
      "--- 20.8748648167 seconds ---\n"
     ]
    },
    {
     "data": {
      "text/html": [
       "<div>\n",
       "<table border=\"1\" class=\"dataframe\">\n",
       "  <thead>\n",
       "    <tr style=\"text-align: right;\">\n",
       "      <th></th>\n",
       "      <th>Original</th>\n",
       "      <th>Imputado</th>\n",
       "    </tr>\n",
       "  </thead>\n",
       "  <tbody>\n",
       "    <tr>\n",
       "      <th>0</th>\n",
       "      <td>0.999718</td>\n",
       "      <td>0.998368</td>\n",
       "    </tr>\n",
       "    <tr>\n",
       "      <th>1</th>\n",
       "      <td>0.966501</td>\n",
       "      <td>0.990089</td>\n",
       "    </tr>\n",
       "    <tr>\n",
       "      <th>2</th>\n",
       "      <td>0.071373</td>\n",
       "      <td>-0.270602</td>\n",
       "    </tr>\n",
       "    <tr>\n",
       "      <th>3</th>\n",
       "      <td>0.997568</td>\n",
       "      <td>0.997385</td>\n",
       "    </tr>\n",
       "    <tr>\n",
       "      <th>4</th>\n",
       "      <td>0.859054</td>\n",
       "      <td>0.970196</td>\n",
       "    </tr>\n",
       "    <tr>\n",
       "      <th>5</th>\n",
       "      <td>0.276584</td>\n",
       "      <td>0.065544</td>\n",
       "    </tr>\n",
       "    <tr>\n",
       "      <th>6</th>\n",
       "      <td>0.609970</td>\n",
       "      <td>0.767523</td>\n",
       "    </tr>\n",
       "    <tr>\n",
       "      <th>7</th>\n",
       "      <td>-0.077037</td>\n",
       "      <td>0.462637</td>\n",
       "    </tr>\n",
       "    <tr>\n",
       "      <th>8</th>\n",
       "      <td>0.953881</td>\n",
       "      <td>0.910438</td>\n",
       "    </tr>\n",
       "    <tr>\n",
       "      <th>9</th>\n",
       "      <td>0.963481</td>\n",
       "      <td>0.988926</td>\n",
       "    </tr>\n",
       "    <tr>\n",
       "      <th>10</th>\n",
       "      <td>0.182183</td>\n",
       "      <td>-0.047205</td>\n",
       "    </tr>\n",
       "    <tr>\n",
       "      <th>11</th>\n",
       "      <td>0.859674</td>\n",
       "      <td>0.917738</td>\n",
       "    </tr>\n",
       "    <tr>\n",
       "      <th>12</th>\n",
       "      <td>0.841187</td>\n",
       "      <td>0.896611</td>\n",
       "    </tr>\n",
       "    <tr>\n",
       "      <th>13</th>\n",
       "      <td>0.983319</td>\n",
       "      <td>-1.061983</td>\n",
       "    </tr>\n",
       "    <tr>\n",
       "      <th>14</th>\n",
       "      <td>0.984296</td>\n",
       "      <td>0.693251</td>\n",
       "    </tr>\n",
       "  </tbody>\n",
       "</table>\n",
       "</div>"
      ],
      "text/plain": [
       "    Original  Imputado\n",
       "0   0.999718  0.998368\n",
       "1   0.966501  0.990089\n",
       "2   0.071373 -0.270602\n",
       "3   0.997568  0.997385\n",
       "4   0.859054  0.970196\n",
       "5   0.276584  0.065544\n",
       "6   0.609970  0.767523\n",
       "7  -0.077037  0.462637\n",
       "8   0.953881  0.910438\n",
       "9   0.963481  0.988926\n",
       "10  0.182183 -0.047205\n",
       "11  0.859674  0.917738\n",
       "12  0.841187  0.896611\n",
       "13  0.983319 -1.061983\n",
       "14  0.984296  0.693251"
      ]
     },
     "execution_count": 26,
     "metadata": {},
     "output_type": "execute_result"
    }
   ],
   "source": [
    "iter_Splitter('SVR',tabla)"
   ]
  }
 ],
 "metadata": {
  "anaconda-cloud": {},
  "kernelspec": {
   "display_name": "Python 2",
   "language": "python",
   "name": "python2"
  },
  "language_info": {
   "codemirror_mode": {
    "name": "ipython",
    "version": 2
   },
   "file_extension": ".py",
   "mimetype": "text/x-python",
   "name": "python",
   "nbconvert_exporter": "python",
   "pygments_lexer": "ipython2",
   "version": "2.7.13"
  }
 },
 "nbformat": 4,
 "nbformat_minor": 1
}
