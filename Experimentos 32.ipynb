{
 "cells": [
  {
   "cell_type": "markdown",
   "metadata": {},
   "source": [
    "## World Development Indicators - Analytics"
   ]
  },
  {
   "cell_type": "code",
   "execution_count": 1,
   "metadata": {
    "collapsed": false
   },
   "outputs": [
    {
     "data": {
      "text/html": [
       "<div>\n",
       "<table border=\"1\" class=\"dataframe\">\n",
       "  <thead>\n",
       "    <tr style=\"text-align: right;\">\n",
       "      <th></th>\n",
       "      <th>CountryName</th>\n",
       "      <th>CountryCode</th>\n",
       "      <th>IndicatorName</th>\n",
       "      <th>IndicatorCode</th>\n",
       "      <th>Year</th>\n",
       "      <th>Value</th>\n",
       "    </tr>\n",
       "  </thead>\n",
       "  <tbody>\n",
       "    <tr>\n",
       "      <th>0</th>\n",
       "      <td>Antigua and Barbuda</td>\n",
       "      <td>ATG</td>\n",
       "      <td>Adolescent fertility rate (births per 1,000 wo...</td>\n",
       "      <td>SP.ADO.TFRT</td>\n",
       "      <td>1960</td>\n",
       "      <td>126.144000</td>\n",
       "    </tr>\n",
       "    <tr>\n",
       "      <th>1</th>\n",
       "      <td>Antigua and Barbuda</td>\n",
       "      <td>ATG</td>\n",
       "      <td>Age dependency ratio (% of working-age populat...</td>\n",
       "      <td>SP.POP.DPND</td>\n",
       "      <td>1960</td>\n",
       "      <td>88.237117</td>\n",
       "    </tr>\n",
       "    <tr>\n",
       "      <th>2</th>\n",
       "      <td>Antigua and Barbuda</td>\n",
       "      <td>ATG</td>\n",
       "      <td>Age dependency ratio, old (% of working-age po...</td>\n",
       "      <td>SP.POP.DPND.OL</td>\n",
       "      <td>1960</td>\n",
       "      <td>7.779958</td>\n",
       "    </tr>\n",
       "    <tr>\n",
       "      <th>3</th>\n",
       "      <td>Antigua and Barbuda</td>\n",
       "      <td>ATG</td>\n",
       "      <td>Age dependency ratio, young (% of working-age ...</td>\n",
       "      <td>SP.POP.DPND.YG</td>\n",
       "      <td>1960</td>\n",
       "      <td>80.457159</td>\n",
       "    </tr>\n",
       "    <tr>\n",
       "      <th>4</th>\n",
       "      <td>Antigua and Barbuda</td>\n",
       "      <td>ATG</td>\n",
       "      <td>Birth rate, crude (per 1,000 people)</td>\n",
       "      <td>SP.DYN.CBRT.IN</td>\n",
       "      <td>1960</td>\n",
       "      <td>32.920000</td>\n",
       "    </tr>\n",
       "  </tbody>\n",
       "</table>\n",
       "</div>"
      ],
      "text/plain": [
       "           CountryName CountryCode  \\\n",
       "0  Antigua and Barbuda         ATG   \n",
       "1  Antigua and Barbuda         ATG   \n",
       "2  Antigua and Barbuda         ATG   \n",
       "3  Antigua and Barbuda         ATG   \n",
       "4  Antigua and Barbuda         ATG   \n",
       "\n",
       "                                       IndicatorName   IndicatorCode  Year  \\\n",
       "0  Adolescent fertility rate (births per 1,000 wo...     SP.ADO.TFRT  1960   \n",
       "1  Age dependency ratio (% of working-age populat...     SP.POP.DPND  1960   \n",
       "2  Age dependency ratio, old (% of working-age po...  SP.POP.DPND.OL  1960   \n",
       "3  Age dependency ratio, young (% of working-age ...  SP.POP.DPND.YG  1960   \n",
       "4               Birth rate, crude (per 1,000 people)  SP.DYN.CBRT.IN  1960   \n",
       "\n",
       "        Value  \n",
       "0  126.144000  \n",
       "1   88.237117  \n",
       "2    7.779958  \n",
       "3   80.457159  \n",
       "4   32.920000  "
      ]
     },
     "execution_count": 1,
     "metadata": {},
     "output_type": "execute_result"
    }
   ],
   "source": [
    "import numpy as np\n",
    "import pandas as pd\n",
    "import matplotlib.pyplot as plt\n",
    "import time\n",
    "\n",
    "datos = pd.read_csv(\"suramerica.csv\").drop('Unnamed: 0', 1)\n",
    "datos.head()"
   ]
  },
  {
   "cell_type": "code",
   "execution_count": 2,
   "metadata": {
    "collapsed": true
   },
   "outputs": [],
   "source": [
    "paises = ['Antigua and Barbuda','Argentina','Aruba','Bahamas, The','Barbados','Belize','Bolivia','Brazil','Cayman Islands','Chile','Colombia','Costa Rica','Cuba','Curacao','Dominica','Dominican Republic','Ecuador','El Salvador','Grenada','Guatemala','Guyana','Haiti','Honduras','Jamaica','Mexico','Nicaragua','Panama','Paraguay','Peru','Puerto Rico','Sint Maarten (Dutch part)','St. Kitts and Nevis','St. Lucia','St. Martin (French part)','St. Vincent and the Grenadines','Suriname','Trinidad and Tobago','Turks and Caicos Islands','Uruguay','Venezuela, RB','Virgin Islands (U.S.)']\n",
    "years = range(2008,2012+1)\n",
    "look_back = 2\n",
    "\n",
    "agricultura = ['EG.ELC.ACCS.RU.ZS','EG.NSF.ACCS.RU.ZS','AG.LND.IRIG.AG.ZS','AG.LND.AGRI.ZS','AG.LND.AGRI.K2','AG.AGR.TRAC.NO','AG.LND.TRAC.ZS','EN.ATM.METH.AG.ZS','EN.ATM.METH.AG.KT.CE','EN.ATM.NOXE.AG.ZS','EN.ATM.NOXE.AG.KT.CE','TX.VAL.AGRI.ZS.UN','TM.VAL.AGRI.ZS.UN','EA.PRD.AGRI.KD','NV.AGR.TOTL.ZS','NV.AGR.TOTL.CD','ER.H2O.FWAG.ZS','AG.LND.ARBL.ZS','AG.LND.ARBL.HA.PC','AG.LND.ARBL.HA','AG.LND.PRCP.MM','AG.PRD.CREL.MT','AG.YLD.CREL.KG','AG.PRD.CROP.XD','SL.AGR.EMPL.ZS','SL.AGR.EMPL.FE.ZS','SL.AGR.EMPL.MA.ZS','AG.CON.FERT.PT.ZS','AG.CON.FERT.ZS','AG.PRD.FOOD.XD','AG.LND.FRST.ZS','AG.LND.FRST.K2','SH.STA.ACSN.RU','SH.H2O.SAFE.RU.ZS','AG.LND.TOTL.K2','AG.LND.CREL.HA','AG.PRD.LVSK.XD','AG.LND.CROP.ZS','AG.LND.TOTL.RU.K2','AG.LND.EL5M.RU.ZS','AG.LND.EL5M.RU.K2','SP.RUR.TOTL','SP.RUR.TOTL.ZS','SP.RUR.TOTL.ZG','EN.POP.EL5M.RU.ZS','SI.POV.RUGP','SI.POV.RUHC','AG.SRF.TOTL.K2']\n",
    "economia = ['PA.NUS.PPP.05','PA.NUS.PRVT.PP.05','NY.ADJ.NNTY.KD.ZG','NY.ADJ.NNTY.KD','NY.ADJ.NNTY.CD','NY.ADJ.NNTY.PC.KD.ZG','NY.ADJ.NNTY.PC.KD','NY.ADJ.NNTY.PC.CD','NY.ADJ.SVNX.GN.ZS','NY.ADJ.SVNX.CD','NY.ADJ.SVNG.GN.ZS','NY.ADJ.SVNG.CD','NY.ADJ.DCO2.GN.ZS','NY.ADJ.DCO2.CD','NY.ADJ.DKAP.GN.ZS','NY.ADJ.DKAP.CD','NY.ADJ.AEDU.GN.ZS','NY.ADJ.AEDU.CD','NY.ADJ.DNGY.GN.ZS','NY.ADJ.DNGY.CD','NY.ADJ.ICTR.GN.ZS','NY.ADJ.DMIN.GN.ZS','NY.ADJ.DMIN.CD','NY.ADJ.DRES.GN.ZS','NY.ADJ.DFOR.GN.ZS','NY.ADJ.DFOR.CD','NY.ADJ.NNAT.GN.ZS','NY.ADJ.NNAT.CD','NY.ADJ.DPEM.GN.ZS','NY.ADJ.DPEM.CD','NV.AGR.TOTL.ZS','NV.AGR.TOTL.KD.ZG','NV.AGR.TOTL.KD','NV.AGR.TOTL.KN','NV.AGR.TOTL.CN','NV.AGR.TOTL.CD','GC.DOD.TOTL.GD.ZS','NE.GDI.STKB.KN','NE.GDI.STKB.CN','NE.GDI.STKB.CD','BM.GSR.ROYL.CD','BX.GSR.ROYL.CD','NV.MNF.CHEM.ZS.UN','BX.GSR.CMCP.ZS','BM.GSR.CMCP.ZS','BN.CAB.XOKA.GD.ZS','BN.CAB.XOKA.CD','PA.NUS.ATLS','NY.GDP.DISC.KN','NY.GDP.DISC.CN','GC.XPN.TOTL.GD.ZS','NY.EXP.CAPM.KN','NE.EXP.GNFS.ZS','BX.GSR.GNFS.CD','NE.EXP.GNFS.KD.ZG','NE.EXP.GNFS.KD','NE.EXP.GNFS.KN','NE.EXP.GNFS.CN','NE.EXP.GNFS.CD','BX.GSR.TOTL.CD','NE.RSB.GNFS.ZS','NE.RSB.GNFS.KN','NE.RSB.GNFS.CN','NE.RSB.GNFS.CD','DT.DOD.DECT.GN.ZS','DT.DOD.DECT.EX.ZS','DT.DOD.DECT.CD','NE.CON.TOTL.KD','NE.CON.TOTL.KN','NE.CON.TOTL.CN','NE.CON.TOTL.CD','NE.CON.TETC.ZS','NE.CON.TETC.KD.ZG','NE.CON.TETC.KD','NE.CON.TETC.KN','NE.CON.TETC.CN','NE.CON.TETC.CD','NV.MNF.FBTO.ZS.UN','BN.KLT.DINV.CD','BX.KLT.DINV.WD.GD.ZS','BX.KLT.DINV.CD.WD','BM.KLT.DINV.WD.GD.ZS','BM.KLT.DINV.CD.WD','NY.GDP.MKTP.KN','NY.GDP.MKTP.CN','NY.GDP.MKTP.CD','NY.GDP.MKTP.KD','NY.GDP.DEFL.ZS','NY.GDP.MKTP.KD.ZG','NY.GDP.PCAP.KD','NY.GDP.PCAP.KN','NY.GDP.PCAP.CN','NY.GDP.PCAP.CD','NY.GDP.PCAP.KD.ZG','NY.GDP.PCAP.PP.KD','NY.GDP.PCAP.PP.CD','NY.GDP.MKTP.PP.KD','NY.GDP.MKTP.PP.CD','NY.GNP.MKTP.KD','NY.GNP.MKTP.KN','NY.GNP.MKTP.CN','NY.GNP.MKTP.CD','NY.GNP.MKTP.KD.ZG','NY.GNP.PCAP.KD','NY.GNP.PCAP.KN','NY.GNP.PCAP.CN','NY.GNP.PCAP.KD.ZG','NY.GNP.PCAP.CD','NY.GNP.PCAP.PP.KD','NY.GNP.PCAP.PP.CD','NY.GNP.ATLS.CD','NY.GNP.MKTP.PP.KD','NY.GNP.MKTP.PP.CD','NE.CON.GOVT.ZS','NE.CON.GOVT.KD.ZG','NE.CON.GOVT.KD','NE.CON.GOVT.KN','NE.CON.GOVT.CN','NE.CON.GOVT.CD','BX.GSR.MRCH.CD','BM.GSR.MRCH.CD','BX.GRT.EXTA.CD.WD','NE.GDI.TOTL.ZS','NE.GDI.TOTL.KD.ZG','NE.GDI.TOTL.KD','NE.GDI.TOTL.KN','NE.GDI.TOTL.CN','NE.GDI.TOTL.CD','NY.GDY.TOTL.KN','NY.GDS.TOTL.ZS','NY.GDS.TOTL.CN','NY.GDS.TOTL.CD','NE.GDI.FTOT.ZS','NE.GDI.FTOT.KD.ZG','NE.GDI.FTOT.KD','NE.GDI.FTOT.KN','NE.GDI.FTOT.CN','NE.GDI.FTOT.CD','NE.GDI.FPRV.ZS','NE.GDI.FPRV.CN','NE.DAB.TOTL.ZS','NE.DAB.TOTL.KD','NE.DAB.TOTL.KN','NE.DAB.TOTL.CN','NE.DAB.TOTL.CD','NE.DAB.DEFL.ZS','NY.GNS.ICTR.ZS','NY.GNS.ICTR.GN.ZS','NY.GNS.ICTR.CN','NY.GNS.ICTR.CD','NY.GDP.FCST.KD','NY.GDP.FCST.KN','NY.GDP.FCST.CN','NY.GDP.FCST.CD','NE.CON.PRVT.KD.ZG','NE.CON.PRVT.KD','NE.CON.PRVT.KN','NE.CON.PRVT.CN','NE.CON.PRVT.CD','NE.CON.PRVT.PC.KD','NE.CON.PRVT.PC.KD.ZG','NE.CON.PRVT.PP.KD','NE.CON.PRVT.PP.CD','NE.CON.PETC.ZS','NE.CON.PETC.KD.ZG','NE.CON.PETC.KD','NE.CON.PETC.KN','NE.CON.PETC.CN','NE.CON.PETC.CD','BX.GSR.CCIS.ZS','BX.GSR.CCIS.CD','NE.IMP.GNFS.ZS','BM.GSR.GNFS.CD','NE.IMP.GNFS.KD.ZG','NE.IMP.GNFS.KD','NE.IMP.GNFS.KN','NE.IMP.GNFS.CN','NE.IMP.GNFS.CD','BM.GSR.TOTL.CD','NV.IND.TOTL.ZS','NV.IND.TOTL.KD.ZG','NV.IND.TOTL.KD','NV.IND.TOTL.KN','NV.IND.TOTL.CN','NV.IND.TOTL.CD','NY.GDP.DEFL.KD.ZG','FP.CPI.TOTL.ZG','BX.GSR.INSF.ZS','BM.GSR.INSF.ZS','DT.INT.DECT.GN.ZS','DT.INT.DECT.EX.ZS','NV.MNF.MTRN.ZS.UN','NV.IND.MANF.ZS','NV.IND.MANF.KD.ZG','NV.IND.MANF.KD','NV.IND.MANF.KN','NV.IND.MANF.CN','NV.IND.MANF.CD','DT.ODA.ODAT.GN.ZS','DT.ODA.ODAT.PC.ZS','BN.TRF.KOGT.CD','NY.TRF.NCTR.KN','NY.TRF.NCTR.CN','NY.TRF.NCTR.CD','BN.KAC.EOMS.CD','BN.FIN.TOTL.CD','NY.GSR.NFCY.KN','NY.GSR.NFCY.CN','NY.GSR.NFCY.CD','DT.ODA.ODAT.CD','BN.GSR.FCTY.CD','BN.TRF.CURR.CD','NY.TAX.NIND.KN','NY.TAX.NIND.CN','NY.TAX.NIND.CD','BN.GSR.MRCH.CD','BN.GSR.GNFS.CD','NV.MNF.OTHR.ZS.UN','PA.NUS.PPP','PA.NUS.PRVT.PP','BM.TRF.PWKR.CD.DT','BX.TRF.PWKR.DT.GD.ZS','BX.TRF.PWKR.CD.DT','BX.TRF.PWKR.CD','BN.KLT.PTXL.CD','BX.PEF.TOTL.CD.WD','DT.DOD.PVLX.GN.ZS','DT.DOD.PVLX.EX.ZS','DT.DOD.PVLX.CD','PA.NUS.PPPC.RF','BX.KLT.DREM.CD.DT','BM.GSR.FCTY.CD','BX.GSR.FCTY.CD','BN.RES.INCL.CD','GC.REV.XGRT.GD.ZS','BX.TRF.CURR.CD','BM.TRF.PRVT.CD','BX.GSR.NFSV.CD','BM.GSR.NFSV.CD','NV.SRV.TETC.ZS','NV.SRV.TETC.KD.ZG','NV.SRV.TETC.KD','NV.SRV.TETC.KN','NV.SRV.TETC.CN','NV.SRV.TETC.CD','DT.DOD.DSTC.XP.ZS','DT.DOD.DSTC.IR.ZS','BX.GRT.TECH.CD.WD','NY.TTF.GNFS.KN','NV.MNF.TXTL.ZS.UN','DT.TDS.DECT.GN.ZS','DT.TDS.DECT.EX.ZS','FI.RES.TOTL.CD','FI.RES.XGLD.CD','NE.TRD.GNFS.ZS','BG.GSR.NFSV.GD.ZS','BX.GSR.TRAN.ZS','BM.GSR.TRAN.ZS','BX.GSR.TRVL.ZS','BM.GSR.TRVL.ZS']\n",
    "educacion = ['SE.PRM.TENR.FE','SE.PRM.TENR.MA','SE.PRM.TENR','SE.SEC.UNER.LO.ZS','SE.SEC.UNER.LO.FE.ZS','SE.SEC.UNER.LO.MA.ZS','SE.ADT.LITR.ZS','SE.XPD.MPRM.ZS','SE.XPD.MSEC.ZS','SE.XPD.MTER.ZS','SE.XPD.MTOT.ZS','SE.PRM.UNER.ZS','SE.PRM.UNER.FE.ZS','SE.PRM.UNER.MA.ZS','SE.PRM.UNER.FE','SE.PRM.UNER.MA','SE.XPD.CPRM.ZS','SE.XPD.CSEC.ZS','SE.XPD.CTER.ZS','SE.XPD.CTOT.ZS','SE.COM.DURS','SE.TER.CUAT.DO.FE.ZS','SE.TER.CUAT.DO.MA.ZS','SE.TER.CUAT.DO.ZS','SE.TER.CUAT.BA.FE.ZS','SE.TER.CUAT.BA.MA.ZS','SE.TER.CUAT.BA.ZS','SE.TER.CUAT.MS.FE.ZS','SE.TER.CUAT.MS.MA.ZS','SE.TER.CUAT.MS.ZS','SE.SEC.CUAT.LO.FE.ZS','SE.SEC.CUAT.LO.MA.ZS','SE.SEC.CUAT.LO.ZS','SE.SEC.CUAT.PO.FE.ZS','SE.SEC.CUAT.PO.MA.ZS','SE.SEC.CUAT.PO.ZS','SE.PRM.CUAT.FE.ZS','SE.PRM.CUAT.MA.ZS','SE.PRM.CUAT.ZS','SE.TER.CUAT.ST.FE.ZS','SE.TER.CUAT.ST.MA.ZS','SE.TER.CUAT.ST.ZS','SE.SEC.CUAT.UP.FE.ZS','SE.SEC.CUAT.UP.MA.ZS','SE.SEC.CUAT.UP.ZS','SE.SEC.PROG.ZS','SM.EMI.TERT.ZS','SE.PRM.ENRL','SE.SEC.ENRL','SE.SEC.ENRL.GC','SE.SEC.ENRL.VO','SE.XPD.TOTL.GB.ZS','SE.XPD.PRIM.ZS','SE.XPD.SECO.ZS','SE.XPD.TERT.ZS','SE.XPD.TOTL.GD.ZS','SE.XPD.PRIM.PC.ZS','SE.XPD.SECO.PC.ZS','SE.XPD.TERT.PC.ZS','SE.PRM.ENRR','SE.PRE.ENRR','SE.PRE.ENRR.FE','SE.PRE.ENRR.MA','SE.SEC.ENRR','SE.TER.ENRR','SE.PRM.GINT.ZS','SE.PRM.GINT.FE.ZS','SE.PRM.GINT.MA.ZS','SL.TLF.PRIM.ZS','SL.TLF.PRIM.FE.ZS','SL.TLF.PRIM.MA.ZS','SL.TLF.SECO.ZS','SL.TLF.SECO.FE.ZS','SL.TLF.SECO.MA.ZS','SL.TLF.TERT.ZS','SL.TLF.TERT.FE.ZS','SL.TLF.TERT.MA.ZS','SL.TLF.TOTL.FE.ZS','SL.TLF.TOTL.IN','SE.ADT.LITR.FE.ZS','SE.ADT.LITR.MA.ZS','SE.ADT.1524.LT.FM.ZS','SE.ADT.1524.LT.FE.ZS','SE.ADT.1524.LT.MA.ZS','SE.SEC.CMPT.LO.FE.ZS','SE.SEC.CMPT.LO.MA.ZS','SE.SEC.CMPT.LO.ZS','SE.PRM.NENR','SE.SEC.NENR','SE.PRM.NINT.FE.ZS','SE.PRM.NINT.MA.ZS','SE.PRM.NINT.ZS','SE.SEC.AGES','SE.PRM.AGES','SE.PRM.UNER','SE.PRM.OENR.ZS','SE.PRM.OENR.FE.ZS','SE.PRM.OENR.MA.ZS','SE.PRM.PRIV.ZS','SE.SEC.PRIV.ZS','SE.PRM.TCAQ.FE.ZS','SE.SEC.TCAQ.FE.ZS','SE.PRM.TCAQ.MA.ZS','SE.SEC.TCAQ.MA.ZS','SE.PRM.REPT.ZS','SE.PRM.REPT.FE.ZS','SE.PRM.REPT.MA.ZS','SE.SEC.ENRL.GC.FE.ZS','SE.SEC.ENRL.VO.FE.ZS','SE.PRM.TCAQ.ZS','SE.SEC.TCAQ.ZS','SE.PRM.PRS5.FE.ZS','SE.PRM.PRS5.MA.ZS','SP.POP.0014.TO.ZS','SP.POP.1564.TO.ZS','SE.PRE.DURS','SE.PRM.CMPT.FE.ZS','SE.PRM.CMPT.MA.ZS','SE.PRM.CMPT.ZS','SE.PRM.ENRL.FE.ZS','SE.PRM.TCHR.FE.ZS','SE.SEC.PROG.FE.ZS','SE.SEC.PROG.MA.ZS','SE.PRE.ENRL.TC.ZS','SE.PRM.ENRL.TC.ZS','SE.SEC.ENRL.TC.ZS','SE.SEC.ENRL.LO.TC.ZS','SE.TER.ENRL.TC.ZS','SE.SEC.ENRL.UP.TC.ZS','SE.ENR.PRIM.FM.ZS','SE.ENR.PRSC.FM.ZS','SE.PRM.ENRR.FE','SE.PRM.NENR.FE','SE.PRM.ENRR.MA','SE.PRM.NENR.MA','SE.ENR.SECO.FM.ZS','SE.SEC.ENRR.FE','SE.SEC.NENR.FE','SE.SEC.ENRR.MA','SE.SEC.NENR.MA','SE.ENR.TERT.FM.ZS','SE.TER.ENRR.FE','SE.TER.ENRR.MA','SE.SEC.ENRL.FE.ZS','SE.SEC.TCHR.FE.ZS','SE.PRM.PRS5.ZS','SE.PRM.PRSL.ZS','SE.PRM.PRSL.FE.ZS','SE.PRM.PRSL.MA.ZS','SE.PRM.TCHR','SE.SEC.TCHR','SE.SEC.TCHR.FE','SE.TER.TCHR.FE.ZS','SE.PRM.DURS','SE.SEC.DURS','SE.SEC.TCAQ.LO.ZS','SE.SEC.TCAQ.LO.FE.ZS','SE.SEC.TCAQ.LO.MA.ZS','SE.PRE.TCAQ.ZS','SE.PRE.TCAQ.FE.ZS','SE.PRE.TCAQ.MA.ZS','SE.SEC.TCAQ.UP.ZS','SE.SEC.TCAQ.UP.FE.ZS','SE.SEC.TCAQ.UP.MA.ZS','SL.UEM.TOTL.FE.ZS','SL.UEM.TOTL.MA.ZS','SL.UEM.TOTL.ZS','SE.ADT.1524.LT.ZS']\n",
    "\n",
    "conjunto_nombre = ['Agricultura','Economia','Educacion']\n",
    "conjunto = [agricultura,economia,educacion]"
   ]
  },
  {
   "cell_type": "code",
   "execution_count": 3,
   "metadata": {
    "collapsed": false
   },
   "outputs": [],
   "source": [
    "def r2(y_true, y_predict):\n",
    "    from sklearn.metrics import r2_score\n",
    "    return r2_score(y_true, y_predict)"
   ]
  },
  {
   "cell_type": "code",
   "execution_count": 4,
   "metadata": {
    "collapsed": false
   },
   "outputs": [],
   "source": [
    "def imputador(tab):\n",
    "    from sklearn.preprocessing import Imputer\n",
    "    impute=Imputer(missing_values=\"NaN\",strategy='mean',axis=0)\n",
    "    impute.fit(tab)\n",
    "    tab_imputada=impute.transform(tab)\n",
    "    return pd.DataFrame(tab_imputada)"
   ]
  },
  {
   "cell_type": "code",
   "execution_count": 5,
   "metadata": {
    "collapsed": true
   },
   "outputs": [],
   "source": [
    "def zeros(tab):\n",
    "    #Asignamos a los NaN el valor de 0\n",
    "    tab_zeros = pd.DataFrame(tab).fillna(value=0)\n",
    "    #Eliminamos las columnas de Zeros descartando Indicadores que no tienen regristros para ningún pais y año deseados\n",
    "    tab_zeros_2 = tab_zeros.loc[:, (tab_zeros != 0).any(axis=0)]\n",
    "    return tab_zeros_2"
   ]
  },
  {
   "cell_type": "code",
   "execution_count": 6,
   "metadata": {
    "collapsed": false
   },
   "outputs": [],
   "source": [
    "def Grid_Search_CV(X_train, y_train):\n",
    "    from sklearn.grid_search import GridSearchCV\n",
    "    from sklearn.cross_validation import ShuffleSplit\n",
    "    from sklearn.metrics import make_scorer\n",
    "    from sklearn.tree import DecisionTreeRegressor\n",
    "    \n",
    "    cv = ShuffleSplit(X_train.shape[0], n_iter = 10, test_size=0.2, random_state=0)\n",
    "    estimator = DecisionTreeRegressor()\n",
    "    params = {'max_depth': [1, 2, 3, 4, 5, 6, 7, 8, 9, 10], 'splitter': ['best', 'random']}\n",
    "\n",
    "    grid = GridSearchCV(estimator, params, cv=cv, scoring=\"r2\")\n",
    "\n",
    "    grid.fit(X_train, y_train)\n",
    "    \n",
    "    for k,v in grid.best_params_.iteritems():\n",
    "        best_max_depth = v\n",
    "    \n",
    "    return best_max_depth"
   ]
  },
  {
   "cell_type": "code",
   "execution_count": 7,
   "metadata": {
    "collapsed": true
   },
   "outputs": [],
   "source": [
    "def DTR_v2(X_train, X_test, y_train, y_test, depth):\n",
    "    \n",
    "    from sklearn.tree import DecisionTreeRegressor\n",
    "    estimator = DecisionTreeRegressor(max_depth=depth)\n",
    "    estimator.fit(X_train,y_train)\n",
    "    y_predict = estimator.predict(X_test)\n",
    "    \n",
    "    return r2(y_test,y_predict)"
   ]
  },
  {
   "cell_type": "code",
   "execution_count": 8,
   "metadata": {
    "collapsed": false
   },
   "outputs": [],
   "source": [
    "def correlation_matrix(df):\n",
    "    from matplotlib import pyplot as plt\n",
    "    from matplotlib import cm as cm\n",
    "\n",
    "    fig = plt.figure()\n",
    "    ax1 = fig.add_subplot(111)\n",
    "    cmap = cm.get_cmap('jet', 30)\n",
    "    cax = ax1.imshow(df.corr(), interpolation=\"nearest\", cmap=cmap)\n",
    "    plt.title('Matriz de correlacion')\n",
    "    fig.colorbar(cax)\n",
    "    \n",
    "    return plt.show()"
   ]
  },
  {
   "cell_type": "code",
   "execution_count": 9,
   "metadata": {
    "collapsed": false
   },
   "outputs": [],
   "source": [
    "def correlacion(tab,y_indicator):\n",
    "    # Buscamos los indicadores que se correlacionen más (coeficiente > 0.7)\n",
    "    eliminar = []\n",
    "    tabla_correlacion = np.array(pd.DataFrame(tab).corr())\n",
    "    for i in range(np.shape(tab)[1]):\n",
    "        if abs(tabla_correlacion[i,y_indicator]) > 0.7:\n",
    "            eliminar.append(i)\n",
    "\n",
    "    # Eliminamos los indicadores que se correlacionan más (Coeficiente > 0.7)\n",
    "    temporal = tab[:,:]\n",
    "\n",
    "    for i in range(len(eliminar)):\n",
    "        temporal = np.delete(temporal[:,:], eliminar[i]-i, 1)\n",
    "\n",
    "    return temporal"
   ]
  },
  {
   "cell_type": "code",
   "execution_count": 10,
   "metadata": {
    "collapsed": true
   },
   "outputs": [],
   "source": [
    "def splitter_v3(tabla_1,tabla_2,y_indicator):\n",
    "    from sklearn.model_selection import train_test_split\n",
    "    #Fusionamos la tabla_1 y el indicador y de la tabla_2\n",
    "    tab_fusion = np.column_stack((tabla_1[:,:],tabla_2[:,y_indicator]))\n",
    "    \n",
    "    # Asignamos X e y, eliminando los indicadores que se correlacionen más (coeficiente > 0.7)  \n",
    "    X = correlacion(tab_fusion,-1)\n",
    "    y = tab_fusion[:,-1]\n",
    "    \n",
    "    # Separamos Train y Test respectivamente para X e y\n",
    "    X_train, X_test, y_train, y_test = train_test_split(X, y, test_size=0.2)\n",
    "    \n",
    "    return X_train, X_test, y_train, y_test"
   ]
  },
  {
   "cell_type": "code",
   "execution_count": 11,
   "metadata": {
    "collapsed": true
   },
   "outputs": [],
   "source": [
    "def iter_R2_Splitter_v3(tab1,tab2):    \n",
    "    R2_global = list()\n",
    "    for i in range(0,np.shape(imputador(tab2))[1]):\n",
    "        ## Zeros\n",
    "        X_train, X_test, y_train, y_test = splitter_v3(np.array(zeros(tab1)),np.array(zeros(tab2)),i)\n",
    "        best_max_depth = Grid_Search_CV(X_train, y_train)\n",
    "        R2_Original_GridSearchCV = DTR_v2(X_train, X_test, y_train, y_test,best_max_depth)\n",
    "\n",
    "        ## Imputado\n",
    "        X_train, X_test, y_train, y_test = splitter_v3(np.array(imputador(tab1)),np.array(imputador(tab2)),i)\n",
    "        best_max_depth = Grid_Search_CV(X_train, y_train)\n",
    "        R2_Imputado_GridSearchCV = DTR_v2(X_train, X_test, y_train, y_test,best_max_depth)\n",
    "\n",
    "        # Recopilamos los R2\n",
    "        R2_global.append([R2_Original_GridSearchCV,R2_Imputado_GridSearchCV])\n",
    "    \n",
    "    return pd.DataFrame(R2_global,columns=['Original','Imputado'])"
   ]
  },
  {
   "cell_type": "code",
   "execution_count": 12,
   "metadata": {
    "collapsed": false
   },
   "outputs": [],
   "source": [
    "def porcentaje(valor):\n",
    "    x=0.0\n",
    "    for i in np.array(valor):\n",
    "        ## Calculamos el % de indicadores cuyo porcentaje de predicción es mayor a 90% (Original | Imputado)\n",
    "        if (i[0] > 0.9 or i[1] > 0.9):\n",
    "            x=x+1\n",
    "    return x/len(valor)"
   ]
  },
  {
   "cell_type": "code",
   "execution_count": 13,
   "metadata": {
    "collapsed": false
   },
   "outputs": [],
   "source": [
    "def tabla_base(paises,years,indicadores,datos):\n",
    "    tab = pd.DataFrame.pivot_table(datos, values='Value', index=['CountryName', 'Year'], columns=['IndicatorCode']).loc[(paises,years),indicadores].sortlevel([\"CountryName\",\"Year\"], ascending=[True,False])\n",
    "    return tab"
   ]
  },
  {
   "cell_type": "code",
   "execution_count": 14,
   "metadata": {
    "collapsed": true
   },
   "outputs": [],
   "source": [
    "def tabla_2_base(datos,indicadores,look_back):\n",
    "    temp_table = []\n",
    "    for k in range(look_back):\n",
    "        temp_years = []\n",
    "        for i in range(len(years)): \n",
    "            temp_years.append(years[i]-k)\n",
    "        temp_table.append(pd.DataFrame.pivot_table(datos, values='Value', index=['CountryName', 'Year'], columns=['IndicatorCode']).loc[(paises,temp_years),indicadores].sortlevel([\"CountryName\",\"Year\"], ascending=[True,False]))\n",
    "    return pd.DataFrame(np.column_stack(temp_table))"
   ]
  },
  {
   "cell_type": "code",
   "execution_count": 15,
   "metadata": {
    "collapsed": true
   },
   "outputs": [],
   "source": [
    "def iterador_global(datos,paises,years,indicadores_1,indicadores_2):\n",
    "    \n",
    "    t_1 = tabla_base(paises,years,indicadores_1,datos)\n",
    "    t_2 = tabla_base(paises,years,indicadores_2,datos)\n",
    "    \n",
    "    iterador = iter_R2_Splitter_v3(t_1,t_2)\n",
    "    \n",
    "    return iterador"
   ]
  },
  {
   "cell_type": "markdown",
   "metadata": {},
   "source": [
    "## Calculamos Registros"
   ]
  },
  {
   "cell_type": "markdown",
   "metadata": {},
   "source": [
    "Calculamos la cantidad de registros no nulos (Non-NaN) para cada conjunto de indicadores en base a los paises y años deseados"
   ]
  },
  {
   "cell_type": "code",
   "execution_count": 16,
   "metadata": {
    "collapsed": false
   },
   "outputs": [],
   "source": [
    "def registros(conjunto):   \n",
    "    reg = []\n",
    "    for i in range(len(conjunto)):\n",
    "        reg.append(np.sum(tabla_base(paises,years,conjunto[i],datos).count(axis=1)))\n",
    "    return reg"
   ]
  },
  {
   "cell_type": "code",
   "execution_count": 17,
   "metadata": {
    "collapsed": false
   },
   "outputs": [
    {
     "data": {
      "text/html": [
       "<div>\n",
       "<table border=\"1\" class=\"dataframe\">\n",
       "  <thead>\n",
       "    <tr style=\"text-align: right;\">\n",
       "      <th></th>\n",
       "      <th>0</th>\n",
       "    </tr>\n",
       "  </thead>\n",
       "  <tbody>\n",
       "    <tr>\n",
       "      <th>Agricultura</th>\n",
       "      <td>5657</td>\n",
       "    </tr>\n",
       "    <tr>\n",
       "      <th>Economia</th>\n",
       "      <td>36739</td>\n",
       "    </tr>\n",
       "    <tr>\n",
       "      <th>Educacion</th>\n",
       "      <td>12678</td>\n",
       "    </tr>\n",
       "  </tbody>\n",
       "</table>\n",
       "</div>"
      ],
      "text/plain": [
       "                 0\n",
       "Agricultura   5657\n",
       "Economia     36739\n",
       "Educacion    12678"
      ]
     },
     "execution_count": 17,
     "metadata": {},
     "output_type": "execute_result"
    }
   ],
   "source": [
    "pd.DataFrame(registros(conjunto), index=conjunto_nombre)"
   ]
  },
  {
   "cell_type": "code",
   "execution_count": 18,
   "metadata": {
    "collapsed": false
   },
   "outputs": [
    {
     "data": {
      "text/plain": [
       "[2007, 2008, 2009, 2010, 2011]"
      ]
     },
     "execution_count": 18,
     "metadata": {},
     "output_type": "execute_result"
    }
   ],
   "source": [
    "for k in range(2):\n",
    "    temp_years = []\n",
    "    for i in range(len(years)): \n",
    "        temp_years.append(years[i]-k)\n",
    "temp_years"
   ]
  },
  {
   "cell_type": "code",
   "execution_count": 19,
   "metadata": {
    "collapsed": false
   },
   "outputs": [
    {
     "data": {
      "text/plain": [
       "[[2012, 2011, 2010, 2009, 2008],\n",
       " [2011, 2010, 2009, 2008, 2007],\n",
       " [2010, 2009, 2008, 2007, 2006]]"
      ]
     },
     "execution_count": 19,
     "metadata": {},
     "output_type": "execute_result"
    }
   ],
   "source": [
    "look_back = 3\n",
    "year_init = 2012\n",
    "year_range = 5\n",
    "temp_years = []\n",
    "for i in range(look_back):\n",
    "    temp_years.append(range(year_init-year_range-i+1,year_init-i+1)[::-1])\n",
    "temp_years[:]"
   ]
  },
  {
   "cell_type": "code",
   "execution_count": 20,
   "metadata": {
    "collapsed": true
   },
   "outputs": [],
   "source": [
    "def tabla_2_base(datos,indicadores,look_back):\n",
    "    temp_table = []\n",
    "    for k in range(look_back):\n",
    "        temp_years = []\n",
    "        for i in range(len(years)): \n",
    "            temp_years.append(years[i]-k)\n",
    "        temp_table.append(pd.DataFrame.pivot_table(datos, values='Value', index=['CountryName', 'Year'], columns=['IndicatorCode']).loc[(paises,temp_years),indicadores].sortlevel([\"CountryName\",\"Year\"], ascending=[True,False]))\n",
    "    return pd.DataFrame(np.column_stack(temp_table))"
   ]
  },
  {
   "cell_type": "code",
   "execution_count": 31,
   "metadata": {
    "collapsed": true
   },
   "outputs": [],
   "source": [
    "def tabla_2_base(datos,indicadores,look_back):\n",
    "    temp_table = []\n",
    "    for i in range(look_back):      \n",
    "        temp_years = range(year_init-year_range-i+1,year_init-i+1)[::-1]\n",
    "        temp_table.append(pd.DataFrame.pivot_table(datos, values='Value', index=['CountryName', 'Year'], columns=['IndicatorCode']).loc[(paises,temp_years),indicadores].sortlevel([\"CountryName\",\"Year\"], ascending=[True,False]))\n",
    "    return pd.DataFrame(np.column_stack(temp_table))"
   ]
  },
  {
   "cell_type": "code",
   "execution_count": 22,
   "metadata": {
    "collapsed": false
   },
   "outputs": [
    {
     "name": "stdout",
     "output_type": "stream",
     "text": [
      "44\n"
     ]
    },
    {
     "data": {
      "text/html": [
       "<div>\n",
       "<table border=\"1\" class=\"dataframe\">\n",
       "  <thead>\n",
       "    <tr style=\"text-align: right;\">\n",
       "      <th></th>\n",
       "      <th>IndicatorName</th>\n",
       "    </tr>\n",
       "    <tr>\n",
       "      <th>IndicatorCode</th>\n",
       "      <th></th>\n",
       "    </tr>\n",
       "  </thead>\n",
       "  <tbody>\n",
       "    <tr>\n",
       "      <th>EG.ELC.ACCS.RU.ZS</th>\n",
       "      <td>Access to electricity, rural (% of rural popul...</td>\n",
       "    </tr>\n",
       "    <tr>\n",
       "      <th>EG.NSF.ACCS.RU.ZS</th>\n",
       "      <td>Access to non-solid fuel, rural (% of rural po...</td>\n",
       "    </tr>\n",
       "    <tr>\n",
       "      <th>AG.LND.IRIG.AG.ZS</th>\n",
       "      <td>Agricultural irrigated land (% of total agricu...</td>\n",
       "    </tr>\n",
       "    <tr>\n",
       "      <th>AG.LND.AGRI.ZS</th>\n",
       "      <td>Agricultural land (% of land area)</td>\n",
       "    </tr>\n",
       "    <tr>\n",
       "      <th>AG.LND.AGRI.K2</th>\n",
       "      <td>Agricultural land (sq. km)</td>\n",
       "    </tr>\n",
       "    <tr>\n",
       "      <th>AG.AGR.TRAC.NO</th>\n",
       "      <td>Agricultural machinery, tractors</td>\n",
       "    </tr>\n",
       "    <tr>\n",
       "      <th>AG.LND.TRAC.ZS</th>\n",
       "      <td>Agricultural machinery, tractors per 100 sq. k...</td>\n",
       "    </tr>\n",
       "    <tr>\n",
       "      <th>EN.ATM.METH.AG.ZS</th>\n",
       "      <td>Agricultural methane emissions (% of total)</td>\n",
       "    </tr>\n",
       "    <tr>\n",
       "      <th>EN.ATM.METH.AG.KT.CE</th>\n",
       "      <td>Agricultural methane emissions (thousand metri...</td>\n",
       "    </tr>\n",
       "    <tr>\n",
       "      <th>EN.ATM.NOXE.AG.ZS</th>\n",
       "      <td>Agricultural nitrous oxide emissions (% of total)</td>\n",
       "    </tr>\n",
       "    <tr>\n",
       "      <th>EN.ATM.NOXE.AG.KT.CE</th>\n",
       "      <td>Agricultural nitrous oxide emissions (thousand...</td>\n",
       "    </tr>\n",
       "    <tr>\n",
       "      <th>TX.VAL.AGRI.ZS.UN</th>\n",
       "      <td>Agricultural raw materials exports (% of merch...</td>\n",
       "    </tr>\n",
       "    <tr>\n",
       "      <th>TM.VAL.AGRI.ZS.UN</th>\n",
       "      <td>Agricultural raw materials imports (% of merch...</td>\n",
       "    </tr>\n",
       "    <tr>\n",
       "      <th>EA.PRD.AGRI.KD</th>\n",
       "      <td>Agriculture value added per worker (constant 2...</td>\n",
       "    </tr>\n",
       "    <tr>\n",
       "      <th>NV.AGR.TOTL.ZS</th>\n",
       "      <td>Agriculture, value added (% of GDP)</td>\n",
       "    </tr>\n",
       "    <tr>\n",
       "      <th>NV.AGR.TOTL.CD</th>\n",
       "      <td>Agriculture, value added (current US$)</td>\n",
       "    </tr>\n",
       "    <tr>\n",
       "      <th>ER.H2O.FWAG.ZS</th>\n",
       "      <td>Annual freshwater withdrawals, agriculture (% ...</td>\n",
       "    </tr>\n",
       "    <tr>\n",
       "      <th>AG.LND.ARBL.ZS</th>\n",
       "      <td>Arable land (% of land area)</td>\n",
       "    </tr>\n",
       "    <tr>\n",
       "      <th>AG.LND.ARBL.HA.PC</th>\n",
       "      <td>Arable land (hectares per person)</td>\n",
       "    </tr>\n",
       "    <tr>\n",
       "      <th>AG.LND.ARBL.HA</th>\n",
       "      <td>Arable land (hectares)</td>\n",
       "    </tr>\n",
       "    <tr>\n",
       "      <th>AG.LND.PRCP.MM</th>\n",
       "      <td>Average precipitation in depth (mm per year)</td>\n",
       "    </tr>\n",
       "    <tr>\n",
       "      <th>AG.PRD.CREL.MT</th>\n",
       "      <td>Cereal production (metric tons)</td>\n",
       "    </tr>\n",
       "    <tr>\n",
       "      <th>AG.YLD.CREL.KG</th>\n",
       "      <td>Cereal yield (kg per hectare)</td>\n",
       "    </tr>\n",
       "    <tr>\n",
       "      <th>AG.PRD.CROP.XD</th>\n",
       "      <td>Crop production index (2004-2006 = 100)</td>\n",
       "    </tr>\n",
       "    <tr>\n",
       "      <th>SL.AGR.EMPL.ZS</th>\n",
       "      <td>Employment in agriculture (% of total employment)</td>\n",
       "    </tr>\n",
       "    <tr>\n",
       "      <th>SL.AGR.EMPL.FE.ZS</th>\n",
       "      <td>Employment in agriculture, female (% of female...</td>\n",
       "    </tr>\n",
       "    <tr>\n",
       "      <th>SL.AGR.EMPL.MA.ZS</th>\n",
       "      <td>Employment in agriculture, male (% of male emp...</td>\n",
       "    </tr>\n",
       "    <tr>\n",
       "      <th>AG.CON.FERT.PT.ZS</th>\n",
       "      <td>Fertilizer consumption (% of fertilizer produc...</td>\n",
       "    </tr>\n",
       "    <tr>\n",
       "      <th>AG.CON.FERT.ZS</th>\n",
       "      <td>Fertilizer consumption (kilograms per hectare ...</td>\n",
       "    </tr>\n",
       "    <tr>\n",
       "      <th>AG.PRD.FOOD.XD</th>\n",
       "      <td>Food production index (2004-2006 = 100)</td>\n",
       "    </tr>\n",
       "    <tr>\n",
       "      <th>AG.LND.FRST.ZS</th>\n",
       "      <td>Forest area (% of land area)</td>\n",
       "    </tr>\n",
       "    <tr>\n",
       "      <th>AG.LND.FRST.K2</th>\n",
       "      <td>Forest area (sq. km)</td>\n",
       "    </tr>\n",
       "    <tr>\n",
       "      <th>SH.STA.ACSN.RU</th>\n",
       "      <td>Improved sanitation facilities, rural (% of ru...</td>\n",
       "    </tr>\n",
       "    <tr>\n",
       "      <th>SH.H2O.SAFE.RU.ZS</th>\n",
       "      <td>Improved water source, rural (% of rural popul...</td>\n",
       "    </tr>\n",
       "    <tr>\n",
       "      <th>AG.LND.TOTL.K2</th>\n",
       "      <td>Land area (sq. km)</td>\n",
       "    </tr>\n",
       "    <tr>\n",
       "      <th>AG.LND.CREL.HA</th>\n",
       "      <td>Land under cereal production (hectares)</td>\n",
       "    </tr>\n",
       "    <tr>\n",
       "      <th>AG.PRD.LVSK.XD</th>\n",
       "      <td>Livestock production index (2004-2006 = 100)</td>\n",
       "    </tr>\n",
       "    <tr>\n",
       "      <th>AG.LND.CROP.ZS</th>\n",
       "      <td>Permanent cropland (% of land area)</td>\n",
       "    </tr>\n",
       "    <tr>\n",
       "      <th>SP.RUR.TOTL</th>\n",
       "      <td>Rural population</td>\n",
       "    </tr>\n",
       "    <tr>\n",
       "      <th>SP.RUR.TOTL.ZS</th>\n",
       "      <td>Rural population (% of total population)</td>\n",
       "    </tr>\n",
       "    <tr>\n",
       "      <th>SP.RUR.TOTL.ZG</th>\n",
       "      <td>Rural population growth (annual %)</td>\n",
       "    </tr>\n",
       "    <tr>\n",
       "      <th>SI.POV.RUGP</th>\n",
       "      <td>Rural poverty gap at national poverty lines (%)</td>\n",
       "    </tr>\n",
       "    <tr>\n",
       "      <th>SI.POV.RUHC</th>\n",
       "      <td>Rural poverty headcount ratio at national pove...</td>\n",
       "    </tr>\n",
       "    <tr>\n",
       "      <th>AG.SRF.TOTL.K2</th>\n",
       "      <td>Surface area (sq. km)</td>\n",
       "    </tr>\n",
       "  </tbody>\n",
       "</table>\n",
       "</div>"
      ],
      "text/plain": [
       "                                                          IndicatorName\n",
       "IndicatorCode                                                          \n",
       "EG.ELC.ACCS.RU.ZS     Access to electricity, rural (% of rural popul...\n",
       "EG.NSF.ACCS.RU.ZS     Access to non-solid fuel, rural (% of rural po...\n",
       "AG.LND.IRIG.AG.ZS     Agricultural irrigated land (% of total agricu...\n",
       "AG.LND.AGRI.ZS                       Agricultural land (% of land area)\n",
       "AG.LND.AGRI.K2                               Agricultural land (sq. km)\n",
       "AG.AGR.TRAC.NO                         Agricultural machinery, tractors\n",
       "AG.LND.TRAC.ZS        Agricultural machinery, tractors per 100 sq. k...\n",
       "EN.ATM.METH.AG.ZS           Agricultural methane emissions (% of total)\n",
       "EN.ATM.METH.AG.KT.CE  Agricultural methane emissions (thousand metri...\n",
       "EN.ATM.NOXE.AG.ZS     Agricultural nitrous oxide emissions (% of total)\n",
       "EN.ATM.NOXE.AG.KT.CE  Agricultural nitrous oxide emissions (thousand...\n",
       "TX.VAL.AGRI.ZS.UN     Agricultural raw materials exports (% of merch...\n",
       "TM.VAL.AGRI.ZS.UN     Agricultural raw materials imports (% of merch...\n",
       "EA.PRD.AGRI.KD        Agriculture value added per worker (constant 2...\n",
       "NV.AGR.TOTL.ZS                      Agriculture, value added (% of GDP)\n",
       "NV.AGR.TOTL.CD                   Agriculture, value added (current US$)\n",
       "ER.H2O.FWAG.ZS        Annual freshwater withdrawals, agriculture (% ...\n",
       "AG.LND.ARBL.ZS                             Arable land (% of land area)\n",
       "AG.LND.ARBL.HA.PC                     Arable land (hectares per person)\n",
       "AG.LND.ARBL.HA                                   Arable land (hectares)\n",
       "AG.LND.PRCP.MM             Average precipitation in depth (mm per year)\n",
       "AG.PRD.CREL.MT                          Cereal production (metric tons)\n",
       "AG.YLD.CREL.KG                            Cereal yield (kg per hectare)\n",
       "AG.PRD.CROP.XD                  Crop production index (2004-2006 = 100)\n",
       "SL.AGR.EMPL.ZS        Employment in agriculture (% of total employment)\n",
       "SL.AGR.EMPL.FE.ZS     Employment in agriculture, female (% of female...\n",
       "SL.AGR.EMPL.MA.ZS     Employment in agriculture, male (% of male emp...\n",
       "AG.CON.FERT.PT.ZS     Fertilizer consumption (% of fertilizer produc...\n",
       "AG.CON.FERT.ZS        Fertilizer consumption (kilograms per hectare ...\n",
       "AG.PRD.FOOD.XD                  Food production index (2004-2006 = 100)\n",
       "AG.LND.FRST.ZS                             Forest area (% of land area)\n",
       "AG.LND.FRST.K2                                     Forest area (sq. km)\n",
       "SH.STA.ACSN.RU        Improved sanitation facilities, rural (% of ru...\n",
       "SH.H2O.SAFE.RU.ZS     Improved water source, rural (% of rural popul...\n",
       "AG.LND.TOTL.K2                                       Land area (sq. km)\n",
       "AG.LND.CREL.HA                  Land under cereal production (hectares)\n",
       "AG.PRD.LVSK.XD             Livestock production index (2004-2006 = 100)\n",
       "AG.LND.CROP.ZS                      Permanent cropland (% of land area)\n",
       "SP.RUR.TOTL                                            Rural population\n",
       "SP.RUR.TOTL.ZS                 Rural population (% of total population)\n",
       "SP.RUR.TOTL.ZG                       Rural population growth (annual %)\n",
       "SI.POV.RUGP             Rural poverty gap at national poverty lines (%)\n",
       "SI.POV.RUHC           Rural poverty headcount ratio at national pove...\n",
       "AG.SRF.TOTL.K2                                    Surface area (sq. km)"
      ]
     },
     "execution_count": 22,
     "metadata": {},
     "output_type": "execute_result"
    }
   ],
   "source": [
    "df4 = pd.DataFrame(datos).loc[:,['IndicatorName','IndicatorCode']].set_index('IndicatorCode').loc[agricultura].drop_duplicates().dropna()\n",
    "print len(df4)\n",
    "df4"
   ]
  },
  {
   "cell_type": "code",
   "execution_count": 23,
   "metadata": {
    "collapsed": false
   },
   "outputs": [
    {
     "name": "stdout",
     "output_type": "stream",
     "text": [
      "[2012, 2011, 2010, 2009, 2008]\n",
      "[2011, 2010, 2009, 2008, 2007]\n"
     ]
    },
    {
     "data": {
      "text/html": [
       "<div>\n",
       "<table border=\"1\" class=\"dataframe\">\n",
       "  <thead>\n",
       "    <tr style=\"text-align: right;\">\n",
       "      <th></th>\n",
       "      <th>0</th>\n",
       "      <th>1</th>\n",
       "      <th>2</th>\n",
       "      <th>3</th>\n",
       "      <th>4</th>\n",
       "      <th>5</th>\n",
       "    </tr>\n",
       "  </thead>\n",
       "  <tbody>\n",
       "    <tr>\n",
       "      <th>0</th>\n",
       "      <td>3.252725e+09</td>\n",
       "      <td>1.204713e+09</td>\n",
       "      <td>1.033890e+09</td>\n",
       "      <td>3.050780e+09</td>\n",
       "      <td>1.129918e+09</td>\n",
       "      <td>9.939385e+08</td>\n",
       "    </tr>\n",
       "    <tr>\n",
       "      <th>1</th>\n",
       "      <td>3.050780e+09</td>\n",
       "      <td>1.129918e+09</td>\n",
       "      <td>9.939385e+08</td>\n",
       "      <td>3.065955e+09</td>\n",
       "      <td>1.135539e+09</td>\n",
       "      <td>1.012090e+09</td>\n",
       "    </tr>\n",
       "    <tr>\n",
       "      <th>2</th>\n",
       "      <td>3.065955e+09</td>\n",
       "      <td>1.135539e+09</td>\n",
       "      <td>1.012090e+09</td>\n",
       "      <td>3.257308e+09</td>\n",
       "      <td>1.206410e+09</td>\n",
       "      <td>1.089944e+09</td>\n",
       "    </tr>\n",
       "    <tr>\n",
       "      <th>3</th>\n",
       "      <td>3.257308e+09</td>\n",
       "      <td>1.206410e+09</td>\n",
       "      <td>1.089944e+09</td>\n",
       "      <td>3.637845e+09</td>\n",
       "      <td>1.347350e+09</td>\n",
       "      <td>1.239080e+09</td>\n",
       "    </tr>\n",
       "    <tr>\n",
       "      <th>4</th>\n",
       "      <td>3.637845e+09</td>\n",
       "      <td>1.347350e+09</td>\n",
       "      <td>1.239080e+09</td>\n",
       "      <td>3.480987e+09</td>\n",
       "      <td>1.289254e+09</td>\n",
       "      <td>1.238200e+09</td>\n",
       "    </tr>\n",
       "  </tbody>\n",
       "</table>\n",
       "</div>"
      ],
      "text/plain": [
       "              0             1             2             3             4  \\\n",
       "0  3.252725e+09  1.204713e+09  1.033890e+09  3.050780e+09  1.129918e+09   \n",
       "1  3.050780e+09  1.129918e+09  9.939385e+08  3.065955e+09  1.135539e+09   \n",
       "2  3.065955e+09  1.135539e+09  1.012090e+09  3.257308e+09  1.206410e+09   \n",
       "3  3.257308e+09  1.206410e+09  1.089944e+09  3.637845e+09  1.347350e+09   \n",
       "4  3.637845e+09  1.347350e+09  1.239080e+09  3.480987e+09  1.289254e+09   \n",
       "\n",
       "              5  \n",
       "0  9.939385e+08  \n",
       "1  1.012090e+09  \n",
       "2  1.089944e+09  \n",
       "3  1.239080e+09  \n",
       "4  1.238200e+09  "
      ]
     },
     "execution_count": 23,
     "metadata": {},
     "output_type": "execute_result"
    }
   ],
   "source": [
    "tabla_2_base(datos,economia[84:87],2).head()"
   ]
  },
  {
   "cell_type": "code",
   "execution_count": 24,
   "metadata": {
    "collapsed": true
   },
   "outputs": [],
   "source": [
    "def iterador_global_2(datos,paises,years,indicadores_1,indicadores_2,look_back):\n",
    "    \n",
    "    t_1 = tabla_2_base(datos,indicadores_1,look_back)\n",
    "    t_2 = tabla_base(paises,years,indicadores_2,datos)\n",
    "    \n",
    "    iterador = iter_R2_Splitter_v3(t_1,t_2)\n",
    "    \n",
    "    return iterador"
   ]
  },
  {
   "cell_type": "code",
   "execution_count": 25,
   "metadata": {
    "collapsed": true
   },
   "outputs": [],
   "source": [
    "def iterador_global_3(datos,paises,years,indicadores_1,indicadores_2,look_back):\n",
    "    \n",
    "    t_1 = tabla_2_base(datos,indicadores_1,look_back)\n",
    "    t_2 = tabla_base(paises,years,indicadores_2,datos)\n",
    "    \n",
    "    iterador = iter_R2_Splitter_v3(t_1,t_2)\n",
    "    \n",
    "    return iterador"
   ]
  },
  {
   "cell_type": "markdown",
   "metadata": {},
   "source": [
    "## Combinamos el Primer Conjunto de Indicadores"
   ]
  },
  {
   "cell_type": "markdown",
   "metadata": {},
   "source": [
    "Calculamos el % de indicadores cuyo porcentaje de predicción es mayor a 90% (Original | Imputado)"
   ]
  },
  {
   "cell_type": "code",
   "execution_count": 47,
   "metadata": {
    "collapsed": false
   },
   "outputs": [
    {
     "name": "stdout",
     "output_type": "stream",
     "text": [
      "--- 865.131000042 seconds ---\n"
     ]
    },
    {
     "data": {
      "text/html": [
       "<div>\n",
       "<table border=\"1\" class=\"dataframe\">\n",
       "  <thead>\n",
       "    <tr style=\"text-align: right;\">\n",
       "      <th></th>\n",
       "      <th>Base</th>\n",
       "      <th>Target</th>\n",
       "      <th>% &gt; 90%</th>\n",
       "    </tr>\n",
       "  </thead>\n",
       "  <tbody>\n",
       "    <tr>\n",
       "      <th>0</th>\n",
       "      <td>Agricultura</td>\n",
       "      <td>Agricultura</td>\n",
       "      <td>0.409091</td>\n",
       "    </tr>\n",
       "    <tr>\n",
       "      <th>1</th>\n",
       "      <td>Agricultura</td>\n",
       "      <td>Economia</td>\n",
       "      <td>0.420635</td>\n",
       "    </tr>\n",
       "    <tr>\n",
       "      <th>2</th>\n",
       "      <td>Agricultura</td>\n",
       "      <td>Educacion</td>\n",
       "      <td>0.137931</td>\n",
       "    </tr>\n",
       "  </tbody>\n",
       "</table>\n",
       "</div>"
      ],
      "text/plain": [
       "          Base       Target   % > 90%\n",
       "0  Agricultura  Agricultura  0.409091\n",
       "1  Agricultura     Economia  0.420635\n",
       "2  Agricultura    Educacion  0.137931"
      ]
     },
     "execution_count": 47,
     "metadata": {},
     "output_type": "execute_result"
    }
   ],
   "source": [
    "start_time = time.time()\n",
    "\n",
    "resultado = []\n",
    "\n",
    "for i in range(len(conjunto)):\n",
    "    for j in range(1,look_back):\n",
    "        resultado.append([conjunto_nombre[0],conjunto_nombre[i],porcentaje(iterador_global_2(datos,paises,years,conjunto[0],conjunto[i],j))])\n",
    "    \n",
    "print(\"--- %s seconds ---\" % (time.time() - start_time))\n",
    "pd.DataFrame(resultado, columns=[\"Base\",\"Target\",\"% > 90%\"])"
   ]
  },
  {
   "cell_type": "code",
   "execution_count": 29,
   "metadata": {
    "collapsed": false
   },
   "outputs": [
    {
     "name": "stdout",
     "output_type": "stream",
     "text": [
      "[2012, 2011, 2010, 2009, 2008]\n"
     ]
    },
    {
     "name": "stderr",
     "output_type": "stream",
     "text": [
      "/home/ambigus9/anaconda2/lib/python2.7/site-packages/sklearn/cross_validation.py:44: DeprecationWarning: This module was deprecated in version 0.18 in favor of the model_selection module into which all the refactored classes and functions are moved. Also note that the interface of the new CV iterators are different from that of this module. This module will be removed in 0.20.\n",
      "  \"This module will be removed in 0.20.\", DeprecationWarning)\n",
      "/home/ambigus9/anaconda2/lib/python2.7/site-packages/sklearn/grid_search.py:43: DeprecationWarning: This module was deprecated in version 0.18 in favor of the model_selection module into which all the refactored classes and functions are moved. This module will be removed in 0.20.\n",
      "  DeprecationWarning)\n"
     ]
    },
    {
     "name": "stdout",
     "output_type": "stream",
     "text": [
      "[2012, 2011, 2010, 2009, 2008]\n",
      "[2011, 2010, 2009, 2008, 2007]\n",
      "[2012, 2011, 2010, 2009, 2008]\n",
      "[2012, 2011, 2010, 2009, 2008]\n",
      "[2011, 2010, 2009, 2008, 2007]\n",
      "[2012, 2011, 2010, 2009, 2008]\n",
      "[2012, 2011, 2010, 2009, 2008]\n",
      "[2011, 2010, 2009, 2008, 2007]\n",
      "--- 1558.73994493 seconds ---\n"
     ]
    },
    {
     "data": {
      "text/html": [
       "<div>\n",
       "<table border=\"1\" class=\"dataframe\">\n",
       "  <thead>\n",
       "    <tr>\n",
       "      <th></th>\n",
       "      <th></th>\n",
       "      <th colspan=\"2\" halign=\"left\">Result</th>\n",
       "    </tr>\n",
       "    <tr>\n",
       "      <th></th>\n",
       "      <th>Look</th>\n",
       "      <th>1</th>\n",
       "      <th>2</th>\n",
       "    </tr>\n",
       "    <tr>\n",
       "      <th>Base</th>\n",
       "      <th>Target</th>\n",
       "      <th></th>\n",
       "      <th></th>\n",
       "    </tr>\n",
       "  </thead>\n",
       "  <tbody>\n",
       "    <tr>\n",
       "      <th rowspan=\"3\" valign=\"top\">Agricultura</th>\n",
       "      <th>Agricultura</th>\n",
       "      <td>0.568182</td>\n",
       "      <td>0.477273</td>\n",
       "    </tr>\n",
       "    <tr>\n",
       "      <th>Economia</th>\n",
       "      <td>0.543651</td>\n",
       "      <td>0.456349</td>\n",
       "    </tr>\n",
       "    <tr>\n",
       "      <th>Educacion</th>\n",
       "      <td>0.094828</td>\n",
       "      <td>0.103448</td>\n",
       "    </tr>\n",
       "  </tbody>\n",
       "</table>\n",
       "</div>"
      ],
      "text/plain": [
       "                           Result          \n",
       "Look                            1         2\n",
       "Base        Target                         \n",
       "Agricultura Agricultura  0.568182  0.477273\n",
       "            Economia     0.543651  0.456349\n",
       "            Educacion    0.094828  0.103448"
      ]
     },
     "execution_count": 29,
     "metadata": {},
     "output_type": "execute_result"
    }
   ],
   "source": [
    "start_time = time.time()\n",
    "resultado = []\n",
    "\n",
    "for i in range(len(conjunto)):\n",
    "    for j in range(1,look_back):\n",
    "        resultado.append([conjunto_nombre[0],conjunto_nombre[i],j,porcentaje(iterador_global_2(datos,paises,years,conjunto[0],conjunto[i],j))])\n",
    "\n",
    "df = pd.DataFrame(resultado, columns=[\"Base\",\"Target\",\"Look\",\"Result\"])\n",
    "print(\"--- %s seconds ---\" % (time.time() - start_time))\n",
    "pd.DataFrame.pivot_table(df, index=[\"Base\",\"Target\"], columns=[\"Look\"] )"
   ]
  },
  {
   "cell_type": "code",
   "execution_count": 30,
   "metadata": {
    "collapsed": false
   },
   "outputs": [
    {
     "name": "stdout",
     "output_type": "stream",
     "text": [
      "[2012, 2011, 2010, 2009, 2008]\n"
     ]
    },
    {
     "data": {
      "text/html": [
       "<div>\n",
       "<table border=\"1\" class=\"dataframe\">\n",
       "  <thead>\n",
       "    <tr style=\"text-align: right;\">\n",
       "      <th></th>\n",
       "      <th>Original</th>\n",
       "      <th>Imputado</th>\n",
       "    </tr>\n",
       "  </thead>\n",
       "  <tbody>\n",
       "    <tr>\n",
       "      <th>0</th>\n",
       "      <td>0.282220</td>\n",
       "      <td>0.420847</td>\n",
       "    </tr>\n",
       "    <tr>\n",
       "      <th>1</th>\n",
       "      <td>0.311213</td>\n",
       "      <td>0.446862</td>\n",
       "    </tr>\n",
       "    <tr>\n",
       "      <th>2</th>\n",
       "      <td>0.151760</td>\n",
       "      <td>-0.025460</td>\n",
       "    </tr>\n",
       "    <tr>\n",
       "      <th>3</th>\n",
       "      <td>0.896926</td>\n",
       "      <td>0.500375</td>\n",
       "    </tr>\n",
       "    <tr>\n",
       "      <th>4</th>\n",
       "      <td>0.990514</td>\n",
       "      <td>0.880051</td>\n",
       "    </tr>\n",
       "    <tr>\n",
       "      <th>5</th>\n",
       "      <td>-0.025044</td>\n",
       "      <td>1.000000</td>\n",
       "    </tr>\n",
       "    <tr>\n",
       "      <th>6</th>\n",
       "      <td>1.000000</td>\n",
       "      <td>-0.060255</td>\n",
       "    </tr>\n",
       "    <tr>\n",
       "      <th>7</th>\n",
       "      <td>0.918108</td>\n",
       "      <td>0.562381</td>\n",
       "    </tr>\n",
       "    <tr>\n",
       "      <th>8</th>\n",
       "      <td>0.739472</td>\n",
       "      <td>0.919780</td>\n",
       "    </tr>\n",
       "    <tr>\n",
       "      <th>9</th>\n",
       "      <td>0.989774</td>\n",
       "      <td>-0.001318</td>\n",
       "    </tr>\n",
       "    <tr>\n",
       "      <th>10</th>\n",
       "      <td>0.369764</td>\n",
       "      <td>0.001497</td>\n",
       "    </tr>\n",
       "    <tr>\n",
       "      <th>11</th>\n",
       "      <td>0.894984</td>\n",
       "      <td>0.799933</td>\n",
       "    </tr>\n",
       "    <tr>\n",
       "      <th>12</th>\n",
       "      <td>0.538036</td>\n",
       "      <td>0.692574</td>\n",
       "    </tr>\n",
       "    <tr>\n",
       "      <th>13</th>\n",
       "      <td>0.729885</td>\n",
       "      <td>0.606757</td>\n",
       "    </tr>\n",
       "    <tr>\n",
       "      <th>14</th>\n",
       "      <td>0.821400</td>\n",
       "      <td>0.602622</td>\n",
       "    </tr>\n",
       "    <tr>\n",
       "      <th>15</th>\n",
       "      <td>0.768778</td>\n",
       "      <td>0.992153</td>\n",
       "    </tr>\n",
       "    <tr>\n",
       "      <th>16</th>\n",
       "      <td>0.427976</td>\n",
       "      <td>0.000000</td>\n",
       "    </tr>\n",
       "    <tr>\n",
       "      <th>17</th>\n",
       "      <td>0.718073</td>\n",
       "      <td>0.995756</td>\n",
       "    </tr>\n",
       "    <tr>\n",
       "      <th>18</th>\n",
       "      <td>0.846856</td>\n",
       "      <td>0.971022</td>\n",
       "    </tr>\n",
       "    <tr>\n",
       "      <th>19</th>\n",
       "      <td>0.999859</td>\n",
       "      <td>0.999462</td>\n",
       "    </tr>\n",
       "    <tr>\n",
       "      <th>20</th>\n",
       "      <td>0.482637</td>\n",
       "      <td>-0.022474</td>\n",
       "    </tr>\n",
       "    <tr>\n",
       "      <th>21</th>\n",
       "      <td>-0.642057</td>\n",
       "      <td>0.728582</td>\n",
       "    </tr>\n",
       "    <tr>\n",
       "      <th>22</th>\n",
       "      <td>0.908895</td>\n",
       "      <td>0.909053</td>\n",
       "    </tr>\n",
       "    <tr>\n",
       "      <th>23</th>\n",
       "      <td>0.765560</td>\n",
       "      <td>0.642838</td>\n",
       "    </tr>\n",
       "    <tr>\n",
       "      <th>24</th>\n",
       "      <td>0.879091</td>\n",
       "      <td>0.405248</td>\n",
       "    </tr>\n",
       "    <tr>\n",
       "      <th>25</th>\n",
       "      <td>0.479561</td>\n",
       "      <td>0.816903</td>\n",
       "    </tr>\n",
       "    <tr>\n",
       "      <th>26</th>\n",
       "      <td>0.603439</td>\n",
       "      <td>0.629740</td>\n",
       "    </tr>\n",
       "    <tr>\n",
       "      <th>27</th>\n",
       "      <td>0.889374</td>\n",
       "      <td>0.999696</td>\n",
       "    </tr>\n",
       "    <tr>\n",
       "      <th>28</th>\n",
       "      <td>0.575460</td>\n",
       "      <td>0.245981</td>\n",
       "    </tr>\n",
       "    <tr>\n",
       "      <th>29</th>\n",
       "      <td>0.665263</td>\n",
       "      <td>0.167114</td>\n",
       "    </tr>\n",
       "    <tr>\n",
       "      <th>30</th>\n",
       "      <td>0.992132</td>\n",
       "      <td>0.885496</td>\n",
       "    </tr>\n",
       "    <tr>\n",
       "      <th>31</th>\n",
       "      <td>0.781407</td>\n",
       "      <td>0.990316</td>\n",
       "    </tr>\n",
       "    <tr>\n",
       "      <th>32</th>\n",
       "      <td>0.557884</td>\n",
       "      <td>0.901962</td>\n",
       "    </tr>\n",
       "    <tr>\n",
       "      <th>33</th>\n",
       "      <td>0.990890</td>\n",
       "      <td>0.957186</td>\n",
       "    </tr>\n",
       "    <tr>\n",
       "      <th>34</th>\n",
       "      <td>0.824741</td>\n",
       "      <td>0.999495</td>\n",
       "    </tr>\n",
       "    <tr>\n",
       "      <th>35</th>\n",
       "      <td>0.957139</td>\n",
       "      <td>0.987322</td>\n",
       "    </tr>\n",
       "    <tr>\n",
       "      <th>36</th>\n",
       "      <td>0.942171</td>\n",
       "      <td>0.215727</td>\n",
       "    </tr>\n",
       "    <tr>\n",
       "      <th>37</th>\n",
       "      <td>0.994971</td>\n",
       "      <td>0.978969</td>\n",
       "    </tr>\n",
       "    <tr>\n",
       "      <th>38</th>\n",
       "      <td>0.900114</td>\n",
       "      <td>0.981721</td>\n",
       "    </tr>\n",
       "    <tr>\n",
       "      <th>39</th>\n",
       "      <td>0.649416</td>\n",
       "      <td>0.807725</td>\n",
       "    </tr>\n",
       "    <tr>\n",
       "      <th>40</th>\n",
       "      <td>0.522111</td>\n",
       "      <td>0.965931</td>\n",
       "    </tr>\n",
       "    <tr>\n",
       "      <th>41</th>\n",
       "      <td>0.997548</td>\n",
       "      <td>0.522071</td>\n",
       "    </tr>\n",
       "    <tr>\n",
       "      <th>42</th>\n",
       "      <td>0.846643</td>\n",
       "      <td>-0.109061</td>\n",
       "    </tr>\n",
       "    <tr>\n",
       "      <th>43</th>\n",
       "      <td>0.911134</td>\n",
       "      <td>0.766115</td>\n",
       "    </tr>\n",
       "  </tbody>\n",
       "</table>\n",
       "</div>"
      ],
      "text/plain": [
       "    Original  Imputado\n",
       "0   0.282220  0.420847\n",
       "1   0.311213  0.446862\n",
       "2   0.151760 -0.025460\n",
       "3   0.896926  0.500375\n",
       "4   0.990514  0.880051\n",
       "5  -0.025044  1.000000\n",
       "6   1.000000 -0.060255\n",
       "7   0.918108  0.562381\n",
       "8   0.739472  0.919780\n",
       "9   0.989774 -0.001318\n",
       "10  0.369764  0.001497\n",
       "11  0.894984  0.799933\n",
       "12  0.538036  0.692574\n",
       "13  0.729885  0.606757\n",
       "14  0.821400  0.602622\n",
       "15  0.768778  0.992153\n",
       "16  0.427976  0.000000\n",
       "17  0.718073  0.995756\n",
       "18  0.846856  0.971022\n",
       "19  0.999859  0.999462\n",
       "20  0.482637 -0.022474\n",
       "21 -0.642057  0.728582\n",
       "22  0.908895  0.909053\n",
       "23  0.765560  0.642838\n",
       "24  0.879091  0.405248\n",
       "25  0.479561  0.816903\n",
       "26  0.603439  0.629740\n",
       "27  0.889374  0.999696\n",
       "28  0.575460  0.245981\n",
       "29  0.665263  0.167114\n",
       "30  0.992132  0.885496\n",
       "31  0.781407  0.990316\n",
       "32  0.557884  0.901962\n",
       "33  0.990890  0.957186\n",
       "34  0.824741  0.999495\n",
       "35  0.957139  0.987322\n",
       "36  0.942171  0.215727\n",
       "37  0.994971  0.978969\n",
       "38  0.900114  0.981721\n",
       "39  0.649416  0.807725\n",
       "40  0.522111  0.965931\n",
       "41  0.997548  0.522071\n",
       "42  0.846643 -0.109061\n",
       "43  0.911134  0.766115"
      ]
     },
     "execution_count": 30,
     "metadata": {},
     "output_type": "execute_result"
    }
   ],
   "source": [
    "iterador_global_2(datos,paises,years,conjunto[0],conjunto[0],1)"
   ]
  },
  {
   "cell_type": "code",
   "execution_count": 26,
   "metadata": {
    "collapsed": true
   },
   "outputs": [],
   "source": [
    "def porcentaje_2(valor):\n",
    "    x=0.0\n",
    "    for i in np.array(valor):\n",
    "        ## Calculamos el % de indicadores cuyo porcentaje de predicción es mayor a 90% (Original | Imputado)\n",
    "        if (i[0] > 0.9 or i[1] > 0.9):\n",
    "            x=x+1\n",
    "    return x/len(valor)"
   ]
  },
  {
   "cell_type": "code",
   "execution_count": 27,
   "metadata": {
    "collapsed": false
   },
   "outputs": [
    {
     "name": "stdout",
     "output_type": "stream",
     "text": [
      "[2012, 2011, 2010, 2009, 2008]\n"
     ]
    },
    {
     "data": {
      "text/plain": [
       "0.5909090909090909"
      ]
     },
     "execution_count": 27,
     "metadata": {},
     "output_type": "execute_result"
    }
   ],
   "source": [
    "df2 = iterador_global_2(datos,paises,years,conjunto[0],conjunto[0],1)\n",
    "porcentaje_2(df2)"
   ]
  },
  {
   "cell_type": "code",
   "execution_count": 28,
   "metadata": {
    "collapsed": false
   },
   "outputs": [
    {
     "name": "stdout",
     "output_type": "stream",
     "text": [
      "3 AG.LND.AGRI.ZS [ 0.97683599  0.90692466]\n",
      "5 AG.AGR.TRAC.NO [ -1.25441252e+03   1.00000000e+00]\n",
      "7 EN.ATM.METH.AG.ZS [ 0.95409075  0.78913024]\n",
      "9 EN.ATM.NOXE.AG.ZS [ 0.94221768  0.54501005]\n",
      "13 EA.PRD.AGRI.KD [ 0.85394412  0.9897062 ]\n",
      "14 NV.AGR.TOTL.ZS [ 0.9361173   0.90369685]\n",
      "15 NV.AGR.TOTL.CD [ 0.83218591  0.96018911]\n",
      "17 AG.LND.ARBL.ZS [ 0.96398647  0.99567916]\n",
      "18 AG.LND.ARBL.HA.PC [ 0.9882114   0.99276372]\n",
      "19 AG.LND.ARBL.HA [ 0.99948888  0.83069509]\n",
      "21 AG.PRD.CREL.MT [-0.0657061  0.9134043]\n",
      "22 AG.YLD.CREL.KG [ 0.90657998  0.52807504]\n",
      "23 AG.PRD.CROP.XD [ 0.92503624 -2.67900344]\n",
      "26 SL.AGR.EMPL.MA.ZS [-0.47980234  0.92320574]\n",
      "27 AG.CON.FERT.PT.ZS [ 0.98929026  0.67023175]\n",
      "29 AG.PRD.FOOD.XD [ 0.9495774   0.58357568]\n",
      "30 AG.LND.FRST.ZS [ 0.97719158  0.95194345]\n",
      "31 AG.LND.FRST.K2 [ 0.98301263  0.98767814]\n",
      "33 SH.H2O.SAFE.RU.ZS [ 0.99592853  0.95635097]\n",
      "34 AG.LND.TOTL.K2 [ 0.97054162  0.98787982]\n",
      "36 AG.PRD.LVSK.XD [ 0.92167391  0.59682392]\n",
      "37 AG.LND.CROP.ZS [ 0.99874409  0.82364524]\n",
      "38 AG.LND.TOTL.RU.K2 [ 0.503934    0.95734489]\n",
      "40 AG.LND.EL5M.RU.K2 [ 0.99214617  0.94638741]\n",
      "41 SP.RUR.TOTL [ 0.99323358  0.53554358]\n",
      "43 SP.RUR.TOTL.ZG [ 0.95908876  0.84952948]\n",
      "Temp 26\n"
     ]
    },
    {
     "data": {
      "text/plain": [
       "['AG.LND.AGRI.ZS',\n",
       " 'AG.AGR.TRAC.NO',\n",
       " 'EN.ATM.METH.AG.ZS',\n",
       " 'EN.ATM.NOXE.AG.ZS',\n",
       " 'EA.PRD.AGRI.KD',\n",
       " 'NV.AGR.TOTL.ZS',\n",
       " 'NV.AGR.TOTL.CD',\n",
       " 'AG.LND.ARBL.ZS',\n",
       " 'AG.LND.ARBL.HA.PC',\n",
       " 'AG.LND.ARBL.HA',\n",
       " 'AG.PRD.CREL.MT',\n",
       " 'AG.YLD.CREL.KG',\n",
       " 'AG.PRD.CROP.XD',\n",
       " 'SL.AGR.EMPL.MA.ZS',\n",
       " 'AG.CON.FERT.PT.ZS',\n",
       " 'AG.PRD.FOOD.XD',\n",
       " 'AG.LND.FRST.ZS',\n",
       " 'AG.LND.FRST.K2',\n",
       " 'SH.H2O.SAFE.RU.ZS',\n",
       " 'AG.LND.TOTL.K2',\n",
       " 'AG.PRD.LVSK.XD',\n",
       " 'AG.LND.CROP.ZS',\n",
       " 'AG.LND.TOTL.RU.K2',\n",
       " 'AG.LND.EL5M.RU.K2',\n",
       " 'SP.RUR.TOTL',\n",
       " 'SP.RUR.TOTL.ZG']"
      ]
     },
     "execution_count": 28,
     "metadata": {},
     "output_type": "execute_result"
    }
   ],
   "source": [
    "df_temp = np.array(df2)\n",
    "temp = []\n",
    "for i in range(len(df_temp)):\n",
    "    if (df_temp[i][0] > 0.9 or df_temp[i][1] > 0.9):\n",
    "        print i,agricultura[i],df_temp[i]\n",
    "        temp.append(agricultura[i])\n",
    "print \"Temp\", len(temp)\n",
    "temp"
   ]
  },
  {
   "cell_type": "code",
   "execution_count": 29,
   "metadata": {
    "collapsed": false
   },
   "outputs": [
    {
     "name": "stdout",
     "output_type": "stream",
     "text": [
      "24\n"
     ]
    },
    {
     "data": {
      "text/html": [
       "<div>\n",
       "<table border=\"1\" class=\"dataframe\">\n",
       "  <thead>\n",
       "    <tr style=\"text-align: right;\">\n",
       "      <th></th>\n",
       "      <th>IndicatorName</th>\n",
       "    </tr>\n",
       "    <tr>\n",
       "      <th>IndicatorCode</th>\n",
       "      <th></th>\n",
       "    </tr>\n",
       "  </thead>\n",
       "  <tbody>\n",
       "    <tr>\n",
       "      <th>AG.LND.AGRI.ZS</th>\n",
       "      <td>Agricultural land (% of land area)</td>\n",
       "    </tr>\n",
       "    <tr>\n",
       "      <th>AG.AGR.TRAC.NO</th>\n",
       "      <td>Agricultural machinery, tractors</td>\n",
       "    </tr>\n",
       "    <tr>\n",
       "      <th>EN.ATM.METH.AG.ZS</th>\n",
       "      <td>Agricultural methane emissions (% of total)</td>\n",
       "    </tr>\n",
       "    <tr>\n",
       "      <th>EN.ATM.NOXE.AG.ZS</th>\n",
       "      <td>Agricultural nitrous oxide emissions (% of total)</td>\n",
       "    </tr>\n",
       "    <tr>\n",
       "      <th>EA.PRD.AGRI.KD</th>\n",
       "      <td>Agriculture value added per worker (constant 2...</td>\n",
       "    </tr>\n",
       "    <tr>\n",
       "      <th>NV.AGR.TOTL.ZS</th>\n",
       "      <td>Agriculture, value added (% of GDP)</td>\n",
       "    </tr>\n",
       "    <tr>\n",
       "      <th>NV.AGR.TOTL.CD</th>\n",
       "      <td>Agriculture, value added (current US$)</td>\n",
       "    </tr>\n",
       "    <tr>\n",
       "      <th>AG.LND.ARBL.ZS</th>\n",
       "      <td>Arable land (% of land area)</td>\n",
       "    </tr>\n",
       "    <tr>\n",
       "      <th>AG.LND.ARBL.HA.PC</th>\n",
       "      <td>Arable land (hectares per person)</td>\n",
       "    </tr>\n",
       "    <tr>\n",
       "      <th>AG.LND.ARBL.HA</th>\n",
       "      <td>Arable land (hectares)</td>\n",
       "    </tr>\n",
       "    <tr>\n",
       "      <th>AG.PRD.CREL.MT</th>\n",
       "      <td>Cereal production (metric tons)</td>\n",
       "    </tr>\n",
       "    <tr>\n",
       "      <th>AG.YLD.CREL.KG</th>\n",
       "      <td>Cereal yield (kg per hectare)</td>\n",
       "    </tr>\n",
       "    <tr>\n",
       "      <th>AG.PRD.CROP.XD</th>\n",
       "      <td>Crop production index (2004-2006 = 100)</td>\n",
       "    </tr>\n",
       "    <tr>\n",
       "      <th>SL.AGR.EMPL.MA.ZS</th>\n",
       "      <td>Employment in agriculture, male (% of male emp...</td>\n",
       "    </tr>\n",
       "    <tr>\n",
       "      <th>AG.CON.FERT.PT.ZS</th>\n",
       "      <td>Fertilizer consumption (% of fertilizer produc...</td>\n",
       "    </tr>\n",
       "    <tr>\n",
       "      <th>AG.PRD.FOOD.XD</th>\n",
       "      <td>Food production index (2004-2006 = 100)</td>\n",
       "    </tr>\n",
       "    <tr>\n",
       "      <th>AG.LND.FRST.ZS</th>\n",
       "      <td>Forest area (% of land area)</td>\n",
       "    </tr>\n",
       "    <tr>\n",
       "      <th>AG.LND.FRST.K2</th>\n",
       "      <td>Forest area (sq. km)</td>\n",
       "    </tr>\n",
       "    <tr>\n",
       "      <th>SH.H2O.SAFE.RU.ZS</th>\n",
       "      <td>Improved water source, rural (% of rural popul...</td>\n",
       "    </tr>\n",
       "    <tr>\n",
       "      <th>AG.LND.TOTL.K2</th>\n",
       "      <td>Land area (sq. km)</td>\n",
       "    </tr>\n",
       "    <tr>\n",
       "      <th>AG.PRD.LVSK.XD</th>\n",
       "      <td>Livestock production index (2004-2006 = 100)</td>\n",
       "    </tr>\n",
       "    <tr>\n",
       "      <th>AG.LND.CROP.ZS</th>\n",
       "      <td>Permanent cropland (% of land area)</td>\n",
       "    </tr>\n",
       "    <tr>\n",
       "      <th>SP.RUR.TOTL</th>\n",
       "      <td>Rural population</td>\n",
       "    </tr>\n",
       "    <tr>\n",
       "      <th>SP.RUR.TOTL.ZG</th>\n",
       "      <td>Rural population growth (annual %)</td>\n",
       "    </tr>\n",
       "  </tbody>\n",
       "</table>\n",
       "</div>"
      ],
      "text/plain": [
       "                                                       IndicatorName\n",
       "IndicatorCode                                                       \n",
       "AG.LND.AGRI.ZS                    Agricultural land (% of land area)\n",
       "AG.AGR.TRAC.NO                      Agricultural machinery, tractors\n",
       "EN.ATM.METH.AG.ZS        Agricultural methane emissions (% of total)\n",
       "EN.ATM.NOXE.AG.ZS  Agricultural nitrous oxide emissions (% of total)\n",
       "EA.PRD.AGRI.KD     Agriculture value added per worker (constant 2...\n",
       "NV.AGR.TOTL.ZS                   Agriculture, value added (% of GDP)\n",
       "NV.AGR.TOTL.CD                Agriculture, value added (current US$)\n",
       "AG.LND.ARBL.ZS                          Arable land (% of land area)\n",
       "AG.LND.ARBL.HA.PC                  Arable land (hectares per person)\n",
       "AG.LND.ARBL.HA                                Arable land (hectares)\n",
       "AG.PRD.CREL.MT                       Cereal production (metric tons)\n",
       "AG.YLD.CREL.KG                         Cereal yield (kg per hectare)\n",
       "AG.PRD.CROP.XD               Crop production index (2004-2006 = 100)\n",
       "SL.AGR.EMPL.MA.ZS  Employment in agriculture, male (% of male emp...\n",
       "AG.CON.FERT.PT.ZS  Fertilizer consumption (% of fertilizer produc...\n",
       "AG.PRD.FOOD.XD               Food production index (2004-2006 = 100)\n",
       "AG.LND.FRST.ZS                          Forest area (% of land area)\n",
       "AG.LND.FRST.K2                                  Forest area (sq. km)\n",
       "SH.H2O.SAFE.RU.ZS  Improved water source, rural (% of rural popul...\n",
       "AG.LND.TOTL.K2                                    Land area (sq. km)\n",
       "AG.PRD.LVSK.XD          Livestock production index (2004-2006 = 100)\n",
       "AG.LND.CROP.ZS                   Permanent cropland (% of land area)\n",
       "SP.RUR.TOTL                                         Rural population\n",
       "SP.RUR.TOTL.ZG                    Rural population growth (annual %)"
      ]
     },
     "execution_count": 29,
     "metadata": {},
     "output_type": "execute_result"
    }
   ],
   "source": [
    "df5 = pd.DataFrame(datos).loc[:,['IndicatorName','IndicatorCode']].set_index('IndicatorCode').loc[temp].drop_duplicates().dropna()\n",
    "print len(df5)\n",
    "df5"
   ]
  },
  {
   "cell_type": "code",
   "execution_count": 30,
   "metadata": {
    "collapsed": true
   },
   "outputs": [],
   "source": [
    "def nombres(df):\n",
    "    df_temp = np.array(df)\n",
    "    temp = []\n",
    "    for i in range(len(df_temp)):\n",
    "        if (df_temp[i][0] > 0.9 or df_temp[i][1] > 0.9):\n",
    "            temp.append(agricultura[i])\n",
    "    result = pd.DataFrame(datos).loc[:,['IndicatorName','IndicatorCode']].set_index('IndicatorCode').loc[temp].drop_duplicates().dropna()\n",
    "    return result"
   ]
  },
  {
   "cell_type": "code",
   "execution_count": 56,
   "metadata": {
    "collapsed": false
   },
   "outputs": [
    {
     "name": "stdout",
     "output_type": "stream",
     "text": [
      "3 [ 0.96281246  0.91801867]\n",
      "4 [ 0.99827317  0.65932948]\n",
      "6 [ 1.         -3.59909043]\n",
      "7 [  9.39471582e-01  -1.95484881e-04]\n",
      "9 [ 0.98683735  0.26590913]\n",
      "13 [ 0.98494714  0.69165796]\n",
      "14 [ 0.88493949  0.92810942]\n",
      "15 [ 0.8210084   0.94981677]\n",
      "17 [ 0.98302675  0.98733825]\n",
      "18 [ 0.95734822  0.93283518]\n",
      "19 [-0.48489297  0.9982522 ]\n",
      "21 [ 0.99121756  0.98884023]\n",
      "22 [ 0.95221988  0.7917433 ]\n",
      "23 [ 0.90705123 -1.38426453]\n",
      "29 [ 0.90189     0.82879217]\n",
      "30 [ 0.99233193  0.98845614]\n",
      "31 [ 0.99369678  0.9770651 ]\n",
      "32 [ 0.94963199  0.94185564]\n",
      "33 [ 0.98572866  0.89643787]\n",
      "34 [ 0.93168476  0.98871748]\n",
      "36 [ 0.88860662  0.90501043]\n",
      "37 [ 0.99951929  0.51961514]\n",
      "38 [ 0.90264167  0.46234765]\n",
      "39 [ 0.93911052  0.95513802]\n",
      "40 [ 0.80705849  0.9839297 ]\n",
      "43 [ 0.99979056  0.72349134]\n"
     ]
    }
   ],
   "source": [
    "df_temp = np.array(df2)\n",
    "for i in range(len(df_temp)):\n",
    "    if (df_temp[i][0] > 0.9 or df_temp[i][1] > 0.9):\n",
    "        print i,df_temp[i]"
   ]
  },
  {
   "cell_type": "code",
   "execution_count": 55,
   "metadata": {
    "collapsed": false
   },
   "outputs": [
    {
     "name": "stdout",
     "output_type": "stream",
     "text": [
      "[2012, 2011, 2010, 2009, 2008]\n"
     ]
    },
    {
     "data": {
      "text/plain": [
       "0.5909090909090909"
      ]
     },
     "execution_count": 55,
     "metadata": {},
     "output_type": "execute_result"
    }
   ],
   "source": [
    "df2 = iterador_global_2(datos,paises,years,conjunto[0],conjunto[0],1)\n",
    "porcentaje_2(df2)"
   ]
  },
  {
   "cell_type": "code",
   "execution_count": 31,
   "metadata": {
    "collapsed": false
   },
   "outputs": [
    {
     "data": {
      "text/html": [
       "<div>\n",
       "<table border=\"1\" class=\"dataframe\">\n",
       "  <thead>\n",
       "    <tr style=\"text-align: right;\">\n",
       "      <th></th>\n",
       "      <th>Base</th>\n",
       "      <th>Target</th>\n",
       "      <th>Look</th>\n",
       "      <th>Result</th>\n",
       "    </tr>\n",
       "  </thead>\n",
       "  <tbody>\n",
       "    <tr>\n",
       "      <th>0</th>\n",
       "      <td>Agricultura</td>\n",
       "      <td>Agricultura</td>\n",
       "      <td>1</td>\n",
       "      <td>0.568182</td>\n",
       "    </tr>\n",
       "    <tr>\n",
       "      <th>1</th>\n",
       "      <td>Agricultura</td>\n",
       "      <td>Agricultura</td>\n",
       "      <td>2</td>\n",
       "      <td>0.477273</td>\n",
       "    </tr>\n",
       "    <tr>\n",
       "      <th>2</th>\n",
       "      <td>Agricultura</td>\n",
       "      <td>Economia</td>\n",
       "      <td>1</td>\n",
       "      <td>0.543651</td>\n",
       "    </tr>\n",
       "    <tr>\n",
       "      <th>3</th>\n",
       "      <td>Agricultura</td>\n",
       "      <td>Economia</td>\n",
       "      <td>2</td>\n",
       "      <td>0.456349</td>\n",
       "    </tr>\n",
       "    <tr>\n",
       "      <th>4</th>\n",
       "      <td>Agricultura</td>\n",
       "      <td>Educacion</td>\n",
       "      <td>1</td>\n",
       "      <td>0.094828</td>\n",
       "    </tr>\n",
       "    <tr>\n",
       "      <th>5</th>\n",
       "      <td>Agricultura</td>\n",
       "      <td>Educacion</td>\n",
       "      <td>2</td>\n",
       "      <td>0.103448</td>\n",
       "    </tr>\n",
       "  </tbody>\n",
       "</table>\n",
       "</div>"
      ],
      "text/plain": [
       "          Base       Target  Look    Result\n",
       "0  Agricultura  Agricultura     1  0.568182\n",
       "1  Agricultura  Agricultura     2  0.477273\n",
       "2  Agricultura     Economia     1  0.543651\n",
       "3  Agricultura     Economia     2  0.456349\n",
       "4  Agricultura    Educacion     1  0.094828\n",
       "5  Agricultura    Educacion     2  0.103448"
      ]
     },
     "execution_count": 31,
     "metadata": {},
     "output_type": "execute_result"
    }
   ],
   "source": [
    "df"
   ]
  },
  {
   "cell_type": "markdown",
   "metadata": {},
   "source": [
    "## Iteramos todas las Combinaciones Posibles de los Conjuntos de Indicadores datos"
   ]
  },
  {
   "cell_type": "code",
   "execution_count": 52,
   "metadata": {
    "collapsed": false
   },
   "outputs": [
    {
     "name": "stdout",
     "output_type": "stream",
     "text": [
      "--- 5470.90799999 seconds ---\n"
     ]
    },
    {
     "data": {
      "text/html": [
       "<div>\n",
       "<table border=\"1\" class=\"dataframe\">\n",
       "  <thead>\n",
       "    <tr style=\"text-align: right;\">\n",
       "      <th></th>\n",
       "      <th>Base</th>\n",
       "      <th>Target</th>\n",
       "      <th>% &gt; 90%</th>\n",
       "    </tr>\n",
       "  </thead>\n",
       "  <tbody>\n",
       "    <tr>\n",
       "      <th>0</th>\n",
       "      <td>Agricultura</td>\n",
       "      <td>Agricultura</td>\n",
       "      <td>0.522727</td>\n",
       "    </tr>\n",
       "    <tr>\n",
       "      <th>1</th>\n",
       "      <td>Agricultura</td>\n",
       "      <td>Economia</td>\n",
       "      <td>0.412698</td>\n",
       "    </tr>\n",
       "    <tr>\n",
       "      <th>2</th>\n",
       "      <td>Agricultura</td>\n",
       "      <td>Educacion</td>\n",
       "      <td>0.112069</td>\n",
       "    </tr>\n",
       "    <tr>\n",
       "      <th>3</th>\n",
       "      <td>Economia</td>\n",
       "      <td>Agricultura</td>\n",
       "      <td>0.113636</td>\n",
       "    </tr>\n",
       "    <tr>\n",
       "      <th>4</th>\n",
       "      <td>Economia</td>\n",
       "      <td>Economia</td>\n",
       "      <td>0.428571</td>\n",
       "    </tr>\n",
       "    <tr>\n",
       "      <th>5</th>\n",
       "      <td>Economia</td>\n",
       "      <td>Educacion</td>\n",
       "      <td>0.086207</td>\n",
       "    </tr>\n",
       "    <tr>\n",
       "      <th>6</th>\n",
       "      <td>Educacion</td>\n",
       "      <td>Agricultura</td>\n",
       "      <td>0.159091</td>\n",
       "    </tr>\n",
       "    <tr>\n",
       "      <th>7</th>\n",
       "      <td>Educacion</td>\n",
       "      <td>Economia</td>\n",
       "      <td>0.230159</td>\n",
       "    </tr>\n",
       "    <tr>\n",
       "      <th>8</th>\n",
       "      <td>Educacion</td>\n",
       "      <td>Educacion</td>\n",
       "      <td>0.284483</td>\n",
       "    </tr>\n",
       "  </tbody>\n",
       "</table>\n",
       "</div>"
      ],
      "text/plain": [
       "          Base       Target   % > 90%\n",
       "0  Agricultura  Agricultura  0.522727\n",
       "1  Agricultura     Economia  0.412698\n",
       "2  Agricultura    Educacion  0.112069\n",
       "3     Economia  Agricultura  0.113636\n",
       "4     Economia     Economia  0.428571\n",
       "5     Economia    Educacion  0.086207\n",
       "6    Educacion  Agricultura  0.159091\n",
       "7    Educacion     Economia  0.230159\n",
       "8    Educacion    Educacion  0.284483"
      ]
     },
     "execution_count": 52,
     "metadata": {},
     "output_type": "execute_result"
    }
   ],
   "source": [
    "start_time = time.time()\n",
    "\n",
    "resultado = []\n",
    "for i in range(len(conjunto)):\n",
    "    for j in range(len(conjunto)):\n",
    "        resultado.append([conjunto_nombre[i],conjunto_nombre[j],porcentaje(iterador_global_2(datos,paises,years,conjunto[i],conjunto[j],look_back))])\n",
    "        \n",
    "print(\"--- %s seconds ---\" % (time.time() - start_time))\n",
    "pd.DataFrame(resultado, columns=[\"Base\",\"Target\",\"% > 90%\"])"
   ]
  }
 ],
 "metadata": {
  "anaconda-cloud": {},
  "kernelspec": {
   "display_name": "Python 2",
   "language": "python",
   "name": "python2"
  },
  "language_info": {
   "codemirror_mode": {
    "name": "ipython",
    "version": 2
   },
   "file_extension": ".py",
   "mimetype": "text/x-python",
   "name": "python",
   "nbconvert_exporter": "python",
   "pygments_lexer": "ipython2",
   "version": "2.7.13"
  }
 },
 "nbformat": 4,
 "nbformat_minor": 1
}
