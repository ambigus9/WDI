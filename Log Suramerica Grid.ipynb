{
 "cells": [
  {
   "cell_type": "code",
   "execution_count": 1,
   "metadata": {
    "collapsed": false
   },
   "outputs": [
    {
     "data": {
      "text/html": [
       "<div>\n",
       "<table border=\"1\" class=\"dataframe\">\n",
       "  <thead>\n",
       "    <tr style=\"text-align: right;\">\n",
       "      <th></th>\n",
       "      <th>Base</th>\n",
       "      <th>Target</th>\n",
       "      <th>Look Back</th>\n",
       "      <th>Reg</th>\n",
       "      <th>%</th>\n",
       "      <th>Time</th>\n",
       "      <th>Results</th>\n",
       "    </tr>\n",
       "  </thead>\n",
       "  <tbody>\n",
       "    <tr>\n",
       "      <th>0</th>\n",
       "      <td>Agricultura</td>\n",
       "      <td>Agricultura</td>\n",
       "      <td>1</td>\n",
       "      <td>48</td>\n",
       "      <td>0.685095</td>\n",
       "      <td>1919.799909</td>\n",
       "      <td>[[ 0.53274048]\\n [ 0.8863962 ]\\n [ 0.41831165]...</td>\n",
       "    </tr>\n",
       "  </tbody>\n",
       "</table>\n",
       "</div>"
      ],
      "text/plain": [
       "          Base       Target  Look Back  Reg         %         Time  \\\n",
       "0  Agricultura  Agricultura          1   48  0.685095  1919.799909   \n",
       "\n",
       "                                             Results  \n",
       "0  [[ 0.53274048]\\n [ 0.8863962 ]\\n [ 0.41831165]...  "
      ]
     },
     "execution_count": 1,
     "metadata": {},
     "output_type": "execute_result"
    }
   ],
   "source": [
    "import pandas as pd\n",
    "\n",
    "pd.read_csv(\"suramerica_grid_log.csv\").drop('Unnamed: 0', 1)"
   ]
  },
  {
   "cell_type": "code",
   "execution_count": null,
   "metadata": {
    "collapsed": true
   },
   "outputs": [],
   "source": []
  }
 ],
 "metadata": {
  "kernelspec": {
   "display_name": "Python 2",
   "language": "python",
   "name": "python2"
  },
  "language_info": {
   "codemirror_mode": {
    "name": "ipython",
    "version": 2
   },
   "file_extension": ".py",
   "mimetype": "text/x-python",
   "name": "python",
   "nbconvert_exporter": "python",
   "pygments_lexer": "ipython2",
   "version": "2.7.13"
  }
 },
 "nbformat": 4,
 "nbformat_minor": 2
}
