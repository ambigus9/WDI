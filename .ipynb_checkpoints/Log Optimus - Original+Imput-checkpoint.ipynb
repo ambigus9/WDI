{
 "cells": [
  {
   "cell_type": "code",
   "execution_count": 16,
   "metadata": {
    "collapsed": false
   },
   "outputs": [
    {
     "data": {
      "text/html": [
       "<div>\n",
       "<table border=\"1\" class=\"dataframe\">\n",
       "  <thead>\n",
       "    <tr style=\"text-align: right;\">\n",
       "      <th></th>\n",
       "      <th>Base</th>\n",
       "      <th>Target</th>\n",
       "      <th>Look Back</th>\n",
       "      <th>%</th>\n",
       "      <th>Time</th>\n",
       "      <th>Indicators &gt;90%</th>\n",
       "    </tr>\n",
       "  </thead>\n",
       "  <tbody>\n",
       "    <tr>\n",
       "      <th>0</th>\n",
       "      <td>Agricultura</td>\n",
       "      <td>Agricultura</td>\n",
       "      <td>1</td>\n",
       "      <td>0.590909</td>\n",
       "      <td>606.989</td>\n",
       "      <td>Indica...</td>\n",
       "    </tr>\n",
       "  </tbody>\n",
       "</table>\n",
       "</div>"
      ],
      "text/plain": [
       "          Base       Target  Look Back         %     Time  \\\n",
       "0  Agricultura  Agricultura          1  0.590909  606.989   \n",
       "\n",
       "                                     Indicators >90%  \n",
       "0                                          Indica...  "
      ]
     },
     "execution_count": 16,
     "metadata": {},
     "output_type": "execute_result"
    }
   ],
   "source": [
    "import pandas as pd\n",
    "\n",
    "log = pd.read_csv(\"log.csv\").drop('Unnamed: 0', 1)\n",
    "log"
   ]
  }
 ],
 "metadata": {
  "kernelspec": {
   "display_name": "Python 2",
   "language": "python",
   "name": "python2"
  },
  "language_info": {
   "codemirror_mode": {
    "name": "ipython",
    "version": 2
   },
   "file_extension": ".py",
   "mimetype": "text/x-python",
   "name": "python",
   "nbconvert_exporter": "python",
   "pygments_lexer": "ipython2",
   "version": "2.7.13"
  }
 },
 "nbformat": 4,
 "nbformat_minor": 2
}
