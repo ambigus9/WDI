{
 "cells": [
  {
   "cell_type": "markdown",
   "metadata": {},
   "source": [
    "# Surameria Results"
   ]
  },
  {
   "cell_type": "markdown",
   "metadata": {},
   "source": [
    "Cargamos los resultados de iterar todos los conjuntos de indicadores"
   ]
  },
  {
   "cell_type": "code",
   "execution_count": 1,
   "metadata": {
    "collapsed": false
   },
   "outputs": [],
   "source": [
    "import pandas as pd\n",
    "import numpy as np\n",
    "import time\n",
    "import plotly.plotly as py\n",
    "import plotly.graph_objs as go\n",
    "\n",
    "datos = pd.read_csv(\"suramerica.csv\").drop('Unnamed: 0', 1)\n",
    "paises = datos['CountryCode'].drop_duplicates().values.tolist()\n",
    "pais_nombre = 'Suramerica'\n",
    "\n",
    "preprocessing = 'imput'\n",
    "year_init = 2012\n",
    "year_range = 5\n",
    "look_back = 3\n",
    "years = range(year_init-year_range+1,year_init+1)[::-1]\n",
    "\n",
    "agricultura     = open(\"Indicadores/iagricultura.txt\").read().split(',')\n",
    "ambiente        = open(\"Indicadores/iambiente.txt\").read().split(',')\n",
    "ayuda           = open(\"Indicadores/iayuda.txt\").read().split(',')\n",
    "ciencia         = open(\"Indicadores/iciencia.txt\").read().split(',')\n",
    "clima           = open(\"Indicadores/iclima.txt\").read().split(',')\n",
    "comercio        = open(\"Indicadores/icomercio.txt\").read().split(',')\n",
    "deuda           = open(\"Indicadores/ideuda.txt\").read().split(',')\n",
    "economia        = open(\"Indicadores/ieconomia.txt\").read().split(',')\n",
    "educacion       = open(\"Indicadores/ieducacion.txt\").read().split(',')\n",
    "energia         = open(\"Indicadores/ienergia.txt\").read().split(',')\n",
    "finanzas        = open(\"Indicadores/ifinanzas.txt\").read().split(',')\n",
    "genero          = open(\"Indicadores/igenero.txt\").read().split(',')\n",
    "infraestructura = open(\"Indicadores/iinfraestructura.txt\").read().split(',')\n",
    "pobreza         = open(\"Indicadores/ipobreza.txt\").read().split(',')\n",
    "privado         = open(\"Indicadores/iprivado.txt\").read().split(',')\n",
    "publico         = open(\"Indicadores/ipublico.txt\").read().split(',')\n",
    "salud           = open(\"Indicadores/isalud.txt\").read().split(',')\n",
    "social          = open(\"Indicadores/isocial.txt\").read().split(',')\n",
    "trabajo         = open(\"Indicadores/itrabajo.txt\").read().split(',')\n",
    "urbano          = open(\"Indicadores/iurbano.txt\").read().split(',')\n",
    "\n",
    "\n",
    "conjunto_nombre = ['Agricultura','Ambiente','Ayuda','Ciencia','Clima','Comercio','Deuda','Economia','Educacion',\n",
    "                   'Energia','Finanzas','Genero','Infraestructura','Pobreza','Privado','Publico','Salud','Social',\n",
    "                   'Trabajo','Urbano']\n",
    "conjunto = [agricultura,ambiente,ayuda,ciencia,clima,comercio,deuda,economia,educacion,energia,finanzas,genero,\n",
    "            infraestructura,pobreza,privado,publico,salud,social,trabajo,urbano]"
   ]
  },
  {
   "cell_type": "code",
   "execution_count": 2,
   "metadata": {
    "collapsed": true
   },
   "outputs": [],
   "source": [
    "def tabla_base(indicadores):\n",
    "    tab = pd.DataFrame.pivot_table(datos, values='Value', index=['CountryCode', 'Year'], columns=['IndicatorCode']).loc[(paises,years),indicadores].sortlevel([\"CountryCode\",\"Year\"], ascending=[True,False])\n",
    "    return tab"
   ]
  },
  {
   "cell_type": "code",
   "execution_count": 3,
   "metadata": {
    "collapsed": true
   },
   "outputs": [],
   "source": [
    "def buscar_mejores(df):\n",
    "    return df[df.Resultados > 0.9].reset_index(drop=True)"
   ]
  },
  {
   "cell_type": "code",
   "execution_count": 4,
   "metadata": {
    "collapsed": false
   },
   "outputs": [],
   "source": [
    "def graficar_resultados(df,look_back):\n",
    "\n",
    "    trace = go.Heatmap(z=df[df['Look Back'] == look_back]['%'],\n",
    "                       x=df[df['Look Back'] == look_back]['Base'],\n",
    "                       y=df[df['Look Back'] == look_back]['Target'],\n",
    "                       zmax=1.0,\n",
    "                       zmin=0.0,\n",
    "                       colorscale = 'Viridis')\n",
    "    data=[trace]\n",
    "    \n",
    "    layout = go.Layout(\n",
    "        title=pais_nombre+' + '+search+': Total Heatmap with Look Back = '+str(look_back),\n",
    "        xaxis=dict(title='Base',   titlefont=dict(size=18)),\n",
    "        yaxis=dict(title='Target', titlefont=dict(size=18))\n",
    "    )\n",
    "    \n",
    "    fig = go.Figure(data=data, layout=layout)\n",
    "\n",
    "    return py.iplot(fig,filename=pais_nombre+' + '+search+': Total Heatmap with Look Back = '+str(look_back))"
   ]
  },
  {
   "cell_type": "code",
   "execution_count": 5,
   "metadata": {
    "collapsed": false
   },
   "outputs": [],
   "source": [
    "def buscar_resultados(df,indicador_1,indicador_2,look_back):\n",
    "    #Buscamos Resultados en base al conjunto de indicadores Base, Target y Look Back\n",
    "    temp = df[(df['Base']==indicador_1)&(df['Target']==indicador_2)&(df['Look Back'] == look_back)]['Results'].values[0]\n",
    "    df_temp = temp.replace(\"'\",\"\").replace(\"[\",\"\").replace(\"]\",\"\").replace(\" \",\"\").split('\\n')\n",
    "    results = []\n",
    "    for i in df_temp: \n",
    "        results.append(float(i))\n",
    "    \n",
    "    # Códigos de los indicadores con registros \n",
    "    df_nombres = pd.DataFrame(conjunto_nombre, columns=['Resultados'])\n",
    "    indicador_1 = conjunto[df_nombres[df_nombres['Resultados']==indicador_1].index.values[0]]\n",
    "    indicador_2 = conjunto[df_nombres[df_nombres['Resultados']==indicador_2].index.values[0]]     \n",
    "    df = pd.DataFrame(indicador_2)\n",
    "    \n",
    "    # Filtro indicadores repetidos\n",
    "    if(indicador_1!=indicador_2):\n",
    "        indicador_2 = np.array(df.loc[~df.ix[:,0].isin(indicador_1)]).flatten()\n",
    "    df_zeros = tabla_base(indicador_2).dropna(how='all',axis=1)\n",
    "    icodes = df_zeros.columns.values\n",
    "\n",
    "    # Buscamos Nombres de los Códigos de los Indicadores\n",
    "    nombres = pd.DataFrame(datos).loc[:,['IndicatorName','IndicatorCode']].set_index('IndicatorCode').loc[icodes].drop_duplicates()\n",
    "\n",
    "    # Concatenamos Resultados y Nombres, Reindexando en base a los nombres\n",
    "    df_results = pd.DataFrame(np.column_stack([nombres,results]),columns=['Indicadores','Resultados'])\n",
    "    \n",
    "    return df_results"
   ]
  },
  {
   "cell_type": "code",
   "execution_count": 6,
   "metadata": {
    "collapsed": false
   },
   "outputs": [],
   "source": [
    "def graficar_resultados_individuales(df,indicador_base,indicador_target,look_back):\n",
    "\n",
    "    df_temp = buscar_resultados(df,indicador_base,indicador_target,look_back)\n",
    "\n",
    "    data = [go.Bar(\n",
    "                x= df_temp['Indicadores'],\n",
    "                y= df_temp['Resultados'],\n",
    "\n",
    "        marker=dict(     \n",
    "            color = df_temp['Resultados'].values,\n",
    "            colorscale ='Viridis',\n",
    "            showscale = True\n",
    "            ),\n",
    "        )]\n",
    "\n",
    "    layout = go.Layout(\n",
    "        title=pais_nombre+' + '+search+': Result to predict '+indicador_target+' from '+indicador_base+' with '+'Look Back = '+str(look_back),\n",
    "    )\n",
    "    \n",
    "    fig = go.Figure(data=data, layout=layout)\n",
    "\n",
    "    return py.iplot(fig, filename=pais_nombre+' + '+search+': Result to predict '+indicador_target+' from '+indicador_base+' with '+'Look Back = '+str(look_back))"
   ]
  },
  {
   "cell_type": "code",
   "execution_count": 7,
   "metadata": {
    "collapsed": true
   },
   "outputs": [],
   "source": [
    "def conjuntos_performance(df,look_back,perform,predict,rango):\n",
    "    return df[df['Look Back']==look_back].groupby(predict).mean().sort_values('%', ascending=perform).index.values[:rango]"
   ]
  },
  {
   "cell_type": "code",
   "execution_count": 8,
   "metadata": {
    "collapsed": true
   },
   "outputs": [],
   "source": [
    "def predecibles_predictores(df,look_back,rango):\n",
    "    return pd.DataFrame(np.column_stack([conjuntos_performance(df,look_back,False,'Base',rango),conjuntos_performance(df,look_back,True,'Base',rango),conjuntos_performance(df,look_back,False,'Target',rango),conjuntos_performance(df,look_back,True,'Target',rango)]),columns=[['Predictor','Predictor','Predictable','Predictable'],['Best','Worse','Easy','Hard']])"
   ]
  },
  {
   "cell_type": "markdown",
   "metadata": {},
   "source": [
    "# Original"
   ]
  },
  {
   "cell_type": "code",
   "execution_count": 9,
   "metadata": {
    "collapsed": false
   },
   "outputs": [],
   "source": [
    "original = pd.read_csv(\"suramerica_results_original.csv\").drop(['Unnamed: 0'], 1)\n",
    "search   = 'original'"
   ]
  },
  {
   "cell_type": "markdown",
   "metadata": {},
   "source": [
    "## Mejores Combinaciones"
   ]
  },
  {
   "cell_type": "code",
   "execution_count": 10,
   "metadata": {
    "collapsed": false
   },
   "outputs": [
    {
     "data": {
      "text/html": [
       "<div>\n",
       "<table border=\"1\" class=\"dataframe\">\n",
       "  <thead>\n",
       "    <tr style=\"text-align: right;\">\n",
       "      <th></th>\n",
       "      <th>Base</th>\n",
       "      <th>Target</th>\n",
       "      <th>Look Back</th>\n",
       "      <th>Reg</th>\n",
       "      <th>%</th>\n",
       "    </tr>\n",
       "  </thead>\n",
       "  <tbody>\n",
       "    <tr>\n",
       "      <th>0</th>\n",
       "      <td>Privado</td>\n",
       "      <td>Ciencia</td>\n",
       "      <td>1</td>\n",
       "      <td>11</td>\n",
       "      <td>0.900546</td>\n",
       "    </tr>\n",
       "    <tr>\n",
       "      <th>1</th>\n",
       "      <td>Urbano</td>\n",
       "      <td>Ciencia</td>\n",
       "      <td>2</td>\n",
       "      <td>13</td>\n",
       "      <td>0.892362</td>\n",
       "    </tr>\n",
       "    <tr>\n",
       "      <th>2</th>\n",
       "      <td>Comercio</td>\n",
       "      <td>Ciencia</td>\n",
       "      <td>2</td>\n",
       "      <td>11</td>\n",
       "      <td>0.879526</td>\n",
       "    </tr>\n",
       "    <tr>\n",
       "      <th>3</th>\n",
       "      <td>Comercio</td>\n",
       "      <td>Ciencia</td>\n",
       "      <td>3</td>\n",
       "      <td>11</td>\n",
       "      <td>0.877208</td>\n",
       "    </tr>\n",
       "    <tr>\n",
       "      <th>4</th>\n",
       "      <td>Infraestructura</td>\n",
       "      <td>Ciencia</td>\n",
       "      <td>2</td>\n",
       "      <td>13</td>\n",
       "      <td>0.874702</td>\n",
       "    </tr>\n",
       "    <tr>\n",
       "      <th>5</th>\n",
       "      <td>Energia</td>\n",
       "      <td>Ciencia</td>\n",
       "      <td>1</td>\n",
       "      <td>13</td>\n",
       "      <td>0.862954</td>\n",
       "    </tr>\n",
       "    <tr>\n",
       "      <th>6</th>\n",
       "      <td>Ciencia</td>\n",
       "      <td>Ciencia</td>\n",
       "      <td>3</td>\n",
       "      <td>13</td>\n",
       "      <td>0.855968</td>\n",
       "    </tr>\n",
       "    <tr>\n",
       "      <th>7</th>\n",
       "      <td>Privado</td>\n",
       "      <td>Ciencia</td>\n",
       "      <td>2</td>\n",
       "      <td>11</td>\n",
       "      <td>0.855853</td>\n",
       "    </tr>\n",
       "    <tr>\n",
       "      <th>8</th>\n",
       "      <td>Urbano</td>\n",
       "      <td>Ciencia</td>\n",
       "      <td>1</td>\n",
       "      <td>13</td>\n",
       "      <td>0.842303</td>\n",
       "    </tr>\n",
       "    <tr>\n",
       "      <th>9</th>\n",
       "      <td>Comercio</td>\n",
       "      <td>Ciencia</td>\n",
       "      <td>1</td>\n",
       "      <td>11</td>\n",
       "      <td>0.840930</td>\n",
       "    </tr>\n",
       "  </tbody>\n",
       "</table>\n",
       "</div>"
      ],
      "text/plain": [
       "              Base   Target  Look Back  Reg         %\n",
       "0          Privado  Ciencia          1   11  0.900546\n",
       "1           Urbano  Ciencia          2   13  0.892362\n",
       "2         Comercio  Ciencia          2   11  0.879526\n",
       "3         Comercio  Ciencia          3   11  0.877208\n",
       "4  Infraestructura  Ciencia          2   13  0.874702\n",
       "5          Energia  Ciencia          1   13  0.862954\n",
       "6          Ciencia  Ciencia          3   13  0.855968\n",
       "7          Privado  Ciencia          2   11  0.855853\n",
       "8           Urbano  Ciencia          1   13  0.842303\n",
       "9         Comercio  Ciencia          1   11  0.840930"
      ]
     },
     "execution_count": 10,
     "metadata": {},
     "output_type": "execute_result"
    }
   ],
   "source": [
    "original.sort_values('%', ascending=False).reset_index().drop(['index','Time','Results'],1)[:10]"
   ]
  },
  {
   "cell_type": "code",
   "execution_count": 11,
   "metadata": {
    "collapsed": false
   },
   "outputs": [
    {
     "data": {
      "text/html": [
       "<iframe id=\"igraph\" scrolling=\"no\" style=\"border:none;\" seamless=\"seamless\" src=\"https://plot.ly/~ambigus9/248.embed\" height=\"525px\" width=\"100%\"></iframe>"
      ],
      "text/plain": [
       "<plotly.tools.PlotlyDisplay object>"
      ]
     },
     "execution_count": 11,
     "metadata": {},
     "output_type": "execute_result"
    }
   ],
   "source": [
    "graficar_resultados_individuales(original,'Privado','Ciencia',1)"
   ]
  },
  {
   "cell_type": "markdown",
   "metadata": {},
   "source": [
    "## Peores Combinaciones"
   ]
  },
  {
   "cell_type": "code",
   "execution_count": 12,
   "metadata": {
    "collapsed": false
   },
   "outputs": [
    {
     "data": {
      "text/html": [
       "<div>\n",
       "<table border=\"1\" class=\"dataframe\">\n",
       "  <thead>\n",
       "    <tr style=\"text-align: right;\">\n",
       "      <th></th>\n",
       "      <th>Base</th>\n",
       "      <th>Target</th>\n",
       "      <th>Look Back</th>\n",
       "      <th>Reg</th>\n",
       "      <th>%</th>\n",
       "    </tr>\n",
       "  </thead>\n",
       "  <tbody>\n",
       "    <tr>\n",
       "      <th>0</th>\n",
       "      <td>Pobreza</td>\n",
       "      <td>Urbano</td>\n",
       "      <td>3</td>\n",
       "      <td>21</td>\n",
       "      <td>0.171713</td>\n",
       "    </tr>\n",
       "    <tr>\n",
       "      <th>1</th>\n",
       "      <td>Pobreza</td>\n",
       "      <td>Urbano</td>\n",
       "      <td>1</td>\n",
       "      <td>21</td>\n",
       "      <td>0.192287</td>\n",
       "    </tr>\n",
       "    <tr>\n",
       "      <th>2</th>\n",
       "      <td>Pobreza</td>\n",
       "      <td>Ayuda</td>\n",
       "      <td>2</td>\n",
       "      <td>69</td>\n",
       "      <td>0.195450</td>\n",
       "    </tr>\n",
       "    <tr>\n",
       "      <th>3</th>\n",
       "      <td>Pobreza</td>\n",
       "      <td>Salud</td>\n",
       "      <td>1</td>\n",
       "      <td>152</td>\n",
       "      <td>0.201384</td>\n",
       "    </tr>\n",
       "    <tr>\n",
       "      <th>4</th>\n",
       "      <td>Pobreza</td>\n",
       "      <td>Ayuda</td>\n",
       "      <td>3</td>\n",
       "      <td>69</td>\n",
       "      <td>0.208370</td>\n",
       "    </tr>\n",
       "    <tr>\n",
       "      <th>5</th>\n",
       "      <td>Pobreza</td>\n",
       "      <td>Urbano</td>\n",
       "      <td>2</td>\n",
       "      <td>21</td>\n",
       "      <td>0.210160</td>\n",
       "    </tr>\n",
       "    <tr>\n",
       "      <th>6</th>\n",
       "      <td>Pobreza</td>\n",
       "      <td>Salud</td>\n",
       "      <td>2</td>\n",
       "      <td>152</td>\n",
       "      <td>0.210652</td>\n",
       "    </tr>\n",
       "    <tr>\n",
       "      <th>7</th>\n",
       "      <td>Pobreza</td>\n",
       "      <td>Salud</td>\n",
       "      <td>3</td>\n",
       "      <td>152</td>\n",
       "      <td>0.215839</td>\n",
       "    </tr>\n",
       "    <tr>\n",
       "      <th>8</th>\n",
       "      <td>Pobreza</td>\n",
       "      <td>Ambiente</td>\n",
       "      <td>1</td>\n",
       "      <td>111</td>\n",
       "      <td>0.223511</td>\n",
       "    </tr>\n",
       "    <tr>\n",
       "      <th>9</th>\n",
       "      <td>Pobreza</td>\n",
       "      <td>Energia</td>\n",
       "      <td>3</td>\n",
       "      <td>53</td>\n",
       "      <td>0.225532</td>\n",
       "    </tr>\n",
       "  </tbody>\n",
       "</table>\n",
       "</div>"
      ],
      "text/plain": [
       "      Base    Target  Look Back  Reg         %\n",
       "0  Pobreza    Urbano          3   21  0.171713\n",
       "1  Pobreza    Urbano          1   21  0.192287\n",
       "2  Pobreza     Ayuda          2   69  0.195450\n",
       "3  Pobreza     Salud          1  152  0.201384\n",
       "4  Pobreza     Ayuda          3   69  0.208370\n",
       "5  Pobreza    Urbano          2   21  0.210160\n",
       "6  Pobreza     Salud          2  152  0.210652\n",
       "7  Pobreza     Salud          3  152  0.215839\n",
       "8  Pobreza  Ambiente          1  111  0.223511\n",
       "9  Pobreza   Energia          3   53  0.225532"
      ]
     },
     "execution_count": 12,
     "metadata": {},
     "output_type": "execute_result"
    }
   ],
   "source": [
    "original.sort_values('%', ascending=True).reset_index().drop(['index','Time','Results'],1)[:10]"
   ]
  },
  {
   "cell_type": "code",
   "execution_count": 13,
   "metadata": {
    "collapsed": false
   },
   "outputs": [
    {
     "data": {
      "text/html": [
       "<iframe id=\"igraph\" scrolling=\"no\" style=\"border:none;\" seamless=\"seamless\" src=\"https://plot.ly/~ambigus9/246.embed\" height=\"525px\" width=\"100%\"></iframe>"
      ],
      "text/plain": [
       "<plotly.tools.PlotlyDisplay object>"
      ]
     },
     "execution_count": 13,
     "metadata": {},
     "output_type": "execute_result"
    }
   ],
   "source": [
    "graficar_resultados_individuales(original,'Pobreza','Urbano',3)"
   ]
  },
  {
   "cell_type": "markdown",
   "metadata": {},
   "source": [
    "## Resultados"
   ]
  },
  {
   "cell_type": "code",
   "execution_count": 14,
   "metadata": {
    "collapsed": false
   },
   "outputs": [
    {
     "data": {
      "text/html": [
       "<iframe id=\"igraph\" scrolling=\"no\" style=\"border:none;\" seamless=\"seamless\" src=\"https://plot.ly/~ambigus9/224.embed\" height=\"525px\" width=\"100%\"></iframe>"
      ],
      "text/plain": [
       "<plotly.tools.PlotlyDisplay object>"
      ]
     },
     "execution_count": 14,
     "metadata": {},
     "output_type": "execute_result"
    }
   ],
   "source": [
    "graficar_resultados(original,1)"
   ]
  },
  {
   "cell_type": "code",
   "execution_count": 15,
   "metadata": {
    "collapsed": false
   },
   "outputs": [
    {
     "data": {
      "text/html": [
       "<iframe id=\"igraph\" scrolling=\"no\" style=\"border:none;\" seamless=\"seamless\" src=\"https://plot.ly/~ambigus9/226.embed\" height=\"525px\" width=\"100%\"></iframe>"
      ],
      "text/plain": [
       "<plotly.tools.PlotlyDisplay object>"
      ]
     },
     "execution_count": 15,
     "metadata": {},
     "output_type": "execute_result"
    }
   ],
   "source": [
    "graficar_resultados(original,2)"
   ]
  },
  {
   "cell_type": "code",
   "execution_count": 16,
   "metadata": {
    "collapsed": false
   },
   "outputs": [
    {
     "data": {
      "text/html": [
       "<iframe id=\"igraph\" scrolling=\"no\" style=\"border:none;\" seamless=\"seamless\" src=\"https://plot.ly/~ambigus9/228.embed\" height=\"525px\" width=\"100%\"></iframe>"
      ],
      "text/plain": [
       "<plotly.tools.PlotlyDisplay object>"
      ]
     },
     "execution_count": 16,
     "metadata": {},
     "output_type": "execute_result"
    }
   ],
   "source": [
    "graficar_resultados(original,3)"
   ]
  },
  {
   "cell_type": "markdown",
   "metadata": {},
   "source": [
    "## Best and Worse Predictors and Predictable"
   ]
  },
  {
   "cell_type": "markdown",
   "metadata": {},
   "source": [
    "- Con el objetivo de encontrar los conjuntos con mayor grado de predictibilidad, determinamos el promedio de su rendimiento para dos casos:\n",
    "\n",
    " **Predictor:** Conjunto que predice a otro conjunto\n",
    " \n",
    " **Predecible:** Conjunto que es predecido por otro conjunto"
   ]
  },
  {
   "cell_type": "code",
   "execution_count": 17,
   "metadata": {
    "collapsed": false
   },
   "outputs": [
    {
     "data": {
      "text/html": [
       "<div>\n",
       "<table border=\"1\" class=\"dataframe\">\n",
       "  <thead>\n",
       "    <tr>\n",
       "      <th></th>\n",
       "      <th colspan=\"2\" halign=\"left\">Predictor</th>\n",
       "      <th colspan=\"2\" halign=\"left\">Predictable</th>\n",
       "    </tr>\n",
       "    <tr>\n",
       "      <th></th>\n",
       "      <th>Best</th>\n",
       "      <th>Worse</th>\n",
       "      <th>Easy</th>\n",
       "      <th>Hard</th>\n",
       "    </tr>\n",
       "  </thead>\n",
       "  <tbody>\n",
       "    <tr>\n",
       "      <th>0</th>\n",
       "      <td>Urbano</td>\n",
       "      <td>Pobreza</td>\n",
       "      <td>Ciencia</td>\n",
       "      <td>Ayuda</td>\n",
       "    </tr>\n",
       "    <tr>\n",
       "      <th>1</th>\n",
       "      <td>Agricultura</td>\n",
       "      <td>Ciencia</td>\n",
       "      <td>Publico</td>\n",
       "      <td>Salud</td>\n",
       "    </tr>\n",
       "    <tr>\n",
       "      <th>2</th>\n",
       "      <td>Clima</td>\n",
       "      <td>Ayuda</td>\n",
       "      <td>Urbano</td>\n",
       "      <td>Trabajo</td>\n",
       "    </tr>\n",
       "    <tr>\n",
       "      <th>3</th>\n",
       "      <td>Economia</td>\n",
       "      <td>Deuda</td>\n",
       "      <td>Economia</td>\n",
       "      <td>Genero</td>\n",
       "    </tr>\n",
       "    <tr>\n",
       "      <th>4</th>\n",
       "      <td>Privado</td>\n",
       "      <td>Trabajo</td>\n",
       "      <td>Clima</td>\n",
       "      <td>Deuda</td>\n",
       "    </tr>\n",
       "  </tbody>\n",
       "</table>\n",
       "</div>"
      ],
      "text/plain": [
       "     Predictor          Predictable         \n",
       "          Best    Worse        Easy     Hard\n",
       "0       Urbano  Pobreza     Ciencia    Ayuda\n",
       "1  Agricultura  Ciencia     Publico    Salud\n",
       "2        Clima    Ayuda      Urbano  Trabajo\n",
       "3     Economia    Deuda    Economia   Genero\n",
       "4      Privado  Trabajo       Clima    Deuda"
      ]
     },
     "execution_count": 17,
     "metadata": {},
     "output_type": "execute_result"
    }
   ],
   "source": [
    "predecibles_predictores(original,1,5)"
   ]
  },
  {
   "cell_type": "markdown",
   "metadata": {},
   "source": [
    "# RandomizedSearchCV"
   ]
  },
  {
   "cell_type": "code",
   "execution_count": 18,
   "metadata": {
    "collapsed": true
   },
   "outputs": [],
   "source": [
    "random = pd.read_csv(\"suramerica_results_random.csv\").drop(['Unnamed: 0'], 1)\n",
    "search   = 'random'"
   ]
  },
  {
   "cell_type": "markdown",
   "metadata": {},
   "source": [
    "## Mejores Combinaciones"
   ]
  },
  {
   "cell_type": "code",
   "execution_count": 19,
   "metadata": {
    "collapsed": false
   },
   "outputs": [
    {
     "data": {
      "text/html": [
       "<div>\n",
       "<table border=\"1\" class=\"dataframe\">\n",
       "  <thead>\n",
       "    <tr style=\"text-align: right;\">\n",
       "      <th></th>\n",
       "      <th>Base</th>\n",
       "      <th>Target</th>\n",
       "      <th>Look Back</th>\n",
       "      <th>Reg</th>\n",
       "      <th>%</th>\n",
       "    </tr>\n",
       "  </thead>\n",
       "  <tbody>\n",
       "    <tr>\n",
       "      <th>0</th>\n",
       "      <td>Comercio</td>\n",
       "      <td>Ciencia</td>\n",
       "      <td>1</td>\n",
       "      <td>11</td>\n",
       "      <td>0.924383</td>\n",
       "    </tr>\n",
       "    <tr>\n",
       "      <th>1</th>\n",
       "      <td>Comercio</td>\n",
       "      <td>Ciencia</td>\n",
       "      <td>2</td>\n",
       "      <td>11</td>\n",
       "      <td>0.920824</td>\n",
       "    </tr>\n",
       "    <tr>\n",
       "      <th>2</th>\n",
       "      <td>Comercio</td>\n",
       "      <td>Ciencia</td>\n",
       "      <td>3</td>\n",
       "      <td>11</td>\n",
       "      <td>0.903308</td>\n",
       "    </tr>\n",
       "    <tr>\n",
       "      <th>3</th>\n",
       "      <td>Ciencia</td>\n",
       "      <td>Ciencia</td>\n",
       "      <td>3</td>\n",
       "      <td>13</td>\n",
       "      <td>0.903255</td>\n",
       "    </tr>\n",
       "    <tr>\n",
       "      <th>4</th>\n",
       "      <td>Economia</td>\n",
       "      <td>Ciencia</td>\n",
       "      <td>3</td>\n",
       "      <td>11</td>\n",
       "      <td>0.895316</td>\n",
       "    </tr>\n",
       "    <tr>\n",
       "      <th>5</th>\n",
       "      <td>Economia</td>\n",
       "      <td>Ciencia</td>\n",
       "      <td>2</td>\n",
       "      <td>11</td>\n",
       "      <td>0.879495</td>\n",
       "    </tr>\n",
       "    <tr>\n",
       "      <th>6</th>\n",
       "      <td>Ciencia</td>\n",
       "      <td>Ciencia</td>\n",
       "      <td>1</td>\n",
       "      <td>13</td>\n",
       "      <td>0.873959</td>\n",
       "    </tr>\n",
       "    <tr>\n",
       "      <th>7</th>\n",
       "      <td>Clima</td>\n",
       "      <td>Ciencia</td>\n",
       "      <td>3</td>\n",
       "      <td>13</td>\n",
       "      <td>0.863778</td>\n",
       "    </tr>\n",
       "    <tr>\n",
       "      <th>8</th>\n",
       "      <td>Ambiente</td>\n",
       "      <td>Ciencia</td>\n",
       "      <td>3</td>\n",
       "      <td>13</td>\n",
       "      <td>0.859583</td>\n",
       "    </tr>\n",
       "    <tr>\n",
       "      <th>9</th>\n",
       "      <td>Agricultura</td>\n",
       "      <td>Urbano</td>\n",
       "      <td>2</td>\n",
       "      <td>24</td>\n",
       "      <td>0.855256</td>\n",
       "    </tr>\n",
       "  </tbody>\n",
       "</table>\n",
       "</div>"
      ],
      "text/plain": [
       "          Base   Target  Look Back  Reg         %\n",
       "0     Comercio  Ciencia          1   11  0.924383\n",
       "1     Comercio  Ciencia          2   11  0.920824\n",
       "2     Comercio  Ciencia          3   11  0.903308\n",
       "3      Ciencia  Ciencia          3   13  0.903255\n",
       "4     Economia  Ciencia          3   11  0.895316\n",
       "5     Economia  Ciencia          2   11  0.879495\n",
       "6      Ciencia  Ciencia          1   13  0.873959\n",
       "7        Clima  Ciencia          3   13  0.863778\n",
       "8     Ambiente  Ciencia          3   13  0.859583\n",
       "9  Agricultura   Urbano          2   24  0.855256"
      ]
     },
     "execution_count": 19,
     "metadata": {},
     "output_type": "execute_result"
    }
   ],
   "source": [
    "random.sort_values('%', ascending=False).reset_index().drop(['index','Time','Results'],1)[:10]"
   ]
  },
  {
   "cell_type": "markdown",
   "metadata": {},
   "source": [
    "## Peores Combinaciones"
   ]
  },
  {
   "cell_type": "code",
   "execution_count": 20,
   "metadata": {
    "collapsed": false
   },
   "outputs": [
    {
     "data": {
      "text/html": [
       "<div>\n",
       "<table border=\"1\" class=\"dataframe\">\n",
       "  <thead>\n",
       "    <tr style=\"text-align: right;\">\n",
       "      <th></th>\n",
       "      <th>Base</th>\n",
       "      <th>Target</th>\n",
       "      <th>Look Back</th>\n",
       "      <th>Reg</th>\n",
       "      <th>%</th>\n",
       "    </tr>\n",
       "  </thead>\n",
       "  <tbody>\n",
       "    <tr>\n",
       "      <th>0</th>\n",
       "      <td>Ciencia</td>\n",
       "      <td>Ayuda</td>\n",
       "      <td>1</td>\n",
       "      <td>71</td>\n",
       "      <td>0.323534</td>\n",
       "    </tr>\n",
       "    <tr>\n",
       "      <th>1</th>\n",
       "      <td>Ciencia</td>\n",
       "      <td>Trabajo</td>\n",
       "      <td>1</td>\n",
       "      <td>133</td>\n",
       "      <td>0.395530</td>\n",
       "    </tr>\n",
       "    <tr>\n",
       "      <th>2</th>\n",
       "      <td>Ciencia</td>\n",
       "      <td>Ayuda</td>\n",
       "      <td>3</td>\n",
       "      <td>71</td>\n",
       "      <td>0.400140</td>\n",
       "    </tr>\n",
       "    <tr>\n",
       "      <th>3</th>\n",
       "      <td>Ciencia</td>\n",
       "      <td>Pobreza</td>\n",
       "      <td>1</td>\n",
       "      <td>25</td>\n",
       "      <td>0.404672</td>\n",
       "    </tr>\n",
       "    <tr>\n",
       "      <th>4</th>\n",
       "      <td>Ciencia</td>\n",
       "      <td>Salud</td>\n",
       "      <td>1</td>\n",
       "      <td>152</td>\n",
       "      <td>0.414636</td>\n",
       "    </tr>\n",
       "    <tr>\n",
       "      <th>5</th>\n",
       "      <td>Ciencia</td>\n",
       "      <td>Ayuda</td>\n",
       "      <td>2</td>\n",
       "      <td>71</td>\n",
       "      <td>0.418732</td>\n",
       "    </tr>\n",
       "    <tr>\n",
       "      <th>6</th>\n",
       "      <td>Ciencia</td>\n",
       "      <td>Genero</td>\n",
       "      <td>1</td>\n",
       "      <td>177</td>\n",
       "      <td>0.421308</td>\n",
       "    </tr>\n",
       "    <tr>\n",
       "      <th>7</th>\n",
       "      <td>Ciencia</td>\n",
       "      <td>Trabajo</td>\n",
       "      <td>2</td>\n",
       "      <td>133</td>\n",
       "      <td>0.426061</td>\n",
       "    </tr>\n",
       "    <tr>\n",
       "      <th>8</th>\n",
       "      <td>Ciencia</td>\n",
       "      <td>Social</td>\n",
       "      <td>1</td>\n",
       "      <td>35</td>\n",
       "      <td>0.435801</td>\n",
       "    </tr>\n",
       "    <tr>\n",
       "      <th>9</th>\n",
       "      <td>Ciencia</td>\n",
       "      <td>Trabajo</td>\n",
       "      <td>3</td>\n",
       "      <td>133</td>\n",
       "      <td>0.443954</td>\n",
       "    </tr>\n",
       "  </tbody>\n",
       "</table>\n",
       "</div>"
      ],
      "text/plain": [
       "      Base   Target  Look Back  Reg         %\n",
       "0  Ciencia    Ayuda          1   71  0.323534\n",
       "1  Ciencia  Trabajo          1  133  0.395530\n",
       "2  Ciencia    Ayuda          3   71  0.400140\n",
       "3  Ciencia  Pobreza          1   25  0.404672\n",
       "4  Ciencia    Salud          1  152  0.414636\n",
       "5  Ciencia    Ayuda          2   71  0.418732\n",
       "6  Ciencia   Genero          1  177  0.421308\n",
       "7  Ciencia  Trabajo          2  133  0.426061\n",
       "8  Ciencia   Social          1   35  0.435801\n",
       "9  Ciencia  Trabajo          3  133  0.443954"
      ]
     },
     "execution_count": 20,
     "metadata": {},
     "output_type": "execute_result"
    }
   ],
   "source": [
    "random.sort_values('%', ascending=True).reset_index().drop(['index','Time','Results'],1)[:10]"
   ]
  },
  {
   "cell_type": "code",
   "execution_count": 21,
   "metadata": {
    "collapsed": false
   },
   "outputs": [
    {
     "data": {
      "text/html": [
       "<iframe id=\"igraph\" scrolling=\"no\" style=\"border:none;\" seamless=\"seamless\" src=\"https://plot.ly/~ambigus9/232.embed\" height=\"525px\" width=\"100%\"></iframe>"
      ],
      "text/plain": [
       "<plotly.tools.PlotlyDisplay object>"
      ]
     },
     "execution_count": 21,
     "metadata": {},
     "output_type": "execute_result"
    }
   ],
   "source": [
    "graficar_resultados(random,1)"
   ]
  },
  {
   "cell_type": "code",
   "execution_count": 22,
   "metadata": {
    "collapsed": false
   },
   "outputs": [
    {
     "data": {
      "text/html": [
       "<iframe id=\"igraph\" scrolling=\"no\" style=\"border:none;\" seamless=\"seamless\" src=\"https://plot.ly/~ambigus9/236.embed\" height=\"525px\" width=\"100%\"></iframe>"
      ],
      "text/plain": [
       "<plotly.tools.PlotlyDisplay object>"
      ]
     },
     "execution_count": 22,
     "metadata": {},
     "output_type": "execute_result"
    }
   ],
   "source": [
    "graficar_resultados(random,2)"
   ]
  },
  {
   "cell_type": "code",
   "execution_count": 23,
   "metadata": {
    "collapsed": false
   },
   "outputs": [
    {
     "data": {
      "text/html": [
       "<iframe id=\"igraph\" scrolling=\"no\" style=\"border:none;\" seamless=\"seamless\" src=\"https://plot.ly/~ambigus9/240.embed\" height=\"525px\" width=\"100%\"></iframe>"
      ],
      "text/plain": [
       "<plotly.tools.PlotlyDisplay object>"
      ]
     },
     "execution_count": 23,
     "metadata": {},
     "output_type": "execute_result"
    }
   ],
   "source": [
    "graficar_resultados(random,3)"
   ]
  },
  {
   "cell_type": "markdown",
   "metadata": {},
   "source": [
    "## Best and Worse Predictors and Predictable"
   ]
  },
  {
   "cell_type": "markdown",
   "metadata": {},
   "source": [
    "- Con el objetivo de encontrar los conjuntos con mayor grado de predictibilidad, determinamos el promedio de su rendimiento para dos casos:\n",
    "\n",
    " **Predictor:** Conjunto que predice a otro conjunto\n",
    " \n",
    " **Predecible:** Conjunto que es predecido por otro conjunto"
   ]
  },
  {
   "cell_type": "code",
   "execution_count": 24,
   "metadata": {
    "collapsed": false
   },
   "outputs": [
    {
     "data": {
      "text/html": [
       "<div>\n",
       "<table border=\"1\" class=\"dataframe\">\n",
       "  <thead>\n",
       "    <tr>\n",
       "      <th></th>\n",
       "      <th colspan=\"2\" halign=\"left\">Predictor</th>\n",
       "      <th colspan=\"2\" halign=\"left\">Predictable</th>\n",
       "    </tr>\n",
       "    <tr>\n",
       "      <th></th>\n",
       "      <th>Best</th>\n",
       "      <th>Worse</th>\n",
       "      <th>Easy</th>\n",
       "      <th>Hard</th>\n",
       "    </tr>\n",
       "  </thead>\n",
       "  <tbody>\n",
       "    <tr>\n",
       "      <th>0</th>\n",
       "      <td>Agricultura</td>\n",
       "      <td>Ciencia</td>\n",
       "      <td>Ciencia</td>\n",
       "      <td>Ayuda</td>\n",
       "    </tr>\n",
       "    <tr>\n",
       "      <th>1</th>\n",
       "      <td>Economia</td>\n",
       "      <td>Ayuda</td>\n",
       "      <td>Publico</td>\n",
       "      <td>Salud</td>\n",
       "    </tr>\n",
       "    <tr>\n",
       "      <th>2</th>\n",
       "      <td>Clima</td>\n",
       "      <td>Educacion</td>\n",
       "      <td>Urbano</td>\n",
       "      <td>Trabajo</td>\n",
       "    </tr>\n",
       "    <tr>\n",
       "      <th>3</th>\n",
       "      <td>Comercio</td>\n",
       "      <td>Deuda</td>\n",
       "      <td>Economia</td>\n",
       "      <td>Genero</td>\n",
       "    </tr>\n",
       "    <tr>\n",
       "      <th>4</th>\n",
       "      <td>Ambiente</td>\n",
       "      <td>Ambiente</td>\n",
       "      <td>Clima</td>\n",
       "      <td>Deuda</td>\n",
       "    </tr>\n",
       "  </tbody>\n",
       "</table>\n",
       "</div>"
      ],
      "text/plain": [
       "     Predictor            Predictable         \n",
       "          Best      Worse        Easy     Hard\n",
       "0  Agricultura    Ciencia     Ciencia    Ayuda\n",
       "1     Economia      Ayuda     Publico    Salud\n",
       "2        Clima  Educacion      Urbano  Trabajo\n",
       "3     Comercio      Deuda    Economia   Genero\n",
       "4     Ambiente   Ambiente       Clima    Deuda"
      ]
     },
     "execution_count": 24,
     "metadata": {},
     "output_type": "execute_result"
    }
   ],
   "source": [
    "predecibles_predictores(random,1,5)"
   ]
  },
  {
   "cell_type": "markdown",
   "metadata": {},
   "source": [
    "## GridSearchCV"
   ]
  },
  {
   "cell_type": "code",
   "execution_count": 25,
   "metadata": {
    "collapsed": true
   },
   "outputs": [],
   "source": [
    "grid = pd.read_csv(\"suramerica_results_grid.csv\").drop(['Unnamed: 0'], 1)\n",
    "search   = 'grid'"
   ]
  },
  {
   "cell_type": "markdown",
   "metadata": {},
   "source": [
    "## Mejores Combinaciones"
   ]
  },
  {
   "cell_type": "code",
   "execution_count": 26,
   "metadata": {
    "collapsed": false
   },
   "outputs": [
    {
     "data": {
      "text/html": [
       "<div>\n",
       "<table border=\"1\" class=\"dataframe\">\n",
       "  <thead>\n",
       "    <tr style=\"text-align: right;\">\n",
       "      <th></th>\n",
       "      <th>Base</th>\n",
       "      <th>Target</th>\n",
       "      <th>Look Back</th>\n",
       "      <th>Reg</th>\n",
       "      <th>%</th>\n",
       "    </tr>\n",
       "  </thead>\n",
       "  <tbody>\n",
       "    <tr>\n",
       "      <th>0</th>\n",
       "      <td>Comercio</td>\n",
       "      <td>Ciencia</td>\n",
       "      <td>1</td>\n",
       "      <td>11</td>\n",
       "      <td>0.924383</td>\n",
       "    </tr>\n",
       "    <tr>\n",
       "      <th>1</th>\n",
       "      <td>Comercio</td>\n",
       "      <td>Ciencia</td>\n",
       "      <td>2</td>\n",
       "      <td>11</td>\n",
       "      <td>0.920824</td>\n",
       "    </tr>\n",
       "    <tr>\n",
       "      <th>2</th>\n",
       "      <td>Comercio</td>\n",
       "      <td>Ciencia</td>\n",
       "      <td>3</td>\n",
       "      <td>11</td>\n",
       "      <td>0.903308</td>\n",
       "    </tr>\n",
       "    <tr>\n",
       "      <th>3</th>\n",
       "      <td>Ciencia</td>\n",
       "      <td>Ciencia</td>\n",
       "      <td>3</td>\n",
       "      <td>13</td>\n",
       "      <td>0.903255</td>\n",
       "    </tr>\n",
       "    <tr>\n",
       "      <th>4</th>\n",
       "      <td>Economia</td>\n",
       "      <td>Ciencia</td>\n",
       "      <td>3</td>\n",
       "      <td>11</td>\n",
       "      <td>0.895316</td>\n",
       "    </tr>\n",
       "    <tr>\n",
       "      <th>5</th>\n",
       "      <td>Economia</td>\n",
       "      <td>Ciencia</td>\n",
       "      <td>2</td>\n",
       "      <td>11</td>\n",
       "      <td>0.879495</td>\n",
       "    </tr>\n",
       "    <tr>\n",
       "      <th>6</th>\n",
       "      <td>Ciencia</td>\n",
       "      <td>Ciencia</td>\n",
       "      <td>1</td>\n",
       "      <td>13</td>\n",
       "      <td>0.873959</td>\n",
       "    </tr>\n",
       "    <tr>\n",
       "      <th>7</th>\n",
       "      <td>Clima</td>\n",
       "      <td>Ciencia</td>\n",
       "      <td>3</td>\n",
       "      <td>13</td>\n",
       "      <td>0.863778</td>\n",
       "    </tr>\n",
       "    <tr>\n",
       "      <th>8</th>\n",
       "      <td>Ambiente</td>\n",
       "      <td>Ciencia</td>\n",
       "      <td>3</td>\n",
       "      <td>13</td>\n",
       "      <td>0.859583</td>\n",
       "    </tr>\n",
       "    <tr>\n",
       "      <th>9</th>\n",
       "      <td>Agricultura</td>\n",
       "      <td>Urbano</td>\n",
       "      <td>2</td>\n",
       "      <td>24</td>\n",
       "      <td>0.855256</td>\n",
       "    </tr>\n",
       "  </tbody>\n",
       "</table>\n",
       "</div>"
      ],
      "text/plain": [
       "          Base   Target  Look Back  Reg         %\n",
       "0     Comercio  Ciencia          1   11  0.924383\n",
       "1     Comercio  Ciencia          2   11  0.920824\n",
       "2     Comercio  Ciencia          3   11  0.903308\n",
       "3      Ciencia  Ciencia          3   13  0.903255\n",
       "4     Economia  Ciencia          3   11  0.895316\n",
       "5     Economia  Ciencia          2   11  0.879495\n",
       "6      Ciencia  Ciencia          1   13  0.873959\n",
       "7        Clima  Ciencia          3   13  0.863778\n",
       "8     Ambiente  Ciencia          3   13  0.859583\n",
       "9  Agricultura   Urbano          2   24  0.855256"
      ]
     },
     "execution_count": 26,
     "metadata": {},
     "output_type": "execute_result"
    }
   ],
   "source": [
    "random.sort_values('%', ascending=False).reset_index().drop(['index','Time','Results'],1)[:10]"
   ]
  },
  {
   "cell_type": "markdown",
   "metadata": {},
   "source": [
    "## Peores Combinaciones"
   ]
  },
  {
   "cell_type": "code",
   "execution_count": 27,
   "metadata": {
    "collapsed": false
   },
   "outputs": [
    {
     "data": {
      "text/html": [
       "<div>\n",
       "<table border=\"1\" class=\"dataframe\">\n",
       "  <thead>\n",
       "    <tr style=\"text-align: right;\">\n",
       "      <th></th>\n",
       "      <th>Base</th>\n",
       "      <th>Target</th>\n",
       "      <th>Look Back</th>\n",
       "      <th>Reg</th>\n",
       "      <th>%</th>\n",
       "    </tr>\n",
       "  </thead>\n",
       "  <tbody>\n",
       "    <tr>\n",
       "      <th>0</th>\n",
       "      <td>Ciencia</td>\n",
       "      <td>Ayuda</td>\n",
       "      <td>1</td>\n",
       "      <td>71</td>\n",
       "      <td>0.323534</td>\n",
       "    </tr>\n",
       "    <tr>\n",
       "      <th>1</th>\n",
       "      <td>Ciencia</td>\n",
       "      <td>Trabajo</td>\n",
       "      <td>1</td>\n",
       "      <td>133</td>\n",
       "      <td>0.395530</td>\n",
       "    </tr>\n",
       "    <tr>\n",
       "      <th>2</th>\n",
       "      <td>Ciencia</td>\n",
       "      <td>Ayuda</td>\n",
       "      <td>3</td>\n",
       "      <td>71</td>\n",
       "      <td>0.400140</td>\n",
       "    </tr>\n",
       "    <tr>\n",
       "      <th>3</th>\n",
       "      <td>Ciencia</td>\n",
       "      <td>Pobreza</td>\n",
       "      <td>1</td>\n",
       "      <td>25</td>\n",
       "      <td>0.404672</td>\n",
       "    </tr>\n",
       "    <tr>\n",
       "      <th>4</th>\n",
       "      <td>Ciencia</td>\n",
       "      <td>Salud</td>\n",
       "      <td>1</td>\n",
       "      <td>152</td>\n",
       "      <td>0.414636</td>\n",
       "    </tr>\n",
       "    <tr>\n",
       "      <th>5</th>\n",
       "      <td>Ciencia</td>\n",
       "      <td>Ayuda</td>\n",
       "      <td>2</td>\n",
       "      <td>71</td>\n",
       "      <td>0.418732</td>\n",
       "    </tr>\n",
       "    <tr>\n",
       "      <th>6</th>\n",
       "      <td>Ciencia</td>\n",
       "      <td>Genero</td>\n",
       "      <td>1</td>\n",
       "      <td>177</td>\n",
       "      <td>0.421308</td>\n",
       "    </tr>\n",
       "    <tr>\n",
       "      <th>7</th>\n",
       "      <td>Ciencia</td>\n",
       "      <td>Trabajo</td>\n",
       "      <td>2</td>\n",
       "      <td>133</td>\n",
       "      <td>0.426061</td>\n",
       "    </tr>\n",
       "    <tr>\n",
       "      <th>8</th>\n",
       "      <td>Ciencia</td>\n",
       "      <td>Social</td>\n",
       "      <td>1</td>\n",
       "      <td>35</td>\n",
       "      <td>0.435801</td>\n",
       "    </tr>\n",
       "    <tr>\n",
       "      <th>9</th>\n",
       "      <td>Ciencia</td>\n",
       "      <td>Trabajo</td>\n",
       "      <td>3</td>\n",
       "      <td>133</td>\n",
       "      <td>0.443954</td>\n",
       "    </tr>\n",
       "  </tbody>\n",
       "</table>\n",
       "</div>"
      ],
      "text/plain": [
       "      Base   Target  Look Back  Reg         %\n",
       "0  Ciencia    Ayuda          1   71  0.323534\n",
       "1  Ciencia  Trabajo          1  133  0.395530\n",
       "2  Ciencia    Ayuda          3   71  0.400140\n",
       "3  Ciencia  Pobreza          1   25  0.404672\n",
       "4  Ciencia    Salud          1  152  0.414636\n",
       "5  Ciencia    Ayuda          2   71  0.418732\n",
       "6  Ciencia   Genero          1  177  0.421308\n",
       "7  Ciencia  Trabajo          2  133  0.426061\n",
       "8  Ciencia   Social          1   35  0.435801\n",
       "9  Ciencia  Trabajo          3  133  0.443954"
      ]
     },
     "execution_count": 27,
     "metadata": {},
     "output_type": "execute_result"
    }
   ],
   "source": [
    "random.sort_values('%', ascending=True).reset_index().drop(['index','Time','Results'],1)[:10]"
   ]
  },
  {
   "cell_type": "code",
   "execution_count": 28,
   "metadata": {
    "collapsed": false
   },
   "outputs": [
    {
     "data": {
      "text/html": [
       "<iframe id=\"igraph\" scrolling=\"no\" style=\"border:none;\" seamless=\"seamless\" src=\"https://plot.ly/~ambigus9/238.embed\" height=\"525px\" width=\"100%\"></iframe>"
      ],
      "text/plain": [
       "<plotly.tools.PlotlyDisplay object>"
      ]
     },
     "execution_count": 28,
     "metadata": {},
     "output_type": "execute_result"
    }
   ],
   "source": [
    "graficar_resultados(grid,1)"
   ]
  },
  {
   "cell_type": "code",
   "execution_count": 29,
   "metadata": {
    "collapsed": false
   },
   "outputs": [
    {
     "data": {
      "text/html": [
       "<iframe id=\"igraph\" scrolling=\"no\" style=\"border:none;\" seamless=\"seamless\" src=\"https://plot.ly/~ambigus9/242.embed\" height=\"525px\" width=\"100%\"></iframe>"
      ],
      "text/plain": [
       "<plotly.tools.PlotlyDisplay object>"
      ]
     },
     "execution_count": 29,
     "metadata": {},
     "output_type": "execute_result"
    }
   ],
   "source": [
    "graficar_resultados(grid,2)"
   ]
  },
  {
   "cell_type": "code",
   "execution_count": 30,
   "metadata": {
    "collapsed": false
   },
   "outputs": [
    {
     "data": {
      "text/html": [
       "<iframe id=\"igraph\" scrolling=\"no\" style=\"border:none;\" seamless=\"seamless\" src=\"https://plot.ly/~ambigus9/244.embed\" height=\"525px\" width=\"100%\"></iframe>"
      ],
      "text/plain": [
       "<plotly.tools.PlotlyDisplay object>"
      ]
     },
     "execution_count": 30,
     "metadata": {},
     "output_type": "execute_result"
    }
   ],
   "source": [
    "graficar_resultados(grid,3)"
   ]
  },
  {
   "cell_type": "markdown",
   "metadata": {},
   "source": [
    "## Best and Worse Predictors and Predictable"
   ]
  },
  {
   "cell_type": "markdown",
   "metadata": {},
   "source": [
    "- Con el objetivo de encontrar los conjuntos con mayor grado de predictibilidad, determinamos el promedio de su rendimiento para dos casos:\n",
    "\n",
    " **Predictor:** Conjunto que predice a otro conjunto\n",
    " \n",
    " **Predecible:** Conjunto que es predecido por otro conjunto"
   ]
  },
  {
   "cell_type": "code",
   "execution_count": 31,
   "metadata": {
    "collapsed": false
   },
   "outputs": [
    {
     "data": {
      "text/html": [
       "<div>\n",
       "<table border=\"1\" class=\"dataframe\">\n",
       "  <thead>\n",
       "    <tr>\n",
       "      <th></th>\n",
       "      <th colspan=\"2\" halign=\"left\">Predictor</th>\n",
       "      <th colspan=\"2\" halign=\"left\">Predictable</th>\n",
       "    </tr>\n",
       "    <tr>\n",
       "      <th></th>\n",
       "      <th>Best</th>\n",
       "      <th>Worse</th>\n",
       "      <th>Easy</th>\n",
       "      <th>Hard</th>\n",
       "    </tr>\n",
       "  </thead>\n",
       "  <tbody>\n",
       "    <tr>\n",
       "      <th>0</th>\n",
       "      <td>Agricultura</td>\n",
       "      <td>Ciencia</td>\n",
       "      <td>Ciencia</td>\n",
       "      <td>Trabajo</td>\n",
       "    </tr>\n",
       "    <tr>\n",
       "      <th>1</th>\n",
       "      <td>Clima</td>\n",
       "      <td>Ayuda</td>\n",
       "      <td>Urbano</td>\n",
       "      <td>Ayuda</td>\n",
       "    </tr>\n",
       "    <tr>\n",
       "      <th>2</th>\n",
       "      <td>Comercio</td>\n",
       "      <td>Deuda</td>\n",
       "      <td>Publico</td>\n",
       "      <td>Salud</td>\n",
       "    </tr>\n",
       "    <tr>\n",
       "      <th>3</th>\n",
       "      <td>Ambiente</td>\n",
       "      <td>Ambiente</td>\n",
       "      <td>Economia</td>\n",
       "      <td>Genero</td>\n",
       "    </tr>\n",
       "    <tr>\n",
       "      <th>4</th>\n",
       "      <td>Deuda</td>\n",
       "      <td>Comercio</td>\n",
       "      <td>Agricultura</td>\n",
       "      <td>Deuda</td>\n",
       "    </tr>\n",
       "  </tbody>\n",
       "</table>\n",
       "</div>"
      ],
      "text/plain": [
       "     Predictor            Predictable         \n",
       "          Best     Worse         Easy     Hard\n",
       "0  Agricultura   Ciencia      Ciencia  Trabajo\n",
       "1        Clima     Ayuda       Urbano    Ayuda\n",
       "2     Comercio     Deuda      Publico    Salud\n",
       "3     Ambiente  Ambiente     Economia   Genero\n",
       "4        Deuda  Comercio  Agricultura    Deuda"
      ]
     },
     "execution_count": 31,
     "metadata": {},
     "output_type": "execute_result"
    }
   ],
   "source": [
    "predecibles_predictores(grid,1,5)"
   ]
  }
 ],
 "metadata": {
  "kernelspec": {
   "display_name": "Python 2",
   "language": "python",
   "name": "python2"
  },
  "language_info": {
   "codemirror_mode": {
    "name": "ipython",
    "version": 2
   },
   "file_extension": ".py",
   "mimetype": "text/x-python",
   "name": "python",
   "nbconvert_exporter": "python",
   "pygments_lexer": "ipython2",
   "version": "2.7.13"
  }
 },
 "nbformat": 4,
 "nbformat_minor": 2
}
