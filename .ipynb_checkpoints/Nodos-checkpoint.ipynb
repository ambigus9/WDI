{
 "cells": [
  {
   "cell_type": "code",
   "execution_count": 6,
   "metadata": {
    "collapsed": false
   },
   "outputs": [
    {
     "data": {
      "text/html": [
       "<div>\n",
       "<table border=\"1\" class=\"dataframe\">\n",
       "  <thead>\n",
       "    <tr style=\"text-align: right;\">\n",
       "      <th></th>\n",
       "      <th>Base</th>\n",
       "      <th>Target</th>\n",
       "      <th>Look Back</th>\n",
       "      <th>Reg</th>\n",
       "      <th>%</th>\n",
       "      <th>Time</th>\n",
       "      <th>Results</th>\n",
       "    </tr>\n",
       "  </thead>\n",
       "  <tbody>\n",
       "    <tr>\n",
       "      <th>0</th>\n",
       "      <td>Publico</td>\n",
       "      <td>Agricultura</td>\n",
       "      <td>1</td>\n",
       "      <td>48</td>\n",
       "      <td>0.756578</td>\n",
       "      <td>2159.341</td>\n",
       "      <td>[[ 0.85872995]\\r\\n [ 0.36171672]\\r\\n [ 0.49619...</td>\n",
       "    </tr>\n",
       "    <tr>\n",
       "      <th>1</th>\n",
       "      <td>Publico</td>\n",
       "      <td>Agricultura</td>\n",
       "      <td>2</td>\n",
       "      <td>48</td>\n",
       "      <td>0.770224</td>\n",
       "      <td>2458.537</td>\n",
       "      <td>[[ 0.84728794]\\r\\n [ 0.95109464]\\r\\n [ 0.67861...</td>\n",
       "    </tr>\n",
       "    <tr>\n",
       "      <th>2</th>\n",
       "      <td>Publico</td>\n",
       "      <td>Agricultura</td>\n",
       "      <td>3</td>\n",
       "      <td>48</td>\n",
       "      <td>0.731475</td>\n",
       "      <td>2066.550</td>\n",
       "      <td>[[ 0.19060398]\\r\\n [ 0.84157802]\\r\\n [ 0.88780...</td>\n",
       "    </tr>\n",
       "  </tbody>\n",
       "</table>\n",
       "</div>"
      ],
      "text/plain": [
       "      Base       Target  Look Back  Reg         %      Time  \\\n",
       "0  Publico  Agricultura          1   48  0.756578  2159.341   \n",
       "1  Publico  Agricultura          2   48  0.770224  2458.537   \n",
       "2  Publico  Agricultura          3   48  0.731475  2066.550   \n",
       "\n",
       "                                             Results  \n",
       "0  [[ 0.85872995]\\r\\n [ 0.36171672]\\r\\n [ 0.49619...  \n",
       "1  [[ 0.84728794]\\r\\n [ 0.95109464]\\r\\n [ 0.67861...  \n",
       "2  [[ 0.19060398]\\r\\n [ 0.84157802]\\r\\n [ 0.88780...  "
      ]
     },
     "execution_count": 6,
     "metadata": {},
     "output_type": "execute_result"
    }
   ],
   "source": [
    "import pandas as pd\n",
    "\n",
    "pd.read_csv(\"Nodos/suramerica_grid_log_15-20.csv\").drop(['Unnamed: 0'], 1).tail(5)"
   ]
  }
 ],
 "metadata": {
  "kernelspec": {
   "display_name": "Python 2",
   "language": "python",
   "name": "python2"
  },
  "language_info": {
   "codemirror_mode": {
    "name": "ipython",
    "version": 2
   },
   "file_extension": ".py",
   "mimetype": "text/x-python",
   "name": "python",
   "nbconvert_exporter": "python",
   "pygments_lexer": "ipython2",
   "version": "2.7.13"
  }
 },
 "nbformat": 4,
 "nbformat_minor": 2
}
