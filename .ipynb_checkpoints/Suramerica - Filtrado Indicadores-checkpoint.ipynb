{
 "cells": [
  {
   "cell_type": "code",
   "execution_count": 28,
   "metadata": {
    "collapsed": true
   },
   "outputs": [],
   "source": [
    "import numpy as np\n",
    "import pandas as pd\n",
    "import plotly\n",
    "import plotly.plotly as py\n",
    "import plotly.graph_objs as go\n",
    "\n",
    "plotly.tools.set_credentials_file(username='ambigus9', api_key='VIIp594gf158yUUVfCUK')\n",
    "\n",
    "filtro1 = list()\n",
    "filtro2 = list()\n",
    "filtro3 = list()\n",
    "\n",
    "datos = pd.read_csv(\"suramerica.csv\")"
   ]
  },
  {
   "cell_type": "code",
   "execution_count": 29,
   "metadata": {
    "collapsed": true
   },
   "outputs": [],
   "source": [
    "paises = np.array(['Antigua and Barbuda','Argentina','Aruba','Bahamas, The','Barbados','Belize','Bolivia','Brazil','Cayman Islands','Chile','Colombia','Costa Rica','Cuba','Curacao','Dominica','Dominican Republic','Ecuador','El Salvador','Grenada','Guatemala','Guyana','Haiti','Honduras','Jamaica','Mexico','Nicaragua','Panama','Paraguay','Peru','Puerto Rico','Sint Maarten (Dutch part)','St. Kitts and Nevis','St. Vincent and the Grenadines','St. Lucia','St. Martin (French part)','Suriname','Trinidad and Tobago','Turks and Caicos Islands','Uruguay','Venezuela, RB','Virgin Islands (U.S.)'])"
   ]
  },
  {
   "cell_type": "code",
   "execution_count": 30,
   "metadata": {
    "collapsed": true
   },
   "outputs": [],
   "source": [
    "nombre_indicador = 'Agricultura y Desarrollo Rural'\n",
    "indicadores = np.array(['EG.ELC.ACCS.RU.ZS','EG.NSF.ACCS.RU.ZS'])"
   ]
  },
  {
   "cell_type": "code",
   "execution_count": 32,
   "metadata": {
    "collapsed": true
   },
   "outputs": [],
   "source": [
    "nombre_indicador = 'Ayuda y efectividad'\n",
    "indicadores = np.array(['DT.DOD.MDRI.CD','BX.GRT.EXTA.CD.WD','DT.DIS.IDAG.CD','DC.DAC.AUSL.CD'])"
   ]
  },
  {
   "cell_type": "markdown",
   "metadata": {},
   "source": [
    "## Algoritmo"
   ]
  },
  {
   "cell_type": "code",
   "execution_count": 33,
   "metadata": {
    "collapsed": false
   },
   "outputs": [],
   "source": [
    "temporal = list()\n",
    "output = {}\n",
    "\n",
    "for k in range(len(datos)):\n",
    "    cn = datos['CountryName'][k]\n",
    "    indicator_code = datos['IndicatorCode'][k]\n",
    "\n",
    "    if cn in paises and indicator_code in indicadores:\n",
    "        year = datos['Year'][k]\n",
    "\n",
    "        if cn not in output.keys():\n",
    "            output[cn] = []\n",
    "        output[cn].append(year)\n",
    "        \n",
    "for p in paises:\n",
    "    if p not in output.keys():\n",
    "        temporal.append(np.array([p,nombre_indicador,0]))\n",
    "        \n",
    "for o in output:\n",
    "    temporal.append(np.array([o,nombre_indicador,np.mean(output.get(o))]))\n",
    "\n",
    "temporal = sorted(temporal,key=lambda x:x[0]) \n",
    "\n",
    "for i in temporal: filtro1.append(i[0])\n",
    "for i in temporal: filtro2.append(i[1])\n",
    "for i in temporal: filtro3.append(i[2])"
   ]
  },
  {
   "cell_type": "markdown",
   "metadata": {},
   "source": [
    "## Graficamos la media de las agrupaciones de los indicadores"
   ]
  },
  {
   "cell_type": "code",
   "execution_count": 34,
   "metadata": {
    "collapsed": false
   },
   "outputs": [
    {
     "data": {
      "text/html": [
       "<iframe id=\"igraph\" scrolling=\"no\" style=\"border:none;\" seamless=\"seamless\" src=\"https://plot.ly/~ambigus9/84.embed\" height=\"525px\" width=\"100%\"></iframe>"
      ],
      "text/plain": [
       "<plotly.tools.PlotlyDisplay object>"
      ]
     },
     "execution_count": 34,
     "metadata": {},
     "output_type": "execute_result"
    }
   ],
   "source": [
    "data = [\n",
    "    go.Heatmap(\n",
    "        z=filtro3,\n",
    "        x=filtro2,\n",
    "        y=filtro1,\n",
    "        colorscale='Viridis'\n",
    "    )\n",
    "]\n",
    "py.iplot(data, filename='agricultura y ayuda - 4')"
   ]
  },
  {
   "cell_type": "code",
   "execution_count": null,
   "metadata": {
    "collapsed": true
   },
   "outputs": [],
   "source": []
  }
 ],
 "metadata": {
  "anaconda-cloud": {},
  "kernelspec": {
   "display_name": "Python [conda root]",
   "language": "python",
   "name": "conda-root-py"
  },
  "language_info": {
   "codemirror_mode": {
    "name": "ipython",
    "version": 2
   },
   "file_extension": ".py",
   "mimetype": "text/x-python",
   "name": "python",
   "nbconvert_exporter": "python",
   "pygments_lexer": "ipython2",
   "version": "2.7.12"
  }
 },
 "nbformat": 4,
 "nbformat_minor": 1
}
