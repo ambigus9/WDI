{
 "cells": [
  {
   "cell_type": "markdown",
   "metadata": {},
   "source": [
    "## World Development Indicators - Analytics"
   ]
  },
  {
   "cell_type": "code",
   "execution_count": 1,
   "metadata": {
    "collapsed": false
   },
   "outputs": [
    {
     "data": {
      "text/html": [
       "<div>\n",
       "<table border=\"1\" class=\"dataframe\">\n",
       "  <thead>\n",
       "    <tr style=\"text-align: right;\">\n",
       "      <th></th>\n",
       "      <th>0</th>\n",
       "      <th>1</th>\n",
       "      <th>2</th>\n",
       "      <th>3</th>\n",
       "      <th>4</th>\n",
       "      <th>5</th>\n",
       "      <th>6</th>\n",
       "      <th>7</th>\n",
       "      <th>8</th>\n",
       "      <th>9</th>\n",
       "      <th>10</th>\n",
       "      <th>11</th>\n",
       "      <th>12</th>\n",
       "      <th>13</th>\n",
       "      <th>14</th>\n",
       "    </tr>\n",
       "  </thead>\n",
       "  <tbody>\n",
       "    <tr>\n",
       "      <th>0</th>\n",
       "      <td>3.358406e+09</td>\n",
       "      <td>3.637845e+09</td>\n",
       "      <td>1.347350e+09</td>\n",
       "      <td>1.239080e+09</td>\n",
       "      <td>108.320559</td>\n",
       "      <td>0.071111</td>\n",
       "      <td>14517.635341</td>\n",
       "      <td>39348.639719</td>\n",
       "      <td>42622.666667</td>\n",
       "      <td>15786.172840</td>\n",
       "      <td>-1.046262</td>\n",
       "      <td>25735.714754</td>\n",
       "      <td>24723.111892</td>\n",
       "      <td>2.196543e+09</td>\n",
       "      <td>2.110118e+09</td>\n",
       "    </tr>\n",
       "    <tr>\n",
       "      <th>1</th>\n",
       "      <td>2.954188e+09</td>\n",
       "      <td>3.257308e+09</td>\n",
       "      <td>1.206410e+09</td>\n",
       "      <td>1.089944e+09</td>\n",
       "      <td>110.260684</td>\n",
       "      <td>-12.036015</td>\n",
       "      <td>12629.713786</td>\n",
       "      <td>34231.611819</td>\n",
       "      <td>37744.009270</td>\n",
       "      <td>13979.262693</td>\n",
       "      <td>-13.004332</td>\n",
       "      <td>22388.956865</td>\n",
       "      <td>21671.375749</td>\n",
       "      <td>1.932167e+09</td>\n",
       "      <td>1.870240e+09</td>\n",
       "    </tr>\n",
       "    <tr>\n",
       "      <th>2</th>\n",
       "      <td>2.743171e+09</td>\n",
       "      <td>3.065955e+09</td>\n",
       "      <td>1.135539e+09</td>\n",
       "      <td>1.012090e+09</td>\n",
       "      <td>111.766847</td>\n",
       "      <td>-7.142991</td>\n",
       "      <td>11602.142227</td>\n",
       "      <td>31446.478970</td>\n",
       "      <td>35146.738046</td>\n",
       "      <td>13017.310387</td>\n",
       "      <td>-8.136143</td>\n",
       "      <td>20567.359344</td>\n",
       "      <td>20151.309866</td>\n",
       "      <td>1.794152e+09</td>\n",
       "      <td>1.757859e+09</td>\n",
       "    </tr>\n",
       "    <tr>\n",
       "      <th>3</th>\n",
       "      <td>2.693974e+09</td>\n",
       "      <td>3.050780e+09</td>\n",
       "      <td>1.129918e+09</td>\n",
       "      <td>9.939385e+08</td>\n",
       "      <td>113.244595</td>\n",
       "      <td>-1.793436</td>\n",
       "      <td>11275.280156</td>\n",
       "      <td>30560.551094</td>\n",
       "      <td>34608.172248</td>\n",
       "      <td>12817.841573</td>\n",
       "      <td>-2.817256</td>\n",
       "      <td>19987.924139</td>\n",
       "      <td>19987.924139</td>\n",
       "      <td>1.761975e+09</td>\n",
       "      <td>1.761975e+09</td>\n",
       "    </tr>\n",
       "    <tr>\n",
       "      <th>4</th>\n",
       "      <td>2.802259e+09</td>\n",
       "      <td>3.252725e+09</td>\n",
       "      <td>1.204713e+09</td>\n",
       "      <td>1.033890e+09</td>\n",
       "      <td>116.075112</td>\n",
       "      <td>4.019542</td>\n",
       "      <td>11607.745344</td>\n",
       "      <td>31461.665675</td>\n",
       "      <td>36519.163794</td>\n",
       "      <td>13525.616220</td>\n",
       "      <td>2.948620</td>\n",
       "      <td>20577.292107</td>\n",
       "      <td>20946.700835</td>\n",
       "      <td>1.832799e+09</td>\n",
       "      <td>1.865702e+09</td>\n",
       "    </tr>\n",
       "  </tbody>\n",
       "</table>\n",
       "</div>"
      ],
      "text/plain": [
       "             0             1             2             3           4   \\\n",
       "0  3.358406e+09  3.637845e+09  1.347350e+09  1.239080e+09  108.320559   \n",
       "1  2.954188e+09  3.257308e+09  1.206410e+09  1.089944e+09  110.260684   \n",
       "2  2.743171e+09  3.065955e+09  1.135539e+09  1.012090e+09  111.766847   \n",
       "3  2.693974e+09  3.050780e+09  1.129918e+09  9.939385e+08  113.244595   \n",
       "4  2.802259e+09  3.252725e+09  1.204713e+09  1.033890e+09  116.075112   \n",
       "\n",
       "          5             6             7             8             9   \\\n",
       "0   0.071111  14517.635341  39348.639719  42622.666667  15786.172840   \n",
       "1 -12.036015  12629.713786  34231.611819  37744.009270  13979.262693   \n",
       "2  -7.142991  11602.142227  31446.478970  35146.738046  13017.310387   \n",
       "3  -1.793436  11275.280156  30560.551094  34608.172248  12817.841573   \n",
       "4   4.019542  11607.745344  31461.665675  36519.163794  13525.616220   \n",
       "\n",
       "          10            11            12            13            14  \n",
       "0  -1.046262  25735.714754  24723.111892  2.196543e+09  2.110118e+09  \n",
       "1 -13.004332  22388.956865  21671.375749  1.932167e+09  1.870240e+09  \n",
       "2  -8.136143  20567.359344  20151.309866  1.794152e+09  1.757859e+09  \n",
       "3  -2.817256  19987.924139  19987.924139  1.761975e+09  1.761975e+09  \n",
       "4   2.948620  20577.292107  20946.700835  1.832799e+09  1.865702e+09  "
      ]
     },
     "execution_count": 1,
     "metadata": {},
     "output_type": "execute_result"
    }
   ],
   "source": [
    "import numpy as np\n",
    "import pandas as pd\n",
    "import matplotlib.pyplot as plt\n",
    "\n",
    "tabla = np.array(pd.read_csv(\"https://www.dropbox.com/s/d1i6rs5wyhuvyjd/economia7.csv?dl=1\").drop('Unnamed: 0', 1))\n",
    "pd.DataFrame(tabla).head()"
   ]
  },
  {
   "cell_type": "markdown",
   "metadata": {},
   "source": [
    "## Train Test Split"
   ]
  },
  {
   "cell_type": "code",
   "execution_count": 2,
   "metadata": {
    "collapsed": false
   },
   "outputs": [],
   "source": [
    "def splitter(tabla,y_indicator):\n",
    "    from sklearn.model_selection import train_test_split\n",
    "    # Asignamos X e y, eliminando la columna y en X\n",
    "    X = np.delete(tabla[:,:], y_indicator, 1)\n",
    "    y = tabla[:,y_indicator]\n",
    "    # Separamos Train y Test respectivamente para X e y\n",
    "    X_train, X_test, y_train, y_test = train_test_split(X, y, test_size=0.2, random_state=42)\n",
    "    return X_train, X_test, y_train, y_test"
   ]
  },
  {
   "cell_type": "markdown",
   "metadata": {},
   "source": [
    "## Métricas de error\n",
    "### R2 Score - Coeficiente de Determinación\n",
    "El mejor valor posible es 1.0"
   ]
  },
  {
   "cell_type": "code",
   "execution_count": 3,
   "metadata": {
    "collapsed": false
   },
   "outputs": [],
   "source": [
    "from sklearn.metrics import r2_score\n",
    "def r2(y_true, y_predict):\n",
    "    return r2_score(y_true, y_predict)"
   ]
  },
  {
   "cell_type": "markdown",
   "metadata": {},
   "source": [
    "## Decission Tree Regressor"
   ]
  },
  {
   "cell_type": "code",
   "execution_count": 4,
   "metadata": {
    "collapsed": false
   },
   "outputs": [],
   "source": [
    "from sklearn.tree import DecisionTreeRegressor\n",
    "\n",
    "def DTR(X_train, X_test, y_train, y_test):\n",
    "    estimator = DecisionTreeRegressor()\n",
    "    estimator.fit(X_train,y_train)\n",
    "    y_predict = estimator.predict(X_test)\n",
    "    R2_test = r2(y_test,y_predict)\n",
    "    return R2_test"
   ]
  },
  {
   "cell_type": "markdown",
   "metadata": {},
   "source": [
    "## Indicador a Predecir"
   ]
  },
  {
   "cell_type": "code",
   "execution_count": 5,
   "metadata": {
    "collapsed": true
   },
   "outputs": [],
   "source": [
    "y_indicator = 5"
   ]
  },
  {
   "cell_type": "code",
   "execution_count": 6,
   "metadata": {
    "collapsed": true
   },
   "outputs": [],
   "source": [
    "X_train, X_test, y_train, y_test = splitter(tabla,y_indicator)"
   ]
  },
  {
   "cell_type": "code",
   "execution_count": 7,
   "metadata": {
    "collapsed": false
   },
   "outputs": [
    {
     "data": {
      "text/plain": [
       "0.92374177285919712"
      ]
     },
     "execution_count": 7,
     "metadata": {},
     "output_type": "execute_result"
    }
   ],
   "source": [
    "DTR(X_train, X_test, y_train, y_test)"
   ]
  },
  {
   "cell_type": "markdown",
   "metadata": {},
   "source": [
    "## Modificamos los valores nulos"
   ]
  },
  {
   "cell_type": "code",
   "execution_count": 8,
   "metadata": {
    "collapsed": false
   },
   "outputs": [],
   "source": [
    "def imputador(X):\n",
    "    from sklearn.preprocessing import Imputer\n",
    "    impute=Imputer(missing_values=0,strategy='mean',axis=0)\n",
    "    impute.fit(X)\n",
    "    X_imputado=impute.transform(X)\n",
    "    return X_imputado"
   ]
  },
  {
   "cell_type": "code",
   "execution_count": 9,
   "metadata": {
    "collapsed": true
   },
   "outputs": [],
   "source": [
    "tabla_imputada = imputador(tabla)"
   ]
  },
  {
   "cell_type": "code",
   "execution_count": 10,
   "metadata": {
    "collapsed": true
   },
   "outputs": [],
   "source": [
    "X_train, X_test, y_train, y_test = splitter(tabla_imputada,y_indicator)"
   ]
  },
  {
   "cell_type": "code",
   "execution_count": 11,
   "metadata": {
    "collapsed": false
   },
   "outputs": [
    {
     "data": {
      "text/plain": [
       "0.90862280628887393"
      ]
     },
     "execution_count": 11,
     "metadata": {},
     "output_type": "execute_result"
    }
   ],
   "source": [
    "DTR(X_train, X_test, y_train, y_test)"
   ]
  },
  {
   "cell_type": "markdown",
   "metadata": {
    "collapsed": true
   },
   "source": [
    "## GridSearchCV"
   ]
  },
  {
   "cell_type": "markdown",
   "metadata": {},
   "source": [
    "Efecutamos un GridSearchCV para buscar el mejor valor del parámetro Max_depth (Máximo valor: 10) para nuestro modelo"
   ]
  },
  {
   "cell_type": "code",
   "execution_count": 12,
   "metadata": {
    "collapsed": false
   },
   "outputs": [],
   "source": [
    "def Grid_Search_CV(X_train, y_train):\n",
    "    from sklearn.grid_search import GridSearchCV\n",
    "    from sklearn.cross_validation import ShuffleSplit\n",
    "\n",
    "    cv = ShuffleSplit(X_train.shape[0], n_iter = 10, test_size=0.2, random_state = 42)\n",
    "    estimator = DecisionTreeRegressor()\n",
    "    params = {'max_depth': [1, 2, 3, 4, 5, 6, 7, 8, 9, 10]}\n",
    "\n",
    "    grid = GridSearchCV(estimator, params, cv=cv, scoring=\"r2\")\n",
    "\n",
    "    grid.fit(X_train, y_train)\n",
    "    for k,v in grid.best_params_.iteritems():\n",
    "        best_max_depth = v\n",
    "    return grid,best_max_depth"
   ]
  },
  {
   "cell_type": "markdown",
   "metadata": {},
   "source": [
    "## Gráfica de Scores del GridSearchCV"
   ]
  },
  {
   "cell_type": "markdown",
   "metadata": {},
   "source": [
    "Graficos cada score para cada valor del parámetro max_depth "
   ]
  },
  {
   "cell_type": "code",
   "execution_count": 13,
   "metadata": {
    "collapsed": false
   },
   "outputs": [],
   "source": [
    "def Grid_Search_CV_Plot(grid):\n",
    "    grid_mean_scores = [result.mean_validation_score for result in grid.grid_scores_]\n",
    "    plt.plot(range(1,11), grid_mean_scores)\n",
    "    plt.xlabel('Valor de Max_depth para el DecissionTreeRegressor')\n",
    "    plt.ylabel('Cross-Validated R2')\n",
    "    return plt.show()"
   ]
  },
  {
   "cell_type": "markdown",
   "metadata": {},
   "source": [
    "## DecissionTreeRegressor v2"
   ]
  },
  {
   "cell_type": "markdown",
   "metadata": {},
   "source": [
    "Ajustamos nuestra función DTR, asignando el Max_depth en base al mejor score del GridSearchCV"
   ]
  },
  {
   "cell_type": "code",
   "execution_count": 14,
   "metadata": {
    "collapsed": true
   },
   "outputs": [],
   "source": [
    "def DTR_v2(X_train, X_test, y_train, y_test, depth):\n",
    "    estimator = DecisionTreeRegressor(max_depth=depth)\n",
    "    estimator.fit(X_train,y_train)\n",
    "    y_predict = estimator.predict(X_test)\n",
    "    R2_test = r2(y_test,y_predict)\n",
    "    return R2_test"
   ]
  },
  {
   "cell_type": "code",
   "execution_count": 15,
   "metadata": {
    "collapsed": false
   },
   "outputs": [
    {
     "name": "stderr",
     "output_type": "stream",
     "text": [
      "C:\\Program Files\\Anaconda2\\lib\\site-packages\\sklearn\\cross_validation.py:44: DeprecationWarning: This module was deprecated in version 0.18 in favor of the model_selection module into which all the refactored classes and functions are moved. Also note that the interface of the new CV iterators are different from that of this module. This module will be removed in 0.20.\n",
      "  \"This module will be removed in 0.20.\", DeprecationWarning)\n",
      "C:\\Program Files\\Anaconda2\\lib\\site-packages\\sklearn\\grid_search.py:43: DeprecationWarning: This module was deprecated in version 0.18 in favor of the model_selection module into which all the refactored classes and functions are moved. This module will be removed in 0.20.\n",
      "  DeprecationWarning)\n"
     ]
    },
    {
     "data": {
      "text/plain": [
       "0.92715621655259439"
      ]
     },
     "execution_count": 15,
     "metadata": {},
     "output_type": "execute_result"
    }
   ],
   "source": [
    "grid,best_max_depth = Grid_Search_CV(X_train, y_train)\n",
    "DTR_v2(X_train, X_test, y_train, y_test, best_max_depth)"
   ]
  },
  {
   "cell_type": "markdown",
   "metadata": {},
   "source": [
    "## Curva de Aprendizaje"
   ]
  },
  {
   "cell_type": "code",
   "execution_count": 16,
   "metadata": {
    "collapsed": false
   },
   "outputs": [
    {
     "name": "stderr",
     "output_type": "stream",
     "text": [
      "C:\\Program Files\\Anaconda2\\lib\\site-packages\\sklearn\\learning_curve.py:23: DeprecationWarning: This module was deprecated in version 0.18 in favor of the model_selection module into which all the functions are moved. This module will be removed in 0.20\n",
      "  DeprecationWarning)\n"
     ]
    }
   ],
   "source": [
    "from sklearn import cross_validation\n",
    "from sklearn.naive_bayes import GaussianNB\n",
    "from sklearn.learning_curve import learning_curve\n",
    "from sklearn.svm import SVR\n",
    "from sklearn.cross_validation import train_test_split\n",
    "from sklearn.tree import DecisionTreeRegressor\n",
    "from sklearn.grid_search import GridSearchCV\n",
    "from sklearn.linear_model import LinearRegression\n",
    "from sklearn.preprocessing import MinMaxScaler\n",
    "  \n",
    "def plot_learning_curve(estimator, title, X, y, ylim=None, cv=None, scoring=None,\n",
    "                        n_jobs=1, train_sizes=np.linspace(.1, 1.0, 5)):\n",
    "    plt.title(title)\n",
    "    if ylim is not None:\n",
    "        plt.ylim(*ylim)\n",
    "    plt.xlabel(\"Training examples\")\n",
    "    plt.ylabel(\"Score\")\n",
    "    train_sizes, train_scores, test_scores = learning_curve(\n",
    "        estimator, X, y, cv=cv, n_jobs=n_jobs, train_sizes=train_sizes, scoring=scoring)\n",
    "    train_scores_mean = np.mean(train_scores, axis=1)\n",
    "    train_scores_std = np.std(train_scores, axis=1)\n",
    "    test_scores_mean = np.mean(test_scores, axis=1)\n",
    "    test_scores_std = np.std(test_scores, axis=1)\n",
    "    plt.grid()\n",
    "\n",
    "    plt.fill_between(train_sizes, train_scores_mean - train_scores_std,\n",
    "                     train_scores_mean + train_scores_std, alpha=0.1,\n",
    "                     color=\"r\")\n",
    "    plt.fill_between(train_sizes, test_scores_mean - test_scores_std,\n",
    "                     test_scores_mean + test_scores_std, alpha=0.1, color=\"g\")\n",
    "    plt.plot(train_sizes, train_scores_mean, 'o-', color=\"r\",\n",
    "             label=\"train score\")\n",
    "    plt.plot(train_sizes, test_scores_mean, 'o-', color=\"g\",\n",
    "             label=\"test score\")\n",
    "\n",
    "    plt.legend(loc=\"best\")\n",
    "    return plt"
   ]
  },
  {
   "cell_type": "markdown",
   "metadata": {},
   "source": [
    "## Tabla Imputada"
   ]
  },
  {
   "cell_type": "code",
   "execution_count": 17,
   "metadata": {
    "collapsed": false
   },
   "outputs": [
    {
     "data": {
      "image/png": "[encoded data removed]",
      "text/plain": [
       "<matplotlib.figure.Figure at 0xbdd4400>"
      ]
     },
     "metadata": {},
     "output_type": "display_data"
    }
   ],
   "source": [
    "X = np.delete(tabla_imputada[:,:], y_indicator, 1)\n",
    "y = tabla_imputada[:,y_indicator]\n",
    "\n",
    "title = \"Curva de aprendizaje\"\n",
    "estimator = DecisionTreeRegressor()\n",
    "cv = cross_validation.ShuffleSplit(X.shape[0], n_iter=10, test_size=0.2, random_state=42)\n",
    "\n",
    "plot_learning_curve(estimator, title, X, y, ylim=(0,1), cv=cv, scoring='r2',n_jobs=4, train_sizes=np.linspace(.1, 1.0, 5)).show()"
   ]
  },
  {
   "cell_type": "markdown",
   "metadata": {},
   "source": [
    "## Normalizamos los datos"
   ]
  },
  {
   "cell_type": "code",
   "execution_count": 18,
   "metadata": {
    "collapsed": true
   },
   "outputs": [],
   "source": [
    "def normalizar_datos(X):\n",
    "    from sklearn.preprocessing import StandardScaler\n",
    "    sc = StandardScaler()\n",
    "    X_norm = sc.fit_transform(X)\n",
    "    return X_norm"
   ]
  },
  {
   "cell_type": "code",
   "execution_count": 19,
   "metadata": {
    "collapsed": true
   },
   "outputs": [],
   "source": [
    "tabla_imputada_normalizada = normalizar_datos(tabla_imputada)"
   ]
  },
  {
   "cell_type": "markdown",
   "metadata": {},
   "source": [
    "## Tabla Imputada Normalizada"
   ]
  },
  {
   "cell_type": "code",
   "execution_count": 20,
   "metadata": {
    "collapsed": false
   },
   "outputs": [
    {
     "data": {
      "image/png": "[encoded data removed]",
      "text/plain": [
       "<matplotlib.figure.Figure at 0xbdd4940>"
      ]
     },
     "metadata": {},
     "output_type": "display_data"
    }
   ],
   "source": [
    "X = np.delete(tabla_imputada_normalizada[:,:], y_indicator, 1)\n",
    "y = tabla_imputada_normalizada[:,y_indicator]\n",
    "\n",
    "title = \"Curva de aprendizaje\"\n",
    "estimator = DecisionTreeRegressor()\n",
    "cv = cross_validation.ShuffleSplit(X.shape[0], n_iter=10, test_size=0.2, random_state=42)\n",
    "\n",
    "plot_learning_curve(estimator, title, X, y, ylim=(0,1), cv=cv, scoring='r2',n_jobs=4, train_sizes=np.linspace(.1, 1.0, 5)).show()"
   ]
  },
  {
   "cell_type": "markdown",
   "metadata": {},
   "source": [
    "## Iteramos para todos los indicadores"
   ]
  },
  {
   "cell_type": "code",
   "execution_count": 35,
   "metadata": {
    "collapsed": false
   },
   "outputs": [
    {
     "data": {
      "text/html": [
       "<div>\n",
       "<table border=\"1\" class=\"dataframe\">\n",
       "  <thead>\n",
       "    <tr style=\"text-align: right;\">\n",
       "      <th></th>\n",
       "      <th>Original</th>\n",
       "      <th>Imputando</th>\n",
       "      <th>GridSearchCV</th>\n",
       "    </tr>\n",
       "  </thead>\n",
       "  <tbody>\n",
       "    <tr>\n",
       "      <th>0</th>\n",
       "      <td>0.989166</td>\n",
       "      <td>0.999837</td>\n",
       "      <td>0.999805</td>\n",
       "    </tr>\n",
       "    <tr>\n",
       "      <th>1</th>\n",
       "      <td>0.996549</td>\n",
       "      <td>0.998974</td>\n",
       "      <td>0.998285</td>\n",
       "    </tr>\n",
       "    <tr>\n",
       "      <th>2</th>\n",
       "      <td>0.994742</td>\n",
       "      <td>0.968784</td>\n",
       "      <td>0.955633</td>\n",
       "    </tr>\n",
       "    <tr>\n",
       "      <th>3</th>\n",
       "      <td>0.999813</td>\n",
       "      <td>0.999807</td>\n",
       "      <td>0.999506</td>\n",
       "    </tr>\n",
       "    <tr>\n",
       "      <th>4</th>\n",
       "      <td>0.865312</td>\n",
       "      <td>0.747145</td>\n",
       "      <td>0.750805</td>\n",
       "    </tr>\n",
       "    <tr>\n",
       "      <th>5</th>\n",
       "      <td>0.919140</td>\n",
       "      <td>0.934557</td>\n",
       "      <td>0.923338</td>\n",
       "    </tr>\n",
       "    <tr>\n",
       "      <th>6</th>\n",
       "      <td>0.972520</td>\n",
       "      <td>0.931265</td>\n",
       "      <td>0.928218</td>\n",
       "    </tr>\n",
       "    <tr>\n",
       "      <th>7</th>\n",
       "      <td>0.999066</td>\n",
       "      <td>0.999082</td>\n",
       "      <td>0.999077</td>\n",
       "    </tr>\n",
       "    <tr>\n",
       "      <th>8</th>\n",
       "      <td>0.775258</td>\n",
       "      <td>0.757144</td>\n",
       "      <td>0.752063</td>\n",
       "    </tr>\n",
       "    <tr>\n",
       "      <th>9</th>\n",
       "      <td>0.991635</td>\n",
       "      <td>0.983446</td>\n",
       "      <td>0.975649</td>\n",
       "    </tr>\n",
       "    <tr>\n",
       "      <th>10</th>\n",
       "      <td>0.915466</td>\n",
       "      <td>0.884360</td>\n",
       "      <td>0.882147</td>\n",
       "    </tr>\n",
       "    <tr>\n",
       "      <th>11</th>\n",
       "      <td>0.997015</td>\n",
       "      <td>0.994075</td>\n",
       "      <td>0.924266</td>\n",
       "    </tr>\n",
       "    <tr>\n",
       "      <th>12</th>\n",
       "      <td>0.997692</td>\n",
       "      <td>0.995941</td>\n",
       "      <td>0.995576</td>\n",
       "    </tr>\n",
       "    <tr>\n",
       "      <th>13</th>\n",
       "      <td>0.997718</td>\n",
       "      <td>0.997567</td>\n",
       "      <td>0.997171</td>\n",
       "    </tr>\n",
       "    <tr>\n",
       "      <th>14</th>\n",
       "      <td>0.974773</td>\n",
       "      <td>0.975878</td>\n",
       "      <td>0.999407</td>\n",
       "    </tr>\n",
       "  </tbody>\n",
       "</table>\n",
       "</div>"
      ],
      "text/plain": [
       "    Original  Imputando  GridSearchCV\n",
       "0   0.989166   0.999837      0.999805\n",
       "1   0.996549   0.998974      0.998285\n",
       "2   0.994742   0.968784      0.955633\n",
       "3   0.999813   0.999807      0.999506\n",
       "4   0.865312   0.747145      0.750805\n",
       "5   0.919140   0.934557      0.923338\n",
       "6   0.972520   0.931265      0.928218\n",
       "7   0.999066   0.999082      0.999077\n",
       "8   0.775258   0.757144      0.752063\n",
       "9   0.991635   0.983446      0.975649\n",
       "10  0.915466   0.884360      0.882147\n",
       "11  0.997015   0.994075      0.924266\n",
       "12  0.997692   0.995941      0.995576\n",
       "13  0.997718   0.997567      0.997171\n",
       "14  0.974773   0.975878      0.999407"
      ]
     },
     "execution_count": 35,
     "metadata": {},
     "output_type": "execute_result"
    }
   ],
   "source": [
    "R2_global = list()\n",
    "\n",
    "for i in range(0,np.shape(tabla)[1]):\n",
    "    ## Valores Originales\n",
    "    X_train, X_test, y_train, y_test = splitter(tabla,i)\n",
    "    R2_test_Original = DTR(X_train, X_test, y_train, y_test)\n",
    "\n",
    "    ## Sin Valores Nulos\n",
    "    X_train, X_test, y_train, y_test = splitter(tabla_imputada,i)\n",
    "    R2_test_Sin_Valores_Nulos = DTR(X_train, X_test, y_train, y_test)\n",
    "\n",
    "    # Aplicando un GridSearchCV\n",
    "    grid,best_max_depth = Grid_Search_CV(X_train, y_train)\n",
    "    R2_GridSearchCV = DTR_v2(X_train, X_test, y_train, y_test, best_max_depth)\n",
    "    \n",
    "    # Recopilamos todos los R2\n",
    "    R2_global.append(np.array([R2_test_Original,R2_test_Sin_Valores_Nulos,R2_GridSearchCV]))\n",
    "\n",
    "pd.DataFrame(R2_global,columns=['Original','Imputando','GridSearchCV'])"
   ]
  },
  {
   "cell_type": "markdown",
   "metadata": {},
   "source": [
    "## Matriz de Correlación"
   ]
  },
  {
   "cell_type": "code",
   "execution_count": 36,
   "metadata": {
    "collapsed": false
   },
   "outputs": [
    {
     "data": {
      "image/png": "[encoded data removed]",
      "text/plain": [
       "<matplotlib.figure.Figure at 0xc0aad30>"
      ]
     },
     "metadata": {},
     "output_type": "display_data"
    }
   ],
   "source": [
    "def correlation_matrix(df):\n",
    "    from matplotlib import pyplot as plt\n",
    "    from matplotlib import cm as cm\n",
    "\n",
    "    fig = plt.figure()\n",
    "    ax1 = fig.add_subplot(111)\n",
    "    cmap = cm.get_cmap('jet', 30)\n",
    "    cax = ax1.imshow(df.corr(), interpolation=\"nearest\", cmap=cmap)\n",
    "    plt.title('Matriz de correlacion')\n",
    "    # Add colorbar, make sure to specify tick locations to match desired ticklabels\n",
    "    fig.colorbar(cax)\n",
    "    plt.show()\n",
    "\n",
    "correlation_matrix(pd.DataFrame(tabla))"
   ]
  },
  {
   "cell_type": "code",
   "execution_count": 61,
   "metadata": {
    "collapsed": false
   },
   "outputs": [
    {
     "name": "stdout",
     "output_type": "stream",
     "text": [
      "1.0\n",
      "0.990605707427\n",
      "0.909880736354\n"
     ]
    }
   ],
   "source": [
    "eliminar = []\n",
    "tabla_correlacion = np.array(pd.DataFrame(tabla).corr())\n",
    "for i in range(np.shape(tabla)[1]):\n",
    "    if abs(tabla_correlacion[i,0]) > 0.7:\n",
    "        print tabla_correlacion[i,0]\n",
    "        eliminar.append(i)"
   ]
  },
  {
   "cell_type": "code",
   "execution_count": 62,
   "metadata": {
    "collapsed": false
   },
   "outputs": [
    {
     "data": {
      "text/html": [
       "<div>\n",
       "<table border=\"1\" class=\"dataframe\">\n",
       "  <thead>\n",
       "    <tr style=\"text-align: right;\">\n",
       "      <th></th>\n",
       "      <th>0</th>\n",
       "    </tr>\n",
       "  </thead>\n",
       "  <tbody>\n",
       "    <tr>\n",
       "      <th>0</th>\n",
       "      <td>1.000000</td>\n",
       "    </tr>\n",
       "    <tr>\n",
       "      <th>1</th>\n",
       "      <td>0.990606</td>\n",
       "    </tr>\n",
       "    <tr>\n",
       "      <th>2</th>\n",
       "      <td>0.090712</td>\n",
       "    </tr>\n",
       "    <tr>\n",
       "      <th>3</th>\n",
       "      <td>0.099212</td>\n",
       "    </tr>\n",
       "    <tr>\n",
       "      <th>4</th>\n",
       "      <td>-0.061072</td>\n",
       "    </tr>\n",
       "    <tr>\n",
       "      <th>5</th>\n",
       "      <td>0.124149</td>\n",
       "    </tr>\n",
       "    <tr>\n",
       "      <th>6</th>\n",
       "      <td>-0.024066</td>\n",
       "    </tr>\n",
       "    <tr>\n",
       "      <th>7</th>\n",
       "      <td>0.909881</td>\n",
       "    </tr>\n",
       "    <tr>\n",
       "      <th>8</th>\n",
       "      <td>0.658499</td>\n",
       "    </tr>\n",
       "    <tr>\n",
       "      <th>9</th>\n",
       "      <td>0.001029</td>\n",
       "    </tr>\n",
       "    <tr>\n",
       "      <th>10</th>\n",
       "      <td>0.114914</td>\n",
       "    </tr>\n",
       "    <tr>\n",
       "      <th>11</th>\n",
       "      <td>0.030358</td>\n",
       "    </tr>\n",
       "    <tr>\n",
       "      <th>12</th>\n",
       "      <td>0.027835</td>\n",
       "    </tr>\n",
       "    <tr>\n",
       "      <th>13</th>\n",
       "      <td>0.123593</td>\n",
       "    </tr>\n",
       "    <tr>\n",
       "      <th>14</th>\n",
       "      <td>0.123857</td>\n",
       "    </tr>\n",
       "  </tbody>\n",
       "</table>\n",
       "</div>"
      ],
      "text/plain": [
       "           0\n",
       "0   1.000000\n",
       "1   0.990606\n",
       "2   0.090712\n",
       "3   0.099212\n",
       "4  -0.061072\n",
       "5   0.124149\n",
       "6  -0.024066\n",
       "7   0.909881\n",
       "8   0.658499\n",
       "9   0.001029\n",
       "10  0.114914\n",
       "11  0.030358\n",
       "12  0.027835\n",
       "13  0.123593\n",
       "14  0.123857"
      ]
     },
     "execution_count": 62,
     "metadata": {},
     "output_type": "execute_result"
    }
   ],
   "source": [
    "pd.DataFrame(tabla_correlacion[:,0])"
   ]
  },
  {
   "cell_type": "code",
   "execution_count": 65,
   "metadata": {
    "collapsed": false
   },
   "outputs": [
    {
     "data": {
      "text/html": [
       "<div>\n",
       "<table border=\"1\" class=\"dataframe\">\n",
       "  <thead>\n",
       "    <tr style=\"text-align: right;\">\n",
       "      <th></th>\n",
       "      <th>0</th>\n",
       "      <th>1</th>\n",
       "      <th>2</th>\n",
       "      <th>3</th>\n",
       "      <th>4</th>\n",
       "      <th>5</th>\n",
       "      <th>6</th>\n",
       "      <th>7</th>\n",
       "      <th>8</th>\n",
       "      <th>9</th>\n",
       "      <th>10</th>\n",
       "      <th>11</th>\n",
       "    </tr>\n",
       "  </thead>\n",
       "  <tbody>\n",
       "    <tr>\n",
       "      <th>0</th>\n",
       "      <td>1.347350e+09</td>\n",
       "      <td>1.239080e+09</td>\n",
       "      <td>108.320559</td>\n",
       "      <td>0.071111</td>\n",
       "      <td>14517.635341</td>\n",
       "      <td>42622.666667</td>\n",
       "      <td>15786.172840</td>\n",
       "      <td>-1.046262</td>\n",
       "      <td>25735.714754</td>\n",
       "      <td>24723.111892</td>\n",
       "      <td>2.196543e+09</td>\n",
       "      <td>2.110118e+09</td>\n",
       "    </tr>\n",
       "    <tr>\n",
       "      <th>1</th>\n",
       "      <td>1.206410e+09</td>\n",
       "      <td>1.089944e+09</td>\n",
       "      <td>110.260684</td>\n",
       "      <td>-12.036015</td>\n",
       "      <td>12629.713786</td>\n",
       "      <td>37744.009270</td>\n",
       "      <td>13979.262693</td>\n",
       "      <td>-13.004332</td>\n",
       "      <td>22388.956865</td>\n",
       "      <td>21671.375749</td>\n",
       "      <td>1.932167e+09</td>\n",
       "      <td>1.870240e+09</td>\n",
       "    </tr>\n",
       "    <tr>\n",
       "      <th>2</th>\n",
       "      <td>1.135539e+09</td>\n",
       "      <td>1.012090e+09</td>\n",
       "      <td>111.766847</td>\n",
       "      <td>-7.142991</td>\n",
       "      <td>11602.142227</td>\n",
       "      <td>35146.738046</td>\n",
       "      <td>13017.310387</td>\n",
       "      <td>-8.136143</td>\n",
       "      <td>20567.359344</td>\n",
       "      <td>20151.309866</td>\n",
       "      <td>1.794152e+09</td>\n",
       "      <td>1.757859e+09</td>\n",
       "    </tr>\n",
       "    <tr>\n",
       "      <th>3</th>\n",
       "      <td>1.129918e+09</td>\n",
       "      <td>9.939385e+08</td>\n",
       "      <td>113.244595</td>\n",
       "      <td>-1.793436</td>\n",
       "      <td>11275.280156</td>\n",
       "      <td>34608.172248</td>\n",
       "      <td>12817.841573</td>\n",
       "      <td>-2.817256</td>\n",
       "      <td>19987.924139</td>\n",
       "      <td>19987.924139</td>\n",
       "      <td>1.761975e+09</td>\n",
       "      <td>1.761975e+09</td>\n",
       "    </tr>\n",
       "    <tr>\n",
       "      <th>4</th>\n",
       "      <td>1.204713e+09</td>\n",
       "      <td>1.033890e+09</td>\n",
       "      <td>116.075112</td>\n",
       "      <td>4.019542</td>\n",
       "      <td>11607.745344</td>\n",
       "      <td>36519.163794</td>\n",
       "      <td>13525.616220</td>\n",
       "      <td>2.948620</td>\n",
       "      <td>20577.292107</td>\n",
       "      <td>20946.700835</td>\n",
       "      <td>1.832799e+09</td>\n",
       "      <td>1.865702e+09</td>\n",
       "    </tr>\n",
       "  </tbody>\n",
       "</table>\n",
       "</div>"
      ],
      "text/plain": [
       "             0             1           2          3             4   \\\n",
       "0  1.347350e+09  1.239080e+09  108.320559   0.071111  14517.635341   \n",
       "1  1.206410e+09  1.089944e+09  110.260684 -12.036015  12629.713786   \n",
       "2  1.135539e+09  1.012090e+09  111.766847  -7.142991  11602.142227   \n",
       "3  1.129918e+09  9.939385e+08  113.244595  -1.793436  11275.280156   \n",
       "4  1.204713e+09  1.033890e+09  116.075112   4.019542  11607.745344   \n",
       "\n",
       "             5             6          7             8             9   \\\n",
       "0  42622.666667  15786.172840  -1.046262  25735.714754  24723.111892   \n",
       "1  37744.009270  13979.262693 -13.004332  22388.956865  21671.375749   \n",
       "2  35146.738046  13017.310387  -8.136143  20567.359344  20151.309866   \n",
       "3  34608.172248  12817.841573  -2.817256  19987.924139  19987.924139   \n",
       "4  36519.163794  13525.616220   2.948620  20577.292107  20946.700835   \n",
       "\n",
       "             10            11  \n",
       "0  2.196543e+09  2.110118e+09  \n",
       "1  1.932167e+09  1.870240e+09  \n",
       "2  1.794152e+09  1.757859e+09  \n",
       "3  1.761975e+09  1.761975e+09  \n",
       "4  1.832799e+09  1.865702e+09  "
      ]
     },
     "execution_count": 65,
     "metadata": {},
     "output_type": "execute_result"
    }
   ],
   "source": [
    "temporal = tabla[:,:]\n",
    "\n",
    "for i in range(len(eliminar)):\n",
    "    temporal = np.delete(temporal[:,:], eliminar[i]-i, 1)\n",
    "\n",
    "pd.DataFrame(temporal).head()"
   ]
  },
  {
   "cell_type": "code",
   "execution_count": 66,
   "metadata": {
    "collapsed": false
   },
   "outputs": [
    {
     "data": {
      "text/html": [
       "<div>\n",
       "<table border=\"1\" class=\"dataframe\">\n",
       "  <thead>\n",
       "    <tr style=\"text-align: right;\">\n",
       "      <th></th>\n",
       "      <th>0</th>\n",
       "      <th>1</th>\n",
       "      <th>2</th>\n",
       "      <th>3</th>\n",
       "      <th>4</th>\n",
       "      <th>5</th>\n",
       "      <th>6</th>\n",
       "      <th>7</th>\n",
       "      <th>8</th>\n",
       "      <th>9</th>\n",
       "      <th>10</th>\n",
       "      <th>11</th>\n",
       "      <th>12</th>\n",
       "      <th>13</th>\n",
       "      <th>14</th>\n",
       "    </tr>\n",
       "  </thead>\n",
       "  <tbody>\n",
       "    <tr>\n",
       "      <th>0</th>\n",
       "      <td>3.358406e+09</td>\n",
       "      <td>3.637845e+09</td>\n",
       "      <td>1.347350e+09</td>\n",
       "      <td>1.239080e+09</td>\n",
       "      <td>108.320559</td>\n",
       "      <td>0.071111</td>\n",
       "      <td>14517.635341</td>\n",
       "      <td>39348.639719</td>\n",
       "      <td>42622.666667</td>\n",
       "      <td>15786.172840</td>\n",
       "      <td>-1.046262</td>\n",
       "      <td>25735.714754</td>\n",
       "      <td>24723.111892</td>\n",
       "      <td>2.196543e+09</td>\n",
       "      <td>2.110118e+09</td>\n",
       "    </tr>\n",
       "    <tr>\n",
       "      <th>1</th>\n",
       "      <td>2.954188e+09</td>\n",
       "      <td>3.257308e+09</td>\n",
       "      <td>1.206410e+09</td>\n",
       "      <td>1.089944e+09</td>\n",
       "      <td>110.260684</td>\n",
       "      <td>-12.036015</td>\n",
       "      <td>12629.713786</td>\n",
       "      <td>34231.611819</td>\n",
       "      <td>37744.009270</td>\n",
       "      <td>13979.262693</td>\n",
       "      <td>-13.004332</td>\n",
       "      <td>22388.956865</td>\n",
       "      <td>21671.375749</td>\n",
       "      <td>1.932167e+09</td>\n",
       "      <td>1.870240e+09</td>\n",
       "    </tr>\n",
       "    <tr>\n",
       "      <th>2</th>\n",
       "      <td>2.743171e+09</td>\n",
       "      <td>3.065955e+09</td>\n",
       "      <td>1.135539e+09</td>\n",
       "      <td>1.012090e+09</td>\n",
       "      <td>111.766847</td>\n",
       "      <td>-7.142991</td>\n",
       "      <td>11602.142227</td>\n",
       "      <td>31446.478970</td>\n",
       "      <td>35146.738046</td>\n",
       "      <td>13017.310387</td>\n",
       "      <td>-8.136143</td>\n",
       "      <td>20567.359344</td>\n",
       "      <td>20151.309866</td>\n",
       "      <td>1.794152e+09</td>\n",
       "      <td>1.757859e+09</td>\n",
       "    </tr>\n",
       "    <tr>\n",
       "      <th>3</th>\n",
       "      <td>2.693974e+09</td>\n",
       "      <td>3.050780e+09</td>\n",
       "      <td>1.129918e+09</td>\n",
       "      <td>9.939385e+08</td>\n",
       "      <td>113.244595</td>\n",
       "      <td>-1.793436</td>\n",
       "      <td>11275.280156</td>\n",
       "      <td>30560.551094</td>\n",
       "      <td>34608.172248</td>\n",
       "      <td>12817.841573</td>\n",
       "      <td>-2.817256</td>\n",
       "      <td>19987.924139</td>\n",
       "      <td>19987.924139</td>\n",
       "      <td>1.761975e+09</td>\n",
       "      <td>1.761975e+09</td>\n",
       "    </tr>\n",
       "    <tr>\n",
       "      <th>4</th>\n",
       "      <td>2.802259e+09</td>\n",
       "      <td>3.252725e+09</td>\n",
       "      <td>1.204713e+09</td>\n",
       "      <td>1.033890e+09</td>\n",
       "      <td>116.075112</td>\n",
       "      <td>4.019542</td>\n",
       "      <td>11607.745344</td>\n",
       "      <td>31461.665675</td>\n",
       "      <td>36519.163794</td>\n",
       "      <td>13525.616220</td>\n",
       "      <td>2.948620</td>\n",
       "      <td>20577.292107</td>\n",
       "      <td>20946.700835</td>\n",
       "      <td>1.832799e+09</td>\n",
       "      <td>1.865702e+09</td>\n",
       "    </tr>\n",
       "  </tbody>\n",
       "</table>\n",
       "</div>"
      ],
      "text/plain": [
       "             0             1             2             3           4   \\\n",
       "0  3.358406e+09  3.637845e+09  1.347350e+09  1.239080e+09  108.320559   \n",
       "1  2.954188e+09  3.257308e+09  1.206410e+09  1.089944e+09  110.260684   \n",
       "2  2.743171e+09  3.065955e+09  1.135539e+09  1.012090e+09  111.766847   \n",
       "3  2.693974e+09  3.050780e+09  1.129918e+09  9.939385e+08  113.244595   \n",
       "4  2.802259e+09  3.252725e+09  1.204713e+09  1.033890e+09  116.075112   \n",
       "\n",
       "          5             6             7             8             9   \\\n",
       "0   0.071111  14517.635341  39348.639719  42622.666667  15786.172840   \n",
       "1 -12.036015  12629.713786  34231.611819  37744.009270  13979.262693   \n",
       "2  -7.142991  11602.142227  31446.478970  35146.738046  13017.310387   \n",
       "3  -1.793436  11275.280156  30560.551094  34608.172248  12817.841573   \n",
       "4   4.019542  11607.745344  31461.665675  36519.163794  13525.616220   \n",
       "\n",
       "          10            11            12            13            14  \n",
       "0  -1.046262  25735.714754  24723.111892  2.196543e+09  2.110118e+09  \n",
       "1 -13.004332  22388.956865  21671.375749  1.932167e+09  1.870240e+09  \n",
       "2  -8.136143  20567.359344  20151.309866  1.794152e+09  1.757859e+09  \n",
       "3  -2.817256  19987.924139  19987.924139  1.761975e+09  1.761975e+09  \n",
       "4   2.948620  20577.292107  20946.700835  1.832799e+09  1.865702e+09  "
      ]
     },
     "execution_count": 66,
     "metadata": {},
     "output_type": "execute_result"
    }
   ],
   "source": [
    "pd.DataFrame(tabla).head()"
   ]
  },
  {
   "cell_type": "code",
   "execution_count": null,
   "metadata": {
    "collapsed": true
   },
   "outputs": [],
   "source": []
  }
 ],
 "metadata": {
  "anaconda-cloud": {},
  "kernelspec": {
   "display_name": "Python [default]",
   "language": "python",
   "name": "python2"
  },
  "language_info": {
   "codemirror_mode": {
    "name": "ipython",
    "version": 2
   },
   "file_extension": ".py",
   "mimetype": "text/x-python",
   "name": "python",
   "nbconvert_exporter": "python",
   "pygments_lexer": "ipython2",
   "version": "2.7.12"
  }
 },
 "nbformat": 4,
 "nbformat_minor": 1
}
