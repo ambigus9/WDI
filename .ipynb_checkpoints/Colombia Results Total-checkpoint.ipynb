{
 "cells": [
  {
   "cell_type": "markdown",
   "metadata": {},
   "source": [
    "# Colombia Results Total"
   ]
  },
  {
   "cell_type": "markdown",
   "metadata": {},
   "source": [
    "Cargamos los resultados de iterar todos los conjuntos de indicadores"
   ]
  },
  {
   "cell_type": "code",
   "execution_count": 45,
   "metadata": {
    "collapsed": false
   },
   "outputs": [],
   "source": [
    "import pandas as pd\n",
    "import numpy as np\n",
    "import time\n",
    "import plotly.plotly as py\n",
    "import plotly.graph_objs as go\n",
    "\n",
    "datos = pd.read_csv(\"suramerica.csv\").drop('Unnamed: 0', 1)\n",
    "paises = ['COL']\n",
    "pais_nombre = 'Colombia'\n",
    "\n",
    "preprocessing = 'imput'\n",
    "year_init = 2015\n",
    "year_range = 15\n",
    "look_back = 3\n",
    "years = range(year_init-year_range+1,year_init+1)[::-1]\n",
    "\n",
    "agricultura     = open(\"Indicadores/iagricultura.txt\").read().split(',')\n",
    "ambiente        = open(\"Indicadores/iambiente.txt\").read().split(',')\n",
    "ayuda           = open(\"Indicadores/iayuda.txt\").read().split(',')\n",
    "ciencia         = open(\"Indicadores/iciencia.txt\").read().split(',')\n",
    "clima           = open(\"Indicadores/iclima.txt\").read().split(',')\n",
    "comercio        = open(\"Indicadores/icomercio.txt\").read().split(',')\n",
    "deuda           = open(\"Indicadores/ideuda.txt\").read().split(',')\n",
    "economia        = open(\"Indicadores/ieconomia.txt\").read().split(',')\n",
    "educacion       = open(\"Indicadores/ieducacion.txt\").read().split(',')\n",
    "energia         = open(\"Indicadores/ienergia.txt\").read().split(',')\n",
    "finanzas        = open(\"Indicadores/ifinanzas.txt\").read().split(',')\n",
    "genero          = open(\"Indicadores/igenero.txt\").read().split(',')\n",
    "infraestructura = open(\"Indicadores/iinfraestructura.txt\").read().split(',')\n",
    "pobreza         = open(\"Indicadores/ipobreza.txt\").read().split(',')\n",
    "privado         = open(\"Indicadores/iprivado.txt\").read().split(',')\n",
    "publico         = open(\"Indicadores/ipublico.txt\").read().split(',')\n",
    "salud           = open(\"Indicadores/isalud.txt\").read().split(',')\n",
    "social          = open(\"Indicadores/isocial.txt\").read().split(',')\n",
    "trabajo         = open(\"Indicadores/itrabajo.txt\").read().split(',')\n",
    "urbano          = open(\"Indicadores/iurbano.txt\").read().split(',')\n",
    "\n",
    "\n",
    "conjunto_nombre = ['Agricultura','Ambiente','Ayuda','Ciencia','Clima','Comercio','Deuda','Economia','Educacion',\n",
    "                   'Energia','Finanzas','Genero','Infraestructura','Pobreza','Privado','Publico','Salud','Social',\n",
    "                   'Trabajo','Urbano']\n",
    "conjunto = [agricultura,ambiente,ayuda,ciencia,clima,comercio,deuda,economia,educacion,energia,finanzas,genero,\n",
    "            infraestructura,pobreza,privado,publico,salud,social,trabajo,urbano]"
   ]
  },
  {
   "cell_type": "code",
   "execution_count": 46,
   "metadata": {
    "collapsed": true
   },
   "outputs": [],
   "source": [
    "def tabla_base(indicadores):\n",
    "    tab = pd.DataFrame.pivot_table(datos, values='Value', index=['CountryCode', 'Year'], columns=['IndicatorCode']).loc[(paises,years),indicadores].sortlevel([\"CountryCode\",\"Year\"], ascending=[True,False])\n",
    "    return tab"
   ]
  },
  {
   "cell_type": "code",
   "execution_count": 47,
   "metadata": {
    "collapsed": true
   },
   "outputs": [],
   "source": [
    "def buscar_mejores(df):\n",
    "    return df[df.Resultados > 0.9].reset_index(drop=True)"
   ]
  },
  {
   "cell_type": "code",
   "execution_count": 48,
   "metadata": {
    "collapsed": false
   },
   "outputs": [],
   "source": [
    "def graficar_resultados(df,look_back):\n",
    "\n",
    "    trace = go.Heatmap(z=df[df['Look Back'] == look_back]['%'],\n",
    "                       x=df[df['Look Back'] == look_back]['Base'],\n",
    "                       y=df[df['Look Back'] == look_back]['Target'],\n",
    "                       zmax=1.0,\n",
    "                       zmin=0.0,\n",
    "                       colorscale = 'Viridis')\n",
    "    data=[trace]\n",
    "    \n",
    "    layout = go.Layout(\n",
    "        title=pais_nombre+' + '+search+': Total Heatmap with Look Back = '+str(look_back),\n",
    "        xaxis=dict(title='Base',   titlefont=dict(size=18)),\n",
    "        yaxis=dict(title='Target', titlefont=dict(size=18))\n",
    "    )\n",
    "    \n",
    "    fig = go.Figure(data=data, layout=layout)\n",
    "\n",
    "    return py.iplot(fig,filename=pais_nombre+' + '+search+': Total Heatmap with Look Back = '+str(look_back))"
   ]
  },
  {
   "cell_type": "code",
   "execution_count": 58,
   "metadata": {
    "collapsed": false
   },
   "outputs": [],
   "source": [
    "def buscar_resultados(df,indicador_1,indicador_2,look_back):\n",
    "    #Buscamos Resultados en base al conjunto de indicadores Base, Target y Look Back\n",
    "    temp = df[(df['Base']==indicador_1)&(df['Target']==indicador_2)&(df['Look Back'] == look_back)]['Results'].values[0]\n",
    "    df_temp = temp.replace(\"'\",\"\").replace(\"[\",\"\").replace(\"]\",\"\").replace(\" \",\"\").split('\\n')\n",
    "    results = []\n",
    "    for i in df_temp: \n",
    "        results.append(float(i))\n",
    "    \n",
    "    # Códigos de los indicadores con registros \n",
    "    df_nombres = pd.DataFrame(conjunto_nombre, columns=['Resultados'])\n",
    "    indicador_1 = conjunto[df_nombres[df_nombres['Resultados']==indicador_1].index.values[0]]\n",
    "    indicador_2 = conjunto[df_nombres[df_nombres['Resultados']==indicador_2].index.values[0]]     \n",
    "    df = pd.DataFrame(indicador_2)\n",
    "    \n",
    "    # Filtro indicadores repetidos\n",
    "    if(indicador_1!=indicador_2):\n",
    "        indicador_2 = np.array(df.loc[~df.ix[:,0].isin(indicador_1)]).flatten()\n",
    "    df_zeros = tabla_base(indicador_2).dropna(thresh=5,axis=1)\n",
    "    icodes = df_zeros.columns.values\n",
    "\n",
    "    # Buscamos Nombres de los Códigos de los Indicadores\n",
    "    nombres = pd.DataFrame(datos).loc[:,['IndicatorName','IndicatorCode']].set_index('IndicatorCode').loc[icodes].drop_duplicates()\n",
    "\n",
    "    # Concatenamos Resultados y Nombres, Reindexando en base a los nombres\n",
    "    df_results = pd.DataFrame(np.column_stack([nombres,results]),columns=['Indicadores','Resultados'])\n",
    "    \n",
    "    return df_results"
   ]
  },
  {
   "cell_type": "code",
   "execution_count": 50,
   "metadata": {
    "collapsed": false
   },
   "outputs": [],
   "source": [
    "def graficar_resultados_individuales(df,indicador_base,indicador_target,look_back):\n",
    "\n",
    "    df_temp = buscar_resultados(df,indicador_base,indicador_target,look_back)\n",
    "\n",
    "    data = [go.Bar(\n",
    "                x= df_temp['Indicadores'],\n",
    "                y= df_temp['Resultados'],\n",
    "\n",
    "        marker=dict(     \n",
    "            color = df_temp['Resultados'].values,\n",
    "            colorscale ='Viridis',\n",
    "            cmax=1.0,\n",
    "            cmin=0.0,\n",
    "            showscale = True\n",
    "            ),\n",
    "        )]\n",
    "\n",
    "    layout = go.Layout(\n",
    "        title=pais_nombre+' + '+search+': Result to predict '+indicador_target+' from '+indicador_base+' with '+'Look Back = '+str(look_back),\n",
    "    )\n",
    "    \n",
    "    fig = go.Figure(data=data, layout=layout)\n",
    "\n",
    "    return py.iplot(fig, filename=pais_nombre+' + '+search+': Result to predict '+indicador_target+' from '+indicador_base+' with '+'Look Back = '+str(look_back))"
   ]
  },
  {
   "cell_type": "code",
   "execution_count": 51,
   "metadata": {
    "collapsed": true
   },
   "outputs": [],
   "source": [
    "def conjuntos_performance(df,look_back,perform,predict,rango):\n",
    "    return df[df['Look Back']==look_back].groupby(predict).mean().sort_values('%', ascending=perform).index.values[:rango]"
   ]
  },
  {
   "cell_type": "code",
   "execution_count": 52,
   "metadata": {
    "collapsed": true
   },
   "outputs": [],
   "source": [
    "def predecibles_predictores(df,look_back,rango):\n",
    "    return pd.DataFrame(np.column_stack([conjuntos_performance(df,look_back,False,'Base',rango),conjuntos_performance(df,look_back,True,'Base',rango),conjuntos_performance(df,look_back,False,'Target',rango),conjuntos_performance(df,look_back,True,'Target',rango)]),columns=[['Predictor','Predictor','Predictable','Predictable'],['Best','Worse','Easy','Hard']])"
   ]
  },
  {
   "cell_type": "markdown",
   "metadata": {},
   "source": [
    "# Original"
   ]
  },
  {
   "cell_type": "code",
   "execution_count": 53,
   "metadata": {
    "collapsed": false
   },
   "outputs": [],
   "source": [
    "original = pd.read_csv(\"colombia_original_log.csv\").drop(['Unnamed: 0'], 1)\n",
    "search   = 'original'"
   ]
  },
  {
   "cell_type": "markdown",
   "metadata": {},
   "source": [
    "## Mejores Combinaciones"
   ]
  },
  {
   "cell_type": "code",
   "execution_count": 54,
   "metadata": {
    "collapsed": false
   },
   "outputs": [
    {
     "data": {
      "text/html": [
       "<div>\n",
       "<table border=\"1\" class=\"dataframe\">\n",
       "  <thead>\n",
       "    <tr style=\"text-align: right;\">\n",
       "      <th></th>\n",
       "      <th>Base</th>\n",
       "      <th>Target</th>\n",
       "      <th>Look Back</th>\n",
       "      <th>Reg</th>\n",
       "      <th>%</th>\n",
       "    </tr>\n",
       "  </thead>\n",
       "  <tbody>\n",
       "    <tr>\n",
       "      <th>0</th>\n",
       "      <td>Social</td>\n",
       "      <td>Urbano</td>\n",
       "      <td>2</td>\n",
       "      <td>24</td>\n",
       "      <td>0.721845</td>\n",
       "    </tr>\n",
       "    <tr>\n",
       "      <th>1</th>\n",
       "      <td>Social</td>\n",
       "      <td>Urbano</td>\n",
       "      <td>3</td>\n",
       "      <td>24</td>\n",
       "      <td>0.693165</td>\n",
       "    </tr>\n",
       "    <tr>\n",
       "      <th>2</th>\n",
       "      <td>Urbano</td>\n",
       "      <td>Urbano</td>\n",
       "      <td>1</td>\n",
       "      <td>24</td>\n",
       "      <td>0.669267</td>\n",
       "    </tr>\n",
       "    <tr>\n",
       "      <th>3</th>\n",
       "      <td>Energia</td>\n",
       "      <td>Urbano</td>\n",
       "      <td>2</td>\n",
       "      <td>20</td>\n",
       "      <td>0.661917</td>\n",
       "    </tr>\n",
       "    <tr>\n",
       "      <th>4</th>\n",
       "      <td>Urbano</td>\n",
       "      <td>Salud</td>\n",
       "      <td>1</td>\n",
       "      <td>149</td>\n",
       "      <td>0.645482</td>\n",
       "    </tr>\n",
       "    <tr>\n",
       "      <th>5</th>\n",
       "      <td>Clima</td>\n",
       "      <td>Urbano</td>\n",
       "      <td>2</td>\n",
       "      <td>16</td>\n",
       "      <td>0.643453</td>\n",
       "    </tr>\n",
       "    <tr>\n",
       "      <th>6</th>\n",
       "      <td>Social</td>\n",
       "      <td>Salud</td>\n",
       "      <td>2</td>\n",
       "      <td>145</td>\n",
       "      <td>0.641142</td>\n",
       "    </tr>\n",
       "    <tr>\n",
       "      <th>7</th>\n",
       "      <td>Salud</td>\n",
       "      <td>Urbano</td>\n",
       "      <td>2</td>\n",
       "      <td>21</td>\n",
       "      <td>0.639400</td>\n",
       "    </tr>\n",
       "    <tr>\n",
       "      <th>8</th>\n",
       "      <td>Salud</td>\n",
       "      <td>Salud</td>\n",
       "      <td>1</td>\n",
       "      <td>152</td>\n",
       "      <td>0.637943</td>\n",
       "    </tr>\n",
       "    <tr>\n",
       "      <th>9</th>\n",
       "      <td>Economia</td>\n",
       "      <td>Urbano</td>\n",
       "      <td>2</td>\n",
       "      <td>24</td>\n",
       "      <td>0.637235</td>\n",
       "    </tr>\n",
       "  </tbody>\n",
       "</table>\n",
       "</div>"
      ],
      "text/plain": [
       "       Base  Target  Look Back  Reg         %\n",
       "0    Social  Urbano          2   24  0.721845\n",
       "1    Social  Urbano          3   24  0.693165\n",
       "2    Urbano  Urbano          1   24  0.669267\n",
       "3   Energia  Urbano          2   20  0.661917\n",
       "4    Urbano   Salud          1  149  0.645482\n",
       "5     Clima  Urbano          2   16  0.643453\n",
       "6    Social   Salud          2  145  0.641142\n",
       "7     Salud  Urbano          2   21  0.639400\n",
       "8     Salud   Salud          1  152  0.637943\n",
       "9  Economia  Urbano          2   24  0.637235"
      ]
     },
     "execution_count": 54,
     "metadata": {},
     "output_type": "execute_result"
    }
   ],
   "source": [
    "original.sort_values('%', ascending=False).reset_index().drop(['index','Time','Results'],1)[:10]"
   ]
  },
  {
   "cell_type": "code",
   "execution_count": 59,
   "metadata": {
    "collapsed": false
   },
   "outputs": [
    {
     "data": {
      "text/html": [
       "<iframe id=\"igraph\" scrolling=\"no\" style=\"border:none;\" seamless=\"seamless\" src=\"https://plot.ly/~ambigus9/262.embed\" height=\"525px\" width=\"100%\"></iframe>"
      ],
      "text/plain": [
       "<plotly.tools.PlotlyDisplay object>"
      ]
     },
     "execution_count": 59,
     "metadata": {},
     "output_type": "execute_result"
    }
   ],
   "source": [
    "graficar_resultados_individuales(original,'Social','Urbano',2)"
   ]
  },
  {
   "cell_type": "markdown",
   "metadata": {},
   "source": [
    "## Peores Combinaciones"
   ]
  },
  {
   "cell_type": "code",
   "execution_count": 60,
   "metadata": {
    "collapsed": false
   },
   "outputs": [
    {
     "data": {
      "text/html": [
       "<div>\n",
       "<table border=\"1\" class=\"dataframe\">\n",
       "  <thead>\n",
       "    <tr style=\"text-align: right;\">\n",
       "      <th></th>\n",
       "      <th>Base</th>\n",
       "      <th>Target</th>\n",
       "      <th>Look Back</th>\n",
       "      <th>Reg</th>\n",
       "      <th>%</th>\n",
       "    </tr>\n",
       "  </thead>\n",
       "  <tbody>\n",
       "    <tr>\n",
       "      <th>0</th>\n",
       "      <td>Agricultura</td>\n",
       "      <td>Publico</td>\n",
       "      <td>3</td>\n",
       "      <td>97</td>\n",
       "      <td>0.107455</td>\n",
       "    </tr>\n",
       "    <tr>\n",
       "      <th>1</th>\n",
       "      <td>Finanzas</td>\n",
       "      <td>Publico</td>\n",
       "      <td>2</td>\n",
       "      <td>95</td>\n",
       "      <td>0.111846</td>\n",
       "    </tr>\n",
       "    <tr>\n",
       "      <th>2</th>\n",
       "      <td>Infraestructura</td>\n",
       "      <td>Publico</td>\n",
       "      <td>2</td>\n",
       "      <td>97</td>\n",
       "      <td>0.112536</td>\n",
       "    </tr>\n",
       "    <tr>\n",
       "      <th>3</th>\n",
       "      <td>Infraestructura</td>\n",
       "      <td>Publico</td>\n",
       "      <td>3</td>\n",
       "      <td>97</td>\n",
       "      <td>0.117392</td>\n",
       "    </tr>\n",
       "    <tr>\n",
       "      <th>4</th>\n",
       "      <td>Trabajo</td>\n",
       "      <td>Publico</td>\n",
       "      <td>2</td>\n",
       "      <td>97</td>\n",
       "      <td>0.117819</td>\n",
       "    </tr>\n",
       "    <tr>\n",
       "      <th>5</th>\n",
       "      <td>Ayuda</td>\n",
       "      <td>Publico</td>\n",
       "      <td>3</td>\n",
       "      <td>97</td>\n",
       "      <td>0.121123</td>\n",
       "    </tr>\n",
       "    <tr>\n",
       "      <th>6</th>\n",
       "      <td>Deuda</td>\n",
       "      <td>Publico</td>\n",
       "      <td>1</td>\n",
       "      <td>97</td>\n",
       "      <td>0.123299</td>\n",
       "    </tr>\n",
       "    <tr>\n",
       "      <th>7</th>\n",
       "      <td>Energia</td>\n",
       "      <td>Publico</td>\n",
       "      <td>2</td>\n",
       "      <td>97</td>\n",
       "      <td>0.127654</td>\n",
       "    </tr>\n",
       "    <tr>\n",
       "      <th>8</th>\n",
       "      <td>Publico</td>\n",
       "      <td>Publico</td>\n",
       "      <td>3</td>\n",
       "      <td>97</td>\n",
       "      <td>0.130190</td>\n",
       "    </tr>\n",
       "    <tr>\n",
       "      <th>9</th>\n",
       "      <td>Genero</td>\n",
       "      <td>Publico</td>\n",
       "      <td>1</td>\n",
       "      <td>87</td>\n",
       "      <td>0.130502</td>\n",
       "    </tr>\n",
       "  </tbody>\n",
       "</table>\n",
       "</div>"
      ],
      "text/plain": [
       "              Base   Target  Look Back  Reg         %\n",
       "0      Agricultura  Publico          3   97  0.107455\n",
       "1         Finanzas  Publico          2   95  0.111846\n",
       "2  Infraestructura  Publico          2   97  0.112536\n",
       "3  Infraestructura  Publico          3   97  0.117392\n",
       "4          Trabajo  Publico          2   97  0.117819\n",
       "5            Ayuda  Publico          3   97  0.121123\n",
       "6            Deuda  Publico          1   97  0.123299\n",
       "7          Energia  Publico          2   97  0.127654\n",
       "8          Publico  Publico          3   97  0.130190\n",
       "9           Genero  Publico          1   87  0.130502"
      ]
     },
     "execution_count": 60,
     "metadata": {},
     "output_type": "execute_result"
    }
   ],
   "source": [
    "original.sort_values('%', ascending=True).reset_index().drop(['index','Time','Results'],1)[:10]"
   ]
  },
  {
   "cell_type": "code",
   "execution_count": 61,
   "metadata": {
    "collapsed": false
   },
   "outputs": [
    {
     "data": {
      "text/html": [
       "<iframe id=\"igraph\" scrolling=\"no\" style=\"border:none;\" seamless=\"seamless\" src=\"https://plot.ly/~ambigus9/272.embed\" height=\"525px\" width=\"100%\"></iframe>"
      ],
      "text/plain": [
       "<plotly.tools.PlotlyDisplay object>"
      ]
     },
     "execution_count": 61,
     "metadata": {},
     "output_type": "execute_result"
    }
   ],
   "source": [
    "graficar_resultados_individuales(original,'Pobreza','Urbano',3)"
   ]
  },
  {
   "cell_type": "markdown",
   "metadata": {},
   "source": [
    "## Resultados"
   ]
  },
  {
   "cell_type": "code",
   "execution_count": 62,
   "metadata": {
    "collapsed": false
   },
   "outputs": [
    {
     "data": {
      "text/html": [
       "<iframe id=\"igraph\" scrolling=\"no\" style=\"border:none;\" seamless=\"seamless\" src=\"https://plot.ly/~ambigus9/250.embed\" height=\"525px\" width=\"100%\"></iframe>"
      ],
      "text/plain": [
       "<plotly.tools.PlotlyDisplay object>"
      ]
     },
     "execution_count": 62,
     "metadata": {},
     "output_type": "execute_result"
    }
   ],
   "source": [
    "graficar_resultados(original,1)"
   ]
  },
  {
   "cell_type": "code",
   "execution_count": 63,
   "metadata": {
    "collapsed": false
   },
   "outputs": [
    {
     "data": {
      "text/html": [
       "<iframe id=\"igraph\" scrolling=\"no\" style=\"border:none;\" seamless=\"seamless\" src=\"https://plot.ly/~ambigus9/252.embed\" height=\"525px\" width=\"100%\"></iframe>"
      ],
      "text/plain": [
       "<plotly.tools.PlotlyDisplay object>"
      ]
     },
     "execution_count": 63,
     "metadata": {},
     "output_type": "execute_result"
    }
   ],
   "source": [
    "graficar_resultados(original,2)"
   ]
  },
  {
   "cell_type": "code",
   "execution_count": 64,
   "metadata": {
    "collapsed": false
   },
   "outputs": [
    {
     "data": {
      "text/html": [
       "<iframe id=\"igraph\" scrolling=\"no\" style=\"border:none;\" seamless=\"seamless\" src=\"https://plot.ly/~ambigus9/254.embed\" height=\"525px\" width=\"100%\"></iframe>"
      ],
      "text/plain": [
       "<plotly.tools.PlotlyDisplay object>"
      ]
     },
     "execution_count": 64,
     "metadata": {},
     "output_type": "execute_result"
    }
   ],
   "source": [
    "graficar_resultados(original,3)"
   ]
  },
  {
   "cell_type": "markdown",
   "metadata": {},
   "source": [
    "## Best and Worse Predictors and Predictable"
   ]
  },
  {
   "cell_type": "markdown",
   "metadata": {},
   "source": [
    "- Con el objetivo de encontrar los conjuntos con mayor grado de predictibilidad, determinamos el promedio de su rendimiento para dos casos:\n",
    "\n",
    " **Predictor:** Conjunto que predice a otro conjunto\n",
    " \n",
    " **Predecible:** Conjunto que es predecido por otro conjunto"
   ]
  },
  {
   "cell_type": "code",
   "execution_count": 65,
   "metadata": {
    "collapsed": false
   },
   "outputs": [
    {
     "data": {
      "text/html": [
       "<div>\n",
       "<table border=\"1\" class=\"dataframe\">\n",
       "  <thead>\n",
       "    <tr>\n",
       "      <th></th>\n",
       "      <th colspan=\"2\" halign=\"left\">Predictor</th>\n",
       "      <th colspan=\"2\" halign=\"left\">Predictable</th>\n",
       "    </tr>\n",
       "    <tr>\n",
       "      <th></th>\n",
       "      <th>Best</th>\n",
       "      <th>Worse</th>\n",
       "      <th>Easy</th>\n",
       "      <th>Hard</th>\n",
       "    </tr>\n",
       "  </thead>\n",
       "  <tbody>\n",
       "    <tr>\n",
       "      <th>0</th>\n",
       "      <td>Salud</td>\n",
       "      <td>Pobreza</td>\n",
       "      <td>Salud</td>\n",
       "      <td>Publico</td>\n",
       "    </tr>\n",
       "    <tr>\n",
       "      <th>1</th>\n",
       "      <td>Urbano</td>\n",
       "      <td>Deuda</td>\n",
       "      <td>Urbano</td>\n",
       "      <td>Pobreza</td>\n",
       "    </tr>\n",
       "    <tr>\n",
       "      <th>2</th>\n",
       "      <td>Economia</td>\n",
       "      <td>Publico</td>\n",
       "      <td>Economia</td>\n",
       "      <td>Educacion</td>\n",
       "    </tr>\n",
       "    <tr>\n",
       "      <th>3</th>\n",
       "      <td>Clima</td>\n",
       "      <td>Educacion</td>\n",
       "      <td>Agricultura</td>\n",
       "      <td>Genero</td>\n",
       "    </tr>\n",
       "    <tr>\n",
       "      <th>4</th>\n",
       "      <td>Ciencia</td>\n",
       "      <td>Trabajo</td>\n",
       "      <td>Privado</td>\n",
       "      <td>Energia</td>\n",
       "    </tr>\n",
       "  </tbody>\n",
       "</table>\n",
       "</div>"
      ],
      "text/plain": [
       "  Predictor             Predictable           \n",
       "       Best      Worse         Easy       Hard\n",
       "0     Salud    Pobreza        Salud    Publico\n",
       "1    Urbano      Deuda       Urbano    Pobreza\n",
       "2  Economia    Publico     Economia  Educacion\n",
       "3     Clima  Educacion  Agricultura     Genero\n",
       "4   Ciencia    Trabajo      Privado    Energia"
      ]
     },
     "execution_count": 65,
     "metadata": {},
     "output_type": "execute_result"
    }
   ],
   "source": [
    "predecibles_predictores(original,1,5)"
   ]
  },
  {
   "cell_type": "markdown",
   "metadata": {},
   "source": [
    "## GridSearchCV"
   ]
  },
  {
   "cell_type": "code",
   "execution_count": 66,
   "metadata": {
    "collapsed": true
   },
   "outputs": [],
   "source": [
    "grid = pd.read_csv(\"colombia_grid_total.csv\").drop(['Unnamed: 0'], 1)\n",
    "search   = 'grid'"
   ]
  },
  {
   "cell_type": "markdown",
   "metadata": {},
   "source": [
    "## Mejores Combinaciones"
   ]
  },
  {
   "cell_type": "code",
   "execution_count": 67,
   "metadata": {
    "collapsed": false
   },
   "outputs": [
    {
     "data": {
      "text/html": [
       "<div>\n",
       "<table border=\"1\" class=\"dataframe\">\n",
       "  <thead>\n",
       "    <tr style=\"text-align: right;\">\n",
       "      <th></th>\n",
       "      <th>Base</th>\n",
       "      <th>Target</th>\n",
       "      <th>Look Back</th>\n",
       "      <th>Reg</th>\n",
       "      <th>%</th>\n",
       "    </tr>\n",
       "  </thead>\n",
       "  <tbody>\n",
       "    <tr>\n",
       "      <th>0</th>\n",
       "      <td>Social</td>\n",
       "      <td>Urbano</td>\n",
       "      <td>2</td>\n",
       "      <td>24</td>\n",
       "      <td>0.805790</td>\n",
       "    </tr>\n",
       "    <tr>\n",
       "      <th>1</th>\n",
       "      <td>Salud</td>\n",
       "      <td>Urbano</td>\n",
       "      <td>2</td>\n",
       "      <td>21</td>\n",
       "      <td>0.749051</td>\n",
       "    </tr>\n",
       "    <tr>\n",
       "      <th>2</th>\n",
       "      <td>Urbano</td>\n",
       "      <td>Salud</td>\n",
       "      <td>3</td>\n",
       "      <td>149</td>\n",
       "      <td>0.741379</td>\n",
       "    </tr>\n",
       "    <tr>\n",
       "      <th>3</th>\n",
       "      <td>Trabajo</td>\n",
       "      <td>Urbano</td>\n",
       "      <td>1</td>\n",
       "      <td>24</td>\n",
       "      <td>0.736665</td>\n",
       "    </tr>\n",
       "    <tr>\n",
       "      <th>4</th>\n",
       "      <td>Social</td>\n",
       "      <td>Urbano</td>\n",
       "      <td>3</td>\n",
       "      <td>24</td>\n",
       "      <td>0.735455</td>\n",
       "    </tr>\n",
       "    <tr>\n",
       "      <th>5</th>\n",
       "      <td>Economia</td>\n",
       "      <td>Urbano</td>\n",
       "      <td>3</td>\n",
       "      <td>24</td>\n",
       "      <td>0.735405</td>\n",
       "    </tr>\n",
       "    <tr>\n",
       "      <th>6</th>\n",
       "      <td>Economia</td>\n",
       "      <td>Salud</td>\n",
       "      <td>2</td>\n",
       "      <td>152</td>\n",
       "      <td>0.715344</td>\n",
       "    </tr>\n",
       "    <tr>\n",
       "      <th>7</th>\n",
       "      <td>Energia</td>\n",
       "      <td>Urbano</td>\n",
       "      <td>2</td>\n",
       "      <td>20</td>\n",
       "      <td>0.703163</td>\n",
       "    </tr>\n",
       "    <tr>\n",
       "      <th>8</th>\n",
       "      <td>Economia</td>\n",
       "      <td>Urbano</td>\n",
       "      <td>1</td>\n",
       "      <td>24</td>\n",
       "      <td>0.702132</td>\n",
       "    </tr>\n",
       "    <tr>\n",
       "      <th>9</th>\n",
       "      <td>Urbano</td>\n",
       "      <td>Salud</td>\n",
       "      <td>1</td>\n",
       "      <td>149</td>\n",
       "      <td>0.700822</td>\n",
       "    </tr>\n",
       "  </tbody>\n",
       "</table>\n",
       "</div>"
      ],
      "text/plain": [
       "       Base  Target  Look Back  Reg         %\n",
       "0    Social  Urbano          2   24  0.805790\n",
       "1     Salud  Urbano          2   21  0.749051\n",
       "2    Urbano   Salud          3  149  0.741379\n",
       "3   Trabajo  Urbano          1   24  0.736665\n",
       "4    Social  Urbano          3   24  0.735455\n",
       "5  Economia  Urbano          3   24  0.735405\n",
       "6  Economia   Salud          2  152  0.715344\n",
       "7   Energia  Urbano          2   20  0.703163\n",
       "8  Economia  Urbano          1   24  0.702132\n",
       "9    Urbano   Salud          1  149  0.700822"
      ]
     },
     "execution_count": 67,
     "metadata": {},
     "output_type": "execute_result"
    }
   ],
   "source": [
    "grid.sort_values('%', ascending=False).reset_index().drop(['index','Time','Results'],1)[:10]"
   ]
  },
  {
   "cell_type": "markdown",
   "metadata": {},
   "source": [
    "## Peores Combinaciones"
   ]
  },
  {
   "cell_type": "code",
   "execution_count": 68,
   "metadata": {
    "collapsed": false
   },
   "outputs": [
    {
     "data": {
      "text/html": [
       "<div>\n",
       "<table border=\"1\" class=\"dataframe\">\n",
       "  <thead>\n",
       "    <tr style=\"text-align: right;\">\n",
       "      <th></th>\n",
       "      <th>Base</th>\n",
       "      <th>Target</th>\n",
       "      <th>Look Back</th>\n",
       "      <th>Reg</th>\n",
       "      <th>%</th>\n",
       "    </tr>\n",
       "  </thead>\n",
       "  <tbody>\n",
       "    <tr>\n",
       "      <th>0</th>\n",
       "      <td>Publico</td>\n",
       "      <td>Pobreza</td>\n",
       "      <td>1</td>\n",
       "      <td>25</td>\n",
       "      <td>0.085089</td>\n",
       "    </tr>\n",
       "    <tr>\n",
       "      <th>1</th>\n",
       "      <td>Ambiente</td>\n",
       "      <td>Publico</td>\n",
       "      <td>2</td>\n",
       "      <td>97</td>\n",
       "      <td>0.104770</td>\n",
       "    </tr>\n",
       "    <tr>\n",
       "      <th>2</th>\n",
       "      <td>Agricultura</td>\n",
       "      <td>Publico</td>\n",
       "      <td>2</td>\n",
       "      <td>97</td>\n",
       "      <td>0.112697</td>\n",
       "    </tr>\n",
       "    <tr>\n",
       "      <th>3</th>\n",
       "      <td>Ambiente</td>\n",
       "      <td>Publico</td>\n",
       "      <td>1</td>\n",
       "      <td>97</td>\n",
       "      <td>0.114057</td>\n",
       "    </tr>\n",
       "    <tr>\n",
       "      <th>4</th>\n",
       "      <td>Infraestructura</td>\n",
       "      <td>Pobreza</td>\n",
       "      <td>1</td>\n",
       "      <td>25</td>\n",
       "      <td>0.115308</td>\n",
       "    </tr>\n",
       "    <tr>\n",
       "      <th>5</th>\n",
       "      <td>Pobreza</td>\n",
       "      <td>Publico</td>\n",
       "      <td>3</td>\n",
       "      <td>97</td>\n",
       "      <td>0.120765</td>\n",
       "    </tr>\n",
       "    <tr>\n",
       "      <th>6</th>\n",
       "      <td>Deuda</td>\n",
       "      <td>Publico</td>\n",
       "      <td>2</td>\n",
       "      <td>97</td>\n",
       "      <td>0.124598</td>\n",
       "    </tr>\n",
       "    <tr>\n",
       "      <th>7</th>\n",
       "      <td>Finanzas</td>\n",
       "      <td>Pobreza</td>\n",
       "      <td>1</td>\n",
       "      <td>25</td>\n",
       "      <td>0.129712</td>\n",
       "    </tr>\n",
       "    <tr>\n",
       "      <th>8</th>\n",
       "      <td>Privado</td>\n",
       "      <td>Publico</td>\n",
       "      <td>3</td>\n",
       "      <td>92</td>\n",
       "      <td>0.129792</td>\n",
       "    </tr>\n",
       "    <tr>\n",
       "      <th>9</th>\n",
       "      <td>Finanzas</td>\n",
       "      <td>Publico</td>\n",
       "      <td>3</td>\n",
       "      <td>95</td>\n",
       "      <td>0.131903</td>\n",
       "    </tr>\n",
       "  </tbody>\n",
       "</table>\n",
       "</div>"
      ],
      "text/plain": [
       "              Base   Target  Look Back  Reg         %\n",
       "0          Publico  Pobreza          1   25  0.085089\n",
       "1         Ambiente  Publico          2   97  0.104770\n",
       "2      Agricultura  Publico          2   97  0.112697\n",
       "3         Ambiente  Publico          1   97  0.114057\n",
       "4  Infraestructura  Pobreza          1   25  0.115308\n",
       "5          Pobreza  Publico          3   97  0.120765\n",
       "6            Deuda  Publico          2   97  0.124598\n",
       "7         Finanzas  Pobreza          1   25  0.129712\n",
       "8          Privado  Publico          3   92  0.129792\n",
       "9         Finanzas  Publico          3   95  0.131903"
      ]
     },
     "execution_count": 68,
     "metadata": {},
     "output_type": "execute_result"
    }
   ],
   "source": [
    "grid.sort_values('%', ascending=True).reset_index().drop(['index','Time','Results'],1)[:10]"
   ]
  },
  {
   "cell_type": "code",
   "execution_count": 69,
   "metadata": {
    "collapsed": false
   },
   "outputs": [
    {
     "data": {
      "text/html": [
       "<iframe id=\"igraph\" scrolling=\"no\" style=\"border:none;\" seamless=\"seamless\" src=\"https://plot.ly/~ambigus9/274.embed\" height=\"525px\" width=\"100%\"></iframe>"
      ],
      "text/plain": [
       "<plotly.tools.PlotlyDisplay object>"
      ]
     },
     "execution_count": 69,
     "metadata": {},
     "output_type": "execute_result"
    }
   ],
   "source": [
    "graficar_resultados(grid,1)"
   ]
  },
  {
   "cell_type": "code",
   "execution_count": 70,
   "metadata": {
    "collapsed": false
   },
   "outputs": [
    {
     "data": {
      "text/html": [
       "<iframe id=\"igraph\" scrolling=\"no\" style=\"border:none;\" seamless=\"seamless\" src=\"https://plot.ly/~ambigus9/276.embed\" height=\"525px\" width=\"100%\"></iframe>"
      ],
      "text/plain": [
       "<plotly.tools.PlotlyDisplay object>"
      ]
     },
     "execution_count": 70,
     "metadata": {},
     "output_type": "execute_result"
    }
   ],
   "source": [
    "graficar_resultados(grid,2)"
   ]
  },
  {
   "cell_type": "code",
   "execution_count": 71,
   "metadata": {
    "collapsed": false
   },
   "outputs": [
    {
     "data": {
      "text/html": [
       "<iframe id=\"igraph\" scrolling=\"no\" style=\"border:none;\" seamless=\"seamless\" src=\"https://plot.ly/~ambigus9/278.embed\" height=\"525px\" width=\"100%\"></iframe>"
      ],
      "text/plain": [
       "<plotly.tools.PlotlyDisplay object>"
      ]
     },
     "execution_count": 71,
     "metadata": {},
     "output_type": "execute_result"
    }
   ],
   "source": [
    "graficar_resultados(grid,3)"
   ]
  },
  {
   "cell_type": "markdown",
   "metadata": {},
   "source": [
    "## Best and Worse Predictors and Predictable"
   ]
  },
  {
   "cell_type": "markdown",
   "metadata": {},
   "source": [
    "- Con el objetivo de encontrar los conjuntos con mayor grado de predictibilidad, determinamos el promedio de su rendimiento para dos casos:\n",
    "\n",
    " **Predictor:** Conjunto que predice a otro conjunto\n",
    " \n",
    " **Predecible:** Conjunto que es predecido por otro conjunto"
   ]
  },
  {
   "cell_type": "code",
   "execution_count": 72,
   "metadata": {
    "collapsed": false
   },
   "outputs": [
    {
     "data": {
      "text/html": [
       "<div>\n",
       "<table border=\"1\" class=\"dataframe\">\n",
       "  <thead>\n",
       "    <tr>\n",
       "      <th></th>\n",
       "      <th colspan=\"2\" halign=\"left\">Predictor</th>\n",
       "      <th colspan=\"2\" halign=\"left\">Predictable</th>\n",
       "    </tr>\n",
       "    <tr>\n",
       "      <th></th>\n",
       "      <th>Best</th>\n",
       "      <th>Worse</th>\n",
       "      <th>Easy</th>\n",
       "      <th>Hard</th>\n",
       "    </tr>\n",
       "  </thead>\n",
       "  <tbody>\n",
       "    <tr>\n",
       "      <th>0</th>\n",
       "      <td>Urbano</td>\n",
       "      <td>Pobreza</td>\n",
       "      <td>Urbano</td>\n",
       "      <td>Publico</td>\n",
       "    </tr>\n",
       "    <tr>\n",
       "      <th>1</th>\n",
       "      <td>Salud</td>\n",
       "      <td>Publico</td>\n",
       "      <td>Salud</td>\n",
       "      <td>Pobreza</td>\n",
       "    </tr>\n",
       "    <tr>\n",
       "      <th>2</th>\n",
       "      <td>Economia</td>\n",
       "      <td>Educacion</td>\n",
       "      <td>Agricultura</td>\n",
       "      <td>Ayuda</td>\n",
       "    </tr>\n",
       "    <tr>\n",
       "      <th>3</th>\n",
       "      <td>Privado</td>\n",
       "      <td>Ayuda</td>\n",
       "      <td>Economia</td>\n",
       "      <td>Educacion</td>\n",
       "    </tr>\n",
       "    <tr>\n",
       "      <th>4</th>\n",
       "      <td>Deuda</td>\n",
       "      <td>Ambiente</td>\n",
       "      <td>Social</td>\n",
       "      <td>Genero</td>\n",
       "    </tr>\n",
       "  </tbody>\n",
       "</table>\n",
       "</div>"
      ],
      "text/plain": [
       "  Predictor             Predictable           \n",
       "       Best      Worse         Easy       Hard\n",
       "0    Urbano    Pobreza       Urbano    Publico\n",
       "1     Salud    Publico        Salud    Pobreza\n",
       "2  Economia  Educacion  Agricultura      Ayuda\n",
       "3   Privado      Ayuda     Economia  Educacion\n",
       "4     Deuda   Ambiente       Social     Genero"
      ]
     },
     "execution_count": 72,
     "metadata": {},
     "output_type": "execute_result"
    }
   ],
   "source": [
    "predecibles_predictores(grid,1,5)"
   ]
  },
  {
   "cell_type": "markdown",
   "metadata": {},
   "source": [
    "## Rendimiento Original Vs Random Vs Grid\n",
    "- Comparamos los tres métodos de asignación de parametros para los estimadores"
   ]
  },
  {
   "cell_type": "code",
   "execution_count": 73,
   "metadata": {
    "collapsed": false
   },
   "outputs": [
    {
     "data": {
      "text/html": [
       "<div>\n",
       "<table border=\"1\" class=\"dataframe\">\n",
       "  <thead>\n",
       "    <tr style=\"text-align: right;\">\n",
       "      <th></th>\n",
       "      <th></th>\n",
       "      <th>Original</th>\n",
       "      <th>Grid</th>\n",
       "    </tr>\n",
       "  </thead>\n",
       "  <tbody>\n",
       "    <tr>\n",
       "      <th rowspan=\"5\" valign=\"top\">Agricultura</th>\n",
       "      <th>Agricultura</th>\n",
       "      <td>0.455277</td>\n",
       "      <td>0.554284</td>\n",
       "    </tr>\n",
       "    <tr>\n",
       "      <th>Ambiente</th>\n",
       "      <td>0.307334</td>\n",
       "      <td>0.400047</td>\n",
       "    </tr>\n",
       "    <tr>\n",
       "      <th>Ayuda</th>\n",
       "      <td>0.382280</td>\n",
       "      <td>0.357198</td>\n",
       "    </tr>\n",
       "    <tr>\n",
       "      <th>Ciencia</th>\n",
       "      <td>0.429908</td>\n",
       "      <td>0.285037</td>\n",
       "    </tr>\n",
       "    <tr>\n",
       "      <th>Clima</th>\n",
       "      <td>0.404357</td>\n",
       "      <td>0.390015</td>\n",
       "    </tr>\n",
       "  </tbody>\n",
       "</table>\n",
       "</div>"
      ],
      "text/plain": [
       "                         Original      Grid\n",
       "Agricultura Agricultura  0.455277  0.554284\n",
       "            Ambiente     0.307334  0.400047\n",
       "            Ayuda        0.382280  0.357198\n",
       "            Ciencia      0.429908  0.285037\n",
       "            Clima        0.404357  0.390015"
      ]
     },
     "execution_count": 73,
     "metadata": {},
     "output_type": "execute_result"
    }
   ],
   "source": [
    "pd.DataFrame(np.column_stack([ original[original['Look Back'] == 1]['%'] , grid[grid['Look Back'] == 1]['%'] ]), columns=['Original','Grid'], index=([original[original['Look Back'] == 1]['Base'].values,original[original['Look Back'] == 1]['Target'].values])).head()"
   ]
  },
  {
   "cell_type": "code",
   "execution_count": 74,
   "metadata": {
    "collapsed": false
   },
   "outputs": [
    {
     "data": {
      "text/html": [
       "<div>\n",
       "<table border=\"1\" class=\"dataframe\">\n",
       "  <thead>\n",
       "    <tr style=\"text-align: right;\">\n",
       "      <th></th>\n",
       "      <th></th>\n",
       "      <th>Original</th>\n",
       "      <th>Grid</th>\n",
       "    </tr>\n",
       "  </thead>\n",
       "  <tbody>\n",
       "    <tr>\n",
       "      <th rowspan=\"5\" valign=\"top\">Agricultura</th>\n",
       "      <th>Agricultura</th>\n",
       "      <td>10.584898</td>\n",
       "      <td>270.655403</td>\n",
       "    </tr>\n",
       "    <tr>\n",
       "      <th>Ambiente</th>\n",
       "      <td>16.575595</td>\n",
       "      <td>450.697630</td>\n",
       "    </tr>\n",
       "    <tr>\n",
       "      <th>Ayuda</th>\n",
       "      <td>17.504265</td>\n",
       "      <td>523.918233</td>\n",
       "    </tr>\n",
       "    <tr>\n",
       "      <th>Ciencia</th>\n",
       "      <td>5.675936</td>\n",
       "      <td>123.103455</td>\n",
       "    </tr>\n",
       "    <tr>\n",
       "      <th>Clima</th>\n",
       "      <td>12.573218</td>\n",
       "      <td>344.131365</td>\n",
       "    </tr>\n",
       "  </tbody>\n",
       "</table>\n",
       "</div>"
      ],
      "text/plain": [
       "                          Original        Grid\n",
       "Agricultura Agricultura  10.584898  270.655403\n",
       "            Ambiente     16.575595  450.697630\n",
       "            Ayuda        17.504265  523.918233\n",
       "            Ciencia       5.675936  123.103455\n",
       "            Clima        12.573218  344.131365"
      ]
     },
     "execution_count": 74,
     "metadata": {},
     "output_type": "execute_result"
    }
   ],
   "source": [
    "pd.DataFrame(np.column_stack([ original[original['Look Back'] == 1]['Time'] , grid[grid['Look Back'] == 1]['Time'] ]), columns=['Original','Grid'], index=([original[original['Look Back'] == 1]['Base'].values,original[original['Look Back'] == 1]['Target'].values])).head()"
   ]
  },
  {
   "cell_type": "markdown",
   "metadata": {},
   "source": [
    "- Calculamos la mejora de rendimiento en cada caso"
   ]
  },
  {
   "cell_type": "code",
   "execution_count": 75,
   "metadata": {
    "collapsed": false
   },
   "outputs": [],
   "source": [
    "def rendimiento(look_back,variable):\n",
    "    original_grid   = ( (grid[grid['Look Back'] == look_back][variable].values / original[original['Look Back'] == look_back][variable].values ) - 1)*100\n",
    "    return pd.DataFrame(original_grid, columns=['Original to Grid'], index=([original[original['Look Back'] == look_back]['Base'],original[original['Look Back'] == look_back]['Target']]))"
   ]
  },
  {
   "cell_type": "code",
   "execution_count": 76,
   "metadata": {
    "collapsed": false,
    "scrolled": true
   },
   "outputs": [
    {
     "data": {
      "text/html": [
       "<div>\n",
       "<table border=\"1\" class=\"dataframe\">\n",
       "  <thead>\n",
       "    <tr style=\"text-align: right;\">\n",
       "      <th></th>\n",
       "      <th></th>\n",
       "      <th>Original to Grid</th>\n",
       "    </tr>\n",
       "    <tr>\n",
       "      <th>Base</th>\n",
       "      <th>Target</th>\n",
       "      <th></th>\n",
       "    </tr>\n",
       "  </thead>\n",
       "  <tbody>\n",
       "    <tr>\n",
       "      <th rowspan=\"5\" valign=\"top\">Agricultura</th>\n",
       "      <th>Agricultura</th>\n",
       "      <td>21.746567</td>\n",
       "    </tr>\n",
       "    <tr>\n",
       "      <th>Ambiente</th>\n",
       "      <td>30.166858</td>\n",
       "    </tr>\n",
       "    <tr>\n",
       "      <th>Ayuda</th>\n",
       "      <td>-6.561116</td>\n",
       "    </tr>\n",
       "    <tr>\n",
       "      <th>Ciencia</th>\n",
       "      <td>-33.698212</td>\n",
       "    </tr>\n",
       "    <tr>\n",
       "      <th>Clima</th>\n",
       "      <td>-3.546998</td>\n",
       "    </tr>\n",
       "  </tbody>\n",
       "</table>\n",
       "</div>"
      ],
      "text/plain": [
       "                         Original to Grid\n",
       "Base        Target                       \n",
       "Agricultura Agricultura         21.746567\n",
       "            Ambiente            30.166858\n",
       "            Ayuda               -6.561116\n",
       "            Ciencia            -33.698212\n",
       "            Clima               -3.546998"
      ]
     },
     "execution_count": 76,
     "metadata": {},
     "output_type": "execute_result"
    }
   ],
   "source": [
    "rendimiento(1,'%').head()"
   ]
  },
  {
   "cell_type": "code",
   "execution_count": 77,
   "metadata": {
    "collapsed": false
   },
   "outputs": [
    {
     "data": {
      "text/html": [
       "<div>\n",
       "<table border=\"1\" class=\"dataframe\">\n",
       "  <thead>\n",
       "    <tr style=\"text-align: right;\">\n",
       "      <th></th>\n",
       "      <th></th>\n",
       "      <th>Original to Grid</th>\n",
       "    </tr>\n",
       "    <tr>\n",
       "      <th>Base</th>\n",
       "      <th>Target</th>\n",
       "      <th></th>\n",
       "    </tr>\n",
       "  </thead>\n",
       "  <tbody>\n",
       "    <tr>\n",
       "      <th rowspan=\"5\" valign=\"top\">Agricultura</th>\n",
       "      <th>Agricultura</th>\n",
       "      <td>2456.995854</td>\n",
       "    </tr>\n",
       "    <tr>\n",
       "      <th>Ambiente</th>\n",
       "      <td>2619.043426</td>\n",
       "    </tr>\n",
       "    <tr>\n",
       "      <th>Ayuda</th>\n",
       "      <td>2893.089003</td>\n",
       "    </tr>\n",
       "    <tr>\n",
       "      <th>Ciencia</th>\n",
       "      <td>2068.866164</td>\n",
       "    </tr>\n",
       "    <tr>\n",
       "      <th>Clima</th>\n",
       "      <td>2637.018971</td>\n",
       "    </tr>\n",
       "  </tbody>\n",
       "</table>\n",
       "</div>"
      ],
      "text/plain": [
       "                         Original to Grid\n",
       "Base        Target                       \n",
       "Agricultura Agricultura       2456.995854\n",
       "            Ambiente          2619.043426\n",
       "            Ayuda             2893.089003\n",
       "            Ciencia           2068.866164\n",
       "            Clima             2637.018971"
      ]
     },
     "execution_count": 77,
     "metadata": {},
     "output_type": "execute_result"
    }
   ],
   "source": [
    "rendimiento(1,'Time').head()"
   ]
  },
  {
   "cell_type": "markdown",
   "metadata": {},
   "source": [
    "## Promedio de Rendimiento\n",
    "- Promediamos el rendimiento para cada caso"
   ]
  },
  {
   "cell_type": "code",
   "execution_count": 78,
   "metadata": {
    "collapsed": false
   },
   "outputs": [],
   "source": [
    "def grafica_rendimiento(variable):\n",
    "\n",
    "    trace0 = go.Bar(\n",
    "        x=['Original to Grid'],\n",
    "        y=rendimiento(1,variable).mean().values.tolist(),\n",
    "        name='Look Back = 1',\n",
    "        marker=dict(\n",
    "            color='rgb(0,59,70)'\n",
    "        )\n",
    "    )\n",
    "    trace1 = go.Bar(\n",
    "        x=['Original to Grid'],\n",
    "        y=rendimiento(2,variable).mean().values.tolist(),\n",
    "        name='Look Back = 2',\n",
    "        marker=dict(\n",
    "            color='rgb(7,87,91)',\n",
    "        )\n",
    "    )\n",
    "\n",
    "    trace2 = go.Bar(\n",
    "        x=['Original to Grid'],\n",
    "        y=rendimiento(3,variable).mean().values.tolist(),\n",
    "        name='Look Back = 3',\n",
    "        marker=dict(\n",
    "            color='rgb(102,165,173)',\n",
    "        )\n",
    "    )\n",
    "\n",
    "    data = [trace0, trace1, trace2]\n",
    "    layout = go.Layout(\n",
    "        xaxis=dict(tickangle=-45),\n",
    "        barmode='group',\n",
    "    )\n",
    "\n",
    "    fig = go.Figure(data=data, layout=layout)\n",
    "    \n",
    "    return py.iplot(fig, filename='Performance of '+variable)"
   ]
  },
  {
   "cell_type": "code",
   "execution_count": 79,
   "metadata": {
    "collapsed": false
   },
   "outputs": [
    {
     "data": {
      "text/html": [
       "<iframe id=\"igraph\" scrolling=\"no\" style=\"border:none;\" seamless=\"seamless\" src=\"https://plot.ly/~ambigus9/266.embed\" height=\"525px\" width=\"100%\"></iframe>"
      ],
      "text/plain": [
       "<plotly.tools.PlotlyDisplay object>"
      ]
     },
     "execution_count": 79,
     "metadata": {},
     "output_type": "execute_result"
    }
   ],
   "source": [
    "grafica_rendimiento('%')"
   ]
  },
  {
   "cell_type": "code",
   "execution_count": 80,
   "metadata": {
    "collapsed": false
   },
   "outputs": [
    {
     "data": {
      "text/html": [
       "<iframe id=\"igraph\" scrolling=\"no\" style=\"border:none;\" seamless=\"seamless\" src=\"https://plot.ly/~ambigus9/268.embed\" height=\"525px\" width=\"100%\"></iframe>"
      ],
      "text/plain": [
       "<plotly.tools.PlotlyDisplay object>"
      ]
     },
     "execution_count": 80,
     "metadata": {},
     "output_type": "execute_result"
    }
   ],
   "source": [
    "grafica_rendimiento('Time')"
   ]
  },
  {
   "cell_type": "code",
   "execution_count": null,
   "metadata": {
    "collapsed": true
   },
   "outputs": [],
   "source": []
  }
 ],
 "metadata": {
  "kernelspec": {
   "display_name": "Python 2",
   "language": "python",
   "name": "python2"
  },
  "language_info": {
   "codemirror_mode": {
    "name": "ipython",
    "version": 2
   },
   "file_extension": ".py",
   "mimetype": "text/x-python",
   "name": "python",
   "nbconvert_exporter": "python",
   "pygments_lexer": "ipython2",
   "version": "2.7.13"
  }
 },
 "nbformat": 4,
 "nbformat_minor": 2
}
