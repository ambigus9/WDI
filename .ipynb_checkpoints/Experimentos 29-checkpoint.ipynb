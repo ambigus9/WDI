{
 "cells": [
  {
   "cell_type": "markdown",
   "metadata": {},
   "source": [
    "## World Development Indicators - Analytics"
   ]
  },
  {
   "cell_type": "code",
   "execution_count": 22,
   "metadata": {
    "collapsed": false
   },
   "outputs": [
    {
     "data": {
      "text/html": [
       "<div>\n",
       "<table border=\"1\" class=\"dataframe\">\n",
       "  <thead>\n",
       "    <tr style=\"text-align: right;\">\n",
       "      <th></th>\n",
       "      <th>CountryName</th>\n",
       "      <th>CountryCode</th>\n",
       "      <th>IndicatorName</th>\n",
       "      <th>IndicatorCode</th>\n",
       "      <th>Year</th>\n",
       "      <th>Value</th>\n",
       "    </tr>\n",
       "  </thead>\n",
       "  <tbody>\n",
       "    <tr>\n",
       "      <th>0</th>\n",
       "      <td>Antigua and Barbuda</td>\n",
       "      <td>ATG</td>\n",
       "      <td>Adolescent fertility rate (births per 1,000 wo...</td>\n",
       "      <td>SP.ADO.TFRT</td>\n",
       "      <td>1960</td>\n",
       "      <td>126.144000</td>\n",
       "    </tr>\n",
       "    <tr>\n",
       "      <th>1</th>\n",
       "      <td>Antigua and Barbuda</td>\n",
       "      <td>ATG</td>\n",
       "      <td>Age dependency ratio (% of working-age populat...</td>\n",
       "      <td>SP.POP.DPND</td>\n",
       "      <td>1960</td>\n",
       "      <td>88.237117</td>\n",
       "    </tr>\n",
       "    <tr>\n",
       "      <th>2</th>\n",
       "      <td>Antigua and Barbuda</td>\n",
       "      <td>ATG</td>\n",
       "      <td>Age dependency ratio, old (% of working-age po...</td>\n",
       "      <td>SP.POP.DPND.OL</td>\n",
       "      <td>1960</td>\n",
       "      <td>7.779958</td>\n",
       "    </tr>\n",
       "    <tr>\n",
       "      <th>3</th>\n",
       "      <td>Antigua and Barbuda</td>\n",
       "      <td>ATG</td>\n",
       "      <td>Age dependency ratio, young (% of working-age ...</td>\n",
       "      <td>SP.POP.DPND.YG</td>\n",
       "      <td>1960</td>\n",
       "      <td>80.457159</td>\n",
       "    </tr>\n",
       "    <tr>\n",
       "      <th>4</th>\n",
       "      <td>Antigua and Barbuda</td>\n",
       "      <td>ATG</td>\n",
       "      <td>Birth rate, crude (per 1,000 people)</td>\n",
       "      <td>SP.DYN.CBRT.IN</td>\n",
       "      <td>1960</td>\n",
       "      <td>32.920000</td>\n",
       "    </tr>\n",
       "  </tbody>\n",
       "</table>\n",
       "</div>"
      ],
      "text/plain": [
       "           CountryName CountryCode  \\\n",
       "0  Antigua and Barbuda         ATG   \n",
       "1  Antigua and Barbuda         ATG   \n",
       "2  Antigua and Barbuda         ATG   \n",
       "3  Antigua and Barbuda         ATG   \n",
       "4  Antigua and Barbuda         ATG   \n",
       "\n",
       "                                       IndicatorName   IndicatorCode  Year  \\\n",
       "0  Adolescent fertility rate (births per 1,000 wo...     SP.ADO.TFRT  1960   \n",
       "1  Age dependency ratio (% of working-age populat...     SP.POP.DPND  1960   \n",
       "2  Age dependency ratio, old (% of working-age po...  SP.POP.DPND.OL  1960   \n",
       "3  Age dependency ratio, young (% of working-age ...  SP.POP.DPND.YG  1960   \n",
       "4               Birth rate, crude (per 1,000 people)  SP.DYN.CBRT.IN  1960   \n",
       "\n",
       "        Value  \n",
       "0  126.144000  \n",
       "1   88.237117  \n",
       "2    7.779958  \n",
       "3   80.457159  \n",
       "4   32.920000  "
      ]
     },
     "execution_count": 22,
     "metadata": {},
     "output_type": "execute_result"
    }
   ],
   "source": [
    "import numpy as np\n",
    "import pandas as pd\n",
    "import matplotlib.pyplot as plt\n",
    "import time\n",
    "\n",
    "from sklearn.model_selection import train_test_split\n",
    "from sklearn.metrics import r2_score\n",
    "from sklearn.tree import DecisionTreeRegressor\n",
    "from sklearn.preprocessing import Imputer\n",
    "from sklearn.grid_search import GridSearchCV\n",
    "from sklearn.cross_validation import ShuffleSplit\n",
    "from sklearn.model_selection import train_test_split\n",
    "from sklearn.preprocessing import StandardScaler\n",
    "from sklearn.metrics import make_scorer\n",
    "\n",
    "datos = pd.read_csv(\"suramerica.csv\").drop('Unnamed: 0', 1)\n",
    "datos.head()"
   ]
  },
  {
   "cell_type": "code",
   "execution_count": 23,
   "metadata": {
    "collapsed": false
   },
   "outputs": [],
   "source": [
    "def r2(y_true, y_predict):\n",
    "    return r2_score(y_true, y_predict)"
   ]
  },
  {
   "cell_type": "code",
   "execution_count": 24,
   "metadata": {
    "collapsed": false
   },
   "outputs": [],
   "source": [
    "def imputador(tab):\n",
    "    impute=Imputer(missing_values=\"NaN\",strategy='mean',axis=0)\n",
    "    impute.fit(tab)\n",
    "    tab_imputada=impute.transform(tab)\n",
    "    return pd.DataFrame(tab_imputada)"
   ]
  },
  {
   "cell_type": "code",
   "execution_count": 25,
   "metadata": {
    "collapsed": true
   },
   "outputs": [],
   "source": [
    "def zeros(tab):\n",
    "    #Asignamos a los NaN el valor de 0\n",
    "    tab_zeros = pd.DataFrame(tab).fillna(value=0)\n",
    "    #Eliminamos las columnas de Zeros descartando Indicadores que no tienen regristros para ningún pais y año deseados\n",
    "    tab_zeros_2 = tab_zeros.loc[:, (tab_zeros != 0).any(axis=0)]\n",
    "    return tab_zeros_2"
   ]
  },
  {
   "cell_type": "code",
   "execution_count": 26,
   "metadata": {
    "collapsed": false
   },
   "outputs": [],
   "source": [
    "def Grid_Search_CV(X_train, y_train):\n",
    "    cv = ShuffleSplit(X_train.shape[0], n_iter = 10, test_size=0.2, random_state=0)\n",
    "    estimator = DecisionTreeRegressor()\n",
    "    params = {'max_depth': [1, 2, 3, 4, 5, 6, 7, 8, 9, 10], 'splitter': ['best', 'random']}\n",
    "\n",
    "    grid = GridSearchCV(estimator, params, cv=cv, scoring=\"r2\")\n",
    "\n",
    "    grid.fit(X_train, y_train)\n",
    "    \n",
    "    for k,v in grid.best_params_.iteritems():\n",
    "        best_max_depth = v\n",
    "    \n",
    "    return best_max_depth"
   ]
  },
  {
   "cell_type": "code",
   "execution_count": 27,
   "metadata": {
    "collapsed": true
   },
   "outputs": [],
   "source": [
    "def DTR_v2(X_train, X_test, y_train, y_test, depth):\n",
    "    estimator = DecisionTreeRegressor(max_depth=depth)\n",
    "    estimator.fit(X_train,y_train)\n",
    "    y_predict = estimator.predict(X_test)\n",
    "    return r2(y_test,y_predict)"
   ]
  },
  {
   "cell_type": "code",
   "execution_count": 28,
   "metadata": {
    "collapsed": false
   },
   "outputs": [],
   "source": [
    "def correlation_matrix(df):\n",
    "    from matplotlib import pyplot as plt\n",
    "    from matplotlib import cm as cm\n",
    "\n",
    "    fig = plt.figure()\n",
    "    ax1 = fig.add_subplot(111)\n",
    "    cmap = cm.get_cmap('jet', 30)\n",
    "    cax = ax1.imshow(df.corr(), interpolation=\"nearest\", cmap=cmap)\n",
    "    plt.title('Matriz de correlacion')\n",
    "    fig.colorbar(cax)\n",
    "    plt.show()"
   ]
  },
  {
   "cell_type": "code",
   "execution_count": 29,
   "metadata": {
    "collapsed": false
   },
   "outputs": [],
   "source": [
    "def correlacion(tab,y_indicator):\n",
    "    # Buscamos los indicadores que se correlacionen más (coeficiente > 0.7)\n",
    "    eliminar = []\n",
    "    tabla_correlacion = np.array(pd.DataFrame(tab).corr())\n",
    "    for i in range(np.shape(tab)[1]):\n",
    "        if abs(tabla_correlacion[i,y_indicator]) > 0.7:\n",
    "            eliminar.append(i)\n",
    "\n",
    "    # Eliminamos los indicadores que se correlacionan más (Coeficiente > 0.7)\n",
    "    temporal = tab[:,:]\n",
    "\n",
    "    for i in range(len(eliminar)):\n",
    "        temporal = np.delete(temporal[:,:], eliminar[i]-i, 1)\n",
    "\n",
    "    return temporal"
   ]
  },
  {
   "cell_type": "code",
   "execution_count": 30,
   "metadata": {
    "collapsed": true
   },
   "outputs": [],
   "source": [
    "def splitter_v2(tab,y_indicator):\n",
    "    # Asignamos X e y, eliminando los indicadores que se correlacionen más (coeficiente > 0.7)\n",
    "    X = correlacion(tab,y_indicator)\n",
    "    y = tab[:,y_indicator]\n",
    "    \n",
    "    # Separamos Train y Test respectivamente para X e y\n",
    "    X_train, X_test, y_train, y_test = train_test_split(X, y, test_size=0.2)\n",
    "    \n",
    "    return X_train, X_test, y_train, y_test"
   ]
  },
  {
   "cell_type": "code",
   "execution_count": 31,
   "metadata": {
    "collapsed": true
   },
   "outputs": [],
   "source": [
    "def splitter_v3(tabla_1,tabla_2,y_indicator):\n",
    "    #Fusionamos la tabla_1 y el indicador y de la tabla_2\n",
    "    tab_fusion = np.column_stack((tabla_1[:,:],tabla_2[:,y_indicator]))\n",
    "    \n",
    "    # Asignamos X e y, eliminando los indicadores que se correlacionen más (coeficiente > 0.7)  \n",
    "    X = correlacion(tab_fusion,-1)\n",
    "    y = tab_fusion[:,-1]\n",
    "    \n",
    "    # Separamos Train y Test respectivamente para X e y\n",
    "    X_train, X_test, y_train, y_test = train_test_split(X, y, test_size=0.2)\n",
    "    \n",
    "    return X_train, X_test, y_train, y_test"
   ]
  },
  {
   "cell_type": "code",
   "execution_count": 32,
   "metadata": {
    "collapsed": true
   },
   "outputs": [],
   "source": [
    "def iter_R2_Splitter_v2(tab):\n",
    "    R2_global = list()\n",
    "\n",
    "    for i in range(0,np.shape(tab)[1]):\n",
    "        ## Zeros\n",
    "        X_train, X_test, y_train, y_test = splitter_v2(np.array(zeros(tab)),i)\n",
    "        best_max_depth = Grid_Search_CV(X_train, y_train)\n",
    "        R2_Original_GridSearchCV = DTR_v2(X_train, X_test, y_train, y_test,best_max_depth)\n",
    "\n",
    "        ## Imputado\n",
    "        X_train, X_test, y_train, y_test = splitter_v2(np.array(imputador(tab)),i)\n",
    "        best_max_depth = Grid_Search_CV(X_train, y_train)\n",
    "        R2_Imputado_GridSearchCV = DTR_v2(X_train, X_test, y_train, y_test,best_max_depth)\n",
    "\n",
    "        # Recopilamos los R2\n",
    "        R2_global.append([R2_Original_GridSearchCV,R2_Imputado_GridSearchCV])\n",
    "\n",
    "    return pd.DataFrame(R2_global,columns=['Original','Imputado'])"
   ]
  },
  {
   "cell_type": "code",
   "execution_count": 33,
   "metadata": {
    "collapsed": true
   },
   "outputs": [],
   "source": [
    "def iter_R2_Splitter_v3(tab1,tab2):    \n",
    "    R2_global = list()\n",
    "    for i in range(0,np.shape(tab2)[1]):\n",
    "        ## Zeros\n",
    "        X_train, X_test, y_train, y_test = splitter_v3(np.array(zeros(tab1)),np.array(zeros(tab2)),i)\n",
    "        best_max_depth = Grid_Search_CV(X_train, y_train)\n",
    "        R2_Original_GridSearchCV = DTR_v2(X_train, X_test, y_train, y_test,best_max_depth)\n",
    "\n",
    "        ## Imputado\n",
    "        X_train, X_test, y_train, y_test = splitter_v3(np.array(imputador(tab1)),np.array(imputador(tab2)),i)\n",
    "        best_max_depth = Grid_Search_CV(X_train, y_train)\n",
    "        R2_Imputado_GridSearchCV = DTR_v2(X_train, X_test, y_train, y_test,best_max_depth)\n",
    "\n",
    "        # Recopilamos los R2\n",
    "        R2_global.append([R2_Original_GridSearchCV,R2_Imputado_GridSearchCV])\n",
    "    \n",
    "    return pd.DataFrame(R2_global,columns=['Original','Imputado'])"
   ]
  },
  {
   "cell_type": "code",
   "execution_count": 34,
   "metadata": {
    "collapsed": false
   },
   "outputs": [],
   "source": [
    "def porcentaje(valor):\n",
    "    x=0.0\n",
    "    for i in np.array(valor):\n",
    "        if (i[0] > 0.9 and i[1] > 0.9):\n",
    "            x=x+1\n",
    "    return x/len(valor)"
   ]
  },
  {
   "cell_type": "code",
   "execution_count": 35,
   "metadata": {
    "collapsed": false
   },
   "outputs": [],
   "source": [
    "def tabla_base(paises,years,indicadores,datos):\n",
    "    tab = pd.DataFrame.pivot_table(datos, values='Value', index=['CountryName', 'Year'], columns=['IndicatorCode']).loc[(paises,years),indicadores]\n",
    "    return tab"
   ]
  },
  {
   "cell_type": "code",
   "execution_count": 36,
   "metadata": {
    "collapsed": true
   },
   "outputs": [],
   "source": [
    "def iterador_global(datos,paises,years,indicadores_1,indicadores_2):\n",
    "    \n",
    "    t_1 = tabla_base(paises,years,indicadores_1,datos)\n",
    "    t_2 = tabla_base(paises,years,indicadores_2,datos)\n",
    "    \n",
    "    iterador = iter_R2_Splitter_v3(t_1,t_2)\n",
    "    \n",
    "    return iterador"
   ]
  },
  {
   "cell_type": "code",
   "execution_count": 37,
   "metadata": {
    "collapsed": true
   },
   "outputs": [],
   "source": [
    "paises = ['Antigua and Barbuda','Argentina','Aruba','Bahamas, The','Barbados','Belize','Bolivia','Brazil','Cayman Islands','Chile','Colombia','Costa Rica','Cuba','Curacao','Dominica','Dominican Republic','Ecuador','El Salvador','Grenada','Guatemala','Guyana','Haiti','Honduras','Jamaica','Mexico','Nicaragua','Panama','Paraguay','Peru','Puerto Rico','Sint Maarten (Dutch part)','St. Kitts and Nevis','St. Lucia','St. Martin (French part)','St. Vincent and the Grenadines','Suriname','Trinidad and Tobago','Turks and Caicos Islands','Uruguay','Venezuela, RB','Virgin Islands (U.S.)']\n",
    "years = range(2008,2012+1)\n",
    "gdp = ['NY.GDP.MKTP.KN','NY.GDP.MKTP.CN','NY.GDP.MKTP.CD','NY.GDP.MKTP.KD','NY.GDP.DEFL.ZS','NY.GDP.MKTP.KD.ZG','NY.GDP.PCAP.KD','NY.GDP.PCAP.KN','NY.GDP.PCAP.CN','NY.GDP.PCAP.CD','NY.GDP.PCAP.KD.ZG','NY.GDP.PCAP.PP.KD','NY.GDP.PCAP.PP.CD','NY.GDP.MKTP.PP.KD','NY.GDP.MKTP.PP.CD']\n",
    "gross = ['NE.GDI.TOTL.ZS','NE.GDI.TOTL.KD.ZG','NE.GDI.TOTL.KD','NE.GDI.TOTL.KN','NE.GDI.TOTL.CN','NE.GDI.TOTL.CD','NY.GDY.TOTL.KN','NY.GDS.TOTL.ZS','NY.GDS.TOTL.CN','NY.GDS.TOTL.CD','NE.GDI.FTOT.ZS','NE.GDI.FTOT.KD.ZG','NE.GDI.FTOT.KD','NE.GDI.FTOT.KN','NE.GDI.FTOT.CN','NE.GDI.FTOT.CD','NE.GDI.FPRV.ZS','NE.GDI.FPRV.CN','NE.DAB.TOTL.ZS','NE.DAB.TOTL.KD','NE.DAB.TOTL.KN','NE.DAB.TOTL.CN','NE.DAB.TOTL.CD','NE.DAB.DEFL.ZS','NY.GNS.ICTR.ZS','NY.GNS.ICTR.GN.ZS','NY.GNS.ICTR.CN','NY.GNS.ICTR.CD','NY.GDP.FCST.KD','NY.GDP.FCST.KN','NY.GDP.FCST.CN','NY.GDP.FCST.CD']\n",
    "gni = ['NY.GNP.MKTP.KD','NY.GNP.MKTP.KN','NY.GNP.MKTP.CN','NY.GNP.MKTP.CD','NY.GNP.MKTP.KD.ZG','NY.GNP.PCAP.KD','NY.GNP.PCAP.KN','NY.GNP.PCAP.CN','NY.GNP.PCAP.KD.ZG','NY.GNP.PCAP.CD','NY.GNP.PCAP.PP.KD','NY.GNP.PCAP.PP.CD','NY.GNP.ATLS.CD','NY.GNP.MKTP.PP.KD','NY.GNP.MKTP.PP.CD']\n",
    "conjunto_nombre = ['GDP','Gross','GNI']\n",
    "conjunto = [gdp,gross,gni]"
   ]
  },
  {
   "cell_type": "code",
   "execution_count": 38,
   "metadata": {
    "collapsed": false
   },
   "outputs": [
    {
     "name": "stdout",
     "output_type": "stream",
     "text": [
      "--- 102.368999958 seconds ---\n"
     ]
    },
    {
     "data": {
      "text/html": [
       "<div>\n",
       "<table border=\"1\" class=\"dataframe\">\n",
       "  <thead>\n",
       "    <tr style=\"text-align: right;\">\n",
       "      <th></th>\n",
       "      <th>Base</th>\n",
       "      <th>Target</th>\n",
       "      <th>% &gt; 90%</th>\n",
       "    </tr>\n",
       "  </thead>\n",
       "  <tbody>\n",
       "    <tr>\n",
       "      <th>0</th>\n",
       "      <td>GDP</td>\n",
       "      <td>GDP</td>\n",
       "      <td>0.333333</td>\n",
       "    </tr>\n",
       "    <tr>\n",
       "      <th>1</th>\n",
       "      <td>GDP</td>\n",
       "      <td>Gross</td>\n",
       "      <td>0.281250</td>\n",
       "    </tr>\n",
       "    <tr>\n",
       "      <th>2</th>\n",
       "      <td>GDP</td>\n",
       "      <td>GNI</td>\n",
       "      <td>0.200000</td>\n",
       "    </tr>\n",
       "  </tbody>\n",
       "</table>\n",
       "</div>"
      ],
      "text/plain": [
       "  Base Target   % > 90%\n",
       "0  GDP    GDP  0.333333\n",
       "1  GDP  Gross  0.281250\n",
       "2  GDP    GNI  0.200000"
      ]
     },
     "execution_count": 38,
     "metadata": {},
     "output_type": "execute_result"
    }
   ],
   "source": [
    "start_time = time.time()\n",
    "\n",
    "resultado = []\n",
    "for i in range(len(conjunto)):\n",
    "    resultado.append([conjunto_nombre[0],conjunto_nombre[i],porcentaje(iterador_global(datos,paises,years,conjunto[0],conjunto[i]))])\n",
    "    \n",
    "print(\"--- %s seconds ---\" % (time.time() - start_time))\n",
    "pd.DataFrame(resultado, columns=[\"Base\",\"Target\",\"% > 90%\"])"
   ]
  },
  {
   "cell_type": "code",
   "execution_count": 39,
   "metadata": {
    "collapsed": false
   },
   "outputs": [
    {
     "data": {
      "text/html": [
       "<iframe id=\"igraph\" scrolling=\"no\" style=\"border:none;\" seamless=\"seamless\" src=\"https://plot.ly/~ambigus9/146.embed\" height=\"525px\" width=\"100%\"></iframe>"
      ],
      "text/plain": [
       "<plotly.tools.PlotlyDisplay object>"
      ]
     },
     "execution_count": 39,
     "metadata": {},
     "output_type": "execute_result"
    }
   ],
   "source": [
    "import plotly.plotly as py\n",
    "import plotly.graph_objs as go\n",
    "\n",
    "data = [go.Bar(\n",
    "            x=['GDP', 'Gross', 'GNI'],\n",
    "            y=np.array(resultado)[:,2]\n",
    "    )]\n",
    "\n",
    "py.iplot(data, filename='GDP')"
   ]
  },
  {
   "cell_type": "code",
   "execution_count": 40,
   "metadata": {
    "collapsed": false
   },
   "outputs": [
    {
     "name": "stdout",
     "output_type": "stream",
     "text": [
      "--- 292.383000135 seconds ---\n"
     ]
    },
    {
     "data": {
      "text/html": [
       "<div>\n",
       "<table border=\"1\" class=\"dataframe\">\n",
       "  <thead>\n",
       "    <tr style=\"text-align: right;\">\n",
       "      <th></th>\n",
       "      <th>Base</th>\n",
       "      <th>Target</th>\n",
       "      <th>% &gt; 90%</th>\n",
       "    </tr>\n",
       "  </thead>\n",
       "  <tbody>\n",
       "    <tr>\n",
       "      <th>0</th>\n",
       "      <td>GDP</td>\n",
       "      <td>GDP</td>\n",
       "      <td>0.266667</td>\n",
       "    </tr>\n",
       "    <tr>\n",
       "      <th>1</th>\n",
       "      <td>GDP</td>\n",
       "      <td>Gross</td>\n",
       "      <td>0.312500</td>\n",
       "    </tr>\n",
       "    <tr>\n",
       "      <th>2</th>\n",
       "      <td>GDP</td>\n",
       "      <td>GNI</td>\n",
       "      <td>0.333333</td>\n",
       "    </tr>\n",
       "    <tr>\n",
       "      <th>3</th>\n",
       "      <td>Gross</td>\n",
       "      <td>GDP</td>\n",
       "      <td>0.133333</td>\n",
       "    </tr>\n",
       "    <tr>\n",
       "      <th>4</th>\n",
       "      <td>Gross</td>\n",
       "      <td>Gross</td>\n",
       "      <td>0.125000</td>\n",
       "    </tr>\n",
       "    <tr>\n",
       "      <th>5</th>\n",
       "      <td>Gross</td>\n",
       "      <td>GNI</td>\n",
       "      <td>0.133333</td>\n",
       "    </tr>\n",
       "    <tr>\n",
       "      <th>6</th>\n",
       "      <td>GNI</td>\n",
       "      <td>GDP</td>\n",
       "      <td>0.400000</td>\n",
       "    </tr>\n",
       "    <tr>\n",
       "      <th>7</th>\n",
       "      <td>GNI</td>\n",
       "      <td>Gross</td>\n",
       "      <td>0.343750</td>\n",
       "    </tr>\n",
       "    <tr>\n",
       "      <th>8</th>\n",
       "      <td>GNI</td>\n",
       "      <td>GNI</td>\n",
       "      <td>0.266667</td>\n",
       "    </tr>\n",
       "  </tbody>\n",
       "</table>\n",
       "</div>"
      ],
      "text/plain": [
       "    Base Target   % > 90%\n",
       "0    GDP    GDP  0.266667\n",
       "1    GDP  Gross  0.312500\n",
       "2    GDP    GNI  0.333333\n",
       "3  Gross    GDP  0.133333\n",
       "4  Gross  Gross  0.125000\n",
       "5  Gross    GNI  0.133333\n",
       "6    GNI    GDP  0.400000\n",
       "7    GNI  Gross  0.343750\n",
       "8    GNI    GNI  0.266667"
      ]
     },
     "execution_count": 40,
     "metadata": {},
     "output_type": "execute_result"
    }
   ],
   "source": [
    "start_time = time.time()\n",
    "\n",
    "resultado = []\n",
    "for i in range(len(conjunto)):\n",
    "    for j in range(len(conjunto)):\n",
    "        resultado.append([conjunto_nombre[i],conjunto_nombre[j],porcentaje(iterador_global(datos,paises,years,conjunto[i],conjunto[j]))])\n",
    "        \n",
    "print(\"--- %s seconds ---\" % (time.time() - start_time))\n",
    "pd.DataFrame(resultado, columns=[\"Base\",\"Target\",\"% > 90%\"])"
   ]
  },
  {
   "cell_type": "code",
   "execution_count": 41,
   "metadata": {
    "collapsed": false
   },
   "outputs": [
    {
     "data": {
      "text/html": [
       "<iframe id=\"igraph\" scrolling=\"no\" style=\"border:none;\" seamless=\"seamless\" src=\"https://plot.ly/~ambigus9/148.embed\" height=\"525px\" width=\"100%\"></iframe>"
      ],
      "text/plain": [
       "<plotly.tools.PlotlyDisplay object>"
      ]
     },
     "execution_count": 41,
     "metadata": {},
     "output_type": "execute_result"
    }
   ],
   "source": [
    "import plotly.plotly as py\n",
    "import plotly.graph_objs as go\n",
    "\n",
    "trace0 = go.Bar(\n",
    "    x=conjunto_nombre,\n",
    "    y=[np.array(resultado)[0,2],np.array(resultado)[3,2],np.array(resultado)[6,2]],\n",
    "    name='GDP')\n",
    "\n",
    "trace1 = go.Bar(\n",
    "    x=conjunto_nombre,\n",
    "    y=[np.array(resultado)[1,2],np.array(resultado)[4,2],np.array(resultado)[7,2]],\n",
    "    name='Gross')\n",
    "\n",
    "trace2 = go.Bar(\n",
    "    x=conjunto_nombre,\n",
    "    y=[np.array(resultado)[2,2],np.array(resultado)[5,2],np.array(resultado)[8,2]],\n",
    "    name='GNI')\n",
    "\n",
    "data = [trace0, trace1, trace2]\n",
    "layout = go.Layout(barmode='group')\n",
    "\n",
    "fig = go.Figure(data=data, layout=layout)\n",
    "py.iplot(fig, filename='Resultado 2')"
   ]
  },
  {
   "cell_type": "code",
   "execution_count": 42,
   "metadata": {
    "collapsed": false
   },
   "outputs": [
    {
     "data": {
      "text/html": [
       "<iframe id=\"igraph\" scrolling=\"no\" style=\"border:none;\" seamless=\"seamless\" src=\"https://plot.ly/~ambigus9/142.embed\" height=\"525px\" width=\"100%\"></iframe>"
      ],
      "text/plain": [
       "<plotly.tools.PlotlyDisplay object>"
      ]
     },
     "execution_count": 42,
     "metadata": {},
     "output_type": "execute_result"
    }
   ],
   "source": [
    "data = [\n",
    "        go.Heatmap(\n",
    "            z=np.array(resultado)[:,2],\n",
    "            x=np.array(resultado)[:,1],\n",
    "            y=np.array(resultado)[:,0],\n",
    "            colorscale='Viridis'\n",
    "        )\n",
    "    ]\n",
    "py.iplot(data, filename='Resultado Global')"
   ]
  }
 ],
 "metadata": {
  "anaconda-cloud": {},
  "kernelspec": {
   "display_name": "Python [default]",
   "language": "python",
   "name": "python2"
  },
  "language_info": {
   "codemirror_mode": {
    "name": "ipython",
    "version": 2
   },
   "file_extension": ".py",
   "mimetype": "text/x-python",
   "name": "python",
   "nbconvert_exporter": "python",
   "pygments_lexer": "ipython2",
   "version": "2.7.12"
  }
 },
 "nbformat": 4,
 "nbformat_minor": 1
}
