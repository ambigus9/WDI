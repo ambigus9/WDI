{
 "cells": [
  {
   "cell_type": "markdown",
   "metadata": {},
   "source": [
    "## World Development Indicators - Analytics"
   ]
  },
  {
   "cell_type": "code",
   "execution_count": 97,
   "metadata": {
    "collapsed": false
   },
   "outputs": [
    {
     "data": {
      "text/html": [
       "<div>\n",
       "<table border=\"1\" class=\"dataframe\">\n",
       "  <thead>\n",
       "    <tr style=\"text-align: right;\">\n",
       "      <th></th>\n",
       "      <th>0</th>\n",
       "      <th>1</th>\n",
       "      <th>2</th>\n",
       "      <th>3</th>\n",
       "      <th>4</th>\n",
       "      <th>5</th>\n",
       "      <th>6</th>\n",
       "      <th>7</th>\n",
       "      <th>8</th>\n",
       "      <th>9</th>\n",
       "      <th>10</th>\n",
       "      <th>11</th>\n",
       "      <th>12</th>\n",
       "      <th>13</th>\n",
       "      <th>14</th>\n",
       "    </tr>\n",
       "  </thead>\n",
       "  <tbody>\n",
       "    <tr>\n",
       "      <th>0</th>\n",
       "      <td>3.358406e+09</td>\n",
       "      <td>3.637845e+09</td>\n",
       "      <td>1.347350e+09</td>\n",
       "      <td>1.239080e+09</td>\n",
       "      <td>108.320559</td>\n",
       "      <td>0.071111</td>\n",
       "      <td>14517.635341</td>\n",
       "      <td>39348.639719</td>\n",
       "      <td>42622.666667</td>\n",
       "      <td>15786.172840</td>\n",
       "      <td>-1.046262</td>\n",
       "      <td>25735.714754</td>\n",
       "      <td>24723.111892</td>\n",
       "      <td>2.196543e+09</td>\n",
       "      <td>2.110118e+09</td>\n",
       "    </tr>\n",
       "    <tr>\n",
       "      <th>1</th>\n",
       "      <td>2.954188e+09</td>\n",
       "      <td>3.257308e+09</td>\n",
       "      <td>1.206410e+09</td>\n",
       "      <td>1.089944e+09</td>\n",
       "      <td>110.260684</td>\n",
       "      <td>-12.036015</td>\n",
       "      <td>12629.713786</td>\n",
       "      <td>34231.611819</td>\n",
       "      <td>37744.009270</td>\n",
       "      <td>13979.262693</td>\n",
       "      <td>-13.004332</td>\n",
       "      <td>22388.956865</td>\n",
       "      <td>21671.375749</td>\n",
       "      <td>1.932167e+09</td>\n",
       "      <td>1.870240e+09</td>\n",
       "    </tr>\n",
       "    <tr>\n",
       "      <th>2</th>\n",
       "      <td>2.743171e+09</td>\n",
       "      <td>3.065955e+09</td>\n",
       "      <td>1.135539e+09</td>\n",
       "      <td>1.012090e+09</td>\n",
       "      <td>111.766847</td>\n",
       "      <td>-7.142991</td>\n",
       "      <td>11602.142227</td>\n",
       "      <td>31446.478970</td>\n",
       "      <td>35146.738046</td>\n",
       "      <td>13017.310387</td>\n",
       "      <td>-8.136143</td>\n",
       "      <td>20567.359344</td>\n",
       "      <td>20151.309866</td>\n",
       "      <td>1.794152e+09</td>\n",
       "      <td>1.757859e+09</td>\n",
       "    </tr>\n",
       "    <tr>\n",
       "      <th>3</th>\n",
       "      <td>2.693974e+09</td>\n",
       "      <td>3.050780e+09</td>\n",
       "      <td>1.129918e+09</td>\n",
       "      <td>9.939385e+08</td>\n",
       "      <td>113.244595</td>\n",
       "      <td>-1.793436</td>\n",
       "      <td>11275.280156</td>\n",
       "      <td>30560.551094</td>\n",
       "      <td>34608.172248</td>\n",
       "      <td>12817.841573</td>\n",
       "      <td>-2.817256</td>\n",
       "      <td>19987.924139</td>\n",
       "      <td>19987.924139</td>\n",
       "      <td>1.761975e+09</td>\n",
       "      <td>1.761975e+09</td>\n",
       "    </tr>\n",
       "    <tr>\n",
       "      <th>4</th>\n",
       "      <td>2.802259e+09</td>\n",
       "      <td>3.252725e+09</td>\n",
       "      <td>1.204713e+09</td>\n",
       "      <td>1.033890e+09</td>\n",
       "      <td>116.075112</td>\n",
       "      <td>4.019542</td>\n",
       "      <td>11607.745344</td>\n",
       "      <td>31461.665675</td>\n",
       "      <td>36519.163794</td>\n",
       "      <td>13525.616220</td>\n",
       "      <td>2.948620</td>\n",
       "      <td>20577.292107</td>\n",
       "      <td>20946.700835</td>\n",
       "      <td>1.832799e+09</td>\n",
       "      <td>1.865702e+09</td>\n",
       "    </tr>\n",
       "  </tbody>\n",
       "</table>\n",
       "</div>"
      ],
      "text/plain": [
       "             0             1             2             3           4   \\\n",
       "0  3.358406e+09  3.637845e+09  1.347350e+09  1.239080e+09  108.320559   \n",
       "1  2.954188e+09  3.257308e+09  1.206410e+09  1.089944e+09  110.260684   \n",
       "2  2.743171e+09  3.065955e+09  1.135539e+09  1.012090e+09  111.766847   \n",
       "3  2.693974e+09  3.050780e+09  1.129918e+09  9.939385e+08  113.244595   \n",
       "4  2.802259e+09  3.252725e+09  1.204713e+09  1.033890e+09  116.075112   \n",
       "\n",
       "          5             6             7             8             9   \\\n",
       "0   0.071111  14517.635341  39348.639719  42622.666667  15786.172840   \n",
       "1 -12.036015  12629.713786  34231.611819  37744.009270  13979.262693   \n",
       "2  -7.142991  11602.142227  31446.478970  35146.738046  13017.310387   \n",
       "3  -1.793436  11275.280156  30560.551094  34608.172248  12817.841573   \n",
       "4   4.019542  11607.745344  31461.665675  36519.163794  13525.616220   \n",
       "\n",
       "          10            11            12            13            14  \n",
       "0  -1.046262  25735.714754  24723.111892  2.196543e+09  2.110118e+09  \n",
       "1 -13.004332  22388.956865  21671.375749  1.932167e+09  1.870240e+09  \n",
       "2  -8.136143  20567.359344  20151.309866  1.794152e+09  1.757859e+09  \n",
       "3  -2.817256  19987.924139  19987.924139  1.761975e+09  1.761975e+09  \n",
       "4   2.948620  20577.292107  20946.700835  1.832799e+09  1.865702e+09  "
      ]
     },
     "execution_count": 97,
     "metadata": {},
     "output_type": "execute_result"
    }
   ],
   "source": [
    "import numpy as np\n",
    "import pandas as pd\n",
    "import matplotlib.pyplot as plt\n",
    "\n",
    "tabla = np.array(pd.read_csv(\"economia7.csv\").drop('Unnamed: 0', 1))\n",
    "pd.DataFrame(tabla).head()"
   ]
  },
  {
   "cell_type": "markdown",
   "metadata": {},
   "source": [
    "## Train Test Split"
   ]
  },
  {
   "cell_type": "code",
   "execution_count": 98,
   "metadata": {
    "collapsed": false
   },
   "outputs": [],
   "source": [
    "def splitter(tabla,y_indicator):\n",
    "    from sklearn.model_selection import train_test_split\n",
    "    # Asignamos X e y, eliminando la columna y en X\n",
    "    X = np.delete(tabla[:,:], y_indicator, 1)\n",
    "    y = tabla[:,y_indicator]\n",
    "    # Separamos Train y Test respectivamente para X e y\n",
    "    X_train, X_test, y_train, y_test = train_test_split(X, y, test_size=0.2, random_state=42)\n",
    "    return X_train, X_test, y_train, y_test"
   ]
  },
  {
   "cell_type": "markdown",
   "metadata": {},
   "source": [
    "## Métricas de error\n",
    "### R2 Score - Coeficiente de Determinación\n",
    "El mejor valor posible es 1.0"
   ]
  },
  {
   "cell_type": "code",
   "execution_count": 99,
   "metadata": {
    "collapsed": false
   },
   "outputs": [],
   "source": [
    "from sklearn.metrics import r2_score\n",
    "def r2(y_true, y_predict):\n",
    "    return r2_score(y_true, y_predict)"
   ]
  },
  {
   "cell_type": "markdown",
   "metadata": {},
   "source": [
    "## Decission Tree Regressor"
   ]
  },
  {
   "cell_type": "code",
   "execution_count": 100,
   "metadata": {
    "collapsed": false
   },
   "outputs": [],
   "source": [
    "from sklearn.tree import DecisionTreeRegressor\n",
    "\n",
    "def DTR(X_train, X_test, y_train, y_test):\n",
    "    estimator = DecisionTreeRegressor()\n",
    "    estimator.fit(X_train,y_train)\n",
    "    y_predict = estimator.predict(X_test)\n",
    "    print \"R2 Test score:\",r2(y_test,y_predict)\n",
    "    return y_test,y_predict"
   ]
  },
  {
   "cell_type": "markdown",
   "metadata": {},
   "source": [
    "## Indicador a Predecir"
   ]
  },
  {
   "cell_type": "code",
   "execution_count": 149,
   "metadata": {
    "collapsed": true
   },
   "outputs": [],
   "source": [
    "y_indicator = 5"
   ]
  },
  {
   "cell_type": "code",
   "execution_count": 150,
   "metadata": {
    "collapsed": true
   },
   "outputs": [],
   "source": [
    "X_train, X_test, y_train, y_test = splitter(tabla,y_indicator)"
   ]
  },
  {
   "cell_type": "code",
   "execution_count": 151,
   "metadata": {
    "collapsed": false
   },
   "outputs": [
    {
     "name": "stdout",
     "output_type": "stream",
     "text": [
      "R2 Test score: 0.868767274255\n"
     ]
    },
    {
     "data": {
      "text/html": [
       "<div>\n",
       "<table border=\"1\" class=\"dataframe\">\n",
       "  <thead>\n",
       "    <tr style=\"text-align: right;\">\n",
       "      <th></th>\n",
       "      <th>Test</th>\n",
       "      <th>Predict</th>\n",
       "    </tr>\n",
       "  </thead>\n",
       "  <tbody>\n",
       "    <tr>\n",
       "      <th>0</th>\n",
       "      <td>104.480301</td>\n",
       "      <td>102.991334</td>\n",
       "    </tr>\n",
       "    <tr>\n",
       "      <th>1</th>\n",
       "      <td>327.477653</td>\n",
       "      <td>275.964823</td>\n",
       "    </tr>\n",
       "    <tr>\n",
       "      <th>2</th>\n",
       "      <td>122.868957</td>\n",
       "      <td>133.897243</td>\n",
       "    </tr>\n",
       "    <tr>\n",
       "      <th>3</th>\n",
       "      <td>113.562949</td>\n",
       "      <td>107.938353</td>\n",
       "    </tr>\n",
       "    <tr>\n",
       "      <th>4</th>\n",
       "      <td>0.000000</td>\n",
       "      <td>0.000000</td>\n",
       "    </tr>\n",
       "  </tbody>\n",
       "</table>\n",
       "</div>"
      ],
      "text/plain": [
       "         Test     Predict\n",
       "0  104.480301  102.991334\n",
       "1  327.477653  275.964823\n",
       "2  122.868957  133.897243\n",
       "3  113.562949  107.938353\n",
       "4    0.000000    0.000000"
      ]
     },
     "execution_count": 151,
     "metadata": {},
     "output_type": "execute_result"
    }
   ],
   "source": [
    "y_test , y_predict = DTR(X_train, X_test, y_train, y_test)\n",
    "pd.DataFrame((zip(*[y_test,y_predict])), columns=['Test','Predict']).head()"
   ]
  },
  {
   "cell_type": "markdown",
   "metadata": {},
   "source": [
    "## Modificamos los valores nulos"
   ]
  },
  {
   "cell_type": "code",
   "execution_count": 152,
   "metadata": {
    "collapsed": false
   },
   "outputs": [],
   "source": [
    "def imputador(X):\n",
    "    from sklearn.preprocessing import Imputer\n",
    "    impute=Imputer(missing_values=0,strategy='mean',axis=0)\n",
    "    impute.fit(X)\n",
    "    X_imputado=impute.transform(X)\n",
    "    return X_imputado"
   ]
  },
  {
   "cell_type": "code",
   "execution_count": 153,
   "metadata": {
    "collapsed": true
   },
   "outputs": [],
   "source": [
    "tabla_imputada = imputador(tabla)"
   ]
  },
  {
   "cell_type": "code",
   "execution_count": 154,
   "metadata": {
    "collapsed": true
   },
   "outputs": [],
   "source": [
    "X_train, X_test, y_train, y_test = splitter(tabla_imputada,y_indicator)"
   ]
  },
  {
   "cell_type": "code",
   "execution_count": 155,
   "metadata": {
    "collapsed": false
   },
   "outputs": [
    {
     "name": "stdout",
     "output_type": "stream",
     "text": [
      "R2 Test score: 0.985340925536\n"
     ]
    },
    {
     "data": {
      "text/html": [
       "<div>\n",
       "<table border=\"1\" class=\"dataframe\">\n",
       "  <thead>\n",
       "    <tr style=\"text-align: right;\">\n",
       "      <th></th>\n",
       "      <th>Test</th>\n",
       "      <th>Predict</th>\n",
       "    </tr>\n",
       "  </thead>\n",
       "  <tbody>\n",
       "    <tr>\n",
       "      <th>0</th>\n",
       "      <td>104.480301</td>\n",
       "      <td>102.991334</td>\n",
       "    </tr>\n",
       "    <tr>\n",
       "      <th>1</th>\n",
       "      <td>327.477653</td>\n",
       "      <td>275.964823</td>\n",
       "    </tr>\n",
       "    <tr>\n",
       "      <th>2</th>\n",
       "      <td>122.868957</td>\n",
       "      <td>133.897243</td>\n",
       "    </tr>\n",
       "    <tr>\n",
       "      <th>3</th>\n",
       "      <td>113.562949</td>\n",
       "      <td>108.155994</td>\n",
       "    </tr>\n",
       "    <tr>\n",
       "      <th>4</th>\n",
       "      <td>325.903519</td>\n",
       "      <td>325.903519</td>\n",
       "    </tr>\n",
       "  </tbody>\n",
       "</table>\n",
       "</div>"
      ],
      "text/plain": [
       "         Test     Predict\n",
       "0  104.480301  102.991334\n",
       "1  327.477653  275.964823\n",
       "2  122.868957  133.897243\n",
       "3  113.562949  108.155994\n",
       "4  325.903519  325.903519"
      ]
     },
     "execution_count": 155,
     "metadata": {},
     "output_type": "execute_result"
    }
   ],
   "source": [
    "y_test , y_predict = DTR(X_train, X_test, y_train, y_test)\n",
    "pd.DataFrame((zip(*[y_test,y_predict])), columns=['Test','Predict']).head()"
   ]
  },
  {
   "cell_type": "markdown",
   "metadata": {
    "collapsed": true
   },
   "source": [
    "## GridSearchCV"
   ]
  },
  {
   "cell_type": "markdown",
   "metadata": {},
   "source": [
    "Efecutamos un GridSearchCV para buscar el mejor valor del parámetro Max_depth (Máximo valor: 10) para nuestro modelo"
   ]
  },
  {
   "cell_type": "code",
   "execution_count": 156,
   "metadata": {
    "collapsed": false
   },
   "outputs": [
    {
     "name": "stdout",
     "output_type": "stream",
     "text": [
      "0.801106799394\n",
      "{'max_depth': 10}\n"
     ]
    }
   ],
   "source": [
    "from sklearn.grid_search import GridSearchCV\n",
    "from sklearn.cross_validation import ShuffleSplit\n",
    "\n",
    "cv = ShuffleSplit(X_train.shape[0], n_iter = 10, test_size=0.2, random_state = 42)\n",
    "estimator = DecisionTreeRegressor()\n",
    "params = {'max_depth': [1, 2, 3, 4, 5, 6, 7, 8, 9, 10]}\n",
    "\n",
    "grid = GridSearchCV(estimator, params, cv=cv, scoring=\"r2\")\n",
    "\n",
    "grid.fit(X_train, y_train)\n",
    "print grid.best_score_\n",
    "print grid.best_params_  \n",
    "for k,v in grid.best_params_.iteritems():\n",
    "    best_max_depth = v"
   ]
  },
  {
   "cell_type": "markdown",
   "metadata": {},
   "source": [
    "## Gráfica de Scores del GridSearchCV"
   ]
  },
  {
   "cell_type": "markdown",
   "metadata": {},
   "source": [
    "Graficos cada score para cada valor del parámetro max_depth "
   ]
  },
  {
   "cell_type": "code",
   "execution_count": 157,
   "metadata": {
    "collapsed": false
   },
   "outputs": [
    {
     "data": {
      "image/png": "[encoded data removed]",
      "text/plain": [
       "<matplotlib.figure.Figure at 0xc407d30>"
      ]
     },
     "metadata": {},
     "output_type": "display_data"
    }
   ],
   "source": [
    "grid_mean_scores = [result.mean_validation_score for result in grid.grid_scores_]\n",
    "plt.plot(range(1,11), grid_mean_scores)\n",
    "plt.xlabel('Valor de Max_depth para el DecissionTreeRegressor')\n",
    "plt.ylabel('Cross-Validated R2')\n",
    "plt.show()"
   ]
  },
  {
   "cell_type": "markdown",
   "metadata": {},
   "source": [
    "## DecissionTreeRegressor v2"
   ]
  },
  {
   "cell_type": "markdown",
   "metadata": {},
   "source": [
    "Ajustamos nuestra función DTR, asignando el Max_depth en base al mejor score del GridSearchCV"
   ]
  },
  {
   "cell_type": "code",
   "execution_count": 158,
   "metadata": {
    "collapsed": true
   },
   "outputs": [],
   "source": [
    "def DTR_v2(X_train, X_test, y_train, y_test, depth):\n",
    "    estimator = DecisionTreeRegressor(max_depth=depth)\n",
    "    estimator.fit(X_train,y_train)\n",
    "    y_predict = estimator.predict(X_test)\n",
    "    print \"R2 Test score:\",r2(y_test,y_predict)\n",
    "    return y_test,y_predict"
   ]
  },
  {
   "cell_type": "code",
   "execution_count": 159,
   "metadata": {
    "collapsed": false
   },
   "outputs": [
    {
     "name": "stdout",
     "output_type": "stream",
     "text": [
      "R2 Test score: 0.980768787301\n"
     ]
    },
    {
     "data": {
      "text/html": [
       "<div>\n",
       "<table border=\"1\" class=\"dataframe\">\n",
       "  <thead>\n",
       "    <tr style=\"text-align: right;\">\n",
       "      <th></th>\n",
       "      <th>Test</th>\n",
       "      <th>Predict</th>\n",
       "    </tr>\n",
       "  </thead>\n",
       "  <tbody>\n",
       "    <tr>\n",
       "      <th>0</th>\n",
       "      <td>104.480301</td>\n",
       "      <td>103.624113</td>\n",
       "    </tr>\n",
       "    <tr>\n",
       "      <th>1</th>\n",
       "      <td>327.477653</td>\n",
       "      <td>275.964823</td>\n",
       "    </tr>\n",
       "    <tr>\n",
       "      <th>2</th>\n",
       "      <td>122.868957</td>\n",
       "      <td>133.897243</td>\n",
       "    </tr>\n",
       "    <tr>\n",
       "      <th>3</th>\n",
       "      <td>113.562949</td>\n",
       "      <td>107.824993</td>\n",
       "    </tr>\n",
       "    <tr>\n",
       "      <th>4</th>\n",
       "      <td>325.903519</td>\n",
       "      <td>325.903519</td>\n",
       "    </tr>\n",
       "  </tbody>\n",
       "</table>\n",
       "</div>"
      ],
      "text/plain": [
       "         Test     Predict\n",
       "0  104.480301  103.624113\n",
       "1  327.477653  275.964823\n",
       "2  122.868957  133.897243\n",
       "3  113.562949  107.824993\n",
       "4  325.903519  325.903519"
      ]
     },
     "execution_count": 159,
     "metadata": {},
     "output_type": "execute_result"
    }
   ],
   "source": [
    "y_test , y_predict = DTR_v2(X_train, X_test, y_train, y_test, best_max_depth)\n",
    "pd.DataFrame((zip(*[y_test,y_predict])), columns=['Test','Predict']).head()"
   ]
  },
  {
   "cell_type": "markdown",
   "metadata": {},
   "source": [
    "## Curva de Aprendizaje"
   ]
  },
  {
   "cell_type": "code",
   "execution_count": 160,
   "metadata": {
    "collapsed": false
   },
   "outputs": [],
   "source": [
    "from sklearn import cross_validation\n",
    "from sklearn.naive_bayes import GaussianNB\n",
    "from sklearn.learning_curve import learning_curve\n",
    "from sklearn.svm import SVR\n",
    "from sklearn.cross_validation import train_test_split\n",
    "from sklearn.tree import DecisionTreeRegressor\n",
    "from sklearn.grid_search import GridSearchCV\n",
    "from sklearn.linear_model import LinearRegression\n",
    "from sklearn.preprocessing import MinMaxScaler\n",
    "  \n",
    "def plot_learning_curve(estimator, title, X, y, ylim=None, cv=None, scoring=None,\n",
    "                        n_jobs=1, train_sizes=np.linspace(.1, 1.0, 5)):\n",
    "    plt.title(title)\n",
    "    if ylim is not None:\n",
    "        plt.ylim(*ylim)\n",
    "    plt.xlabel(\"Training examples\")\n",
    "    plt.ylabel(\"Score\")\n",
    "    train_sizes, train_scores, test_scores = learning_curve(\n",
    "        estimator, X, y, cv=cv, n_jobs=n_jobs, train_sizes=train_sizes, scoring=scoring)\n",
    "    train_scores_mean = np.mean(train_scores, axis=1)\n",
    "    train_scores_std = np.std(train_scores, axis=1)\n",
    "    test_scores_mean = np.mean(test_scores, axis=1)\n",
    "    test_scores_std = np.std(test_scores, axis=1)\n",
    "    plt.grid()\n",
    "\n",
    "    plt.fill_between(train_sizes, train_scores_mean - train_scores_std,\n",
    "                     train_scores_mean + train_scores_std, alpha=0.1,\n",
    "                     color=\"r\")\n",
    "    plt.fill_between(train_sizes, test_scores_mean - test_scores_std,\n",
    "                     test_scores_mean + test_scores_std, alpha=0.1, color=\"g\")\n",
    "    plt.plot(train_sizes, train_scores_mean, 'o-', color=\"r\",\n",
    "             label=\"train score\")\n",
    "    plt.plot(train_sizes, test_scores_mean, 'o-', color=\"g\",\n",
    "             label=\"test score\")\n",
    "\n",
    "    plt.legend(loc=\"best\")\n",
    "    return plt"
   ]
  },
  {
   "cell_type": "markdown",
   "metadata": {},
   "source": [
    "## Tabla Imputada"
   ]
  },
  {
   "cell_type": "code",
   "execution_count": 161,
   "metadata": {
    "collapsed": false
   },
   "outputs": [
    {
     "data": {
      "image/png": "[encoded data removed]",
      "text/plain": [
       "<matplotlib.figure.Figure at 0xc337f98>"
      ]
     },
     "metadata": {},
     "output_type": "display_data"
    }
   ],
   "source": [
    "X = np.delete(tabla_imputada[:,:], y_indicator, 1)\n",
    "y = tabla_imputada[:,y_indicator]\n",
    "\n",
    "title = \"Curva de aprendizaje\"\n",
    "estimator = DecisionTreeRegressor()\n",
    "cv = cross_validation.ShuffleSplit(X.shape[0], n_iter=10, test_size=0.2, random_state=42)\n",
    "\n",
    "plot_learning_curve(estimator, title, X, y, ylim=(0,1), cv=cv, scoring='r2',n_jobs=4, train_sizes=np.linspace(.1, 1.0, 5)).show()"
   ]
  },
  {
   "cell_type": "markdown",
   "metadata": {},
   "source": [
    "## Normalizamos los datos"
   ]
  },
  {
   "cell_type": "code",
   "execution_count": 162,
   "metadata": {
    "collapsed": true
   },
   "outputs": [],
   "source": [
    "def normalizar_datos(X):\n",
    "    from sklearn.preprocessing import StandardScaler\n",
    "    sc = StandardScaler()\n",
    "    X_norm = sc.fit_transform(X)\n",
    "    return X_norm"
   ]
  },
  {
   "cell_type": "code",
   "execution_count": 163,
   "metadata": {
    "collapsed": true
   },
   "outputs": [],
   "source": [
    "tabla_imputada_normalizada = normalizar_datos(tabla_imputada)"
   ]
  },
  {
   "cell_type": "markdown",
   "metadata": {},
   "source": [
    "## Tabla Imputada Normalizada"
   ]
  },
  {
   "cell_type": "code",
   "execution_count": 164,
   "metadata": {
    "collapsed": false
   },
   "outputs": [
    {
     "data": {
      "image/png": "[encoded data removed]",
      "text/plain": [
       "<matplotlib.figure.Figure at 0xbfaff98>"
      ]
     },
     "metadata": {},
     "output_type": "display_data"
    }
   ],
   "source": [
    "X = np.delete(tabla_imputada_normalizada[:,:], y_indicator, 1)\n",
    "y = tabla_imputada_normalizada[:,y_indicator]\n",
    "\n",
    "title = \"Curva de aprendizaje\"\n",
    "estimator = DecisionTreeRegressor()\n",
    "cv = cross_validation.ShuffleSplit(X.shape[0], n_iter=10, test_size=0.2, random_state=42)\n",
    "\n",
    "plot_learning_curve(estimator, title, X, y, ylim=(0,1), cv=cv, scoring='r2',n_jobs=4, train_sizes=np.linspace(.1, 1.0, 5)).show()"
   ]
  },
  {
   "cell_type": "markdown",
   "metadata": {},
   "source": [
    "## Iteramos para todos los indicadores"
   ]
  },
  {
   "cell_type": "code",
   "execution_count": null,
   "metadata": {
    "collapsed": true
   },
   "outputs": [],
   "source": [
    "X_train, X_test, y_train, y_test = splitter(tabla,y_indicator)\n",
    "y_test , y_predict = DTR(X_train, X_test, y_train, y_test)\n",
    "\n",
    "X_train, X_test, y_train, y_test = splitter(tabla_imputada,y_indicator)\n",
    "y_test , y_predict = DTR(X_train, X_test, y_train, y_test)\n",
    "\n"
   ]
  }
 ],
 "metadata": {
  "anaconda-cloud": {},
  "kernelspec": {
   "display_name": "Python [default]",
   "language": "python",
   "name": "python2"
  },
  "language_info": {
   "codemirror_mode": {
    "name": "ipython",
    "version": 2
   },
   "file_extension": ".py",
   "mimetype": "text/x-python",
   "name": "python",
   "nbconvert_exporter": "python",
   "pygments_lexer": "ipython2",
   "version": "2.7.12"
  }
 },
 "nbformat": 4,
 "nbformat_minor": 1
}
