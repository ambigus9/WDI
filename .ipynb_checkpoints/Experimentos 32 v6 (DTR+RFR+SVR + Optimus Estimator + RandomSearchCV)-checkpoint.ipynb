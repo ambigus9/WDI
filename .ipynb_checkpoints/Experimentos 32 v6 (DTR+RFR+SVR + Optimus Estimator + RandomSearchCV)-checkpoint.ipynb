{
 "cells": [
  {
   "cell_type": "markdown",
   "metadata": {},
   "source": [
    "## World Development Indicators - Analytics"
   ]
  },
  {
   "cell_type": "code",
   "execution_count": 62,
   "metadata": {
    "collapsed": false
   },
   "outputs": [
    {
     "data": {
      "text/html": [
       "<div>\n",
       "<table border=\"1\" class=\"dataframe\">\n",
       "  <thead>\n",
       "    <tr style=\"text-align: right;\">\n",
       "      <th></th>\n",
       "      <th>0</th>\n",
       "      <th>1</th>\n",
       "      <th>2</th>\n",
       "      <th>3</th>\n",
       "      <th>4</th>\n",
       "      <th>5</th>\n",
       "      <th>6</th>\n",
       "      <th>7</th>\n",
       "      <th>8</th>\n",
       "      <th>9</th>\n",
       "      <th>10</th>\n",
       "      <th>11</th>\n",
       "      <th>12</th>\n",
       "      <th>13</th>\n",
       "      <th>14</th>\n",
       "    </tr>\n",
       "  </thead>\n",
       "  <tbody>\n",
       "    <tr>\n",
       "      <th>0</th>\n",
       "      <td>3.358406e+09</td>\n",
       "      <td>3.637845e+09</td>\n",
       "      <td>1.347350e+09</td>\n",
       "      <td>1.239080e+09</td>\n",
       "      <td>108.320559</td>\n",
       "      <td>0.071111</td>\n",
       "      <td>14517.635341</td>\n",
       "      <td>39348.639719</td>\n",
       "      <td>42622.666667</td>\n",
       "      <td>15786.172840</td>\n",
       "      <td>-1.046262</td>\n",
       "      <td>25735.714754</td>\n",
       "      <td>24723.111892</td>\n",
       "      <td>2.196543e+09</td>\n",
       "      <td>2.110118e+09</td>\n",
       "    </tr>\n",
       "    <tr>\n",
       "      <th>1</th>\n",
       "      <td>2.954188e+09</td>\n",
       "      <td>3.257308e+09</td>\n",
       "      <td>1.206410e+09</td>\n",
       "      <td>1.089944e+09</td>\n",
       "      <td>110.260684</td>\n",
       "      <td>-12.036015</td>\n",
       "      <td>12629.713786</td>\n",
       "      <td>34231.611819</td>\n",
       "      <td>37744.009270</td>\n",
       "      <td>13979.262693</td>\n",
       "      <td>-13.004332</td>\n",
       "      <td>22388.956865</td>\n",
       "      <td>21671.375749</td>\n",
       "      <td>1.932167e+09</td>\n",
       "      <td>1.870240e+09</td>\n",
       "    </tr>\n",
       "    <tr>\n",
       "      <th>2</th>\n",
       "      <td>2.743171e+09</td>\n",
       "      <td>3.065955e+09</td>\n",
       "      <td>1.135539e+09</td>\n",
       "      <td>1.012090e+09</td>\n",
       "      <td>111.766847</td>\n",
       "      <td>-7.142991</td>\n",
       "      <td>11602.142227</td>\n",
       "      <td>31446.478970</td>\n",
       "      <td>35146.738046</td>\n",
       "      <td>13017.310387</td>\n",
       "      <td>-8.136143</td>\n",
       "      <td>20567.359344</td>\n",
       "      <td>20151.309866</td>\n",
       "      <td>1.794152e+09</td>\n",
       "      <td>1.757859e+09</td>\n",
       "    </tr>\n",
       "    <tr>\n",
       "      <th>3</th>\n",
       "      <td>2.693974e+09</td>\n",
       "      <td>3.050780e+09</td>\n",
       "      <td>1.129918e+09</td>\n",
       "      <td>9.939385e+08</td>\n",
       "      <td>113.244595</td>\n",
       "      <td>-1.793436</td>\n",
       "      <td>11275.280156</td>\n",
       "      <td>30560.551094</td>\n",
       "      <td>34608.172248</td>\n",
       "      <td>12817.841573</td>\n",
       "      <td>-2.817256</td>\n",
       "      <td>19987.924139</td>\n",
       "      <td>19987.924139</td>\n",
       "      <td>1.761975e+09</td>\n",
       "      <td>1.761975e+09</td>\n",
       "    </tr>\n",
       "    <tr>\n",
       "      <th>4</th>\n",
       "      <td>2.802259e+09</td>\n",
       "      <td>3.252725e+09</td>\n",
       "      <td>1.204713e+09</td>\n",
       "      <td>1.033890e+09</td>\n",
       "      <td>116.075112</td>\n",
       "      <td>4.019542</td>\n",
       "      <td>11607.745344</td>\n",
       "      <td>31461.665675</td>\n",
       "      <td>36519.163794</td>\n",
       "      <td>13525.616220</td>\n",
       "      <td>2.948620</td>\n",
       "      <td>20577.292107</td>\n",
       "      <td>20946.700835</td>\n",
       "      <td>1.832799e+09</td>\n",
       "      <td>1.865702e+09</td>\n",
       "    </tr>\n",
       "  </tbody>\n",
       "</table>\n",
       "</div>"
      ],
      "text/plain": [
       "             0             1             2             3           4   \\\n",
       "0  3.358406e+09  3.637845e+09  1.347350e+09  1.239080e+09  108.320559   \n",
       "1  2.954188e+09  3.257308e+09  1.206410e+09  1.089944e+09  110.260684   \n",
       "2  2.743171e+09  3.065955e+09  1.135539e+09  1.012090e+09  111.766847   \n",
       "3  2.693974e+09  3.050780e+09  1.129918e+09  9.939385e+08  113.244595   \n",
       "4  2.802259e+09  3.252725e+09  1.204713e+09  1.033890e+09  116.075112   \n",
       "\n",
       "          5             6             7             8             9   \\\n",
       "0   0.071111  14517.635341  39348.639719  42622.666667  15786.172840   \n",
       "1 -12.036015  12629.713786  34231.611819  37744.009270  13979.262693   \n",
       "2  -7.142991  11602.142227  31446.478970  35146.738046  13017.310387   \n",
       "3  -1.793436  11275.280156  30560.551094  34608.172248  12817.841573   \n",
       "4   4.019542  11607.745344  31461.665675  36519.163794  13525.616220   \n",
       "\n",
       "          10            11            12            13            14  \n",
       "0  -1.046262  25735.714754  24723.111892  2.196543e+09  2.110118e+09  \n",
       "1 -13.004332  22388.956865  21671.375749  1.932167e+09  1.870240e+09  \n",
       "2  -8.136143  20567.359344  20151.309866  1.794152e+09  1.757859e+09  \n",
       "3  -2.817256  19987.924139  19987.924139  1.761975e+09  1.761975e+09  \n",
       "4   2.948620  20577.292107  20946.700835  1.832799e+09  1.865702e+09  "
      ]
     },
     "execution_count": 62,
     "metadata": {},
     "output_type": "execute_result"
    }
   ],
   "source": [
    "import numpy as np\n",
    "import pandas as pd\n",
    "import matplotlib.pyplot as plt\n",
    "import time\n",
    "\n",
    "tabla = np.array(pd.read_csv(\"economia7.csv\").drop('Unnamed: 0', 1))\n",
    "pd.DataFrame(tabla).head()"
   ]
  },
  {
   "cell_type": "code",
   "execution_count": 63,
   "metadata": {
    "collapsed": false
   },
   "outputs": [
    {
     "data": {
      "text/html": [
       "<div>\n",
       "<table border=\"1\" class=\"dataframe\">\n",
       "  <thead>\n",
       "    <tr style=\"text-align: right;\">\n",
       "      <th></th>\n",
       "      <th>CountryName</th>\n",
       "      <th>CountryCode</th>\n",
       "      <th>IndicatorName</th>\n",
       "      <th>IndicatorCode</th>\n",
       "      <th>Year</th>\n",
       "      <th>Value</th>\n",
       "    </tr>\n",
       "  </thead>\n",
       "  <tbody>\n",
       "    <tr>\n",
       "      <th>0</th>\n",
       "      <td>Antigua and Barbuda</td>\n",
       "      <td>ATG</td>\n",
       "      <td>Adolescent fertility rate (births per 1,000 wo...</td>\n",
       "      <td>SP.ADO.TFRT</td>\n",
       "      <td>1960</td>\n",
       "      <td>126.144000</td>\n",
       "    </tr>\n",
       "    <tr>\n",
       "      <th>1</th>\n",
       "      <td>Antigua and Barbuda</td>\n",
       "      <td>ATG</td>\n",
       "      <td>Age dependency ratio (% of working-age populat...</td>\n",
       "      <td>SP.POP.DPND</td>\n",
       "      <td>1960</td>\n",
       "      <td>88.237117</td>\n",
       "    </tr>\n",
       "    <tr>\n",
       "      <th>2</th>\n",
       "      <td>Antigua and Barbuda</td>\n",
       "      <td>ATG</td>\n",
       "      <td>Age dependency ratio, old (% of working-age po...</td>\n",
       "      <td>SP.POP.DPND.OL</td>\n",
       "      <td>1960</td>\n",
       "      <td>7.779958</td>\n",
       "    </tr>\n",
       "    <tr>\n",
       "      <th>3</th>\n",
       "      <td>Antigua and Barbuda</td>\n",
       "      <td>ATG</td>\n",
       "      <td>Age dependency ratio, young (% of working-age ...</td>\n",
       "      <td>SP.POP.DPND.YG</td>\n",
       "      <td>1960</td>\n",
       "      <td>80.457159</td>\n",
       "    </tr>\n",
       "    <tr>\n",
       "      <th>4</th>\n",
       "      <td>Antigua and Barbuda</td>\n",
       "      <td>ATG</td>\n",
       "      <td>Birth rate, crude (per 1,000 people)</td>\n",
       "      <td>SP.DYN.CBRT.IN</td>\n",
       "      <td>1960</td>\n",
       "      <td>32.920000</td>\n",
       "    </tr>\n",
       "  </tbody>\n",
       "</table>\n",
       "</div>"
      ],
      "text/plain": [
       "           CountryName CountryCode  \\\n",
       "0  Antigua and Barbuda         ATG   \n",
       "1  Antigua and Barbuda         ATG   \n",
       "2  Antigua and Barbuda         ATG   \n",
       "3  Antigua and Barbuda         ATG   \n",
       "4  Antigua and Barbuda         ATG   \n",
       "\n",
       "                                       IndicatorName   IndicatorCode  Year  \\\n",
       "0  Adolescent fertility rate (births per 1,000 wo...     SP.ADO.TFRT  1960   \n",
       "1  Age dependency ratio (% of working-age populat...     SP.POP.DPND  1960   \n",
       "2  Age dependency ratio, old (% of working-age po...  SP.POP.DPND.OL  1960   \n",
       "3  Age dependency ratio, young (% of working-age ...  SP.POP.DPND.YG  1960   \n",
       "4               Birth rate, crude (per 1,000 people)  SP.DYN.CBRT.IN  1960   \n",
       "\n",
       "        Value  \n",
       "0  126.144000  \n",
       "1   88.237117  \n",
       "2    7.779958  \n",
       "3   80.457159  \n",
       "4   32.920000  "
      ]
     },
     "execution_count": 63,
     "metadata": {},
     "output_type": "execute_result"
    }
   ],
   "source": [
    "datos = pd.read_csv(\"suramerica.csv\").drop('Unnamed: 0', 1)\n",
    "datos.head()"
   ]
  },
  {
   "cell_type": "code",
   "execution_count": 64,
   "metadata": {
    "collapsed": true
   },
   "outputs": [],
   "source": [
    "paises = ['Antigua and Barbuda','Argentina','Aruba','Bahamas, The','Barbados','Belize','Bolivia','Brazil','Cayman Islands','Chile','Colombia','Costa Rica','Cuba','Curacao','Dominica','Dominican Republic','Ecuador','El Salvador','Grenada','Guatemala','Guyana','Haiti','Honduras','Jamaica','Mexico','Nicaragua','Panama','Paraguay','Peru','Puerto Rico','Sint Maarten (Dutch part)','St. Kitts and Nevis','St. Lucia','St. Martin (French part)','St. Vincent and the Grenadines','Suriname','Trinidad and Tobago','Turks and Caicos Islands','Uruguay','Venezuela, RB','Virgin Islands (U.S.)']\n",
    "\n",
    "year_init = 2012\n",
    "year_range = 5\n",
    "look_back = 3\n",
    "years = range(year_init-year_range+1,year_init+1)[::-1]\n",
    "\n",
    "agricultura = ['EG.ELC.ACCS.RU.ZS','EG.NSF.ACCS.RU.ZS','AG.LND.IRIG.AG.ZS','AG.LND.AGRI.ZS','AG.LND.AGRI.K2','AG.AGR.TRAC.NO','AG.LND.TRAC.ZS','EN.ATM.METH.AG.ZS','EN.ATM.METH.AG.KT.CE','EN.ATM.NOXE.AG.ZS','EN.ATM.NOXE.AG.KT.CE','TX.VAL.AGRI.ZS.UN','TM.VAL.AGRI.ZS.UN','EA.PRD.AGRI.KD','NV.AGR.TOTL.ZS','NV.AGR.TOTL.CD','ER.H2O.FWAG.ZS','AG.LND.ARBL.ZS','AG.LND.ARBL.HA.PC','AG.LND.ARBL.HA','AG.LND.PRCP.MM','AG.PRD.CREL.MT','AG.YLD.CREL.KG','AG.PRD.CROP.XD','SL.AGR.EMPL.ZS','SL.AGR.EMPL.FE.ZS','SL.AGR.EMPL.MA.ZS','AG.CON.FERT.PT.ZS','AG.CON.FERT.ZS','AG.PRD.FOOD.XD','AG.LND.FRST.ZS','AG.LND.FRST.K2','SH.STA.ACSN.RU','SH.H2O.SAFE.RU.ZS','AG.LND.TOTL.K2','AG.LND.CREL.HA','AG.PRD.LVSK.XD','AG.LND.CROP.ZS','AG.LND.TOTL.RU.K2','AG.LND.EL5M.RU.ZS','AG.LND.EL5M.RU.K2','SP.RUR.TOTL','SP.RUR.TOTL.ZS','SP.RUR.TOTL.ZG','EN.POP.EL5M.RU.ZS','SI.POV.RUGP','SI.POV.RUHC','AG.SRF.TOTL.K2']\n",
    "economia = ['PA.NUS.PPP.05','PA.NUS.PRVT.PP.05','NY.ADJ.NNTY.KD.ZG','NY.ADJ.NNTY.KD','NY.ADJ.NNTY.CD','NY.ADJ.NNTY.PC.KD.ZG','NY.ADJ.NNTY.PC.KD','NY.ADJ.NNTY.PC.CD','NY.ADJ.SVNX.GN.ZS','NY.ADJ.SVNX.CD','NY.ADJ.SVNG.GN.ZS','NY.ADJ.SVNG.CD','NY.ADJ.DCO2.GN.ZS','NY.ADJ.DCO2.CD','NY.ADJ.DKAP.GN.ZS','NY.ADJ.DKAP.CD','NY.ADJ.AEDU.GN.ZS','NY.ADJ.AEDU.CD','NY.ADJ.DNGY.GN.ZS','NY.ADJ.DNGY.CD','NY.ADJ.ICTR.GN.ZS','NY.ADJ.DMIN.GN.ZS','NY.ADJ.DMIN.CD','NY.ADJ.DRES.GN.ZS','NY.ADJ.DFOR.GN.ZS','NY.ADJ.DFOR.CD','NY.ADJ.NNAT.GN.ZS','NY.ADJ.NNAT.CD','NY.ADJ.DPEM.GN.ZS','NY.ADJ.DPEM.CD','NV.AGR.TOTL.ZS','NV.AGR.TOTL.KD.ZG','NV.AGR.TOTL.KD','NV.AGR.TOTL.KN','NV.AGR.TOTL.CN','NV.AGR.TOTL.CD','GC.DOD.TOTL.GD.ZS','NE.GDI.STKB.KN','NE.GDI.STKB.CN','NE.GDI.STKB.CD','BM.GSR.ROYL.CD','BX.GSR.ROYL.CD','NV.MNF.CHEM.ZS.UN','BX.GSR.CMCP.ZS','BM.GSR.CMCP.ZS','BN.CAB.XOKA.GD.ZS','BN.CAB.XOKA.CD','PA.NUS.ATLS','NY.GDP.DISC.KN','NY.GDP.DISC.CN','GC.XPN.TOTL.GD.ZS','NY.EXP.CAPM.KN','NE.EXP.GNFS.ZS','BX.GSR.GNFS.CD','NE.EXP.GNFS.KD.ZG','NE.EXP.GNFS.KD','NE.EXP.GNFS.KN','NE.EXP.GNFS.CN','NE.EXP.GNFS.CD','BX.GSR.TOTL.CD','NE.RSB.GNFS.ZS','NE.RSB.GNFS.KN','NE.RSB.GNFS.CN','NE.RSB.GNFS.CD','DT.DOD.DECT.GN.ZS','DT.DOD.DECT.EX.ZS','DT.DOD.DECT.CD','NE.CON.TOTL.KD','NE.CON.TOTL.KN','NE.CON.TOTL.CN','NE.CON.TOTL.CD','NE.CON.TETC.ZS','NE.CON.TETC.KD.ZG','NE.CON.TETC.KD','NE.CON.TETC.KN','NE.CON.TETC.CN','NE.CON.TETC.CD','NV.MNF.FBTO.ZS.UN','BN.KLT.DINV.CD','BX.KLT.DINV.WD.GD.ZS','BX.KLT.DINV.CD.WD','BM.KLT.DINV.WD.GD.ZS','BM.KLT.DINV.CD.WD','NY.GDP.MKTP.KN','NY.GDP.MKTP.CN','NY.GDP.MKTP.CD','NY.GDP.MKTP.KD','NY.GDP.DEFL.ZS','NY.GDP.MKTP.KD.ZG','NY.GDP.PCAP.KD','NY.GDP.PCAP.KN','NY.GDP.PCAP.CN','NY.GDP.PCAP.CD','NY.GDP.PCAP.KD.ZG','NY.GDP.PCAP.PP.KD','NY.GDP.PCAP.PP.CD','NY.GDP.MKTP.PP.KD','NY.GDP.MKTP.PP.CD','NY.GNP.MKTP.KD','NY.GNP.MKTP.KN','NY.GNP.MKTP.CN','NY.GNP.MKTP.CD','NY.GNP.MKTP.KD.ZG','NY.GNP.PCAP.KD','NY.GNP.PCAP.KN','NY.GNP.PCAP.CN','NY.GNP.PCAP.KD.ZG','NY.GNP.PCAP.CD','NY.GNP.PCAP.PP.KD','NY.GNP.PCAP.PP.CD','NY.GNP.ATLS.CD','NY.GNP.MKTP.PP.KD','NY.GNP.MKTP.PP.CD','NE.CON.GOVT.ZS','NE.CON.GOVT.KD.ZG','NE.CON.GOVT.KD','NE.CON.GOVT.KN','NE.CON.GOVT.CN','NE.CON.GOVT.CD','BX.GSR.MRCH.CD','BM.GSR.MRCH.CD','BX.GRT.EXTA.CD.WD','NE.GDI.TOTL.ZS','NE.GDI.TOTL.KD.ZG','NE.GDI.TOTL.KD','NE.GDI.TOTL.KN','NE.GDI.TOTL.CN','NE.GDI.TOTL.CD','NY.GDY.TOTL.KN','NY.GDS.TOTL.ZS','NY.GDS.TOTL.CN','NY.GDS.TOTL.CD','NE.GDI.FTOT.ZS','NE.GDI.FTOT.KD.ZG','NE.GDI.FTOT.KD','NE.GDI.FTOT.KN','NE.GDI.FTOT.CN','NE.GDI.FTOT.CD','NE.GDI.FPRV.ZS','NE.GDI.FPRV.CN','NE.DAB.TOTL.ZS','NE.DAB.TOTL.KD','NE.DAB.TOTL.KN','NE.DAB.TOTL.CN','NE.DAB.TOTL.CD','NE.DAB.DEFL.ZS','NY.GNS.ICTR.ZS','NY.GNS.ICTR.GN.ZS','NY.GNS.ICTR.CN','NY.GNS.ICTR.CD','NY.GDP.FCST.KD','NY.GDP.FCST.KN','NY.GDP.FCST.CN','NY.GDP.FCST.CD','NE.CON.PRVT.KD.ZG','NE.CON.PRVT.KD','NE.CON.PRVT.KN','NE.CON.PRVT.CN','NE.CON.PRVT.CD','NE.CON.PRVT.PC.KD','NE.CON.PRVT.PC.KD.ZG','NE.CON.PRVT.PP.KD','NE.CON.PRVT.PP.CD','NE.CON.PETC.ZS','NE.CON.PETC.KD.ZG','NE.CON.PETC.KD','NE.CON.PETC.KN','NE.CON.PETC.CN','NE.CON.PETC.CD','BX.GSR.CCIS.ZS','BX.GSR.CCIS.CD','NE.IMP.GNFS.ZS','BM.GSR.GNFS.CD','NE.IMP.GNFS.KD.ZG','NE.IMP.GNFS.KD','NE.IMP.GNFS.KN','NE.IMP.GNFS.CN','NE.IMP.GNFS.CD','BM.GSR.TOTL.CD','NV.IND.TOTL.ZS','NV.IND.TOTL.KD.ZG','NV.IND.TOTL.KD','NV.IND.TOTL.KN','NV.IND.TOTL.CN','NV.IND.TOTL.CD','NY.GDP.DEFL.KD.ZG','FP.CPI.TOTL.ZG','BX.GSR.INSF.ZS','BM.GSR.INSF.ZS','DT.INT.DECT.GN.ZS','DT.INT.DECT.EX.ZS','NV.MNF.MTRN.ZS.UN','NV.IND.MANF.ZS','NV.IND.MANF.KD.ZG','NV.IND.MANF.KD','NV.IND.MANF.KN','NV.IND.MANF.CN','NV.IND.MANF.CD','DT.ODA.ODAT.GN.ZS','DT.ODA.ODAT.PC.ZS','BN.TRF.KOGT.CD','NY.TRF.NCTR.KN','NY.TRF.NCTR.CN','NY.TRF.NCTR.CD','BN.KAC.EOMS.CD','BN.FIN.TOTL.CD','NY.GSR.NFCY.KN','NY.GSR.NFCY.CN','NY.GSR.NFCY.CD','DT.ODA.ODAT.CD','BN.GSR.FCTY.CD','BN.TRF.CURR.CD','NY.TAX.NIND.KN','NY.TAX.NIND.CN','NY.TAX.NIND.CD','BN.GSR.MRCH.CD','BN.GSR.GNFS.CD','NV.MNF.OTHR.ZS.UN','PA.NUS.PPP','PA.NUS.PRVT.PP','BM.TRF.PWKR.CD.DT','BX.TRF.PWKR.DT.GD.ZS','BX.TRF.PWKR.CD.DT','BX.TRF.PWKR.CD','BN.KLT.PTXL.CD','BX.PEF.TOTL.CD.WD','DT.DOD.PVLX.GN.ZS','DT.DOD.PVLX.EX.ZS','DT.DOD.PVLX.CD','PA.NUS.PPPC.RF','BX.KLT.DREM.CD.DT','BM.GSR.FCTY.CD','BX.GSR.FCTY.CD','BN.RES.INCL.CD','GC.REV.XGRT.GD.ZS','BX.TRF.CURR.CD','BM.TRF.PRVT.CD','BX.GSR.NFSV.CD','BM.GSR.NFSV.CD','NV.SRV.TETC.ZS','NV.SRV.TETC.KD.ZG','NV.SRV.TETC.KD','NV.SRV.TETC.KN','NV.SRV.TETC.CN','NV.SRV.TETC.CD','DT.DOD.DSTC.XP.ZS','DT.DOD.DSTC.IR.ZS','BX.GRT.TECH.CD.WD','NY.TTF.GNFS.KN','NV.MNF.TXTL.ZS.UN','DT.TDS.DECT.GN.ZS','DT.TDS.DECT.EX.ZS','FI.RES.TOTL.CD','FI.RES.XGLD.CD','NE.TRD.GNFS.ZS','BG.GSR.NFSV.GD.ZS','BX.GSR.TRAN.ZS','BM.GSR.TRAN.ZS','BX.GSR.TRVL.ZS','BM.GSR.TRVL.ZS']\n",
    "educacion = ['SE.PRM.TENR.FE','SE.PRM.TENR.MA','SE.PRM.TENR','SE.SEC.UNER.LO.ZS','SE.SEC.UNER.LO.FE.ZS','SE.SEC.UNER.LO.MA.ZS','SE.ADT.LITR.ZS','SE.XPD.MPRM.ZS','SE.XPD.MSEC.ZS','SE.XPD.MTER.ZS','SE.XPD.MTOT.ZS','SE.PRM.UNER.ZS','SE.PRM.UNER.FE.ZS','SE.PRM.UNER.MA.ZS','SE.PRM.UNER.FE','SE.PRM.UNER.MA','SE.XPD.CPRM.ZS','SE.XPD.CSEC.ZS','SE.XPD.CTER.ZS','SE.XPD.CTOT.ZS','SE.COM.DURS','SE.TER.CUAT.DO.FE.ZS','SE.TER.CUAT.DO.MA.ZS','SE.TER.CUAT.DO.ZS','SE.TER.CUAT.BA.FE.ZS','SE.TER.CUAT.BA.MA.ZS','SE.TER.CUAT.BA.ZS','SE.TER.CUAT.MS.FE.ZS','SE.TER.CUAT.MS.MA.ZS','SE.TER.CUAT.MS.ZS','SE.SEC.CUAT.LO.FE.ZS','SE.SEC.CUAT.LO.MA.ZS','SE.SEC.CUAT.LO.ZS','SE.SEC.CUAT.PO.FE.ZS','SE.SEC.CUAT.PO.MA.ZS','SE.SEC.CUAT.PO.ZS','SE.PRM.CUAT.FE.ZS','SE.PRM.CUAT.MA.ZS','SE.PRM.CUAT.ZS','SE.TER.CUAT.ST.FE.ZS','SE.TER.CUAT.ST.MA.ZS','SE.TER.CUAT.ST.ZS','SE.SEC.CUAT.UP.FE.ZS','SE.SEC.CUAT.UP.MA.ZS','SE.SEC.CUAT.UP.ZS','SE.SEC.PROG.ZS','SM.EMI.TERT.ZS','SE.PRM.ENRL','SE.SEC.ENRL','SE.SEC.ENRL.GC','SE.SEC.ENRL.VO','SE.XPD.TOTL.GB.ZS','SE.XPD.PRIM.ZS','SE.XPD.SECO.ZS','SE.XPD.TERT.ZS','SE.XPD.TOTL.GD.ZS','SE.XPD.PRIM.PC.ZS','SE.XPD.SECO.PC.ZS','SE.XPD.TERT.PC.ZS','SE.PRM.ENRR','SE.PRE.ENRR','SE.PRE.ENRR.FE','SE.PRE.ENRR.MA','SE.SEC.ENRR','SE.TER.ENRR','SE.PRM.GINT.ZS','SE.PRM.GINT.FE.ZS','SE.PRM.GINT.MA.ZS','SL.TLF.PRIM.ZS','SL.TLF.PRIM.FE.ZS','SL.TLF.PRIM.MA.ZS','SL.TLF.SECO.ZS','SL.TLF.SECO.FE.ZS','SL.TLF.SECO.MA.ZS','SL.TLF.TERT.ZS','SL.TLF.TERT.FE.ZS','SL.TLF.TERT.MA.ZS','SL.TLF.TOTL.FE.ZS','SL.TLF.TOTL.IN','SE.ADT.LITR.FE.ZS','SE.ADT.LITR.MA.ZS','SE.ADT.1524.LT.FM.ZS','SE.ADT.1524.LT.FE.ZS','SE.ADT.1524.LT.MA.ZS','SE.SEC.CMPT.LO.FE.ZS','SE.SEC.CMPT.LO.MA.ZS','SE.SEC.CMPT.LO.ZS','SE.PRM.NENR','SE.SEC.NENR','SE.PRM.NINT.FE.ZS','SE.PRM.NINT.MA.ZS','SE.PRM.NINT.ZS','SE.SEC.AGES','SE.PRM.AGES','SE.PRM.UNER','SE.PRM.OENR.ZS','SE.PRM.OENR.FE.ZS','SE.PRM.OENR.MA.ZS','SE.PRM.PRIV.ZS','SE.SEC.PRIV.ZS','SE.PRM.TCAQ.FE.ZS','SE.SEC.TCAQ.FE.ZS','SE.PRM.TCAQ.MA.ZS','SE.SEC.TCAQ.MA.ZS','SE.PRM.REPT.ZS','SE.PRM.REPT.FE.ZS','SE.PRM.REPT.MA.ZS','SE.SEC.ENRL.GC.FE.ZS','SE.SEC.ENRL.VO.FE.ZS','SE.PRM.TCAQ.ZS','SE.SEC.TCAQ.ZS','SE.PRM.PRS5.FE.ZS','SE.PRM.PRS5.MA.ZS','SP.POP.0014.TO.ZS','SP.POP.1564.TO.ZS','SE.PRE.DURS','SE.PRM.CMPT.FE.ZS','SE.PRM.CMPT.MA.ZS','SE.PRM.CMPT.ZS','SE.PRM.ENRL.FE.ZS','SE.PRM.TCHR.FE.ZS','SE.SEC.PROG.FE.ZS','SE.SEC.PROG.MA.ZS','SE.PRE.ENRL.TC.ZS','SE.PRM.ENRL.TC.ZS','SE.SEC.ENRL.TC.ZS','SE.SEC.ENRL.LO.TC.ZS','SE.TER.ENRL.TC.ZS','SE.SEC.ENRL.UP.TC.ZS','SE.ENR.PRIM.FM.ZS','SE.ENR.PRSC.FM.ZS','SE.PRM.ENRR.FE','SE.PRM.NENR.FE','SE.PRM.ENRR.MA','SE.PRM.NENR.MA','SE.ENR.SECO.FM.ZS','SE.SEC.ENRR.FE','SE.SEC.NENR.FE','SE.SEC.ENRR.MA','SE.SEC.NENR.MA','SE.ENR.TERT.FM.ZS','SE.TER.ENRR.FE','SE.TER.ENRR.MA','SE.SEC.ENRL.FE.ZS','SE.SEC.TCHR.FE.ZS','SE.PRM.PRS5.ZS','SE.PRM.PRSL.ZS','SE.PRM.PRSL.FE.ZS','SE.PRM.PRSL.MA.ZS','SE.PRM.TCHR','SE.SEC.TCHR','SE.SEC.TCHR.FE','SE.TER.TCHR.FE.ZS','SE.PRM.DURS','SE.SEC.DURS','SE.SEC.TCAQ.LO.ZS','SE.SEC.TCAQ.LO.FE.ZS','SE.SEC.TCAQ.LO.MA.ZS','SE.PRE.TCAQ.ZS','SE.PRE.TCAQ.FE.ZS','SE.PRE.TCAQ.MA.ZS','SE.SEC.TCAQ.UP.ZS','SE.SEC.TCAQ.UP.FE.ZS','SE.SEC.TCAQ.UP.MA.ZS','SL.UEM.TOTL.FE.ZS','SL.UEM.TOTL.MA.ZS','SL.UEM.TOTL.ZS','SE.ADT.1524.LT.ZS']\n",
    "salud = ['SH.STA.ARIC.ZS','SP.ADO.TFRT','SH.HIV.INCD.TL','SH.HIV.INCD','SP.POP.DPND','SP.POP.DPND.OL','SP.POP.DPND.YG','SH.HIV.ARTC.ZS','SH.HIV.PMTC.ZS','SP.DYN.CBRT.IN','SH.STA.BRTC.ZS','SH.DTH.COMM.ZS','SH.DTH.INJR.ZS','SH.DTH.NCOM.ZS','SH.HIV.0014','SH.HIV.INCD.14','SH.MLR.TRET.ZS','SH.MED.CMHW.P3','SP.REG.BRTH.ZS','SP.REG.BRTH.RU.ZS','SP.REG.BRTH.UR.ZS','SP.REG.DTHS.ZS','SP.DTH.INFR.ZS','SP.DTH.REPT.ZS','SH.CON.1524.FE.ZS','SH.CON.1524.MA.ZS','SN.ITK.SALT.ZS','SP.DYN.CONU.ZS','SP.DYN.CONM.ZS','SP.DYN.CDRT.IN','SH.FPL.SATM.ZS','SN.ITK.DFCT','SH.STA.DIAB.ZS','SH.STA.ORCF.ZS','SH.STA.ORTH','SM.EMI.TERT.ZS','SH.STA.BFED.ZS','SH.XPD.EXTR.ZS','SH.STA.FGMS.ZS','SP.HOU.FEMA.ZS','SP.DYN.TFRT.IN','SH.XPD.PCAP','SH.XPD.PCAP.PP.KD','SH.XPD.PRIV.ZS','SH.XPD.PUBL.ZS','SH.XPD.PUBL.GX.ZS','SH.XPD.PUBL','SH.XPD.TOTL.ZS','SH.MED.BEDS.ZS','SH.IMM.IDPT','SH.IMM.MEAS','SH.STA.ACSN','SH.STA.ACSN.RU','SH.STA.ACSN.UR','SH.H2O.SAFE.ZS','SH.H2O.SAFE.RU.ZS','SH.H2O.SAFE.UR.ZS','SH.HIV.INCD.ZS','SH.MLR.INCD.P3','SH.TBS.INCD','SM.POP.TOTL.ZS','SM.POP.TOTL','SP.DYN.LE00.FE.IN','SP.DYN.LE00.MA.IN','SP.DYN.LE00.IN','SH.MMR.RISK.ZS','SH.MMR.RISK','SH.STA.BRTW.ZS','SH.STA.MMRT','SH.STA.MMRT.NE','SH.STA.TRAF.P5','SH.DYN.NCOM.ZS','SP.DYN.AMRT.FE','SP.DYN.AMRT.MA','SP.DYN.IMRT.IN','SP.DYN.IMRT.FE.IN','SP.DYN.IMRT.MA.IN','SH.DYN.NMRT','SH.DYN.MORT','SH.DYN.MORT.FE','SH.DYN.MORT.MA','SM.POP.NETM','SH.VAC.TTNS.ZS','SH.DTH.IMRT','SH.MMR.DTHS','SH.DTH.NMRT','SH.SGR.PROC.P5','SH.DTH.MORT','SH.MED.NUMW.P3','SH.XPD.OOPC.ZS','SH.XPD.OOPC.TO.ZS','SH.STA.ODFC.ZS','SH.STA.ODFC.RU.ZS','SH.STA.ODFC.UR.ZS','SH.MED.PHYS.ZS','SP.POP.0014.TO.ZS','SP.POP.1564.TO.ZS','SP.POP.65UP.TO.ZS','SP.POP.GROW','SP.POP.TOTL.FE.ZS','SP.POP.TOTL','SH.STA.ANVC.ZS','SH.HIV.1524.FE.ZS','SH.HIV.1524.MA.ZS','SH.DYN.AIDS.ZS','SH.ANM.CHLD.ZS','SH.ANM.NPRG.ZS','SH.PRG.ANEM','SH.ANM.ALLW.ZS','SH.STA.OWGH.ZS','SH.STA.OWGH.FE.ZS','SH.STA.OWGH.MA.ZS','SH.SVR.WAST.ZS','SH.SVR.WAST.FE.ZS','SH.SVR.WAST.MA.ZS','SH.STA.STNT.ZS','SH.STA.STNT.FE.ZS','SH.STA.STNT.MA.ZS','SN.ITK.DEFC.ZS','SH.STA.MALN.ZS','SH.STA.MALN.FE.ZS','SH.STA.MALN.MA.ZS','SH.STA.WAST.ZS','SH.STA.WAST.FE.ZS','SH.STA.WAST.MA.ZS','SG.VAW.1549.ZS','SM.POP.REFG','SM.POP.REFG.OR','SH.SGR.CRSK.ZS','SH.SGR.IRSK.ZS','SH.PRV.SMOK.FE','SH.PRV.SMOK.MA','SH.MED.SAOP.P5','SH.STA.SUIC.P5','SP.DYN.TO65.FE.ZS','SP.DYN.TO65.MA.ZS','SP.MTR.1519.ZS','SH.ALC.PCAP.LI','SH.TBS.DTEC.ZS','SH.TBS.CURE.ZS','SP.UWT.TFRT','SH.MLR.NETS.ZS','SN.ITK.VITA.ZS','SP.DYN.WFRT','SG.VAW.REAS.ZS','SG.VAW.ARGU.ZS','SG.VAW.BURN.ZS','SG.VAW.GOES.ZS','SG.VAW.NEGL.ZS','SG.VAW.REFU.ZS','SP.M18.2024.FE.ZS','SH.DYN.AIDS.FE.ZS']\n",
    "deuda = ['DT.GPA.DPPG','DT.GPA.OFFT','DT.GPA.PRVT','DT.GRE.DPPG','DT.GRE.OFFT','DT.GRE.PRVT','DT.INR.DPPG','DT.INR.OFFT','DT.INR.PRVT','DT.MAT.DPPG','DT.MAT.OFFT','DT.MAT.PRVT','DT.NFL.PCBO.CD','DT.COM.MIBR.CD','DT.COM.MIDA.CD','DT.COM.OFFT.CD','DT.COM.PRVT.CD','DT.COM.DPPG.CD','DT.DOD.ALLC.ZS','DT.CUR.DMAK.ZS','DT.CUR.EURO.ZS','DT.CUR.FFRC.ZS','DT.CUR.JYEN.ZS','DT.CUR.MULC.ZS','DT.CUR.UKPS.ZS','DT.CUR.SDRW.ZS','DT.CUR.SWFR.ZS','DT.CUR.USDL.ZS','DT.CUR.OTHC.ZS','BN.CAB.XOKA.CD','DT.DSB.DPPG.CD','DT.DOD.MDRI.CD','DT.DFR.DPPG.CD','DT.TDS.DPPF.XP.ZS','DT.TDS.DLXF.CD','DT.TDS.DPNG.CD','DT.TDS.DPPG.CD','DT.TDS.DECT.CD','DT.DSF.DPPG.CD','DT.DXR.DPPG.CD','DT.DIS.DLXF.CD','DT.DIS.DLTF.CD','DT.DIS.DPNG.CD','DT.DIS.DPPG.CD','DT.NFL.NEBR.CD','BX.GSR.TOTL.CD','DT.DOD.DECT.GN.ZS','DT.DOD.DECT.EX.ZS','DT.DOD.ALLC.CD','DT.DOD.DLXF.CD','DT.DOD.PRVS.CD','DT.DOD.PUBS.CD','DT.DOD.DPNG.CD','DT.DOD.DPPG.CD','DT.DOD.DSTC.CD','DT.DOD.DECT.CD','DT.DOD.VTOT.CD','BX.KLT.DINV.CD.WD','NY.GNP.MKTP.CD','BX.GRT.EXTA.CD.WD','DT.DOD.MWBG.CD','DT.DIS.IDAG.CD','DT.NFL.NIFC.CD','DT.INT.DIMF.CD','DT.DIS.DIMF.CD','DT.AMT.DIMF.CD','DT.TDS.DIMF.CD','BM.GSR.TOTL.CD','DT.IXA.DPPG.CD','DT.IXA.OFFT.CD','DT.IXA.PRVT.CD','DT.IXF.DPPG.CD','DT.INT.DECT.GN.ZS','DT.INT.DECT.EX.ZS','DT.INT.DLXF.CD','DT.INT.DPNG.CD','DT.INT.DPPG.CD','DT.INT.DSTC.CD','DT.INT.DECT.CD','DT.IXR.DPPG.CD','DT.IXR.OFFT.CD','DT.IXR.PRVT.CD','DT.DOD.MLAT.ZS','DT.TDS.MLAT.PG.ZS','DT.TDS.MLAT.CD','DT.ODA.ODAT.GN.ZS','DT.ODA.ODAT.PC.ZS','DT.IXA.DPPG.CD.CG','DT.NFL.MIBR.CD','DT.NFL.MIDA.CD','DT.NFL.IMFC.CD','DT.NFL.IMFN.CD','DT.NFL.RDBC.CD','DT.NFL.RDBN.CD','DT.NFL.BLAT.CD','DT.NFL.MLAT.CD','DT.NFL.MOTH.CD','DT.NFL.DLXF.CD','DT.NFL.DPNG.CD','DT.NFL.DPPG.CD','DT.NFL.DSTC.CD','DT.NFL.DECT.CD','DT.ODA.ODAT.CD','DT.NTR.DLXF.CD','DT.NTR.DPNG.CD','DT.NTR.DPPG.CD','DT.NTR.DECT.CD','DT.AMT.PNGB.CD','DT.DIS.PNGB.CD','DT.DOD.PNGB.CD','DT.INT.PNGB.CD','DT.NFL.PNGB.CD','DT.NTR.PNGB.CD','DT.TDS.PNGB.CD','DT.AMT.PNGC.CD','DT.DIS.PNGC.CD','DT.DOD.PNGC.CD','DT.INT.PNGC.CD','DT.NFL.PNGC.CD','DT.NTR.PNGC.CD','DT.TDS.PNGC.CD','DT.AMT.MIBR.CD','DT.DIS.MIBR.CD','DT.DOD.MIBR.CD','DT.INT.MIBR.CD','DT.NTR.MIBR.CD','DT.TDS.MIBR.CD','DT.AMT.MIDA.CD','DT.DIS.MIDA.CD','DT.DOD.MIDA.CD','DT.INT.MIDA.CD','DT.NTR.MIDA.CD','DT.TDS.MIDA.CD','DT.AMT.BLAT.CD','DT.DIS.BLAT.CD','DT.DOD.BLAT.CD','DT.INT.BLAT.CD','DT.NTR.BLAT.CD','DT.TDS.BLAT.CD','DT.AMT.BLTC.CD','DT.DIS.BLTC.CD','DT.DOD.BLTC.CD','DT.INT.BLTC.CD','DT.NFL.BLTC.CD','DT.NTR.BLTC.CD','DT.TDS.BLTC.CD','DT.AMT.PBND.CD','DT.DIS.PBND.CD','DT.DOD.PBND.CD','DT.INT.PBND.CD','DT.NFL.PBND.CD','DT.NTR.PBND.CD','DT.TDS.PBND.CD','DT.AMT.PCBK.CD','DT.DIS.PCBK.CD','DT.DOD.PCBK.CD','DT.INT.PCBK.CD','DT.NFL.PCBK.CD','DT.NTR.PCBK.CD','DT.TDS.PCBK.CD','DT.AMT.MLAT.CD','DT.DIS.MLAT.CD','DT.DOD.MLAT.CD','DT.INT.MLAT.CD','DT.NTR.MLAT.CD','DT.AMT.MLTC.CD','DT.DIS.MLTC.CD','DT.DOD.MLTC.CD','DT.INT.MLTC.CD','DT.NFL.MLTC.CD','DT.NTR.MLTC.CD','DT.TDS.MLTC.CD','DT.AMT.OFFT.CD','DT.DIS.OFFT.CD','DT.DOD.OFFT.CD','DT.INT.OFFT.CD','DT.NFL.OFFT.CD','DT.NTR.OFFT.CD','DT.TDS.OFFT.CD','DT.AMT.PROP.CD','DT.DIS.PROP.CD','DT.DOD.PROP.CD','DT.INT.PROP.CD','DT.NFL.PROP.CD','DT.NTR.PROP.CD','DT.TDS.PROP.CD','DT.AMT.PRVT.CD','DT.DIS.PRVT.CD','DT.DOD.PRVT.CD','DT.INT.PRVT.CD','DT.NFL.PRVT.CD','DT.NTR.PRVT.CD','DT.TDS.PRVT.CD','BX.TRF.PWKR.CD.DT','BX.PEF.TOTL.CD.WD','DT.NFL.BOND.CD','DT.DOD.PVLX.GN.ZS','DT.DOD.PVLX.EX.ZS','DT.DOD.PVLX.CD','BX.KLT.DREM.CD.DT','DT.AXA.DPPG.CD','DT.AXA.OFFT.CD','DT.AXA.PRVT.CD','DT.AXF.DPPG.CD','DT.AMT.DLXF.CD','DT.AMT.DLTF.CD','DT.AMT.DPNG.CD','DT.AMT.DPPG.CD','DT.AXR.DPPG.CD','DT.AXR.OFFT.CD','DT.AXR.PRVT.CD','DT.TDS.DPPG.GN.ZS','DT.TDS.DPPG.XP.ZS','DT.DOD.RSDL.CD','DT.DOD.DSTC.XP.ZS','DT.DOD.DSTC.ZS','DT.DOD.DSTC.IR.ZS','BX.GRT.TECH.CD.WD','DT.TXR.DPPG.CD','DT.DOD.DECT.CD.CG','DT.TDS.DECT.GN.ZS','DT.TDS.DECT.EX.ZS','FI.RES.TOTL.DT.ZS','FI.RES.TOTL.CD','FI.RES.TOTL.MO','DT.UND.OFFT.CD','DT.UND.PRVT.CD','DT.UND.DPPG.CD','DT.DOD.DIMF.CD']\n",
    "\n",
    "conjunto_nombre = ['Agricultura','Economia','Educacion','Salud','Deuda']\n",
    "conjunto = [agricultura,economia,educacion,salud,deuda]"
   ]
  },
  {
   "cell_type": "code",
   "execution_count": 65,
   "metadata": {
    "collapsed": true
   },
   "outputs": [],
   "source": [
    "def tabla_base(paises,years,indicadores,datos):\n",
    "    tab = pd.DataFrame.pivot_table(datos, values='Value', index=['CountryName', 'Year'], columns=['IndicatorCode']).loc[(paises,years),indicadores].sortlevel([\"CountryName\",\"Year\"], ascending=[True,False])\n",
    "    return tab"
   ]
  },
  {
   "cell_type": "code",
   "execution_count": 66,
   "metadata": {
    "collapsed": false
   },
   "outputs": [],
   "source": [
    "def r2(y_true, y_predict):\n",
    "    from sklearn.metrics import r2_score\n",
    "    return r2_score(y_true, y_predict)"
   ]
  },
  {
   "cell_type": "code",
   "execution_count": 67,
   "metadata": {
    "collapsed": false
   },
   "outputs": [],
   "source": [
    "def imputador(tab):\n",
    "    from sklearn.preprocessing import Imputer\n",
    "    impute=Imputer(missing_values=\"NaN\",strategy='mean',axis=0)\n",
    "    impute.fit(tab)\n",
    "    tab_imputada=impute.transform(tab)\n",
    "    return pd.DataFrame(tab_imputada)"
   ]
  },
  {
   "cell_type": "code",
   "execution_count": 68,
   "metadata": {
    "collapsed": true
   },
   "outputs": [],
   "source": [
    "def zeros(tab):\n",
    "    df = pd.DataFrame(tab)\n",
    "    #Eliminamos las columnas de NaN descartando Indicadores que no tienen regristros para ningún pais y año deseados\n",
    "    df = df.dropna(how='all',axis=1)\n",
    "    #Asignamos a los NaN el valor de 0    \n",
    "    df = df.fillna(0)\n",
    "    return df"
   ]
  },
  {
   "cell_type": "code",
   "execution_count": 69,
   "metadata": {
    "collapsed": true
   },
   "outputs": [],
   "source": [
    "def Splitter(tab,y_indicator):\n",
    "    from sklearn.model_selection import train_test_split\n",
    "    from sklearn.preprocessing import StandardScaler\n",
    "    sc = StandardScaler()\n",
    "    \n",
    "    # Asignamos X e y, eliminando la columna y en X\n",
    "    X = correlacion(tab,y_indicator)\n",
    "    y = tab[:,y_indicator]\n",
    "    # Separamos Train y Test respectivamente para X e y\n",
    "    X_train, X_test, y_train, y_test = train_test_split(X, y, test_size=0.2)\n",
    "           \n",
    "    return X_train, X_test, y_train, y_test"
   ]
  },
  {
   "cell_type": "code",
   "execution_count": 70,
   "metadata": {
    "collapsed": true
   },
   "outputs": [],
   "source": [
    "def correlacion(tab,y_indicator):\n",
    "    # Buscamos los indicadores que se correlacionen más (coeficiente > 0.7)\n",
    "    eliminar = []\n",
    "    tabla_correlacion = np.array(pd.DataFrame(tab).corr())\n",
    "    for i in range(np.shape(tab)[1]):\n",
    "        if abs(tabla_correlacion[i,y_indicator]) > 0.7:\n",
    "            eliminar.append(i)\n",
    "\n",
    "    # Eliminamos los indicadores que se correlacionan más (Coeficiente > 0.7)\n",
    "    temporal = tab[:,:]\n",
    "\n",
    "    for i in range(len(eliminar)):\n",
    "        temporal = np.delete(temporal[:,:], eliminar[i]-i, 1)\n",
    "\n",
    "    return temporal"
   ]
  },
  {
   "cell_type": "code",
   "execution_count": 71,
   "metadata": {
    "collapsed": true
   },
   "outputs": [],
   "source": [
    "def GridSearchCV_Universal(estimador, searchCV, X_train, y_train):\n",
    "    from sklearn.model_selection import RandomizedSearchCV\n",
    "    from sklearn.model_selection import GridSearchCV\n",
    "    from sklearn.model_selection import ShuffleSplit\n",
    "    from sklearn.tree import DecisionTreeRegressor\n",
    "    from sklearn.ensemble import RandomForestRegressor\n",
    "    from sklearn.svm import SVR\n",
    "        \n",
    "    if(estimador=='DTR'):\n",
    "        estimator  = DecisionTreeRegressor()\n",
    "        param_grid = {  'max_depth': [1, 2, 3, 4, 5, 6, 7, 8, 9, 10], \n",
    "                        'splitter': ['best', 'random']\n",
    "                     }\n",
    "        \n",
    "    if(estimador=='RFR'):\n",
    "        estimator  = RandomForestRegressor()       \n",
    "        param_grid = { \n",
    "                        \"n_estimators\"      : [10,20,30,40],\n",
    "                        \"max_features\"      : [\"auto\", \"sqrt\", \"log2\"],\n",
    "                        \"min_samples_split\" : [2,4,8],\n",
    "                        \"bootstrap\": [True, False],\n",
    "                     }\n",
    "    if(estimador=='SVR'):\n",
    "        estimator  = SVR()\n",
    "        param_grid ={\n",
    "                        'gamma'  : ['auto', 1e-3, 1e-4],\n",
    "                        'C'      : [1, 10, 100, 1000],            \n",
    "                    }\n",
    "    if(searchCV=='random'):\n",
    "        grid = RandomizedSearchCV(estimator, param_grid, n_jobs=-1, cv=ShuffleSplit(test_size=0.2))\n",
    "    if(searchCV=='grid'):\n",
    "        grid = GridSearchCV(estimator, param_grid, n_jobs=-1, cv=ShuffleSplit(test_size=0.2))\n",
    "    \n",
    "    grid.fit(X_train, y_train)\n",
    "    \n",
    "    return grid.best_params_"
   ]
  },
  {
   "cell_type": "code",
   "execution_count": 72,
   "metadata": {
    "collapsed": true
   },
   "outputs": [],
   "source": [
    "def estimator_Universal(estimador, searchCV ,X_train, X_test, y_train, y_test, i):\n",
    "    from sklearn.ensemble import RandomForestRegressor\n",
    "    from sklearn.tree import DecisionTreeRegressor\n",
    "    from sklearn.svm import SVR\n",
    "    \n",
    "    start_time = time.time()\n",
    "    best_params = GridSearchCV_Universal(estimador, searchCV , X_train, y_train)       \n",
    "    \n",
    "    if(estimador=='DTR'):\n",
    "        estimator = DecisionTreeRegressor().set_params(**best_params)\n",
    "    if(estimador=='RFR'):\n",
    "        estimator = RandomForestRegressor(n_jobs=-1).set_params(**best_params)\n",
    "    if(estimador=='SVR'):\n",
    "        estimator = SVR().set_params(**best_params)\n",
    "        \n",
    "    estimator.fit(X_train,y_train)\n",
    "    y_predict = estimator.predict(X_test)\n",
    "    \n",
    "    print i , estimador, \"- %s s\" % (time.time() - start_time), best_params\n",
    "    \n",
    "    return r2(y_test,y_predict)"
   ]
  },
  {
   "cell_type": "code",
   "execution_count": 73,
   "metadata": {
    "collapsed": true
   },
   "outputs": [],
   "source": [
    "def estimator_Universal(estimador, searchCV ,X_train, X_test, y_train, y_test, i):\n",
    "    from sklearn.ensemble import RandomForestRegressor\n",
    "    from sklearn.tree import DecisionTreeRegressor\n",
    "    from sklearn.svm import SVR\n",
    "    \n",
    "    start_time = time.time()\n",
    "    best_params = GridSearchCV_Universal(estimador, searchCV , X_train, y_train)       \n",
    "    \n",
    "    if(estimador=='DTR'):\n",
    "        estimator = DecisionTreeRegressor().set_params(**best_params)\n",
    "    if(estimador=='RFR'):\n",
    "        estimator = RandomForestRegressor(n_jobs=-1).set_params(**best_params)\n",
    "    if(estimador=='SVR'):\n",
    "        estimator = SVR().set_params(**best_params)\n",
    "        \n",
    "    estimator.fit(X_train,y_train)\n",
    "    y_predict = estimator.predict(X_test)\n",
    "    \n",
    "    print i , estimador, \"- %s s\" % (time.time() - start_time), best_params\n",
    "    \n",
    "    return r2(y_test,y_predict)"
   ]
  },
  {
   "cell_type": "code",
   "execution_count": 74,
   "metadata": {
    "collapsed": true
   },
   "outputs": [],
   "source": [
    "def normalizar(tab):\n",
    "    from sklearn.preprocessing import StandardScaler\n",
    "    sc = StandardScaler()\n",
    "    return sc.fit_transform(tab)"
   ]
  },
  {
   "cell_type": "code",
   "execution_count": null,
   "metadata": {
    "collapsed": false
   },
   "outputs": [],
   "source": [
    "def iter_Splitter_Optimus(tab,searchCV):    \n",
    "    R2_global = list()\n",
    "    start_time = time.time()\n",
    "    for i in range(0,np.shape(zeros(tab))[1]):\n",
    "\n",
    "        X_train, X_test, y_train, y_test = Splitter(normalizar(zeros(tab)), i)\n",
    "\n",
    "        result = estimator_Universal('DTR', searchCV ,X_train, X_test, y_train, y_test, i)\n",
    "        if(result < 0.9): \n",
    "            temp = estimator_Universal('SVR', searchCV , X_train, X_test, y_train, y_test, i)\n",
    "            if(temp < 0.9): \n",
    "                temp2 = estimator_Universal('RFR', searchCV , X_train, X_test, y_train, y_test, i)\n",
    "                if (temp2 > temp): \n",
    "                    result = temp2\n",
    "            if(temp > result): \n",
    "                result = temp\n",
    "                \n",
    "        R2_global.append(result)\n",
    "\n",
    "    print(\"--- %s seconds ---\" % (time.time() - start_time))\n",
    "    return pd.DataFrame(R2_global, columns=[\"Resultado\"])"
   ]
  },
  {
   "cell_type": "code",
   "execution_count": null,
   "metadata": {
    "collapsed": false
   },
   "outputs": [
    {
     "name": "stdout",
     "output_type": "stream",
     "text": [
      "0 DTR - 4.13199996948 s {'splitter': 'best', 'max_depth': 4}\n",
      "1 DTR - 3.55499982834 s {'splitter': 'random', 'max_depth': 8}\n",
      "2 DTR - 3.55200004578 s {'splitter': 'best', 'max_depth': 6}\n",
      "3 DTR - 3.87700009346 s {'splitter': 'best', 'max_depth': 8}\n",
      "4 DTR - 3.9279999733 s {'splitter': 'random', 'max_depth': 6}\n",
      "4 SVR - 4.35599994659 s {'C': 100, 'gamma': 'auto'}\n",
      "4 RFR - 13.0789999962 s {'n_estimators': 30, 'min_samples_split': 2, 'bootstrap': False, 'max_features': 'log2'}\n",
      "5 DTR - 3.22000002861 s {'splitter': 'best', 'max_depth': 1}\n",
      "5 SVR - 3.63199996948 s {'C': 1000, 'gamma': 0.001}\n"
     ]
    }
   ],
   "source": [
    "Optimus_RandomSearch = iter_Splitter_Optimus(tabla,'random')\n",
    "Optimus_GridSearch = iter_Splitter_Optimus(tabla,'grid')\n",
    "pd.DataFrame(np.column_stack([Optimus_RandomSearch,Optimus_GridSearch]), columns=['RandomSearch','GridSearch'])"
   ]
  },
  {
   "cell_type": "code",
   "execution_count": null,
   "metadata": {
    "collapsed": false
   },
   "outputs": [],
   "source": [
    "Optimus_RandomSearch = iter_Splitter_Optimus(tabla_base(paises,years,agricultura,datos),'random')\n",
    "Optimus_GridSearch   = iter_Splitter_Optimus(tabla_base(paises,years,agricultura,datos),'grid')\n",
    "pd.DataFrame(np.column_stack([Optimus_RandomSearch,Optimus_GridSearch]), columns=['RandomSearch','GridSearch'])"
   ]
  }
 ],
 "metadata": {
  "anaconda-cloud": {},
  "kernelspec": {
   "display_name": "Python 2",
   "language": "python",
   "name": "python2"
  },
  "language_info": {
   "codemirror_mode": {
    "name": "ipython",
    "version": 2
   },
   "file_extension": ".py",
   "mimetype": "text/x-python",
   "name": "python",
   "nbconvert_exporter": "python",
   "pygments_lexer": "ipython2",
   "version": "2.7.13"
  }
 },
 "nbformat": 4,
 "nbformat_minor": 1
}
