{
 "cells": [
  {
   "cell_type": "markdown",
   "metadata": {},
   "source": [
    "## World Development Indicators - Analytics"
   ]
  },
  {
   "cell_type": "code",
   "execution_count": 23,
   "metadata": {
    "collapsed": false
   },
   "outputs": [
    {
     "data": {
      "text/html": [
       "<div>\n",
       "<table border=\"1\" class=\"dataframe\">\n",
       "  <thead>\n",
       "    <tr style=\"text-align: right;\">\n",
       "      <th></th>\n",
       "      <th>CountryName</th>\n",
       "      <th>CountryCode</th>\n",
       "      <th>IndicatorName</th>\n",
       "      <th>IndicatorCode</th>\n",
       "      <th>Year</th>\n",
       "      <th>Value</th>\n",
       "    </tr>\n",
       "  </thead>\n",
       "  <tbody>\n",
       "    <tr>\n",
       "      <th>0</th>\n",
       "      <td>Antigua and Barbuda</td>\n",
       "      <td>ATG</td>\n",
       "      <td>Adolescent fertility rate (births per 1,000 wo...</td>\n",
       "      <td>SP.ADO.TFRT</td>\n",
       "      <td>1960</td>\n",
       "      <td>126.144000</td>\n",
       "    </tr>\n",
       "    <tr>\n",
       "      <th>1</th>\n",
       "      <td>Antigua and Barbuda</td>\n",
       "      <td>ATG</td>\n",
       "      <td>Age dependency ratio (% of working-age populat...</td>\n",
       "      <td>SP.POP.DPND</td>\n",
       "      <td>1960</td>\n",
       "      <td>88.237117</td>\n",
       "    </tr>\n",
       "    <tr>\n",
       "      <th>2</th>\n",
       "      <td>Antigua and Barbuda</td>\n",
       "      <td>ATG</td>\n",
       "      <td>Age dependency ratio, old (% of working-age po...</td>\n",
       "      <td>SP.POP.DPND.OL</td>\n",
       "      <td>1960</td>\n",
       "      <td>7.779958</td>\n",
       "    </tr>\n",
       "    <tr>\n",
       "      <th>3</th>\n",
       "      <td>Antigua and Barbuda</td>\n",
       "      <td>ATG</td>\n",
       "      <td>Age dependency ratio, young (% of working-age ...</td>\n",
       "      <td>SP.POP.DPND.YG</td>\n",
       "      <td>1960</td>\n",
       "      <td>80.457159</td>\n",
       "    </tr>\n",
       "    <tr>\n",
       "      <th>4</th>\n",
       "      <td>Antigua and Barbuda</td>\n",
       "      <td>ATG</td>\n",
       "      <td>Birth rate, crude (per 1,000 people)</td>\n",
       "      <td>SP.DYN.CBRT.IN</td>\n",
       "      <td>1960</td>\n",
       "      <td>32.920000</td>\n",
       "    </tr>\n",
       "  </tbody>\n",
       "</table>\n",
       "</div>"
      ],
      "text/plain": [
       "           CountryName CountryCode  \\\n",
       "0  Antigua and Barbuda         ATG   \n",
       "1  Antigua and Barbuda         ATG   \n",
       "2  Antigua and Barbuda         ATG   \n",
       "3  Antigua and Barbuda         ATG   \n",
       "4  Antigua and Barbuda         ATG   \n",
       "\n",
       "                                       IndicatorName   IndicatorCode  Year  \\\n",
       "0  Adolescent fertility rate (births per 1,000 wo...     SP.ADO.TFRT  1960   \n",
       "1  Age dependency ratio (% of working-age populat...     SP.POP.DPND  1960   \n",
       "2  Age dependency ratio, old (% of working-age po...  SP.POP.DPND.OL  1960   \n",
       "3  Age dependency ratio, young (% of working-age ...  SP.POP.DPND.YG  1960   \n",
       "4               Birth rate, crude (per 1,000 people)  SP.DYN.CBRT.IN  1960   \n",
       "\n",
       "        Value  \n",
       "0  126.144000  \n",
       "1   88.237117  \n",
       "2    7.779958  \n",
       "3   80.457159  \n",
       "4   32.920000  "
      ]
     },
     "execution_count": 23,
     "metadata": {},
     "output_type": "execute_result"
    }
   ],
   "source": [
    "import numpy as np\n",
    "import pandas as pd\n",
    "import matplotlib.pyplot as plt\n",
    "import time\n",
    "\n",
    "datos = pd.read_csv(\"suramerica.csv\").drop('Unnamed: 0', 1)\n",
    "datos.head()"
   ]
  },
  {
   "cell_type": "code",
   "execution_count": 24,
   "metadata": {
    "collapsed": false
   },
   "outputs": [],
   "source": [
    "estimadores = ['DTR','RFR']\n",
    "estimadores_nombres = ['Decission Tree Regressor','Random Forest Regressor']\n",
    "\n",
    "paises = ['Antigua and Barbuda','Argentina','Aruba','Bahamas, The','Barbados','Belize','Bolivia','Brazil','Cayman Islands','Chile','Colombia','Costa Rica','Cuba','Curacao','Dominica','Dominican Republic','Ecuador','El Salvador','Grenada','Guatemala','Guyana','Haiti','Honduras','Jamaica','Mexico','Nicaragua','Panama','Paraguay','Peru','Puerto Rico','Sint Maarten (Dutch part)','St. Kitts and Nevis','St. Lucia','St. Martin (French part)','St. Vincent and the Grenadines','Suriname','Trinidad and Tobago','Turks and Caicos Islands','Uruguay','Venezuela, RB','Virgin Islands (U.S.)']\n",
    "\n",
    "year_init = 2012\n",
    "year_range = 5\n",
    "look_back = 3\n",
    "years = range(year_init-year_range+1,year_init+1)[::-1]\n",
    "\n",
    "agricultura = ['EG.ELC.ACCS.RU.ZS','EG.NSF.ACCS.RU.ZS','AG.LND.IRIG.AG.ZS','AG.LND.AGRI.ZS','AG.LND.AGRI.K2','AG.AGR.TRAC.NO','AG.LND.TRAC.ZS','EN.ATM.METH.AG.ZS','EN.ATM.METH.AG.KT.CE','EN.ATM.NOXE.AG.ZS','EN.ATM.NOXE.AG.KT.CE','TX.VAL.AGRI.ZS.UN','TM.VAL.AGRI.ZS.UN','EA.PRD.AGRI.KD','NV.AGR.TOTL.ZS','NV.AGR.TOTL.CD','ER.H2O.FWAG.ZS','AG.LND.ARBL.ZS','AG.LND.ARBL.HA.PC','AG.LND.ARBL.HA','AG.LND.PRCP.MM','AG.PRD.CREL.MT','AG.YLD.CREL.KG','AG.PRD.CROP.XD','SL.AGR.EMPL.ZS','SL.AGR.EMPL.FE.ZS','SL.AGR.EMPL.MA.ZS','AG.CON.FERT.PT.ZS','AG.CON.FERT.ZS','AG.PRD.FOOD.XD','AG.LND.FRST.ZS','AG.LND.FRST.K2','SH.STA.ACSN.RU','SH.H2O.SAFE.RU.ZS','AG.LND.TOTL.K2','AG.LND.CREL.HA','AG.PRD.LVSK.XD','AG.LND.CROP.ZS','AG.LND.TOTL.RU.K2','AG.LND.EL5M.RU.ZS','AG.LND.EL5M.RU.K2','SP.RUR.TOTL','SP.RUR.TOTL.ZS','SP.RUR.TOTL.ZG','EN.POP.EL5M.RU.ZS','SI.POV.RUGP','SI.POV.RUHC','AG.SRF.TOTL.K2']\n",
    "economia = ['PA.NUS.PPP.05','PA.NUS.PRVT.PP.05','NY.ADJ.NNTY.KD.ZG','NY.ADJ.NNTY.KD','NY.ADJ.NNTY.CD','NY.ADJ.NNTY.PC.KD.ZG','NY.ADJ.NNTY.PC.KD','NY.ADJ.NNTY.PC.CD','NY.ADJ.SVNX.GN.ZS','NY.ADJ.SVNX.CD','NY.ADJ.SVNG.GN.ZS','NY.ADJ.SVNG.CD','NY.ADJ.DCO2.GN.ZS','NY.ADJ.DCO2.CD','NY.ADJ.DKAP.GN.ZS','NY.ADJ.DKAP.CD','NY.ADJ.AEDU.GN.ZS','NY.ADJ.AEDU.CD','NY.ADJ.DNGY.GN.ZS','NY.ADJ.DNGY.CD','NY.ADJ.ICTR.GN.ZS','NY.ADJ.DMIN.GN.ZS','NY.ADJ.DMIN.CD','NY.ADJ.DRES.GN.ZS','NY.ADJ.DFOR.GN.ZS','NY.ADJ.DFOR.CD','NY.ADJ.NNAT.GN.ZS','NY.ADJ.NNAT.CD','NY.ADJ.DPEM.GN.ZS','NY.ADJ.DPEM.CD','NV.AGR.TOTL.ZS','NV.AGR.TOTL.KD.ZG','NV.AGR.TOTL.KD','NV.AGR.TOTL.KN','NV.AGR.TOTL.CN','NV.AGR.TOTL.CD','GC.DOD.TOTL.GD.ZS','NE.GDI.STKB.KN','NE.GDI.STKB.CN','NE.GDI.STKB.CD','BM.GSR.ROYL.CD','BX.GSR.ROYL.CD','NV.MNF.CHEM.ZS.UN','BX.GSR.CMCP.ZS','BM.GSR.CMCP.ZS','BN.CAB.XOKA.GD.ZS','BN.CAB.XOKA.CD','PA.NUS.ATLS','NY.GDP.DISC.KN','NY.GDP.DISC.CN','GC.XPN.TOTL.GD.ZS','NY.EXP.CAPM.KN','NE.EXP.GNFS.ZS','BX.GSR.GNFS.CD','NE.EXP.GNFS.KD.ZG','NE.EXP.GNFS.KD','NE.EXP.GNFS.KN','NE.EXP.GNFS.CN','NE.EXP.GNFS.CD','BX.GSR.TOTL.CD','NE.RSB.GNFS.ZS','NE.RSB.GNFS.KN','NE.RSB.GNFS.CN','NE.RSB.GNFS.CD','DT.DOD.DECT.GN.ZS','DT.DOD.DECT.EX.ZS','DT.DOD.DECT.CD','NE.CON.TOTL.KD','NE.CON.TOTL.KN','NE.CON.TOTL.CN','NE.CON.TOTL.CD','NE.CON.TETC.ZS','NE.CON.TETC.KD.ZG','NE.CON.TETC.KD','NE.CON.TETC.KN','NE.CON.TETC.CN','NE.CON.TETC.CD','NV.MNF.FBTO.ZS.UN','BN.KLT.DINV.CD','BX.KLT.DINV.WD.GD.ZS','BX.KLT.DINV.CD.WD','BM.KLT.DINV.WD.GD.ZS','BM.KLT.DINV.CD.WD','NY.GDP.MKTP.KN','NY.GDP.MKTP.CN','NY.GDP.MKTP.CD','NY.GDP.MKTP.KD','NY.GDP.DEFL.ZS','NY.GDP.MKTP.KD.ZG','NY.GDP.PCAP.KD','NY.GDP.PCAP.KN','NY.GDP.PCAP.CN','NY.GDP.PCAP.CD','NY.GDP.PCAP.KD.ZG','NY.GDP.PCAP.PP.KD','NY.GDP.PCAP.PP.CD','NY.GDP.MKTP.PP.KD','NY.GDP.MKTP.PP.CD','NY.GNP.MKTP.KD','NY.GNP.MKTP.KN','NY.GNP.MKTP.CN','NY.GNP.MKTP.CD','NY.GNP.MKTP.KD.ZG','NY.GNP.PCAP.KD','NY.GNP.PCAP.KN','NY.GNP.PCAP.CN','NY.GNP.PCAP.KD.ZG','NY.GNP.PCAP.CD','NY.GNP.PCAP.PP.KD','NY.GNP.PCAP.PP.CD','NY.GNP.ATLS.CD','NY.GNP.MKTP.PP.KD','NY.GNP.MKTP.PP.CD','NE.CON.GOVT.ZS','NE.CON.GOVT.KD.ZG','NE.CON.GOVT.KD','NE.CON.GOVT.KN','NE.CON.GOVT.CN','NE.CON.GOVT.CD','BX.GSR.MRCH.CD','BM.GSR.MRCH.CD','BX.GRT.EXTA.CD.WD','NE.GDI.TOTL.ZS','NE.GDI.TOTL.KD.ZG','NE.GDI.TOTL.KD','NE.GDI.TOTL.KN','NE.GDI.TOTL.CN','NE.GDI.TOTL.CD','NY.GDY.TOTL.KN','NY.GDS.TOTL.ZS','NY.GDS.TOTL.CN','NY.GDS.TOTL.CD','NE.GDI.FTOT.ZS','NE.GDI.FTOT.KD.ZG','NE.GDI.FTOT.KD','NE.GDI.FTOT.KN','NE.GDI.FTOT.CN','NE.GDI.FTOT.CD','NE.GDI.FPRV.ZS','NE.GDI.FPRV.CN','NE.DAB.TOTL.ZS','NE.DAB.TOTL.KD','NE.DAB.TOTL.KN','NE.DAB.TOTL.CN','NE.DAB.TOTL.CD','NE.DAB.DEFL.ZS','NY.GNS.ICTR.ZS','NY.GNS.ICTR.GN.ZS','NY.GNS.ICTR.CN','NY.GNS.ICTR.CD','NY.GDP.FCST.KD','NY.GDP.FCST.KN','NY.GDP.FCST.CN','NY.GDP.FCST.CD','NE.CON.PRVT.KD.ZG','NE.CON.PRVT.KD','NE.CON.PRVT.KN','NE.CON.PRVT.CN','NE.CON.PRVT.CD','NE.CON.PRVT.PC.KD','NE.CON.PRVT.PC.KD.ZG','NE.CON.PRVT.PP.KD','NE.CON.PRVT.PP.CD','NE.CON.PETC.ZS','NE.CON.PETC.KD.ZG','NE.CON.PETC.KD','NE.CON.PETC.KN','NE.CON.PETC.CN','NE.CON.PETC.CD','BX.GSR.CCIS.ZS','BX.GSR.CCIS.CD','NE.IMP.GNFS.ZS','BM.GSR.GNFS.CD','NE.IMP.GNFS.KD.ZG','NE.IMP.GNFS.KD','NE.IMP.GNFS.KN','NE.IMP.GNFS.CN','NE.IMP.GNFS.CD','BM.GSR.TOTL.CD','NV.IND.TOTL.ZS','NV.IND.TOTL.KD.ZG','NV.IND.TOTL.KD','NV.IND.TOTL.KN','NV.IND.TOTL.CN','NV.IND.TOTL.CD','NY.GDP.DEFL.KD.ZG','FP.CPI.TOTL.ZG','BX.GSR.INSF.ZS','BM.GSR.INSF.ZS','DT.INT.DECT.GN.ZS','DT.INT.DECT.EX.ZS','NV.MNF.MTRN.ZS.UN','NV.IND.MANF.ZS','NV.IND.MANF.KD.ZG','NV.IND.MANF.KD','NV.IND.MANF.KN','NV.IND.MANF.CN','NV.IND.MANF.CD','DT.ODA.ODAT.GN.ZS','DT.ODA.ODAT.PC.ZS','BN.TRF.KOGT.CD','NY.TRF.NCTR.KN','NY.TRF.NCTR.CN','NY.TRF.NCTR.CD','BN.KAC.EOMS.CD','BN.FIN.TOTL.CD','NY.GSR.NFCY.KN','NY.GSR.NFCY.CN','NY.GSR.NFCY.CD','DT.ODA.ODAT.CD','BN.GSR.FCTY.CD','BN.TRF.CURR.CD','NY.TAX.NIND.KN','NY.TAX.NIND.CN','NY.TAX.NIND.CD','BN.GSR.MRCH.CD','BN.GSR.GNFS.CD','NV.MNF.OTHR.ZS.UN','PA.NUS.PPP','PA.NUS.PRVT.PP','BM.TRF.PWKR.CD.DT','BX.TRF.PWKR.DT.GD.ZS','BX.TRF.PWKR.CD.DT','BX.TRF.PWKR.CD','BN.KLT.PTXL.CD','BX.PEF.TOTL.CD.WD','DT.DOD.PVLX.GN.ZS','DT.DOD.PVLX.EX.ZS','DT.DOD.PVLX.CD','PA.NUS.PPPC.RF','BX.KLT.DREM.CD.DT','BM.GSR.FCTY.CD','BX.GSR.FCTY.CD','BN.RES.INCL.CD','GC.REV.XGRT.GD.ZS','BX.TRF.CURR.CD','BM.TRF.PRVT.CD','BX.GSR.NFSV.CD','BM.GSR.NFSV.CD','NV.SRV.TETC.ZS','NV.SRV.TETC.KD.ZG','NV.SRV.TETC.KD','NV.SRV.TETC.KN','NV.SRV.TETC.CN','NV.SRV.TETC.CD','DT.DOD.DSTC.XP.ZS','DT.DOD.DSTC.IR.ZS','BX.GRT.TECH.CD.WD','NY.TTF.GNFS.KN','NV.MNF.TXTL.ZS.UN','DT.TDS.DECT.GN.ZS','DT.TDS.DECT.EX.ZS','FI.RES.TOTL.CD','FI.RES.XGLD.CD','NE.TRD.GNFS.ZS','BG.GSR.NFSV.GD.ZS','BX.GSR.TRAN.ZS','BM.GSR.TRAN.ZS','BX.GSR.TRVL.ZS','BM.GSR.TRVL.ZS']\n",
    "educacion = ['SE.PRM.TENR.FE','SE.PRM.TENR.MA','SE.PRM.TENR','SE.SEC.UNER.LO.ZS','SE.SEC.UNER.LO.FE.ZS','SE.SEC.UNER.LO.MA.ZS','SE.ADT.LITR.ZS','SE.XPD.MPRM.ZS','SE.XPD.MSEC.ZS','SE.XPD.MTER.ZS','SE.XPD.MTOT.ZS','SE.PRM.UNER.ZS','SE.PRM.UNER.FE.ZS','SE.PRM.UNER.MA.ZS','SE.PRM.UNER.FE','SE.PRM.UNER.MA','SE.XPD.CPRM.ZS','SE.XPD.CSEC.ZS','SE.XPD.CTER.ZS','SE.XPD.CTOT.ZS','SE.COM.DURS','SE.TER.CUAT.DO.FE.ZS','SE.TER.CUAT.DO.MA.ZS','SE.TER.CUAT.DO.ZS','SE.TER.CUAT.BA.FE.ZS','SE.TER.CUAT.BA.MA.ZS','SE.TER.CUAT.BA.ZS','SE.TER.CUAT.MS.FE.ZS','SE.TER.CUAT.MS.MA.ZS','SE.TER.CUAT.MS.ZS','SE.SEC.CUAT.LO.FE.ZS','SE.SEC.CUAT.LO.MA.ZS','SE.SEC.CUAT.LO.ZS','SE.SEC.CUAT.PO.FE.ZS','SE.SEC.CUAT.PO.MA.ZS','SE.SEC.CUAT.PO.ZS','SE.PRM.CUAT.FE.ZS','SE.PRM.CUAT.MA.ZS','SE.PRM.CUAT.ZS','SE.TER.CUAT.ST.FE.ZS','SE.TER.CUAT.ST.MA.ZS','SE.TER.CUAT.ST.ZS','SE.SEC.CUAT.UP.FE.ZS','SE.SEC.CUAT.UP.MA.ZS','SE.SEC.CUAT.UP.ZS','SE.SEC.PROG.ZS','SM.EMI.TERT.ZS','SE.PRM.ENRL','SE.SEC.ENRL','SE.SEC.ENRL.GC','SE.SEC.ENRL.VO','SE.XPD.TOTL.GB.ZS','SE.XPD.PRIM.ZS','SE.XPD.SECO.ZS','SE.XPD.TERT.ZS','SE.XPD.TOTL.GD.ZS','SE.XPD.PRIM.PC.ZS','SE.XPD.SECO.PC.ZS','SE.XPD.TERT.PC.ZS','SE.PRM.ENRR','SE.PRE.ENRR','SE.PRE.ENRR.FE','SE.PRE.ENRR.MA','SE.SEC.ENRR','SE.TER.ENRR','SE.PRM.GINT.ZS','SE.PRM.GINT.FE.ZS','SE.PRM.GINT.MA.ZS','SL.TLF.PRIM.ZS','SL.TLF.PRIM.FE.ZS','SL.TLF.PRIM.MA.ZS','SL.TLF.SECO.ZS','SL.TLF.SECO.FE.ZS','SL.TLF.SECO.MA.ZS','SL.TLF.TERT.ZS','SL.TLF.TERT.FE.ZS','SL.TLF.TERT.MA.ZS','SL.TLF.TOTL.FE.ZS','SL.TLF.TOTL.IN','SE.ADT.LITR.FE.ZS','SE.ADT.LITR.MA.ZS','SE.ADT.1524.LT.FM.ZS','SE.ADT.1524.LT.FE.ZS','SE.ADT.1524.LT.MA.ZS','SE.SEC.CMPT.LO.FE.ZS','SE.SEC.CMPT.LO.MA.ZS','SE.SEC.CMPT.LO.ZS','SE.PRM.NENR','SE.SEC.NENR','SE.PRM.NINT.FE.ZS','SE.PRM.NINT.MA.ZS','SE.PRM.NINT.ZS','SE.SEC.AGES','SE.PRM.AGES','SE.PRM.UNER','SE.PRM.OENR.ZS','SE.PRM.OENR.FE.ZS','SE.PRM.OENR.MA.ZS','SE.PRM.PRIV.ZS','SE.SEC.PRIV.ZS','SE.PRM.TCAQ.FE.ZS','SE.SEC.TCAQ.FE.ZS','SE.PRM.TCAQ.MA.ZS','SE.SEC.TCAQ.MA.ZS','SE.PRM.REPT.ZS','SE.PRM.REPT.FE.ZS','SE.PRM.REPT.MA.ZS','SE.SEC.ENRL.GC.FE.ZS','SE.SEC.ENRL.VO.FE.ZS','SE.PRM.TCAQ.ZS','SE.SEC.TCAQ.ZS','SE.PRM.PRS5.FE.ZS','SE.PRM.PRS5.MA.ZS','SP.POP.0014.TO.ZS','SP.POP.1564.TO.ZS','SE.PRE.DURS','SE.PRM.CMPT.FE.ZS','SE.PRM.CMPT.MA.ZS','SE.PRM.CMPT.ZS','SE.PRM.ENRL.FE.ZS','SE.PRM.TCHR.FE.ZS','SE.SEC.PROG.FE.ZS','SE.SEC.PROG.MA.ZS','SE.PRE.ENRL.TC.ZS','SE.PRM.ENRL.TC.ZS','SE.SEC.ENRL.TC.ZS','SE.SEC.ENRL.LO.TC.ZS','SE.TER.ENRL.TC.ZS','SE.SEC.ENRL.UP.TC.ZS','SE.ENR.PRIM.FM.ZS','SE.ENR.PRSC.FM.ZS','SE.PRM.ENRR.FE','SE.PRM.NENR.FE','SE.PRM.ENRR.MA','SE.PRM.NENR.MA','SE.ENR.SECO.FM.ZS','SE.SEC.ENRR.FE','SE.SEC.NENR.FE','SE.SEC.ENRR.MA','SE.SEC.NENR.MA','SE.ENR.TERT.FM.ZS','SE.TER.ENRR.FE','SE.TER.ENRR.MA','SE.SEC.ENRL.FE.ZS','SE.SEC.TCHR.FE.ZS','SE.PRM.PRS5.ZS','SE.PRM.PRSL.ZS','SE.PRM.PRSL.FE.ZS','SE.PRM.PRSL.MA.ZS','SE.PRM.TCHR','SE.SEC.TCHR','SE.SEC.TCHR.FE','SE.TER.TCHR.FE.ZS','SE.PRM.DURS','SE.SEC.DURS','SE.SEC.TCAQ.LO.ZS','SE.SEC.TCAQ.LO.FE.ZS','SE.SEC.TCAQ.LO.MA.ZS','SE.PRE.TCAQ.ZS','SE.PRE.TCAQ.FE.ZS','SE.PRE.TCAQ.MA.ZS','SE.SEC.TCAQ.UP.ZS','SE.SEC.TCAQ.UP.FE.ZS','SE.SEC.TCAQ.UP.MA.ZS','SL.UEM.TOTL.FE.ZS','SL.UEM.TOTL.MA.ZS','SL.UEM.TOTL.ZS','SE.ADT.1524.LT.ZS']\n",
    "salud = ['SH.STA.ARIC.ZS','SP.ADO.TFRT','SH.HIV.INCD.TL','SH.HIV.INCD','SP.POP.DPND','SP.POP.DPND.OL','SP.POP.DPND.YG','SH.HIV.ARTC.ZS','SH.HIV.PMTC.ZS','SP.DYN.CBRT.IN','SH.STA.BRTC.ZS','SH.DTH.COMM.ZS','SH.DTH.INJR.ZS','SH.DTH.NCOM.ZS','SH.HIV.0014','SH.HIV.INCD.14','SH.MLR.TRET.ZS','SH.MED.CMHW.P3','SP.REG.BRTH.ZS','SP.REG.BRTH.RU.ZS','SP.REG.BRTH.UR.ZS','SP.REG.DTHS.ZS','SP.DTH.INFR.ZS','SP.DTH.REPT.ZS','SH.CON.1524.FE.ZS','SH.CON.1524.MA.ZS','SN.ITK.SALT.ZS','SP.DYN.CONU.ZS','SP.DYN.CONM.ZS','SP.DYN.CDRT.IN','SH.FPL.SATM.ZS','SN.ITK.DFCT','SH.STA.DIAB.ZS','SH.STA.ORCF.ZS','SH.STA.ORTH','SM.EMI.TERT.ZS','SH.STA.BFED.ZS','SH.XPD.EXTR.ZS','SH.STA.FGMS.ZS','SP.HOU.FEMA.ZS','SP.DYN.TFRT.IN','SH.XPD.PCAP','SH.XPD.PCAP.PP.KD','SH.XPD.PRIV.ZS','SH.XPD.PUBL.ZS','SH.XPD.PUBL.GX.ZS','SH.XPD.PUBL','SH.XPD.TOTL.ZS','SH.MED.BEDS.ZS','SH.IMM.IDPT','SH.IMM.MEAS','SH.STA.ACSN','SH.STA.ACSN.RU','SH.STA.ACSN.UR','SH.H2O.SAFE.ZS','SH.H2O.SAFE.RU.ZS','SH.H2O.SAFE.UR.ZS','SH.HIV.INCD.ZS','SH.MLR.INCD.P3','SH.TBS.INCD','SM.POP.TOTL.ZS','SM.POP.TOTL','SP.DYN.LE00.FE.IN','SP.DYN.LE00.MA.IN','SP.DYN.LE00.IN','SH.MMR.RISK.ZS','SH.MMR.RISK','SH.STA.BRTW.ZS','SH.STA.MMRT','SH.STA.MMRT.NE','SH.STA.TRAF.P5','SH.DYN.NCOM.ZS','SP.DYN.AMRT.FE','SP.DYN.AMRT.MA','SP.DYN.IMRT.IN','SP.DYN.IMRT.FE.IN','SP.DYN.IMRT.MA.IN','SH.DYN.NMRT','SH.DYN.MORT','SH.DYN.MORT.FE','SH.DYN.MORT.MA','SM.POP.NETM','SH.VAC.TTNS.ZS','SH.DTH.IMRT','SH.MMR.DTHS','SH.DTH.NMRT','SH.SGR.PROC.P5','SH.DTH.MORT','SH.MED.NUMW.P3','SH.XPD.OOPC.ZS','SH.XPD.OOPC.TO.ZS','SH.STA.ODFC.ZS','SH.STA.ODFC.RU.ZS','SH.STA.ODFC.UR.ZS','SH.MED.PHYS.ZS','SP.POP.0014.TO.ZS','SP.POP.1564.TO.ZS','SP.POP.65UP.TO.ZS','SP.POP.GROW','SP.POP.TOTL.FE.ZS','SP.POP.TOTL','SH.STA.ANVC.ZS','SH.HIV.1524.FE.ZS','SH.HIV.1524.MA.ZS','SH.DYN.AIDS.ZS','SH.ANM.CHLD.ZS','SH.ANM.NPRG.ZS','SH.PRG.ANEM','SH.ANM.ALLW.ZS','SH.STA.OWGH.ZS','SH.STA.OWGH.FE.ZS','SH.STA.OWGH.MA.ZS','SH.SVR.WAST.ZS','SH.SVR.WAST.FE.ZS','SH.SVR.WAST.MA.ZS','SH.STA.STNT.ZS','SH.STA.STNT.FE.ZS','SH.STA.STNT.MA.ZS','SN.ITK.DEFC.ZS','SH.STA.MALN.ZS','SH.STA.MALN.FE.ZS','SH.STA.MALN.MA.ZS','SH.STA.WAST.ZS','SH.STA.WAST.FE.ZS','SH.STA.WAST.MA.ZS','SG.VAW.1549.ZS','SM.POP.REFG','SM.POP.REFG.OR','SH.SGR.CRSK.ZS','SH.SGR.IRSK.ZS','SH.PRV.SMOK.FE','SH.PRV.SMOK.MA','SH.MED.SAOP.P5','SH.STA.SUIC.P5','SP.DYN.TO65.FE.ZS','SP.DYN.TO65.MA.ZS','SP.MTR.1519.ZS','SH.ALC.PCAP.LI','SH.TBS.DTEC.ZS','SH.TBS.CURE.ZS','SP.UWT.TFRT','SH.MLR.NETS.ZS','SN.ITK.VITA.ZS','SP.DYN.WFRT','SG.VAW.REAS.ZS','SG.VAW.ARGU.ZS','SG.VAW.BURN.ZS','SG.VAW.GOES.ZS','SG.VAW.NEGL.ZS','SG.VAW.REFU.ZS','SP.M18.2024.FE.ZS','SH.DYN.AIDS.FE.ZS']\n",
    "deuda = ['DT.GPA.DPPG','DT.GPA.OFFT','DT.GPA.PRVT','DT.GRE.DPPG','DT.GRE.OFFT','DT.GRE.PRVT','DT.INR.DPPG','DT.INR.OFFT','DT.INR.PRVT','DT.MAT.DPPG','DT.MAT.OFFT','DT.MAT.PRVT','DT.NFL.PCBO.CD','DT.COM.MIBR.CD','DT.COM.MIDA.CD','DT.COM.OFFT.CD','DT.COM.PRVT.CD','DT.COM.DPPG.CD','DT.DOD.ALLC.ZS','DT.CUR.DMAK.ZS','DT.CUR.EURO.ZS','DT.CUR.FFRC.ZS','DT.CUR.JYEN.ZS','DT.CUR.MULC.ZS','DT.CUR.UKPS.ZS','DT.CUR.SDRW.ZS','DT.CUR.SWFR.ZS','DT.CUR.USDL.ZS','DT.CUR.OTHC.ZS','BN.CAB.XOKA.CD','DT.DSB.DPPG.CD','DT.DOD.MDRI.CD','DT.DFR.DPPG.CD','DT.TDS.DPPF.XP.ZS','DT.TDS.DLXF.CD','DT.TDS.DPNG.CD','DT.TDS.DPPG.CD','DT.TDS.DECT.CD','DT.DSF.DPPG.CD','DT.DXR.DPPG.CD','DT.DIS.DLXF.CD','DT.DIS.DLTF.CD','DT.DIS.DPNG.CD','DT.DIS.DPPG.CD','DT.NFL.NEBR.CD','BX.GSR.TOTL.CD','DT.DOD.DECT.GN.ZS','DT.DOD.DECT.EX.ZS','DT.DOD.ALLC.CD','DT.DOD.DLXF.CD','DT.DOD.PRVS.CD','DT.DOD.PUBS.CD','DT.DOD.DPNG.CD','DT.DOD.DPPG.CD','DT.DOD.DSTC.CD','DT.DOD.DECT.CD','DT.DOD.VTOT.CD','BX.KLT.DINV.CD.WD','NY.GNP.MKTP.CD','BX.GRT.EXTA.CD.WD','DT.DOD.MWBG.CD','DT.DIS.IDAG.CD','DT.NFL.NIFC.CD','DT.INT.DIMF.CD','DT.DIS.DIMF.CD','DT.AMT.DIMF.CD','DT.TDS.DIMF.CD','BM.GSR.TOTL.CD','DT.IXA.DPPG.CD','DT.IXA.OFFT.CD','DT.IXA.PRVT.CD','DT.IXF.DPPG.CD','DT.INT.DECT.GN.ZS','DT.INT.DECT.EX.ZS','DT.INT.DLXF.CD','DT.INT.DPNG.CD','DT.INT.DPPG.CD','DT.INT.DSTC.CD','DT.INT.DECT.CD','DT.IXR.DPPG.CD','DT.IXR.OFFT.CD','DT.IXR.PRVT.CD','DT.DOD.MLAT.ZS','DT.TDS.MLAT.PG.ZS','DT.TDS.MLAT.CD','DT.ODA.ODAT.GN.ZS','DT.ODA.ODAT.PC.ZS','DT.IXA.DPPG.CD.CG','DT.NFL.MIBR.CD','DT.NFL.MIDA.CD','DT.NFL.IMFC.CD','DT.NFL.IMFN.CD','DT.NFL.RDBC.CD','DT.NFL.RDBN.CD','DT.NFL.BLAT.CD','DT.NFL.MLAT.CD','DT.NFL.MOTH.CD','DT.NFL.DLXF.CD','DT.NFL.DPNG.CD','DT.NFL.DPPG.CD','DT.NFL.DSTC.CD','DT.NFL.DECT.CD','DT.ODA.ODAT.CD','DT.NTR.DLXF.CD','DT.NTR.DPNG.CD','DT.NTR.DPPG.CD','DT.NTR.DECT.CD','DT.AMT.PNGB.CD','DT.DIS.PNGB.CD','DT.DOD.PNGB.CD','DT.INT.PNGB.CD','DT.NFL.PNGB.CD','DT.NTR.PNGB.CD','DT.TDS.PNGB.CD','DT.AMT.PNGC.CD','DT.DIS.PNGC.CD','DT.DOD.PNGC.CD','DT.INT.PNGC.CD','DT.NFL.PNGC.CD','DT.NTR.PNGC.CD','DT.TDS.PNGC.CD','DT.AMT.MIBR.CD','DT.DIS.MIBR.CD','DT.DOD.MIBR.CD','DT.INT.MIBR.CD','DT.NTR.MIBR.CD','DT.TDS.MIBR.CD','DT.AMT.MIDA.CD','DT.DIS.MIDA.CD','DT.DOD.MIDA.CD','DT.INT.MIDA.CD','DT.NTR.MIDA.CD','DT.TDS.MIDA.CD','DT.AMT.BLAT.CD','DT.DIS.BLAT.CD','DT.DOD.BLAT.CD','DT.INT.BLAT.CD','DT.NTR.BLAT.CD','DT.TDS.BLAT.CD','DT.AMT.BLTC.CD','DT.DIS.BLTC.CD','DT.DOD.BLTC.CD','DT.INT.BLTC.CD','DT.NFL.BLTC.CD','DT.NTR.BLTC.CD','DT.TDS.BLTC.CD','DT.AMT.PBND.CD','DT.DIS.PBND.CD','DT.DOD.PBND.CD','DT.INT.PBND.CD','DT.NFL.PBND.CD','DT.NTR.PBND.CD','DT.TDS.PBND.CD','DT.AMT.PCBK.CD','DT.DIS.PCBK.CD','DT.DOD.PCBK.CD','DT.INT.PCBK.CD','DT.NFL.PCBK.CD','DT.NTR.PCBK.CD','DT.TDS.PCBK.CD','DT.AMT.MLAT.CD','DT.DIS.MLAT.CD','DT.DOD.MLAT.CD','DT.INT.MLAT.CD','DT.NTR.MLAT.CD','DT.AMT.MLTC.CD','DT.DIS.MLTC.CD','DT.DOD.MLTC.CD','DT.INT.MLTC.CD','DT.NFL.MLTC.CD','DT.NTR.MLTC.CD','DT.TDS.MLTC.CD','DT.AMT.OFFT.CD','DT.DIS.OFFT.CD','DT.DOD.OFFT.CD','DT.INT.OFFT.CD','DT.NFL.OFFT.CD','DT.NTR.OFFT.CD','DT.TDS.OFFT.CD','DT.AMT.PROP.CD','DT.DIS.PROP.CD','DT.DOD.PROP.CD','DT.INT.PROP.CD','DT.NFL.PROP.CD','DT.NTR.PROP.CD','DT.TDS.PROP.CD','DT.AMT.PRVT.CD','DT.DIS.PRVT.CD','DT.DOD.PRVT.CD','DT.INT.PRVT.CD','DT.NFL.PRVT.CD','DT.NTR.PRVT.CD','DT.TDS.PRVT.CD','BX.TRF.PWKR.CD.DT','BX.PEF.TOTL.CD.WD','DT.NFL.BOND.CD','DT.DOD.PVLX.GN.ZS','DT.DOD.PVLX.EX.ZS','DT.DOD.PVLX.CD','BX.KLT.DREM.CD.DT','DT.AXA.DPPG.CD','DT.AXA.OFFT.CD','DT.AXA.PRVT.CD','DT.AXF.DPPG.CD','DT.AMT.DLXF.CD','DT.AMT.DLTF.CD','DT.AMT.DPNG.CD','DT.AMT.DPPG.CD','DT.AXR.DPPG.CD','DT.AXR.OFFT.CD','DT.AXR.PRVT.CD','DT.TDS.DPPG.GN.ZS','DT.TDS.DPPG.XP.ZS','DT.DOD.RSDL.CD','DT.DOD.DSTC.XP.ZS','DT.DOD.DSTC.ZS','DT.DOD.DSTC.IR.ZS','BX.GRT.TECH.CD.WD','DT.TXR.DPPG.CD','DT.DOD.DECT.CD.CG','DT.TDS.DECT.GN.ZS','DT.TDS.DECT.EX.ZS','FI.RES.TOTL.DT.ZS','FI.RES.TOTL.CD','FI.RES.TOTL.MO','DT.UND.OFFT.CD','DT.UND.PRVT.CD','DT.UND.DPPG.CD','DT.DOD.DIMF.CD']\n",
    "\n",
    "conjunto_nombre = ['Agricultura','Economia','Educacion','Salud','Deuda']\n",
    "conjunto = [agricultura,economia,educacion,salud,deuda]"
   ]
  },
  {
   "cell_type": "code",
   "execution_count": 25,
   "metadata": {
    "collapsed": false
   },
   "outputs": [],
   "source": [
    "def r2(y_true, y_predict):\n",
    "    from sklearn.metrics import r2_score\n",
    "    return r2_score(y_true, y_predict)"
   ]
  },
  {
   "cell_type": "code",
   "execution_count": 26,
   "metadata": {
    "collapsed": false
   },
   "outputs": [],
   "source": [
    "def imputador(tab):\n",
    "    from sklearn.preprocessing import Imputer\n",
    "    impute=Imputer(missing_values=\"NaN\",strategy='mean',axis=0)\n",
    "    impute.fit(tab)\n",
    "    tab_imputada=impute.transform(tab)\n",
    "    return pd.DataFrame(tab_imputada)"
   ]
  },
  {
   "cell_type": "code",
   "execution_count": 27,
   "metadata": {
    "collapsed": true
   },
   "outputs": [],
   "source": [
    "def zeros(tab):\n",
    "    df = pd.DataFrame(tab)\n",
    "    #Eliminamos las columnas de NaN descartando Indicadores que no tienen regristros para ningún pais y año deseados\n",
    "    df = df.dropna(how='all',axis=1)\n",
    "    #Asignamos a los NaN el valor de 0    \n",
    "    df = df.fillna(0)\n",
    "    return df"
   ]
  },
  {
   "cell_type": "code",
   "execution_count": 28,
   "metadata": {
    "collapsed": true
   },
   "outputs": [],
   "source": [
    "def correlacion(tab,y_indicator):\n",
    "    # Buscamos los indicadores que se correlacionen más (coeficiente > 0.7)\n",
    "    eliminar = []\n",
    "    tabla_correlacion = np.array(pd.DataFrame(tab).corr())\n",
    "    for i in range(np.shape(tab)[1]):\n",
    "        if abs(tabla_correlacion[i,y_indicator]) > 0.7:\n",
    "            eliminar.append(i)\n",
    "\n",
    "    # Eliminamos los indicadores que se correlacionan más (Coeficiente > 0.7)\n",
    "    temporal = tab[:,:]\n",
    "\n",
    "    for i in range(len(eliminar)):\n",
    "        temporal = np.delete(temporal[:,:], eliminar[i]-i, 1)\n",
    "\n",
    "    return temporal"
   ]
  },
  {
   "cell_type": "code",
   "execution_count": 29,
   "metadata": {
    "collapsed": true
   },
   "outputs": [],
   "source": [
    "def Splitter(tabla_1,tabla_2,y_indicator):\n",
    "    from sklearn.model_selection import train_test_split\n",
    "    #Fusionamos la tabla_1 y el indicador y de la tabla_2\n",
    "    tab_fusion = np.column_stack((tabla_1[:,:],tabla_2[:,y_indicator]))\n",
    "    \n",
    "    # Asignamos X e y, eliminando los indicadores que se correlacionen más (coeficiente > 0.7)  \n",
    "    X = correlacion(tab_fusion,-1)\n",
    "    y = tab_fusion[:,-1]\n",
    "    \n",
    "    # Separamos Train y Test respectivamente para X e y\n",
    "    X_train, X_test, y_train, y_test = train_test_split(X, y, test_size=0.2)\n",
    "    return X_train, X_test, y_train, y_test"
   ]
  },
  {
   "cell_type": "code",
   "execution_count": 30,
   "metadata": {
    "collapsed": true
   },
   "outputs": [],
   "source": [
    "def GridSearchCV_Universal(estimador,X_train, y_train):\n",
    "    from sklearn.model_selection import GridSearchCV\n",
    "    from sklearn.model_selection import ShuffleSplit\n",
    "    from sklearn.ensemble import RandomForestRegressor\n",
    "    from sklearn.tree import DecisionTreeRegressor\n",
    "        \n",
    "    if(estimador=='DTR'):\n",
    "        estimator = DecisionTreeRegressor()\n",
    "        param_grid = {'max_depth': [1, 2, 3, 4, 5, 6, 7, 8, 9, 10], \n",
    "                  'splitter': ['best', 'random']\n",
    "                 }\n",
    "        \n",
    "    if(estimador=='RFR'):\n",
    "        estimator = RandomForestRegressor()       \n",
    "        param_grid = { \n",
    "                \"n_estimators\"      : [10,20,30,40],\n",
    "                \"max_features\"      : [\"auto\", \"sqrt\", \"log2\"],\n",
    "                \"min_samples_split\" : [2,4,8],\n",
    "                \"bootstrap\": [True, False],\n",
    "                }\n",
    "    \n",
    "    grid = GridSearchCV(estimator, param_grid, n_jobs=-1, cv=ShuffleSplit(test_size=0.2))   \n",
    "    grid.fit(X_train, y_train)\n",
    "    \n",
    "    return grid.best_params_"
   ]
  },
  {
   "cell_type": "code",
   "execution_count": 31,
   "metadata": {
    "collapsed": true
   },
   "outputs": [],
   "source": [
    "def estimator_Universal(estimador, X_train, X_test, y_train, y_test, best_params):\n",
    "    from sklearn.ensemble import RandomForestRegressor\n",
    "    from sklearn.tree import DecisionTreeRegressor\n",
    "    \n",
    "    if(estimador=='DTR'):\n",
    "        estimator = DecisionTreeRegressor().set_params(**best_params)\n",
    "    if(estimador=='RFR'):\n",
    "        estimator = RandomForestRegressor(n_jobs=-1).set_params(**best_params)\n",
    "\n",
    "    estimator.fit(X_train,y_train)\n",
    "    y_predict = estimator.predict(X_test)\n",
    "    return r2(y_test,y_predict)"
   ]
  },
  {
   "cell_type": "code",
   "execution_count": 32,
   "metadata": {
    "collapsed": true
   },
   "outputs": [],
   "source": [
    "def iter_Splitter(estimador,tab1,tab2):    \n",
    "    R2_global = list()\n",
    "    log = list()\n",
    "    start_time = time.time()\n",
    "    for i in range(0,np.shape(imputador(tab2))[1]):\n",
    "        ## Zero\n",
    "        start_time_2 = time.time()\n",
    "        X_train, X_test, y_train, y_test = Splitter(np.array(zeros(tab1)),np.array(zeros(tab2)),i)\n",
    "        best_params = GridSearchCV_Universal(estimador, X_train, y_train)\n",
    "        print i,\"Zero\",best_params,\"- %s s\" % (time.time() - start_time_2)\n",
    "        R2_Original = estimator_Universal(estimador, X_train, X_test, y_train, y_test, best_params)\n",
    "\n",
    "        ## Imputer\n",
    "        start_time_3 = time.time()\n",
    "        X_train, X_test, y_train, y_test = Splitter(np.array(imputador(tab1)),np.array(imputador(tab2)),i)\n",
    "        best_params = GridSearchCV_Universal(estimador, X_train, y_train)\n",
    "        print i,\"Imputer\",best_params,\"- %s s\" % (time.time() - start_time_3)\n",
    "        R2_Imputado = estimator_Universal(estimador, X_train, X_test, y_train, y_test, best_params)\n",
    "\n",
    "        # Join results\n",
    "        R2_global.append([R2_Original,R2_Imputado])\n",
    "        \n",
    "    \n",
    "    return pd.DataFrame(R2_global,columns=['Original','Imputado'])"
   ]
  },
  {
   "cell_type": "code",
   "execution_count": 33,
   "metadata": {
    "collapsed": true
   },
   "outputs": [],
   "source": [
    "def iterador_global(estimador,datos,paises,years,indicadores_1,indicadores_2):\n",
    "    \n",
    "    t_1 = tabla_base(paises,years,indicadores_1,datos)\n",
    "    t_2 = tabla_base(paises,years,indicadores_2,datos)\n",
    "    \n",
    "    return iter_Splitter(estimador,t_1,t_2)"
   ]
  },
  {
   "cell_type": "code",
   "execution_count": 34,
   "metadata": {
    "collapsed": true
   },
   "outputs": [],
   "source": [
    "def tabla_base(paises,years,indicadores,datos):\n",
    "    tab = pd.DataFrame.pivot_table(datos, values='Value', index=['CountryName', 'Year'], columns=['IndicatorCode']).loc[(paises,years),indicadores].sortlevel([\"CountryName\",\"Year\"], ascending=[True,False])\n",
    "    return tab"
   ]
  },
  {
   "cell_type": "code",
   "execution_count": 35,
   "metadata": {
    "collapsed": true
   },
   "outputs": [],
   "source": [
    "def tabla_2_base(datos,indicadores,look_back):\n",
    "    temp_table = []\n",
    "    for i in range(look_back):      \n",
    "        temp_years = range(year_init-year_range-i+1,year_init-i+1)[::-1]\n",
    "        temp_table.append(pd.DataFrame.pivot_table(datos, values='Value', index=['CountryName', 'Year'], columns=['IndicatorCode']).loc[(paises,temp_years),indicadores].sortlevel([\"CountryName\",\"Year\"], ascending=[True,False]))\n",
    "    return pd.DataFrame(np.column_stack(temp_table))"
   ]
  },
  {
   "cell_type": "code",
   "execution_count": 36,
   "metadata": {
    "collapsed": true
   },
   "outputs": [],
   "source": [
    "def registros_2(sud_conjunto,look_back):\n",
    "    return np.sum(tabla_2_base(datos,sud_conjunto,look_back).count(axis=1))"
   ]
  },
  {
   "cell_type": "code",
   "execution_count": 37,
   "metadata": {
    "collapsed": true
   },
   "outputs": [],
   "source": [
    "def iterador_global_3(datos,paises,years,indicadores_1,indicadores_2,look_back,estimador):\n",
    "    \n",
    "    t_1 = tabla_2_base(datos,indicadores_1,look_back)\n",
    "    t_2 = tabla_base(paises,years,indicadores_2,datos)\n",
    "    \n",
    "    return iter_Splitter(estimador,t_1,t_2)"
   ]
  },
  {
   "cell_type": "code",
   "execution_count": 38,
   "metadata": {
    "collapsed": true
   },
   "outputs": [],
   "source": [
    "def porcentaje_nombres(df,conjunto):\n",
    "    df_temp = np.array(df)\n",
    "    x = 0.0\n",
    "    temp = []\n",
    "    for i in range(len(df_temp)):\n",
    "        if (df_temp[i][0] > 0.9 or df_temp[i][1] > 0.9):\n",
    "            x=x+1\n",
    "            temp.append(conjunto[i])\n",
    "    porcentaje = x/len(df)\n",
    "    nombres = pd.DataFrame(datos).loc[:,['IndicatorName','IndicatorCode']].set_index('IndicatorCode').loc[temp].drop_duplicates().dropna().reset_index().drop('IndicatorCode', 1)\n",
    "    return porcentaje,nombres,df"
   ]
  },
  {
   "cell_type": "markdown",
   "metadata": {},
   "source": [
    "## Combinamos el Primer Conjunto de Indicadores"
   ]
  },
  {
   "cell_type": "markdown",
   "metadata": {},
   "source": [
    "Calculamos el % de indicadores cuyo porcentaje de predicción es mayor a 90% (Original | Imputado)"
   ]
  },
  {
   "cell_type": "code",
   "execution_count": 17,
   "metadata": {
    "collapsed": false
   },
   "outputs": [
    {
     "name": "stdout",
     "output_type": "stream",
     "text": [
      "0 Zero {'splitter': 'best', 'max_depth': 1} - 1.07433390617 s\n",
      "0 Imputer {'splitter': 'best', 'max_depth': 3} - 0.91856098175 s\n",
      "1 Zero {'splitter': 'best', 'max_depth': 1} - 0.846904993057 s\n",
      "1 Imputer {'splitter': 'best', 'max_depth': 1} - 0.920477151871 s\n",
      "2 Zero {'splitter': 'best', 'max_depth': 3} - 0.927730083466 s\n",
      "2 Imputer {'splitter': 'random', 'max_depth': 8} - 0.834270000458 s\n",
      "3 Zero {'splitter': 'best', 'max_depth': 9} - 0.86106300354 s\n",
      "3 Imputer {'splitter': 'random', 'max_depth': 10} - 0.719221115112 s\n",
      "4 Zero {'splitter': 'best', 'max_depth': 7} - 0.730839014053 s\n",
      "4 Imputer {'splitter': 'best', 'max_depth': 7} - 0.717664003372 s\n",
      "5 Zero {'splitter': 'best', 'max_depth': 5} - 0.730438947678 s\n",
      "5 Imputer {'splitter': 'best', 'max_depth': 4} - 0.71622300148 s\n",
      "6 Zero {'splitter': 'random', 'max_depth': 9} - 0.740194797516 s\n",
      "6 Imputer {'splitter': 'best', 'max_depth': 2} - 0.713110923767 s\n",
      "7 Zero {'splitter': 'best', 'max_depth': 8} - 0.780619859695 s\n",
      "7 Imputer {'splitter': 'random', 'max_depth': 1} - 0.918040037155 s\n",
      "8 Zero {'splitter': 'best', 'max_depth': 5} - 0.809205055237 s\n",
      "8 Imputer {'splitter': 'random', 'max_depth': 6} - 0.764508008957 s\n",
      "9 Zero {'splitter': 'best', 'max_depth': 1} - 0.933900117874 s\n",
      "9 Imputer {'splitter': 'best', 'max_depth': 1} - 0.817519903183 s\n",
      "10 Zero {'splitter': 'random', 'max_depth': 3} - 0.750773906708 s\n",
      "10 Imputer {'splitter': 'random', 'max_depth': 7} - 0.877722978592 s\n",
      "11 Zero {'splitter': 'best', 'max_depth': 8} - 0.949600934982 s\n",
      "11 Imputer {'splitter': 'best', 'max_depth': 8} - 0.818432807922 s\n",
      "12 Zero {'splitter': 'best', 'max_depth': 9} - 0.708637952805 s\n",
      "12 Imputer {'splitter': 'best', 'max_depth': 5} - 1.01955008507 s\n",
      "13 Zero {'splitter': 'random', 'max_depth': 10} - 0.863070011139 s\n",
      "13 Imputer {'splitter': 'best', 'max_depth': 10} - 0.816723823547 s\n",
      "14 Zero {'splitter': 'best', 'max_depth': 10} - 0.849712133408 s\n",
      "14 Imputer {'splitter': 'random', 'max_depth': 9} - 0.716417074203 s\n",
      "15 Zero {'splitter': 'best', 'max_depth': 10} - 0.844424962997 s\n",
      "15 Imputer {'splitter': 'random', 'max_depth': 6} - 0.739206075668 s\n",
      "16 Zero {'splitter': 'random', 'max_depth': 6} - 0.724669933319 s\n",
      "16 Imputer {'splitter': 'random', 'max_depth': 10} - 0.89589214325 s\n",
      "17 Zero {'splitter': 'random', 'max_depth': 8} - 0.964946985245 s\n",
      "17 Imputer {'splitter': 'best', 'max_depth': 7} - 0.735970020294 s\n",
      "18 Zero {'splitter': 'random', 'max_depth': 6} - 0.843411922455 s\n",
      "18 Imputer {'splitter': 'best', 'max_depth': 8} - 0.822597026825 s\n",
      "19 Zero {'splitter': 'best', 'max_depth': 10} - 0.850795984268 s\n",
      "19 Imputer {'splitter': 'random', 'max_depth': 10} - 0.723367929459 s\n",
      "20 Zero {'splitter': 'best', 'max_depth': 2} - 0.709468126297 s\n",
      "20 Imputer {'splitter': 'best', 'max_depth': 1} - 0.818243026733 s\n",
      "21 Zero {'splitter': 'best', 'max_depth': 9} - 0.789755105972 s\n",
      "21 Imputer {'splitter': 'random', 'max_depth': 9} - 0.708141088486 s\n",
      "22 Zero {'splitter': 'best', 'max_depth': 9} - 0.953879117966 s\n",
      "22 Imputer {'splitter': 'random', 'max_depth': 10} - 0.792495012283 s\n",
      "23 Zero {'splitter': 'random', 'max_depth': 9} - 0.747953891754 s\n",
      "23 Imputer {'splitter': 'random', 'max_depth': 9} - 0.83633184433 s\n",
      "24 Zero {'splitter': 'best', 'max_depth': 4} - 0.815226078033 s\n",
      "24 Imputer {'splitter': 'best', 'max_depth': 8} - 0.861742973328 s\n",
      "25 Zero {'splitter': 'random', 'max_depth': 6} - 0.756506204605 s\n",
      "25 Imputer {'splitter': 'random', 'max_depth': 6} - 1.05589318275 s\n",
      "26 Zero {'splitter': 'best', 'max_depth': 7} - 0.820624113083 s\n",
      "26 Imputer {'splitter': 'random', 'max_depth': 9} - 0.81041097641 s\n",
      "27 Zero {'splitter': 'best', 'max_depth': 7} - 0.957596063614 s\n",
      "27 Imputer {'splitter': 'random', 'max_depth': 8} - 1.02409005165 s\n",
      "28 Zero {'splitter': 'best', 'max_depth': 6} - 1.03137397766 s\n",
      "28 Imputer {'splitter': 'random', 'max_depth': 9} - 0.969517946243 s\n",
      "29 Zero {'splitter': 'best', 'max_depth': 10} - 0.870513916016 s\n",
      "29 Imputer {'splitter': 'best', 'max_depth': 9} - 0.986405134201 s\n",
      "30 Zero {'splitter': 'best', 'max_depth': 10} - 0.925629138947 s\n",
      "30 Imputer {'splitter': 'best', 'max_depth': 10} - 0.972218036652 s\n",
      "31 Zero {'splitter': 'best', 'max_depth': 8} - 1.07542705536 s\n",
      "31 Imputer {'splitter': 'random', 'max_depth': 1} - 1.24793696404 s\n",
      "32 Zero {'splitter': 'random', 'max_depth': 10} - 0.878252983093 s\n",
      "32 Imputer {'splitter': 'random', 'max_depth': 9} - 0.993834018707 s\n",
      "33 Zero {'splitter': 'random', 'max_depth': 7} - 0.823979139328 s\n",
      "33 Imputer {'splitter': 'best', 'max_depth': 7} - 0.843240022659 s\n",
      "34 Zero {'splitter': 'best', 'max_depth': 10} - 0.948663949966 s\n",
      "34 Imputer {'splitter': 'random', 'max_depth': 9} - 0.802402973175 s\n",
      "35 Zero {'splitter': 'random', 'max_depth': 8} - 0.727216005325 s\n",
      "35 Imputer {'splitter': 'best', 'max_depth': 4} - 0.738169908524 s\n",
      "36 Zero {'splitter': 'best', 'max_depth': 7} - 0.954754829407 s\n",
      "36 Imputer {'splitter': 'best', 'max_depth': 5} - 0.80698299408 s\n",
      "37 Zero {'splitter': 'best', 'max_depth': 10} - 0.8638651371 s\n",
      "37 Imputer {'splitter': 'best', 'max_depth': 10} - 0.862609148026 s\n",
      "38 Zero {'splitter': 'best', 'max_depth': 5} - 0.758898019791 s\n",
      "38 Imputer {'splitter': 'random', 'max_depth': 10} - 0.729473114014 s\n",
      "39 Zero {'splitter': 'random', 'max_depth': 10} - 0.723732948303 s\n",
      "39 Imputer {'splitter': 'random', 'max_depth': 8} - 0.852510929108 s\n",
      "40 Zero {'splitter': 'best', 'max_depth': 10} - 0.739368200302 s\n",
      "40 Imputer {'splitter': 'best', 'max_depth': 7} - 0.92876791954 s\n",
      "41 Zero {'splitter': 'random', 'max_depth': 7} - 0.820197105408 s\n",
      "41 Imputer {'splitter': 'random', 'max_depth': 6} - 0.827370882034 s\n",
      "42 Zero {'splitter': 'random', 'max_depth': 7} - 0.708300828934 s\n",
      "42 Imputer {'splitter': 'best', 'max_depth': 8} - 0.823699951172 s\n",
      "43 Zero {'splitter': 'best', 'max_depth': 10} - 0.743702173233 s\n",
      "43 Imputer {'splitter': 'random', 'max_depth': 9} - 0.93349814415 s\n",
      "--- 75.4169669151 seconds ---\n",
      "0 Zero {'max_features': 'auto', 'min_samples_split': 8, 'bootstrap': True, 'n_estimators': 40} - 71.2498559952 s\n",
      "0 Imputer {'max_features': 'auto', 'min_samples_split': 8, 'bootstrap': True, 'n_estimators': 30} - 61.9717080593 s\n",
      "1 Zero {'max_features': 'auto', 'min_samples_split': 8, 'bootstrap': True, 'n_estimators': 20} - 59.1123559475 s\n",
      "1 Imputer {'max_features': 'log2', 'min_samples_split': 8, 'bootstrap': False, 'n_estimators': 30} - 60.964979887 s\n",
      "2 Zero {'max_features': 'log2', 'min_samples_split': 2, 'bootstrap': False, 'n_estimators': 40} - 59.2879431248 s\n",
      "2 Imputer {'max_features': 'log2', 'min_samples_split': 2, 'bootstrap': False, 'n_estimators': 20} - 63.8292500973 s\n",
      "3 Zero {'max_features': 'sqrt', 'min_samples_split': 2, 'bootstrap': False, 'n_estimators': 40} - 60.8004698753 s\n",
      "3 Imputer {'max_features': 'log2', 'min_samples_split': 2, 'bootstrap': False, 'n_estimators': 40} - 59.7297558784 s\n",
      "4 Zero {'max_features': 'log2', 'min_samples_split': 2, 'bootstrap': False, 'n_estimators': 30} - 60.3475589752 s\n",
      "4 Imputer {'max_features': 'log2', 'min_samples_split': 2, 'bootstrap': False, 'n_estimators': 40} - 59.8369159698 s\n",
      "5 Zero {'max_features': 'log2', 'min_samples_split': 2, 'bootstrap': True, 'n_estimators': 10} - 55.0007450581 s\n",
      "5 Imputer {'max_features': 'sqrt', 'min_samples_split': 2, 'bootstrap': True, 'n_estimators': 10} - 55.2656419277 s\n",
      "6 Zero {'max_features': 'auto', 'min_samples_split': 4, 'bootstrap': True, 'n_estimators': 30} - 55.5106930733 s\n",
      "6 Imputer {'max_features': 'log2', 'min_samples_split': 2, 'bootstrap': True, 'n_estimators': 30} - 56.1066308022 s\n",
      "7 Zero {'max_features': 'auto', 'min_samples_split': 2, 'bootstrap': True, 'n_estimators': 30} - 56.3372189999 s\n",
      "7 Imputer {'max_features': 'sqrt', 'min_samples_split': 2, 'bootstrap': True, 'n_estimators': 30} - 62.5277280807 s\n",
      "8 Zero {'max_features': 'auto', 'min_samples_split': 2, 'bootstrap': True, 'n_estimators': 10} - 57.4150149822 s\n",
      "8 Imputer {'max_features': 'log2', 'min_samples_split': 8, 'bootstrap': True, 'n_estimators': 20} - 64.2990438938 s\n",
      "9 Zero {'max_features': 'auto', 'min_samples_split': 2, 'bootstrap': True, 'n_estimators': 20} - 56.0102419853 s\n",
      "9 Imputer {'max_features': 'auto', 'min_samples_split': 4, 'bootstrap': True, 'n_estimators': 40} - 66.4082062244 s\n",
      "10 Zero {'max_features': 'sqrt', 'min_samples_split': 2, 'bootstrap': True, 'n_estimators': 10} - 66.8418691158 s\n",
      "10 Imputer {'max_features': 'sqrt', 'min_samples_split': 2, 'bootstrap': False, 'n_estimators': 30} - 80.0735960007 s\n",
      "11 Zero {'max_features': 'sqrt', 'min_samples_split': 2, 'bootstrap': False, 'n_estimators': 40} - 69.2522618771 s\n",
      "11 Imputer {'max_features': 'sqrt', 'min_samples_split': 2, 'bootstrap': False, 'n_estimators': 30} - 65.2290799618 s\n",
      "12 Zero {'max_features': 'auto', 'min_samples_split': 4, 'bootstrap': True, 'n_estimators': 40} - 81.7998130322 s\n",
      "12 Imputer {'max_features': 'sqrt', 'min_samples_split': 2, 'bootstrap': False, 'n_estimators': 40} - 89.0203979015 s\n",
      "13 Zero {'max_features': 'sqrt', 'min_samples_split': 2, 'bootstrap': False, 'n_estimators': 30} - 87.7837209702 s\n",
      "13 Imputer {'max_features': 'sqrt', 'min_samples_split': 4, 'bootstrap': False, 'n_estimators': 40} - 76.5500459671 s\n",
      "14 Zero {'max_features': 'sqrt', 'min_samples_split': 2, 'bootstrap': False, 'n_estimators': 30} - 66.7693920135 s\n",
      "14 Imputer {'max_features': 'sqrt', 'min_samples_split': 2, 'bootstrap': False, 'n_estimators': 30} - 71.7767560482 s\n",
      "15 Zero {'max_features': 'sqrt', 'min_samples_split': 4, 'bootstrap': False, 'n_estimators': 20} - 64.5795071125 s\n",
      "15 Imputer {'max_features': 'auto', 'min_samples_split': 2, 'bootstrap': False, 'n_estimators': 40} - 71.5280959606 s\n",
      "16 Zero {'max_features': 'auto', 'min_samples_split': 4, 'bootstrap': False, 'n_estimators': 10} - 67.8701450825 s\n",
      "16 Imputer {'max_features': 'log2', 'min_samples_split': 4, 'bootstrap': True, 'n_estimators': 20} - 80.1663348675 s\n",
      "17 Zero {'max_features': 'sqrt', 'min_samples_split': 2, 'bootstrap': False, 'n_estimators': 40} - 95.2114131451 s\n",
      "17 Imputer {'max_features': 'sqrt', 'min_samples_split': 4, 'bootstrap': False, 'n_estimators': 40} - 78.2746810913 s\n",
      "18 Zero {'max_features': 'sqrt', 'min_samples_split': 2, 'bootstrap': False, 'n_estimators': 30} - 85.8520758152 s\n",
      "18 Imputer {'max_features': 'auto', 'min_samples_split': 2, 'bootstrap': False, 'n_estimators': 30} - 88.5713198185 s\n",
      "19 Zero {'max_features': 'log2', 'min_samples_split': 2, 'bootstrap': False, 'n_estimators': 40} - 73.607074976 s\n",
      "19 Imputer {'max_features': 'sqrt', 'min_samples_split': 4, 'bootstrap': False, 'n_estimators': 30} - 78.5339369774 s\n",
      "20 Zero {'max_features': 'log2', 'min_samples_split': 8, 'bootstrap': False, 'n_estimators': 30} - 78.0336461067 s\n",
      "20 Imputer {'max_features': 'log2', 'min_samples_split': 2, 'bootstrap': True, 'n_estimators': 40} - 86.3895659447 s\n",
      "21 Zero {'max_features': 'sqrt', 'min_samples_split': 2, 'bootstrap': False, 'n_estimators': 20} - 86.1356470585 s\n",
      "21 Imputer {'max_features': 'sqrt', 'min_samples_split': 2, 'bootstrap': False, 'n_estimators': 40} - 82.4992220402 s\n",
      "22 Zero {'max_features': 'log2', 'min_samples_split': 2, 'bootstrap': False, 'n_estimators': 40} - 71.6174690723 s\n",
      "22 Imputer {'max_features': 'auto', 'min_samples_split': 4, 'bootstrap': False, 'n_estimators': 20} - 69.8148059845 s\n",
      "23 Zero {'max_features': 'log2', 'min_samples_split': 2, 'bootstrap': False, 'n_estimators': 40} - 64.9033401012 s\n",
      "23 Imputer {'max_features': 'log2', 'min_samples_split': 2, 'bootstrap': False, 'n_estimators': 40} - 65.7909932137 s\n",
      "24 Zero {'max_features': 'log2', 'min_samples_split': 4, 'bootstrap': False, 'n_estimators': 40} - 60.307528019 s\n",
      "24 Imputer {'max_features': 'log2', 'min_samples_split': 2, 'bootstrap': False, 'n_estimators': 20} - 80.9338700771 s\n",
      "25 Zero {'max_features': 'auto', 'min_samples_split': 4, 'bootstrap': False, 'n_estimators': 20} - 66.6040282249 s\n",
      "25 Imputer {'max_features': 'auto', 'min_samples_split': 2, 'bootstrap': False, 'n_estimators': 30} - 84.5569190979 s\n",
      "26 Zero {'max_features': 'log2', 'min_samples_split': 4, 'bootstrap': False, 'n_estimators': 30} - 63.4360699654 s\n",
      "26 Imputer {'max_features': 'sqrt', 'min_samples_split': 4, 'bootstrap': False, 'n_estimators': 40} - 72.4272329807 s\n",
      "27 Zero {'max_features': 'auto', 'min_samples_split': 8, 'bootstrap': False, 'n_estimators': 10} - 70.5530230999 s\n",
      "27 Imputer {'max_features': 'log2', 'min_samples_split': 8, 'bootstrap': False, 'n_estimators': 20} - 68.9436910152 s\n",
      "28 Zero {'max_features': 'log2', 'min_samples_split': 2, 'bootstrap': False, 'n_estimators': 30} - 67.5054490566 s\n",
      "28 Imputer {'max_features': 'sqrt', 'min_samples_split': 2, 'bootstrap': False, 'n_estimators': 30} - 70.2289590836 s\n",
      "29 Zero {'max_features': 'log2', 'min_samples_split': 2, 'bootstrap': False, 'n_estimators': 30} - 66.9158430099 s\n",
      "29 Imputer {'max_features': 'sqrt', 'min_samples_split': 2, 'bootstrap': False, 'n_estimators': 20} - 67.4363510609 s\n",
      "30 Zero {'max_features': 'sqrt', 'min_samples_split': 4, 'bootstrap': False, 'n_estimators': 40} - 65.8624091148 s\n",
      "30 Imputer {'max_features': 'log2', 'min_samples_split': 2, 'bootstrap': False, 'n_estimators': 30} - 70.5108039379 s\n",
      "31 Zero {'max_features': 'sqrt', 'min_samples_split': 2, 'bootstrap': False, 'n_estimators': 20} - 85.4589920044 s\n",
      "31 Imputer {'max_features': 'sqrt', 'min_samples_split': 2, 'bootstrap': False, 'n_estimators': 40} - 66.5303339958 s\n",
      "32 Zero {'max_features': 'log2', 'min_samples_split': 4, 'bootstrap': False, 'n_estimators': 40} - 61.0716660023 s\n",
      "32 Imputer {'max_features': 'log2', 'min_samples_split': 2, 'bootstrap': False, 'n_estimators': 30} - 63.0372610092 s\n",
      "33 Zero {'max_features': 'log2', 'min_samples_split': 2, 'bootstrap': False, 'n_estimators': 10} - 62.8512430191 s\n",
      "33 Imputer {'max_features': 'log2', 'min_samples_split': 2, 'bootstrap': False, 'n_estimators': 40} - 61.7431378365 s\n",
      "34 Zero {'max_features': 'sqrt', 'min_samples_split': 2, 'bootstrap': False, 'n_estimators': 10} - 60.2601840496 s\n",
      "34 Imputer {'max_features': 'sqrt', 'min_samples_split': 2, 'bootstrap': False, 'n_estimators': 20} - 60.6561608315 s\n",
      "35 Zero {'max_features': 'sqrt', 'min_samples_split': 2, 'bootstrap': False, 'n_estimators': 40} - 60.333357811 s\n",
      "35 Imputer {'max_features': 'log2', 'min_samples_split': 2, 'bootstrap': False, 'n_estimators': 30} - 59.7398591042 s\n",
      "36 Zero {'max_features': 'log2', 'min_samples_split': 2, 'bootstrap': False, 'n_estimators': 40} - 60.5720729828 s\n",
      "36 Imputer {'max_features': 'sqrt', 'min_samples_split': 2, 'bootstrap': False, 'n_estimators': 20} - 61.0944650173 s\n",
      "37 Zero {'max_features': 'log2', 'min_samples_split': 2, 'bootstrap': False, 'n_estimators': 30} - 59.4715969563 s\n",
      "37 Imputer {'max_features': 'log2', 'min_samples_split': 2, 'bootstrap': False, 'n_estimators': 30} - 60.188521862 s\n",
      "38 Zero {'max_features': 'sqrt', 'min_samples_split': 4, 'bootstrap': False, 'n_estimators': 40} - 58.7673909664 s\n",
      "38 Imputer {'max_features': 'log2', 'min_samples_split': 2, 'bootstrap': False, 'n_estimators': 20} - 59.5573320389 s\n",
      "39 Zero {'max_features': 'sqrt', 'min_samples_split': 2, 'bootstrap': False, 'n_estimators': 40} - 60.0818738937 s\n",
      "39 Imputer {'max_features': 'sqrt', 'min_samples_split': 4, 'bootstrap': False, 'n_estimators': 30} - 60.2569010258 s\n",
      "40 Zero {'max_features': 'log2', 'min_samples_split': 2, 'bootstrap': False, 'n_estimators': 40} - 60.1822450161 s\n",
      "40 Imputer {'max_features': 'log2', 'min_samples_split': 2, 'bootstrap': False, 'n_estimators': 30} - 60.2734789848 s\n",
      "41 Zero {'max_features': 'sqrt', 'min_samples_split': 2, 'bootstrap': False, 'n_estimators': 40} - 57.95601511 s\n",
      "41 Imputer {'max_features': 'sqrt', 'min_samples_split': 2, 'bootstrap': False, 'n_estimators': 40} - 59.9195609093 s\n",
      "42 Zero {'max_features': 'log2', 'min_samples_split': 8, 'bootstrap': False, 'n_estimators': 10} - 57.310767889 s\n",
      "42 Imputer {'max_features': 'sqrt', 'min_samples_split': 2, 'bootstrap': False, 'n_estimators': 20} - 62.3985650539 s\n",
      "43 Zero {'max_features': 'sqrt', 'min_samples_split': 4, 'bootstrap': False, 'n_estimators': 40} - 59.3661239147 s\n",
      "43 Imputer {'max_features': 'log2', 'min_samples_split': 2, 'bootstrap': False, 'n_estimators': 20} - 59.8938519955 s\n",
      "--- 5953.32282782 seconds ---\n",
      "--- 6034.39451408 seconds ---\n"
     ]
    },
    {
     "data": {
      "text/html": [
       "<div>\n",
       "<table border=\"1\" class=\"dataframe\">\n",
       "  <thead>\n",
       "    <tr style=\"text-align: right;\">\n",
       "      <th></th>\n",
       "      <th>Base</th>\n",
       "      <th>Target</th>\n",
       "      <th>Look Back</th>\n",
       "      <th>Estimator</th>\n",
       "      <th>%</th>\n",
       "      <th>Indicators &gt;90%</th>\n",
       "    </tr>\n",
       "  </thead>\n",
       "  <tbody>\n",
       "    <tr>\n",
       "      <th>0</th>\n",
       "      <td>Agricultura</td>\n",
       "      <td>Agricultura</td>\n",
       "      <td>1</td>\n",
       "      <td>Decission Tree Regressor</td>\n",
       "      <td>0.500000</td>\n",
       "      <td>Indica...</td>\n",
       "    </tr>\n",
       "    <tr>\n",
       "      <th>1</th>\n",
       "      <td>Agricultura</td>\n",
       "      <td>Agricultura</td>\n",
       "      <td>1</td>\n",
       "      <td>Random Forest Regressor</td>\n",
       "      <td>0.636364</td>\n",
       "      <td>Indica...</td>\n",
       "    </tr>\n",
       "  </tbody>\n",
       "</table>\n",
       "</div>"
      ],
      "text/plain": [
       "          Base       Target  Look Back                 Estimator         %  \\\n",
       "0  Agricultura  Agricultura          1  Decission Tree Regressor  0.500000   \n",
       "1  Agricultura  Agricultura          1   Random Forest Regressor  0.636364   \n",
       "\n",
       "                                     Indicators >90%  \n",
       "0                                          Indica...  \n",
       "1                                          Indica...  "
      ]
     },
     "execution_count": 17,
     "metadata": {},
     "output_type": "execute_result"
    }
   ],
   "source": [
    "resultado = []\n",
    "\n",
    "for i in range(len(conjunto)):\n",
    "    for j in range(1,look_back+1):\n",
    "        for k in range(len(estimadores)):\n",
    "            start_time = time.time()\n",
    "            porcentaje,nombres,df = porcentaje_nombres(iterador_global_3(datos,paises,years,conjunto[0],conjunto[i],j,estimadores[k]),conjunto[i])\n",
    "            resultado.append([conjunto_nombre[0],conjunto_nombre[i],j,estimadores_nombres[k],porcentaje,\"- %s s\" % (time.time() - start_time),nombres,df])\n",
    "            pd.DataFrame(resultado, columns=[\"Base\",\"Target\",\"Look Back\",\"Estimator\",\"%\",\"Time\",\"Indicators >90%\",\"Resultados\"]).to_csv('log.csv')\n",
    "\n",
    "df = pd.DataFrame(resultado, columns=[\"Base\",\"Target\",\"Look Back\",\"Estimator\",\"%\",\"Indicators >90%\"])\n",
    "df"
   ]
  },
  {
   "cell_type": "markdown",
   "metadata": {},
   "source": [
    "## Resultados iniciales:"
   ]
  },
  {
   "cell_type": "code",
   "execution_count": 18,
   "metadata": {
    "collapsed": false
   },
   "outputs": [
    {
     "data": {
      "text/html": [
       "<div>\n",
       "<table border=\"1\" class=\"dataframe\">\n",
       "  <thead>\n",
       "    <tr>\n",
       "      <th></th>\n",
       "      <th></th>\n",
       "      <th colspan=\"2\" halign=\"left\">Look Back</th>\n",
       "      <th colspan=\"2\" halign=\"left\">%</th>\n",
       "    </tr>\n",
       "    <tr>\n",
       "      <th></th>\n",
       "      <th>Estimator</th>\n",
       "      <th>Decission Tree Regressor</th>\n",
       "      <th>Random Forest Regressor</th>\n",
       "      <th>Decission Tree Regressor</th>\n",
       "      <th>Random Forest Regressor</th>\n",
       "    </tr>\n",
       "    <tr>\n",
       "      <th>Base</th>\n",
       "      <th>Target</th>\n",
       "      <th></th>\n",
       "      <th></th>\n",
       "      <th></th>\n",
       "      <th></th>\n",
       "    </tr>\n",
       "  </thead>\n",
       "  <tbody>\n",
       "    <tr>\n",
       "      <th>Agricultura</th>\n",
       "      <th>Agricultura</th>\n",
       "      <td>1</td>\n",
       "      <td>1</td>\n",
       "      <td>0.5</td>\n",
       "      <td>0.636364</td>\n",
       "    </tr>\n",
       "  </tbody>\n",
       "</table>\n",
       "</div>"
      ],
      "text/plain": [
       "                                       Look Back                          \\\n",
       "Estimator               Decission Tree Regressor Random Forest Regressor   \n",
       "Base        Target                                                         \n",
       "Agricultura Agricultura                        1                       1   \n",
       "\n",
       "                                               %                          \n",
       "Estimator               Decission Tree Regressor Random Forest Regressor  \n",
       "Base        Target                                                        \n",
       "Agricultura Agricultura                      0.5                0.636364  "
      ]
     },
     "execution_count": 18,
     "metadata": {},
     "output_type": "execute_result"
    }
   ],
   "source": [
    "pd.DataFrame.pivot_table(df, index=[\"Base\",\"Target\"], columns=[\"Estimator\"] )"
   ]
  },
  {
   "cell_type": "markdown",
   "metadata": {},
   "source": [
    "### Buscamos resultados:"
   ]
  },
  {
   "cell_type": "markdown",
   "metadata": {},
   "source": [
    "Buscamos los indicadores más facilmente predecibles (>90%) según deseemos"
   ]
  },
  {
   "cell_type": "code",
   "execution_count": null,
   "metadata": {
    "collapsed": true
   },
   "outputs": [],
   "source": [
    "def buscar(df,indicador_1,indicador_2,look_back):\n",
    "    return df[(df['Base']==indicador_1)&(df['Target']==indicador_2)&(df['Look Back'] == look_back)]['Indicators >90%'].values[0]"
   ]
  },
  {
   "cell_type": "code",
   "execution_count": null,
   "metadata": {
    "collapsed": false
   },
   "outputs": [],
   "source": [
    "buscar(df,'Agricultura','Educacion',1).head()"
   ]
  },
  {
   "cell_type": "code",
   "execution_count": null,
   "metadata": {
    "collapsed": false
   },
   "outputs": [],
   "source": [
    "buscar(df,'Agricultura','Educacion',2).head()"
   ]
  },
  {
   "cell_type": "code",
   "execution_count": null,
   "metadata": {
    "collapsed": false
   },
   "outputs": [],
   "source": [
    "buscar(df,'Agricultura','Educacion',3).head()"
   ]
  },
  {
   "cell_type": "markdown",
   "metadata": {},
   "source": [
    "### Graficamos resultados:"
   ]
  },
  {
   "cell_type": "markdown",
   "metadata": {},
   "source": [
    "Graficamos cada Look back en un heatmap"
   ]
  },
  {
   "cell_type": "code",
   "execution_count": null,
   "metadata": {
    "collapsed": false
   },
   "outputs": [],
   "source": [
    "def graficar_uno(df,look_back):\n",
    "    import seaborn as sns\n",
    "    import matplotlib.pyplot as plt\n",
    "    df_temp = df[df['Look Back'] == look_back].drop(['Indicators >90%','Look Back'], 1)\n",
    "    df_temp = pd.DataFrame(np.array(pd.DataFrame.pivot_table(df_temp, index=[\"Base\"], columns=[\"Target\"])), index=[conjunto_nombre[0]], columns=[conjunto_nombre])\n",
    "    ax = sns.heatmap(df_temp)\n",
    "    plt.title('Look back = '+str(look_back), size=15)\n",
    "    return plt.show()"
   ]
  },
  {
   "cell_type": "code",
   "execution_count": null,
   "metadata": {
    "collapsed": false
   },
   "outputs": [],
   "source": [
    "graficar_uno(df,1)"
   ]
  },
  {
   "cell_type": "code",
   "execution_count": null,
   "metadata": {
    "collapsed": false
   },
   "outputs": [],
   "source": [
    "graficar_uno(df,2)"
   ]
  },
  {
   "cell_type": "code",
   "execution_count": null,
   "metadata": {
    "collapsed": false
   },
   "outputs": [],
   "source": [
    "graficar_uno(df,3)"
   ]
  },
  {
   "cell_type": "markdown",
   "metadata": {},
   "source": [
    "## Iteramos todas las Combinaciones Posibles de los Conjuntos de Indicadores datos"
   ]
  },
  {
   "cell_type": "code",
   "execution_count": null,
   "metadata": {
    "collapsed": false
   },
   "outputs": [],
   "source": [
    "resultado = []\n",
    "\n",
    "for i in range(len(conjunto)):\n",
    "    for j in range(len(conjunto)):\n",
    "        for k in range(1,look_back+1):\n",
    "            for l in range(len(estimadores)):\n",
    "                start_time = time.time()\n",
    "                porcentaje,nombres,df = porcentaje_nombres(iterador_global_3(datos,paises,years,conjunto[i],conjunto[j],k,estimadores[l]),conjunto[j])\n",
    "                resultado.append([conjunto_nombre[i],conjunto_nombre[j],k,estimadores_nombres[l],porcentaje,\"- %s s\" % (time.time() - start_time),nombres,df])\n",
    "                pd.DataFrame(resultado, columns=[\"Base\",\"Target\",\"Look Back\",\"Estimator\",\"%\",\"Time\",\"Indicators >90%\",\"Resultados\"]).to_csv('log.csv')\n",
    "\n",
    "df_global = pd.DataFrame(resultado, columns=[\"Base\",\"Target\",\"Look Back\",\"%\",\"Indicators >90%\"])\n",
    "df_global"
   ]
  },
  {
   "cell_type": "markdown",
   "metadata": {},
   "source": [
    "## Resultados globales:"
   ]
  },
  {
   "cell_type": "code",
   "execution_count": null,
   "metadata": {
    "collapsed": false
   },
   "outputs": [],
   "source": [
    "pd.DataFrame.pivot_table(df_global, index=[\"Base\",\"Target\"], columns=[\"Look Back\"] )"
   ]
  },
  {
   "cell_type": "code",
   "execution_count": null,
   "metadata": {
    "collapsed": false
   },
   "outputs": [],
   "source": [
    "buscar(df_global,'Economia','Economia',1).head()"
   ]
  },
  {
   "cell_type": "code",
   "execution_count": null,
   "metadata": {
    "collapsed": false
   },
   "outputs": [],
   "source": [
    "buscar(df_global,'Economia','Economia',2).head()"
   ]
  },
  {
   "cell_type": "code",
   "execution_count": null,
   "metadata": {
    "collapsed": false
   },
   "outputs": [],
   "source": [
    "buscar(df_global,'Economia','Economia',3).head()"
   ]
  },
  {
   "cell_type": "markdown",
   "metadata": {},
   "source": [
    "## Graficamos todas las iteraciones"
   ]
  },
  {
   "cell_type": "code",
   "execution_count": null,
   "metadata": {
    "collapsed": true
   },
   "outputs": [],
   "source": [
    "def graficar(df,look_back):\n",
    "    import seaborn as sns\n",
    "    import matplotlib.pyplot as plt\n",
    "    df_temp = df[df['Look Back'] == look_back].drop(['Indicators >90%','Look Back'], 1)\n",
    "    df_temp = pd.DataFrame(np.array(pd.DataFrame.pivot_table(df_temp, index=[\"Base\"], columns=[\"Target\"])), index=[conjunto_nombre], columns=[conjunto_nombre])\n",
    "    ax = sns.heatmap(df_temp)\n",
    "    plt.title('Look back = '+str(look_back), size=15)\n",
    "    return plt.show()"
   ]
  },
  {
   "cell_type": "code",
   "execution_count": null,
   "metadata": {
    "collapsed": false
   },
   "outputs": [],
   "source": [
    "graficar(df_global,1)"
   ]
  },
  {
   "cell_type": "code",
   "execution_count": null,
   "metadata": {
    "collapsed": false
   },
   "outputs": [],
   "source": [
    "graficar(df_global,2)"
   ]
  },
  {
   "cell_type": "code",
   "execution_count": null,
   "metadata": {
    "collapsed": false
   },
   "outputs": [],
   "source": [
    "graficar(df_global,3)"
   ]
  },
  {
   "cell_type": "code",
   "execution_count": null,
   "metadata": {
    "collapsed": true
   },
   "outputs": [],
   "source": [
    "df_global.to_csv('df_global_6.csv')"
   ]
  },
  {
   "cell_type": "code",
   "execution_count": null,
   "metadata": {
    "collapsed": true
   },
   "outputs": [],
   "source": []
  }
 ],
 "metadata": {
  "anaconda-cloud": {},
  "kernelspec": {
   "display_name": "Python 2",
   "language": "python",
   "name": "python2"
  },
  "language_info": {
   "codemirror_mode": {
    "name": "ipython",
    "version": 2
   },
   "file_extension": ".py",
   "mimetype": "text/x-python",
   "name": "python",
   "nbconvert_exporter": "python",
   "pygments_lexer": "ipython2",
   "version": "2.7.13"
  }
 },
 "nbformat": 4,
 "nbformat_minor": 1
}
