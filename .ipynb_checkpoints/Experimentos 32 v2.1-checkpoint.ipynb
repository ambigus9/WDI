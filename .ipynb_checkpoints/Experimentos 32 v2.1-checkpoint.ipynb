{
 "cells": [
  {
   "cell_type": "markdown",
   "metadata": {},
   "source": [
    "## World Development Indicators - Analytics"
   ]
  },
  {
   "cell_type": "code",
   "execution_count": 2,
   "metadata": {
    "collapsed": false
   },
   "outputs": [
    {
     "data": {
      "text/html": [
       "<div>\n",
       "<table border=\"1\" class=\"dataframe\">\n",
       "  <thead>\n",
       "    <tr style=\"text-align: right;\">\n",
       "      <th></th>\n",
       "      <th>CountryName</th>\n",
       "      <th>CountryCode</th>\n",
       "      <th>IndicatorName</th>\n",
       "      <th>IndicatorCode</th>\n",
       "      <th>Year</th>\n",
       "      <th>Value</th>\n",
       "    </tr>\n",
       "  </thead>\n",
       "  <tbody>\n",
       "    <tr>\n",
       "      <th>0</th>\n",
       "      <td>Antigua and Barbuda</td>\n",
       "      <td>ATG</td>\n",
       "      <td>Adolescent fertility rate (births per 1,000 wo...</td>\n",
       "      <td>SP.ADO.TFRT</td>\n",
       "      <td>1960</td>\n",
       "      <td>126.144000</td>\n",
       "    </tr>\n",
       "    <tr>\n",
       "      <th>1</th>\n",
       "      <td>Antigua and Barbuda</td>\n",
       "      <td>ATG</td>\n",
       "      <td>Age dependency ratio (% of working-age populat...</td>\n",
       "      <td>SP.POP.DPND</td>\n",
       "      <td>1960</td>\n",
       "      <td>88.237117</td>\n",
       "    </tr>\n",
       "    <tr>\n",
       "      <th>2</th>\n",
       "      <td>Antigua and Barbuda</td>\n",
       "      <td>ATG</td>\n",
       "      <td>Age dependency ratio, old (% of working-age po...</td>\n",
       "      <td>SP.POP.DPND.OL</td>\n",
       "      <td>1960</td>\n",
       "      <td>7.779958</td>\n",
       "    </tr>\n",
       "    <tr>\n",
       "      <th>3</th>\n",
       "      <td>Antigua and Barbuda</td>\n",
       "      <td>ATG</td>\n",
       "      <td>Age dependency ratio, young (% of working-age ...</td>\n",
       "      <td>SP.POP.DPND.YG</td>\n",
       "      <td>1960</td>\n",
       "      <td>80.457159</td>\n",
       "    </tr>\n",
       "    <tr>\n",
       "      <th>4</th>\n",
       "      <td>Antigua and Barbuda</td>\n",
       "      <td>ATG</td>\n",
       "      <td>Birth rate, crude (per 1,000 people)</td>\n",
       "      <td>SP.DYN.CBRT.IN</td>\n",
       "      <td>1960</td>\n",
       "      <td>32.920000</td>\n",
       "    </tr>\n",
       "  </tbody>\n",
       "</table>\n",
       "</div>"
      ],
      "text/plain": [
       "           CountryName CountryCode  \\\n",
       "0  Antigua and Barbuda         ATG   \n",
       "1  Antigua and Barbuda         ATG   \n",
       "2  Antigua and Barbuda         ATG   \n",
       "3  Antigua and Barbuda         ATG   \n",
       "4  Antigua and Barbuda         ATG   \n",
       "\n",
       "                                       IndicatorName   IndicatorCode  Year  \\\n",
       "0  Adolescent fertility rate (births per 1,000 wo...     SP.ADO.TFRT  1960   \n",
       "1  Age dependency ratio (% of working-age populat...     SP.POP.DPND  1960   \n",
       "2  Age dependency ratio, old (% of working-age po...  SP.POP.DPND.OL  1960   \n",
       "3  Age dependency ratio, young (% of working-age ...  SP.POP.DPND.YG  1960   \n",
       "4               Birth rate, crude (per 1,000 people)  SP.DYN.CBRT.IN  1960   \n",
       "\n",
       "        Value  \n",
       "0  126.144000  \n",
       "1   88.237117  \n",
       "2    7.779958  \n",
       "3   80.457159  \n",
       "4   32.920000  "
      ]
     },
     "execution_count": 2,
     "metadata": {},
     "output_type": "execute_result"
    }
   ],
   "source": [
    "import numpy as np\n",
    "import pandas as pd\n",
    "import matplotlib.pyplot as plt\n",
    "import time\n",
    "\n",
    "datos = pd.read_csv(\"suramerica.csv\").drop('Unnamed: 0', 1)\n",
    "datos.head()"
   ]
  },
  {
   "cell_type": "code",
   "execution_count": 3,
   "metadata": {
    "collapsed": false
   },
   "outputs": [],
   "source": [
    "paises = ['Antigua and Barbuda','Argentina','Aruba','Bahamas, The','Barbados','Belize','Bolivia','Brazil','Cayman Islands','Chile','Colombia','Costa Rica','Cuba','Curacao','Dominica','Dominican Republic','Ecuador','El Salvador','Grenada','Guatemala','Guyana','Haiti','Honduras','Jamaica','Mexico','Nicaragua','Panama','Paraguay','Peru','Puerto Rico','Sint Maarten (Dutch part)','St. Kitts and Nevis','St. Lucia','St. Martin (French part)','St. Vincent and the Grenadines','Suriname','Trinidad and Tobago','Turks and Caicos Islands','Uruguay','Venezuela, RB','Virgin Islands (U.S.)']\n",
    "year_init = 2012\n",
    "year_range = 5\n",
    "look_back = 2\n",
    "years = range(year_init-year_range+1,year_init+1)[::-1]\n",
    "\n",
    "agricultura = ['EG.ELC.ACCS.RU.ZS','EG.NSF.ACCS.RU.ZS','AG.LND.IRIG.AG.ZS','AG.LND.AGRI.ZS','AG.LND.AGRI.K2','AG.AGR.TRAC.NO','AG.LND.TRAC.ZS','EN.ATM.METH.AG.ZS','EN.ATM.METH.AG.KT.CE','EN.ATM.NOXE.AG.ZS','EN.ATM.NOXE.AG.KT.CE','TX.VAL.AGRI.ZS.UN','TM.VAL.AGRI.ZS.UN','EA.PRD.AGRI.KD','NV.AGR.TOTL.ZS','NV.AGR.TOTL.CD','ER.H2O.FWAG.ZS','AG.LND.ARBL.ZS','AG.LND.ARBL.HA.PC','AG.LND.ARBL.HA','AG.LND.PRCP.MM','AG.PRD.CREL.MT','AG.YLD.CREL.KG','AG.PRD.CROP.XD','SL.AGR.EMPL.ZS','SL.AGR.EMPL.FE.ZS','SL.AGR.EMPL.MA.ZS','AG.CON.FERT.PT.ZS','AG.CON.FERT.ZS','AG.PRD.FOOD.XD','AG.LND.FRST.ZS','AG.LND.FRST.K2','SH.STA.ACSN.RU','SH.H2O.SAFE.RU.ZS','AG.LND.TOTL.K2','AG.LND.CREL.HA','AG.PRD.LVSK.XD','AG.LND.CROP.ZS','AG.LND.TOTL.RU.K2','AG.LND.EL5M.RU.ZS','AG.LND.EL5M.RU.K2','SP.RUR.TOTL','SP.RUR.TOTL.ZS','SP.RUR.TOTL.ZG','EN.POP.EL5M.RU.ZS','SI.POV.RUGP','SI.POV.RUHC','AG.SRF.TOTL.K2']\n",
    "economia = ['PA.NUS.PPP.05','PA.NUS.PRVT.PP.05','NY.ADJ.NNTY.KD.ZG','NY.ADJ.NNTY.KD','NY.ADJ.NNTY.CD','NY.ADJ.NNTY.PC.KD.ZG','NY.ADJ.NNTY.PC.KD','NY.ADJ.NNTY.PC.CD','NY.ADJ.SVNX.GN.ZS','NY.ADJ.SVNX.CD','NY.ADJ.SVNG.GN.ZS','NY.ADJ.SVNG.CD','NY.ADJ.DCO2.GN.ZS','NY.ADJ.DCO2.CD','NY.ADJ.DKAP.GN.ZS','NY.ADJ.DKAP.CD','NY.ADJ.AEDU.GN.ZS','NY.ADJ.AEDU.CD','NY.ADJ.DNGY.GN.ZS','NY.ADJ.DNGY.CD','NY.ADJ.ICTR.GN.ZS','NY.ADJ.DMIN.GN.ZS','NY.ADJ.DMIN.CD','NY.ADJ.DRES.GN.ZS','NY.ADJ.DFOR.GN.ZS','NY.ADJ.DFOR.CD','NY.ADJ.NNAT.GN.ZS','NY.ADJ.NNAT.CD','NY.ADJ.DPEM.GN.ZS','NY.ADJ.DPEM.CD','NV.AGR.TOTL.ZS','NV.AGR.TOTL.KD.ZG','NV.AGR.TOTL.KD','NV.AGR.TOTL.KN','NV.AGR.TOTL.CN','NV.AGR.TOTL.CD','GC.DOD.TOTL.GD.ZS','NE.GDI.STKB.KN','NE.GDI.STKB.CN','NE.GDI.STKB.CD','BM.GSR.ROYL.CD','BX.GSR.ROYL.CD','NV.MNF.CHEM.ZS.UN','BX.GSR.CMCP.ZS','BM.GSR.CMCP.ZS','BN.CAB.XOKA.GD.ZS','BN.CAB.XOKA.CD','PA.NUS.ATLS','NY.GDP.DISC.KN','NY.GDP.DISC.CN','GC.XPN.TOTL.GD.ZS','NY.EXP.CAPM.KN','NE.EXP.GNFS.ZS','BX.GSR.GNFS.CD','NE.EXP.GNFS.KD.ZG','NE.EXP.GNFS.KD','NE.EXP.GNFS.KN','NE.EXP.GNFS.CN','NE.EXP.GNFS.CD','BX.GSR.TOTL.CD','NE.RSB.GNFS.ZS','NE.RSB.GNFS.KN','NE.RSB.GNFS.CN','NE.RSB.GNFS.CD','DT.DOD.DECT.GN.ZS','DT.DOD.DECT.EX.ZS','DT.DOD.DECT.CD','NE.CON.TOTL.KD','NE.CON.TOTL.KN','NE.CON.TOTL.CN','NE.CON.TOTL.CD','NE.CON.TETC.ZS','NE.CON.TETC.KD.ZG','NE.CON.TETC.KD','NE.CON.TETC.KN','NE.CON.TETC.CN','NE.CON.TETC.CD','NV.MNF.FBTO.ZS.UN','BN.KLT.DINV.CD','BX.KLT.DINV.WD.GD.ZS','BX.KLT.DINV.CD.WD','BM.KLT.DINV.WD.GD.ZS','BM.KLT.DINV.CD.WD','NY.GDP.MKTP.KN','NY.GDP.MKTP.CN','NY.GDP.MKTP.CD','NY.GDP.MKTP.KD','NY.GDP.DEFL.ZS','NY.GDP.MKTP.KD.ZG','NY.GDP.PCAP.KD','NY.GDP.PCAP.KN','NY.GDP.PCAP.CN','NY.GDP.PCAP.CD','NY.GDP.PCAP.KD.ZG','NY.GDP.PCAP.PP.KD','NY.GDP.PCAP.PP.CD','NY.GDP.MKTP.PP.KD','NY.GDP.MKTP.PP.CD','NY.GNP.MKTP.KD','NY.GNP.MKTP.KN','NY.GNP.MKTP.CN','NY.GNP.MKTP.CD','NY.GNP.MKTP.KD.ZG','NY.GNP.PCAP.KD','NY.GNP.PCAP.KN','NY.GNP.PCAP.CN','NY.GNP.PCAP.KD.ZG','NY.GNP.PCAP.CD','NY.GNP.PCAP.PP.KD','NY.GNP.PCAP.PP.CD','NY.GNP.ATLS.CD','NY.GNP.MKTP.PP.KD','NY.GNP.MKTP.PP.CD','NE.CON.GOVT.ZS','NE.CON.GOVT.KD.ZG','NE.CON.GOVT.KD','NE.CON.GOVT.KN','NE.CON.GOVT.CN','NE.CON.GOVT.CD','BX.GSR.MRCH.CD','BM.GSR.MRCH.CD','BX.GRT.EXTA.CD.WD','NE.GDI.TOTL.ZS','NE.GDI.TOTL.KD.ZG','NE.GDI.TOTL.KD','NE.GDI.TOTL.KN','NE.GDI.TOTL.CN','NE.GDI.TOTL.CD','NY.GDY.TOTL.KN','NY.GDS.TOTL.ZS','NY.GDS.TOTL.CN','NY.GDS.TOTL.CD','NE.GDI.FTOT.ZS','NE.GDI.FTOT.KD.ZG','NE.GDI.FTOT.KD','NE.GDI.FTOT.KN','NE.GDI.FTOT.CN','NE.GDI.FTOT.CD','NE.GDI.FPRV.ZS','NE.GDI.FPRV.CN','NE.DAB.TOTL.ZS','NE.DAB.TOTL.KD','NE.DAB.TOTL.KN','NE.DAB.TOTL.CN','NE.DAB.TOTL.CD','NE.DAB.DEFL.ZS','NY.GNS.ICTR.ZS','NY.GNS.ICTR.GN.ZS','NY.GNS.ICTR.CN','NY.GNS.ICTR.CD','NY.GDP.FCST.KD','NY.GDP.FCST.KN','NY.GDP.FCST.CN','NY.GDP.FCST.CD','NE.CON.PRVT.KD.ZG','NE.CON.PRVT.KD','NE.CON.PRVT.KN','NE.CON.PRVT.CN','NE.CON.PRVT.CD','NE.CON.PRVT.PC.KD','NE.CON.PRVT.PC.KD.ZG','NE.CON.PRVT.PP.KD','NE.CON.PRVT.PP.CD','NE.CON.PETC.ZS','NE.CON.PETC.KD.ZG','NE.CON.PETC.KD','NE.CON.PETC.KN','NE.CON.PETC.CN','NE.CON.PETC.CD','BX.GSR.CCIS.ZS','BX.GSR.CCIS.CD','NE.IMP.GNFS.ZS','BM.GSR.GNFS.CD','NE.IMP.GNFS.KD.ZG','NE.IMP.GNFS.KD','NE.IMP.GNFS.KN','NE.IMP.GNFS.CN','NE.IMP.GNFS.CD','BM.GSR.TOTL.CD','NV.IND.TOTL.ZS','NV.IND.TOTL.KD.ZG','NV.IND.TOTL.KD','NV.IND.TOTL.KN','NV.IND.TOTL.CN','NV.IND.TOTL.CD','NY.GDP.DEFL.KD.ZG','FP.CPI.TOTL.ZG','BX.GSR.INSF.ZS','BM.GSR.INSF.ZS','DT.INT.DECT.GN.ZS','DT.INT.DECT.EX.ZS','NV.MNF.MTRN.ZS.UN','NV.IND.MANF.ZS','NV.IND.MANF.KD.ZG','NV.IND.MANF.KD','NV.IND.MANF.KN','NV.IND.MANF.CN','NV.IND.MANF.CD','DT.ODA.ODAT.GN.ZS','DT.ODA.ODAT.PC.ZS','BN.TRF.KOGT.CD','NY.TRF.NCTR.KN','NY.TRF.NCTR.CN','NY.TRF.NCTR.CD','BN.KAC.EOMS.CD','BN.FIN.TOTL.CD','NY.GSR.NFCY.KN','NY.GSR.NFCY.CN','NY.GSR.NFCY.CD','DT.ODA.ODAT.CD','BN.GSR.FCTY.CD','BN.TRF.CURR.CD','NY.TAX.NIND.KN','NY.TAX.NIND.CN','NY.TAX.NIND.CD','BN.GSR.MRCH.CD','BN.GSR.GNFS.CD','NV.MNF.OTHR.ZS.UN','PA.NUS.PPP','PA.NUS.PRVT.PP','BM.TRF.PWKR.CD.DT','BX.TRF.PWKR.DT.GD.ZS','BX.TRF.PWKR.CD.DT','BX.TRF.PWKR.CD','BN.KLT.PTXL.CD','BX.PEF.TOTL.CD.WD','DT.DOD.PVLX.GN.ZS','DT.DOD.PVLX.EX.ZS','DT.DOD.PVLX.CD','PA.NUS.PPPC.RF','BX.KLT.DREM.CD.DT','BM.GSR.FCTY.CD','BX.GSR.FCTY.CD','BN.RES.INCL.CD','GC.REV.XGRT.GD.ZS','BX.TRF.CURR.CD','BM.TRF.PRVT.CD','BX.GSR.NFSV.CD','BM.GSR.NFSV.CD','NV.SRV.TETC.ZS','NV.SRV.TETC.KD.ZG','NV.SRV.TETC.KD','NV.SRV.TETC.KN','NV.SRV.TETC.CN','NV.SRV.TETC.CD','DT.DOD.DSTC.XP.ZS','DT.DOD.DSTC.IR.ZS','BX.GRT.TECH.CD.WD','NY.TTF.GNFS.KN','NV.MNF.TXTL.ZS.UN','DT.TDS.DECT.GN.ZS','DT.TDS.DECT.EX.ZS','FI.RES.TOTL.CD','FI.RES.XGLD.CD','NE.TRD.GNFS.ZS','BG.GSR.NFSV.GD.ZS','BX.GSR.TRAN.ZS','BM.GSR.TRAN.ZS','BX.GSR.TRVL.ZS','BM.GSR.TRVL.ZS']\n",
    "educacion = ['SE.PRM.TENR.FE','SE.PRM.TENR.MA','SE.PRM.TENR','SE.SEC.UNER.LO.ZS','SE.SEC.UNER.LO.FE.ZS','SE.SEC.UNER.LO.MA.ZS','SE.ADT.LITR.ZS','SE.XPD.MPRM.ZS','SE.XPD.MSEC.ZS','SE.XPD.MTER.ZS','SE.XPD.MTOT.ZS','SE.PRM.UNER.ZS','SE.PRM.UNER.FE.ZS','SE.PRM.UNER.MA.ZS','SE.PRM.UNER.FE','SE.PRM.UNER.MA','SE.XPD.CPRM.ZS','SE.XPD.CSEC.ZS','SE.XPD.CTER.ZS','SE.XPD.CTOT.ZS','SE.COM.DURS','SE.TER.CUAT.DO.FE.ZS','SE.TER.CUAT.DO.MA.ZS','SE.TER.CUAT.DO.ZS','SE.TER.CUAT.BA.FE.ZS','SE.TER.CUAT.BA.MA.ZS','SE.TER.CUAT.BA.ZS','SE.TER.CUAT.MS.FE.ZS','SE.TER.CUAT.MS.MA.ZS','SE.TER.CUAT.MS.ZS','SE.SEC.CUAT.LO.FE.ZS','SE.SEC.CUAT.LO.MA.ZS','SE.SEC.CUAT.LO.ZS','SE.SEC.CUAT.PO.FE.ZS','SE.SEC.CUAT.PO.MA.ZS','SE.SEC.CUAT.PO.ZS','SE.PRM.CUAT.FE.ZS','SE.PRM.CUAT.MA.ZS','SE.PRM.CUAT.ZS','SE.TER.CUAT.ST.FE.ZS','SE.TER.CUAT.ST.MA.ZS','SE.TER.CUAT.ST.ZS','SE.SEC.CUAT.UP.FE.ZS','SE.SEC.CUAT.UP.MA.ZS','SE.SEC.CUAT.UP.ZS','SE.SEC.PROG.ZS','SM.EMI.TERT.ZS','SE.PRM.ENRL','SE.SEC.ENRL','SE.SEC.ENRL.GC','SE.SEC.ENRL.VO','SE.XPD.TOTL.GB.ZS','SE.XPD.PRIM.ZS','SE.XPD.SECO.ZS','SE.XPD.TERT.ZS','SE.XPD.TOTL.GD.ZS','SE.XPD.PRIM.PC.ZS','SE.XPD.SECO.PC.ZS','SE.XPD.TERT.PC.ZS','SE.PRM.ENRR','SE.PRE.ENRR','SE.PRE.ENRR.FE','SE.PRE.ENRR.MA','SE.SEC.ENRR','SE.TER.ENRR','SE.PRM.GINT.ZS','SE.PRM.GINT.FE.ZS','SE.PRM.GINT.MA.ZS','SL.TLF.PRIM.ZS','SL.TLF.PRIM.FE.ZS','SL.TLF.PRIM.MA.ZS','SL.TLF.SECO.ZS','SL.TLF.SECO.FE.ZS','SL.TLF.SECO.MA.ZS','SL.TLF.TERT.ZS','SL.TLF.TERT.FE.ZS','SL.TLF.TERT.MA.ZS','SL.TLF.TOTL.FE.ZS','SL.TLF.TOTL.IN','SE.ADT.LITR.FE.ZS','SE.ADT.LITR.MA.ZS','SE.ADT.1524.LT.FM.ZS','SE.ADT.1524.LT.FE.ZS','SE.ADT.1524.LT.MA.ZS','SE.SEC.CMPT.LO.FE.ZS','SE.SEC.CMPT.LO.MA.ZS','SE.SEC.CMPT.LO.ZS','SE.PRM.NENR','SE.SEC.NENR','SE.PRM.NINT.FE.ZS','SE.PRM.NINT.MA.ZS','SE.PRM.NINT.ZS','SE.SEC.AGES','SE.PRM.AGES','SE.PRM.UNER','SE.PRM.OENR.ZS','SE.PRM.OENR.FE.ZS','SE.PRM.OENR.MA.ZS','SE.PRM.PRIV.ZS','SE.SEC.PRIV.ZS','SE.PRM.TCAQ.FE.ZS','SE.SEC.TCAQ.FE.ZS','SE.PRM.TCAQ.MA.ZS','SE.SEC.TCAQ.MA.ZS','SE.PRM.REPT.ZS','SE.PRM.REPT.FE.ZS','SE.PRM.REPT.MA.ZS','SE.SEC.ENRL.GC.FE.ZS','SE.SEC.ENRL.VO.FE.ZS','SE.PRM.TCAQ.ZS','SE.SEC.TCAQ.ZS','SE.PRM.PRS5.FE.ZS','SE.PRM.PRS5.MA.ZS','SP.POP.0014.TO.ZS','SP.POP.1564.TO.ZS','SE.PRE.DURS','SE.PRM.CMPT.FE.ZS','SE.PRM.CMPT.MA.ZS','SE.PRM.CMPT.ZS','SE.PRM.ENRL.FE.ZS','SE.PRM.TCHR.FE.ZS','SE.SEC.PROG.FE.ZS','SE.SEC.PROG.MA.ZS','SE.PRE.ENRL.TC.ZS','SE.PRM.ENRL.TC.ZS','SE.SEC.ENRL.TC.ZS','SE.SEC.ENRL.LO.TC.ZS','SE.TER.ENRL.TC.ZS','SE.SEC.ENRL.UP.TC.ZS','SE.ENR.PRIM.FM.ZS','SE.ENR.PRSC.FM.ZS','SE.PRM.ENRR.FE','SE.PRM.NENR.FE','SE.PRM.ENRR.MA','SE.PRM.NENR.MA','SE.ENR.SECO.FM.ZS','SE.SEC.ENRR.FE','SE.SEC.NENR.FE','SE.SEC.ENRR.MA','SE.SEC.NENR.MA','SE.ENR.TERT.FM.ZS','SE.TER.ENRR.FE','SE.TER.ENRR.MA','SE.SEC.ENRL.FE.ZS','SE.SEC.TCHR.FE.ZS','SE.PRM.PRS5.ZS','SE.PRM.PRSL.ZS','SE.PRM.PRSL.FE.ZS','SE.PRM.PRSL.MA.ZS','SE.PRM.TCHR','SE.SEC.TCHR','SE.SEC.TCHR.FE','SE.TER.TCHR.FE.ZS','SE.PRM.DURS','SE.SEC.DURS','SE.SEC.TCAQ.LO.ZS','SE.SEC.TCAQ.LO.FE.ZS','SE.SEC.TCAQ.LO.MA.ZS','SE.PRE.TCAQ.ZS','SE.PRE.TCAQ.FE.ZS','SE.PRE.TCAQ.MA.ZS','SE.SEC.TCAQ.UP.ZS','SE.SEC.TCAQ.UP.FE.ZS','SE.SEC.TCAQ.UP.MA.ZS','SL.UEM.TOTL.FE.ZS','SL.UEM.TOTL.MA.ZS','SL.UEM.TOTL.ZS','SE.ADT.1524.LT.ZS']\n",
    "\n",
    "conjunto_nombre = ['Agricultura','Economia','Educacion']\n",
    "conjunto = [agricultura,economia,educacion]"
   ]
  },
  {
   "cell_type": "code",
   "execution_count": 4,
   "metadata": {
    "collapsed": false
   },
   "outputs": [],
   "source": [
    "def r2(y_true, y_predict):\n",
    "    from sklearn.metrics import r2_score\n",
    "    return r2_score(y_true, y_predict)"
   ]
  },
  {
   "cell_type": "code",
   "execution_count": 5,
   "metadata": {
    "collapsed": false
   },
   "outputs": [],
   "source": [
    "def imputador(tab):\n",
    "    from sklearn.preprocessing import Imputer\n",
    "    impute=Imputer(missing_values=\"NaN\",strategy='mean',axis=0)\n",
    "    impute.fit(tab)\n",
    "    tab_imputada=impute.transform(tab)\n",
    "    return pd.DataFrame(tab_imputada)"
   ]
  },
  {
   "cell_type": "code",
   "execution_count": 6,
   "metadata": {
    "collapsed": true
   },
   "outputs": [],
   "source": [
    "def zeros(tab):\n",
    "    #Asignamos a los NaN el valor de 0\n",
    "    tab_zeros = pd.DataFrame(tab).fillna(value=0)\n",
    "    #Eliminamos las columnas de Zeros descartando Indicadores que no tienen regristros para ningún pais y año deseados\n",
    "    tab_zeros_2 = tab_zeros.loc[:, (tab_zeros != 0).any(axis=0)]\n",
    "    return tab_zeros_2"
   ]
  },
  {
   "cell_type": "code",
   "execution_count": 7,
   "metadata": {
    "collapsed": false
   },
   "outputs": [],
   "source": [
    "def Grid_Search_CV(X_train, y_train):\n",
    "    from sklearn.grid_search import GridSearchCV\n",
    "    from sklearn.cross_validation import ShuffleSplit\n",
    "    from sklearn.metrics import make_scorer\n",
    "    from sklearn.tree import DecisionTreeRegressor\n",
    "    \n",
    "    cv = ShuffleSplit(X_train.shape[0], n_iter = 10, test_size=0.2, random_state=0)\n",
    "    estimator = DecisionTreeRegressor()\n",
    "    params = {'max_depth': [1, 2, 3, 4, 5, 6, 7, 8, 9, 10], 'splitter': ['best', 'random']}\n",
    "\n",
    "    grid = GridSearchCV(estimator, params, cv=cv, scoring=\"r2\")\n",
    "\n",
    "    grid.fit(X_train, y_train)\n",
    "    \n",
    "    for k,v in grid.best_params_.iteritems():\n",
    "        best_max_depth = v\n",
    "    \n",
    "    return best_max_depth"
   ]
  },
  {
   "cell_type": "code",
   "execution_count": 8,
   "metadata": {
    "collapsed": true
   },
   "outputs": [],
   "source": [
    "def DTR_v2(X_train, X_test, y_train, y_test, depth):\n",
    "    \n",
    "    from sklearn.tree import DecisionTreeRegressor\n",
    "    estimator = DecisionTreeRegressor(max_depth=depth)\n",
    "    estimator.fit(X_train,y_train)\n",
    "    y_predict = estimator.predict(X_test)\n",
    "    \n",
    "    return r2(y_test,y_predict)"
   ]
  },
  {
   "cell_type": "code",
   "execution_count": 9,
   "metadata": {
    "collapsed": false
   },
   "outputs": [],
   "source": [
    "def correlation_matrix(df):\n",
    "    from matplotlib import pyplot as plt\n",
    "    from matplotlib import cm as cm\n",
    "\n",
    "    fig = plt.figure()\n",
    "    ax1 = fig.add_subplot(111)\n",
    "    cmap = cm.get_cmap('jet', 30)\n",
    "    cax = ax1.imshow(df.corr(), interpolation=\"nearest\", cmap=cmap)\n",
    "    plt.title('Matriz de correlacion')\n",
    "    fig.colorbar(cax)\n",
    "    \n",
    "    return plt.show()"
   ]
  },
  {
   "cell_type": "code",
   "execution_count": 10,
   "metadata": {
    "collapsed": false
   },
   "outputs": [],
   "source": [
    "def correlacion(tab,y_indicator):\n",
    "    # Buscamos los indicadores que se correlacionen más (coeficiente > 0.7)\n",
    "    eliminar = []\n",
    "    tabla_correlacion = np.array(pd.DataFrame(tab).corr())\n",
    "    for i in range(np.shape(tab)[1]):\n",
    "        if abs(tabla_correlacion[i,y_indicator]) > 0.7:\n",
    "            eliminar.append(i)\n",
    "\n",
    "    # Eliminamos los indicadores que se correlacionan más (Coeficiente > 0.7)\n",
    "    temporal = tab[:,:]\n",
    "\n",
    "    for i in range(len(eliminar)):\n",
    "        temporal = np.delete(temporal[:,:], eliminar[i]-i, 1)\n",
    "\n",
    "    return temporal"
   ]
  },
  {
   "cell_type": "code",
   "execution_count": 11,
   "metadata": {
    "collapsed": true
   },
   "outputs": [],
   "source": [
    "def splitter_v3(tabla_1,tabla_2,y_indicator):\n",
    "    from sklearn.model_selection import train_test_split\n",
    "    #Fusionamos la tabla_1 y el indicador y de la tabla_2\n",
    "    tab_fusion = np.column_stack((tabla_1[:,:],tabla_2[:,y_indicator]))\n",
    "    \n",
    "    # Asignamos X e y, eliminando los indicadores que se correlacionen más (coeficiente > 0.7)  \n",
    "    X = correlacion(tab_fusion,-1)\n",
    "    y = tab_fusion[:,-1]\n",
    "    \n",
    "    # Separamos Train y Test respectivamente para X e y\n",
    "    X_train, X_test, y_train, y_test = train_test_split(X, y, test_size=0.2)\n",
    "    \n",
    "    return X_train, X_test, y_train, y_test"
   ]
  },
  {
   "cell_type": "code",
   "execution_count": 12,
   "metadata": {
    "collapsed": true
   },
   "outputs": [],
   "source": [
    "def iter_R2_Splitter_v3(tab1,tab2):    \n",
    "    R2_global = list()\n",
    "    for i in range(0,np.shape(imputador(tab2))[1]):\n",
    "        ## Zeros\n",
    "        X_train, X_test, y_train, y_test = splitter_v3(np.array(zeros(tab1)),np.array(zeros(tab2)),i)\n",
    "        best_max_depth = Grid_Search_CV(X_train, y_train)\n",
    "        R2_Original_GridSearchCV = DTR_v2(X_train, X_test, y_train, y_test,best_max_depth)\n",
    "\n",
    "        ## Imputado\n",
    "        X_train, X_test, y_train, y_test = splitter_v3(np.array(imputador(tab1)),np.array(imputador(tab2)),i)\n",
    "        best_max_depth = Grid_Search_CV(X_train, y_train)\n",
    "        R2_Imputado_GridSearchCV = DTR_v2(X_train, X_test, y_train, y_test,best_max_depth)\n",
    "\n",
    "        # Recopilamos los R2\n",
    "        R2_global.append([R2_Original_GridSearchCV,R2_Imputado_GridSearchCV])\n",
    "    \n",
    "    return pd.DataFrame(R2_global,columns=['Original','Imputado'])"
   ]
  },
  {
   "cell_type": "code",
   "execution_count": 13,
   "metadata": {
    "collapsed": false
   },
   "outputs": [],
   "source": [
    "def tabla_base(paises,years,indicadores,datos):\n",
    "    tab = pd.DataFrame.pivot_table(datos, values='Value', index=['CountryName', 'Year'], columns=['IndicatorCode']).loc[(paises,years),indicadores].sortlevel([\"CountryName\",\"Year\"], ascending=[True,False])\n",
    "    return tab"
   ]
  },
  {
   "cell_type": "code",
   "execution_count": 14,
   "metadata": {
    "collapsed": true
   },
   "outputs": [],
   "source": [
    "def iterador_global(datos,paises,years,indicadores_1,indicadores_2):\n",
    "    \n",
    "    t_1 = tabla_base(paises,years,indicadores_1,datos)\n",
    "    t_2 = tabla_base(paises,years,indicadores_2,datos)\n",
    "    \n",
    "    iterador = iter_R2_Splitter_v3(t_1,t_2)\n",
    "    \n",
    "    return iterador"
   ]
  },
  {
   "cell_type": "code",
   "execution_count": 15,
   "metadata": {
    "collapsed": false
   },
   "outputs": [],
   "source": [
    "def registros(conjunto):   \n",
    "    reg = []\n",
    "    for i in range(len(conjunto)):\n",
    "        reg.append(np.sum(tabla_base(paises,years,conjunto[i],datos).count(axis=1)))\n",
    "    return reg"
   ]
  },
  {
   "cell_type": "code",
   "execution_count": 38,
   "metadata": {
    "collapsed": false
   },
   "outputs": [
    {
     "data": {
      "text/plain": [
       "[2012, 2011, 2010, 2009, 2008]"
      ]
     },
     "execution_count": 38,
     "metadata": {},
     "output_type": "execute_result"
    }
   ],
   "source": [
    "i = 0\n",
    "years = range(year_init-year_range-i+1,year_init-i+1)[::-1]\n",
    "years"
   ]
  },
  {
   "cell_type": "code",
   "execution_count": 39,
   "metadata": {
    "collapsed": false
   },
   "outputs": [
    {
     "data": {
      "text/plain": [
       "[5657, 36739, 12678]"
      ]
     },
     "execution_count": 39,
     "metadata": {},
     "output_type": "execute_result"
    }
   ],
   "source": [
    "registros(conjunto)"
   ]
  },
  {
   "cell_type": "code",
   "execution_count": 40,
   "metadata": {
    "collapsed": false
   },
   "outputs": [
    {
     "data": {
      "text/plain": [
       "[2011, 2010, 2009, 2008, 2007]"
      ]
     },
     "execution_count": 40,
     "metadata": {},
     "output_type": "execute_result"
    }
   ],
   "source": [
    "i = 1\n",
    "years = range(year_init-year_range-i+1,year_init-i+1)[::-1]\n",
    "years"
   ]
  },
  {
   "cell_type": "code",
   "execution_count": 41,
   "metadata": {
    "collapsed": false
   },
   "outputs": [
    {
     "data": {
      "text/plain": [
       "[5645, 37007, 13190]"
      ]
     },
     "execution_count": 41,
     "metadata": {},
     "output_type": "execute_result"
    }
   ],
   "source": [
    "registros(conjunto)"
   ]
  },
  {
   "cell_type": "code",
   "execution_count": 42,
   "metadata": {
    "collapsed": false
   },
   "outputs": [
    {
     "data": {
      "text/plain": [
       "[2010, 2009, 2008, 2007, 2006]"
      ]
     },
     "execution_count": 42,
     "metadata": {},
     "output_type": "execute_result"
    }
   ],
   "source": [
    "i = 2\n",
    "years = range(year_init-year_range-i+1,year_init-i+1)[::-1]\n",
    "years"
   ]
  },
  {
   "cell_type": "code",
   "execution_count": 43,
   "metadata": {
    "collapsed": false
   },
   "outputs": [
    {
     "data": {
      "text/plain": [
       "[5683, 37029, 12963]"
      ]
     },
     "execution_count": 43,
     "metadata": {},
     "output_type": "execute_result"
    }
   ],
   "source": [
    "registros(conjunto)"
   ]
  },
  {
   "cell_type": "code",
   "execution_count": 18,
   "metadata": {
    "collapsed": true
   },
   "outputs": [],
   "source": [
    "def tabla_2_base(datos,indicadores,look_back):\n",
    "    temp_table = []\n",
    "    for i in range(look_back):      \n",
    "        temp_years = range(year_init-year_range-i+1,year_init-i+1)[::-1]\n",
    "        temp_table.append(pd.DataFrame.pivot_table(datos, values='Value', index=['CountryName', 'Year'], columns=['IndicatorCode']).loc[(paises,temp_years),indicadores].sortlevel([\"CountryName\",\"Year\"], ascending=[True,False]))\n",
    "    return pd.DataFrame(np.column_stack(temp_table))"
   ]
  },
  {
   "cell_type": "code",
   "execution_count": 19,
   "metadata": {
    "collapsed": true
   },
   "outputs": [],
   "source": [
    "def registros_2(sud_conjunto,look_back):\n",
    "    return np.sum(tabla_2_base(datos,sud_conjunto,look_back).count(axis=1))"
   ]
  },
  {
   "cell_type": "code",
   "execution_count": 44,
   "metadata": {
    "collapsed": false
   },
   "outputs": [
    {
     "name": "stdout",
     "output_type": "stream",
     "text": [
      "36739\n",
      "73746\n",
      "110775\n"
     ]
    }
   ],
   "source": [
    "print registros_2(economia,1)\n",
    "print registros_2(economia,2)\n",
    "print registros_2(economia,3)"
   ]
  },
  {
   "cell_type": "code",
   "execution_count": 21,
   "metadata": {
    "collapsed": true
   },
   "outputs": [],
   "source": [
    "def iterador_global_2(datos,paises,years,indicadores_1,indicadores_2,look_back):\n",
    "    \n",
    "    t_1 = tabla_2_base(datos,indicadores_1,look_back)\n",
    "    t_2 = tabla_base(paises,years,indicadores_2,datos)\n",
    "    \n",
    "    iterador = iter_R2_Splitter_v3(t_1,t_2)\n",
    "    \n",
    "    return iterador"
   ]
  },
  {
   "cell_type": "code",
   "execution_count": 22,
   "metadata": {
    "collapsed": true
   },
   "outputs": [],
   "source": [
    "def porcentaje_nombres(df,conjunto):\n",
    "    df_temp = np.array(df)\n",
    "    x = 0.0\n",
    "    temp = []\n",
    "    for i in range(len(df_temp)):\n",
    "        if (df_temp[i][0] > 0.9 or df_temp[i][1] > 0.9):\n",
    "            x=x+1\n",
    "            temp.append(conjunto[i])\n",
    "    porcentaje = x/len(df)\n",
    "    nombres = pd.DataFrame(datos).loc[:,['IndicatorName','IndicatorCode']].set_index('IndicatorCode').loc[temp].drop_duplicates().dropna().reset_index().drop('IndicatorCode', 1)\n",
    "    return porcentaje,nombres"
   ]
  },
  {
   "cell_type": "code",
   "execution_count": 28,
   "metadata": {
    "collapsed": false
   },
   "outputs": [
    {
     "name": "stdout",
     "output_type": "stream",
     "text": [
      "--- 84.9676170349 seconds ---\n"
     ]
    },
    {
     "data": {
      "text/html": [
       "<div>\n",
       "<table border=\"1\" class=\"dataframe\">\n",
       "  <thead>\n",
       "    <tr style=\"text-align: right;\">\n",
       "      <th></th>\n",
       "      <th>Original</th>\n",
       "      <th>Imputado</th>\n",
       "    </tr>\n",
       "  </thead>\n",
       "  <tbody>\n",
       "    <tr>\n",
       "      <th>0</th>\n",
       "      <td>-0.182226</td>\n",
       "      <td>0.783606</td>\n",
       "    </tr>\n",
       "    <tr>\n",
       "      <th>1</th>\n",
       "      <td>0.365361</td>\n",
       "      <td>0.535024</td>\n",
       "    </tr>\n",
       "    <tr>\n",
       "      <th>2</th>\n",
       "      <td>0.900448</td>\n",
       "      <td>-0.189665</td>\n",
       "    </tr>\n",
       "    <tr>\n",
       "      <th>3</th>\n",
       "      <td>0.984774</td>\n",
       "      <td>0.839974</td>\n",
       "    </tr>\n",
       "    <tr>\n",
       "      <th>4</th>\n",
       "      <td>0.995905</td>\n",
       "      <td>0.996564</td>\n",
       "    </tr>\n",
       "    <tr>\n",
       "      <th>5</th>\n",
       "      <td>1.000000</td>\n",
       "      <td>-10.204866</td>\n",
       "    </tr>\n",
       "    <tr>\n",
       "      <th>6</th>\n",
       "      <td>1.000000</td>\n",
       "      <td>-1.796436</td>\n",
       "    </tr>\n",
       "    <tr>\n",
       "      <th>7</th>\n",
       "      <td>0.980104</td>\n",
       "      <td>-0.009020</td>\n",
       "    </tr>\n",
       "    <tr>\n",
       "      <th>8</th>\n",
       "      <td>0.976563</td>\n",
       "      <td>0.814308</td>\n",
       "    </tr>\n",
       "    <tr>\n",
       "      <th>9</th>\n",
       "      <td>0.970974</td>\n",
       "      <td>0.316636</td>\n",
       "    </tr>\n",
       "    <tr>\n",
       "      <th>10</th>\n",
       "      <td>0.330165</td>\n",
       "      <td>-0.008269</td>\n",
       "    </tr>\n",
       "    <tr>\n",
       "      <th>11</th>\n",
       "      <td>0.749394</td>\n",
       "      <td>0.805756</td>\n",
       "    </tr>\n",
       "    <tr>\n",
       "      <th>12</th>\n",
       "      <td>0.768803</td>\n",
       "      <td>0.649868</td>\n",
       "    </tr>\n",
       "    <tr>\n",
       "      <th>13</th>\n",
       "      <td>0.766561</td>\n",
       "      <td>0.970804</td>\n",
       "    </tr>\n",
       "    <tr>\n",
       "      <th>14</th>\n",
       "      <td>0.805232</td>\n",
       "      <td>0.775692</td>\n",
       "    </tr>\n",
       "    <tr>\n",
       "      <th>15</th>\n",
       "      <td>0.939857</td>\n",
       "      <td>0.542412</td>\n",
       "    </tr>\n",
       "    <tr>\n",
       "      <th>16</th>\n",
       "      <td>0.000000</td>\n",
       "      <td>-0.016080</td>\n",
       "    </tr>\n",
       "    <tr>\n",
       "      <th>17</th>\n",
       "      <td>0.974134</td>\n",
       "      <td>0.876517</td>\n",
       "    </tr>\n",
       "    <tr>\n",
       "      <th>18</th>\n",
       "      <td>0.946539</td>\n",
       "      <td>0.966415</td>\n",
       "    </tr>\n",
       "    <tr>\n",
       "      <th>19</th>\n",
       "      <td>0.991381</td>\n",
       "      <td>-1.555554</td>\n",
       "    </tr>\n",
       "    <tr>\n",
       "      <th>20</th>\n",
       "      <td>0.681207</td>\n",
       "      <td>-0.009628</td>\n",
       "    </tr>\n",
       "    <tr>\n",
       "      <th>21</th>\n",
       "      <td>0.939423</td>\n",
       "      <td>0.614422</td>\n",
       "    </tr>\n",
       "    <tr>\n",
       "      <th>22</th>\n",
       "      <td>0.830990</td>\n",
       "      <td>0.866838</td>\n",
       "    </tr>\n",
       "    <tr>\n",
       "      <th>23</th>\n",
       "      <td>0.951372</td>\n",
       "      <td>0.758508</td>\n",
       "    </tr>\n",
       "    <tr>\n",
       "      <th>24</th>\n",
       "      <td>0.779772</td>\n",
       "      <td>0.264637</td>\n",
       "    </tr>\n",
       "    <tr>\n",
       "      <th>25</th>\n",
       "      <td>0.342748</td>\n",
       "      <td>0.897585</td>\n",
       "    </tr>\n",
       "    <tr>\n",
       "      <th>26</th>\n",
       "      <td>-0.722563</td>\n",
       "      <td>0.964462</td>\n",
       "    </tr>\n",
       "    <tr>\n",
       "      <th>27</th>\n",
       "      <td>-0.112369</td>\n",
       "      <td>0.999750</td>\n",
       "    </tr>\n",
       "    <tr>\n",
       "      <th>28</th>\n",
       "      <td>0.807831</td>\n",
       "      <td>0.530722</td>\n",
       "    </tr>\n",
       "    <tr>\n",
       "      <th>29</th>\n",
       "      <td>0.917221</td>\n",
       "      <td>0.782881</td>\n",
       "    </tr>\n",
       "    <tr>\n",
       "      <th>30</th>\n",
       "      <td>0.964542</td>\n",
       "      <td>0.784734</td>\n",
       "    </tr>\n",
       "    <tr>\n",
       "      <th>31</th>\n",
       "      <td>0.527189</td>\n",
       "      <td>0.124551</td>\n",
       "    </tr>\n",
       "    <tr>\n",
       "      <th>32</th>\n",
       "      <td>0.856975</td>\n",
       "      <td>0.965610</td>\n",
       "    </tr>\n",
       "    <tr>\n",
       "      <th>33</th>\n",
       "      <td>0.747000</td>\n",
       "      <td>0.876886</td>\n",
       "    </tr>\n",
       "    <tr>\n",
       "      <th>34</th>\n",
       "      <td>0.975224</td>\n",
       "      <td>0.819149</td>\n",
       "    </tr>\n",
       "    <tr>\n",
       "      <th>35</th>\n",
       "      <td>0.750732</td>\n",
       "      <td>0.985895</td>\n",
       "    </tr>\n",
       "    <tr>\n",
       "      <th>36</th>\n",
       "      <td>0.954873</td>\n",
       "      <td>0.632939</td>\n",
       "    </tr>\n",
       "    <tr>\n",
       "      <th>37</th>\n",
       "      <td>0.974934</td>\n",
       "      <td>0.998242</td>\n",
       "    </tr>\n",
       "    <tr>\n",
       "      <th>38</th>\n",
       "      <td>0.965313</td>\n",
       "      <td>-0.237611</td>\n",
       "    </tr>\n",
       "    <tr>\n",
       "      <th>39</th>\n",
       "      <td>0.988848</td>\n",
       "      <td>0.997312</td>\n",
       "    </tr>\n",
       "    <tr>\n",
       "      <th>40</th>\n",
       "      <td>0.624907</td>\n",
       "      <td>0.978950</td>\n",
       "    </tr>\n",
       "    <tr>\n",
       "      <th>41</th>\n",
       "      <td>0.993767</td>\n",
       "      <td>0.336978</td>\n",
       "    </tr>\n",
       "    <tr>\n",
       "      <th>42</th>\n",
       "      <td>0.182909</td>\n",
       "      <td>-0.683287</td>\n",
       "    </tr>\n",
       "    <tr>\n",
       "      <th>43</th>\n",
       "      <td>0.987386</td>\n",
       "      <td>0.775165</td>\n",
       "    </tr>\n",
       "  </tbody>\n",
       "</table>\n",
       "</div>"
      ],
      "text/plain": [
       "    Original   Imputado\n",
       "0  -0.182226   0.783606\n",
       "1   0.365361   0.535024\n",
       "2   0.900448  -0.189665\n",
       "3   0.984774   0.839974\n",
       "4   0.995905   0.996564\n",
       "5   1.000000 -10.204866\n",
       "6   1.000000  -1.796436\n",
       "7   0.980104  -0.009020\n",
       "8   0.976563   0.814308\n",
       "9   0.970974   0.316636\n",
       "10  0.330165  -0.008269\n",
       "11  0.749394   0.805756\n",
       "12  0.768803   0.649868\n",
       "13  0.766561   0.970804\n",
       "14  0.805232   0.775692\n",
       "15  0.939857   0.542412\n",
       "16  0.000000  -0.016080\n",
       "17  0.974134   0.876517\n",
       "18  0.946539   0.966415\n",
       "19  0.991381  -1.555554\n",
       "20  0.681207  -0.009628\n",
       "21  0.939423   0.614422\n",
       "22  0.830990   0.866838\n",
       "23  0.951372   0.758508\n",
       "24  0.779772   0.264637\n",
       "25  0.342748   0.897585\n",
       "26 -0.722563   0.964462\n",
       "27 -0.112369   0.999750\n",
       "28  0.807831   0.530722\n",
       "29  0.917221   0.782881\n",
       "30  0.964542   0.784734\n",
       "31  0.527189   0.124551\n",
       "32  0.856975   0.965610\n",
       "33  0.747000   0.876886\n",
       "34  0.975224   0.819149\n",
       "35  0.750732   0.985895\n",
       "36  0.954873   0.632939\n",
       "37  0.974934   0.998242\n",
       "38  0.965313  -0.237611\n",
       "39  0.988848   0.997312\n",
       "40  0.624907   0.978950\n",
       "41  0.993767   0.336978\n",
       "42  0.182909  -0.683287\n",
       "43  0.987386   0.775165"
      ]
     },
     "execution_count": 28,
     "metadata": {},
     "output_type": "execute_result"
    }
   ],
   "source": [
    "start_time = time.time()\n",
    "df2 = iterador_global_2(datos,paises,years,conjunto[0],conjunto[0],1)\n",
    "porcentaje,nombres = porcentaje_nombres(df2,conjunto[0])\n",
    "print(\"--- %s seconds ---\" % (time.time() - start_time))\n",
    "df2"
   ]
  },
  {
   "cell_type": "code",
   "execution_count": 29,
   "metadata": {
    "collapsed": false
   },
   "outputs": [
    {
     "data": {
      "text/plain": [
       "0.6590909090909091"
      ]
     },
     "execution_count": 29,
     "metadata": {},
     "output_type": "execute_result"
    }
   ],
   "source": [
    "porcentaje"
   ]
  },
  {
   "cell_type": "code",
   "execution_count": 35,
   "metadata": {
    "collapsed": false
   },
   "outputs": [
    {
     "data": {
      "text/plain": [
       "array([['Out-of-school children of primary school age, male (number)'],\n",
       "       [ 'Current education expenditure, primary (% of total expenditure in primary public institutions)'],\n",
       "       [ 'Current education expenditure, tertiary (% of total expenditure in tertiary public institutions)'],\n",
       "       ['Primary to secondary general education transition rate, both sexes (%)'],\n",
       "       [ 'Emigration rate of tertiary educated (% of total tertiary educated population)'],\n",
       "       ['Gross enrolment ratio, pre-primary, both sexes (%)'],\n",
       "       ['Gross enrolment ratio, pre-primary, female (%)'],\n",
       "       ['Gross enrolment ratio, secondary, both sexes (%)'],\n",
       "       ['Labor force with tertiary education, female (% of female labor force)'],\n",
       "       ['Labor force with tertiary education, male (% of male labor force)'],\n",
       "       ['Percentage of repeaters in primary education, all grades, male (%)'],\n",
       "       ['Population, ages 15-64 (% of total)']], dtype=object)"
      ]
     },
     "execution_count": 35,
     "metadata": {},
     "output_type": "execute_result"
    }
   ],
   "source": [
    "np.array(nombres)"
   ]
  },
  {
   "cell_type": "code",
   "execution_count": 32,
   "metadata": {
    "collapsed": false
   },
   "outputs": [
    {
     "name": "stdout",
     "output_type": "stream",
     "text": [
      "--- 1508.83955407 seconds ---\n"
     ]
    },
    {
     "data": {
      "text/html": [
       "<div>\n",
       "<table border=\"1\" class=\"dataframe\">\n",
       "  <thead>\n",
       "    <tr style=\"text-align: right;\">\n",
       "      <th></th>\n",
       "      <th>Base</th>\n",
       "      <th>Target</th>\n",
       "      <th>Look Back</th>\n",
       "      <th>%</th>\n",
       "      <th>Indicators &gt;90%</th>\n",
       "    </tr>\n",
       "  </thead>\n",
       "  <tbody>\n",
       "    <tr>\n",
       "      <th>0</th>\n",
       "      <td>Agricultura</td>\n",
       "      <td>Agricultura</td>\n",
       "      <td>1</td>\n",
       "      <td>0.568182</td>\n",
       "      <td>Indica...</td>\n",
       "    </tr>\n",
       "    <tr>\n",
       "      <th>1</th>\n",
       "      <td>Agricultura</td>\n",
       "      <td>Agricultura</td>\n",
       "      <td>2</td>\n",
       "      <td>0.545455</td>\n",
       "      <td>Indica...</td>\n",
       "    </tr>\n",
       "    <tr>\n",
       "      <th>2</th>\n",
       "      <td>Agricultura</td>\n",
       "      <td>Economia</td>\n",
       "      <td>1</td>\n",
       "      <td>0.436508</td>\n",
       "      <td>Indic...</td>\n",
       "    </tr>\n",
       "    <tr>\n",
       "      <th>3</th>\n",
       "      <td>Agricultura</td>\n",
       "      <td>Economia</td>\n",
       "      <td>2</td>\n",
       "      <td>0.361111</td>\n",
       "      <td>Indica...</td>\n",
       "    </tr>\n",
       "    <tr>\n",
       "      <th>4</th>\n",
       "      <td>Agricultura</td>\n",
       "      <td>Educacion</td>\n",
       "      <td>1</td>\n",
       "      <td>0.112069</td>\n",
       "      <td>Indica...</td>\n",
       "    </tr>\n",
       "    <tr>\n",
       "      <th>5</th>\n",
       "      <td>Agricultura</td>\n",
       "      <td>Educacion</td>\n",
       "      <td>2</td>\n",
       "      <td>0.112069</td>\n",
       "      <td>Indica...</td>\n",
       "    </tr>\n",
       "  </tbody>\n",
       "</table>\n",
       "</div>"
      ],
      "text/plain": [
       "          Base       Target  Look Back         %  \\\n",
       "0  Agricultura  Agricultura          1  0.568182   \n",
       "1  Agricultura  Agricultura          2  0.545455   \n",
       "2  Agricultura     Economia          1  0.436508   \n",
       "3  Agricultura     Economia          2  0.361111   \n",
       "4  Agricultura    Educacion          1  0.112069   \n",
       "5  Agricultura    Educacion          2  0.112069   \n",
       "\n",
       "                                     Indicators >90%  \n",
       "0                                          Indica...  \n",
       "1                                          Indica...  \n",
       "2                                           Indic...  \n",
       "3                                          Indica...  \n",
       "4                                          Indica...  \n",
       "5                                          Indica...  "
      ]
     },
     "execution_count": 32,
     "metadata": {},
     "output_type": "execute_result"
    }
   ],
   "source": [
    "start_time = time.time()\n",
    "resultado = []\n",
    "\n",
    "for i in range(len(conjunto)):\n",
    "    for j in range(1,look_back+1):\n",
    "        registros = registros_2(conjunto[i],j)\n",
    "        porcentaje,nombres = porcentaje_nombres(iterador_global_2(datos,paises,years,conjunto[0],conjunto[i],j),conjunto[i])\n",
    "        resultado.append([conjunto_nombre[0],conjunto_nombre[i],j,porcentaje,nombres,registros])\n",
    "\n",
    "df = pd.DataFrame(resultado, columns=[\"Base\",\"Target\",\"Look Back\",\"%\",\"Registros\",\"Indicators >90%\"])\n",
    "print(\"--- %s seconds ---\" % (time.time() - start_time))\n",
    "#pd.DataFrame.pivot_table(df, index=[\"Base\",\"Target\"], columns=[\"Look\"] )\n",
    "df"
   ]
  },
  {
   "cell_type": "code",
   "execution_count": null,
   "metadata": {
    "collapsed": true
   },
   "outputs": [],
   "source": [
    "start_time = time.time()\n",
    "resultado = []\n",
    "\n",
    "for i in range(len(conjunto)):\n",
    "    for j in range(1,look_back+1):\n",
    "        registros = registros_2(conjunto[i],j)\n",
    "        porcentaje,nombres = porcentaje_nombres(iterador_global_2(datos,paises,years,conjunto[0],conjunto[i],j),conjunto[i])\n",
    "        resultado.append([conjunto_nombre[0],conjunto_nombre[i],j,porcentaje,registros,nombres])\n",
    "\n",
    "df = pd.DataFrame(resultado, columns=[\"Base\",\"Target\",\"Look Back\",\"%\",\"Registros\",\"Indicators >90%\"])\n",
    "print(\"--- %s seconds ---\" % (time.time() - start_time))\n",
    "#pd.DataFrame.pivot_table(df, index=[\"Base\",\"Target\"], columns=[\"Look\"] )\n",
    "df"
   ]
  },
  {
   "cell_type": "code",
   "execution_count": 36,
   "metadata": {
    "collapsed": false
   },
   "outputs": [
    {
     "data": {
      "text/html": [
       "<div>\n",
       "<table border=\"1\" class=\"dataframe\">\n",
       "  <thead>\n",
       "    <tr>\n",
       "      <th></th>\n",
       "      <th></th>\n",
       "      <th colspan=\"2\" halign=\"left\">%</th>\n",
       "    </tr>\n",
       "    <tr>\n",
       "      <th></th>\n",
       "      <th>Look Back</th>\n",
       "      <th>1</th>\n",
       "      <th>2</th>\n",
       "    </tr>\n",
       "    <tr>\n",
       "      <th>Base</th>\n",
       "      <th>Target</th>\n",
       "      <th></th>\n",
       "      <th></th>\n",
       "    </tr>\n",
       "  </thead>\n",
       "  <tbody>\n",
       "    <tr>\n",
       "      <th rowspan=\"3\" valign=\"top\">Agricultura</th>\n",
       "      <th>Agricultura</th>\n",
       "      <td>0.568182</td>\n",
       "      <td>0.545455</td>\n",
       "    </tr>\n",
       "    <tr>\n",
       "      <th>Economia</th>\n",
       "      <td>0.436508</td>\n",
       "      <td>0.361111</td>\n",
       "    </tr>\n",
       "    <tr>\n",
       "      <th>Educacion</th>\n",
       "      <td>0.112069</td>\n",
       "      <td>0.112069</td>\n",
       "    </tr>\n",
       "  </tbody>\n",
       "</table>\n",
       "</div>"
      ],
      "text/plain": [
       "                                %          \n",
       "Look Back                       1         2\n",
       "Base        Target                         \n",
       "Agricultura Agricultura  0.568182  0.545455\n",
       "            Economia     0.436508  0.361111\n",
       "            Educacion    0.112069  0.112069"
      ]
     },
     "execution_count": 36,
     "metadata": {},
     "output_type": "execute_result"
    }
   ],
   "source": [
    "pd.DataFrame.pivot_table(df, index=[\"Base\",\"Target\"], columns=[\"Look Back\"] )"
   ]
  },
  {
   "cell_type": "code",
   "execution_count": 42,
   "metadata": {
    "collapsed": false
   },
   "outputs": [
    {
     "data": {
      "text/html": [
       "<div>\n",
       "<table border=\"1\" class=\"dataframe\">\n",
       "  <thead>\n",
       "    <tr style=\"text-align: right;\">\n",
       "      <th></th>\n",
       "      <th>IndicatorName</th>\n",
       "    </tr>\n",
       "  </thead>\n",
       "  <tbody>\n",
       "    <tr>\n",
       "      <th>0</th>\n",
       "      <td>Adjusted net national income per capita (annua...</td>\n",
       "    </tr>\n",
       "    <tr>\n",
       "      <th>1</th>\n",
       "      <td>Adjusted net savings, including particulate em...</td>\n",
       "    </tr>\n",
       "    <tr>\n",
       "      <th>2</th>\n",
       "      <td>Adjusted net savings, including particulate em...</td>\n",
       "    </tr>\n",
       "    <tr>\n",
       "      <th>3</th>\n",
       "      <td>Adjusted savings: carbon dioxide damage (curre...</td>\n",
       "    </tr>\n",
       "    <tr>\n",
       "      <th>4</th>\n",
       "      <td>Adjusted savings: consumption of fixed capital...</td>\n",
       "    </tr>\n",
       "    <tr>\n",
       "      <th>5</th>\n",
       "      <td>Adjusted savings: energy depletion (current US$)</td>\n",
       "    </tr>\n",
       "    <tr>\n",
       "      <th>6</th>\n",
       "      <td>Adjusted savings: gross savings (% of GNI)</td>\n",
       "    </tr>\n",
       "    <tr>\n",
       "      <th>7</th>\n",
       "      <td>Adjusted savings: particulate emission damage ...</td>\n",
       "    </tr>\n",
       "    <tr>\n",
       "      <th>8</th>\n",
       "      <td>Agriculture, value added (% of GDP)</td>\n",
       "    </tr>\n",
       "    <tr>\n",
       "      <th>9</th>\n",
       "      <td>Agriculture, value added (annual % growth)</td>\n",
       "    </tr>\n",
       "    <tr>\n",
       "      <th>10</th>\n",
       "      <td>Changes in inventories (current LCU)</td>\n",
       "    </tr>\n",
       "    <tr>\n",
       "      <th>11</th>\n",
       "      <td>Discrepancy in expenditure estimate of GDP (co...</td>\n",
       "    </tr>\n",
       "    <tr>\n",
       "      <th>12</th>\n",
       "      <td>Discrepancy in expenditure estimate of GDP (cu...</td>\n",
       "    </tr>\n",
       "    <tr>\n",
       "      <th>13</th>\n",
       "      <td>Exports as a capacity to import (constant LCU)</td>\n",
       "    </tr>\n",
       "    <tr>\n",
       "      <th>14</th>\n",
       "      <td>Exports of goods and services (BoP, current US$)</td>\n",
       "    </tr>\n",
       "    <tr>\n",
       "      <th>15</th>\n",
       "      <td>Exports of goods and services (annual % growth)</td>\n",
       "    </tr>\n",
       "    <tr>\n",
       "      <th>16</th>\n",
       "      <td>Exports of goods and services (current LCU)</td>\n",
       "    </tr>\n",
       "    <tr>\n",
       "      <th>17</th>\n",
       "      <td>External balance on goods and services (consta...</td>\n",
       "    </tr>\n",
       "    <tr>\n",
       "      <th>18</th>\n",
       "      <td>External balance on goods and services (curren...</td>\n",
       "    </tr>\n",
       "    <tr>\n",
       "      <th>19</th>\n",
       "      <td>External debt stocks (% of GNI)</td>\n",
       "    </tr>\n",
       "    <tr>\n",
       "      <th>20</th>\n",
       "      <td>External debt stocks (% of exports of goods, s...</td>\n",
       "    </tr>\n",
       "    <tr>\n",
       "      <th>21</th>\n",
       "      <td>Final consumption expenditure (constant 2005 US$)</td>\n",
       "    </tr>\n",
       "    <tr>\n",
       "      <th>22</th>\n",
       "      <td>Final consumption expenditure (current LCU)</td>\n",
       "    </tr>\n",
       "    <tr>\n",
       "      <th>23</th>\n",
       "      <td>Final consumption expenditure, etc. (annual % ...</td>\n",
       "    </tr>\n",
       "    <tr>\n",
       "      <th>24</th>\n",
       "      <td>Final consumption expenditure, etc. (constant ...</td>\n",
       "    </tr>\n",
       "    <tr>\n",
       "      <th>25</th>\n",
       "      <td>Final consumption expenditure, etc. (constant ...</td>\n",
       "    </tr>\n",
       "    <tr>\n",
       "      <th>26</th>\n",
       "      <td>Foreign direct investment, net inflows (% of GDP)</td>\n",
       "    </tr>\n",
       "    <tr>\n",
       "      <th>27</th>\n",
       "      <td>Foreign direct investment, net inflows (BoP, c...</td>\n",
       "    </tr>\n",
       "    <tr>\n",
       "      <th>28</th>\n",
       "      <td>GDP at market prices (current US$)</td>\n",
       "    </tr>\n",
       "    <tr>\n",
       "      <th>29</th>\n",
       "      <td>GDP at market prices (constant 2005 US$)</td>\n",
       "    </tr>\n",
       "    <tr>\n",
       "      <th>...</th>\n",
       "      <td>...</td>\n",
       "    </tr>\n",
       "    <tr>\n",
       "      <th>79</th>\n",
       "      <td>Imports of goods and services (% of GDP)</td>\n",
       "    </tr>\n",
       "    <tr>\n",
       "      <th>80</th>\n",
       "      <td>Imports of goods and services (annual % growth)</td>\n",
       "    </tr>\n",
       "    <tr>\n",
       "      <th>81</th>\n",
       "      <td>Imports of goods and services (constant 2005 US$)</td>\n",
       "    </tr>\n",
       "    <tr>\n",
       "      <th>82</th>\n",
       "      <td>Imports of goods and services (constant LCU)</td>\n",
       "    </tr>\n",
       "    <tr>\n",
       "      <th>83</th>\n",
       "      <td>Imports of goods and services (current US$)</td>\n",
       "    </tr>\n",
       "    <tr>\n",
       "      <th>84</th>\n",
       "      <td>Imports of goods, services and primary income ...</td>\n",
       "    </tr>\n",
       "    <tr>\n",
       "      <th>85</th>\n",
       "      <td>Industry, value added (% of GDP)</td>\n",
       "    </tr>\n",
       "    <tr>\n",
       "      <th>86</th>\n",
       "      <td>Industry, value added (annual % growth)</td>\n",
       "    </tr>\n",
       "    <tr>\n",
       "      <th>87</th>\n",
       "      <td>Inflation, GDP deflator (annual %)</td>\n",
       "    </tr>\n",
       "    <tr>\n",
       "      <th>88</th>\n",
       "      <td>Insurance and financial services (% of service...</td>\n",
       "    </tr>\n",
       "    <tr>\n",
       "      <th>89</th>\n",
       "      <td>Interest payments on external debt (% of expor...</td>\n",
       "    </tr>\n",
       "    <tr>\n",
       "      <th>90</th>\n",
       "      <td>Manufacturing, value added (% of GDP)</td>\n",
       "    </tr>\n",
       "    <tr>\n",
       "      <th>91</th>\n",
       "      <td>Manufacturing, value added (annual % growth)</td>\n",
       "    </tr>\n",
       "    <tr>\n",
       "      <th>92</th>\n",
       "      <td>Net ODA received (% of GNI)</td>\n",
       "    </tr>\n",
       "    <tr>\n",
       "      <th>93</th>\n",
       "      <td>Net ODA received per capita (current US$)</td>\n",
       "    </tr>\n",
       "    <tr>\n",
       "      <th>94</th>\n",
       "      <td>Net current transfers from abroad (current US$)</td>\n",
       "    </tr>\n",
       "    <tr>\n",
       "      <th>95</th>\n",
       "      <td>Net income from abroad (current LCU)</td>\n",
       "    </tr>\n",
       "    <tr>\n",
       "      <th>96</th>\n",
       "      <td>Net income from abroad (current US$)</td>\n",
       "    </tr>\n",
       "    <tr>\n",
       "      <th>97</th>\n",
       "      <td>Net official development assistance received (...</td>\n",
       "    </tr>\n",
       "    <tr>\n",
       "      <th>98</th>\n",
       "      <td>PPP conversion factor, GDP (LCU per internatio...</td>\n",
       "    </tr>\n",
       "    <tr>\n",
       "      <th>99</th>\n",
       "      <td>Present value of external debt (% of exports o...</td>\n",
       "    </tr>\n",
       "    <tr>\n",
       "      <th>100</th>\n",
       "      <td>Price level ratio of PPP conversion factor (GD...</td>\n",
       "    </tr>\n",
       "    <tr>\n",
       "      <th>101</th>\n",
       "      <td>Primary income payments (BoP, current US$)</td>\n",
       "    </tr>\n",
       "    <tr>\n",
       "      <th>102</th>\n",
       "      <td>Reserves and related items (BoP, current US$)</td>\n",
       "    </tr>\n",
       "    <tr>\n",
       "      <th>103</th>\n",
       "      <td>Revenue, excluding grants (% of GDP)</td>\n",
       "    </tr>\n",
       "    <tr>\n",
       "      <th>104</th>\n",
       "      <td>Secondary income receipts (BoP, current US$)</td>\n",
       "    </tr>\n",
       "    <tr>\n",
       "      <th>105</th>\n",
       "      <td>Secondary income, other sectors, payments (BoP...</td>\n",
       "    </tr>\n",
       "    <tr>\n",
       "      <th>106</th>\n",
       "      <td>Short-term debt (% of exports of goods, servic...</td>\n",
       "    </tr>\n",
       "    <tr>\n",
       "      <th>107</th>\n",
       "      <td>Technical cooperation grants (BoP, current US$)</td>\n",
       "    </tr>\n",
       "    <tr>\n",
       "      <th>108</th>\n",
       "      <td>Total debt service (% of GNI)</td>\n",
       "    </tr>\n",
       "  </tbody>\n",
       "</table>\n",
       "<p>109 rows × 1 columns</p>\n",
       "</div>"
      ],
      "text/plain": [
       "                                         IndicatorName\n",
       "0    Adjusted net national income per capita (annua...\n",
       "1    Adjusted net savings, including particulate em...\n",
       "2    Adjusted net savings, including particulate em...\n",
       "3    Adjusted savings: carbon dioxide damage (curre...\n",
       "4    Adjusted savings: consumption of fixed capital...\n",
       "5     Adjusted savings: energy depletion (current US$)\n",
       "6           Adjusted savings: gross savings (% of GNI)\n",
       "7    Adjusted savings: particulate emission damage ...\n",
       "8                  Agriculture, value added (% of GDP)\n",
       "9           Agriculture, value added (annual % growth)\n",
       "10                Changes in inventories (current LCU)\n",
       "11   Discrepancy in expenditure estimate of GDP (co...\n",
       "12   Discrepancy in expenditure estimate of GDP (cu...\n",
       "13      Exports as a capacity to import (constant LCU)\n",
       "14    Exports of goods and services (BoP, current US$)\n",
       "15     Exports of goods and services (annual % growth)\n",
       "16         Exports of goods and services (current LCU)\n",
       "17   External balance on goods and services (consta...\n",
       "18   External balance on goods and services (curren...\n",
       "19                     External debt stocks (% of GNI)\n",
       "20   External debt stocks (% of exports of goods, s...\n",
       "21   Final consumption expenditure (constant 2005 US$)\n",
       "22         Final consumption expenditure (current LCU)\n",
       "23   Final consumption expenditure, etc. (annual % ...\n",
       "24   Final consumption expenditure, etc. (constant ...\n",
       "25   Final consumption expenditure, etc. (constant ...\n",
       "26   Foreign direct investment, net inflows (% of GDP)\n",
       "27   Foreign direct investment, net inflows (BoP, c...\n",
       "28                  GDP at market prices (current US$)\n",
       "29            GDP at market prices (constant 2005 US$)\n",
       "..                                                 ...\n",
       "79            Imports of goods and services (% of GDP)\n",
       "80     Imports of goods and services (annual % growth)\n",
       "81   Imports of goods and services (constant 2005 US$)\n",
       "82        Imports of goods and services (constant LCU)\n",
       "83         Imports of goods and services (current US$)\n",
       "84   Imports of goods, services and primary income ...\n",
       "85                    Industry, value added (% of GDP)\n",
       "86             Industry, value added (annual % growth)\n",
       "87                  Inflation, GDP deflator (annual %)\n",
       "88   Insurance and financial services (% of service...\n",
       "89   Interest payments on external debt (% of expor...\n",
       "90               Manufacturing, value added (% of GDP)\n",
       "91        Manufacturing, value added (annual % growth)\n",
       "92                         Net ODA received (% of GNI)\n",
       "93           Net ODA received per capita (current US$)\n",
       "94     Net current transfers from abroad (current US$)\n",
       "95                Net income from abroad (current LCU)\n",
       "96                Net income from abroad (current US$)\n",
       "97   Net official development assistance received (...\n",
       "98   PPP conversion factor, GDP (LCU per internatio...\n",
       "99   Present value of external debt (% of exports o...\n",
       "100  Price level ratio of PPP conversion factor (GD...\n",
       "101         Primary income payments (BoP, current US$)\n",
       "102      Reserves and related items (BoP, current US$)\n",
       "103               Revenue, excluding grants (% of GDP)\n",
       "104       Secondary income receipts (BoP, current US$)\n",
       "105  Secondary income, other sectors, payments (BoP...\n",
       "106  Short-term debt (% of exports of goods, servic...\n",
       "107    Technical cooperation grants (BoP, current US$)\n",
       "108                      Total debt service (% of GNI)\n",
       "\n",
       "[109 rows x 1 columns]"
      ]
     },
     "execution_count": 42,
     "metadata": {},
     "output_type": "execute_result"
    }
   ],
   "source": [
    "df['Indicators >90%'][2]"
   ]
  },
  {
   "cell_type": "markdown",
   "metadata": {},
   "source": [
    "## Combinamos el Primer Conjunto de Indicadores"
   ]
  },
  {
   "cell_type": "markdown",
   "metadata": {},
   "source": [
    "Calculamos el % de indicadores cuyo porcentaje de predicción es mayor a 90% (Original | Imputado)"
   ]
  },
  {
   "cell_type": "code",
   "execution_count": 47,
   "metadata": {
    "collapsed": false,
    "scrolled": true
   },
   "outputs": [
    {
     "name": "stdout",
     "output_type": "stream",
     "text": [
      "--- 865.131000042 seconds ---\n"
     ]
    },
    {
     "data": {
      "text/html": [
       "<div>\n",
       "<table border=\"1\" class=\"dataframe\">\n",
       "  <thead>\n",
       "    <tr style=\"text-align: right;\">\n",
       "      <th></th>\n",
       "      <th>Base</th>\n",
       "      <th>Target</th>\n",
       "      <th>% &gt; 90%</th>\n",
       "    </tr>\n",
       "  </thead>\n",
       "  <tbody>\n",
       "    <tr>\n",
       "      <th>0</th>\n",
       "      <td>Agricultura</td>\n",
       "      <td>Agricultura</td>\n",
       "      <td>0.409091</td>\n",
       "    </tr>\n",
       "    <tr>\n",
       "      <th>1</th>\n",
       "      <td>Agricultura</td>\n",
       "      <td>Economia</td>\n",
       "      <td>0.420635</td>\n",
       "    </tr>\n",
       "    <tr>\n",
       "      <th>2</th>\n",
       "      <td>Agricultura</td>\n",
       "      <td>Educacion</td>\n",
       "      <td>0.137931</td>\n",
       "    </tr>\n",
       "  </tbody>\n",
       "</table>\n",
       "</div>"
      ],
      "text/plain": [
       "          Base       Target   % > 90%\n",
       "0  Agricultura  Agricultura  0.409091\n",
       "1  Agricultura     Economia  0.420635\n",
       "2  Agricultura    Educacion  0.137931"
      ]
     },
     "execution_count": 47,
     "metadata": {},
     "output_type": "execute_result"
    }
   ],
   "source": [
    "start_time = time.time()\n",
    "resultado = []\n",
    "\n",
    "for i in range(len(conjunto)):\n",
    "    for j in range(1,look_back+1):\n",
    "        porcentaje,nombres = porcentaje_nombres(iterador_global_2(datos,paises,years,conjunto[0],conjunto[i],j),conjunto[i])\n",
    "        resultado.append([conjunto_nombre[0],conjunto_nombre[i],j,porcentaje,nombres])\n",
    "\n",
    "df = pd.DataFrame(resultado, columns=[\"Base\",\"Target\",\"Look\",\"Result\"])\n",
    "print(\"--- %s seconds ---\" % (time.time() - start_time))\n",
    "pd.DataFrame.pivot_table(df, index=[\"Base\",\"Target\"], columns=[\"Look\"] )"
   ]
  },
  {
   "cell_type": "code",
   "execution_count": 31,
   "metadata": {
    "collapsed": false
   },
   "outputs": [
    {
     "data": {
      "text/html": [
       "<div>\n",
       "<table border=\"1\" class=\"dataframe\">\n",
       "  <thead>\n",
       "    <tr style=\"text-align: right;\">\n",
       "      <th></th>\n",
       "      <th>Base</th>\n",
       "      <th>Target</th>\n",
       "      <th>Look</th>\n",
       "      <th>Result</th>\n",
       "    </tr>\n",
       "  </thead>\n",
       "  <tbody>\n",
       "    <tr>\n",
       "      <th>0</th>\n",
       "      <td>Agricultura</td>\n",
       "      <td>Agricultura</td>\n",
       "      <td>1</td>\n",
       "      <td>0.568182</td>\n",
       "    </tr>\n",
       "    <tr>\n",
       "      <th>1</th>\n",
       "      <td>Agricultura</td>\n",
       "      <td>Agricultura</td>\n",
       "      <td>2</td>\n",
       "      <td>0.477273</td>\n",
       "    </tr>\n",
       "    <tr>\n",
       "      <th>2</th>\n",
       "      <td>Agricultura</td>\n",
       "      <td>Economia</td>\n",
       "      <td>1</td>\n",
       "      <td>0.543651</td>\n",
       "    </tr>\n",
       "    <tr>\n",
       "      <th>3</th>\n",
       "      <td>Agricultura</td>\n",
       "      <td>Economia</td>\n",
       "      <td>2</td>\n",
       "      <td>0.456349</td>\n",
       "    </tr>\n",
       "    <tr>\n",
       "      <th>4</th>\n",
       "      <td>Agricultura</td>\n",
       "      <td>Educacion</td>\n",
       "      <td>1</td>\n",
       "      <td>0.094828</td>\n",
       "    </tr>\n",
       "    <tr>\n",
       "      <th>5</th>\n",
       "      <td>Agricultura</td>\n",
       "      <td>Educacion</td>\n",
       "      <td>2</td>\n",
       "      <td>0.103448</td>\n",
       "    </tr>\n",
       "  </tbody>\n",
       "</table>\n",
       "</div>"
      ],
      "text/plain": [
       "          Base       Target  Look    Result\n",
       "0  Agricultura  Agricultura     1  0.568182\n",
       "1  Agricultura  Agricultura     2  0.477273\n",
       "2  Agricultura     Economia     1  0.543651\n",
       "3  Agricultura     Economia     2  0.456349\n",
       "4  Agricultura    Educacion     1  0.094828\n",
       "5  Agricultura    Educacion     2  0.103448"
      ]
     },
     "execution_count": 31,
     "metadata": {},
     "output_type": "execute_result"
    }
   ],
   "source": [
    "df"
   ]
  },
  {
   "cell_type": "code",
   "execution_count": null,
   "metadata": {
    "collapsed": true
   },
   "outputs": [],
   "source": []
  },
  {
   "cell_type": "markdown",
   "metadata": {},
   "source": [
    "## Iteramos todas las Combinaciones Posibles de los Conjuntos de Indicadores datos"
   ]
  },
  {
   "cell_type": "code",
   "execution_count": 52,
   "metadata": {
    "collapsed": false
   },
   "outputs": [
    {
     "name": "stdout",
     "output_type": "stream",
     "text": [
      "--- 5470.90799999 seconds ---\n"
     ]
    },
    {
     "data": {
      "text/html": [
       "<div>\n",
       "<table border=\"1\" class=\"dataframe\">\n",
       "  <thead>\n",
       "    <tr style=\"text-align: right;\">\n",
       "      <th></th>\n",
       "      <th>Base</th>\n",
       "      <th>Target</th>\n",
       "      <th>% &gt; 90%</th>\n",
       "    </tr>\n",
       "  </thead>\n",
       "  <tbody>\n",
       "    <tr>\n",
       "      <th>0</th>\n",
       "      <td>Agricultura</td>\n",
       "      <td>Agricultura</td>\n",
       "      <td>0.522727</td>\n",
       "    </tr>\n",
       "    <tr>\n",
       "      <th>1</th>\n",
       "      <td>Agricultura</td>\n",
       "      <td>Economia</td>\n",
       "      <td>0.412698</td>\n",
       "    </tr>\n",
       "    <tr>\n",
       "      <th>2</th>\n",
       "      <td>Agricultura</td>\n",
       "      <td>Educacion</td>\n",
       "      <td>0.112069</td>\n",
       "    </tr>\n",
       "    <tr>\n",
       "      <th>3</th>\n",
       "      <td>Economia</td>\n",
       "      <td>Agricultura</td>\n",
       "      <td>0.113636</td>\n",
       "    </tr>\n",
       "    <tr>\n",
       "      <th>4</th>\n",
       "      <td>Economia</td>\n",
       "      <td>Economia</td>\n",
       "      <td>0.428571</td>\n",
       "    </tr>\n",
       "    <tr>\n",
       "      <th>5</th>\n",
       "      <td>Economia</td>\n",
       "      <td>Educacion</td>\n",
       "      <td>0.086207</td>\n",
       "    </tr>\n",
       "    <tr>\n",
       "      <th>6</th>\n",
       "      <td>Educacion</td>\n",
       "      <td>Agricultura</td>\n",
       "      <td>0.159091</td>\n",
       "    </tr>\n",
       "    <tr>\n",
       "      <th>7</th>\n",
       "      <td>Educacion</td>\n",
       "      <td>Economia</td>\n",
       "      <td>0.230159</td>\n",
       "    </tr>\n",
       "    <tr>\n",
       "      <th>8</th>\n",
       "      <td>Educacion</td>\n",
       "      <td>Educacion</td>\n",
       "      <td>0.284483</td>\n",
       "    </tr>\n",
       "  </tbody>\n",
       "</table>\n",
       "</div>"
      ],
      "text/plain": [
       "          Base       Target   % > 90%\n",
       "0  Agricultura  Agricultura  0.522727\n",
       "1  Agricultura     Economia  0.412698\n",
       "2  Agricultura    Educacion  0.112069\n",
       "3     Economia  Agricultura  0.113636\n",
       "4     Economia     Economia  0.428571\n",
       "5     Economia    Educacion  0.086207\n",
       "6    Educacion  Agricultura  0.159091\n",
       "7    Educacion     Economia  0.230159\n",
       "8    Educacion    Educacion  0.284483"
      ]
     },
     "execution_count": 52,
     "metadata": {},
     "output_type": "execute_result"
    }
   ],
   "source": [
    "start_time = time.time()\n",
    "\n",
    "resultado = []\n",
    "for i in range(len(conjunto)):\n",
    "    for j in range(len(conjunto)):\n",
    "        resultado.append([conjunto_nombre[i],conjunto_nombre[j],porcentaje(iterador_global_2(datos,paises,years,conjunto[i],conjunto[j],look_back))])\n",
    "        \n",
    "print(\"--- %s seconds ---\" % (time.time() - start_time))\n",
    "pd.DataFrame(resultado, columns=[\"Base\",\"Target\",\"% > 90%\"])"
   ]
  }
 ],
 "metadata": {
  "anaconda-cloud": {},
  "kernelspec": {
   "display_name": "Python 2",
   "language": "python",
   "name": "python2"
  },
  "language_info": {
   "codemirror_mode": {
    "name": "ipython",
    "version": 2
   },
   "file_extension": ".py",
   "mimetype": "text/x-python",
   "name": "python",
   "nbconvert_exporter": "python",
   "pygments_lexer": "ipython2",
   "version": "2.7.13"
  }
 },
 "nbformat": 4,
 "nbformat_minor": 1
}
