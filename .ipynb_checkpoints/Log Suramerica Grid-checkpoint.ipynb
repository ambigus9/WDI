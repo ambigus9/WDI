{
 "cells": [
  {
   "cell_type": "code",
   "execution_count": 56,
   "metadata": {
    "collapsed": false
   },
   "outputs": [
    {
     "data": {
      "text/html": [
       "<div>\n",
       "<table border=\"1\" class=\"dataframe\">\n",
       "  <thead>\n",
       "    <tr style=\"text-align: right;\">\n",
       "      <th></th>\n",
       "      <th>Base</th>\n",
       "      <th>Target</th>\n",
       "      <th>Look Back</th>\n",
       "      <th>Estimator</th>\n",
       "      <th>%</th>\n",
       "      <th>Time</th>\n",
       "      <th>Indicators &gt;90%</th>\n",
       "      <th>Resultados</th>\n",
       "    </tr>\n",
       "  </thead>\n",
       "  <tbody>\n",
       "    <tr>\n",
       "      <th>0</th>\n",
       "      <td>Agricultura</td>\n",
       "      <td>Agricultura</td>\n",
       "      <td>1</td>\n",
       "      <td>Decission Tree Regressor</td>\n",
       "      <td>0.545455</td>\n",
       "      <td>323.583999872 s</td>\n",
       "      <td>Indica...</td>\n",
       "      <td>[[0.06979433157623105, -1.1571268594514761], [...</td>\n",
       "    </tr>\n",
       "  </tbody>\n",
       "</table>\n",
       "</div>"
      ],
      "text/plain": [
       "          Base       Target  Look Back                 Estimator         %  \\\n",
       "0  Agricultura  Agricultura          1  Decission Tree Regressor  0.545455   \n",
       "\n",
       "              Time                                    Indicators >90%  \\\n",
       "0  323.583999872 s                                          Indica...   \n",
       "\n",
       "                                          Resultados  \n",
       "0  [[0.06979433157623105, -1.1571268594514761], [...  "
      ]
     },
     "execution_count": 56,
     "metadata": {},
     "output_type": "execute_result"
    }
   ],
   "source": [
    "import numpy as np\n",
    "import pandas as pd\n",
    "import matplotlib.pyplot as plt\n",
    "import time\n",
    "\n",
    "log = pd.read_csv(\"log.csv\").drop('Unnamed: 0', 1)\n",
    "log.head()"
   ]
  }
 ],
 "metadata": {
  "kernelspec": {
   "display_name": "Python 2",
   "language": "python",
   "name": "python2"
  },
  "language_info": {
   "codemirror_mode": {
    "name": "ipython",
    "version": 2
   },
   "file_extension": ".py",
   "mimetype": "text/x-python",
   "name": "python",
   "nbconvert_exporter": "python",
   "pygments_lexer": "ipython2",
   "version": "2.7.13"
  }
 },
 "nbformat": 4,
 "nbformat_minor": 2
}
