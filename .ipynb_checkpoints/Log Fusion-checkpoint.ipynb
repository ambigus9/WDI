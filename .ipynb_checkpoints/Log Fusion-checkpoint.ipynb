{
 "cells": [
  {
   "cell_type": "code",
   "execution_count": null,
   "metadata": {
    "collapsed": true
   },
   "outputs": [],
   "source": [
    "import pandas as pd\n",
    "\n",
    "df0 = pd.read_csv(\"suramerica_random_log.csv\").drop(['Unnamed: 0'], 1)\n",
    "df1 = pd.read_csv(\"suramerica_random_log_1.csv\").drop(['Unnamed: 0'], 1)\n",
    "df2 = pd.read_csv(\"suramerica_random_log_2.csv\").drop(['Unnamed: 0'], 1)\n",
    "df2 = df2.drop(df2.index[[357]])\n",
    "df3 = pd.read_csv(\"suramerica_random_log_3.csv\").drop(['Unnamed: 0'], 1)\n",
    "df4 = pd.read_csv(\"suramerica_random_log_4.csv\").drop(['Unnamed: 0'], 1)\n",
    "\n",
    "df = pd.concat([df0,df1,df2,df3,df4], ignore_index=True)\n",
    "\n",
    "df.to_csv('suramerica_results_random.csv')\n",
    "\n",
    "dfa = pd.read_csv(\"suramerica_grid_log.csv\").drop(['Unnamed: 0'], 1)\n",
    "dfb = pd.read_csv(\"suramerica_grid_logb.csv\").drop(['Unnamed: 0'], 1)\n",
    "dfc = pd.read_csv(\"suramerica_grid_logc.csv\").drop(['Unnamed: 0'], 1)\n",
    "dfd = pd.read_csv(\"suramerica_grid_logd.csv\").drop(['Unnamed: 0'], 1)\n",
    "df  = pd.concat([dfa,dfb,dfc,dfd], ignore_index=True)\n",
    "\n",
    "df.to_csv('suramerica_results_grid.csv')"
   ]
  }
 ],
 "metadata": {
  "kernelspec": {
   "display_name": "Python 2",
   "language": "python",
   "name": "python2"
  },
  "language_info": {
   "codemirror_mode": {
    "name": "ipython",
    "version": 2
   },
   "file_extension": ".py",
   "mimetype": "text/x-python",
   "name": "python",
   "nbconvert_exporter": "python",
   "pygments_lexer": "ipython2",
   "version": "2.7.13"
  }
 },
 "nbformat": 4,
 "nbformat_minor": 2
}
