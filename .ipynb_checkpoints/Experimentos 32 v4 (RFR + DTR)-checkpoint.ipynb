{
 "cells": [
  {
   "cell_type": "markdown",
   "metadata": {},
   "source": [
    "## World Development Indicators - Analytics"
   ]
  },
  {
   "cell_type": "code",
   "execution_count": 6,
   "metadata": {
    "collapsed": false
   },
   "outputs": [
    {
     "data": {
      "text/html": [
       "<div>\n",
       "<table border=\"1\" class=\"dataframe\">\n",
       "  <thead>\n",
       "    <tr style=\"text-align: right;\">\n",
       "      <th></th>\n",
       "      <th>CountryName</th>\n",
       "      <th>CountryCode</th>\n",
       "      <th>IndicatorName</th>\n",
       "      <th>IndicatorCode</th>\n",
       "      <th>Year</th>\n",
       "      <th>Value</th>\n",
       "    </tr>\n",
       "  </thead>\n",
       "  <tbody>\n",
       "    <tr>\n",
       "      <th>0</th>\n",
       "      <td>Antigua and Barbuda</td>\n",
       "      <td>ATG</td>\n",
       "      <td>Adolescent fertility rate (births per 1,000 wo...</td>\n",
       "      <td>SP.ADO.TFRT</td>\n",
       "      <td>1960</td>\n",
       "      <td>126.144000</td>\n",
       "    </tr>\n",
       "    <tr>\n",
       "      <th>1</th>\n",
       "      <td>Antigua and Barbuda</td>\n",
       "      <td>ATG</td>\n",
       "      <td>Age dependency ratio (% of working-age populat...</td>\n",
       "      <td>SP.POP.DPND</td>\n",
       "      <td>1960</td>\n",
       "      <td>88.237117</td>\n",
       "    </tr>\n",
       "    <tr>\n",
       "      <th>2</th>\n",
       "      <td>Antigua and Barbuda</td>\n",
       "      <td>ATG</td>\n",
       "      <td>Age dependency ratio, old (% of working-age po...</td>\n",
       "      <td>SP.POP.DPND.OL</td>\n",
       "      <td>1960</td>\n",
       "      <td>7.779958</td>\n",
       "    </tr>\n",
       "    <tr>\n",
       "      <th>3</th>\n",
       "      <td>Antigua and Barbuda</td>\n",
       "      <td>ATG</td>\n",
       "      <td>Age dependency ratio, young (% of working-age ...</td>\n",
       "      <td>SP.POP.DPND.YG</td>\n",
       "      <td>1960</td>\n",
       "      <td>80.457159</td>\n",
       "    </tr>\n",
       "    <tr>\n",
       "      <th>4</th>\n",
       "      <td>Antigua and Barbuda</td>\n",
       "      <td>ATG</td>\n",
       "      <td>Birth rate, crude (per 1,000 people)</td>\n",
       "      <td>SP.DYN.CBRT.IN</td>\n",
       "      <td>1960</td>\n",
       "      <td>32.920000</td>\n",
       "    </tr>\n",
       "  </tbody>\n",
       "</table>\n",
       "</div>"
      ],
      "text/plain": [
       "           CountryName CountryCode  \\\n",
       "0  Antigua and Barbuda         ATG   \n",
       "1  Antigua and Barbuda         ATG   \n",
       "2  Antigua and Barbuda         ATG   \n",
       "3  Antigua and Barbuda         ATG   \n",
       "4  Antigua and Barbuda         ATG   \n",
       "\n",
       "                                       IndicatorName   IndicatorCode  Year  \\\n",
       "0  Adolescent fertility rate (births per 1,000 wo...     SP.ADO.TFRT  1960   \n",
       "1  Age dependency ratio (% of working-age populat...     SP.POP.DPND  1960   \n",
       "2  Age dependency ratio, old (% of working-age po...  SP.POP.DPND.OL  1960   \n",
       "3  Age dependency ratio, young (% of working-age ...  SP.POP.DPND.YG  1960   \n",
       "4               Birth rate, crude (per 1,000 people)  SP.DYN.CBRT.IN  1960   \n",
       "\n",
       "        Value  \n",
       "0  126.144000  \n",
       "1   88.237117  \n",
       "2    7.779958  \n",
       "3   80.457159  \n",
       "4   32.920000  "
      ]
     },
     "execution_count": 6,
     "metadata": {},
     "output_type": "execute_result"
    }
   ],
   "source": [
    "import numpy as np\n",
    "import pandas as pd\n",
    "import matplotlib.pyplot as plt\n",
    "import time\n",
    "\n",
    "datos = pd.read_csv(\"suramerica.csv\").drop('Unnamed: 0', 1)\n",
    "datos.head()"
   ]
  },
  {
   "cell_type": "code",
   "execution_count": 7,
   "metadata": {
    "collapsed": false
   },
   "outputs": [],
   "source": [
    "estimadores = ['DTR','RFR']\n",
    "estimadores_nombres = ['Decission Tree Regressor','Random Forest Regressor']\n",
    "\n",
    "paises = ['Antigua and Barbuda','Argentina','Aruba','Bahamas, The','Barbados','Belize','Bolivia','Brazil','Cayman Islands','Chile','Colombia','Costa Rica','Cuba','Curacao','Dominica','Dominican Republic','Ecuador','El Salvador','Grenada','Guatemala','Guyana','Haiti','Honduras','Jamaica','Mexico','Nicaragua','Panama','Paraguay','Peru','Puerto Rico','Sint Maarten (Dutch part)','St. Kitts and Nevis','St. Lucia','St. Martin (French part)','St. Vincent and the Grenadines','Suriname','Trinidad and Tobago','Turks and Caicos Islands','Uruguay','Venezuela, RB','Virgin Islands (U.S.)']\n",
    "\n",
    "year_init = 2012\n",
    "year_range = 5\n",
    "look_back = 1\n",
    "years = range(year_init-year_range+1,year_init+1)[::-1]\n",
    "\n",
    "agricultura = ['EG.ELC.ACCS.RU.ZS','EG.NSF.ACCS.RU.ZS','AG.LND.IRIG.AG.ZS','AG.LND.AGRI.ZS','AG.LND.AGRI.K2','AG.AGR.TRAC.NO','AG.LND.TRAC.ZS','EN.ATM.METH.AG.ZS','EN.ATM.METH.AG.KT.CE','EN.ATM.NOXE.AG.ZS','EN.ATM.NOXE.AG.KT.CE','TX.VAL.AGRI.ZS.UN','TM.VAL.AGRI.ZS.UN','EA.PRD.AGRI.KD','NV.AGR.TOTL.ZS','NV.AGR.TOTL.CD','ER.H2O.FWAG.ZS','AG.LND.ARBL.ZS','AG.LND.ARBL.HA.PC','AG.LND.ARBL.HA','AG.LND.PRCP.MM','AG.PRD.CREL.MT','AG.YLD.CREL.KG','AG.PRD.CROP.XD','SL.AGR.EMPL.ZS','SL.AGR.EMPL.FE.ZS','SL.AGR.EMPL.MA.ZS','AG.CON.FERT.PT.ZS','AG.CON.FERT.ZS','AG.PRD.FOOD.XD','AG.LND.FRST.ZS','AG.LND.FRST.K2','SH.STA.ACSN.RU','SH.H2O.SAFE.RU.ZS','AG.LND.TOTL.K2','AG.LND.CREL.HA','AG.PRD.LVSK.XD','AG.LND.CROP.ZS','AG.LND.TOTL.RU.K2','AG.LND.EL5M.RU.ZS','AG.LND.EL5M.RU.K2','SP.RUR.TOTL','SP.RUR.TOTL.ZS','SP.RUR.TOTL.ZG','EN.POP.EL5M.RU.ZS','SI.POV.RUGP','SI.POV.RUHC','AG.SRF.TOTL.K2']\n",
    "economia = ['PA.NUS.PPP.05','PA.NUS.PRVT.PP.05','NY.ADJ.NNTY.KD.ZG','NY.ADJ.NNTY.KD','NY.ADJ.NNTY.CD','NY.ADJ.NNTY.PC.KD.ZG','NY.ADJ.NNTY.PC.KD','NY.ADJ.NNTY.PC.CD','NY.ADJ.SVNX.GN.ZS','NY.ADJ.SVNX.CD','NY.ADJ.SVNG.GN.ZS','NY.ADJ.SVNG.CD','NY.ADJ.DCO2.GN.ZS','NY.ADJ.DCO2.CD','NY.ADJ.DKAP.GN.ZS','NY.ADJ.DKAP.CD','NY.ADJ.AEDU.GN.ZS','NY.ADJ.AEDU.CD','NY.ADJ.DNGY.GN.ZS','NY.ADJ.DNGY.CD','NY.ADJ.ICTR.GN.ZS','NY.ADJ.DMIN.GN.ZS','NY.ADJ.DMIN.CD','NY.ADJ.DRES.GN.ZS','NY.ADJ.DFOR.GN.ZS','NY.ADJ.DFOR.CD','NY.ADJ.NNAT.GN.ZS','NY.ADJ.NNAT.CD','NY.ADJ.DPEM.GN.ZS','NY.ADJ.DPEM.CD','NV.AGR.TOTL.ZS','NV.AGR.TOTL.KD.ZG','NV.AGR.TOTL.KD','NV.AGR.TOTL.KN','NV.AGR.TOTL.CN','NV.AGR.TOTL.CD','GC.DOD.TOTL.GD.ZS','NE.GDI.STKB.KN','NE.GDI.STKB.CN','NE.GDI.STKB.CD','BM.GSR.ROYL.CD','BX.GSR.ROYL.CD','NV.MNF.CHEM.ZS.UN','BX.GSR.CMCP.ZS','BM.GSR.CMCP.ZS','BN.CAB.XOKA.GD.ZS','BN.CAB.XOKA.CD','PA.NUS.ATLS','NY.GDP.DISC.KN','NY.GDP.DISC.CN','GC.XPN.TOTL.GD.ZS','NY.EXP.CAPM.KN','NE.EXP.GNFS.ZS','BX.GSR.GNFS.CD','NE.EXP.GNFS.KD.ZG','NE.EXP.GNFS.KD','NE.EXP.GNFS.KN','NE.EXP.GNFS.CN','NE.EXP.GNFS.CD','BX.GSR.TOTL.CD','NE.RSB.GNFS.ZS','NE.RSB.GNFS.KN','NE.RSB.GNFS.CN','NE.RSB.GNFS.CD','DT.DOD.DECT.GN.ZS','DT.DOD.DECT.EX.ZS','DT.DOD.DECT.CD','NE.CON.TOTL.KD','NE.CON.TOTL.KN','NE.CON.TOTL.CN','NE.CON.TOTL.CD','NE.CON.TETC.ZS','NE.CON.TETC.KD.ZG','NE.CON.TETC.KD','NE.CON.TETC.KN','NE.CON.TETC.CN','NE.CON.TETC.CD','NV.MNF.FBTO.ZS.UN','BN.KLT.DINV.CD','BX.KLT.DINV.WD.GD.ZS','BX.KLT.DINV.CD.WD','BM.KLT.DINV.WD.GD.ZS','BM.KLT.DINV.CD.WD','NY.GDP.MKTP.KN','NY.GDP.MKTP.CN','NY.GDP.MKTP.CD','NY.GDP.MKTP.KD','NY.GDP.DEFL.ZS','NY.GDP.MKTP.KD.ZG','NY.GDP.PCAP.KD','NY.GDP.PCAP.KN','NY.GDP.PCAP.CN','NY.GDP.PCAP.CD','NY.GDP.PCAP.KD.ZG','NY.GDP.PCAP.PP.KD','NY.GDP.PCAP.PP.CD','NY.GDP.MKTP.PP.KD','NY.GDP.MKTP.PP.CD','NY.GNP.MKTP.KD','NY.GNP.MKTP.KN','NY.GNP.MKTP.CN','NY.GNP.MKTP.CD','NY.GNP.MKTP.KD.ZG','NY.GNP.PCAP.KD','NY.GNP.PCAP.KN','NY.GNP.PCAP.CN','NY.GNP.PCAP.KD.ZG','NY.GNP.PCAP.CD','NY.GNP.PCAP.PP.KD','NY.GNP.PCAP.PP.CD','NY.GNP.ATLS.CD','NY.GNP.MKTP.PP.KD','NY.GNP.MKTP.PP.CD','NE.CON.GOVT.ZS','NE.CON.GOVT.KD.ZG','NE.CON.GOVT.KD','NE.CON.GOVT.KN','NE.CON.GOVT.CN','NE.CON.GOVT.CD','BX.GSR.MRCH.CD','BM.GSR.MRCH.CD','BX.GRT.EXTA.CD.WD','NE.GDI.TOTL.ZS','NE.GDI.TOTL.KD.ZG','NE.GDI.TOTL.KD','NE.GDI.TOTL.KN','NE.GDI.TOTL.CN','NE.GDI.TOTL.CD','NY.GDY.TOTL.KN','NY.GDS.TOTL.ZS','NY.GDS.TOTL.CN','NY.GDS.TOTL.CD','NE.GDI.FTOT.ZS','NE.GDI.FTOT.KD.ZG','NE.GDI.FTOT.KD','NE.GDI.FTOT.KN','NE.GDI.FTOT.CN','NE.GDI.FTOT.CD','NE.GDI.FPRV.ZS','NE.GDI.FPRV.CN','NE.DAB.TOTL.ZS','NE.DAB.TOTL.KD','NE.DAB.TOTL.KN','NE.DAB.TOTL.CN','NE.DAB.TOTL.CD','NE.DAB.DEFL.ZS','NY.GNS.ICTR.ZS','NY.GNS.ICTR.GN.ZS','NY.GNS.ICTR.CN','NY.GNS.ICTR.CD','NY.GDP.FCST.KD','NY.GDP.FCST.KN','NY.GDP.FCST.CN','NY.GDP.FCST.CD','NE.CON.PRVT.KD.ZG','NE.CON.PRVT.KD','NE.CON.PRVT.KN','NE.CON.PRVT.CN','NE.CON.PRVT.CD','NE.CON.PRVT.PC.KD','NE.CON.PRVT.PC.KD.ZG','NE.CON.PRVT.PP.KD','NE.CON.PRVT.PP.CD','NE.CON.PETC.ZS','NE.CON.PETC.KD.ZG','NE.CON.PETC.KD','NE.CON.PETC.KN','NE.CON.PETC.CN','NE.CON.PETC.CD','BX.GSR.CCIS.ZS','BX.GSR.CCIS.CD','NE.IMP.GNFS.ZS','BM.GSR.GNFS.CD','NE.IMP.GNFS.KD.ZG','NE.IMP.GNFS.KD','NE.IMP.GNFS.KN','NE.IMP.GNFS.CN','NE.IMP.GNFS.CD','BM.GSR.TOTL.CD','NV.IND.TOTL.ZS','NV.IND.TOTL.KD.ZG','NV.IND.TOTL.KD','NV.IND.TOTL.KN','NV.IND.TOTL.CN','NV.IND.TOTL.CD','NY.GDP.DEFL.KD.ZG','FP.CPI.TOTL.ZG','BX.GSR.INSF.ZS','BM.GSR.INSF.ZS','DT.INT.DECT.GN.ZS','DT.INT.DECT.EX.ZS','NV.MNF.MTRN.ZS.UN','NV.IND.MANF.ZS','NV.IND.MANF.KD.ZG','NV.IND.MANF.KD','NV.IND.MANF.KN','NV.IND.MANF.CN','NV.IND.MANF.CD','DT.ODA.ODAT.GN.ZS','DT.ODA.ODAT.PC.ZS','BN.TRF.KOGT.CD','NY.TRF.NCTR.KN','NY.TRF.NCTR.CN','NY.TRF.NCTR.CD','BN.KAC.EOMS.CD','BN.FIN.TOTL.CD','NY.GSR.NFCY.KN','NY.GSR.NFCY.CN','NY.GSR.NFCY.CD','DT.ODA.ODAT.CD','BN.GSR.FCTY.CD','BN.TRF.CURR.CD','NY.TAX.NIND.KN','NY.TAX.NIND.CN','NY.TAX.NIND.CD','BN.GSR.MRCH.CD','BN.GSR.GNFS.CD','NV.MNF.OTHR.ZS.UN','PA.NUS.PPP','PA.NUS.PRVT.PP','BM.TRF.PWKR.CD.DT','BX.TRF.PWKR.DT.GD.ZS','BX.TRF.PWKR.CD.DT','BX.TRF.PWKR.CD','BN.KLT.PTXL.CD','BX.PEF.TOTL.CD.WD','DT.DOD.PVLX.GN.ZS','DT.DOD.PVLX.EX.ZS','DT.DOD.PVLX.CD','PA.NUS.PPPC.RF','BX.KLT.DREM.CD.DT','BM.GSR.FCTY.CD','BX.GSR.FCTY.CD','BN.RES.INCL.CD','GC.REV.XGRT.GD.ZS','BX.TRF.CURR.CD','BM.TRF.PRVT.CD','BX.GSR.NFSV.CD','BM.GSR.NFSV.CD','NV.SRV.TETC.ZS','NV.SRV.TETC.KD.ZG','NV.SRV.TETC.KD','NV.SRV.TETC.KN','NV.SRV.TETC.CN','NV.SRV.TETC.CD','DT.DOD.DSTC.XP.ZS','DT.DOD.DSTC.IR.ZS','BX.GRT.TECH.CD.WD','NY.TTF.GNFS.KN','NV.MNF.TXTL.ZS.UN','DT.TDS.DECT.GN.ZS','DT.TDS.DECT.EX.ZS','FI.RES.TOTL.CD','FI.RES.XGLD.CD','NE.TRD.GNFS.ZS','BG.GSR.NFSV.GD.ZS','BX.GSR.TRAN.ZS','BM.GSR.TRAN.ZS','BX.GSR.TRVL.ZS','BM.GSR.TRVL.ZS']\n",
    "educacion = ['SE.PRM.TENR.FE','SE.PRM.TENR.MA','SE.PRM.TENR','SE.SEC.UNER.LO.ZS','SE.SEC.UNER.LO.FE.ZS','SE.SEC.UNER.LO.MA.ZS','SE.ADT.LITR.ZS','SE.XPD.MPRM.ZS','SE.XPD.MSEC.ZS','SE.XPD.MTER.ZS','SE.XPD.MTOT.ZS','SE.PRM.UNER.ZS','SE.PRM.UNER.FE.ZS','SE.PRM.UNER.MA.ZS','SE.PRM.UNER.FE','SE.PRM.UNER.MA','SE.XPD.CPRM.ZS','SE.XPD.CSEC.ZS','SE.XPD.CTER.ZS','SE.XPD.CTOT.ZS','SE.COM.DURS','SE.TER.CUAT.DO.FE.ZS','SE.TER.CUAT.DO.MA.ZS','SE.TER.CUAT.DO.ZS','SE.TER.CUAT.BA.FE.ZS','SE.TER.CUAT.BA.MA.ZS','SE.TER.CUAT.BA.ZS','SE.TER.CUAT.MS.FE.ZS','SE.TER.CUAT.MS.MA.ZS','SE.TER.CUAT.MS.ZS','SE.SEC.CUAT.LO.FE.ZS','SE.SEC.CUAT.LO.MA.ZS','SE.SEC.CUAT.LO.ZS','SE.SEC.CUAT.PO.FE.ZS','SE.SEC.CUAT.PO.MA.ZS','SE.SEC.CUAT.PO.ZS','SE.PRM.CUAT.FE.ZS','SE.PRM.CUAT.MA.ZS','SE.PRM.CUAT.ZS','SE.TER.CUAT.ST.FE.ZS','SE.TER.CUAT.ST.MA.ZS','SE.TER.CUAT.ST.ZS','SE.SEC.CUAT.UP.FE.ZS','SE.SEC.CUAT.UP.MA.ZS','SE.SEC.CUAT.UP.ZS','SE.SEC.PROG.ZS','SM.EMI.TERT.ZS','SE.PRM.ENRL','SE.SEC.ENRL','SE.SEC.ENRL.GC','SE.SEC.ENRL.VO','SE.XPD.TOTL.GB.ZS','SE.XPD.PRIM.ZS','SE.XPD.SECO.ZS','SE.XPD.TERT.ZS','SE.XPD.TOTL.GD.ZS','SE.XPD.PRIM.PC.ZS','SE.XPD.SECO.PC.ZS','SE.XPD.TERT.PC.ZS','SE.PRM.ENRR','SE.PRE.ENRR','SE.PRE.ENRR.FE','SE.PRE.ENRR.MA','SE.SEC.ENRR','SE.TER.ENRR','SE.PRM.GINT.ZS','SE.PRM.GINT.FE.ZS','SE.PRM.GINT.MA.ZS','SL.TLF.PRIM.ZS','SL.TLF.PRIM.FE.ZS','SL.TLF.PRIM.MA.ZS','SL.TLF.SECO.ZS','SL.TLF.SECO.FE.ZS','SL.TLF.SECO.MA.ZS','SL.TLF.TERT.ZS','SL.TLF.TERT.FE.ZS','SL.TLF.TERT.MA.ZS','SL.TLF.TOTL.FE.ZS','SL.TLF.TOTL.IN','SE.ADT.LITR.FE.ZS','SE.ADT.LITR.MA.ZS','SE.ADT.1524.LT.FM.ZS','SE.ADT.1524.LT.FE.ZS','SE.ADT.1524.LT.MA.ZS','SE.SEC.CMPT.LO.FE.ZS','SE.SEC.CMPT.LO.MA.ZS','SE.SEC.CMPT.LO.ZS','SE.PRM.NENR','SE.SEC.NENR','SE.PRM.NINT.FE.ZS','SE.PRM.NINT.MA.ZS','SE.PRM.NINT.ZS','SE.SEC.AGES','SE.PRM.AGES','SE.PRM.UNER','SE.PRM.OENR.ZS','SE.PRM.OENR.FE.ZS','SE.PRM.OENR.MA.ZS','SE.PRM.PRIV.ZS','SE.SEC.PRIV.ZS','SE.PRM.TCAQ.FE.ZS','SE.SEC.TCAQ.FE.ZS','SE.PRM.TCAQ.MA.ZS','SE.SEC.TCAQ.MA.ZS','SE.PRM.REPT.ZS','SE.PRM.REPT.FE.ZS','SE.PRM.REPT.MA.ZS','SE.SEC.ENRL.GC.FE.ZS','SE.SEC.ENRL.VO.FE.ZS','SE.PRM.TCAQ.ZS','SE.SEC.TCAQ.ZS','SE.PRM.PRS5.FE.ZS','SE.PRM.PRS5.MA.ZS','SP.POP.0014.TO.ZS','SP.POP.1564.TO.ZS','SE.PRE.DURS','SE.PRM.CMPT.FE.ZS','SE.PRM.CMPT.MA.ZS','SE.PRM.CMPT.ZS','SE.PRM.ENRL.FE.ZS','SE.PRM.TCHR.FE.ZS','SE.SEC.PROG.FE.ZS','SE.SEC.PROG.MA.ZS','SE.PRE.ENRL.TC.ZS','SE.PRM.ENRL.TC.ZS','SE.SEC.ENRL.TC.ZS','SE.SEC.ENRL.LO.TC.ZS','SE.TER.ENRL.TC.ZS','SE.SEC.ENRL.UP.TC.ZS','SE.ENR.PRIM.FM.ZS','SE.ENR.PRSC.FM.ZS','SE.PRM.ENRR.FE','SE.PRM.NENR.FE','SE.PRM.ENRR.MA','SE.PRM.NENR.MA','SE.ENR.SECO.FM.ZS','SE.SEC.ENRR.FE','SE.SEC.NENR.FE','SE.SEC.ENRR.MA','SE.SEC.NENR.MA','SE.ENR.TERT.FM.ZS','SE.TER.ENRR.FE','SE.TER.ENRR.MA','SE.SEC.ENRL.FE.ZS','SE.SEC.TCHR.FE.ZS','SE.PRM.PRS5.ZS','SE.PRM.PRSL.ZS','SE.PRM.PRSL.FE.ZS','SE.PRM.PRSL.MA.ZS','SE.PRM.TCHR','SE.SEC.TCHR','SE.SEC.TCHR.FE','SE.TER.TCHR.FE.ZS','SE.PRM.DURS','SE.SEC.DURS','SE.SEC.TCAQ.LO.ZS','SE.SEC.TCAQ.LO.FE.ZS','SE.SEC.TCAQ.LO.MA.ZS','SE.PRE.TCAQ.ZS','SE.PRE.TCAQ.FE.ZS','SE.PRE.TCAQ.MA.ZS','SE.SEC.TCAQ.UP.ZS','SE.SEC.TCAQ.UP.FE.ZS','SE.SEC.TCAQ.UP.MA.ZS','SL.UEM.TOTL.FE.ZS','SL.UEM.TOTL.MA.ZS','SL.UEM.TOTL.ZS','SE.ADT.1524.LT.ZS']\n",
    "salud = ['SH.STA.ARIC.ZS','SP.ADO.TFRT','SH.HIV.INCD.TL','SH.HIV.INCD','SP.POP.DPND','SP.POP.DPND.OL','SP.POP.DPND.YG','SH.HIV.ARTC.ZS','SH.HIV.PMTC.ZS','SP.DYN.CBRT.IN','SH.STA.BRTC.ZS','SH.DTH.COMM.ZS','SH.DTH.INJR.ZS','SH.DTH.NCOM.ZS','SH.HIV.0014','SH.HIV.INCD.14','SH.MLR.TRET.ZS','SH.MED.CMHW.P3','SP.REG.BRTH.ZS','SP.REG.BRTH.RU.ZS','SP.REG.BRTH.UR.ZS','SP.REG.DTHS.ZS','SP.DTH.INFR.ZS','SP.DTH.REPT.ZS','SH.CON.1524.FE.ZS','SH.CON.1524.MA.ZS','SN.ITK.SALT.ZS','SP.DYN.CONU.ZS','SP.DYN.CONM.ZS','SP.DYN.CDRT.IN','SH.FPL.SATM.ZS','SN.ITK.DFCT','SH.STA.DIAB.ZS','SH.STA.ORCF.ZS','SH.STA.ORTH','SM.EMI.TERT.ZS','SH.STA.BFED.ZS','SH.XPD.EXTR.ZS','SH.STA.FGMS.ZS','SP.HOU.FEMA.ZS','SP.DYN.TFRT.IN','SH.XPD.PCAP','SH.XPD.PCAP.PP.KD','SH.XPD.PRIV.ZS','SH.XPD.PUBL.ZS','SH.XPD.PUBL.GX.ZS','SH.XPD.PUBL','SH.XPD.TOTL.ZS','SH.MED.BEDS.ZS','SH.IMM.IDPT','SH.IMM.MEAS','SH.STA.ACSN','SH.STA.ACSN.RU','SH.STA.ACSN.UR','SH.H2O.SAFE.ZS','SH.H2O.SAFE.RU.ZS','SH.H2O.SAFE.UR.ZS','SH.HIV.INCD.ZS','SH.MLR.INCD.P3','SH.TBS.INCD','SM.POP.TOTL.ZS','SM.POP.TOTL','SP.DYN.LE00.FE.IN','SP.DYN.LE00.MA.IN','SP.DYN.LE00.IN','SH.MMR.RISK.ZS','SH.MMR.RISK','SH.STA.BRTW.ZS','SH.STA.MMRT','SH.STA.MMRT.NE','SH.STA.TRAF.P5','SH.DYN.NCOM.ZS','SP.DYN.AMRT.FE','SP.DYN.AMRT.MA','SP.DYN.IMRT.IN','SP.DYN.IMRT.FE.IN','SP.DYN.IMRT.MA.IN','SH.DYN.NMRT','SH.DYN.MORT','SH.DYN.MORT.FE','SH.DYN.MORT.MA','SM.POP.NETM','SH.VAC.TTNS.ZS','SH.DTH.IMRT','SH.MMR.DTHS','SH.DTH.NMRT','SH.SGR.PROC.P5','SH.DTH.MORT','SH.MED.NUMW.P3','SH.XPD.OOPC.ZS','SH.XPD.OOPC.TO.ZS','SH.STA.ODFC.ZS','SH.STA.ODFC.RU.ZS','SH.STA.ODFC.UR.ZS','SH.MED.PHYS.ZS','SP.POP.0014.TO.ZS','SP.POP.1564.TO.ZS','SP.POP.65UP.TO.ZS','SP.POP.GROW','SP.POP.TOTL.FE.ZS','SP.POP.TOTL','SH.STA.ANVC.ZS','SH.HIV.1524.FE.ZS','SH.HIV.1524.MA.ZS','SH.DYN.AIDS.ZS','SH.ANM.CHLD.ZS','SH.ANM.NPRG.ZS','SH.PRG.ANEM','SH.ANM.ALLW.ZS','SH.STA.OWGH.ZS','SH.STA.OWGH.FE.ZS','SH.STA.OWGH.MA.ZS','SH.SVR.WAST.ZS','SH.SVR.WAST.FE.ZS','SH.SVR.WAST.MA.ZS','SH.STA.STNT.ZS','SH.STA.STNT.FE.ZS','SH.STA.STNT.MA.ZS','SN.ITK.DEFC.ZS','SH.STA.MALN.ZS','SH.STA.MALN.FE.ZS','SH.STA.MALN.MA.ZS','SH.STA.WAST.ZS','SH.STA.WAST.FE.ZS','SH.STA.WAST.MA.ZS','SG.VAW.1549.ZS','SM.POP.REFG','SM.POP.REFG.OR','SH.SGR.CRSK.ZS','SH.SGR.IRSK.ZS','SH.PRV.SMOK.FE','SH.PRV.SMOK.MA','SH.MED.SAOP.P5','SH.STA.SUIC.P5','SP.DYN.TO65.FE.ZS','SP.DYN.TO65.MA.ZS','SP.MTR.1519.ZS','SH.ALC.PCAP.LI','SH.TBS.DTEC.ZS','SH.TBS.CURE.ZS','SP.UWT.TFRT','SH.MLR.NETS.ZS','SN.ITK.VITA.ZS','SP.DYN.WFRT','SG.VAW.REAS.ZS','SG.VAW.ARGU.ZS','SG.VAW.BURN.ZS','SG.VAW.GOES.ZS','SG.VAW.NEGL.ZS','SG.VAW.REFU.ZS','SP.M18.2024.FE.ZS','SH.DYN.AIDS.FE.ZS']\n",
    "deuda = ['DT.GPA.DPPG','DT.GPA.OFFT','DT.GPA.PRVT','DT.GRE.DPPG','DT.GRE.OFFT','DT.GRE.PRVT','DT.INR.DPPG','DT.INR.OFFT','DT.INR.PRVT','DT.MAT.DPPG','DT.MAT.OFFT','DT.MAT.PRVT','DT.NFL.PCBO.CD','DT.COM.MIBR.CD','DT.COM.MIDA.CD','DT.COM.OFFT.CD','DT.COM.PRVT.CD','DT.COM.DPPG.CD','DT.DOD.ALLC.ZS','DT.CUR.DMAK.ZS','DT.CUR.EURO.ZS','DT.CUR.FFRC.ZS','DT.CUR.JYEN.ZS','DT.CUR.MULC.ZS','DT.CUR.UKPS.ZS','DT.CUR.SDRW.ZS','DT.CUR.SWFR.ZS','DT.CUR.USDL.ZS','DT.CUR.OTHC.ZS','BN.CAB.XOKA.CD','DT.DSB.DPPG.CD','DT.DOD.MDRI.CD','DT.DFR.DPPG.CD','DT.TDS.DPPF.XP.ZS','DT.TDS.DLXF.CD','DT.TDS.DPNG.CD','DT.TDS.DPPG.CD','DT.TDS.DECT.CD','DT.DSF.DPPG.CD','DT.DXR.DPPG.CD','DT.DIS.DLXF.CD','DT.DIS.DLTF.CD','DT.DIS.DPNG.CD','DT.DIS.DPPG.CD','DT.NFL.NEBR.CD','BX.GSR.TOTL.CD','DT.DOD.DECT.GN.ZS','DT.DOD.DECT.EX.ZS','DT.DOD.ALLC.CD','DT.DOD.DLXF.CD','DT.DOD.PRVS.CD','DT.DOD.PUBS.CD','DT.DOD.DPNG.CD','DT.DOD.DPPG.CD','DT.DOD.DSTC.CD','DT.DOD.DECT.CD','DT.DOD.VTOT.CD','BX.KLT.DINV.CD.WD','NY.GNP.MKTP.CD','BX.GRT.EXTA.CD.WD','DT.DOD.MWBG.CD','DT.DIS.IDAG.CD','DT.NFL.NIFC.CD','DT.INT.DIMF.CD','DT.DIS.DIMF.CD','DT.AMT.DIMF.CD','DT.TDS.DIMF.CD','BM.GSR.TOTL.CD','DT.IXA.DPPG.CD','DT.IXA.OFFT.CD','DT.IXA.PRVT.CD','DT.IXF.DPPG.CD','DT.INT.DECT.GN.ZS','DT.INT.DECT.EX.ZS','DT.INT.DLXF.CD','DT.INT.DPNG.CD','DT.INT.DPPG.CD','DT.INT.DSTC.CD','DT.INT.DECT.CD','DT.IXR.DPPG.CD','DT.IXR.OFFT.CD','DT.IXR.PRVT.CD','DT.DOD.MLAT.ZS','DT.TDS.MLAT.PG.ZS','DT.TDS.MLAT.CD','DT.ODA.ODAT.GN.ZS','DT.ODA.ODAT.PC.ZS','DT.IXA.DPPG.CD.CG','DT.NFL.MIBR.CD','DT.NFL.MIDA.CD','DT.NFL.IMFC.CD','DT.NFL.IMFN.CD','DT.NFL.RDBC.CD','DT.NFL.RDBN.CD','DT.NFL.BLAT.CD','DT.NFL.MLAT.CD','DT.NFL.MOTH.CD','DT.NFL.DLXF.CD','DT.NFL.DPNG.CD','DT.NFL.DPPG.CD','DT.NFL.DSTC.CD','DT.NFL.DECT.CD','DT.ODA.ODAT.CD','DT.NTR.DLXF.CD','DT.NTR.DPNG.CD','DT.NTR.DPPG.CD','DT.NTR.DECT.CD','DT.AMT.PNGB.CD','DT.DIS.PNGB.CD','DT.DOD.PNGB.CD','DT.INT.PNGB.CD','DT.NFL.PNGB.CD','DT.NTR.PNGB.CD','DT.TDS.PNGB.CD','DT.AMT.PNGC.CD','DT.DIS.PNGC.CD','DT.DOD.PNGC.CD','DT.INT.PNGC.CD','DT.NFL.PNGC.CD','DT.NTR.PNGC.CD','DT.TDS.PNGC.CD','DT.AMT.MIBR.CD','DT.DIS.MIBR.CD','DT.DOD.MIBR.CD','DT.INT.MIBR.CD','DT.NTR.MIBR.CD','DT.TDS.MIBR.CD','DT.AMT.MIDA.CD','DT.DIS.MIDA.CD','DT.DOD.MIDA.CD','DT.INT.MIDA.CD','DT.NTR.MIDA.CD','DT.TDS.MIDA.CD','DT.AMT.BLAT.CD','DT.DIS.BLAT.CD','DT.DOD.BLAT.CD','DT.INT.BLAT.CD','DT.NTR.BLAT.CD','DT.TDS.BLAT.CD','DT.AMT.BLTC.CD','DT.DIS.BLTC.CD','DT.DOD.BLTC.CD','DT.INT.BLTC.CD','DT.NFL.BLTC.CD','DT.NTR.BLTC.CD','DT.TDS.BLTC.CD','DT.AMT.PBND.CD','DT.DIS.PBND.CD','DT.DOD.PBND.CD','DT.INT.PBND.CD','DT.NFL.PBND.CD','DT.NTR.PBND.CD','DT.TDS.PBND.CD','DT.AMT.PCBK.CD','DT.DIS.PCBK.CD','DT.DOD.PCBK.CD','DT.INT.PCBK.CD','DT.NFL.PCBK.CD','DT.NTR.PCBK.CD','DT.TDS.PCBK.CD','DT.AMT.MLAT.CD','DT.DIS.MLAT.CD','DT.DOD.MLAT.CD','DT.INT.MLAT.CD','DT.NTR.MLAT.CD','DT.AMT.MLTC.CD','DT.DIS.MLTC.CD','DT.DOD.MLTC.CD','DT.INT.MLTC.CD','DT.NFL.MLTC.CD','DT.NTR.MLTC.CD','DT.TDS.MLTC.CD','DT.AMT.OFFT.CD','DT.DIS.OFFT.CD','DT.DOD.OFFT.CD','DT.INT.OFFT.CD','DT.NFL.OFFT.CD','DT.NTR.OFFT.CD','DT.TDS.OFFT.CD','DT.AMT.PROP.CD','DT.DIS.PROP.CD','DT.DOD.PROP.CD','DT.INT.PROP.CD','DT.NFL.PROP.CD','DT.NTR.PROP.CD','DT.TDS.PROP.CD','DT.AMT.PRVT.CD','DT.DIS.PRVT.CD','DT.DOD.PRVT.CD','DT.INT.PRVT.CD','DT.NFL.PRVT.CD','DT.NTR.PRVT.CD','DT.TDS.PRVT.CD','BX.TRF.PWKR.CD.DT','BX.PEF.TOTL.CD.WD','DT.NFL.BOND.CD','DT.DOD.PVLX.GN.ZS','DT.DOD.PVLX.EX.ZS','DT.DOD.PVLX.CD','BX.KLT.DREM.CD.DT','DT.AXA.DPPG.CD','DT.AXA.OFFT.CD','DT.AXA.PRVT.CD','DT.AXF.DPPG.CD','DT.AMT.DLXF.CD','DT.AMT.DLTF.CD','DT.AMT.DPNG.CD','DT.AMT.DPPG.CD','DT.AXR.DPPG.CD','DT.AXR.OFFT.CD','DT.AXR.PRVT.CD','DT.TDS.DPPG.GN.ZS','DT.TDS.DPPG.XP.ZS','DT.DOD.RSDL.CD','DT.DOD.DSTC.XP.ZS','DT.DOD.DSTC.ZS','DT.DOD.DSTC.IR.ZS','BX.GRT.TECH.CD.WD','DT.TXR.DPPG.CD','DT.DOD.DECT.CD.CG','DT.TDS.DECT.GN.ZS','DT.TDS.DECT.EX.ZS','FI.RES.TOTL.DT.ZS','FI.RES.TOTL.CD','FI.RES.TOTL.MO','DT.UND.OFFT.CD','DT.UND.PRVT.CD','DT.UND.DPPG.CD','DT.DOD.DIMF.CD']\n",
    "\n",
    "#conjunto_nombre = ['Agricultura','Economia','Educacion','Salud','Deuda']\n",
    "#conjunto = [agricultura,economia,educacion,salud,deuda]\n",
    "\n",
    "conjunto_nombre = ['Agricultura']\n",
    "conjunto = [agricultura]"
   ]
  },
  {
   "cell_type": "code",
   "execution_count": 8,
   "metadata": {
    "collapsed": false
   },
   "outputs": [],
   "source": [
    "def r2(y_true, y_predict):\n",
    "    from sklearn.metrics import r2_score\n",
    "    return r2_score(y_true, y_predict)"
   ]
  },
  {
   "cell_type": "code",
   "execution_count": 9,
   "metadata": {
    "collapsed": false
   },
   "outputs": [],
   "source": [
    "def imputador(tab):\n",
    "    from sklearn.preprocessing import Imputer\n",
    "    impute=Imputer(missing_values=\"NaN\",strategy='mean',axis=0)\n",
    "    impute.fit(tab)\n",
    "    tab_imputada=impute.transform(tab)\n",
    "    return pd.DataFrame(tab_imputada)"
   ]
  },
  {
   "cell_type": "code",
   "execution_count": 10,
   "metadata": {
    "collapsed": true
   },
   "outputs": [],
   "source": [
    "def zeros(tab):\n",
    "    df = pd.DataFrame(tab)\n",
    "    #Eliminamos las columnas de NaN descartando Indicadores que no tienen regristros para ningún pais y año deseados\n",
    "    df = df.dropna(how='all',axis=1)\n",
    "    #Asignamos a los NaN el valor de 0    \n",
    "    df = df.fillna(0)\n",
    "    return df"
   ]
  },
  {
   "cell_type": "code",
   "execution_count": 11,
   "metadata": {
    "collapsed": true
   },
   "outputs": [],
   "source": [
    "def correlacion(tab,y_indicator):\n",
    "    # Buscamos los indicadores que se correlacionen más (coeficiente > 0.7)\n",
    "    eliminar = []\n",
    "    tabla_correlacion = np.array(pd.DataFrame(tab).corr())\n",
    "    for i in range(np.shape(tab)[1]):\n",
    "        if abs(tabla_correlacion[i,y_indicator]) > 0.7:\n",
    "            eliminar.append(i)\n",
    "\n",
    "    # Eliminamos los indicadores que se correlacionan más (Coeficiente > 0.7)\n",
    "    temporal = tab[:,:]\n",
    "\n",
    "    for i in range(len(eliminar)):\n",
    "        temporal = np.delete(temporal[:,:], eliminar[i]-i, 1)\n",
    "\n",
    "    return temporal"
   ]
  },
  {
   "cell_type": "code",
   "execution_count": 12,
   "metadata": {
    "collapsed": true
   },
   "outputs": [],
   "source": [
    "def Splitter(tabla_1,tabla_2,y_indicator):\n",
    "    from sklearn.model_selection import train_test_split\n",
    "    #Fusionamos la tabla_1 y el indicador y de la tabla_2\n",
    "    tab_fusion = np.column_stack((tabla_1[:,:],tabla_2[:,y_indicator]))\n",
    "    \n",
    "    # Asignamos X e y, eliminando los indicadores que se correlacionen más (coeficiente > 0.7)  \n",
    "    X = correlacion(tab_fusion,-1)\n",
    "    y = tab_fusion[:,-1]\n",
    "    \n",
    "    # Separamos Train y Test respectivamente para X e y\n",
    "    X_train, X_test, y_train, y_test = train_test_split(X, y, test_size=0.2)\n",
    "    return X_train, X_test, y_train, y_test"
   ]
  },
  {
   "cell_type": "code",
   "execution_count": 13,
   "metadata": {
    "collapsed": true
   },
   "outputs": [],
   "source": [
    "def GridSearchCV_Universal(estimador,X_train, y_train):\n",
    "    from sklearn.model_selection import GridSearchCV\n",
    "    from sklearn.model_selection import ShuffleSplit\n",
    "    from sklearn.ensemble import RandomForestRegressor\n",
    "    from sklearn.tree import DecisionTreeRegressor\n",
    "        \n",
    "    if(estimador=='DTR'):\n",
    "        estimator = DecisionTreeRegressor()\n",
    "        param_grid = {'max_depth': [1, 2, 3, 4, 5, 6, 7, 8, 9, 10], \n",
    "                  'splitter': ['best', 'random']\n",
    "                 }\n",
    "        \n",
    "    if(estimador=='RFR'):\n",
    "        estimator = RandomForestRegressor()       \n",
    "        param_grid = { \n",
    "                \"n_estimators\"      : [10,20,30],\n",
    "                \"max_features\"      : [\"auto\", \"sqrt\", \"log2\"],\n",
    "                \"min_samples_split\" : [2,4,8],\n",
    "                \"bootstrap\": [True, False],\n",
    "                }\n",
    "    \n",
    "    grid = GridSearchCV(estimator, param_grid, n_jobs=-1, cv=ShuffleSplit(test_size=0.2))   \n",
    "    grid.fit(X_train, y_train)\n",
    "    \n",
    "    return grid.best_params_"
   ]
  },
  {
   "cell_type": "code",
   "execution_count": 14,
   "metadata": {
    "collapsed": true
   },
   "outputs": [],
   "source": [
    "def estimator_Universal(estimador, X_train, X_test, y_train, y_test, best_params):\n",
    "    from sklearn.ensemble import RandomForestRegressor\n",
    "    from sklearn.tree import DecisionTreeRegressor\n",
    "    \n",
    "    if(estimador=='DTR'):\n",
    "        estimator = DecisionTreeRegressor().set_params(**best_params)\n",
    "    if(estimador=='RFR'):\n",
    "        estimator = RandomForestRegressor(n_jobs=-1).set_params(**best_params)\n",
    "\n",
    "    estimator.fit(X_train,y_train)\n",
    "    y_predict = estimator.predict(X_test)\n",
    "    return r2(y_test,y_predict)"
   ]
  },
  {
   "cell_type": "code",
   "execution_count": 15,
   "metadata": {
    "collapsed": true
   },
   "outputs": [],
   "source": [
    "def iter_Splitter(estimador,tab1,tab2):    \n",
    "    R2_global = list()\n",
    "    start_time = time.time()\n",
    "    for i in range(0,np.shape(imputador(tab2))[1]):\n",
    "        ## Zero\n",
    "        start_time_2 = time.time()\n",
    "        X_train, X_test, y_train, y_test = Splitter(np.array(zeros(tab1)),np.array(zeros(tab2)),i)\n",
    "        best_params = GridSearchCV_Universal(estimador, X_train, y_train)\n",
    "        print i , \"Zero\" , best_params, \"- %s s\" % (time.time() - start_time_2)\n",
    "        R2_Original = estimator_Universal(estimador, X_train, X_test, y_train, y_test, best_params)\n",
    "\n",
    "        ## Imputer\n",
    "        start_time_3 = time.time()\n",
    "        X_train, X_test, y_train, y_test = Splitter(np.array(imputador(tab1)),np.array(imputador(tab2)),i)\n",
    "        best_params = GridSearchCV_Universal(estimador, X_train, y_train)\n",
    "        print i , \"Imputer\" ,best_params, \"- %s s\" % (time.time() - start_time_3)\n",
    "        R2_Imputado = estimator_Universal(estimador, X_train, X_test, y_train, y_test, best_params)\n",
    "\n",
    "        # Join results\n",
    "        R2_global.append([R2_Original,R2_Imputado])\n",
    "    \n",
    "    print(\"--- %s seconds ---\" % (time.time() - start_time))\n",
    "    return pd.DataFrame(R2_global,columns=['Original','Imputado'])"
   ]
  },
  {
   "cell_type": "code",
   "execution_count": 16,
   "metadata": {
    "collapsed": true
   },
   "outputs": [],
   "source": [
    "def iterador_global(estimador,datos,paises,years,indicadores_1,indicadores_2):\n",
    "    \n",
    "    t_1 = tabla_base(paises,years,indicadores_1,datos)\n",
    "    t_2 = tabla_base(paises,years,indicadores_2,datos)\n",
    "    \n",
    "    return iter_Splitter(estimador,t_1,t_2)"
   ]
  },
  {
   "cell_type": "code",
   "execution_count": 18,
   "metadata": {
    "collapsed": true
   },
   "outputs": [],
   "source": [
    "def tabla_base(paises,years,indicadores,datos):\n",
    "    tab = pd.DataFrame.pivot_table(datos, values='Value', index=['CountryName', 'Year'], columns=['IndicatorCode']).loc[(paises,years),indicadores].sortlevel([\"CountryName\",\"Year\"], ascending=[True,False])\n",
    "    return tab"
   ]
  },
  {
   "cell_type": "code",
   "execution_count": 19,
   "metadata": {
    "collapsed": false
   },
   "outputs": [
    {
     "name": "stdout",
     "output_type": "stream",
     "text": [
      "Best Params {'splitter': 'best', 'max_depth': 1} - 1.12459611893 s\n",
      "Best Params {'splitter': 'random', 'max_depth': 7} - 0.877487897873 s\n",
      "Best Params {'splitter': 'best', 'max_depth': 1} - 0.729473114014 s\n",
      "Best Params {'splitter': 'random', 'max_depth': 5} - 0.825756072998 s\n",
      "Best Params {'splitter': 'best', 'max_depth': 10} - 0.736024856567 s\n",
      "Best Params {'splitter': 'best', 'max_depth': 4} - 0.740407943726 s\n",
      "Best Params {'splitter': 'best', 'max_depth': 8} - 0.823501825333 s\n",
      "Best Params {'splitter': 'random', 'max_depth': 9} - 0.725447893143 s\n",
      "Best Params {'splitter': 'best', 'max_depth': 8} - 0.751406908035 s\n",
      "Best Params {'splitter': 'random', 'max_depth': 8} - 0.827528953552 s\n",
      "Best Params {'splitter': 'random', 'max_depth': 2} - 0.653127193451 s\n",
      "Best Params {'splitter': 'best', 'max_depth': 1} - 0.724076986313 s\n",
      "Best Params {'splitter': 'best', 'max_depth': 5} - 0.738224983215 s\n",
      "Best Params {'splitter': 'best', 'max_depth': 1} - 0.743479967117 s\n",
      "Best Params {'splitter': 'best', 'max_depth': 8} - 0.730084180832 s\n",
      "Best Params {'splitter': 'random', 'max_depth': 3} - 0.749642848969 s\n",
      "Best Params {'splitter': 'random', 'max_depth': 4} - 0.835848093033 s\n",
      "Best Params {'splitter': 'random', 'max_depth': 3} - 0.735778093338 s\n",
      "Best Params {'splitter': 'best', 'max_depth': 1} - 0.838356971741 s\n",
      "Best Params {'splitter': 'best', 'max_depth': 1} - 0.870121002197 s\n",
      "Best Params {'splitter': 'random', 'max_depth': 5} - 0.774561882019 s\n",
      "Best Params {'splitter': 'random', 'max_depth': 9} - 0.765720844269 s\n",
      "Best Params {'splitter': 'random', 'max_depth': 8} - 0.871601104736 s\n",
      "Best Params {'splitter': 'best', 'max_depth': 7} - 0.852697134018 s\n",
      "Best Params {'splitter': 'best', 'max_depth': 7} - 0.772234916687 s\n",
      "Best Params {'splitter': 'best', 'max_depth': 10} - 0.880671024323 s\n",
      "Best Params {'splitter': 'random', 'max_depth': 8} - 0.786967992783 s\n",
      "Best Params {'splitter': 'random', 'max_depth': 10} - 0.952666044235 s\n",
      "Best Params {'splitter': 'best', 'max_depth': 6} - 0.745567798615 s\n",
      "Best Params {'splitter': 'random', 'max_depth': 10} - 0.734071016312 s\n",
      "Best Params {'splitter': 'best', 'max_depth': 5} - 0.806140899658 s\n",
      "Best Params {'splitter': 'random', 'max_depth': 7} - 0.796196937561 s\n",
      "Best Params {'splitter': 'best', 'max_depth': 7} - 0.856652021408 s\n",
      "Best Params {'splitter': 'random', 'max_depth': 1} - 0.752609014511 s\n",
      "Best Params {'splitter': 'random', 'max_depth': 8} - 0.752700805664 s\n",
      "Best Params {'splitter': 'best', 'max_depth': 9} - 0.74369597435 s\n",
      "Best Params {'splitter': 'best', 'max_depth': 8} - 0.876927852631 s\n",
      "Best Params {'splitter': 'best', 'max_depth': 8} - 0.831888914108 s\n",
      "Best Params {'splitter': 'random', 'max_depth': 10} - 0.899996995926 s\n",
      "Best Params {'splitter': 'random', 'max_depth': 7} - 0.744992017746 s\n",
      "Best Params {'splitter': 'best', 'max_depth': 2} - 0.744470119476 s\n",
      "Best Params {'splitter': 'random', 'max_depth': 2} - 0.821915864944 s\n",
      "Best Params {'splitter': 'random', 'max_depth': 7} - 0.732158899307 s\n",
      "Best Params {'splitter': 'random', 'max_depth': 10} - 0.834204912186 s\n",
      "Best Params {'splitter': 'random', 'max_depth': 10} - 0.787399053574 s\n",
      "Best Params {'splitter': 'random', 'max_depth': 10} - 0.826427221298 s\n",
      "Best Params {'splitter': 'best', 'max_depth': 5} - 0.732930898666 s\n",
      "Best Params {'splitter': 'random', 'max_depth': 9} - 0.753904104233 s\n",
      "Best Params {'splitter': 'best', 'max_depth': 6} - 0.727922916412 s\n",
      "Best Params {'splitter': 'random', 'max_depth': 5} - 0.828990936279 s\n",
      "Best Params {'splitter': 'best', 'max_depth': 8} - 0.783812999725 s\n",
      "Best Params {'splitter': 'best', 'max_depth': 7} - 1.09795212746 s\n",
      "Best Params {'splitter': 'best', 'max_depth': 7} - 0.742821931839 s\n",
      "Best Params {'splitter': 'random', 'max_depth': 9} - 0.633923053741 s\n",
      "Best Params {'splitter': 'random', 'max_depth': 4} - 0.875851869583 s\n",
      "Best Params {'splitter': 'random', 'max_depth': 10} - 0.737497091293 s\n",
      "Best Params {'splitter': 'random', 'max_depth': 6} - 0.943313121796 s\n",
      "Best Params {'splitter': 'random', 'max_depth': 7} - 0.795448064804 s\n",
      "Best Params {'splitter': 'best', 'max_depth': 3} - 0.721608161926 s\n",
      "Best Params {'splitter': 'random', 'max_depth': 7} - 0.735399007797 s\n",
      "Best Params {'splitter': 'best', 'max_depth': 8} - 0.733304023743 s\n",
      "Best Params {'splitter': 'best', 'max_depth': 10} - 0.756325960159 s\n",
      "Best Params {'splitter': 'best', 'max_depth': 4} - 0.857800006866 s\n",
      "Best Params {'splitter': 'random', 'max_depth': 9} - 0.72466802597 s\n",
      "Best Params {'splitter': 'best', 'max_depth': 7} - 0.779056072235 s\n",
      "Best Params {'splitter': 'best', 'max_depth': 10} - 0.727559089661 s\n",
      "Best Params {'splitter': 'random', 'max_depth': 10} - 0.74626493454 s\n",
      "Best Params {'splitter': 'best', 'max_depth': 7} - 0.731062173843 s\n",
      "Best Params {'splitter': 'best', 'max_depth': 5} - 0.730309009552 s\n",
      "Best Params {'splitter': 'best', 'max_depth': 10} - 0.742609977722 s\n",
      "Best Params {'splitter': 'best', 'max_depth': 5} - 0.73381114006 s\n",
      "Best Params {'splitter': 'random', 'max_depth': 9} - 0.909981012344 s\n",
      "Best Params {'splitter': 'best', 'max_depth': 6} - 0.84633898735 s\n",
      "Best Params {'splitter': 'best', 'max_depth': 7} - 0.843200922012 s\n",
      "Best Params {'splitter': 'best', 'max_depth': 9} - 0.748736858368 s\n",
      "Best Params {'splitter': 'random', 'max_depth': 8} - 0.849092960358 s\n",
      "Best Params {'splitter': 'random', 'max_depth': 9} - 0.759212970734 s\n",
      "Best Params {'splitter': 'random', 'max_depth': 9} - 0.777077913284 s\n",
      "Best Params {'splitter': 'random', 'max_depth': 10} - 0.925754070282 s\n",
      "Best Params {'splitter': 'random', 'max_depth': 10} - 0.964416980743 s\n",
      "Best Params {'splitter': 'best', 'max_depth': 8} - 0.663954973221 s\n",
      "Best Params {'splitter': 'best', 'max_depth': 7} - 0.726348161697 s\n",
      "Best Params {'splitter': 'random', 'max_depth': 9} - 0.748941898346 s\n",
      "Best Params {'splitter': 'random', 'max_depth': 4} - 0.723885059357 s\n",
      "Best Params {'splitter': 'best', 'max_depth': 4} - 0.741263866425 s\n",
      "Best Params {'splitter': 'best', 'max_depth': 2} - 0.768031835556 s\n",
      "Best Params {'splitter': 'best', 'max_depth': 8} - 0.725168943405 s\n",
      "Best Params {'splitter': 'best', 'max_depth': 10} - 0.759120941162 s\n",
      "--- 70.646271944 seconds ---\n",
      "Best Params {'max_features': 'auto', 'min_samples_split': 8, 'bootstrap': True, 'n_estimators': 10} - 49.0800979137 s\n",
      "Best Params {'max_features': 'auto', 'min_samples_split': 2, 'bootstrap': True, 'n_estimators': 30} - 53.5400819778 s\n",
      "Best Params {'max_features': 'auto', 'min_samples_split': 8, 'bootstrap': True, 'n_estimators': 20} - 48.1222000122 s\n",
      "Best Params {'max_features': 'auto', 'min_samples_split': 2, 'bootstrap': True, 'n_estimators': 30} - 43.5868461132 s\n",
      "Best Params {'max_features': 'sqrt', 'min_samples_split': 2, 'bootstrap': False, 'n_estimators': 30} - 37.2649879456 s\n",
      "Best Params {'max_features': 'log2', 'min_samples_split': 4, 'bootstrap': False, 'n_estimators': 30} - 37.9838840961 s\n",
      "Best Params {'max_features': 'sqrt', 'min_samples_split': 2, 'bootstrap': False, 'n_estimators': 30} - 36.6232731342 s\n",
      "Best Params {'max_features': 'log2', 'min_samples_split': 2, 'bootstrap': False, 'n_estimators': 30} - 36.1980960369 s\n",
      "Best Params {'max_features': 'log2', 'min_samples_split': 2, 'bootstrap': False, 'n_estimators': 30} - 37.1702280045 s\n",
      "Best Params {'max_features': 'log2', 'min_samples_split': 2, 'bootstrap': False, 'n_estimators': 30} - 36.0644240379 s\n",
      "Best Params {'max_features': 'sqrt', 'min_samples_split': 2, 'bootstrap': True, 'n_estimators': 10} - 33.3871231079 s\n",
      "Best Params {'max_features': 'log2', 'min_samples_split': 4, 'bootstrap': False, 'n_estimators': 10} - 33.7739610672 s\n",
      "Best Params {'max_features': 'auto', 'min_samples_split': 2, 'bootstrap': False, 'n_estimators': 30} - 34.5300819874 s\n",
      "Best Params {'max_features': 'log2', 'min_samples_split': 8, 'bootstrap': True, 'n_estimators': 10} - 34.2655920982 s\n",
      "Best Params {'max_features': 'auto', 'min_samples_split': 2, 'bootstrap': True, 'n_estimators': 10} - 34.4872839451 s\n",
      "Best Params {'max_features': 'log2', 'min_samples_split': 2, 'bootstrap': True, 'n_estimators': 10} - 37.8225269318 s\n",
      "Best Params {'max_features': 'auto', 'min_samples_split': 2, 'bootstrap': True, 'n_estimators': 10} - 34.9594838619 s\n",
      "Best Params {'max_features': 'log2', 'min_samples_split': 2, 'bootstrap': True, 'n_estimators': 10} - 37.9814879894 s\n",
      "Best Params {'max_features': 'auto', 'min_samples_split': 2, 'bootstrap': True, 'n_estimators': 30} - 34.6947739124 s\n",
      "Best Params {'max_features': 'auto', 'min_samples_split': 2, 'bootstrap': True, 'n_estimators': 10} - 37.4474909306 s\n",
      "Best Params {'max_features': 'sqrt', 'min_samples_split': 2, 'bootstrap': True, 'n_estimators': 20} - 35.2336521149 s\n",
      "Best Params {'max_features': 'log2', 'min_samples_split': 4, 'bootstrap': True, 'n_estimators': 10} - 39.4228658676 s\n",
      "Best Params {'max_features': 'sqrt', 'min_samples_split': 2, 'bootstrap': False, 'n_estimators': 20} - 37.9592020512 s\n",
      "Best Params {'max_features': 'log2', 'min_samples_split': 2, 'bootstrap': False, 'n_estimators': 20} - 38.2729420662 s\n",
      "Best Params {'max_features': 'auto', 'min_samples_split': 2, 'bootstrap': True, 'n_estimators': 10} - 38.8492190838 s\n",
      "Best Params {'max_features': 'sqrt', 'min_samples_split': 2, 'bootstrap': False, 'n_estimators': 20} - 44.582887888 s\n",
      "Best Params {'max_features': 'sqrt', 'min_samples_split': 4, 'bootstrap': False, 'n_estimators': 30} - 39.8141410351 s\n",
      "Best Params {'max_features': 'sqrt', 'min_samples_split': 2, 'bootstrap': False, 'n_estimators': 30} - 39.8045499325 s\n",
      "Best Params {'max_features': 'sqrt', 'min_samples_split': 4, 'bootstrap': False, 'n_estimators': 20} - 39.8630862236 s\n",
      "Best Params {'max_features': 'log2', 'min_samples_split': 2, 'bootstrap': False, 'n_estimators': 20} - 39.6564249992 s\n",
      "Best Params {'max_features': 'sqrt', 'min_samples_split': 2, 'bootstrap': False, 'n_estimators': 20} - 49.8701300621 s\n",
      "Best Params {'max_features': 'log2', 'min_samples_split': 2, 'bootstrap': False, 'n_estimators': 30} - 41.9221041203 s\n",
      "Best Params {'max_features': 'sqrt', 'min_samples_split': 8, 'bootstrap': True, 'n_estimators': 10} - 36.2162981033 s\n",
      "Best Params {'max_features': 'log2', 'min_samples_split': 8, 'bootstrap': True, 'n_estimators': 30} - 38.1991028786 s\n",
      "Best Params {'max_features': 'sqrt', 'min_samples_split': 4, 'bootstrap': False, 'n_estimators': 20} - 39.5659880638 s\n",
      "Best Params {'max_features': 'sqrt', 'min_samples_split': 2, 'bootstrap': False, 'n_estimators': 30} - 40.6115109921 s\n",
      "Best Params {'max_features': 'sqrt', 'min_samples_split': 2, 'bootstrap': False, 'n_estimators': 20} - 40.537225008 s\n",
      "Best Params {'max_features': 'sqrt', 'min_samples_split': 2, 'bootstrap': False, 'n_estimators': 20} - 40.7603988647 s\n",
      "Best Params {'max_features': 'log2', 'min_samples_split': 2, 'bootstrap': False, 'n_estimators': 20} - 40.4487481117 s\n",
      "Best Params {'max_features': 'sqrt', 'min_samples_split': 2, 'bootstrap': False, 'n_estimators': 30} - 37.0888910294 s\n",
      "Best Params {'max_features': 'sqrt', 'min_samples_split': 8, 'bootstrap': False, 'n_estimators': 20} - 35.0165810585 s\n",
      "Best Params {'max_features': 'log2', 'min_samples_split': 8, 'bootstrap': True, 'n_estimators': 20} - 42.0586080551 s\n",
      "Best Params {'max_features': 'log2', 'min_samples_split': 2, 'bootstrap': False, 'n_estimators': 20} - 40.5883061886 s\n",
      "Best Params {'max_features': 'sqrt', 'min_samples_split': 4, 'bootstrap': False, 'n_estimators': 10} - 36.82538414 s\n",
      "Best Params {'max_features': 'log2', 'min_samples_split': 2, 'bootstrap': False, 'n_estimators': 30} - 36.9922950268 s\n",
      "Best Params {'max_features': 'log2', 'min_samples_split': 4, 'bootstrap': False, 'n_estimators': 30} - 38.0780169964 s\n",
      "Best Params {'max_features': 'sqrt', 'min_samples_split': 4, 'bootstrap': False, 'n_estimators': 30} - 38.250423193 s\n",
      "Best Params {'max_features': 'log2', 'min_samples_split': 2, 'bootstrap': False, 'n_estimators': 20} - 38.159414053 s\n",
      "Best Params {'max_features': 'sqrt', 'min_samples_split': 2, 'bootstrap': False, 'n_estimators': 30} - 39.2836840153 s\n",
      "Best Params {'max_features': 'sqrt', 'min_samples_split': 8, 'bootstrap': False, 'n_estimators': 30} - 40.5777640343 s\n",
      "Best Params {'max_features': 'sqrt', 'min_samples_split': 2, 'bootstrap': True, 'n_estimators': 10} - 41.3451690674 s\n",
      "Best Params {'max_features': 'auto', 'min_samples_split': 2, 'bootstrap': False, 'n_estimators': 10} - 40.2835769653 s\n",
      "Best Params {'max_features': 'log2', 'min_samples_split': 2, 'bootstrap': False, 'n_estimators': 10} - 36.5494067669 s\n",
      "Best Params {'max_features': 'sqrt', 'min_samples_split': 4, 'bootstrap': False, 'n_estimators': 20} - 37.6110908985 s\n",
      "Best Params {'max_features': 'sqrt', 'min_samples_split': 2, 'bootstrap': False, 'n_estimators': 10} - 36.4803011417 s\n",
      "Best Params {'max_features': 'log2', 'min_samples_split': 8, 'bootstrap': True, 'n_estimators': 30} - 37.3548030853 s\n",
      "Best Params {'max_features': 'sqrt', 'min_samples_split': 4, 'bootstrap': True, 'n_estimators': 30} - 45.0225470066 s\n",
      "Best Params {'max_features': 'log2', 'min_samples_split': 2, 'bootstrap': False, 'n_estimators': 30} - 38.0645618439 s\n",
      "Best Params {'max_features': 'log2', 'min_samples_split': 2, 'bootstrap': False, 'n_estimators': 30} - 37.65300107 s\n",
      "Best Params {'max_features': 'sqrt', 'min_samples_split': 2, 'bootstrap': False, 'n_estimators': 30} - 45.0418889523 s\n",
      "Best Params {'max_features': 'sqrt', 'min_samples_split': 4, 'bootstrap': False, 'n_estimators': 30} - 46.9690301418 s\n",
      "Best Params {'max_features': 'log2', 'min_samples_split': 2, 'bootstrap': False, 'n_estimators': 30} - 43.9406478405 s\n",
      "Best Params {'max_features': 'log2', 'min_samples_split': 4, 'bootstrap': False, 'n_estimators': 10} - 48.1127560139 s\n",
      "Best Params {'max_features': 'auto', 'min_samples_split': 2, 'bootstrap': False, 'n_estimators': 10} - 47.7741827965 s\n",
      "Best Params {'max_features': 'sqrt', 'min_samples_split': 4, 'bootstrap': False, 'n_estimators': 30} - 41.8100299835 s\n",
      "Best Params {'max_features': 'sqrt', 'min_samples_split': 4, 'bootstrap': False, 'n_estimators': 30} - 43.2272868156 s\n",
      "Best Params {'max_features': 'log2', 'min_samples_split': 2, 'bootstrap': False, 'n_estimators': 20} - 45.307311058 s\n",
      "Best Params {'max_features': 'sqrt', 'min_samples_split': 2, 'bootstrap': False, 'n_estimators': 20} - 44.8047888279 s\n",
      "Best Params {'max_features': 'log2', 'min_samples_split': 4, 'bootstrap': False, 'n_estimators': 30} - 42.4827740192 s\n",
      "Best Params {'max_features': 'log2', 'min_samples_split': 2, 'bootstrap': False, 'n_estimators': 20} - 42.1488931179 s\n",
      "Best Params {'max_features': 'log2', 'min_samples_split': 2, 'bootstrap': False, 'n_estimators': 20} - 40.4603569508 s\n",
      "Best Params {'max_features': 'log2', 'min_samples_split': 4, 'bootstrap': False, 'n_estimators': 30} - 41.746928215 s\n",
      "Best Params {'max_features': 'sqrt', 'min_samples_split': 2, 'bootstrap': False, 'n_estimators': 30} - 44.3778111935 s\n",
      "Best Params {'max_features': 'sqrt', 'min_samples_split': 4, 'bootstrap': False, 'n_estimators': 30} - 44.8604838848 s\n",
      "Best Params {'max_features': 'sqrt', 'min_samples_split': 2, 'bootstrap': False, 'n_estimators': 20} - 41.5568258762 s\n",
      "Best Params {'max_features': 'sqrt', 'min_samples_split': 2, 'bootstrap': False, 'n_estimators': 30} - 39.833204031 s\n",
      "Best Params {'max_features': 'log2', 'min_samples_split': 2, 'bootstrap': False, 'n_estimators': 30} - 42.8086719513 s\n",
      "Best Params {'max_features': 'log2', 'min_samples_split': 2, 'bootstrap': False, 'n_estimators': 30} - 41.2592740059 s\n",
      "Best Params {'max_features': 'log2', 'min_samples_split': 2, 'bootstrap': False, 'n_estimators': 20} - 40.828856945 s\n",
      "Best Params {'max_features': 'log2', 'min_samples_split': 2, 'bootstrap': False, 'n_estimators': 30} - 49.5448288918 s\n",
      "Best Params {'max_features': 'sqrt', 'min_samples_split': 4, 'bootstrap': False, 'n_estimators': 20} - 42.8811569214 s\n",
      "Best Params {'max_features': 'sqrt', 'min_samples_split': 2, 'bootstrap': False, 'n_estimators': 10} - 43.4708409309 s\n",
      "Best Params {'max_features': 'log2', 'min_samples_split': 4, 'bootstrap': False, 'n_estimators': 30} - 40.7791848183 s\n",
      "Best Params {'max_features': 'log2', 'min_samples_split': 2, 'bootstrap': False, 'n_estimators': 30} - 44.6589140892 s\n",
      "Best Params {'max_features': 'sqrt', 'min_samples_split': 2, 'bootstrap': True, 'n_estimators': 20} - 43.8796391487 s\n",
      "Best Params {'max_features': 'sqrt', 'min_samples_split': 4, 'bootstrap': False, 'n_estimators': 30} - 46.9525580406 s\n",
      "Best Params {'max_features': 'log2', 'min_samples_split': 2, 'bootstrap': False, 'n_estimators': 30} - 44.2598338127 s\n",
      "Best Params {'max_features': 'sqrt', 'min_samples_split': 4, 'bootstrap': False, 'n_estimators': 20} - 41.2202551365 s\n",
      "--- 3600.80469513 seconds ---\n"
     ]
    }
   ],
   "source": [
    "DTR , RFR = iterador_global(datos,paises,years,conjunto[0],conjunto[0])"
   ]
  },
  {
   "cell_type": "code",
   "execution_count": 20,
   "metadata": {
    "collapsed": false
   },
   "outputs": [
    {
     "data": {
      "text/html": [
       "<div>\n",
       "<table border=\"1\" class=\"dataframe\">\n",
       "  <thead>\n",
       "    <tr style=\"text-align: right;\">\n",
       "      <th></th>\n",
       "      <th>Original</th>\n",
       "      <th>Imputado</th>\n",
       "    </tr>\n",
       "  </thead>\n",
       "  <tbody>\n",
       "    <tr>\n",
       "      <th>0</th>\n",
       "      <td>0.350178</td>\n",
       "      <td>-0.303210</td>\n",
       "    </tr>\n",
       "    <tr>\n",
       "      <th>1</th>\n",
       "      <td>0.082634</td>\n",
       "      <td>-0.181509</td>\n",
       "    </tr>\n",
       "    <tr>\n",
       "      <th>2</th>\n",
       "      <td>-0.215134</td>\n",
       "      <td>0.539558</td>\n",
       "    </tr>\n",
       "    <tr>\n",
       "      <th>3</th>\n",
       "      <td>0.999079</td>\n",
       "      <td>0.981653</td>\n",
       "    </tr>\n",
       "    <tr>\n",
       "      <th>4</th>\n",
       "      <td>0.841696</td>\n",
       "      <td>0.999892</td>\n",
       "    </tr>\n",
       "    <tr>\n",
       "      <th>5</th>\n",
       "      <td>0.000000</td>\n",
       "      <td>-4.867572</td>\n",
       "    </tr>\n",
       "    <tr>\n",
       "      <th>6</th>\n",
       "      <td>1.000000</td>\n",
       "      <td>0.000000</td>\n",
       "    </tr>\n",
       "    <tr>\n",
       "      <th>7</th>\n",
       "      <td>0.924612</td>\n",
       "      <td>-0.156138</td>\n",
       "    </tr>\n",
       "    <tr>\n",
       "      <th>8</th>\n",
       "      <td>0.419279</td>\n",
       "      <td>-0.013122</td>\n",
       "    </tr>\n",
       "    <tr>\n",
       "      <th>9</th>\n",
       "      <td>0.936088</td>\n",
       "      <td>0.359018</td>\n",
       "    </tr>\n",
       "    <tr>\n",
       "      <th>10</th>\n",
       "      <td>0.727488</td>\n",
       "      <td>-14.224581</td>\n",
       "    </tr>\n",
       "    <tr>\n",
       "      <th>11</th>\n",
       "      <td>0.888213</td>\n",
       "      <td>0.714933</td>\n",
       "    </tr>\n",
       "    <tr>\n",
       "      <th>12</th>\n",
       "      <td>0.600951</td>\n",
       "      <td>0.688920</td>\n",
       "    </tr>\n",
       "    <tr>\n",
       "      <th>13</th>\n",
       "      <td>0.915349</td>\n",
       "      <td>0.266293</td>\n",
       "    </tr>\n",
       "    <tr>\n",
       "      <th>14</th>\n",
       "      <td>0.897886</td>\n",
       "      <td>0.757942</td>\n",
       "    </tr>\n",
       "    <tr>\n",
       "      <th>15</th>\n",
       "      <td>0.988095</td>\n",
       "      <td>0.493350</td>\n",
       "    </tr>\n",
       "    <tr>\n",
       "      <th>16</th>\n",
       "      <td>0.761438</td>\n",
       "      <td>-0.046243</td>\n",
       "    </tr>\n",
       "    <tr>\n",
       "      <th>17</th>\n",
       "      <td>0.834353</td>\n",
       "      <td>0.993403</td>\n",
       "    </tr>\n",
       "    <tr>\n",
       "      <th>18</th>\n",
       "      <td>0.763816</td>\n",
       "      <td>0.995109</td>\n",
       "    </tr>\n",
       "    <tr>\n",
       "      <th>19</th>\n",
       "      <td>-1.711305</td>\n",
       "      <td>0.423880</td>\n",
       "    </tr>\n",
       "    <tr>\n",
       "      <th>20</th>\n",
       "      <td>0.678762</td>\n",
       "      <td>-0.174843</td>\n",
       "    </tr>\n",
       "    <tr>\n",
       "      <th>21</th>\n",
       "      <td>0.834336</td>\n",
       "      <td>0.957073</td>\n",
       "    </tr>\n",
       "    <tr>\n",
       "      <th>22</th>\n",
       "      <td>0.860940</td>\n",
       "      <td>0.853606</td>\n",
       "    </tr>\n",
       "    <tr>\n",
       "      <th>23</th>\n",
       "      <td>0.898573</td>\n",
       "      <td>-0.116494</td>\n",
       "    </tr>\n",
       "    <tr>\n",
       "      <th>24</th>\n",
       "      <td>0.594373</td>\n",
       "      <td>0.527798</td>\n",
       "    </tr>\n",
       "    <tr>\n",
       "      <th>25</th>\n",
       "      <td>0.117800</td>\n",
       "      <td>0.970825</td>\n",
       "    </tr>\n",
       "    <tr>\n",
       "      <th>26</th>\n",
       "      <td>0.672833</td>\n",
       "      <td>0.596786</td>\n",
       "    </tr>\n",
       "    <tr>\n",
       "      <th>27</th>\n",
       "      <td>-3776.179874</td>\n",
       "      <td>0.999155</td>\n",
       "    </tr>\n",
       "    <tr>\n",
       "      <th>28</th>\n",
       "      <td>0.517370</td>\n",
       "      <td>0.839106</td>\n",
       "    </tr>\n",
       "    <tr>\n",
       "      <th>29</th>\n",
       "      <td>0.942899</td>\n",
       "      <td>0.345307</td>\n",
       "    </tr>\n",
       "    <tr>\n",
       "      <th>30</th>\n",
       "      <td>0.980270</td>\n",
       "      <td>0.997117</td>\n",
       "    </tr>\n",
       "    <tr>\n",
       "      <th>31</th>\n",
       "      <td>0.273396</td>\n",
       "      <td>0.589723</td>\n",
       "    </tr>\n",
       "    <tr>\n",
       "      <th>32</th>\n",
       "      <td>0.971631</td>\n",
       "      <td>0.982176</td>\n",
       "    </tr>\n",
       "    <tr>\n",
       "      <th>33</th>\n",
       "      <td>0.994881</td>\n",
       "      <td>0.985720</td>\n",
       "    </tr>\n",
       "    <tr>\n",
       "      <th>34</th>\n",
       "      <td>0.999591</td>\n",
       "      <td>0.807913</td>\n",
       "    </tr>\n",
       "    <tr>\n",
       "      <th>35</th>\n",
       "      <td>0.993376</td>\n",
       "      <td>0.993889</td>\n",
       "    </tr>\n",
       "    <tr>\n",
       "      <th>36</th>\n",
       "      <td>0.954872</td>\n",
       "      <td>-0.215879</td>\n",
       "    </tr>\n",
       "    <tr>\n",
       "      <th>37</th>\n",
       "      <td>0.987609</td>\n",
       "      <td>0.021817</td>\n",
       "    </tr>\n",
       "    <tr>\n",
       "      <th>38</th>\n",
       "      <td>0.962750</td>\n",
       "      <td>0.980421</td>\n",
       "    </tr>\n",
       "    <tr>\n",
       "      <th>39</th>\n",
       "      <td>0.960591</td>\n",
       "      <td>0.847112</td>\n",
       "    </tr>\n",
       "    <tr>\n",
       "      <th>40</th>\n",
       "      <td>0.984171</td>\n",
       "      <td>0.844535</td>\n",
       "    </tr>\n",
       "    <tr>\n",
       "      <th>41</th>\n",
       "      <td>0.213541</td>\n",
       "      <td>0.974541</td>\n",
       "    </tr>\n",
       "    <tr>\n",
       "      <th>42</th>\n",
       "      <td>0.660870</td>\n",
       "      <td>0.809190</td>\n",
       "    </tr>\n",
       "    <tr>\n",
       "      <th>43</th>\n",
       "      <td>0.999466</td>\n",
       "      <td>0.953924</td>\n",
       "    </tr>\n",
       "  </tbody>\n",
       "</table>\n",
       "</div>"
      ],
      "text/plain": [
       "       Original   Imputado\n",
       "0      0.350178  -0.303210\n",
       "1      0.082634  -0.181509\n",
       "2     -0.215134   0.539558\n",
       "3      0.999079   0.981653\n",
       "4      0.841696   0.999892\n",
       "5      0.000000  -4.867572\n",
       "6      1.000000   0.000000\n",
       "7      0.924612  -0.156138\n",
       "8      0.419279  -0.013122\n",
       "9      0.936088   0.359018\n",
       "10     0.727488 -14.224581\n",
       "11     0.888213   0.714933\n",
       "12     0.600951   0.688920\n",
       "13     0.915349   0.266293\n",
       "14     0.897886   0.757942\n",
       "15     0.988095   0.493350\n",
       "16     0.761438  -0.046243\n",
       "17     0.834353   0.993403\n",
       "18     0.763816   0.995109\n",
       "19    -1.711305   0.423880\n",
       "20     0.678762  -0.174843\n",
       "21     0.834336   0.957073\n",
       "22     0.860940   0.853606\n",
       "23     0.898573  -0.116494\n",
       "24     0.594373   0.527798\n",
       "25     0.117800   0.970825\n",
       "26     0.672833   0.596786\n",
       "27 -3776.179874   0.999155\n",
       "28     0.517370   0.839106\n",
       "29     0.942899   0.345307\n",
       "30     0.980270   0.997117\n",
       "31     0.273396   0.589723\n",
       "32     0.971631   0.982176\n",
       "33     0.994881   0.985720\n",
       "34     0.999591   0.807913\n",
       "35     0.993376   0.993889\n",
       "36     0.954872  -0.215879\n",
       "37     0.987609   0.021817\n",
       "38     0.962750   0.980421\n",
       "39     0.960591   0.847112\n",
       "40     0.984171   0.844535\n",
       "41     0.213541   0.974541\n",
       "42     0.660870   0.809190\n",
       "43     0.999466   0.953924"
      ]
     },
     "execution_count": 20,
     "metadata": {},
     "output_type": "execute_result"
    }
   ],
   "source": [
    "DTR"
   ]
  },
  {
   "cell_type": "code",
   "execution_count": 21,
   "metadata": {
    "collapsed": false
   },
   "outputs": [
    {
     "data": {
      "text/html": [
       "<div>\n",
       "<table border=\"1\" class=\"dataframe\">\n",
       "  <thead>\n",
       "    <tr style=\"text-align: right;\">\n",
       "      <th></th>\n",
       "      <th>Original</th>\n",
       "      <th>Imputado</th>\n",
       "    </tr>\n",
       "  </thead>\n",
       "  <tbody>\n",
       "    <tr>\n",
       "      <th>0</th>\n",
       "      <td>0.216304</td>\n",
       "      <td>0.623453</td>\n",
       "    </tr>\n",
       "    <tr>\n",
       "      <th>1</th>\n",
       "      <td>0.169073</td>\n",
       "      <td>0.412882</td>\n",
       "    </tr>\n",
       "    <tr>\n",
       "      <th>2</th>\n",
       "      <td>0.657750</td>\n",
       "      <td>0.736507</td>\n",
       "    </tr>\n",
       "    <tr>\n",
       "      <th>3</th>\n",
       "      <td>0.984726</td>\n",
       "      <td>0.969736</td>\n",
       "    </tr>\n",
       "    <tr>\n",
       "      <th>4</th>\n",
       "      <td>0.987999</td>\n",
       "      <td>0.915284</td>\n",
       "    </tr>\n",
       "    <tr>\n",
       "      <th>5</th>\n",
       "      <td>-26.668027</td>\n",
       "      <td>0.116607</td>\n",
       "    </tr>\n",
       "    <tr>\n",
       "      <th>6</th>\n",
       "      <td>-0.025000</td>\n",
       "      <td>0.000000</td>\n",
       "    </tr>\n",
       "    <tr>\n",
       "      <th>7</th>\n",
       "      <td>0.783218</td>\n",
       "      <td>0.405244</td>\n",
       "    </tr>\n",
       "    <tr>\n",
       "      <th>8</th>\n",
       "      <td>0.928766</td>\n",
       "      <td>0.341988</td>\n",
       "    </tr>\n",
       "    <tr>\n",
       "      <th>9</th>\n",
       "      <td>0.987418</td>\n",
       "      <td>0.359693</td>\n",
       "    </tr>\n",
       "    <tr>\n",
       "      <th>10</th>\n",
       "      <td>-0.429091</td>\n",
       "      <td>-0.045304</td>\n",
       "    </tr>\n",
       "    <tr>\n",
       "      <th>11</th>\n",
       "      <td>0.935895</td>\n",
       "      <td>0.819541</td>\n",
       "    </tr>\n",
       "    <tr>\n",
       "      <th>12</th>\n",
       "      <td>0.589823</td>\n",
       "      <td>0.610834</td>\n",
       "    </tr>\n",
       "    <tr>\n",
       "      <th>13</th>\n",
       "      <td>0.991100</td>\n",
       "      <td>0.937932</td>\n",
       "    </tr>\n",
       "    <tr>\n",
       "      <th>14</th>\n",
       "      <td>0.978607</td>\n",
       "      <td>0.940476</td>\n",
       "    </tr>\n",
       "    <tr>\n",
       "      <th>15</th>\n",
       "      <td>0.908055</td>\n",
       "      <td>0.965078</td>\n",
       "    </tr>\n",
       "    <tr>\n",
       "      <th>16</th>\n",
       "      <td>-0.015084</td>\n",
       "      <td>0.000000</td>\n",
       "    </tr>\n",
       "    <tr>\n",
       "      <th>17</th>\n",
       "      <td>0.983964</td>\n",
       "      <td>0.983348</td>\n",
       "    </tr>\n",
       "    <tr>\n",
       "      <th>18</th>\n",
       "      <td>0.978039</td>\n",
       "      <td>0.995900</td>\n",
       "    </tr>\n",
       "    <tr>\n",
       "      <th>19</th>\n",
       "      <td>0.860591</td>\n",
       "      <td>0.941879</td>\n",
       "    </tr>\n",
       "    <tr>\n",
       "      <th>20</th>\n",
       "      <td>0.551420</td>\n",
       "      <td>0.030784</td>\n",
       "    </tr>\n",
       "    <tr>\n",
       "      <th>21</th>\n",
       "      <td>0.935169</td>\n",
       "      <td>0.936313</td>\n",
       "    </tr>\n",
       "    <tr>\n",
       "      <th>22</th>\n",
       "      <td>0.899442</td>\n",
       "      <td>0.780453</td>\n",
       "    </tr>\n",
       "    <tr>\n",
       "      <th>23</th>\n",
       "      <td>0.940293</td>\n",
       "      <td>0.799501</td>\n",
       "    </tr>\n",
       "    <tr>\n",
       "      <th>24</th>\n",
       "      <td>0.694064</td>\n",
       "      <td>0.374751</td>\n",
       "    </tr>\n",
       "    <tr>\n",
       "      <th>25</th>\n",
       "      <td>0.799581</td>\n",
       "      <td>0.933460</td>\n",
       "    </tr>\n",
       "    <tr>\n",
       "      <th>26</th>\n",
       "      <td>0.606684</td>\n",
       "      <td>0.970503</td>\n",
       "    </tr>\n",
       "    <tr>\n",
       "      <th>27</th>\n",
       "      <td>-1463.278651</td>\n",
       "      <td>0.475287</td>\n",
       "    </tr>\n",
       "    <tr>\n",
       "      <th>28</th>\n",
       "      <td>0.701508</td>\n",
       "      <td>0.658845</td>\n",
       "    </tr>\n",
       "    <tr>\n",
       "      <th>29</th>\n",
       "      <td>0.968926</td>\n",
       "      <td>0.831578</td>\n",
       "    </tr>\n",
       "    <tr>\n",
       "      <th>30</th>\n",
       "      <td>0.990564</td>\n",
       "      <td>0.976905</td>\n",
       "    </tr>\n",
       "    <tr>\n",
       "      <th>31</th>\n",
       "      <td>0.972600</td>\n",
       "      <td>0.991978</td>\n",
       "    </tr>\n",
       "    <tr>\n",
       "      <th>32</th>\n",
       "      <td>0.930985</td>\n",
       "      <td>0.960565</td>\n",
       "    </tr>\n",
       "    <tr>\n",
       "      <th>33</th>\n",
       "      <td>0.953319</td>\n",
       "      <td>0.963927</td>\n",
       "    </tr>\n",
       "    <tr>\n",
       "      <th>34</th>\n",
       "      <td>0.938513</td>\n",
       "      <td>0.983196</td>\n",
       "    </tr>\n",
       "    <tr>\n",
       "      <th>35</th>\n",
       "      <td>0.983317</td>\n",
       "      <td>0.923468</td>\n",
       "    </tr>\n",
       "    <tr>\n",
       "      <th>36</th>\n",
       "      <td>0.974607</td>\n",
       "      <td>0.781264</td>\n",
       "    </tr>\n",
       "    <tr>\n",
       "      <th>37</th>\n",
       "      <td>0.968335</td>\n",
       "      <td>0.993105</td>\n",
       "    </tr>\n",
       "    <tr>\n",
       "      <th>38</th>\n",
       "      <td>0.968633</td>\n",
       "      <td>0.974526</td>\n",
       "    </tr>\n",
       "    <tr>\n",
       "      <th>39</th>\n",
       "      <td>0.862931</td>\n",
       "      <td>0.963069</td>\n",
       "    </tr>\n",
       "    <tr>\n",
       "      <th>40</th>\n",
       "      <td>0.949608</td>\n",
       "      <td>0.937945</td>\n",
       "    </tr>\n",
       "    <tr>\n",
       "      <th>41</th>\n",
       "      <td>0.795306</td>\n",
       "      <td>0.967058</td>\n",
       "    </tr>\n",
       "    <tr>\n",
       "      <th>42</th>\n",
       "      <td>0.785815</td>\n",
       "      <td>0.608298</td>\n",
       "    </tr>\n",
       "    <tr>\n",
       "      <th>43</th>\n",
       "      <td>0.912251</td>\n",
       "      <td>0.877692</td>\n",
       "    </tr>\n",
       "  </tbody>\n",
       "</table>\n",
       "</div>"
      ],
      "text/plain": [
       "       Original  Imputado\n",
       "0      0.216304  0.623453\n",
       "1      0.169073  0.412882\n",
       "2      0.657750  0.736507\n",
       "3      0.984726  0.969736\n",
       "4      0.987999  0.915284\n",
       "5    -26.668027  0.116607\n",
       "6     -0.025000  0.000000\n",
       "7      0.783218  0.405244\n",
       "8      0.928766  0.341988\n",
       "9      0.987418  0.359693\n",
       "10    -0.429091 -0.045304\n",
       "11     0.935895  0.819541\n",
       "12     0.589823  0.610834\n",
       "13     0.991100  0.937932\n",
       "14     0.978607  0.940476\n",
       "15     0.908055  0.965078\n",
       "16    -0.015084  0.000000\n",
       "17     0.983964  0.983348\n",
       "18     0.978039  0.995900\n",
       "19     0.860591  0.941879\n",
       "20     0.551420  0.030784\n",
       "21     0.935169  0.936313\n",
       "22     0.899442  0.780453\n",
       "23     0.940293  0.799501\n",
       "24     0.694064  0.374751\n",
       "25     0.799581  0.933460\n",
       "26     0.606684  0.970503\n",
       "27 -1463.278651  0.475287\n",
       "28     0.701508  0.658845\n",
       "29     0.968926  0.831578\n",
       "30     0.990564  0.976905\n",
       "31     0.972600  0.991978\n",
       "32     0.930985  0.960565\n",
       "33     0.953319  0.963927\n",
       "34     0.938513  0.983196\n",
       "35     0.983317  0.923468\n",
       "36     0.974607  0.781264\n",
       "37     0.968335  0.993105\n",
       "38     0.968633  0.974526\n",
       "39     0.862931  0.963069\n",
       "40     0.949608  0.937945\n",
       "41     0.795306  0.967058\n",
       "42     0.785815  0.608298\n",
       "43     0.912251  0.877692"
      ]
     },
     "execution_count": 21,
     "metadata": {},
     "output_type": "execute_result"
    }
   ],
   "source": [
    "RFR"
   ]
  },
  {
   "cell_type": "code",
   "execution_count": null,
   "metadata": {
    "collapsed": true
   },
   "outputs": [],
   "source": [
    "def tabla_2_base(datos,indicadores,look_back):\n",
    "    temp_table = []\n",
    "    for i in range(look_back):      \n",
    "        temp_years = range(year_init-year_range-i+1,year_init-i+1)[::-1]\n",
    "        temp_table.append(pd.DataFrame.pivot_table(datos, values='Value', index=['CountryName', 'Year'], columns=['IndicatorCode']).loc[(paises,temp_years),indicadores].sortlevel([\"CountryName\",\"Year\"], ascending=[True,False]))\n",
    "    return pd.DataFrame(np.column_stack(temp_table))"
   ]
  },
  {
   "cell_type": "code",
   "execution_count": null,
   "metadata": {
    "collapsed": true
   },
   "outputs": [],
   "source": [
    "def registros_2(sud_conjunto,look_back):\n",
    "    return np.sum(tabla_2_base(datos,sud_conjunto,look_back).count(axis=1))"
   ]
  },
  {
   "cell_type": "code",
   "execution_count": null,
   "metadata": {
    "collapsed": true
   },
   "outputs": [],
   "source": [
    "def iterador_global_2(datos,paises,years,indicadores_1,indicadores_2,look_back):\n",
    "    \n",
    "    t_1 = tabla_2_base(datos,indicadores_1,look_back)\n",
    "    t_2 = tabla_base(paises,years,indicadores_2,datos)\n",
    "    \n",
    "    iterador = iter_R2_Splitter_v3(t_1,t_2)\n",
    "    \n",
    "    return iterador"
   ]
  },
  {
   "cell_type": "code",
   "execution_count": null,
   "metadata": {
    "collapsed": true
   },
   "outputs": [],
   "source": [
    "def iterador_global_3(datos,paises,years,indicadores_1,indicadores_2,look_back,estimador):\n",
    "    \n",
    "    t_1 = tabla_2_base(datos,indicadores_1,look_back)\n",
    "    t_2 = tabla_base(paises,years,indicadores_2,datos)\n",
    "    \n",
    "    return iter_Splitter(estimador,t_1,t_2)"
   ]
  },
  {
   "cell_type": "code",
   "execution_count": 23,
   "metadata": {
    "collapsed": true
   },
   "outputs": [],
   "source": [
    "def porcentaje_nombres(df,conjunto):\n",
    "    df_temp = np.array(df)\n",
    "    x = 0.0\n",
    "    temp = []\n",
    "    for i in range(len(df_temp)):\n",
    "        if (df_temp[i][0] > 0.9 or df_temp[i][1] > 0.9):\n",
    "            x=x+1\n",
    "            temp.append(conjunto[i])\n",
    "    porcentaje = x/len(df)\n",
    "    nombres = pd.DataFrame(datos).loc[:,['IndicatorName','IndicatorCode']].set_index('IndicatorCode').loc[temp].drop_duplicates().dropna().reset_index().drop('IndicatorCode', 1)\n",
    "    return porcentaje,nombres"
   ]
  },
  {
   "cell_type": "code",
   "execution_count": 24,
   "metadata": {
    "collapsed": false
   },
   "outputs": [],
   "source": [
    "porcentaje,nombres = porcentaje_nombres(DTR,conjunto[0])"
   ]
  },
  {
   "cell_type": "code",
   "execution_count": 25,
   "metadata": {
    "collapsed": false
   },
   "outputs": [
    {
     "data": {
      "text/plain": [
       "0.5681818181818182"
      ]
     },
     "execution_count": 25,
     "metadata": {},
     "output_type": "execute_result"
    }
   ],
   "source": [
    "porcentaje"
   ]
  },
  {
   "cell_type": "code",
   "execution_count": 26,
   "metadata": {
    "collapsed": false
   },
   "outputs": [
    {
     "data": {
      "text/plain": [
       "0.6590909090909091"
      ]
     },
     "execution_count": 26,
     "metadata": {},
     "output_type": "execute_result"
    }
   ],
   "source": [
    "porcentaje,nombres = porcentaje_nombres(RFR,conjunto[0])\n",
    "porcentaje"
   ]
  },
  {
   "cell_type": "markdown",
   "metadata": {},
   "source": [
    "## Combinamos el Primer Conjunto de Indicadores"
   ]
  },
  {
   "cell_type": "code",
   "execution_count": null,
   "metadata": {
    "collapsed": true
   },
   "outputs": [],
   "source": []
  },
  {
   "cell_type": "markdown",
   "metadata": {},
   "source": [
    "Calculamos el % de indicadores cuyo porcentaje de predicción es mayor a 90% (Original | Imputado)"
   ]
  },
  {
   "cell_type": "code",
   "execution_count": null,
   "metadata": {
    "collapsed": false
   },
   "outputs": [],
   "source": [
    "start_time = time.time()\n",
    "resultado = []\n",
    "\n",
    "for i in range(len(conjunto)):\n",
    "    for j in range(1,look_back+1):\n",
    "        for k in range(len(estimadores)):\n",
    "            porcentaje,nombres = porcentaje_nombres(iterador_global_3(datos,paises,years,conjunto[0],conjunto[i],j,estimadores[k]),conjunto[i])\n",
    "            resultado.append([conjunto_nombre[0],conjunto_nombre[i],j,estimadores_nombres[k],porcentaje,nombres])\n",
    "\n",
    "df = pd.DataFrame(resultado, columns=[\"Base\",\"Target\",\"Look Back\",\"Estimator\",\"%\",\"Indicators >90%\"])\n",
    "print(\"--- %s seconds ---\" % (time.time() - start_time))\n",
    "df"
   ]
  },
  {
   "cell_type": "markdown",
   "metadata": {},
   "source": [
    "## Resultados iniciales:"
   ]
  },
  {
   "cell_type": "code",
   "execution_count": null,
   "metadata": {
    "collapsed": false
   },
   "outputs": [],
   "source": [
    "pd.DataFrame.pivot_table(df, index=[\"Base\",\"Target\"], columns=[\"Estimator\"] )"
   ]
  },
  {
   "cell_type": "code",
   "execution_count": null,
   "metadata": {
    "collapsed": true
   },
   "outputs": [],
   "source": []
  },
  {
   "cell_type": "markdown",
   "metadata": {},
   "source": [
    "### Buscamos resultados:"
   ]
  },
  {
   "cell_type": "markdown",
   "metadata": {},
   "source": [
    "Buscamos los indicadores más facilmente predecibles (>90%) según deseemos"
   ]
  },
  {
   "cell_type": "code",
   "execution_count": null,
   "metadata": {
    "collapsed": true
   },
   "outputs": [],
   "source": [
    "def buscar(df,indicador_1,indicador_2,look_back):\n",
    "    return df[(df['Base']==indicador_1)&(df['Target']==indicador_2)&(df['Look Back'] == look_back)]['Indicators >90%'].values[0]"
   ]
  },
  {
   "cell_type": "code",
   "execution_count": null,
   "metadata": {
    "collapsed": false
   },
   "outputs": [],
   "source": [
    "buscar(df,'Agricultura','Educacion',1).head()"
   ]
  },
  {
   "cell_type": "code",
   "execution_count": null,
   "metadata": {
    "collapsed": false
   },
   "outputs": [],
   "source": [
    "buscar(df,'Agricultura','Educacion',2).head()"
   ]
  },
  {
   "cell_type": "code",
   "execution_count": null,
   "metadata": {
    "collapsed": false
   },
   "outputs": [],
   "source": [
    "buscar(df,'Agricultura','Educacion',3).head()"
   ]
  },
  {
   "cell_type": "markdown",
   "metadata": {},
   "source": [
    "### Graficamos resultados:"
   ]
  },
  {
   "cell_type": "markdown",
   "metadata": {},
   "source": [
    "Graficamos cada Look back en un heatmap"
   ]
  },
  {
   "cell_type": "code",
   "execution_count": null,
   "metadata": {
    "collapsed": false
   },
   "outputs": [],
   "source": [
    "def graficar_uno(df,look_back):\n",
    "    import seaborn as sns\n",
    "    import matplotlib.pyplot as plt\n",
    "    df_temp = df[df['Look Back'] == look_back].drop(['Indicators >90%','Look Back'], 1)\n",
    "    df_temp = pd.DataFrame(np.array(pd.DataFrame.pivot_table(df_temp, index=[\"Base\"], columns=[\"Target\"])), index=[conjunto_nombre[0]], columns=[conjunto_nombre])\n",
    "    ax = sns.heatmap(df_temp)\n",
    "    plt.title('Look back = '+str(look_back), size=15)\n",
    "    return plt.show()"
   ]
  },
  {
   "cell_type": "code",
   "execution_count": null,
   "metadata": {
    "collapsed": false
   },
   "outputs": [],
   "source": [
    "graficar_uno(df,1)"
   ]
  },
  {
   "cell_type": "code",
   "execution_count": null,
   "metadata": {
    "collapsed": false
   },
   "outputs": [],
   "source": [
    "graficar_uno(df,2)"
   ]
  },
  {
   "cell_type": "code",
   "execution_count": null,
   "metadata": {
    "collapsed": false
   },
   "outputs": [],
   "source": [
    "graficar_uno(df,3)"
   ]
  },
  {
   "cell_type": "markdown",
   "metadata": {},
   "source": [
    "## Iteramos todas las Combinaciones Posibles de los Conjuntos de Indicadores datos"
   ]
  },
  {
   "cell_type": "code",
   "execution_count": null,
   "metadata": {
    "collapsed": false
   },
   "outputs": [],
   "source": [
    "start_time = time.time()\n",
    "\n",
    "resultado = []\n",
    "for i in range(len(estimators)):\n",
    "    for j in range(len(conjunto)):\n",
    "        for k in range(len(conjunto)):\n",
    "            for l in range(1,look_back+1):\n",
    "                porcentaje,nombres = porcentaje_nombres(iterador_global_2(estimator[i],datos,paises,years,conjunto[j],conjunto[k],l),conjunto[j])\n",
    "                resultado.append([conjunto_nombre[i],conjunto_nombre[j],k,porcentaje,nombres])\n",
    "\n",
    "df_global = pd.DataFrame(resultado, columns=[\"Base\",\"Target\",\"Look Back\",\"%\",\"Indicators >90%\"])\n",
    "print(\"--- %s seconds ---\" % (time.time() - start_time))\n",
    "df_global"
   ]
  },
  {
   "cell_type": "markdown",
   "metadata": {},
   "source": [
    "## Resultados globales:"
   ]
  },
  {
   "cell_type": "code",
   "execution_count": null,
   "metadata": {
    "collapsed": false
   },
   "outputs": [],
   "source": [
    "pd.DataFrame.pivot_table(df_global, index=[\"Base\",\"Target\"], columns=[\"Look Back\"] )"
   ]
  },
  {
   "cell_type": "code",
   "execution_count": null,
   "metadata": {
    "collapsed": false
   },
   "outputs": [],
   "source": [
    "buscar(df_global,'Economia','Economia',1).head()"
   ]
  },
  {
   "cell_type": "code",
   "execution_count": null,
   "metadata": {
    "collapsed": false
   },
   "outputs": [],
   "source": [
    "buscar(df_global,'Economia','Economia',2).head()"
   ]
  },
  {
   "cell_type": "code",
   "execution_count": null,
   "metadata": {
    "collapsed": false
   },
   "outputs": [],
   "source": [
    "buscar(df_global,'Economia','Economia',3).head()"
   ]
  },
  {
   "cell_type": "markdown",
   "metadata": {},
   "source": [
    "## Graficamos todas las iteraciones"
   ]
  },
  {
   "cell_type": "code",
   "execution_count": null,
   "metadata": {
    "collapsed": true
   },
   "outputs": [],
   "source": [
    "def graficar(df,look_back):\n",
    "    import seaborn as sns\n",
    "    import matplotlib.pyplot as plt\n",
    "    df_temp = df[df['Look Back'] == look_back].drop(['Indicators >90%','Look Back'], 1)\n",
    "    df_temp = pd.DataFrame(np.array(pd.DataFrame.pivot_table(df_temp, index=[\"Base\"], columns=[\"Target\"])), index=[conjunto_nombre], columns=[conjunto_nombre])\n",
    "    ax = sns.heatmap(df_temp)\n",
    "    plt.title('Look back = '+str(look_back), size=15)\n",
    "    return plt.show()"
   ]
  },
  {
   "cell_type": "code",
   "execution_count": null,
   "metadata": {
    "collapsed": false
   },
   "outputs": [],
   "source": [
    "graficar(df_global,1)"
   ]
  },
  {
   "cell_type": "code",
   "execution_count": null,
   "metadata": {
    "collapsed": false
   },
   "outputs": [],
   "source": [
    "graficar(df_global,2)"
   ]
  },
  {
   "cell_type": "code",
   "execution_count": null,
   "metadata": {
    "collapsed": false
   },
   "outputs": [],
   "source": [
    "graficar(df_global,3)"
   ]
  },
  {
   "cell_type": "code",
   "execution_count": null,
   "metadata": {
    "collapsed": true
   },
   "outputs": [],
   "source": [
    "df_global.to_csv('df_global_5.csv')"
   ]
  },
  {
   "cell_type": "code",
   "execution_count": null,
   "metadata": {
    "collapsed": true
   },
   "outputs": [],
   "source": []
  }
 ],
 "metadata": {
  "anaconda-cloud": {},
  "kernelspec": {
   "display_name": "Python 2",
   "language": "python",
   "name": "python2"
  },
  "language_info": {
   "codemirror_mode": {
    "name": "ipython",
    "version": 2
   },
   "file_extension": ".py",
   "mimetype": "text/x-python",
   "name": "python",
   "nbconvert_exporter": "python",
   "pygments_lexer": "ipython2",
   "version": "2.7.13"
  }
 },
 "nbformat": 4,
 "nbformat_minor": 1
}
