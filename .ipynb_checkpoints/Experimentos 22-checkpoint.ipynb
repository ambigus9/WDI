{
 "cells": [
  {
   "cell_type": "markdown",
   "metadata": {},
   "source": [
    "## World Development Indicators - Analytics"
   ]
  },
  {
   "cell_type": "code",
   "execution_count": 1,
   "metadata": {
    "collapsed": false
   },
   "outputs": [
    {
     "data": {
      "text/html": [
       "<div>\n",
       "<table border=\"1\" class=\"dataframe\">\n",
       "  <thead>\n",
       "    <tr style=\"text-align: right;\">\n",
       "      <th></th>\n",
       "      <th>0</th>\n",
       "      <th>1</th>\n",
       "      <th>2</th>\n",
       "      <th>3</th>\n",
       "      <th>4</th>\n",
       "      <th>5</th>\n",
       "      <th>6</th>\n",
       "      <th>7</th>\n",
       "      <th>8</th>\n",
       "      <th>9</th>\n",
       "      <th>10</th>\n",
       "      <th>11</th>\n",
       "      <th>12</th>\n",
       "      <th>13</th>\n",
       "      <th>14</th>\n",
       "    </tr>\n",
       "  </thead>\n",
       "  <tbody>\n",
       "    <tr>\n",
       "      <th>0</th>\n",
       "      <td>3.358406e+09</td>\n",
       "      <td>3.637845e+09</td>\n",
       "      <td>1.347350e+09</td>\n",
       "      <td>1.239080e+09</td>\n",
       "      <td>108.320559</td>\n",
       "      <td>0.071111</td>\n",
       "      <td>14517.635341</td>\n",
       "      <td>39348.639719</td>\n",
       "      <td>42622.666667</td>\n",
       "      <td>15786.172840</td>\n",
       "      <td>-1.046262</td>\n",
       "      <td>25735.714754</td>\n",
       "      <td>24723.111892</td>\n",
       "      <td>2.196543e+09</td>\n",
       "      <td>2.110118e+09</td>\n",
       "    </tr>\n",
       "    <tr>\n",
       "      <th>1</th>\n",
       "      <td>2.954188e+09</td>\n",
       "      <td>3.257308e+09</td>\n",
       "      <td>1.206410e+09</td>\n",
       "      <td>1.089944e+09</td>\n",
       "      <td>110.260684</td>\n",
       "      <td>-12.036015</td>\n",
       "      <td>12629.713786</td>\n",
       "      <td>34231.611819</td>\n",
       "      <td>37744.009270</td>\n",
       "      <td>13979.262693</td>\n",
       "      <td>-13.004332</td>\n",
       "      <td>22388.956865</td>\n",
       "      <td>21671.375749</td>\n",
       "      <td>1.932167e+09</td>\n",
       "      <td>1.870240e+09</td>\n",
       "    </tr>\n",
       "    <tr>\n",
       "      <th>2</th>\n",
       "      <td>2.743171e+09</td>\n",
       "      <td>3.065955e+09</td>\n",
       "      <td>1.135539e+09</td>\n",
       "      <td>1.012090e+09</td>\n",
       "      <td>111.766847</td>\n",
       "      <td>-7.142991</td>\n",
       "      <td>11602.142227</td>\n",
       "      <td>31446.478970</td>\n",
       "      <td>35146.738046</td>\n",
       "      <td>13017.310387</td>\n",
       "      <td>-8.136143</td>\n",
       "      <td>20567.359344</td>\n",
       "      <td>20151.309866</td>\n",
       "      <td>1.794152e+09</td>\n",
       "      <td>1.757859e+09</td>\n",
       "    </tr>\n",
       "    <tr>\n",
       "      <th>3</th>\n",
       "      <td>2.693974e+09</td>\n",
       "      <td>3.050780e+09</td>\n",
       "      <td>1.129918e+09</td>\n",
       "      <td>9.939385e+08</td>\n",
       "      <td>113.244595</td>\n",
       "      <td>-1.793436</td>\n",
       "      <td>11275.280156</td>\n",
       "      <td>30560.551094</td>\n",
       "      <td>34608.172248</td>\n",
       "      <td>12817.841573</td>\n",
       "      <td>-2.817256</td>\n",
       "      <td>19987.924139</td>\n",
       "      <td>19987.924139</td>\n",
       "      <td>1.761975e+09</td>\n",
       "      <td>1.761975e+09</td>\n",
       "    </tr>\n",
       "    <tr>\n",
       "      <th>4</th>\n",
       "      <td>2.802259e+09</td>\n",
       "      <td>3.252725e+09</td>\n",
       "      <td>1.204713e+09</td>\n",
       "      <td>1.033890e+09</td>\n",
       "      <td>116.075112</td>\n",
       "      <td>4.019542</td>\n",
       "      <td>11607.745344</td>\n",
       "      <td>31461.665675</td>\n",
       "      <td>36519.163794</td>\n",
       "      <td>13525.616220</td>\n",
       "      <td>2.948620</td>\n",
       "      <td>20577.292107</td>\n",
       "      <td>20946.700835</td>\n",
       "      <td>1.832799e+09</td>\n",
       "      <td>1.865702e+09</td>\n",
       "    </tr>\n",
       "  </tbody>\n",
       "</table>\n",
       "</div>"
      ],
      "text/plain": [
       "             0             1             2             3           4   \\\n",
       "0  3.358406e+09  3.637845e+09  1.347350e+09  1.239080e+09  108.320559   \n",
       "1  2.954188e+09  3.257308e+09  1.206410e+09  1.089944e+09  110.260684   \n",
       "2  2.743171e+09  3.065955e+09  1.135539e+09  1.012090e+09  111.766847   \n",
       "3  2.693974e+09  3.050780e+09  1.129918e+09  9.939385e+08  113.244595   \n",
       "4  2.802259e+09  3.252725e+09  1.204713e+09  1.033890e+09  116.075112   \n",
       "\n",
       "          5             6             7             8             9   \\\n",
       "0   0.071111  14517.635341  39348.639719  42622.666667  15786.172840   \n",
       "1 -12.036015  12629.713786  34231.611819  37744.009270  13979.262693   \n",
       "2  -7.142991  11602.142227  31446.478970  35146.738046  13017.310387   \n",
       "3  -1.793436  11275.280156  30560.551094  34608.172248  12817.841573   \n",
       "4   4.019542  11607.745344  31461.665675  36519.163794  13525.616220   \n",
       "\n",
       "          10            11            12            13            14  \n",
       "0  -1.046262  25735.714754  24723.111892  2.196543e+09  2.110118e+09  \n",
       "1 -13.004332  22388.956865  21671.375749  1.932167e+09  1.870240e+09  \n",
       "2  -8.136143  20567.359344  20151.309866  1.794152e+09  1.757859e+09  \n",
       "3  -2.817256  19987.924139  19987.924139  1.761975e+09  1.761975e+09  \n",
       "4   2.948620  20577.292107  20946.700835  1.832799e+09  1.865702e+09  "
      ]
     },
     "execution_count": 1,
     "metadata": {},
     "output_type": "execute_result"
    }
   ],
   "source": [
    "import numpy as np\n",
    "import pandas as pd\n",
    "import matplotlib.pyplot as plt\n",
    "\n",
    "tabla = np.array(pd.read_csv(\"https://www.dropbox.com/s/d1i6rs5wyhuvyjd/economia7.csv?dl=1\").drop('Unnamed: 0', 1))\n",
    "pd.DataFrame(tabla).head()"
   ]
  },
  {
   "cell_type": "markdown",
   "metadata": {},
   "source": [
    "## Train Test Split"
   ]
  },
  {
   "cell_type": "code",
   "execution_count": 2,
   "metadata": {
    "collapsed": false
   },
   "outputs": [],
   "source": [
    "def splitter(tabla,y_indicator):\n",
    "    from sklearn.model_selection import train_test_split\n",
    "    # Asignamos X e y, eliminando la columna y en X\n",
    "    X = np.delete(tabla[:,:], y_indicator, 1)\n",
    "    y = tabla[:,y_indicator]\n",
    "    # Separamos Train y Test respectivamente para X e y\n",
    "    X_train, X_test, y_train, y_test = train_test_split(X, y, test_size=0.2)\n",
    "    return X_train, X_test, y_train, y_test"
   ]
  },
  {
   "cell_type": "markdown",
   "metadata": {},
   "source": [
    "## Métricas de error\n",
    "### R2 Score - Coeficiente de Determinación\n",
    "El mejor valor posible es 1.0"
   ]
  },
  {
   "cell_type": "code",
   "execution_count": 3,
   "metadata": {
    "collapsed": false
   },
   "outputs": [],
   "source": [
    "from sklearn.metrics import r2_score\n",
    "def r2(y_true, y_predict):\n",
    "    return r2_score(y_true, y_predict)"
   ]
  },
  {
   "cell_type": "markdown",
   "metadata": {},
   "source": [
    "## Decission Tree Regressor"
   ]
  },
  {
   "cell_type": "code",
   "execution_count": 4,
   "metadata": {
    "collapsed": false
   },
   "outputs": [],
   "source": [
    "from sklearn.tree import DecisionTreeRegressor\n",
    "\n",
    "def DTR(X_train, X_test, y_train, y_test):\n",
    "    estimator = DecisionTreeRegressor()\n",
    "    estimator.fit(X_train,y_train)\n",
    "    y_predict = estimator.predict(X_test)\n",
    "    R2_test = r2(y_test,y_predict)\n",
    "    return R2_test"
   ]
  },
  {
   "cell_type": "markdown",
   "metadata": {},
   "source": [
    "## Indicador a Predecir"
   ]
  },
  {
   "cell_type": "code",
   "execution_count": 5,
   "metadata": {
    "collapsed": true
   },
   "outputs": [],
   "source": [
    "y_indicator = 5"
   ]
  },
  {
   "cell_type": "markdown",
   "metadata": {},
   "source": [
    "## Modificamos los valores nulos"
   ]
  },
  {
   "cell_type": "code",
   "execution_count": 6,
   "metadata": {
    "collapsed": false
   },
   "outputs": [],
   "source": [
    "def imputador(X):\n",
    "    from sklearn.preprocessing import Imputer\n",
    "    impute=Imputer(missing_values=0,strategy='mean',axis=0)\n",
    "    impute.fit(X)\n",
    "    X_imputado=impute.transform(X)\n",
    "    return X_imputado"
   ]
  },
  {
   "cell_type": "code",
   "execution_count": 7,
   "metadata": {
    "collapsed": true
   },
   "outputs": [],
   "source": [
    "tabla_imputada = imputador(tabla)"
   ]
  },
  {
   "cell_type": "markdown",
   "metadata": {
    "collapsed": true
   },
   "source": [
    "## GridSearchCV"
   ]
  },
  {
   "cell_type": "markdown",
   "metadata": {},
   "source": [
    "Efecutamos un GridSearchCV para buscar el mejor valor del parámetro Max_depth (Máximo valor: 10) para nuestro modelo"
   ]
  },
  {
   "cell_type": "code",
   "execution_count": 35,
   "metadata": {
    "collapsed": false
   },
   "outputs": [],
   "source": [
    "def Grid_Search_CV(X_train, y_train):\n",
    "    from sklearn.grid_search import GridSearchCV\n",
    "    from sklearn.cross_validation import ShuffleSplit\n",
    "\n",
    "    cv = ShuffleSplit(X_train.shape[0], n_iter = 10, test_size=0.2)\n",
    "    estimator = DecisionTreeRegressor()\n",
    "    params = {'max_depth': [1, 2, 3, 4, 5, 6, 7, 8, 9, 10]}\n",
    "\n",
    "    grid = GridSearchCV(estimator, params, cv=cv, scoring=\"r2\")\n",
    "\n",
    "    grid.fit(X_train, y_train)\n",
    "\n",
    "    return grid , grid.best_estimator_"
   ]
  },
  {
   "cell_type": "code",
   "execution_count": 40,
   "metadata": {
    "collapsed": false
   },
   "outputs": [
    {
     "name": "stdout",
     "output_type": "stream",
     "text": [
      "0.999549764255\n"
     ]
    },
    {
     "data": {
      "text/html": [
       "<div>\n",
       "<table border=\"1\" class=\"dataframe\">\n",
       "  <thead>\n",
       "    <tr style=\"text-align: right;\">\n",
       "      <th></th>\n",
       "      <th>Test</th>\n",
       "      <th>Predict Optimun Grid</th>\n",
       "    </tr>\n",
       "  </thead>\n",
       "  <tbody>\n",
       "    <tr>\n",
       "      <th>0</th>\n",
       "      <td>8.648000e+09</td>\n",
       "      <td>9.885009e+09</td>\n",
       "    </tr>\n",
       "    <tr>\n",
       "      <th>1</th>\n",
       "      <td>4.083790e+14</td>\n",
       "      <td>4.017440e+14</td>\n",
       "    </tr>\n",
       "    <tr>\n",
       "      <th>2</th>\n",
       "      <td>1.167544e+13</td>\n",
       "      <td>1.225686e+13</td>\n",
       "    </tr>\n",
       "    <tr>\n",
       "      <th>3</th>\n",
       "      <td>3.098550e+10</td>\n",
       "      <td>2.670251e+10</td>\n",
       "    </tr>\n",
       "    <tr>\n",
       "      <th>4</th>\n",
       "      <td>1.194000e+09</td>\n",
       "      <td>1.989553e+09</td>\n",
       "    </tr>\n",
       "    <tr>\n",
       "      <th>5</th>\n",
       "      <td>1.039547e+14</td>\n",
       "      <td>1.096276e+14</td>\n",
       "    </tr>\n",
       "    <tr>\n",
       "      <th>6</th>\n",
       "      <td>0.000000e+00</td>\n",
       "      <td>0.000000e+00</td>\n",
       "    </tr>\n",
       "    <tr>\n",
       "      <th>7</th>\n",
       "      <td>5.580751e+10</td>\n",
       "      <td>6.140910e+10</td>\n",
       "    </tr>\n",
       "    <tr>\n",
       "      <th>8</th>\n",
       "      <td>1.186000e+09</td>\n",
       "      <td>1.989553e+09</td>\n",
       "    </tr>\n",
       "    <tr>\n",
       "      <th>9</th>\n",
       "      <td>1.400300e+10</td>\n",
       "      <td>3.193997e+10</td>\n",
       "    </tr>\n",
       "    <tr>\n",
       "      <th>10</th>\n",
       "      <td>8.377910e+11</td>\n",
       "      <td>8.445081e+11</td>\n",
       "    </tr>\n",
       "    <tr>\n",
       "      <th>11</th>\n",
       "      <td>2.077760e+11</td>\n",
       "      <td>1.677091e+11</td>\n",
       "    </tr>\n",
       "    <tr>\n",
       "      <th>12</th>\n",
       "      <td>8.278150e+11</td>\n",
       "      <td>8.412035e+11</td>\n",
       "    </tr>\n",
       "    <tr>\n",
       "      <th>13</th>\n",
       "      <td>8.369980e+11</td>\n",
       "      <td>8.792350e+11</td>\n",
       "    </tr>\n",
       "    <tr>\n",
       "      <th>14</th>\n",
       "      <td>7.726920e+09</td>\n",
       "      <td>9.885009e+09</td>\n",
       "    </tr>\n",
       "    <tr>\n",
       "      <th>15</th>\n",
       "      <td>1.695311e+09</td>\n",
       "      <td>1.989553e+09</td>\n",
       "    </tr>\n",
       "    <tr>\n",
       "      <th>16</th>\n",
       "      <td>3.525840e+11</td>\n",
       "      <td>1.677091e+11</td>\n",
       "    </tr>\n",
       "    <tr>\n",
       "      <th>17</th>\n",
       "      <td>1.928949e+11</td>\n",
       "      <td>1.677091e+11</td>\n",
       "    </tr>\n",
       "    <tr>\n",
       "      <th>18</th>\n",
       "      <td>5.648106e+10</td>\n",
       "      <td>5.784977e+10</td>\n",
       "    </tr>\n",
       "    <tr>\n",
       "      <th>19</th>\n",
       "      <td>3.358406e+09</td>\n",
       "      <td>1.989553e+09</td>\n",
       "    </tr>\n",
       "    <tr>\n",
       "      <th>20</th>\n",
       "      <td>6.092506e+10</td>\n",
       "      <td>5.784977e+10</td>\n",
       "    </tr>\n",
       "    <tr>\n",
       "      <th>21</th>\n",
       "      <td>2.370095e+09</td>\n",
       "      <td>1.989553e+09</td>\n",
       "    </tr>\n",
       "    <tr>\n",
       "      <th>22</th>\n",
       "      <td>1.870186e+09</td>\n",
       "      <td>1.989553e+09</td>\n",
       "    </tr>\n",
       "    <tr>\n",
       "      <th>23</th>\n",
       "      <td>1.659583e+11</td>\n",
       "      <td>1.677091e+11</td>\n",
       "    </tr>\n",
       "    <tr>\n",
       "      <th>24</th>\n",
       "      <td>2.925769e+09</td>\n",
       "      <td>1.989553e+09</td>\n",
       "    </tr>\n",
       "    <tr>\n",
       "      <th>25</th>\n",
       "      <td>2.957003e+09</td>\n",
       "      <td>1.989553e+09</td>\n",
       "    </tr>\n",
       "    <tr>\n",
       "      <th>26</th>\n",
       "      <td>1.295643e+11</td>\n",
       "      <td>1.342543e+11</td>\n",
       "    </tr>\n",
       "    <tr>\n",
       "      <th>27</th>\n",
       "      <td>0.000000e+00</td>\n",
       "      <td>0.000000e+00</td>\n",
       "    </tr>\n",
       "    <tr>\n",
       "      <th>28</th>\n",
       "      <td>1.109000e+09</td>\n",
       "      <td>1.989553e+09</td>\n",
       "    </tr>\n",
       "    <tr>\n",
       "      <th>29</th>\n",
       "      <td>7.729666e+11</td>\n",
       "      <td>8.445081e+11</td>\n",
       "    </tr>\n",
       "    <tr>\n",
       "      <th>30</th>\n",
       "      <td>6.436243e+10</td>\n",
       "      <td>5.784977e+10</td>\n",
       "    </tr>\n",
       "    <tr>\n",
       "      <th>31</th>\n",
       "      <td>1.994738e+11</td>\n",
       "      <td>1.677091e+11</td>\n",
       "    </tr>\n",
       "    <tr>\n",
       "      <th>32</th>\n",
       "      <td>9.548508e+09</td>\n",
       "      <td>9.885009e+09</td>\n",
       "    </tr>\n",
       "    <tr>\n",
       "      <th>33</th>\n",
       "      <td>2.936394e+09</td>\n",
       "      <td>1.989553e+09</td>\n",
       "    </tr>\n",
       "    <tr>\n",
       "      <th>34</th>\n",
       "      <td>5.677420e+11</td>\n",
       "      <td>5.159264e+11</td>\n",
       "    </tr>\n",
       "    <tr>\n",
       "      <th>35</th>\n",
       "      <td>1.404200e+10</td>\n",
       "      <td>1.344600e+10</td>\n",
       "    </tr>\n",
       "    <tr>\n",
       "      <th>36</th>\n",
       "      <td>0.000000e+00</td>\n",
       "      <td>0.000000e+00</td>\n",
       "    </tr>\n",
       "    <tr>\n",
       "      <th>37</th>\n",
       "      <td>5.543693e+10</td>\n",
       "      <td>5.408059e+10</td>\n",
       "    </tr>\n",
       "    <tr>\n",
       "      <th>38</th>\n",
       "      <td>2.802259e+09</td>\n",
       "      <td>1.989553e+09</td>\n",
       "    </tr>\n",
       "    <tr>\n",
       "      <th>39</th>\n",
       "      <td>3.489230e+11</td>\n",
       "      <td>1.677091e+11</td>\n",
       "    </tr>\n",
       "    <tr>\n",
       "      <th>40</th>\n",
       "      <td>1.276388e+13</td>\n",
       "      <td>1.228246e+13</td>\n",
       "    </tr>\n",
       "  </tbody>\n",
       "</table>\n",
       "</div>"
      ],
      "text/plain": [
       "            Test  Predict Optimun Grid\n",
       "0   8.648000e+09          9.885009e+09\n",
       "1   4.083790e+14          4.017440e+14\n",
       "2   1.167544e+13          1.225686e+13\n",
       "3   3.098550e+10          2.670251e+10\n",
       "4   1.194000e+09          1.989553e+09\n",
       "5   1.039547e+14          1.096276e+14\n",
       "6   0.000000e+00          0.000000e+00\n",
       "7   5.580751e+10          6.140910e+10\n",
       "8   1.186000e+09          1.989553e+09\n",
       "9   1.400300e+10          3.193997e+10\n",
       "10  8.377910e+11          8.445081e+11\n",
       "11  2.077760e+11          1.677091e+11\n",
       "12  8.278150e+11          8.412035e+11\n",
       "13  8.369980e+11          8.792350e+11\n",
       "14  7.726920e+09          9.885009e+09\n",
       "15  1.695311e+09          1.989553e+09\n",
       "16  3.525840e+11          1.677091e+11\n",
       "17  1.928949e+11          1.677091e+11\n",
       "18  5.648106e+10          5.784977e+10\n",
       "19  3.358406e+09          1.989553e+09\n",
       "20  6.092506e+10          5.784977e+10\n",
       "21  2.370095e+09          1.989553e+09\n",
       "22  1.870186e+09          1.989553e+09\n",
       "23  1.659583e+11          1.677091e+11\n",
       "24  2.925769e+09          1.989553e+09\n",
       "25  2.957003e+09          1.989553e+09\n",
       "26  1.295643e+11          1.342543e+11\n",
       "27  0.000000e+00          0.000000e+00\n",
       "28  1.109000e+09          1.989553e+09\n",
       "29  7.729666e+11          8.445081e+11\n",
       "30  6.436243e+10          5.784977e+10\n",
       "31  1.994738e+11          1.677091e+11\n",
       "32  9.548508e+09          9.885009e+09\n",
       "33  2.936394e+09          1.989553e+09\n",
       "34  5.677420e+11          5.159264e+11\n",
       "35  1.404200e+10          1.344600e+10\n",
       "36  0.000000e+00          0.000000e+00\n",
       "37  5.543693e+10          5.408059e+10\n",
       "38  2.802259e+09          1.989553e+09\n",
       "39  3.489230e+11          1.677091e+11\n",
       "40  1.276388e+13          1.228246e+13"
      ]
     },
     "execution_count": 40,
     "metadata": {},
     "output_type": "execute_result"
    }
   ],
   "source": [
    "X_train, X_test, y_train, y_test = splitter(tabla,0)\n",
    "grid , optimunGrid = Grid_Search_CV(X_train, y_train)\n",
    "y_predict_optimunGrid = optimunGrid.predict(X_test)\n",
    "print r2(y_test,y_predict_optimunGrid)\n",
    "pd.DataFrame((zip(*[y_test,y_predict_optimunGrid])), columns=['Test','Predict Optimun Grid'])\n",
    "#R2_Original_GridSearchCV = DTR_v2(X_train, X_test, y_train, y_test, best_max_depth)"
   ]
  },
  {
   "cell_type": "code",
   "execution_count": null,
   "metadata": {
    "collapsed": true
   },
   "outputs": [],
   "source": [
    "optimalReg = Grid_Search_CV(X_train, y_train)\n",
    "y_pred_optimal = optimalReg.predict(X_test)\n",
    "print 'The r2_score of the optimal classifier is:', performance_metric(y_test, y_pred_optimal)"
   ]
  },
  {
   "cell_type": "markdown",
   "metadata": {},
   "source": [
    "## Gráfica de Scores del GridSearchCV"
   ]
  },
  {
   "cell_type": "markdown",
   "metadata": {},
   "source": [
    "Graficos de cada score para cada valor del parámetro max_depth "
   ]
  },
  {
   "cell_type": "code",
   "execution_count": 9,
   "metadata": {
    "collapsed": false
   },
   "outputs": [],
   "source": [
    "def Grid_Search_CV_Plot(grid):\n",
    "    grid_mean_scores = [result.mean_validation_score for result in grid.grid_scores_]\n",
    "    plt.plot(range(1,11), grid_mean_scores)\n",
    "    plt.xlabel('Valor de Max_depth para el DecissionTreeRegressor')\n",
    "    plt.ylabel('Cross-Validated R2')\n",
    "    return plt.show()"
   ]
  },
  {
   "cell_type": "code",
   "execution_count": 39,
   "metadata": {
    "collapsed": false
   },
   "outputs": [
    {
     "data": {
      "image/png": "[encoded data removed]",
      "text/plain": [
       "<matplotlib.figure.Figure at 0xc6a4cc0>"
      ]
     },
     "metadata": {},
     "output_type": "display_data"
    },
    {
     "data": {
      "text/plain": [
       "[mean: 0.56409, std: 0.10486, params: {'max_depth': 1},\n",
       " mean: 0.81473, std: 0.04918, params: {'max_depth': 2},\n",
       " mean: 0.89161, std: 0.03942, params: {'max_depth': 3},\n",
       " mean: 0.92930, std: 0.01822, params: {'max_depth': 4},\n",
       " mean: 0.90445, std: 0.02898, params: {'max_depth': 5},\n",
       " mean: 0.89338, std: 0.04555, params: {'max_depth': 6},\n",
       " mean: 0.91736, std: 0.02941, params: {'max_depth': 7},\n",
       " mean: 0.92642, std: 0.02691, params: {'max_depth': 8},\n",
       " mean: 0.89889, std: 0.01939, params: {'max_depth': 9},\n",
       " mean: 0.89984, std: 0.02839, params: {'max_depth': 10}]"
      ]
     },
     "execution_count": 39,
     "metadata": {},
     "output_type": "execute_result"
    }
   ],
   "source": [
    "X_train, X_test, y_train, y_test = splitter(tabla_imputada,y_indicator)\n",
    "grid , optimunGrid = Grid_Search_CV(X_train, y_train)\n",
    "\n",
    "y_predict_optimunGrid = optimunGrid.predict(X_test)\n",
    "Grid_Search_CV_Plot(grid)\n",
    "grid.grid_scores_"
   ]
  },
  {
   "cell_type": "markdown",
   "metadata": {},
   "source": [
    "## DecissionTreeRegressor v2"
   ]
  },
  {
   "cell_type": "markdown",
   "metadata": {},
   "source": [
    "Ajustamos nuestra función DTR, asignando el Max_depth en base al mejor score del GridSearchCV"
   ]
  },
  {
   "cell_type": "code",
   "execution_count": 11,
   "metadata": {
    "collapsed": true
   },
   "outputs": [],
   "source": [
    "def DTR_v2(X_train, X_test, y_train, y_test, depth):\n",
    "    estimator = DecisionTreeRegressor(max_depth=depth)\n",
    "    estimator.fit(X_train,y_train)\n",
    "    y_predict = estimator.predict(X_test)\n",
    "    R2_test = r2(y_test,y_predict)\n",
    "    return R2_test"
   ]
  },
  {
   "cell_type": "markdown",
   "metadata": {},
   "source": [
    "## Curva de Aprendizaje"
   ]
  },
  {
   "cell_type": "code",
   "execution_count": 12,
   "metadata": {
    "collapsed": false
   },
   "outputs": [
    {
     "name": "stderr",
     "output_type": "stream",
     "text": [
      "C:\\Program Files\\Anaconda2\\lib\\site-packages\\sklearn\\learning_curve.py:23: DeprecationWarning: This module was deprecated in version 0.18 in favor of the model_selection module into which all the functions are moved. This module will be removed in 0.20\n",
      "  DeprecationWarning)\n"
     ]
    }
   ],
   "source": [
    "from sklearn import cross_validation\n",
    "from sklearn.naive_bayes import GaussianNB\n",
    "from sklearn.learning_curve import learning_curve\n",
    "from sklearn.svm import SVR\n",
    "from sklearn.cross_validation import train_test_split\n",
    "from sklearn.tree import DecisionTreeRegressor\n",
    "from sklearn.grid_search import GridSearchCV\n",
    "from sklearn.linear_model import LinearRegression\n",
    "from sklearn.preprocessing import MinMaxScaler\n",
    "  \n",
    "def plot_learning_curve(estimator, title, X, y, ylim=None, cv=None, scoring=None,\n",
    "                        n_jobs=1, train_sizes=np.linspace(.1, 1.0, 5)):\n",
    "    plt.title(title)\n",
    "    if ylim is not None:\n",
    "        plt.ylim(*ylim)\n",
    "    plt.xlabel(\"Training examples\")\n",
    "    plt.ylabel(\"Score\")\n",
    "    train_sizes, train_scores, test_scores = learning_curve(\n",
    "        estimator, X, y, cv=cv, n_jobs=n_jobs, train_sizes=train_sizes, scoring=scoring)\n",
    "    train_scores_mean = np.mean(train_scores, axis=1)\n",
    "    train_scores_std = np.std(train_scores, axis=1)\n",
    "    test_scores_mean = np.mean(test_scores, axis=1)\n",
    "    test_scores_std = np.std(test_scores, axis=1)\n",
    "    plt.grid()\n",
    "\n",
    "    plt.fill_between(train_sizes, train_scores_mean - train_scores_std,\n",
    "                     train_scores_mean + train_scores_std, alpha=0.1,\n",
    "                     color=\"r\")\n",
    "    plt.fill_between(train_sizes, test_scores_mean - test_scores_std,\n",
    "                     test_scores_mean + test_scores_std, alpha=0.1, color=\"g\")\n",
    "    plt.plot(train_sizes, train_scores_mean, 'o-', color=\"r\",\n",
    "             label=\"train score\")\n",
    "    plt.plot(train_sizes, test_scores_mean, 'o-', color=\"g\",\n",
    "             label=\"test score\")\n",
    "\n",
    "    plt.legend(loc=\"best\")\n",
    "    return plt"
   ]
  },
  {
   "cell_type": "markdown",
   "metadata": {},
   "source": [
    "## Tabla Imputada"
   ]
  },
  {
   "cell_type": "code",
   "execution_count": 13,
   "metadata": {
    "collapsed": false
   },
   "outputs": [
    {
     "data": {
      "image/png": "[encoded data removed]",
      "text/plain": [
       "<matplotlib.figure.Figure at 0xc009ef0>"
      ]
     },
     "metadata": {},
     "output_type": "display_data"
    }
   ],
   "source": [
    "X = np.delete(tabla_imputada[:,:], y_indicator, 1)\n",
    "y = tabla_imputada[:,y_indicator]\n",
    "\n",
    "title = \"Curva de aprendizaje\"\n",
    "estimator = DecisionTreeRegressor()\n",
    "cv = cross_validation.ShuffleSplit(X.shape[0], n_iter=10, test_size=0.2)\n",
    "\n",
    "plot_learning_curve(estimator, title, X, y, ylim=(0,1), cv=cv, scoring='r2',n_jobs=4, train_sizes=np.linspace(.1, 1.0, 5)).show()"
   ]
  },
  {
   "cell_type": "markdown",
   "metadata": {},
   "source": [
    "## Iteramos para todos los indicadores"
   ]
  },
  {
   "cell_type": "code",
   "execution_count": 42,
   "metadata": {
    "collapsed": false
   },
   "outputs": [
    {
     "data": {
      "text/html": [
       "<div>\n",
       "<table border=\"1\" class=\"dataframe\">\n",
       "  <thead>\n",
       "    <tr style=\"text-align: right;\">\n",
       "      <th></th>\n",
       "      <th>Original</th>\n",
       "      <th>Imputando</th>\n",
       "    </tr>\n",
       "  </thead>\n",
       "  <tbody>\n",
       "    <tr>\n",
       "      <th>0</th>\n",
       "      <td>0.996952</td>\n",
       "      <td>0.997243</td>\n",
       "    </tr>\n",
       "    <tr>\n",
       "      <th>1</th>\n",
       "      <td>0.997623</td>\n",
       "      <td>0.986966</td>\n",
       "    </tr>\n",
       "    <tr>\n",
       "      <th>2</th>\n",
       "      <td>0.990118</td>\n",
       "      <td>0.960374</td>\n",
       "    </tr>\n",
       "    <tr>\n",
       "      <th>3</th>\n",
       "      <td>0.996236</td>\n",
       "      <td>0.992516</td>\n",
       "    </tr>\n",
       "    <tr>\n",
       "      <th>4</th>\n",
       "      <td>0.811440</td>\n",
       "      <td>0.803881</td>\n",
       "    </tr>\n",
       "    <tr>\n",
       "      <th>5</th>\n",
       "      <td>0.804524</td>\n",
       "      <td>0.927311</td>\n",
       "    </tr>\n",
       "    <tr>\n",
       "      <th>6</th>\n",
       "      <td>0.586763</td>\n",
       "      <td>0.985143</td>\n",
       "    </tr>\n",
       "    <tr>\n",
       "      <th>7</th>\n",
       "      <td>0.999848</td>\n",
       "      <td>0.998520</td>\n",
       "    </tr>\n",
       "    <tr>\n",
       "      <th>8</th>\n",
       "      <td>0.981103</td>\n",
       "      <td>0.982438</td>\n",
       "    </tr>\n",
       "    <tr>\n",
       "      <th>9</th>\n",
       "      <td>0.955950</td>\n",
       "      <td>0.980217</td>\n",
       "    </tr>\n",
       "    <tr>\n",
       "      <th>10</th>\n",
       "      <td>0.898927</td>\n",
       "      <td>0.941712</td>\n",
       "    </tr>\n",
       "    <tr>\n",
       "      <th>11</th>\n",
       "      <td>0.994907</td>\n",
       "      <td>0.879809</td>\n",
       "    </tr>\n",
       "    <tr>\n",
       "      <th>12</th>\n",
       "      <td>0.997727</td>\n",
       "      <td>0.993939</td>\n",
       "    </tr>\n",
       "    <tr>\n",
       "      <th>13</th>\n",
       "      <td>0.999063</td>\n",
       "      <td>0.998263</td>\n",
       "    </tr>\n",
       "    <tr>\n",
       "      <th>14</th>\n",
       "      <td>0.996263</td>\n",
       "      <td>0.995487</td>\n",
       "    </tr>\n",
       "  </tbody>\n",
       "</table>\n",
       "</div>"
      ],
      "text/plain": [
       "    Original  Imputando\n",
       "0   0.996952   0.997243\n",
       "1   0.997623   0.986966\n",
       "2   0.990118   0.960374\n",
       "3   0.996236   0.992516\n",
       "4   0.811440   0.803881\n",
       "5   0.804524   0.927311\n",
       "6   0.586763   0.985143\n",
       "7   0.999848   0.998520\n",
       "8   0.981103   0.982438\n",
       "9   0.955950   0.980217\n",
       "10  0.898927   0.941712\n",
       "11  0.994907   0.879809\n",
       "12  0.997727   0.993939\n",
       "13  0.999063   0.998263\n",
       "14  0.996263   0.995487"
      ]
     },
     "execution_count": 42,
     "metadata": {},
     "output_type": "execute_result"
    }
   ],
   "source": [
    "R2_global = list()\n",
    "\n",
    "for i in range(0,np.shape(tabla)[1]):\n",
    "    ## Valores Originales\n",
    "    X_train, X_test, y_train, y_test = splitter(tabla,i)\n",
    "    grid , optimunGrid = Grid_Search_CV(X_train, y_train)\n",
    "    y_predict_optimunGrid = optimunGrid.predict(X_test)\n",
    "    R2_Original_GridSearchCV = r2(y_test, y_predict_optimunGrid)\n",
    "\n",
    "    ## Sin Valores Nulos\n",
    "    X_train, X_test, y_train, y_test = splitter(tabla_imputada,i)\n",
    "    grid , optimunGrid = Grid_Search_CV(X_train, y_train)\n",
    "    y_predict_optimunGrid = optimunGrid.predict(X_test)\n",
    "    R2_Imputado_GridSearchCV = r2(y_test, y_predict_optimunGrid)\n",
    "    \n",
    "    # Recopilamos los R2\n",
    "    R2_global.append(np.array([R2_Original_GridSearchCV,R2_Imputado_GridSearchCV]))\n",
    "\n",
    "pd.DataFrame(R2_global,columns=['Original','Imputando'])"
   ]
  },
  {
   "cell_type": "markdown",
   "metadata": {},
   "source": [
    "## Matriz de Correlación"
   ]
  },
  {
   "cell_type": "code",
   "execution_count": 15,
   "metadata": {
    "collapsed": false
   },
   "outputs": [
    {
     "data": {
      "image/png": "[encoded data removed]",
      "text/plain": [
       "<matplotlib.figure.Figure at 0xc084048>"
      ]
     },
     "metadata": {},
     "output_type": "display_data"
    }
   ],
   "source": [
    "def correlation_matrix(df):\n",
    "    from matplotlib import pyplot as plt\n",
    "    from matplotlib import cm as cm\n",
    "\n",
    "    fig = plt.figure()\n",
    "    ax1 = fig.add_subplot(111)\n",
    "    cmap = cm.get_cmap('jet', 30)\n",
    "    cax = ax1.imshow(df.corr(), interpolation=\"nearest\", cmap=cmap)\n",
    "    plt.title('Matriz de correlacion')\n",
    "    fig.colorbar(cax)\n",
    "    plt.show()\n",
    "\n",
    "correlation_matrix(pd.DataFrame(tabla))"
   ]
  },
  {
   "cell_type": "code",
   "execution_count": 16,
   "metadata": {
    "collapsed": false
   },
   "outputs": [],
   "source": [
    "def correlacion(tab,y_indicator):\n",
    "    # Buscamos los indicadores que se correlacionen más (coeficiente > 0.7)\n",
    "    eliminar = []\n",
    "    tabla_correlacion = np.array(pd.DataFrame(tab).corr())\n",
    "    for i in range(np.shape(tab)[1]):\n",
    "        if abs(tabla_correlacion[i,y_indicator]) > 0.7:\n",
    "            eliminar.append(i)\n",
    "\n",
    "    # Eliminamos los indicadores que se correlacionan más (Coeficiente > 0.7)\n",
    "    temporal = tab[:,:]\n",
    "\n",
    "    for i in range(len(eliminar)):\n",
    "        temporal = np.delete(temporal[:,:], eliminar[i]-i, 1)\n",
    "\n",
    "    return temporal"
   ]
  },
  {
   "cell_type": "markdown",
   "metadata": {
    "collapsed": true
   },
   "source": [
    "## Splitter v2"
   ]
  },
  {
   "cell_type": "markdown",
   "metadata": {},
   "source": [
    "Modificamos la función Splitter (train, test split) para que elimine las columnas de los indicadores que se correlacionan más"
   ]
  },
  {
   "cell_type": "code",
   "execution_count": 17,
   "metadata": {
    "collapsed": true
   },
   "outputs": [],
   "source": [
    "def splitter_v2(tab,y_indicator):\n",
    "    from sklearn.model_selection import train_test_split   \n",
    "\n",
    "    # Asignamos X e y, eliminando los indicadores que se correlacionen más (coeficiente > 0.7)\n",
    "    X = correlacion(tab,y_indicator)\n",
    "    y = tab[:,y_indicator]\n",
    "    \n",
    "    # Separamos Train y Test respectivamente para X e y\n",
    "    X_train, X_test, y_train, y_test = train_test_split(X, y, test_size=0.2)\n",
    "    \n",
    "    return X_train, X_test, y_train, y_test"
   ]
  },
  {
   "cell_type": "markdown",
   "metadata": {},
   "source": [
    "## Iteramos el Splitter v2"
   ]
  },
  {
   "cell_type": "code",
   "execution_count": 48,
   "metadata": {
    "collapsed": false
   },
   "outputs": [
    {
     "data": {
      "text/html": [
       "<div>\n",
       "<table border=\"1\" class=\"dataframe\">\n",
       "  <thead>\n",
       "    <tr style=\"text-align: right;\">\n",
       "      <th></th>\n",
       "      <th>Original</th>\n",
       "      <th>Imputando</th>\n",
       "    </tr>\n",
       "  </thead>\n",
       "  <tbody>\n",
       "    <tr>\n",
       "      <th>0</th>\n",
       "      <td>0.998445</td>\n",
       "      <td>0.998857</td>\n",
       "    </tr>\n",
       "    <tr>\n",
       "      <th>1</th>\n",
       "      <td>0.932237</td>\n",
       "      <td>0.271967</td>\n",
       "    </tr>\n",
       "    <tr>\n",
       "      <th>2</th>\n",
       "      <td>0.942491</td>\n",
       "      <td>0.964729</td>\n",
       "    </tr>\n",
       "    <tr>\n",
       "      <th>3</th>\n",
       "      <td>0.662649</td>\n",
       "      <td>0.994744</td>\n",
       "    </tr>\n",
       "    <tr>\n",
       "      <th>4</th>\n",
       "      <td>0.974899</td>\n",
       "      <td>0.912791</td>\n",
       "    </tr>\n",
       "    <tr>\n",
       "      <th>5</th>\n",
       "      <td>0.027581</td>\n",
       "      <td>-0.058828</td>\n",
       "    </tr>\n",
       "    <tr>\n",
       "      <th>6</th>\n",
       "      <td>0.745028</td>\n",
       "      <td>0.780686</td>\n",
       "    </tr>\n",
       "    <tr>\n",
       "      <th>7</th>\n",
       "      <td>0.254165</td>\n",
       "      <td>0.870349</td>\n",
       "    </tr>\n",
       "    <tr>\n",
       "      <th>8</th>\n",
       "      <td>0.992738</td>\n",
       "      <td>0.980517</td>\n",
       "    </tr>\n",
       "    <tr>\n",
       "      <th>9</th>\n",
       "      <td>0.698146</td>\n",
       "      <td>-0.114473</td>\n",
       "    </tr>\n",
       "    <tr>\n",
       "      <th>10</th>\n",
       "      <td>0.022140</td>\n",
       "      <td>0.140493</td>\n",
       "    </tr>\n",
       "    <tr>\n",
       "      <th>11</th>\n",
       "      <td>0.296392</td>\n",
       "      <td>0.855586</td>\n",
       "    </tr>\n",
       "    <tr>\n",
       "      <th>12</th>\n",
       "      <td>0.931450</td>\n",
       "      <td>0.818149</td>\n",
       "    </tr>\n",
       "    <tr>\n",
       "      <th>13</th>\n",
       "      <td>0.699963</td>\n",
       "      <td>-14.501810</td>\n",
       "    </tr>\n",
       "    <tr>\n",
       "      <th>14</th>\n",
       "      <td>0.997608</td>\n",
       "      <td>0.996815</td>\n",
       "    </tr>\n",
       "  </tbody>\n",
       "</table>\n",
       "</div>"
      ],
      "text/plain": [
       "    Original  Imputando\n",
       "0   0.998445   0.998857\n",
       "1   0.932237   0.271967\n",
       "2   0.942491   0.964729\n",
       "3   0.662649   0.994744\n",
       "4   0.974899   0.912791\n",
       "5   0.027581  -0.058828\n",
       "6   0.745028   0.780686\n",
       "7   0.254165   0.870349\n",
       "8   0.992738   0.980517\n",
       "9   0.698146  -0.114473\n",
       "10  0.022140   0.140493\n",
       "11  0.296392   0.855586\n",
       "12  0.931450   0.818149\n",
       "13  0.699963 -14.501810\n",
       "14  0.997608   0.996815"
      ]
     },
     "execution_count": 48,
     "metadata": {},
     "output_type": "execute_result"
    }
   ],
   "source": [
    "R2_global = list()\n",
    "\n",
    "for i in range(0,np.shape(tabla)[1]):\n",
    "    ## Valores Originales\n",
    "    X_train, X_test, y_train, y_test = splitter_v2(tabla,i)\n",
    "    grid , optimunGrid = Grid_Search_CV(X_train, y_train)\n",
    "    y_predict_optimunGrid = optimunGrid.predict(X_test)\n",
    "    R2_Original_GridSearchCV = r2(y_test, y_predict_optimunGrid)\n",
    "\n",
    "    ## Sin Valores Nulos\n",
    "    X_train, X_test, y_train, y_test = splitter_v2(tabla_imputada,i)\n",
    "    grid , optimunGrid = Grid_Search_CV(X_train, y_train)\n",
    "    y_predict_optimunGrid = optimunGrid.predict(X_test)\n",
    "    R2_Imputado_GridSearchCV = r2(y_test, y_predict_optimunGrid)\n",
    "    \n",
    "    # Recopilamos los R2\n",
    "    R2_global.append(np.array([R2_Original_GridSearchCV,R2_Imputado_GridSearchCV]))\n",
    "\n",
    "pd.DataFrame(R2_global,columns=['Original','Imputando'])"
   ]
  },
  {
   "cell_type": "code",
   "execution_count": 44,
   "metadata": {
    "collapsed": false
   },
   "outputs": [],
   "source": [
    "def iter_R2_prueba(tabla,indicador):\n",
    "    R2_global = list()\n",
    "\n",
    "    X_train, X_test, y_train, y_test = splitter_v2(tabla,indicador)\n",
    "    grid , optimunGrid = Grid_Search_CV(X_train, y_train)\n",
    "    y_predict_optimunGrid = optimunGrid.predict(X_test)\n",
    "    R2_GridSearchCV = r2(y_test, y_predict_optimunGrid)\n",
    "\n",
    "    return R2_GridSearchCV"
   ]
  },
  {
   "cell_type": "markdown",
   "metadata": {},
   "source": [
    "## Iteramos individualmente el nuevo Splitter v2"
   ]
  },
  {
   "cell_type": "code",
   "execution_count": 45,
   "metadata": {
    "collapsed": false
   },
   "outputs": [],
   "source": [
    "def iter_R2(tab,iteraciones):\n",
    "    temporal = []\n",
    "    iter_R2_Global_GridSearchCV = []\n",
    "    for k in range(np.shape(tab)[1]):\n",
    "        for i in range(iteraciones):\n",
    "            ## Valores Originales\n",
    "            X_train, X_test, y_train, y_test = splitter_v2(tab,k)\n",
    "            grid , optimunGrid = Grid_Search_CV(X_train, y_train)\n",
    "            y_predict_optimunGrid = optimunGrid.predict(X_test)\n",
    "            R2_GridSearchCV = r2(y_test, y_predict_optimunGrid)\n",
    "            temporal.append(R2_GridSearchCV)\n",
    "        iter_R2_Global_GridSearchCV.append(temporal)\n",
    "        temporal = []\n",
    "    return iter_R2_Global_GridSearchCV"
   ]
  },
  {
   "cell_type": "markdown",
   "metadata": {},
   "source": [
    "#### Media de las Iteraciones R2 para cada indicador en cada caso"
   ]
  },
  {
   "cell_type": "code",
   "execution_count": 46,
   "metadata": {
    "collapsed": false
   },
   "outputs": [],
   "source": [
    "def iter_mean(iter_score):\n",
    "    temporal = np.array([iter_score])\n",
    "    mean_score = []\n",
    "\n",
    "    for k in range(np.shape(tabla)[1]):\n",
    "        mean_score.append(np.mean(temporal[:,k]))\n",
    "        \n",
    "    return mean_score"
   ]
  },
  {
   "cell_type": "code",
   "execution_count": 49,
   "metadata": {
    "collapsed": false
   },
   "outputs": [
    {
     "data": {
      "text/html": [
       "<div>\n",
       "<table border=\"1\" class=\"dataframe\">\n",
       "  <thead>\n",
       "    <tr style=\"text-align: right;\">\n",
       "      <th></th>\n",
       "      <th>Original</th>\n",
       "      <th>Imputando</th>\n",
       "    </tr>\n",
       "  </thead>\n",
       "  <tbody>\n",
       "    <tr>\n",
       "      <th>0</th>\n",
       "      <td>0.997072</td>\n",
       "      <td>0.988964</td>\n",
       "    </tr>\n",
       "    <tr>\n",
       "      <th>1</th>\n",
       "      <td>-3.302341</td>\n",
       "      <td>0.455089</td>\n",
       "    </tr>\n",
       "    <tr>\n",
       "      <th>2</th>\n",
       "      <td>0.689747</td>\n",
       "      <td>0.734938</td>\n",
       "    </tr>\n",
       "    <tr>\n",
       "      <th>3</th>\n",
       "      <td>0.613774</td>\n",
       "      <td>0.026104</td>\n",
       "    </tr>\n",
       "    <tr>\n",
       "      <th>4</th>\n",
       "      <td>0.838417</td>\n",
       "      <td>0.828945</td>\n",
       "    </tr>\n",
       "    <tr>\n",
       "      <th>5</th>\n",
       "      <td>0.201587</td>\n",
       "      <td>0.041797</td>\n",
       "    </tr>\n",
       "    <tr>\n",
       "      <th>6</th>\n",
       "      <td>0.741269</td>\n",
       "      <td>0.830604</td>\n",
       "    </tr>\n",
       "    <tr>\n",
       "      <th>7</th>\n",
       "      <td>-1.257074</td>\n",
       "      <td>0.576756</td>\n",
       "    </tr>\n",
       "    <tr>\n",
       "      <th>8</th>\n",
       "      <td>0.983796</td>\n",
       "      <td>0.946055</td>\n",
       "    </tr>\n",
       "    <tr>\n",
       "      <th>9</th>\n",
       "      <td>0.726617</td>\n",
       "      <td>0.514880</td>\n",
       "    </tr>\n",
       "    <tr>\n",
       "      <th>10</th>\n",
       "      <td>0.160161</td>\n",
       "      <td>0.018702</td>\n",
       "    </tr>\n",
       "    <tr>\n",
       "      <th>11</th>\n",
       "      <td>0.763273</td>\n",
       "      <td>0.785272</td>\n",
       "    </tr>\n",
       "    <tr>\n",
       "      <th>12</th>\n",
       "      <td>0.847826</td>\n",
       "      <td>0.712877</td>\n",
       "    </tr>\n",
       "    <tr>\n",
       "      <th>13</th>\n",
       "      <td>-1.182252</td>\n",
       "      <td>-0.046702</td>\n",
       "    </tr>\n",
       "    <tr>\n",
       "      <th>14</th>\n",
       "      <td>0.802636</td>\n",
       "      <td>0.974359</td>\n",
       "    </tr>\n",
       "  </tbody>\n",
       "</table>\n",
       "</div>"
      ],
      "text/plain": [
       "    Original  Imputando\n",
       "0   0.997072   0.988964\n",
       "1  -3.302341   0.455089\n",
       "2   0.689747   0.734938\n",
       "3   0.613774   0.026104\n",
       "4   0.838417   0.828945\n",
       "5   0.201587   0.041797\n",
       "6   0.741269   0.830604\n",
       "7  -1.257074   0.576756\n",
       "8   0.983796   0.946055\n",
       "9   0.726617   0.514880\n",
       "10  0.160161   0.018702\n",
       "11  0.763273   0.785272\n",
       "12  0.847826   0.712877\n",
       "13 -1.182252  -0.046702\n",
       "14  0.802636   0.974359"
      ]
     },
     "execution_count": 49,
     "metadata": {},
     "output_type": "execute_result"
    }
   ],
   "source": [
    "pd.DataFrame(np.column_stack((iter_mean(iter_R2(tabla,10)),iter_mean(iter_R2(tabla_imputada,10)))),columns=['Original','Imputando'])"
   ]
  }
 ],
 "metadata": {
  "anaconda-cloud": {},
  "kernelspec": {
   "display_name": "Python [default]",
   "language": "python",
   "name": "python2"
  },
  "language_info": {
   "codemirror_mode": {
    "name": "ipython",
    "version": 2
   },
   "file_extension": ".py",
   "mimetype": "text/x-python",
   "name": "python",
   "nbconvert_exporter": "python",
   "pygments_lexer": "ipython2",
   "version": "2.7.12"
  }
 },
 "nbformat": 4,
 "nbformat_minor": 1
}
