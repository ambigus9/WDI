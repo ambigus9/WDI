{
 "cells": [
  {
   "cell_type": "markdown",
   "metadata": {},
   "source": [
    "# Surameria Results"
   ]
  },
  {
   "cell_type": "markdown",
   "metadata": {},
   "source": [
    "Cargamos los resultados de iterar todos los conjuntos de indicadores"
   ]
  },
  {
   "cell_type": "code",
   "execution_count": 2,
   "metadata": {
    "collapsed": false
   },
   "outputs": [],
   "source": [
    "import pandas as pd\n",
    "import numpy as np\n",
    "import time\n",
    "import plotly.plotly as py\n",
    "import plotly.graph_objs as go\n",
    "\n",
    "original = pd.read_csv(\"suramerica_results_original.csv\").drop(['Unnamed: 0'], 1)\n",
    "random   = pd.read_csv(\"suramerica_results_random.csv\").drop(['Unnamed: 0'], 1)\n",
    "grid     = pd.read_csv(\"suramerica_results_grid.csv\").drop(['Unnamed: 0'], 1)\n",
    "\n",
    "datos = pd.read_csv(\"suramerica.csv\").drop('Unnamed: 0', 1)\n",
    "paises = datos['CountryCode'].drop_duplicates().values.tolist()\n",
    "pais_nombre = 'Suramerica'\n",
    "\n",
    "preprocessing = 'imput'\n",
    "search = 'original'\n",
    "year_init = 2012\n",
    "year_range = 5\n",
    "look_back = 3\n",
    "years = range(year_init-year_range+1,year_init+1)[::-1]\n",
    "\n",
    "agricultura     = open(\"Indicadores/iagricultura.txt\").read().split(',')\n",
    "ambiente        = open(\"Indicadores/iambiente.txt\").read().split(',')\n",
    "ayuda           = open(\"Indicadores/iayuda.txt\").read().split(',')\n",
    "ciencia         = open(\"Indicadores/iciencia.txt\").read().split(',')\n",
    "clima           = open(\"Indicadores/iclima.txt\").read().split(',')\n",
    "comercio        = open(\"Indicadores/icomercio.txt\").read().split(',')\n",
    "deuda           = open(\"Indicadores/ideuda.txt\").read().split(',')\n",
    "economia        = open(\"Indicadores/ieconomia.txt\").read().split(',')\n",
    "educacion       = open(\"Indicadores/ieducacion.txt\").read().split(',')\n",
    "energia         = open(\"Indicadores/ienergia.txt\").read().split(',')\n",
    "finanzas        = open(\"Indicadores/ifinanzas.txt\").read().split(',')\n",
    "genero          = open(\"Indicadores/igenero.txt\").read().split(',')\n",
    "infraestructura = open(\"Indicadores/iinfraestructura.txt\").read().split(',')\n",
    "pobreza         = open(\"Indicadores/ipobreza.txt\").read().split(',')\n",
    "privado         = open(\"Indicadores/iprivado.txt\").read().split(',')\n",
    "publico         = open(\"Indicadores/ipublico.txt\").read().split(',')\n",
    "salud           = open(\"Indicadores/isalud.txt\").read().split(',')\n",
    "social          = open(\"Indicadores/isocial.txt\").read().split(',')\n",
    "trabajo         = open(\"Indicadores/itrabajo.txt\").read().split(',')\n",
    "urbano          = open(\"Indicadores/iurbano.txt\").read().split(',')\n",
    "\n",
    "\n",
    "conjunto_nombre = ['Agricultura','Ambiente','Ayuda','Ciencia','Clima','Comercio','Deuda','Economia','Educacion',\n",
    "                   'Energia','Finanzas','Genero','Infraestructura','Pobreza','Privado','Publico','Salud','Social',\n",
    "                   'Trabajo','Urbano']\n",
    "conjunto = [agricultura,ambiente,ayuda,ciencia,clima,comercio,deuda,economia,educacion,energia,finanzas,genero,\n",
    "            infraestructura,pobreza,privado,publico,salud,social,trabajo,urbano]"
   ]
  },
  {
   "cell_type": "code",
   "execution_count": 3,
   "metadata": {
    "collapsed": true
   },
   "outputs": [],
   "source": [
    "def tabla_base(indicadores):\n",
    "    tab = pd.DataFrame.pivot_table(datos, values='Value', index=['CountryCode', 'Year'], columns=['IndicatorCode']).loc[(paises,years),indicadores].sortlevel([\"CountryCode\",\"Year\"], ascending=[True,False])\n",
    "    return tab"
   ]
  },
  {
   "cell_type": "code",
   "execution_count": 4,
   "metadata": {
    "collapsed": true
   },
   "outputs": [],
   "source": [
    "def buscar_mejores(df):\n",
    "    return df[df.Resultados > 0.9].reset_index(drop=True)"
   ]
  },
  {
   "cell_type": "code",
   "execution_count": 5,
   "metadata": {
    "collapsed": false
   },
   "outputs": [],
   "source": [
    "def graficar_resultados(df,look_back):\n",
    "\n",
    "    trace = go.Heatmap(z=df[df['Look Back'] == look_back]['%'],\n",
    "                       x=df[df['Look Back'] == look_back]['Base'],\n",
    "                       y=df[df['Look Back'] == look_back]['Target'],\n",
    "                       zmax=1.0,\n",
    "                       zmin=0.0,\n",
    "                       colorscale = 'Viridis')\n",
    "    data=[trace]\n",
    "    \n",
    "    layout = go.Layout(\n",
    "        title=pais_nombre+' + '+search+': Total Heatmap with Look Back = '+str(look_back),\n",
    "        xaxis=dict(title='Base',   titlefont=dict(size=18)),\n",
    "        yaxis=dict(title='Target', titlefont=dict(size=18))\n",
    "    )\n",
    "    \n",
    "    fig = go.Figure(data=data, layout=layout)\n",
    "\n",
    "    return py.iplot(fig,filename=pais_nombre+' + '+search+': Total Heatmap with Look Back = '+str(look_back))"
   ]
  },
  {
   "cell_type": "code",
   "execution_count": 6,
   "metadata": {
    "collapsed": false
   },
   "outputs": [],
   "source": [
    "def buscar_resultados(df,indicador_1,indicador_2,look_back):\n",
    "    #Buscamos Resultados en base al conjunto de indicadores Base, Target y Look Back\n",
    "    temp = df[(df['Base']==indicador_1)&(df['Target']==indicador_2)&(df['Look Back'] == look_back)]['Results'].values[0]\n",
    "    df_temp = temp.replace(\"'\",\"\").replace(\"[\",\"\").replace(\"]\",\"\").replace(\" \",\"\").split('\\n')\n",
    "    results = []\n",
    "    for i in df_temp: \n",
    "        results.append(float(i))\n",
    "    \n",
    "    # Códigos de los indicadores con registros \n",
    "    df_nombres = pd.DataFrame(conjunto_nombre, columns=['Resultados'])\n",
    "    indicador_1 = conjunto[df_nombres[df_nombres['Resultados']==indicador_1].index.values[0]]\n",
    "    indicador_2 = conjunto[df_nombres[df_nombres['Resultados']==indicador_2].index.values[0]]     \n",
    "    df = pd.DataFrame(indicador_2)\n",
    "    \n",
    "    # Filtro indicadores repetidos\n",
    "    if(indicador_1!=indicador_2):\n",
    "        indicador_2 = np.array(df.loc[~df.ix[:,0].isin(indicador_1)]).flatten()\n",
    "    df_zeros = tabla_base(indicador_2).dropna(how='all',axis=1)\n",
    "    icodes = df_zeros.columns.values\n",
    "\n",
    "    # Buscamos Nombres de los Códigos de los Indicadores\n",
    "    nombres = pd.DataFrame(datos).loc[:,['IndicatorName','IndicatorCode']].set_index('IndicatorCode').loc[icodes].drop_duplicates()\n",
    "\n",
    "    # Concatenamos Resultados y Nombres, Reindexando en base a los nombres\n",
    "    df_results = pd.DataFrame(np.column_stack([nombres,results]),columns=['Indicadores','Resultados'])\n",
    "    \n",
    "    return df_results"
   ]
  },
  {
   "cell_type": "code",
   "execution_count": 7,
   "metadata": {
    "collapsed": false
   },
   "outputs": [],
   "source": [
    "def graficar_resultados_individuales(df,indicador_base,indicador_target,look_back):\n",
    "\n",
    "    df_temp = buscar_resultados(df,indicador_base,indicador_target,look_back)\n",
    "\n",
    "    data = [go.Bar(\n",
    "                x= df_temp['Indicadores'],\n",
    "                y= df_temp['Resultados'],\n",
    "\n",
    "        marker=dict(     \n",
    "            color = df_temp['Resultados'].values,\n",
    "            colorscale ='Viridis',\n",
    "            showscale = True\n",
    "            ),\n",
    "        )]\n",
    "\n",
    "    layout = go.Layout(\n",
    "        title=pais_nombre+' + '+search+': Result to predict '+indicador_target+' from '+indicador_base+' with '+'Look Back = '+str(look_back),\n",
    "    )\n",
    "    \n",
    "    fig = go.Figure(data=data, layout=layout)\n",
    "\n",
    "    return py.iplot(fig, filename=pais_nombre+' + '+search+': Result to predict '+indicador_target+' from '+indicador_base+' with '+'Look Back = '+str(look_back))"
   ]
  },
  {
   "cell_type": "code",
   "execution_count": 8,
   "metadata": {
    "collapsed": true
   },
   "outputs": [],
   "source": [
    "def conjuntos_predecibles(df,look_back):\n",
    "    df_temp = pd.DataFrame.pivot_table( df[df['Look Back'] == 1].drop(['Time','Reg','Results'],1) , index=[\"Target\",\"Base\"], columns=[\"Look Back\"])\n",
    "    return pd.DataFrame(df_temp[df_temp['%'] > 0.3].count(level=0).sort_values([('%',1)], ascending=False).index.values, columns=[\"Conjunto\"])"
   ]
  },
  {
   "cell_type": "code",
   "execution_count": 9,
   "metadata": {
    "collapsed": true
   },
   "outputs": [],
   "source": [
    "def conjuntos_predictores(df,look_back):\n",
    "    df_temp = pd.DataFrame.pivot_table( df[df['Look Back'] == 1].drop(['Time','Reg','Results'],1) , index=[\"Base\",\"Target\"], columns=[\"Look Back\"])\n",
    "    return pd.DataFrame(df_temp[df_temp['%'] > 0.3].count(level=0).sort_values([('%',1)], ascending=False).index.values, columns=[\"Conjunto\"])"
   ]
  },
  {
   "cell_type": "markdown",
   "metadata": {},
   "source": [
    "## Buscamos Mejores Resultados Individuales"
   ]
  },
  {
   "cell_type": "code",
   "execution_count": 41,
   "metadata": {
    "collapsed": false
   },
   "outputs": [
    {
     "data": {
      "text/html": [
       "<div>\n",
       "<table border=\"1\" class=\"dataframe\">\n",
       "  <thead>\n",
       "    <tr style=\"text-align: right;\">\n",
       "      <th></th>\n",
       "      <th>Indicadores</th>\n",
       "      <th>Resultados</th>\n",
       "    </tr>\n",
       "  </thead>\n",
       "  <tbody>\n",
       "    <tr>\n",
       "      <th>0</th>\n",
       "      <td>Air transport, freight (million ton-km)</td>\n",
       "      <td>0.910649</td>\n",
       "    </tr>\n",
       "    <tr>\n",
       "      <th>1</th>\n",
       "      <td>Container port traffic (TEU: 20 foot equivalen...</td>\n",
       "      <td>0.957681</td>\n",
       "    </tr>\n",
       "    <tr>\n",
       "      <th>2</th>\n",
       "      <td>Electric power consumption (kWh per capita)</td>\n",
       "      <td>0.91501</td>\n",
       "    </tr>\n",
       "    <tr>\n",
       "      <th>3</th>\n",
       "      <td>Electricity production from hydroelectric sour...</td>\n",
       "      <td>0.920372</td>\n",
       "    </tr>\n",
       "    <tr>\n",
       "      <th>4</th>\n",
       "      <td>Electricity production from natural gas source...</td>\n",
       "      <td>0.963087</td>\n",
       "    </tr>\n",
       "    <tr>\n",
       "      <th>5</th>\n",
       "      <td>Electricity production from oil sources (% of ...</td>\n",
       "      <td>0.936279</td>\n",
       "    </tr>\n",
       "    <tr>\n",
       "      <th>6</th>\n",
       "      <td>Fixed broadband subscriptions</td>\n",
       "      <td>0.918652</td>\n",
       "    </tr>\n",
       "    <tr>\n",
       "      <th>7</th>\n",
       "      <td>Fixed telephone subscriptions</td>\n",
       "      <td>0.99226</td>\n",
       "    </tr>\n",
       "    <tr>\n",
       "      <th>8</th>\n",
       "      <td>Fixed telephone subscriptions (per 100 people)</td>\n",
       "      <td>0.9844</td>\n",
       "    </tr>\n",
       "    <tr>\n",
       "      <th>9</th>\n",
       "      <td>ICT service exports (BoP, current US$)</td>\n",
       "      <td>0.936051</td>\n",
       "    </tr>\n",
       "    <tr>\n",
       "      <th>10</th>\n",
       "      <td>Investment in transport with private participa...</td>\n",
       "      <td>0.951249</td>\n",
       "    </tr>\n",
       "    <tr>\n",
       "      <th>11</th>\n",
       "      <td>Mobile cellular subscriptions</td>\n",
       "      <td>0.914159</td>\n",
       "    </tr>\n",
       "    <tr>\n",
       "      <th>12</th>\n",
       "      <td>Rail lines (total route-km)</td>\n",
       "      <td>0.929643</td>\n",
       "    </tr>\n",
       "    <tr>\n",
       "      <th>13</th>\n",
       "      <td>Railways, goods transported (million ton-km)</td>\n",
       "      <td>0.999056</td>\n",
       "    </tr>\n",
       "    <tr>\n",
       "      <th>14</th>\n",
       "      <td>Railways, passengers carried (million passenge...</td>\n",
       "      <td>0.906451</td>\n",
       "    </tr>\n",
       "    <tr>\n",
       "      <th>15</th>\n",
       "      <td>Secure Internet servers (per 1 million people)</td>\n",
       "      <td>0.904757</td>\n",
       "    </tr>\n",
       "  </tbody>\n",
       "</table>\n",
       "</div>"
      ],
      "text/plain": [
       "                                          Indicadores Resultados\n",
       "0             Air transport, freight (million ton-km)   0.910649\n",
       "1   Container port traffic (TEU: 20 foot equivalen...   0.957681\n",
       "2         Electric power consumption (kWh per capita)    0.91501\n",
       "3   Electricity production from hydroelectric sour...   0.920372\n",
       "4   Electricity production from natural gas source...   0.963087\n",
       "5   Electricity production from oil sources (% of ...   0.936279\n",
       "6                       Fixed broadband subscriptions   0.918652\n",
       "7                       Fixed telephone subscriptions    0.99226\n",
       "8      Fixed telephone subscriptions (per 100 people)     0.9844\n",
       "9              ICT service exports (BoP, current US$)   0.936051\n",
       "10  Investment in transport with private participa...   0.951249\n",
       "11                      Mobile cellular subscriptions   0.914159\n",
       "12                        Rail lines (total route-km)   0.929643\n",
       "13       Railways, goods transported (million ton-km)   0.999056\n",
       "14  Railways, passengers carried (million passenge...   0.906451\n",
       "15     Secure Internet servers (per 1 million people)   0.904757"
      ]
     },
     "execution_count": 41,
     "metadata": {},
     "output_type": "execute_result"
    }
   ],
   "source": [
    "buscar_mejores(buscar_resultados(df,'Agricultura','Infraestructura',1))"
   ]
  },
  {
   "cell_type": "markdown",
   "metadata": {},
   "source": [
    "## Mejores combinaciones"
   ]
  },
  {
   "cell_type": "code",
   "execution_count": 42,
   "metadata": {
    "collapsed": false
   },
   "outputs": [
    {
     "data": {
      "text/html": [
       "<div>\n",
       "<table border=\"1\" class=\"dataframe\">\n",
       "  <thead>\n",
       "    <tr style=\"text-align: right;\">\n",
       "      <th></th>\n",
       "      <th>Base</th>\n",
       "      <th>Target</th>\n",
       "      <th>Look Back</th>\n",
       "      <th>Reg</th>\n",
       "      <th>%</th>\n",
       "    </tr>\n",
       "  </thead>\n",
       "  <tbody>\n",
       "    <tr>\n",
       "      <th>0</th>\n",
       "      <td>Privado</td>\n",
       "      <td>Ciencia</td>\n",
       "      <td>1</td>\n",
       "      <td>11</td>\n",
       "      <td>0.900546</td>\n",
       "    </tr>\n",
       "    <tr>\n",
       "      <th>1</th>\n",
       "      <td>Urbano</td>\n",
       "      <td>Ciencia</td>\n",
       "      <td>2</td>\n",
       "      <td>13</td>\n",
       "      <td>0.892362</td>\n",
       "    </tr>\n",
       "    <tr>\n",
       "      <th>2</th>\n",
       "      <td>Comercio</td>\n",
       "      <td>Ciencia</td>\n",
       "      <td>2</td>\n",
       "      <td>11</td>\n",
       "      <td>0.879526</td>\n",
       "    </tr>\n",
       "    <tr>\n",
       "      <th>3</th>\n",
       "      <td>Comercio</td>\n",
       "      <td>Ciencia</td>\n",
       "      <td>3</td>\n",
       "      <td>11</td>\n",
       "      <td>0.877208</td>\n",
       "    </tr>\n",
       "    <tr>\n",
       "      <th>4</th>\n",
       "      <td>Infraestructura</td>\n",
       "      <td>Ciencia</td>\n",
       "      <td>2</td>\n",
       "      <td>13</td>\n",
       "      <td>0.874702</td>\n",
       "    </tr>\n",
       "    <tr>\n",
       "      <th>5</th>\n",
       "      <td>Energia</td>\n",
       "      <td>Ciencia</td>\n",
       "      <td>1</td>\n",
       "      <td>13</td>\n",
       "      <td>0.862954</td>\n",
       "    </tr>\n",
       "    <tr>\n",
       "      <th>6</th>\n",
       "      <td>Ciencia</td>\n",
       "      <td>Ciencia</td>\n",
       "      <td>3</td>\n",
       "      <td>13</td>\n",
       "      <td>0.855968</td>\n",
       "    </tr>\n",
       "    <tr>\n",
       "      <th>7</th>\n",
       "      <td>Privado</td>\n",
       "      <td>Ciencia</td>\n",
       "      <td>2</td>\n",
       "      <td>11</td>\n",
       "      <td>0.855853</td>\n",
       "    </tr>\n",
       "    <tr>\n",
       "      <th>8</th>\n",
       "      <td>Urbano</td>\n",
       "      <td>Ciencia</td>\n",
       "      <td>1</td>\n",
       "      <td>13</td>\n",
       "      <td>0.842303</td>\n",
       "    </tr>\n",
       "    <tr>\n",
       "      <th>9</th>\n",
       "      <td>Comercio</td>\n",
       "      <td>Ciencia</td>\n",
       "      <td>1</td>\n",
       "      <td>11</td>\n",
       "      <td>0.840930</td>\n",
       "    </tr>\n",
       "  </tbody>\n",
       "</table>\n",
       "</div>"
      ],
      "text/plain": [
       "              Base   Target  Look Back  Reg         %\n",
       "0          Privado  Ciencia          1   11  0.900546\n",
       "1           Urbano  Ciencia          2   13  0.892362\n",
       "2         Comercio  Ciencia          2   11  0.879526\n",
       "3         Comercio  Ciencia          3   11  0.877208\n",
       "4  Infraestructura  Ciencia          2   13  0.874702\n",
       "5          Energia  Ciencia          1   13  0.862954\n",
       "6          Ciencia  Ciencia          3   13  0.855968\n",
       "7          Privado  Ciencia          2   11  0.855853\n",
       "8           Urbano  Ciencia          1   13  0.842303\n",
       "9         Comercio  Ciencia          1   11  0.840930"
      ]
     },
     "execution_count": 42,
     "metadata": {},
     "output_type": "execute_result"
    }
   ],
   "source": [
    "df.sort_values('%', ascending=False).reset_index().drop(['index','Time','Results'],1)[:10]"
   ]
  },
  {
   "cell_type": "markdown",
   "metadata": {},
   "source": [
    "## Peores combinaciones"
   ]
  },
  {
   "cell_type": "code",
   "execution_count": 43,
   "metadata": {
    "collapsed": false
   },
   "outputs": [
    {
     "data": {
      "text/html": [
       "<div>\n",
       "<table border=\"1\" class=\"dataframe\">\n",
       "  <thead>\n",
       "    <tr style=\"text-align: right;\">\n",
       "      <th></th>\n",
       "      <th>Base</th>\n",
       "      <th>Target</th>\n",
       "      <th>Look Back</th>\n",
       "      <th>Reg</th>\n",
       "      <th>%</th>\n",
       "    </tr>\n",
       "  </thead>\n",
       "  <tbody>\n",
       "    <tr>\n",
       "      <th>1190</th>\n",
       "      <td>Pobreza</td>\n",
       "      <td>Energia</td>\n",
       "      <td>3</td>\n",
       "      <td>53</td>\n",
       "      <td>0.225532</td>\n",
       "    </tr>\n",
       "    <tr>\n",
       "      <th>1191</th>\n",
       "      <td>Pobreza</td>\n",
       "      <td>Ambiente</td>\n",
       "      <td>1</td>\n",
       "      <td>111</td>\n",
       "      <td>0.223511</td>\n",
       "    </tr>\n",
       "    <tr>\n",
       "      <th>1192</th>\n",
       "      <td>Pobreza</td>\n",
       "      <td>Salud</td>\n",
       "      <td>3</td>\n",
       "      <td>152</td>\n",
       "      <td>0.215839</td>\n",
       "    </tr>\n",
       "    <tr>\n",
       "      <th>1193</th>\n",
       "      <td>Pobreza</td>\n",
       "      <td>Salud</td>\n",
       "      <td>2</td>\n",
       "      <td>152</td>\n",
       "      <td>0.210652</td>\n",
       "    </tr>\n",
       "    <tr>\n",
       "      <th>1194</th>\n",
       "      <td>Pobreza</td>\n",
       "      <td>Urbano</td>\n",
       "      <td>2</td>\n",
       "      <td>21</td>\n",
       "      <td>0.210160</td>\n",
       "    </tr>\n",
       "    <tr>\n",
       "      <th>1195</th>\n",
       "      <td>Pobreza</td>\n",
       "      <td>Ayuda</td>\n",
       "      <td>3</td>\n",
       "      <td>69</td>\n",
       "      <td>0.208370</td>\n",
       "    </tr>\n",
       "    <tr>\n",
       "      <th>1196</th>\n",
       "      <td>Pobreza</td>\n",
       "      <td>Salud</td>\n",
       "      <td>1</td>\n",
       "      <td>152</td>\n",
       "      <td>0.201384</td>\n",
       "    </tr>\n",
       "    <tr>\n",
       "      <th>1197</th>\n",
       "      <td>Pobreza</td>\n",
       "      <td>Ayuda</td>\n",
       "      <td>2</td>\n",
       "      <td>69</td>\n",
       "      <td>0.195450</td>\n",
       "    </tr>\n",
       "    <tr>\n",
       "      <th>1198</th>\n",
       "      <td>Pobreza</td>\n",
       "      <td>Urbano</td>\n",
       "      <td>1</td>\n",
       "      <td>21</td>\n",
       "      <td>0.192287</td>\n",
       "    </tr>\n",
       "    <tr>\n",
       "      <th>1199</th>\n",
       "      <td>Pobreza</td>\n",
       "      <td>Urbano</td>\n",
       "      <td>3</td>\n",
       "      <td>21</td>\n",
       "      <td>0.171713</td>\n",
       "    </tr>\n",
       "  </tbody>\n",
       "</table>\n",
       "</div>"
      ],
      "text/plain": [
       "         Base    Target  Look Back  Reg         %\n",
       "1190  Pobreza   Energia          3   53  0.225532\n",
       "1191  Pobreza  Ambiente          1  111  0.223511\n",
       "1192  Pobreza     Salud          3  152  0.215839\n",
       "1193  Pobreza     Salud          2  152  0.210652\n",
       "1194  Pobreza    Urbano          2   21  0.210160\n",
       "1195  Pobreza     Ayuda          3   69  0.208370\n",
       "1196  Pobreza     Salud          1  152  0.201384\n",
       "1197  Pobreza     Ayuda          2   69  0.195450\n",
       "1198  Pobreza    Urbano          1   21  0.192287\n",
       "1199  Pobreza    Urbano          3   21  0.171713"
      ]
     },
     "execution_count": 43,
     "metadata": {},
     "output_type": "execute_result"
    }
   ],
   "source": [
    "df.sort_values('%', ascending=False).reset_index().drop(['index','Time','Results'],1).tail(10)"
   ]
  },
  {
   "cell_type": "markdown",
   "metadata": {},
   "source": [
    "## Graficamos Resultados Individuales"
   ]
  },
  {
   "cell_type": "markdown",
   "metadata": {},
   "source": [
    "Resultado de predecir el conjunto de indicadores de Infraestructura desde Agricultura"
   ]
  },
  {
   "cell_type": "code",
   "execution_count": 44,
   "metadata": {
    "collapsed": false
   },
   "outputs": [
    {
     "data": {
      "text/html": [
       "<iframe id=\"igraph\" scrolling=\"no\" style=\"border:none;\" seamless=\"seamless\" src=\"https://plot.ly/~ambigus9/220.embed\" height=\"525px\" width=\"100%\"></iframe>"
      ],
      "text/plain": [
       "<plotly.tools.PlotlyDisplay object>"
      ]
     },
     "execution_count": 44,
     "metadata": {},
     "output_type": "execute_result"
    }
   ],
   "source": [
    "graficar_resultados_individuales(df,'Agricultura','Infraestructura',1)"
   ]
  },
  {
   "cell_type": "code",
   "execution_count": 45,
   "metadata": {
    "collapsed": false
   },
   "outputs": [
    {
     "data": {
      "text/html": [
       "<iframe id=\"igraph\" scrolling=\"no\" style=\"border:none;\" seamless=\"seamless\" src=\"https://plot.ly/~ambigus9/222.embed\" height=\"525px\" width=\"100%\"></iframe>"
      ],
      "text/plain": [
       "<plotly.tools.PlotlyDisplay object>"
      ]
     },
     "execution_count": 45,
     "metadata": {},
     "output_type": "execute_result"
    }
   ],
   "source": [
    "graficar_resultados_individuales(df,'Agricultura','Economia',1)"
   ]
  },
  {
   "cell_type": "markdown",
   "metadata": {},
   "source": [
    "## Graficamos Resultados Globales"
   ]
  },
  {
   "cell_type": "markdown",
   "metadata": {},
   "source": [
    "Este Heatmap nos muestra el rendimiento promedio del coeficiente de determinación para cada conjunto"
   ]
  },
  {
   "cell_type": "code",
   "execution_count": 46,
   "metadata": {
    "collapsed": false
   },
   "outputs": [
    {
     "data": {
      "text/html": [
       "<iframe id=\"igraph\" scrolling=\"no\" style=\"border:none;\" seamless=\"seamless\" src=\"https://plot.ly/~ambigus9/224.embed\" height=\"525px\" width=\"100%\"></iframe>"
      ],
      "text/plain": [
       "<plotly.tools.PlotlyDisplay object>"
      ]
     },
     "execution_count": 46,
     "metadata": {},
     "output_type": "execute_result"
    }
   ],
   "source": [
    "graficar_resultados(df,1)"
   ]
  },
  {
   "cell_type": "code",
   "execution_count": 47,
   "metadata": {
    "collapsed": false
   },
   "outputs": [
    {
     "data": {
      "text/html": [
       "<iframe id=\"igraph\" scrolling=\"no\" style=\"border:none;\" seamless=\"seamless\" src=\"https://plot.ly/~ambigus9/226.embed\" height=\"525px\" width=\"100%\"></iframe>"
      ],
      "text/plain": [
       "<plotly.tools.PlotlyDisplay object>"
      ]
     },
     "execution_count": 47,
     "metadata": {},
     "output_type": "execute_result"
    }
   ],
   "source": [
    "graficar_resultados(df,2)"
   ]
  },
  {
   "cell_type": "code",
   "execution_count": 48,
   "metadata": {
    "collapsed": false,
    "scrolled": false
   },
   "outputs": [
    {
     "data": {
      "text/html": [
       "<iframe id=\"igraph\" scrolling=\"no\" style=\"border:none;\" seamless=\"seamless\" src=\"https://plot.ly/~ambigus9/228.embed\" height=\"525px\" width=\"100%\"></iframe>"
      ],
      "text/plain": [
       "<plotly.tools.PlotlyDisplay object>"
      ]
     },
     "execution_count": 48,
     "metadata": {},
     "output_type": "execute_result"
    }
   ],
   "source": [
    "graficar_resultados(df,3)"
   ]
  },
  {
   "cell_type": "markdown",
   "metadata": {},
   "source": [
    "# Conclusiones"
   ]
  },
  {
   "cell_type": "markdown",
   "metadata": {},
   "source": [
    "- Con el objetivo de encontrar los conjuntos con mayor grado de predictibilidad, contamos la cantidad de conjuntos en los cuales el 30% o más de sus indicadores obtuvieron un puntaje mayor al 90% para dos casos:\n",
    "\n",
    " **Predictor:** Conjunto que predice a otro conjunto\n",
    " \n",
    " **Predecible:** Conjunto que es predecido por otro conjunto"
   ]
  },
  {
   "cell_type": "code",
   "execution_count": 49,
   "metadata": {
    "collapsed": false
   },
   "outputs": [
    {
     "data": {
      "text/html": [
       "<div>\n",
       "<table border=\"1\" class=\"dataframe\">\n",
       "  <thead>\n",
       "    <tr style=\"text-align: right;\">\n",
       "      <th></th>\n",
       "      <th>Best Predictor</th>\n",
       "      <th>Worse Predictor</th>\n",
       "      <th>Easier Predictable</th>\n",
       "      <th>Hard Predictable</th>\n",
       "    </tr>\n",
       "  </thead>\n",
       "  <tbody>\n",
       "    <tr>\n",
       "      <th>0</th>\n",
       "      <td>Agricultura</td>\n",
       "      <td>Clima</td>\n",
       "      <td>Agricultura</td>\n",
       "      <td>Ayuda</td>\n",
       "    </tr>\n",
       "    <tr>\n",
       "      <th>1</th>\n",
       "      <td>Ambiente</td>\n",
       "      <td>Ciencia</td>\n",
       "      <td>Economia</td>\n",
       "      <td>Salud</td>\n",
       "    </tr>\n",
       "    <tr>\n",
       "      <th>2</th>\n",
       "      <td>Trabajo</td>\n",
       "      <td>Ayuda</td>\n",
       "      <td>Publico</td>\n",
       "      <td>Social</td>\n",
       "    </tr>\n",
       "    <tr>\n",
       "      <th>3</th>\n",
       "      <td>Social</td>\n",
       "      <td>Urbano</td>\n",
       "      <td>Pobreza</td>\n",
       "      <td>Trabajo</td>\n",
       "    </tr>\n",
       "    <tr>\n",
       "      <th>4</th>\n",
       "      <td>Salud</td>\n",
       "      <td>Pobreza</td>\n",
       "      <td>Finanzas</td>\n",
       "      <td>Urbano</td>\n",
       "    </tr>\n",
       "  </tbody>\n",
       "</table>\n",
       "</div>"
      ],
      "text/plain": [
       "  Best Predictor Worse Predictor Easier Predictable Hard Predictable\n",
       "0    Agricultura           Clima        Agricultura            Ayuda\n",
       "1       Ambiente         Ciencia           Economia            Salud\n",
       "2        Trabajo           Ayuda            Publico           Social\n",
       "3         Social          Urbano            Pobreza          Trabajo\n",
       "4          Salud         Pobreza           Finanzas           Urbano"
      ]
     },
     "execution_count": 49,
     "metadata": {},
     "output_type": "execute_result"
    }
   ],
   "source": [
    "pd.DataFrame(np.column_stack([conjuntos_predictores(df,1)[:5],conjuntos_predictores(df,1).tail(5),conjuntos_predecibles(df,1)[:5],conjuntos_predecibles(df,1).tail(5)]), columns=['Best Predictor','Worse Predictor','Easier Predictable','Hard Predictable'])"
   ]
  },
  {
   "cell_type": "code",
   "execution_count": null,
   "metadata": {
    "collapsed": true
   },
   "outputs": [],
   "source": []
  }
 ],
 "metadata": {
  "kernelspec": {
   "display_name": "Python 2",
   "language": "python",
   "name": "python2"
  },
  "language_info": {
   "codemirror_mode": {
    "name": "ipython",
    "version": 2
   },
   "file_extension": ".py",
   "mimetype": "text/x-python",
   "name": "python",
   "nbconvert_exporter": "python",
   "pygments_lexer": "ipython2",
   "version": "2.7.13"
  }
 },
 "nbformat": 4,
 "nbformat_minor": 2
}
