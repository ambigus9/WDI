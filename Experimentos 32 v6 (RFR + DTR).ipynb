{
 "cells": [
  {
   "cell_type": "markdown",
   "metadata": {},
   "source": [
    "## World Development Indicators - Analytics"
   ]
  },
  {
   "cell_type": "code",
   "execution_count": 23,
   "metadata": {
    "collapsed": false
   },
   "outputs": [
    {
     "data": {
      "text/html": [
       "<div>\n",
       "<table border=\"1\" class=\"dataframe\">\n",
       "  <thead>\n",
       "    <tr style=\"text-align: right;\">\n",
       "      <th></th>\n",
       "      <th>CountryName</th>\n",
       "      <th>CountryCode</th>\n",
       "      <th>IndicatorName</th>\n",
       "      <th>IndicatorCode</th>\n",
       "      <th>Year</th>\n",
       "      <th>Value</th>\n",
       "    </tr>\n",
       "  </thead>\n",
       "  <tbody>\n",
       "    <tr>\n",
       "      <th>0</th>\n",
       "      <td>Antigua and Barbuda</td>\n",
       "      <td>ATG</td>\n",
       "      <td>Adolescent fertility rate (births per 1,000 wo...</td>\n",
       "      <td>SP.ADO.TFRT</td>\n",
       "      <td>1960</td>\n",
       "      <td>126.144000</td>\n",
       "    </tr>\n",
       "    <tr>\n",
       "      <th>1</th>\n",
       "      <td>Antigua and Barbuda</td>\n",
       "      <td>ATG</td>\n",
       "      <td>Age dependency ratio (% of working-age populat...</td>\n",
       "      <td>SP.POP.DPND</td>\n",
       "      <td>1960</td>\n",
       "      <td>88.237117</td>\n",
       "    </tr>\n",
       "    <tr>\n",
       "      <th>2</th>\n",
       "      <td>Antigua and Barbuda</td>\n",
       "      <td>ATG</td>\n",
       "      <td>Age dependency ratio, old (% of working-age po...</td>\n",
       "      <td>SP.POP.DPND.OL</td>\n",
       "      <td>1960</td>\n",
       "      <td>7.779958</td>\n",
       "    </tr>\n",
       "    <tr>\n",
       "      <th>3</th>\n",
       "      <td>Antigua and Barbuda</td>\n",
       "      <td>ATG</td>\n",
       "      <td>Age dependency ratio, young (% of working-age ...</td>\n",
       "      <td>SP.POP.DPND.YG</td>\n",
       "      <td>1960</td>\n",
       "      <td>80.457159</td>\n",
       "    </tr>\n",
       "    <tr>\n",
       "      <th>4</th>\n",
       "      <td>Antigua and Barbuda</td>\n",
       "      <td>ATG</td>\n",
       "      <td>Birth rate, crude (per 1,000 people)</td>\n",
       "      <td>SP.DYN.CBRT.IN</td>\n",
       "      <td>1960</td>\n",
       "      <td>32.920000</td>\n",
       "    </tr>\n",
       "  </tbody>\n",
       "</table>\n",
       "</div>"
      ],
      "text/plain": [
       "           CountryName CountryCode  \\\n",
       "0  Antigua and Barbuda         ATG   \n",
       "1  Antigua and Barbuda         ATG   \n",
       "2  Antigua and Barbuda         ATG   \n",
       "3  Antigua and Barbuda         ATG   \n",
       "4  Antigua and Barbuda         ATG   \n",
       "\n",
       "                                       IndicatorName   IndicatorCode  Year  \\\n",
       "0  Adolescent fertility rate (births per 1,000 wo...     SP.ADO.TFRT  1960   \n",
       "1  Age dependency ratio (% of working-age populat...     SP.POP.DPND  1960   \n",
       "2  Age dependency ratio, old (% of working-age po...  SP.POP.DPND.OL  1960   \n",
       "3  Age dependency ratio, young (% of working-age ...  SP.POP.DPND.YG  1960   \n",
       "4               Birth rate, crude (per 1,000 people)  SP.DYN.CBRT.IN  1960   \n",
       "\n",
       "        Value  \n",
       "0  126.144000  \n",
       "1   88.237117  \n",
       "2    7.779958  \n",
       "3   80.457159  \n",
       "4   32.920000  "
      ]
     },
     "execution_count": 23,
     "metadata": {},
     "output_type": "execute_result"
    }
   ],
   "source": [
    "import numpy as np\n",
    "import pandas as pd\n",
    "import matplotlib.pyplot as plt\n",
    "import time\n",
    "\n",
    "datos = pd.read_csv(\"suramerica.csv\").drop('Unnamed: 0', 1)\n",
    "datos.head()"
   ]
  },
  {
   "cell_type": "code",
   "execution_count": 24,
   "metadata": {
    "collapsed": false
   },
   "outputs": [],
   "source": [
    "estimadores = ['DTR','RFR']\n",
    "estimadores_nombres = ['Decission Tree Regressor','Random Forest Regressor']\n",
    "\n",
    "paises = ['Antigua and Barbuda','Argentina','Aruba','Bahamas, The','Barbados','Belize','Bolivia','Brazil','Cayman Islands','Chile','Colombia','Costa Rica','Cuba','Curacao','Dominica','Dominican Republic','Ecuador','El Salvador','Grenada','Guatemala','Guyana','Haiti','Honduras','Jamaica','Mexico','Nicaragua','Panama','Paraguay','Peru','Puerto Rico','Sint Maarten (Dutch part)','St. Kitts and Nevis','St. Lucia','St. Martin (French part)','St. Vincent and the Grenadines','Suriname','Trinidad and Tobago','Turks and Caicos Islands','Uruguay','Venezuela, RB','Virgin Islands (U.S.)']\n",
    "\n",
    "year_init = 2012\n",
    "year_range = 5\n",
    "look_back = 3\n",
    "years = range(year_init-year_range+1,year_init+1)[::-1]\n",
    "\n",
    "agricultura = ['EG.ELC.ACCS.RU.ZS','EG.NSF.ACCS.RU.ZS','AG.LND.IRIG.AG.ZS','AG.LND.AGRI.ZS','AG.LND.AGRI.K2','AG.AGR.TRAC.NO','AG.LND.TRAC.ZS','EN.ATM.METH.AG.ZS','EN.ATM.METH.AG.KT.CE','EN.ATM.NOXE.AG.ZS','EN.ATM.NOXE.AG.KT.CE','TX.VAL.AGRI.ZS.UN','TM.VAL.AGRI.ZS.UN','EA.PRD.AGRI.KD','NV.AGR.TOTL.ZS','NV.AGR.TOTL.CD','ER.H2O.FWAG.ZS','AG.LND.ARBL.ZS','AG.LND.ARBL.HA.PC','AG.LND.ARBL.HA','AG.LND.PRCP.MM','AG.PRD.CREL.MT','AG.YLD.CREL.KG','AG.PRD.CROP.XD','SL.AGR.EMPL.ZS','SL.AGR.EMPL.FE.ZS','SL.AGR.EMPL.MA.ZS','AG.CON.FERT.PT.ZS','AG.CON.FERT.ZS','AG.PRD.FOOD.XD','AG.LND.FRST.ZS','AG.LND.FRST.K2','SH.STA.ACSN.RU','SH.H2O.SAFE.RU.ZS','AG.LND.TOTL.K2','AG.LND.CREL.HA','AG.PRD.LVSK.XD','AG.LND.CROP.ZS','AG.LND.TOTL.RU.K2','AG.LND.EL5M.RU.ZS','AG.LND.EL5M.RU.K2','SP.RUR.TOTL','SP.RUR.TOTL.ZS','SP.RUR.TOTL.ZG','EN.POP.EL5M.RU.ZS','SI.POV.RUGP','SI.POV.RUHC','AG.SRF.TOTL.K2']\n",
    "economia = ['PA.NUS.PPP.05','PA.NUS.PRVT.PP.05','NY.ADJ.NNTY.KD.ZG','NY.ADJ.NNTY.KD','NY.ADJ.NNTY.CD','NY.ADJ.NNTY.PC.KD.ZG','NY.ADJ.NNTY.PC.KD','NY.ADJ.NNTY.PC.CD','NY.ADJ.SVNX.GN.ZS','NY.ADJ.SVNX.CD','NY.ADJ.SVNG.GN.ZS','NY.ADJ.SVNG.CD','NY.ADJ.DCO2.GN.ZS','NY.ADJ.DCO2.CD','NY.ADJ.DKAP.GN.ZS','NY.ADJ.DKAP.CD','NY.ADJ.AEDU.GN.ZS','NY.ADJ.AEDU.CD','NY.ADJ.DNGY.GN.ZS','NY.ADJ.DNGY.CD','NY.ADJ.ICTR.GN.ZS','NY.ADJ.DMIN.GN.ZS','NY.ADJ.DMIN.CD','NY.ADJ.DRES.GN.ZS','NY.ADJ.DFOR.GN.ZS','NY.ADJ.DFOR.CD','NY.ADJ.NNAT.GN.ZS','NY.ADJ.NNAT.CD','NY.ADJ.DPEM.GN.ZS','NY.ADJ.DPEM.CD','NV.AGR.TOTL.ZS','NV.AGR.TOTL.KD.ZG','NV.AGR.TOTL.KD','NV.AGR.TOTL.KN','NV.AGR.TOTL.CN','NV.AGR.TOTL.CD','GC.DOD.TOTL.GD.ZS','NE.GDI.STKB.KN','NE.GDI.STKB.CN','NE.GDI.STKB.CD','BM.GSR.ROYL.CD','BX.GSR.ROYL.CD','NV.MNF.CHEM.ZS.UN','BX.GSR.CMCP.ZS','BM.GSR.CMCP.ZS','BN.CAB.XOKA.GD.ZS','BN.CAB.XOKA.CD','PA.NUS.ATLS','NY.GDP.DISC.KN','NY.GDP.DISC.CN','GC.XPN.TOTL.GD.ZS','NY.EXP.CAPM.KN','NE.EXP.GNFS.ZS','BX.GSR.GNFS.CD','NE.EXP.GNFS.KD.ZG','NE.EXP.GNFS.KD','NE.EXP.GNFS.KN','NE.EXP.GNFS.CN','NE.EXP.GNFS.CD','BX.GSR.TOTL.CD','NE.RSB.GNFS.ZS','NE.RSB.GNFS.KN','NE.RSB.GNFS.CN','NE.RSB.GNFS.CD','DT.DOD.DECT.GN.ZS','DT.DOD.DECT.EX.ZS','DT.DOD.DECT.CD','NE.CON.TOTL.KD','NE.CON.TOTL.KN','NE.CON.TOTL.CN','NE.CON.TOTL.CD','NE.CON.TETC.ZS','NE.CON.TETC.KD.ZG','NE.CON.TETC.KD','NE.CON.TETC.KN','NE.CON.TETC.CN','NE.CON.TETC.CD','NV.MNF.FBTO.ZS.UN','BN.KLT.DINV.CD','BX.KLT.DINV.WD.GD.ZS','BX.KLT.DINV.CD.WD','BM.KLT.DINV.WD.GD.ZS','BM.KLT.DINV.CD.WD','NY.GDP.MKTP.KN','NY.GDP.MKTP.CN','NY.GDP.MKTP.CD','NY.GDP.MKTP.KD','NY.GDP.DEFL.ZS','NY.GDP.MKTP.KD.ZG','NY.GDP.PCAP.KD','NY.GDP.PCAP.KN','NY.GDP.PCAP.CN','NY.GDP.PCAP.CD','NY.GDP.PCAP.KD.ZG','NY.GDP.PCAP.PP.KD','NY.GDP.PCAP.PP.CD','NY.GDP.MKTP.PP.KD','NY.GDP.MKTP.PP.CD','NY.GNP.MKTP.KD','NY.GNP.MKTP.KN','NY.GNP.MKTP.CN','NY.GNP.MKTP.CD','NY.GNP.MKTP.KD.ZG','NY.GNP.PCAP.KD','NY.GNP.PCAP.KN','NY.GNP.PCAP.CN','NY.GNP.PCAP.KD.ZG','NY.GNP.PCAP.CD','NY.GNP.PCAP.PP.KD','NY.GNP.PCAP.PP.CD','NY.GNP.ATLS.CD','NY.GNP.MKTP.PP.KD','NY.GNP.MKTP.PP.CD','NE.CON.GOVT.ZS','NE.CON.GOVT.KD.ZG','NE.CON.GOVT.KD','NE.CON.GOVT.KN','NE.CON.GOVT.CN','NE.CON.GOVT.CD','BX.GSR.MRCH.CD','BM.GSR.MRCH.CD','BX.GRT.EXTA.CD.WD','NE.GDI.TOTL.ZS','NE.GDI.TOTL.KD.ZG','NE.GDI.TOTL.KD','NE.GDI.TOTL.KN','NE.GDI.TOTL.CN','NE.GDI.TOTL.CD','NY.GDY.TOTL.KN','NY.GDS.TOTL.ZS','NY.GDS.TOTL.CN','NY.GDS.TOTL.CD','NE.GDI.FTOT.ZS','NE.GDI.FTOT.KD.ZG','NE.GDI.FTOT.KD','NE.GDI.FTOT.KN','NE.GDI.FTOT.CN','NE.GDI.FTOT.CD','NE.GDI.FPRV.ZS','NE.GDI.FPRV.CN','NE.DAB.TOTL.ZS','NE.DAB.TOTL.KD','NE.DAB.TOTL.KN','NE.DAB.TOTL.CN','NE.DAB.TOTL.CD','NE.DAB.DEFL.ZS','NY.GNS.ICTR.ZS','NY.GNS.ICTR.GN.ZS','NY.GNS.ICTR.CN','NY.GNS.ICTR.CD','NY.GDP.FCST.KD','NY.GDP.FCST.KN','NY.GDP.FCST.CN','NY.GDP.FCST.CD','NE.CON.PRVT.KD.ZG','NE.CON.PRVT.KD','NE.CON.PRVT.KN','NE.CON.PRVT.CN','NE.CON.PRVT.CD','NE.CON.PRVT.PC.KD','NE.CON.PRVT.PC.KD.ZG','NE.CON.PRVT.PP.KD','NE.CON.PRVT.PP.CD','NE.CON.PETC.ZS','NE.CON.PETC.KD.ZG','NE.CON.PETC.KD','NE.CON.PETC.KN','NE.CON.PETC.CN','NE.CON.PETC.CD','BX.GSR.CCIS.ZS','BX.GSR.CCIS.CD','NE.IMP.GNFS.ZS','BM.GSR.GNFS.CD','NE.IMP.GNFS.KD.ZG','NE.IMP.GNFS.KD','NE.IMP.GNFS.KN','NE.IMP.GNFS.CN','NE.IMP.GNFS.CD','BM.GSR.TOTL.CD','NV.IND.TOTL.ZS','NV.IND.TOTL.KD.ZG','NV.IND.TOTL.KD','NV.IND.TOTL.KN','NV.IND.TOTL.CN','NV.IND.TOTL.CD','NY.GDP.DEFL.KD.ZG','FP.CPI.TOTL.ZG','BX.GSR.INSF.ZS','BM.GSR.INSF.ZS','DT.INT.DECT.GN.ZS','DT.INT.DECT.EX.ZS','NV.MNF.MTRN.ZS.UN','NV.IND.MANF.ZS','NV.IND.MANF.KD.ZG','NV.IND.MANF.KD','NV.IND.MANF.KN','NV.IND.MANF.CN','NV.IND.MANF.CD','DT.ODA.ODAT.GN.ZS','DT.ODA.ODAT.PC.ZS','BN.TRF.KOGT.CD','NY.TRF.NCTR.KN','NY.TRF.NCTR.CN','NY.TRF.NCTR.CD','BN.KAC.EOMS.CD','BN.FIN.TOTL.CD','NY.GSR.NFCY.KN','NY.GSR.NFCY.CN','NY.GSR.NFCY.CD','DT.ODA.ODAT.CD','BN.GSR.FCTY.CD','BN.TRF.CURR.CD','NY.TAX.NIND.KN','NY.TAX.NIND.CN','NY.TAX.NIND.CD','BN.GSR.MRCH.CD','BN.GSR.GNFS.CD','NV.MNF.OTHR.ZS.UN','PA.NUS.PPP','PA.NUS.PRVT.PP','BM.TRF.PWKR.CD.DT','BX.TRF.PWKR.DT.GD.ZS','BX.TRF.PWKR.CD.DT','BX.TRF.PWKR.CD','BN.KLT.PTXL.CD','BX.PEF.TOTL.CD.WD','DT.DOD.PVLX.GN.ZS','DT.DOD.PVLX.EX.ZS','DT.DOD.PVLX.CD','PA.NUS.PPPC.RF','BX.KLT.DREM.CD.DT','BM.GSR.FCTY.CD','BX.GSR.FCTY.CD','BN.RES.INCL.CD','GC.REV.XGRT.GD.ZS','BX.TRF.CURR.CD','BM.TRF.PRVT.CD','BX.GSR.NFSV.CD','BM.GSR.NFSV.CD','NV.SRV.TETC.ZS','NV.SRV.TETC.KD.ZG','NV.SRV.TETC.KD','NV.SRV.TETC.KN','NV.SRV.TETC.CN','NV.SRV.TETC.CD','DT.DOD.DSTC.XP.ZS','DT.DOD.DSTC.IR.ZS','BX.GRT.TECH.CD.WD','NY.TTF.GNFS.KN','NV.MNF.TXTL.ZS.UN','DT.TDS.DECT.GN.ZS','DT.TDS.DECT.EX.ZS','FI.RES.TOTL.CD','FI.RES.XGLD.CD','NE.TRD.GNFS.ZS','BG.GSR.NFSV.GD.ZS','BX.GSR.TRAN.ZS','BM.GSR.TRAN.ZS','BX.GSR.TRVL.ZS','BM.GSR.TRVL.ZS']\n",
    "educacion = ['SE.PRM.TENR.FE','SE.PRM.TENR.MA','SE.PRM.TENR','SE.SEC.UNER.LO.ZS','SE.SEC.UNER.LO.FE.ZS','SE.SEC.UNER.LO.MA.ZS','SE.ADT.LITR.ZS','SE.XPD.MPRM.ZS','SE.XPD.MSEC.ZS','SE.XPD.MTER.ZS','SE.XPD.MTOT.ZS','SE.PRM.UNER.ZS','SE.PRM.UNER.FE.ZS','SE.PRM.UNER.MA.ZS','SE.PRM.UNER.FE','SE.PRM.UNER.MA','SE.XPD.CPRM.ZS','SE.XPD.CSEC.ZS','SE.XPD.CTER.ZS','SE.XPD.CTOT.ZS','SE.COM.DURS','SE.TER.CUAT.DO.FE.ZS','SE.TER.CUAT.DO.MA.ZS','SE.TER.CUAT.DO.ZS','SE.TER.CUAT.BA.FE.ZS','SE.TER.CUAT.BA.MA.ZS','SE.TER.CUAT.BA.ZS','SE.TER.CUAT.MS.FE.ZS','SE.TER.CUAT.MS.MA.ZS','SE.TER.CUAT.MS.ZS','SE.SEC.CUAT.LO.FE.ZS','SE.SEC.CUAT.LO.MA.ZS','SE.SEC.CUAT.LO.ZS','SE.SEC.CUAT.PO.FE.ZS','SE.SEC.CUAT.PO.MA.ZS','SE.SEC.CUAT.PO.ZS','SE.PRM.CUAT.FE.ZS','SE.PRM.CUAT.MA.ZS','SE.PRM.CUAT.ZS','SE.TER.CUAT.ST.FE.ZS','SE.TER.CUAT.ST.MA.ZS','SE.TER.CUAT.ST.ZS','SE.SEC.CUAT.UP.FE.ZS','SE.SEC.CUAT.UP.MA.ZS','SE.SEC.CUAT.UP.ZS','SE.SEC.PROG.ZS','SM.EMI.TERT.ZS','SE.PRM.ENRL','SE.SEC.ENRL','SE.SEC.ENRL.GC','SE.SEC.ENRL.VO','SE.XPD.TOTL.GB.ZS','SE.XPD.PRIM.ZS','SE.XPD.SECO.ZS','SE.XPD.TERT.ZS','SE.XPD.TOTL.GD.ZS','SE.XPD.PRIM.PC.ZS','SE.XPD.SECO.PC.ZS','SE.XPD.TERT.PC.ZS','SE.PRM.ENRR','SE.PRE.ENRR','SE.PRE.ENRR.FE','SE.PRE.ENRR.MA','SE.SEC.ENRR','SE.TER.ENRR','SE.PRM.GINT.ZS','SE.PRM.GINT.FE.ZS','SE.PRM.GINT.MA.ZS','SL.TLF.PRIM.ZS','SL.TLF.PRIM.FE.ZS','SL.TLF.PRIM.MA.ZS','SL.TLF.SECO.ZS','SL.TLF.SECO.FE.ZS','SL.TLF.SECO.MA.ZS','SL.TLF.TERT.ZS','SL.TLF.TERT.FE.ZS','SL.TLF.TERT.MA.ZS','SL.TLF.TOTL.FE.ZS','SL.TLF.TOTL.IN','SE.ADT.LITR.FE.ZS','SE.ADT.LITR.MA.ZS','SE.ADT.1524.LT.FM.ZS','SE.ADT.1524.LT.FE.ZS','SE.ADT.1524.LT.MA.ZS','SE.SEC.CMPT.LO.FE.ZS','SE.SEC.CMPT.LO.MA.ZS','SE.SEC.CMPT.LO.ZS','SE.PRM.NENR','SE.SEC.NENR','SE.PRM.NINT.FE.ZS','SE.PRM.NINT.MA.ZS','SE.PRM.NINT.ZS','SE.SEC.AGES','SE.PRM.AGES','SE.PRM.UNER','SE.PRM.OENR.ZS','SE.PRM.OENR.FE.ZS','SE.PRM.OENR.MA.ZS','SE.PRM.PRIV.ZS','SE.SEC.PRIV.ZS','SE.PRM.TCAQ.FE.ZS','SE.SEC.TCAQ.FE.ZS','SE.PRM.TCAQ.MA.ZS','SE.SEC.TCAQ.MA.ZS','SE.PRM.REPT.ZS','SE.PRM.REPT.FE.ZS','SE.PRM.REPT.MA.ZS','SE.SEC.ENRL.GC.FE.ZS','SE.SEC.ENRL.VO.FE.ZS','SE.PRM.TCAQ.ZS','SE.SEC.TCAQ.ZS','SE.PRM.PRS5.FE.ZS','SE.PRM.PRS5.MA.ZS','SP.POP.0014.TO.ZS','SP.POP.1564.TO.ZS','SE.PRE.DURS','SE.PRM.CMPT.FE.ZS','SE.PRM.CMPT.MA.ZS','SE.PRM.CMPT.ZS','SE.PRM.ENRL.FE.ZS','SE.PRM.TCHR.FE.ZS','SE.SEC.PROG.FE.ZS','SE.SEC.PROG.MA.ZS','SE.PRE.ENRL.TC.ZS','SE.PRM.ENRL.TC.ZS','SE.SEC.ENRL.TC.ZS','SE.SEC.ENRL.LO.TC.ZS','SE.TER.ENRL.TC.ZS','SE.SEC.ENRL.UP.TC.ZS','SE.ENR.PRIM.FM.ZS','SE.ENR.PRSC.FM.ZS','SE.PRM.ENRR.FE','SE.PRM.NENR.FE','SE.PRM.ENRR.MA','SE.PRM.NENR.MA','SE.ENR.SECO.FM.ZS','SE.SEC.ENRR.FE','SE.SEC.NENR.FE','SE.SEC.ENRR.MA','SE.SEC.NENR.MA','SE.ENR.TERT.FM.ZS','SE.TER.ENRR.FE','SE.TER.ENRR.MA','SE.SEC.ENRL.FE.ZS','SE.SEC.TCHR.FE.ZS','SE.PRM.PRS5.ZS','SE.PRM.PRSL.ZS','SE.PRM.PRSL.FE.ZS','SE.PRM.PRSL.MA.ZS','SE.PRM.TCHR','SE.SEC.TCHR','SE.SEC.TCHR.FE','SE.TER.TCHR.FE.ZS','SE.PRM.DURS','SE.SEC.DURS','SE.SEC.TCAQ.LO.ZS','SE.SEC.TCAQ.LO.FE.ZS','SE.SEC.TCAQ.LO.MA.ZS','SE.PRE.TCAQ.ZS','SE.PRE.TCAQ.FE.ZS','SE.PRE.TCAQ.MA.ZS','SE.SEC.TCAQ.UP.ZS','SE.SEC.TCAQ.UP.FE.ZS','SE.SEC.TCAQ.UP.MA.ZS','SL.UEM.TOTL.FE.ZS','SL.UEM.TOTL.MA.ZS','SL.UEM.TOTL.ZS','SE.ADT.1524.LT.ZS']\n",
    "salud = ['SH.STA.ARIC.ZS','SP.ADO.TFRT','SH.HIV.INCD.TL','SH.HIV.INCD','SP.POP.DPND','SP.POP.DPND.OL','SP.POP.DPND.YG','SH.HIV.ARTC.ZS','SH.HIV.PMTC.ZS','SP.DYN.CBRT.IN','SH.STA.BRTC.ZS','SH.DTH.COMM.ZS','SH.DTH.INJR.ZS','SH.DTH.NCOM.ZS','SH.HIV.0014','SH.HIV.INCD.14','SH.MLR.TRET.ZS','SH.MED.CMHW.P3','SP.REG.BRTH.ZS','SP.REG.BRTH.RU.ZS','SP.REG.BRTH.UR.ZS','SP.REG.DTHS.ZS','SP.DTH.INFR.ZS','SP.DTH.REPT.ZS','SH.CON.1524.FE.ZS','SH.CON.1524.MA.ZS','SN.ITK.SALT.ZS','SP.DYN.CONU.ZS','SP.DYN.CONM.ZS','SP.DYN.CDRT.IN','SH.FPL.SATM.ZS','SN.ITK.DFCT','SH.STA.DIAB.ZS','SH.STA.ORCF.ZS','SH.STA.ORTH','SM.EMI.TERT.ZS','SH.STA.BFED.ZS','SH.XPD.EXTR.ZS','SH.STA.FGMS.ZS','SP.HOU.FEMA.ZS','SP.DYN.TFRT.IN','SH.XPD.PCAP','SH.XPD.PCAP.PP.KD','SH.XPD.PRIV.ZS','SH.XPD.PUBL.ZS','SH.XPD.PUBL.GX.ZS','SH.XPD.PUBL','SH.XPD.TOTL.ZS','SH.MED.BEDS.ZS','SH.IMM.IDPT','SH.IMM.MEAS','SH.STA.ACSN','SH.STA.ACSN.RU','SH.STA.ACSN.UR','SH.H2O.SAFE.ZS','SH.H2O.SAFE.RU.ZS','SH.H2O.SAFE.UR.ZS','SH.HIV.INCD.ZS','SH.MLR.INCD.P3','SH.TBS.INCD','SM.POP.TOTL.ZS','SM.POP.TOTL','SP.DYN.LE00.FE.IN','SP.DYN.LE00.MA.IN','SP.DYN.LE00.IN','SH.MMR.RISK.ZS','SH.MMR.RISK','SH.STA.BRTW.ZS','SH.STA.MMRT','SH.STA.MMRT.NE','SH.STA.TRAF.P5','SH.DYN.NCOM.ZS','SP.DYN.AMRT.FE','SP.DYN.AMRT.MA','SP.DYN.IMRT.IN','SP.DYN.IMRT.FE.IN','SP.DYN.IMRT.MA.IN','SH.DYN.NMRT','SH.DYN.MORT','SH.DYN.MORT.FE','SH.DYN.MORT.MA','SM.POP.NETM','SH.VAC.TTNS.ZS','SH.DTH.IMRT','SH.MMR.DTHS','SH.DTH.NMRT','SH.SGR.PROC.P5','SH.DTH.MORT','SH.MED.NUMW.P3','SH.XPD.OOPC.ZS','SH.XPD.OOPC.TO.ZS','SH.STA.ODFC.ZS','SH.STA.ODFC.RU.ZS','SH.STA.ODFC.UR.ZS','SH.MED.PHYS.ZS','SP.POP.0014.TO.ZS','SP.POP.1564.TO.ZS','SP.POP.65UP.TO.ZS','SP.POP.GROW','SP.POP.TOTL.FE.ZS','SP.POP.TOTL','SH.STA.ANVC.ZS','SH.HIV.1524.FE.ZS','SH.HIV.1524.MA.ZS','SH.DYN.AIDS.ZS','SH.ANM.CHLD.ZS','SH.ANM.NPRG.ZS','SH.PRG.ANEM','SH.ANM.ALLW.ZS','SH.STA.OWGH.ZS','SH.STA.OWGH.FE.ZS','SH.STA.OWGH.MA.ZS','SH.SVR.WAST.ZS','SH.SVR.WAST.FE.ZS','SH.SVR.WAST.MA.ZS','SH.STA.STNT.ZS','SH.STA.STNT.FE.ZS','SH.STA.STNT.MA.ZS','SN.ITK.DEFC.ZS','SH.STA.MALN.ZS','SH.STA.MALN.FE.ZS','SH.STA.MALN.MA.ZS','SH.STA.WAST.ZS','SH.STA.WAST.FE.ZS','SH.STA.WAST.MA.ZS','SG.VAW.1549.ZS','SM.POP.REFG','SM.POP.REFG.OR','SH.SGR.CRSK.ZS','SH.SGR.IRSK.ZS','SH.PRV.SMOK.FE','SH.PRV.SMOK.MA','SH.MED.SAOP.P5','SH.STA.SUIC.P5','SP.DYN.TO65.FE.ZS','SP.DYN.TO65.MA.ZS','SP.MTR.1519.ZS','SH.ALC.PCAP.LI','SH.TBS.DTEC.ZS','SH.TBS.CURE.ZS','SP.UWT.TFRT','SH.MLR.NETS.ZS','SN.ITK.VITA.ZS','SP.DYN.WFRT','SG.VAW.REAS.ZS','SG.VAW.ARGU.ZS','SG.VAW.BURN.ZS','SG.VAW.GOES.ZS','SG.VAW.NEGL.ZS','SG.VAW.REFU.ZS','SP.M18.2024.FE.ZS','SH.DYN.AIDS.FE.ZS']\n",
    "deuda = ['DT.GPA.DPPG','DT.GPA.OFFT','DT.GPA.PRVT','DT.GRE.DPPG','DT.GRE.OFFT','DT.GRE.PRVT','DT.INR.DPPG','DT.INR.OFFT','DT.INR.PRVT','DT.MAT.DPPG','DT.MAT.OFFT','DT.MAT.PRVT','DT.NFL.PCBO.CD','DT.COM.MIBR.CD','DT.COM.MIDA.CD','DT.COM.OFFT.CD','DT.COM.PRVT.CD','DT.COM.DPPG.CD','DT.DOD.ALLC.ZS','DT.CUR.DMAK.ZS','DT.CUR.EURO.ZS','DT.CUR.FFRC.ZS','DT.CUR.JYEN.ZS','DT.CUR.MULC.ZS','DT.CUR.UKPS.ZS','DT.CUR.SDRW.ZS','DT.CUR.SWFR.ZS','DT.CUR.USDL.ZS','DT.CUR.OTHC.ZS','BN.CAB.XOKA.CD','DT.DSB.DPPG.CD','DT.DOD.MDRI.CD','DT.DFR.DPPG.CD','DT.TDS.DPPF.XP.ZS','DT.TDS.DLXF.CD','DT.TDS.DPNG.CD','DT.TDS.DPPG.CD','DT.TDS.DECT.CD','DT.DSF.DPPG.CD','DT.DXR.DPPG.CD','DT.DIS.DLXF.CD','DT.DIS.DLTF.CD','DT.DIS.DPNG.CD','DT.DIS.DPPG.CD','DT.NFL.NEBR.CD','BX.GSR.TOTL.CD','DT.DOD.DECT.GN.ZS','DT.DOD.DECT.EX.ZS','DT.DOD.ALLC.CD','DT.DOD.DLXF.CD','DT.DOD.PRVS.CD','DT.DOD.PUBS.CD','DT.DOD.DPNG.CD','DT.DOD.DPPG.CD','DT.DOD.DSTC.CD','DT.DOD.DECT.CD','DT.DOD.VTOT.CD','BX.KLT.DINV.CD.WD','NY.GNP.MKTP.CD','BX.GRT.EXTA.CD.WD','DT.DOD.MWBG.CD','DT.DIS.IDAG.CD','DT.NFL.NIFC.CD','DT.INT.DIMF.CD','DT.DIS.DIMF.CD','DT.AMT.DIMF.CD','DT.TDS.DIMF.CD','BM.GSR.TOTL.CD','DT.IXA.DPPG.CD','DT.IXA.OFFT.CD','DT.IXA.PRVT.CD','DT.IXF.DPPG.CD','DT.INT.DECT.GN.ZS','DT.INT.DECT.EX.ZS','DT.INT.DLXF.CD','DT.INT.DPNG.CD','DT.INT.DPPG.CD','DT.INT.DSTC.CD','DT.INT.DECT.CD','DT.IXR.DPPG.CD','DT.IXR.OFFT.CD','DT.IXR.PRVT.CD','DT.DOD.MLAT.ZS','DT.TDS.MLAT.PG.ZS','DT.TDS.MLAT.CD','DT.ODA.ODAT.GN.ZS','DT.ODA.ODAT.PC.ZS','DT.IXA.DPPG.CD.CG','DT.NFL.MIBR.CD','DT.NFL.MIDA.CD','DT.NFL.IMFC.CD','DT.NFL.IMFN.CD','DT.NFL.RDBC.CD','DT.NFL.RDBN.CD','DT.NFL.BLAT.CD','DT.NFL.MLAT.CD','DT.NFL.MOTH.CD','DT.NFL.DLXF.CD','DT.NFL.DPNG.CD','DT.NFL.DPPG.CD','DT.NFL.DSTC.CD','DT.NFL.DECT.CD','DT.ODA.ODAT.CD','DT.NTR.DLXF.CD','DT.NTR.DPNG.CD','DT.NTR.DPPG.CD','DT.NTR.DECT.CD','DT.AMT.PNGB.CD','DT.DIS.PNGB.CD','DT.DOD.PNGB.CD','DT.INT.PNGB.CD','DT.NFL.PNGB.CD','DT.NTR.PNGB.CD','DT.TDS.PNGB.CD','DT.AMT.PNGC.CD','DT.DIS.PNGC.CD','DT.DOD.PNGC.CD','DT.INT.PNGC.CD','DT.NFL.PNGC.CD','DT.NTR.PNGC.CD','DT.TDS.PNGC.CD','DT.AMT.MIBR.CD','DT.DIS.MIBR.CD','DT.DOD.MIBR.CD','DT.INT.MIBR.CD','DT.NTR.MIBR.CD','DT.TDS.MIBR.CD','DT.AMT.MIDA.CD','DT.DIS.MIDA.CD','DT.DOD.MIDA.CD','DT.INT.MIDA.CD','DT.NTR.MIDA.CD','DT.TDS.MIDA.CD','DT.AMT.BLAT.CD','DT.DIS.BLAT.CD','DT.DOD.BLAT.CD','DT.INT.BLAT.CD','DT.NTR.BLAT.CD','DT.TDS.BLAT.CD','DT.AMT.BLTC.CD','DT.DIS.BLTC.CD','DT.DOD.BLTC.CD','DT.INT.BLTC.CD','DT.NFL.BLTC.CD','DT.NTR.BLTC.CD','DT.TDS.BLTC.CD','DT.AMT.PBND.CD','DT.DIS.PBND.CD','DT.DOD.PBND.CD','DT.INT.PBND.CD','DT.NFL.PBND.CD','DT.NTR.PBND.CD','DT.TDS.PBND.CD','DT.AMT.PCBK.CD','DT.DIS.PCBK.CD','DT.DOD.PCBK.CD','DT.INT.PCBK.CD','DT.NFL.PCBK.CD','DT.NTR.PCBK.CD','DT.TDS.PCBK.CD','DT.AMT.MLAT.CD','DT.DIS.MLAT.CD','DT.DOD.MLAT.CD','DT.INT.MLAT.CD','DT.NTR.MLAT.CD','DT.AMT.MLTC.CD','DT.DIS.MLTC.CD','DT.DOD.MLTC.CD','DT.INT.MLTC.CD','DT.NFL.MLTC.CD','DT.NTR.MLTC.CD','DT.TDS.MLTC.CD','DT.AMT.OFFT.CD','DT.DIS.OFFT.CD','DT.DOD.OFFT.CD','DT.INT.OFFT.CD','DT.NFL.OFFT.CD','DT.NTR.OFFT.CD','DT.TDS.OFFT.CD','DT.AMT.PROP.CD','DT.DIS.PROP.CD','DT.DOD.PROP.CD','DT.INT.PROP.CD','DT.NFL.PROP.CD','DT.NTR.PROP.CD','DT.TDS.PROP.CD','DT.AMT.PRVT.CD','DT.DIS.PRVT.CD','DT.DOD.PRVT.CD','DT.INT.PRVT.CD','DT.NFL.PRVT.CD','DT.NTR.PRVT.CD','DT.TDS.PRVT.CD','BX.TRF.PWKR.CD.DT','BX.PEF.TOTL.CD.WD','DT.NFL.BOND.CD','DT.DOD.PVLX.GN.ZS','DT.DOD.PVLX.EX.ZS','DT.DOD.PVLX.CD','BX.KLT.DREM.CD.DT','DT.AXA.DPPG.CD','DT.AXA.OFFT.CD','DT.AXA.PRVT.CD','DT.AXF.DPPG.CD','DT.AMT.DLXF.CD','DT.AMT.DLTF.CD','DT.AMT.DPNG.CD','DT.AMT.DPPG.CD','DT.AXR.DPPG.CD','DT.AXR.OFFT.CD','DT.AXR.PRVT.CD','DT.TDS.DPPG.GN.ZS','DT.TDS.DPPG.XP.ZS','DT.DOD.RSDL.CD','DT.DOD.DSTC.XP.ZS','DT.DOD.DSTC.ZS','DT.DOD.DSTC.IR.ZS','BX.GRT.TECH.CD.WD','DT.TXR.DPPG.CD','DT.DOD.DECT.CD.CG','DT.TDS.DECT.GN.ZS','DT.TDS.DECT.EX.ZS','FI.RES.TOTL.DT.ZS','FI.RES.TOTL.CD','FI.RES.TOTL.MO','DT.UND.OFFT.CD','DT.UND.PRVT.CD','DT.UND.DPPG.CD','DT.DOD.DIMF.CD']\n",
    "\n",
    "conjunto_nombre = ['Agricultura','Economia','Educacion','Salud','Deuda']\n",
    "conjunto = [agricultura,economia,educacion,salud,deuda]"
   ]
  },
  {
   "cell_type": "code",
   "execution_count": 25,
   "metadata": {
    "collapsed": false
   },
   "outputs": [],
   "source": [
    "def r2(y_true, y_predict):\n",
    "    from sklearn.metrics import r2_score\n",
    "    return r2_score(y_true, y_predict)"
   ]
  },
  {
   "cell_type": "code",
   "execution_count": 26,
   "metadata": {
    "collapsed": false
   },
   "outputs": [],
   "source": [
    "def imputador(tab):\n",
    "    from sklearn.preprocessing import Imputer\n",
    "    impute=Imputer(missing_values=\"NaN\",strategy='mean',axis=0)\n",
    "    impute.fit(tab)\n",
    "    tab_imputada=impute.transform(tab)\n",
    "    return pd.DataFrame(tab_imputada)"
   ]
  },
  {
   "cell_type": "code",
   "execution_count": 27,
   "metadata": {
    "collapsed": true
   },
   "outputs": [],
   "source": [
    "def zeros(tab):\n",
    "    df = pd.DataFrame(tab)\n",
    "    #Eliminamos las columnas de NaN descartando Indicadores que no tienen regristros para ningún pais y año deseados\n",
    "    df = df.dropna(how='all',axis=1)\n",
    "    #Asignamos a los NaN el valor de 0    \n",
    "    df = df.fillna(0)\n",
    "    return df"
   ]
  },
  {
   "cell_type": "code",
   "execution_count": 28,
   "metadata": {
    "collapsed": true
   },
   "outputs": [],
   "source": [
    "def correlacion(tab,y_indicator):\n",
    "    # Buscamos los indicadores que se correlacionen más (coeficiente > 0.7)\n",
    "    eliminar = []\n",
    "    tabla_correlacion = np.array(pd.DataFrame(tab).corr())\n",
    "    for i in range(np.shape(tab)[1]):\n",
    "        if abs(tabla_correlacion[i,y_indicator]) > 0.7:\n",
    "            eliminar.append(i)\n",
    "\n",
    "    # Eliminamos los indicadores que se correlacionan más (Coeficiente > 0.7)\n",
    "    temporal = tab[:,:]\n",
    "\n",
    "    for i in range(len(eliminar)):\n",
    "        temporal = np.delete(temporal[:,:], eliminar[i]-i, 1)\n",
    "\n",
    "    return temporal"
   ]
  },
  {
   "cell_type": "code",
   "execution_count": 29,
   "metadata": {
    "collapsed": true
   },
   "outputs": [],
   "source": [
    "def Splitter(tabla_1,tabla_2,y_indicator):\n",
    "    from sklearn.model_selection import train_test_split\n",
    "    #Fusionamos la tabla_1 y el indicador y de la tabla_2\n",
    "    tab_fusion = np.column_stack((tabla_1[:,:],tabla_2[:,y_indicator]))\n",
    "    \n",
    "    # Asignamos X e y, eliminando los indicadores que se correlacionen más (coeficiente > 0.7)  \n",
    "    X = correlacion(tab_fusion,-1)\n",
    "    y = tab_fusion[:,-1]\n",
    "    \n",
    "    # Separamos Train y Test respectivamente para X e y\n",
    "    X_train, X_test, y_train, y_test = train_test_split(X, y, test_size=0.2)\n",
    "    return X_train, X_test, y_train, y_test"
   ]
  },
  {
   "cell_type": "code",
   "execution_count": 30,
   "metadata": {
    "collapsed": true
   },
   "outputs": [],
   "source": [
    "def GridSearchCV_Universal(estimador,X_train, y_train):\n",
    "    from sklearn.model_selection import GridSearchCV\n",
    "    from sklearn.model_selection import ShuffleSplit\n",
    "    from sklearn.ensemble import RandomForestRegressor\n",
    "    from sklearn.tree import DecisionTreeRegressor\n",
    "        \n",
    "    if(estimador=='DTR'):\n",
    "        estimator = DecisionTreeRegressor()\n",
    "        param_grid = {'max_depth': [1, 2, 3, 4, 5, 6, 7, 8, 9, 10], \n",
    "                  'splitter': ['best', 'random']\n",
    "                 }\n",
    "        \n",
    "    if(estimador=='RFR'):\n",
    "        estimator = RandomForestRegressor()       \n",
    "        param_grid = { \n",
    "                \"n_estimators\"      : [10,20,30,40],\n",
    "                \"max_features\"      : [\"auto\", \"sqrt\", \"log2\"],\n",
    "                \"min_samples_split\" : [2,4,8],\n",
    "                \"bootstrap\": [True, False],\n",
    "                }\n",
    "    \n",
    "    grid = GridSearchCV(estimator, param_grid, n_jobs=-1, cv=ShuffleSplit(test_size=0.2))   \n",
    "    grid.fit(X_train, y_train)\n",
    "    \n",
    "    return grid.best_params_"
   ]
  },
  {
   "cell_type": "code",
   "execution_count": 31,
   "metadata": {
    "collapsed": true
   },
   "outputs": [],
   "source": [
    "def estimator_Universal(estimador, X_train, X_test, y_train, y_test, best_params):\n",
    "    from sklearn.ensemble import RandomForestRegressor\n",
    "    from sklearn.tree import DecisionTreeRegressor\n",
    "    \n",
    "    if(estimador=='DTR'):\n",
    "        estimator = DecisionTreeRegressor().set_params(**best_params)\n",
    "    if(estimador=='RFR'):\n",
    "        estimator = RandomForestRegressor(n_jobs=-1).set_params(**best_params)\n",
    "\n",
    "    estimator.fit(X_train,y_train)\n",
    "    y_predict = estimator.predict(X_test)\n",
    "    return r2(y_test,y_predict)"
   ]
  },
  {
   "cell_type": "code",
   "execution_count": 43,
   "metadata": {
    "collapsed": true
   },
   "outputs": [],
   "source": [
    "def iter_Splitter(estimador,tab1,tab2):    \n",
    "    R2_global = list()\n",
    "    log = list()\n",
    "    start_time = time.time()\n",
    "    for i in range(0,np.shape(imputador(tab2))[1]):\n",
    "        ## Zero\n",
    "        start_time_2 = time.time()\n",
    "        X_train, X_test, y_train, y_test = Splitter(np.array(zeros(tab1)),np.array(zeros(tab2)),i)\n",
    "        best_params = GridSearchCV_Universal(estimador, X_train, y_train)\n",
    "        print i,\"Zero\",best_params,\"- %s s\" % (time.time() - start_time_2)\n",
    "        R2_Original = estimator_Universal(estimador, X_train, X_test, y_train, y_test, best_params)\n",
    "\n",
    "        ## Imputer\n",
    "        start_time_3 = time.time()\n",
    "        X_train, X_test, y_train, y_test = Splitter(np.array(imputador(tab1)),np.array(imputador(tab2)),i)\n",
    "        best_params = GridSearchCV_Universal(estimador, X_train, y_train)\n",
    "        print i,\"Imputer\",best_params,\"- %s s\" % (time.time() - start_time_3)\n",
    "        R2_Imputado = estimator_Universal(estimador, X_train, X_test, y_train, y_test, best_params)\n",
    "\n",
    "        # Join results\n",
    "        R2_global.append([R2_Original,R2_Imputado])\n",
    "                \n",
    "    return R2_global"
   ]
  },
  {
   "cell_type": "code",
   "execution_count": 44,
   "metadata": {
    "collapsed": true
   },
   "outputs": [],
   "source": [
    "def iterador_global(estimador,datos,paises,years,indicadores_1,indicadores_2):\n",
    "    \n",
    "    t_1 = tabla_base(paises,years,indicadores_1,datos)\n",
    "    t_2 = tabla_base(paises,years,indicadores_2,datos)\n",
    "    \n",
    "    return iter_Splitter(estimador,t_1,t_2)"
   ]
  },
  {
   "cell_type": "code",
   "execution_count": 45,
   "metadata": {
    "collapsed": true
   },
   "outputs": [],
   "source": [
    "def tabla_base(paises,years,indicadores,datos):\n",
    "    tab = pd.DataFrame.pivot_table(datos, values='Value', index=['CountryName', 'Year'], columns=['IndicatorCode']).loc[(paises,years),indicadores].sortlevel([\"CountryName\",\"Year\"], ascending=[True,False])\n",
    "    return tab"
   ]
  },
  {
   "cell_type": "code",
   "execution_count": 46,
   "metadata": {
    "collapsed": true
   },
   "outputs": [],
   "source": [
    "def tabla_2_base(datos,indicadores,look_back):\n",
    "    temp_table = []\n",
    "    for i in range(look_back):      \n",
    "        temp_years = range(year_init-year_range-i+1,year_init-i+1)[::-1]\n",
    "        temp_table.append(pd.DataFrame.pivot_table(datos, values='Value', index=['CountryName', 'Year'], columns=['IndicatorCode']).loc[(paises,temp_years),indicadores].sortlevel([\"CountryName\",\"Year\"], ascending=[True,False]))\n",
    "    return pd.DataFrame(np.column_stack(temp_table))"
   ]
  },
  {
   "cell_type": "code",
   "execution_count": 47,
   "metadata": {
    "collapsed": true
   },
   "outputs": [],
   "source": [
    "def registros_2(sud_conjunto,look_back):\n",
    "    return np.sum(tabla_2_base(datos,sud_conjunto,look_back).count(axis=1))"
   ]
  },
  {
   "cell_type": "code",
   "execution_count": 48,
   "metadata": {
    "collapsed": true
   },
   "outputs": [],
   "source": [
    "def iterador_global_3(datos,paises,years,indicadores_1,indicadores_2,look_back,estimador):\n",
    "    \n",
    "    t_1 = tabla_2_base(datos,indicadores_1,look_back)\n",
    "    t_2 = tabla_base(paises,years,indicadores_2,datos)\n",
    "    \n",
    "    return iter_Splitter(estimador,t_1,t_2)"
   ]
  },
  {
   "cell_type": "code",
   "execution_count": 49,
   "metadata": {
    "collapsed": true
   },
   "outputs": [],
   "source": [
    "def porcentaje_nombres(df,conjunto):\n",
    "    df_temp = np.array(df)\n",
    "    x = 0.0\n",
    "    temp = []\n",
    "    for i in range(len(df_temp)):\n",
    "        if (df_temp[i][0] > 0.9 or df_temp[i][1] > 0.9):\n",
    "            x=x+1\n",
    "            temp.append(conjunto[i])\n",
    "    porcentaje = x/len(df)\n",
    "    nombres = pd.DataFrame(datos).loc[:,['IndicatorName','IndicatorCode']].set_index('IndicatorCode').loc[temp].drop_duplicates().dropna().reset_index().drop('IndicatorCode', 1)\n",
    "    return porcentaje,nombres,df"
   ]
  },
  {
   "cell_type": "markdown",
   "metadata": {},
   "source": [
    "## Combinamos el Primer Conjunto de Indicadores"
   ]
  },
  {
   "cell_type": "markdown",
   "metadata": {},
   "source": [
    "Calculamos el % de indicadores cuyo porcentaje de predicción es mayor a 90% (Original | Imputado)"
   ]
  },
  {
   "cell_type": "code",
   "execution_count": null,
   "metadata": {
    "collapsed": false
   },
   "outputs": [
    {
     "name": "stdout",
     "output_type": "stream",
     "text": [
      "0 Zero {'splitter': 'best', 'max_depth': 1} - 3.61099982262 s\n",
      "0 Imputer {'splitter': 'random', 'max_depth': 9} - 3.64600014687 s\n",
      "1 Zero {'splitter': 'best', 'max_depth': 1} - 3.62800002098 s\n",
      "1 Imputer {'splitter': 'best', 'max_depth': 4} - 3.56799983978 s\n",
      "2 Zero {'splitter': 'best', 'max_depth': 3} - 3.59600019455 s\n",
      "2 Imputer {'splitter': 'random', 'max_depth': 9} - 3.61599993706 s\n",
      "3 Zero {'splitter': 'best', 'max_depth': 7} - 3.61800003052 s\n",
      "3 Imputer {'splitter': 'best', 'max_depth': 7} - 3.625 s\n",
      "4 Zero {'splitter': 'best', 'max_depth': 10} - 3.54799985886 s\n",
      "4 Imputer {'splitter': 'best', 'max_depth': 10} - 3.55100011826 s\n",
      "5 Zero {'splitter': 'best', 'max_depth': 3} - 3.4889998436 s\n",
      "5 Imputer {'splitter': 'best', 'max_depth': 6} - 3.47500014305 s\n",
      "6 Zero {'splitter': 'best', 'max_depth': 5} - 3.6210000515 s\n",
      "6 Imputer {'splitter': 'best', 'max_depth': 4} - 3.53800010681 s\n",
      "7 Zero {'splitter': 'best', 'max_depth': 1} - 3.66000008583 s\n",
      "7 Imputer {'splitter': 'best', 'max_depth': 1} - 3.49099993706 s\n",
      "8 Zero {'splitter': 'random', 'max_depth': 6} - 3.45700001717 s\n",
      "8 Imputer {'splitter': 'random', 'max_depth': 10} - 3.44299983978 s\n",
      "9 Zero {'splitter': 'best', 'max_depth': 1} - 3.52800011635 s\n",
      "9 Imputer {'splitter': 'best', 'max_depth': 1} - 4.18099999428 s\n",
      "10 Zero {'splitter': 'random', 'max_depth': 3} - 3.69400000572 s\n",
      "10 Imputer {'splitter': 'random', 'max_depth': 9} - 3.68700003624 s\n",
      "11 Zero {'splitter': 'best', 'max_depth': 8} - 3.58200001717 s\n",
      "11 Imputer {'splitter': 'random', 'max_depth': 9} - 3.58700013161 s\n",
      "12 Zero {'splitter': 'best', 'max_depth': 7} - 3.48199987411 s\n",
      "12 Imputer {'splitter': 'random', 'max_depth': 9} - 3.44200015068 s\n",
      "13 Zero {'splitter': 'best', 'max_depth': 10} - 3.74499988556 s\n",
      "13 Imputer {'splitter': 'best', 'max_depth': 5} - 3.54600000381 s\n",
      "14 Zero {'splitter': 'best', 'max_depth': 9} - 3.59100008011 s\n",
      "14 Imputer {'splitter': 'best', 'max_depth': 9} - 3.66100001335 s\n",
      "15 Zero {'splitter': 'best', 'max_depth': 6} - 3.6369998455 s\n",
      "15 Imputer {'splitter': 'best', 'max_depth': 5} - 3.53299999237 s\n",
      "16 Zero {'splitter': 'random', 'max_depth': 3} - 3.50500011444 s\n",
      "16 Imputer {'splitter': 'random', 'max_depth': 3} - 3.59299993515 s\n",
      "17 Zero {'splitter': 'random', 'max_depth': 8} - 3.70799994469 s\n",
      "17 Imputer {'splitter': 'best', 'max_depth': 8} - 3.65900015831 s\n",
      "18 Zero {'splitter': 'random', 'max_depth': 9} - 3.67199993134 s\n",
      "18 Imputer {'splitter': 'best', 'max_depth': 8} - 3.61500000954 s\n",
      "19 Zero {'splitter': 'best', 'max_depth': 10} - 3.62299990654 s\n",
      "19 Imputer {'splitter': 'best', 'max_depth': 6} - 3.55800008774 s\n",
      "20 Zero {'splitter': 'best', 'max_depth': 2} - 3.66700005531 s\n",
      "20 Imputer {'splitter': 'random', 'max_depth': 1} - 3.62399983406 s\n",
      "21 Zero {'splitter': 'best', 'max_depth': 9} - 3.57899999619 s\n",
      "21 Imputer {'splitter': 'random', 'max_depth': 9} - 3.47399997711 s\n",
      "22 Zero {'splitter': 'best', 'max_depth': 6} - 3.43300008774 s\n",
      "22 Imputer {'splitter': 'best', 'max_depth': 8} - 3.77799987793 s\n",
      "23 Zero {'splitter': 'best', 'max_depth': 7} - 3.65000009537 s\n",
      "23 Imputer {'splitter': 'random', 'max_depth': 4} - 3.59599995613 s\n",
      "24 Zero {'splitter': 'best', 'max_depth': 8} - 3.68700003624 s\n",
      "24 Imputer {'splitter': 'random', 'max_depth': 6} - 3.6899998188 s\n",
      "25 Zero {'splitter': 'best', 'max_depth': 2} - 3.65000009537 s\n",
      "25 Imputer {'splitter': 'best', 'max_depth': 6} - 3.64199995995 s\n",
      "26 Zero {'splitter': 'random', 'max_depth': 4} - 3.85899996758 s\n",
      "26 Imputer {'splitter': 'best', 'max_depth': 6} - 3.47300004959 s\n",
      "27 Zero {'splitter': 'random', 'max_depth': 3} - 3.57400012016 s\n",
      "27 Imputer {'splitter': 'random', 'max_depth': 1} - 3.52399992943 s\n",
      "28 Zero {'splitter': 'best', 'max_depth': 10} - 3.64899992943 s\n",
      "28 Imputer {'splitter': 'random', 'max_depth': 10} - 3.63499999046 s\n",
      "29 Zero {'splitter': 'best', 'max_depth': 7} - 3.63800001144 s\n",
      "29 Imputer {'splitter': 'random', 'max_depth': 5} - 3.67800021172 s\n",
      "30 Zero {'splitter': 'best', 'max_depth': 9} - 3.62299990654 s\n",
      "30 Imputer {'splitter': 'best', 'max_depth': 10} - 3.50300002098 s\n",
      "31 Zero {'splitter': 'best', 'max_depth': 9} - 3.3789999485 s\n",
      "31 Imputer {'splitter': 'random', 'max_depth': 9} - 3.54999995232 s\n",
      "32 Zero {'splitter': 'random', 'max_depth': 10} - 3.66599988937 s\n",
      "32 Imputer {'splitter': 'best', 'max_depth': 9} - 3.63300013542 s\n",
      "33 Zero {'splitter': 'random', 'max_depth': 8} - 3.78099989891 s\n",
      "33 Imputer {'splitter': 'best', 'max_depth': 7} - 3.66200017929 s\n",
      "34 Zero {'splitter': 'best', 'max_depth': 7} - 3.64999985695 s\n",
      "34 Imputer {'splitter': 'random', 'max_depth': 7} - 3.45000004768 s\n",
      "35 Zero {'splitter': 'best', 'max_depth': 8} - 3.46799993515 s\n",
      "35 Imputer {'splitter': 'random', 'max_depth': 8} - 3.57299995422 s\n",
      "36 Zero {'splitter': 'best', 'max_depth': 7} - 4.20600008965 s\n",
      "36 Imputer {'splitter': 'random', 'max_depth': 9} - 4.01499986649 s\n",
      "37 Zero {'splitter': 'best', 'max_depth': 8} - 4.00099992752 s\n",
      "37 Imputer {'splitter': 'best', 'max_depth': 10} - 3.78200006485 s\n",
      "38 Zero {'splitter': 'best', 'max_depth': 8} - 3.47399997711 s\n",
      "38 Imputer {'splitter': 'best', 'max_depth': 3} - 3.98699998856 s\n",
      "39 Zero {'splitter': 'random', 'max_depth': 9} - 3.6400001049 s\n",
      "39 Imputer {'splitter': 'random', 'max_depth': 7} - 3.65799999237 s\n",
      "40 Zero {'splitter': 'best', 'max_depth': 9} - 3.57899999619 s\n",
      "40 Imputer {'splitter': 'best', 'max_depth': 7} - 3.81299996376 s\n",
      "41 Zero {'splitter': 'random', 'max_depth': 9} - 3.59699988365 s\n",
      "41 Imputer {'splitter': 'best', 'max_depth': 7} - 3.61900019646 s\n",
      "42 Zero {'splitter': 'best', 'max_depth': 2} - 3.76899981499 s\n",
      "42 Imputer {'splitter': 'best', 'max_depth': 3} - 3.96099996567 s\n",
      "43 Zero {'splitter': 'random', 'max_depth': 9} - 3.65700006485 s\n",
      "43 Imputer {'splitter': 'best', 'max_depth': 5} - 3.62199997902 s\n",
      "0 Zero {'max_features': 'auto', 'min_samples_split': 8, 'bootstrap': True, 'n_estimators': 20} - 83.3059999943 s\n",
      "0 Imputer {'max_features': 'sqrt', 'min_samples_split': 8, 'bootstrap': False, 'n_estimators': 10} - 71.2209999561 s\n",
      "1 Zero {'max_features': 'auto', 'min_samples_split': 8, 'bootstrap': True, 'n_estimators': 20} - 65.1790001392 s\n",
      "1 Imputer {'max_features': 'log2', 'min_samples_split': 8, 'bootstrap': False, 'n_estimators': 20} - 70.7869999409 s\n",
      "2 Zero {'max_features': 'log2', 'min_samples_split': 4, 'bootstrap': False, 'n_estimators': 20} - 69.0699999332 s\n",
      "2 Imputer {'max_features': 'sqrt', 'min_samples_split': 2, 'bootstrap': False, 'n_estimators': 30} - 74.0199999809 s\n",
      "3 Zero {'max_features': 'sqrt', 'min_samples_split': 2, 'bootstrap': False, 'n_estimators': 40} - 70.8990001678 s\n",
      "3 Imputer {'max_features': 'log2', 'min_samples_split': 2, 'bootstrap': False, 'n_estimators': 20} - 80.6390001774 s\n",
      "4 Zero {'max_features': 'sqrt', 'min_samples_split': 4, 'bootstrap': False, 'n_estimators': 30} - 77.0390000343 s\n",
      "4 Imputer {'max_features': 'log2', 'min_samples_split': 2, 'bootstrap': False, 'n_estimators': 20} - 67.8949999809 s\n",
      "5 Zero {'max_features': 'auto', 'min_samples_split': 2, 'bootstrap': False, 'n_estimators': 10} - 64.5209999084 s\n",
      "5 Imputer {'max_features': 'log2', 'min_samples_split': 8, 'bootstrap': True, 'n_estimators': 10} - 63.1569998264 s\n",
      "6 Zero {'max_features': 'auto', 'min_samples_split': 8, 'bootstrap': True, 'n_estimators': 10} - 65.381000042 s\n",
      "6 Imputer {'max_features': 'sqrt', 'min_samples_split': 8, 'bootstrap': True, 'n_estimators': 10} - 67.6889998913 s\n",
      "7 Zero {'max_features': 'auto', 'min_samples_split': 4, 'bootstrap': True, 'n_estimators': 30} - 66.3450000286 s\n",
      "7 Imputer {'max_features': 'sqrt', 'min_samples_split': 2, 'bootstrap': False, 'n_estimators': 40} - 72.1429998875 s\n",
      "8 Zero {'max_features': 'log2', 'min_samples_split': 8, 'bootstrap': True, 'n_estimators': 20} - 64.7799999714 s\n",
      "8 Imputer {'max_features': 'sqrt', 'min_samples_split': 4, 'bootstrap': True, 'n_estimators': 30} - 67.6749999523 s\n",
      "9 Zero {'max_features': 'auto', 'min_samples_split': 2, 'bootstrap': True, 'n_estimators': 40} - 69.9769999981 s\n",
      "9 Imputer {'max_features': 'auto', 'min_samples_split': 8, 'bootstrap': True, 'n_estimators': 40} - 72.9829998016 s\n",
      "10 Zero {'max_features': 'log2', 'min_samples_split': 4, 'bootstrap': True, 'n_estimators': 10} - 75.5479998589 s\n",
      "10 Imputer {'max_features': 'log2', 'min_samples_split': 8, 'bootstrap': False, 'n_estimators': 10} - 75.8370001316 s\n",
      "11 Zero {'max_features': 'sqrt', 'min_samples_split': 4, 'bootstrap': False, 'n_estimators': 20} - 66.6349999905 s\n",
      "11 Imputer {'max_features': 'log2', 'min_samples_split': 2, 'bootstrap': False, 'n_estimators': 40} - 67.4249999523 s\n",
      "12 Zero {'max_features': 'sqrt', 'min_samples_split': 2, 'bootstrap': False, 'n_estimators': 30} - 84.25 s\n",
      "12 Imputer {'max_features': 'sqrt', 'min_samples_split': 8, 'bootstrap': False, 'n_estimators': 40} - 87.3359999657 s\n",
      "13 Zero {'max_features': 'sqrt', 'min_samples_split': 2, 'bootstrap': False, 'n_estimators': 30} - 72.9179999828 s\n",
      "13 Imputer {'max_features': 'log2', 'min_samples_split': 2, 'bootstrap': False, 'n_estimators': 30} - 69.4660000801 s\n",
      "14 Zero {'max_features': 'log2', 'min_samples_split': 2, 'bootstrap': False, 'n_estimators': 40} - 69.5850000381 s\n",
      "14 Imputer {'max_features': 'sqrt', 'min_samples_split': 2, 'bootstrap': False, 'n_estimators': 40} - 66.5750000477 s\n",
      "15 Zero {'max_features': 'sqrt', 'min_samples_split': 2, 'bootstrap': False, 'n_estimators': 40} - 61.4129998684 s\n",
      "15 Imputer {'max_features': 'log2', 'min_samples_split': 4, 'bootstrap': False, 'n_estimators': 20} - 61.1899998188 s\n",
      "16 Zero {'max_features': 'auto', 'min_samples_split': 8, 'bootstrap': False, 'n_estimators': 20} - 57.2269999981 s\n",
      "16 Imputer {'max_features': 'sqrt', 'min_samples_split': 4, 'bootstrap': False, 'n_estimators': 40} - 67.5610001087 s\n",
      "17 Zero {'max_features': 'sqrt', 'min_samples_split': 2, 'bootstrap': False, 'n_estimators': 40} - 62.9429998398 s\n",
      "17 Imputer {'max_features': 'sqrt', 'min_samples_split': 2, 'bootstrap': False, 'n_estimators': 30} - 64.8370001316 s\n",
      "18 Zero {'max_features': 'sqrt', 'min_samples_split': 4, 'bootstrap': False, 'n_estimators': 40} - 64.2599999905 s\n",
      "18 Imputer {'max_features': 'auto', 'min_samples_split': 2, 'bootstrap': False, 'n_estimators': 30} - 65.0699999332 s\n",
      "19 Zero {'max_features': 'sqrt', 'min_samples_split': 2, 'bootstrap': False, 'n_estimators': 40} - 62.5350000858 s\n",
      "19 Imputer {'max_features': 'sqrt', 'min_samples_split': 2, 'bootstrap': False, 'n_estimators': 40} - 62.9590001106 s\n",
      "20 Zero {'max_features': 'sqrt', 'min_samples_split': 4, 'bootstrap': False, 'n_estimators': 40} - 58.9279999733 s\n",
      "20 Imputer {'max_features': 'sqrt', 'min_samples_split': 8, 'bootstrap': True, 'n_estimators': 30} - 66.5920000076 s\n",
      "21 Zero {'max_features': 'sqrt', 'min_samples_split': 4, 'bootstrap': False, 'n_estimators': 30} - 62.6909999847 s\n",
      "21 Imputer {'max_features': 'sqrt', 'min_samples_split': 2, 'bootstrap': False, 'n_estimators': 10} - 64.0289998055 s\n",
      "22 Zero {'max_features': 'log2', 'min_samples_split': 4, 'bootstrap': False, 'n_estimators': 40} - 63.0810000896 s\n",
      "22 Imputer {'max_features': 'sqrt', 'min_samples_split': 2, 'bootstrap': False, 'n_estimators': 30} - 64.5339999199 s\n",
      "23 Zero {'max_features': 'sqrt', 'min_samples_split': 2, 'bootstrap': False, 'n_estimators': 20} - 64.125 s\n",
      "23 Imputer {'max_features': 'log2', 'min_samples_split': 2, 'bootstrap': True, 'n_estimators': 30} - 68.9279999733 s\n",
      "24 Zero {'max_features': 'sqrt', 'min_samples_split': 4, 'bootstrap': False, 'n_estimators': 10} - 62.6630001068 s\n",
      "24 Imputer {'max_features': 'log2', 'min_samples_split': 8, 'bootstrap': False, 'n_estimators': 20} - 63.6610000134 s\n",
      "25 Zero {'max_features': 'sqrt', 'min_samples_split': 4, 'bootstrap': False, 'n_estimators': 20} - 62.7739999294 s\n",
      "25 Imputer {'max_features': 'auto', 'min_samples_split': 4, 'bootstrap': False, 'n_estimators': 30} - 63.1600000858 s\n",
      "26 Zero {'max_features': 'sqrt', 'min_samples_split': 8, 'bootstrap': False, 'n_estimators': 20} - 62.3020000458 s\n",
      "26 Imputer {'max_features': 'log2', 'min_samples_split': 2, 'bootstrap': False, 'n_estimators': 10} - 63.1139998436 s\n",
      "27 Zero {'max_features': 'sqrt', 'min_samples_split': 4, 'bootstrap': False, 'n_estimators': 20} - 61.861000061 s\n",
      "27 Imputer {'max_features': 'log2', 'min_samples_split': 8, 'bootstrap': True, 'n_estimators': 20} - 60.3559999466 s\n",
      "28 Zero {'max_features': 'auto', 'min_samples_split': 4, 'bootstrap': False, 'n_estimators': 30} - 64.1789999008 s\n",
      "28 Imputer {'max_features': 'log2', 'min_samples_split': 4, 'bootstrap': False, 'n_estimators': 10} - 63.2369999886 s\n",
      "29 Zero {'max_features': 'log2', 'min_samples_split': 2, 'bootstrap': False, 'n_estimators': 40} - 63.3299999237 s\n",
      "29 Imputer {'max_features': 'log2', 'min_samples_split': 2, 'bootstrap': False, 'n_estimators': 30} - 62.9560000896 s\n",
      "30 Zero {'max_features': 'log2', 'min_samples_split': 4, 'bootstrap': False, 'n_estimators': 30} - 63.0119998455 s\n",
      "30 Imputer {'max_features': 'sqrt', 'min_samples_split': 2, 'bootstrap': False, 'n_estimators': 40} - 62.4010000229 s\n",
      "31 Zero {'max_features': 'sqrt', 'min_samples_split': 2, 'bootstrap': False, 'n_estimators': 10} - 62.1510000229 s\n",
      "31 Imputer {'max_features': 'log2', 'min_samples_split': 2, 'bootstrap': False, 'n_estimators': 40} - 61.3800001144 s\n",
      "32 Zero {'max_features': 'sqrt', 'min_samples_split': 4, 'bootstrap': False, 'n_estimators': 10} - 61.7330000401 s\n",
      "32 Imputer {'max_features': 'log2', 'min_samples_split': 2, 'bootstrap': False, 'n_estimators': 30} - 63.0569999218 s\n",
      "33 Zero {'max_features': 'log2', 'min_samples_split': 2, 'bootstrap': False, 'n_estimators': 20} - 62.9079999924 s\n",
      "33 Imputer {'max_features': 'sqrt', 'min_samples_split': 2, 'bootstrap': False, 'n_estimators': 10} - 62.754999876 s\n",
      "34 Zero {'max_features': 'log2', 'min_samples_split': 2, 'bootstrap': False, 'n_estimators': 40} - 61.5520000458 s\n",
      "34 Imputer {'max_features': 'log2', 'min_samples_split': 4, 'bootstrap': False, 'n_estimators': 40} - 62.2389998436 s\n",
      "35 Zero {'max_features': 'sqrt', 'min_samples_split': 4, 'bootstrap': False, 'n_estimators': 10} - 60.7029998302 s\n",
      "35 Imputer {'max_features': 'log2', 'min_samples_split': 2, 'bootstrap': False, 'n_estimators': 40} - 61.2790000439 s\n",
      "36 Zero {'max_features': 'sqrt', 'min_samples_split': 2, 'bootstrap': False, 'n_estimators': 10} - 62.7969999313 s\n",
      "36 Imputer {'max_features': 'sqrt', 'min_samples_split': 2, 'bootstrap': False, 'n_estimators': 30} - 63.7829999924 s\n",
      "37 Zero {'max_features': 'sqrt', 'min_samples_split': 2, 'bootstrap': False, 'n_estimators': 40} - 62.0590000153 s\n",
      "37 Imputer {'max_features': 'sqrt', 'min_samples_split': 4, 'bootstrap': False, 'n_estimators': 30} - 62.757999897 s\n",
      "38 Zero {'max_features': 'sqrt', 'min_samples_split': 2, 'bootstrap': False, 'n_estimators': 20} - 60.8359999657 s\n",
      "38 Imputer {'max_features': 'log2', 'min_samples_split': 4, 'bootstrap': False, 'n_estimators': 30} - 61.0269999504 s\n",
      "39 Zero {'max_features': 'sqrt', 'min_samples_split': 4, 'bootstrap': False, 'n_estimators': 40} - 61.8090000153 s\n",
      "39 Imputer {'max_features': 'sqrt', 'min_samples_split': 2, 'bootstrap': False, 'n_estimators': 30} - 62.7009999752 s\n",
      "40 Zero {'max_features': 'sqrt', 'min_samples_split': 2, 'bootstrap': False, 'n_estimators': 30} - 61.9359998703 s\n",
      "40 Imputer {'max_features': 'sqrt', 'min_samples_split': 2, 'bootstrap': False, 'n_estimators': 30} - 63.875 s\n",
      "41 Zero {'max_features': 'log2', 'min_samples_split': 2, 'bootstrap': False, 'n_estimators': 40} - 59.6360001564 s\n",
      "41 Imputer {'max_features': 'log2', 'min_samples_split': 2, 'bootstrap': False, 'n_estimators': 30} - 61.9889998436 s\n",
      "42 Zero {'max_features': 'auto', 'min_samples_split': 8, 'bootstrap': True, 'n_estimators': 20} - 59.8050000668 s\n",
      "42 Imputer {'max_features': 'log2', 'min_samples_split': 2, 'bootstrap': False, 'n_estimators': 30} - 65.0020000935 s\n",
      "43 Zero {'max_features': 'log2', 'min_samples_split': 2, 'bootstrap': False, 'n_estimators': 40} - 61.5309998989 s\n",
      "43 Imputer {'max_features': 'sqrt', 'min_samples_split': 4, 'bootstrap': False, 'n_estimators': 30} - 62.0099999905 s\n",
      "0 Zero {'splitter': 'random', 'max_depth': 7} - 3.5 s\n",
      "0 Imputer {'splitter': 'best', 'max_depth': 9} - 3.53900003433 s\n",
      "1 Zero {'splitter': 'best', 'max_depth': 1} - 3.37999987602 s\n",
      "1 Imputer {'splitter': 'random', 'max_depth': 2} - 3.52699995041 s\n",
      "2 Zero {'splitter': 'random', 'max_depth': 3} - 3.43600010872 s\n",
      "2 Imputer {'splitter': 'best', 'max_depth': 3} - 3.44899988174 s\n",
      "3 Zero {'splitter': 'best', 'max_depth': 7} - 3.38400006294 s\n",
      "3 Imputer {'splitter': 'random', 'max_depth': 6} - 3.49300003052 s\n",
      "4 Zero {'splitter': 'best', 'max_depth': 6} - 3.45399999619 s\n",
      "4 Imputer {'splitter': 'best', 'max_depth': 6} - 3.41899991035 s\n",
      "5 Zero {'splitter': 'random', 'max_depth': 6} - 3.33700013161 s\n",
      "5 Imputer {'splitter': 'random', 'max_depth': 9} - 3.38100004196 s\n",
      "6 Zero {'splitter': 'random', 'max_depth': 3} - 3.36699986458 s\n",
      "6 Imputer {'splitter': 'best', 'max_depth': 2} - 3.38000011444 s\n",
      "7 Zero {'splitter': 'best', 'max_depth': 10} - 3.36500000954 s\n",
      "7 Imputer {'splitter': 'random', 'max_depth': 1} - 3.56399989128 s\n",
      "8 Zero {'splitter': 'random', 'max_depth': 5} - 3.53200006485 s\n",
      "8 Imputer {'splitter': 'random', 'max_depth': 6} - 3.50999999046 s\n",
      "9 Zero {'splitter': 'best', 'max_depth': 2} - 3.36100006104 s\n",
      "9 Imputer {'splitter': 'best', 'max_depth': 1} - 3.4889998436 s\n",
      "10 Zero {'splitter': 'random', 'max_depth': 5} - 3.45000004768 s\n",
      "10 Imputer {'splitter': 'random', 'max_depth': 4} - 3.59299993515 s\n",
      "11 Zero {'splitter': 'random', 'max_depth': 10} - 3.54800009727 s\n",
      "11 Imputer {'splitter': 'best', 'max_depth': 8} - 3.44199991226 s\n",
      "12 Zero {'splitter': 'best', 'max_depth': 6} - 3.47699999809 s\n",
      "12 Imputer {'splitter': 'best', 'max_depth': 6} - 3.47200012207 s\n",
      "13 Zero {'splitter': 'best', 'max_depth': 8} - 3.46199989319 s\n",
      "13 Imputer {'splitter': 'best', 'max_depth': 8} - 3.56200003624 s\n",
      "14 Zero {'splitter': 'random', 'max_depth': 7} - 3.54600000381 s\n",
      "14 Imputer {'splitter': 'random', 'max_depth': 7} - 3.58999991417 s\n",
      "15 Zero {'splitter': 'random', 'max_depth': 7} - 3.53099989891 s\n",
      "15 Imputer {'splitter': 'best', 'max_depth': 9} - 3.34500002861 s\n",
      "16 Zero {'splitter': 'best', 'max_depth': 6} - 3.34899997711 s\n",
      "16 Imputer {'splitter': 'random', 'max_depth': 2} - 3.58200001717 s\n",
      "17 Zero {'splitter': 'random', 'max_depth': 6} - 3.50900006294 s\n",
      "17 Imputer {'splitter': 'random', 'max_depth': 8} - 3.51099991798 s\n",
      "18 Zero {'splitter': 'best', 'max_depth': 9} - 3.45100021362 s\n",
      "18 Imputer {'splitter': 'random', 'max_depth': 8} - 3.45900011063 s\n",
      "19 Zero {'splitter': 'random', 'max_depth': 3} - 3.47399997711 s\n",
      "19 Imputer {'splitter': 'best', 'max_depth': 9} - 3.50600004196 s\n",
      "20 Zero {'splitter': 'best', 'max_depth': 2} - 3.35000014305 s\n",
      "20 Imputer {'splitter': 'random', 'max_depth': 1} - 3.54699993134 s\n",
      "21 Zero {'splitter': 'random', 'max_depth': 9} - 3.36899995804 s\n",
      "21 Imputer {'splitter': 'random', 'max_depth': 8} - 3.44099998474 s\n",
      "22 Zero {'splitter': 'best', 'max_depth': 8} - 3.51900005341 s\n",
      "22 Imputer {'splitter': 'random', 'max_depth': 8} - 3.52500009537 s\n",
      "23 Zero {'splitter': 'random', 'max_depth': 7} - 3.50099992752 s\n",
      "23 Imputer {'splitter': 'random', 'max_depth': 8} - 3.51799988747 s\n",
      "24 Zero {'splitter': 'best', 'max_depth': 3} - 3.47400021553 s\n",
      "24 Imputer {'splitter': 'best', 'max_depth': 2} - 3.55500006676 s\n",
      "25 Zero {'splitter': 'random', 'max_depth': 7} - 3.67199993134 s\n",
      "25 Imputer {'splitter': 'best', 'max_depth': 8} - 3.57800006866 s\n",
      "26 Zero {'splitter': 'best', 'max_depth': 1} - 3.4880001545 s\n",
      "26 Imputer {'splitter': 'random', 'max_depth': 7} - 3.4960000515 s\n",
      "27 Zero {'splitter': 'random', 'max_depth': 10} - 3.49899983406 s\n",
      "27 Imputer {'splitter': 'random', 'max_depth': 7} - 3.49900007248 s\n",
      "28 Zero {'splitter': 'random', 'max_depth': 4} - 3.46799993515 s\n",
      "28 Imputer {'splitter': 'random', 'max_depth': 9} - 3.50900006294 s\n",
      "29 Zero {'splitter': 'best', 'max_depth': 10} - 3.47499990463 s\n",
      "29 Imputer {'splitter': 'best', 'max_depth': 4} - 3.46700000763 s\n",
      "30 Zero {'splitter': 'random', 'max_depth': 10} - 3.492000103 s\n",
      "30 Imputer {'splitter': 'best', 'max_depth': 10} - 3.50499987602 s\n",
      "31 Zero {'splitter': 'best', 'max_depth': 8} - 3.4509999752 s\n",
      "31 Imputer {'splitter': 'random', 'max_depth': 7} - 3.40199995041 s\n",
      "32 Zero {'splitter': 'random', 'max_depth': 10} - 3.46499991417 s\n",
      "32 Imputer {'splitter': 'random', 'max_depth': 10} - 3.47699999809 s\n",
      "33 Zero {'splitter': 'random', 'max_depth': 10} - 3.43499994278 s\n",
      "33 Imputer {'splitter': 'best', 'max_depth': 5} - 3.49800014496 s\n",
      "34 Zero {'splitter': 'best', 'max_depth': 6} - 3.41500020027 s\n",
      "34 Imputer {'splitter': 'random', 'max_depth': 9} - 3.48300004005 s\n",
      "35 Zero {'splitter': 'best', 'max_depth': 5} - 3.49900007248 s\n",
      "35 Imputer {'splitter': 'random', 'max_depth': 6} - 3.36099982262 s\n",
      "36 Zero {'splitter': 'best', 'max_depth': 10} - 3.50300002098 s\n",
      "36 Imputer {'splitter': 'random', 'max_depth': 10} - 3.49900007248 s\n",
      "37 Zero {'splitter': 'best', 'max_depth': 10} - 3.45199990273 s\n",
      "37 Imputer {'splitter': 'best', 'max_depth': 9} - 3.46700000763 s\n",
      "38 Zero {'splitter': 'best', 'max_depth': 10} - 3.4350001812 s\n",
      "38 Imputer {'splitter': 'random', 'max_depth': 10} - 3.29500007629 s\n",
      "39 Zero {'splitter': 'random', 'max_depth': 8} - 3.45199990273 s\n",
      "39 Imputer {'splitter': 'best', 'max_depth': 5} - 3.50900006294 s\n",
      "40 Zero {'splitter': 'random', 'max_depth': 10} - 3.42700004578 s\n",
      "40 Imputer {'splitter': 'best', 'max_depth': 10} - 3.4319999218 s\n",
      "41 Zero {'splitter': 'random', 'max_depth': 6} - 3.35199999809 s\n",
      "41 Imputer {'splitter': 'best', 'max_depth': 2} - 3.33399987221 s\n",
      "42 Zero {'splitter': 'best', 'max_depth': 3} - 3.75300002098 s\n",
      "42 Imputer {'splitter': 'best', 'max_depth': 1} - 3.51999998093 s\n",
      "43 Zero {'splitter': 'best', 'max_depth': 7} - 3.47200012207 s\n",
      "43 Imputer {'splitter': 'random', 'max_depth': 8} - 3.46799993515 s\n",
      "0 Zero {'max_features': 'auto', 'min_samples_split': 8, 'bootstrap': True, 'n_estimators': 30} - 65.8150000572 s\n",
      "0 Imputer {'max_features': 'auto', 'min_samples_split': 2, 'bootstrap': True, 'n_estimators': 40} - 74.4720001221 s\n",
      "1 Zero {'max_features': 'auto', 'min_samples_split': 2, 'bootstrap': True, 'n_estimators': 30} - 65.888999939 s\n",
      "1 Imputer {'max_features': 'auto', 'min_samples_split': 2, 'bootstrap': True, 'n_estimators': 40} - 70.5379998684 s\n",
      "2 Zero {'max_features': 'sqrt', 'min_samples_split': 2, 'bootstrap': False, 'n_estimators': 30} - 65.8320000172 s\n",
      "2 Imputer {'max_features': 'log2', 'min_samples_split': 2, 'bootstrap': False, 'n_estimators': 30} - 71.5599999428 s\n",
      "3 Zero {'max_features': 'sqrt', 'min_samples_split': 2, 'bootstrap': False, 'n_estimators': 40} - 65.9650001526 s\n",
      "3 Imputer {'max_features': 'sqrt', 'min_samples_split': 2, 'bootstrap': False, 'n_estimators': 20} - 66.4960000515 s\n",
      "4 Zero {'max_features': 'sqrt', 'min_samples_split': 2, 'bootstrap': False, 'n_estimators': 30} - 68.8550000191 s\n",
      "4 Imputer {'max_features': 'sqrt', 'min_samples_split': 2, 'bootstrap': False, 'n_estimators': 30} - 69.9959998131 s\n",
      "5 Zero {'max_features': 'log2', 'min_samples_split': 2, 'bootstrap': True, 'n_estimators': 40} - 59.6740000248 s\n",
      "5 Imputer {'max_features': 'auto', 'min_samples_split': 4, 'bootstrap': False, 'n_estimators': 10} - 58.4660000801 s\n",
      "6 Zero {'max_features': 'auto', 'min_samples_split': 2, 'bootstrap': False, 'n_estimators': 10} - 59.4949998856 s\n",
      "6 Imputer {'max_features': 'log2', 'min_samples_split': 4, 'bootstrap': False, 'n_estimators': 10} - 60.2109999657 s\n",
      "7 Zero {'max_features': 'auto', 'min_samples_split': 2, 'bootstrap': True, 'n_estimators': 40} - 61.2979998589 s\n",
      "7 Imputer {'max_features': 'log2', 'min_samples_split': 8, 'bootstrap': True, 'n_estimators': 30} - 75.7260000706 s\n",
      "8 Zero {'max_features': 'log2', 'min_samples_split': 2, 'bootstrap': False, 'n_estimators': 10} - 65.2860000134 s\n",
      "8 Imputer {'max_features': 'sqrt', 'min_samples_split': 4, 'bootstrap': True, 'n_estimators': 10} - 72.9170000553 s\n",
      "9 Zero {'max_features': 'auto', 'min_samples_split': 8, 'bootstrap': False, 'n_estimators': 40} - 60.0969998837 s\n",
      "9 Imputer {'max_features': 'auto', 'min_samples_split': 2, 'bootstrap': True, 'n_estimators': 20} - 72.3619999886 s\n",
      "10 Zero {'max_features': 'log2', 'min_samples_split': 8, 'bootstrap': True, 'n_estimators': 20} - 64.6740000248 s\n",
      "10 Imputer {'max_features': 'log2', 'min_samples_split': 4, 'bootstrap': True, 'n_estimators': 10} - 81.4070000648 s\n",
      "11 Zero {'max_features': 'sqrt', 'min_samples_split': 2, 'bootstrap': False, 'n_estimators': 20} - 68.0920000076 s\n",
      "11 Imputer {'max_features': 'sqrt', 'min_samples_split': 4, 'bootstrap': False, 'n_estimators': 20} - 69.4709999561 s\n",
      "12 Zero {'max_features': 'auto', 'min_samples_split': 2, 'bootstrap': False, 'n_estimators': 30} - 68.253000021 s\n",
      "12 Imputer {'max_features': 'log2', 'min_samples_split': 4, 'bootstrap': False, 'n_estimators': 20} - 69.6240000725 s\n",
      "13 Zero {'max_features': 'log2', 'min_samples_split': 2, 'bootstrap': False, 'n_estimators': 20} - 69.2509999275 s\n",
      "13 Imputer {'max_features': 'sqrt', 'min_samples_split': 2, 'bootstrap': False, 'n_estimators': 20} - 70.754999876 s\n",
      "14 Zero {'max_features': 'sqrt', 'min_samples_split': 2, 'bootstrap': False, 'n_estimators': 30} - 66.8639998436 s\n",
      "14 Imputer {'max_features': 'log2', 'min_samples_split': 2, 'bootstrap': False, 'n_estimators': 40} - 70.3099999428 s\n",
      "15 Zero {'max_features': 'sqrt', 'min_samples_split': 2, 'bootstrap': False, 'n_estimators': 30} - 65.734000206 s\n",
      "15 Imputer {'max_features': 'sqrt', 'min_samples_split': 4, 'bootstrap': False, 'n_estimators': 40} - 65.9579999447 s\n",
      "16 Zero {'max_features': 'log2', 'min_samples_split': 4, 'bootstrap': True, 'n_estimators': 30} - 59.0729999542 s\n",
      "16 Imputer {'max_features': 'sqrt', 'min_samples_split': 4, 'bootstrap': True, 'n_estimators': 30} - 63.873000145 s\n",
      "17 Zero {'max_features': 'sqrt', 'min_samples_split': 4, 'bootstrap': False, 'n_estimators': 40} - 67.7010002136 s\n",
      "17 Imputer {'max_features': 'sqrt', 'min_samples_split': 2, 'bootstrap': False, 'n_estimators': 20} - 68.4110000134 s\n",
      "18 Zero {'max_features': 'sqrt', 'min_samples_split': 4, 'bootstrap': False, 'n_estimators': 30} - 66.9350001812 s\n",
      "18 Imputer {'max_features': 'sqrt', 'min_samples_split': 2, 'bootstrap': False, 'n_estimators': 30} - 67.6239998341 s\n",
      "19 Zero {'max_features': 'sqrt', 'min_samples_split': 2, 'bootstrap': False, 'n_estimators': 30} - 67.4630000591 s\n",
      "19 Imputer {'max_features': 'sqrt', 'min_samples_split': 2, 'bootstrap': False, 'n_estimators': 20} - 69.2990000248 s\n",
      "20 Zero {'max_features': 'auto', 'min_samples_split': 4, 'bootstrap': True, 'n_estimators': 40} - 61.5529999733 s\n",
      "20 Imputer {'max_features': 'log2', 'min_samples_split': 4, 'bootstrap': True, 'n_estimators': 30} - 73.5789999962 s\n"
     ]
    }
   ],
   "source": [
    "resultado = []\n",
    "\n",
    "for i in range(len(conjunto)):\n",
    "    for j in range(1,look_back+1):\n",
    "        for k in range(len(estimadores)):\n",
    "            start_time = time.time()\n",
    "            porcentaje,nombres,df = porcentaje_nombres(iterador_global_3(datos,paises,years,conjunto[0],conjunto[i],j,estimadores[k]),conjunto[i])\n",
    "            resultado.append([conjunto_nombre[0],conjunto_nombre[i],j,estimadores[k],porcentaje,\"%s\" % (time.time() - start_time),nombres,df])\n",
    "            pd.DataFrame(resultado, columns=[\"Base\",\"Target\",\"Look Back\",\"Estimator\",\"%\",\"Time\",\"Indicators >90%\",\"Resultados\"]).to_csv('log.csv')\n",
    "\n",
    "df = pd.DataFrame(resultado, columns=[\"Base\",\"Target\",\"Look Back\",\"Estimator\",\"%\",\"Indicators >90%\"])\n",
    "df"
   ]
  },
  {
   "cell_type": "markdown",
   "metadata": {},
   "source": [
    "## Resultados iniciales:"
   ]
  },
  {
   "cell_type": "code",
   "execution_count": 18,
   "metadata": {
    "collapsed": false
   },
   "outputs": [
    {
     "data": {
      "text/html": [
       "<div>\n",
       "<table border=\"1\" class=\"dataframe\">\n",
       "  <thead>\n",
       "    <tr>\n",
       "      <th></th>\n",
       "      <th></th>\n",
       "      <th colspan=\"2\" halign=\"left\">Look Back</th>\n",
       "      <th colspan=\"2\" halign=\"left\">%</th>\n",
       "    </tr>\n",
       "    <tr>\n",
       "      <th></th>\n",
       "      <th>Estimator</th>\n",
       "      <th>Decission Tree Regressor</th>\n",
       "      <th>Random Forest Regressor</th>\n",
       "      <th>Decission Tree Regressor</th>\n",
       "      <th>Random Forest Regressor</th>\n",
       "    </tr>\n",
       "    <tr>\n",
       "      <th>Base</th>\n",
       "      <th>Target</th>\n",
       "      <th></th>\n",
       "      <th></th>\n",
       "      <th></th>\n",
       "      <th></th>\n",
       "    </tr>\n",
       "  </thead>\n",
       "  <tbody>\n",
       "    <tr>\n",
       "      <th>Agricultura</th>\n",
       "      <th>Agricultura</th>\n",
       "      <td>1</td>\n",
       "      <td>1</td>\n",
       "      <td>0.5</td>\n",
       "      <td>0.636364</td>\n",
       "    </tr>\n",
       "  </tbody>\n",
       "</table>\n",
       "</div>"
      ],
      "text/plain": [
       "                                       Look Back                          \\\n",
       "Estimator               Decission Tree Regressor Random Forest Regressor   \n",
       "Base        Target                                                         \n",
       "Agricultura Agricultura                        1                       1   \n",
       "\n",
       "                                               %                          \n",
       "Estimator               Decission Tree Regressor Random Forest Regressor  \n",
       "Base        Target                                                        \n",
       "Agricultura Agricultura                      0.5                0.636364  "
      ]
     },
     "execution_count": 18,
     "metadata": {},
     "output_type": "execute_result"
    }
   ],
   "source": [
    "pd.DataFrame.pivot_table(df, index=[\"Base\",\"Target\"], columns=[\"Estimator\"] )"
   ]
  },
  {
   "cell_type": "markdown",
   "metadata": {},
   "source": [
    "### Buscamos resultados:"
   ]
  },
  {
   "cell_type": "markdown",
   "metadata": {},
   "source": [
    "Buscamos los indicadores más facilmente predecibles (>90%) según deseemos"
   ]
  },
  {
   "cell_type": "code",
   "execution_count": null,
   "metadata": {
    "collapsed": true
   },
   "outputs": [],
   "source": [
    "def buscar(df,indicador_1,indicador_2,look_back):\n",
    "    return df[(df['Base']==indicador_1)&(df['Target']==indicador_2)&(df['Look Back'] == look_back)]['Indicators >90%'].values[0]"
   ]
  },
  {
   "cell_type": "code",
   "execution_count": null,
   "metadata": {
    "collapsed": false
   },
   "outputs": [],
   "source": [
    "buscar(df,'Agricultura','Educacion',1).head()"
   ]
  },
  {
   "cell_type": "code",
   "execution_count": null,
   "metadata": {
    "collapsed": false
   },
   "outputs": [],
   "source": [
    "buscar(df,'Agricultura','Educacion',2).head()"
   ]
  },
  {
   "cell_type": "code",
   "execution_count": null,
   "metadata": {
    "collapsed": false
   },
   "outputs": [],
   "source": [
    "buscar(df,'Agricultura','Educacion',3).head()"
   ]
  },
  {
   "cell_type": "markdown",
   "metadata": {},
   "source": [
    "### Graficamos resultados:"
   ]
  },
  {
   "cell_type": "markdown",
   "metadata": {},
   "source": [
    "Graficamos cada Look back en un heatmap"
   ]
  },
  {
   "cell_type": "code",
   "execution_count": null,
   "metadata": {
    "collapsed": false
   },
   "outputs": [],
   "source": [
    "def graficar_uno(df,look_back):\n",
    "    import seaborn as sns\n",
    "    import matplotlib.pyplot as plt\n",
    "    df_temp = df[df['Look Back'] == look_back].drop(['Indicators >90%','Look Back'], 1)\n",
    "    df_temp = pd.DataFrame(np.array(pd.DataFrame.pivot_table(df_temp, index=[\"Base\"], columns=[\"Target\"])), index=[conjunto_nombre[0]], columns=[conjunto_nombre])\n",
    "    ax = sns.heatmap(df_temp)\n",
    "    plt.title('Look back = '+str(look_back), size=15)\n",
    "    return plt.show()"
   ]
  },
  {
   "cell_type": "code",
   "execution_count": null,
   "metadata": {
    "collapsed": false
   },
   "outputs": [],
   "source": [
    "graficar_uno(df,1)"
   ]
  },
  {
   "cell_type": "code",
   "execution_count": null,
   "metadata": {
    "collapsed": false
   },
   "outputs": [],
   "source": [
    "graficar_uno(df,2)"
   ]
  },
  {
   "cell_type": "code",
   "execution_count": null,
   "metadata": {
    "collapsed": false
   },
   "outputs": [],
   "source": [
    "graficar_uno(df,3)"
   ]
  },
  {
   "cell_type": "markdown",
   "metadata": {},
   "source": [
    "## Iteramos todas las Combinaciones Posibles de los Conjuntos de Indicadores datos"
   ]
  },
  {
   "cell_type": "code",
   "execution_count": null,
   "metadata": {
    "collapsed": false
   },
   "outputs": [],
   "source": [
    "resultado = []\n",
    "\n",
    "for i in range(len(conjunto)):\n",
    "    for j in range(len(conjunto)):\n",
    "        for k in range(1,look_back+1):\n",
    "            for l in range(len(estimadores)):\n",
    "                start_time = time.time()\n",
    "                porcentaje,nombres,df = porcentaje_nombres(iterador_global_3(datos,paises,years,conjunto[i],conjunto[j],k,estimadores[l]),conjunto[j])\n",
    "                resultado.append([conjunto_nombre[i],conjunto_nombre[j],k,estimadores_nombres[l],porcentaje,\"- %s s\" % (time.time() - start_time),nombres,df])\n",
    "                pd.DataFrame(resultado, columns=[\"Base\",\"Target\",\"Look Back\",\"Estimator\",\"%\",\"Time\",\"Indicators >90%\",\"Resultados\"]).to_csv('log.csv')\n",
    "\n",
    "df_global = pd.DataFrame(resultado, columns=[\"Base\",\"Target\",\"Look Back\",\"%\",\"Indicators >90%\"])\n",
    "df_global"
   ]
  },
  {
   "cell_type": "markdown",
   "metadata": {},
   "source": [
    "## Resultados globales:"
   ]
  },
  {
   "cell_type": "code",
   "execution_count": null,
   "metadata": {
    "collapsed": false
   },
   "outputs": [],
   "source": [
    "pd.DataFrame.pivot_table(df_global, index=[\"Base\",\"Target\"], columns=[\"Look Back\"] )"
   ]
  },
  {
   "cell_type": "code",
   "execution_count": null,
   "metadata": {
    "collapsed": false
   },
   "outputs": [],
   "source": [
    "buscar(df_global,'Economia','Economia',1).head()"
   ]
  },
  {
   "cell_type": "code",
   "execution_count": null,
   "metadata": {
    "collapsed": false
   },
   "outputs": [],
   "source": [
    "buscar(df_global,'Economia','Economia',2).head()"
   ]
  },
  {
   "cell_type": "code",
   "execution_count": null,
   "metadata": {
    "collapsed": false
   },
   "outputs": [],
   "source": [
    "buscar(df_global,'Economia','Economia',3).head()"
   ]
  },
  {
   "cell_type": "markdown",
   "metadata": {},
   "source": [
    "## Graficamos todas las iteraciones"
   ]
  },
  {
   "cell_type": "code",
   "execution_count": null,
   "metadata": {
    "collapsed": true
   },
   "outputs": [],
   "source": [
    "def graficar(df,look_back):\n",
    "    import seaborn as sns\n",
    "    import matplotlib.pyplot as plt\n",
    "    df_temp = df[df['Look Back'] == look_back].drop(['Indicators >90%','Look Back'], 1)\n",
    "    df_temp = pd.DataFrame(np.array(pd.DataFrame.pivot_table(df_temp, index=[\"Base\"], columns=[\"Target\"])), index=[conjunto_nombre], columns=[conjunto_nombre])\n",
    "    ax = sns.heatmap(df_temp)\n",
    "    plt.title('Look back = '+str(look_back), size=15)\n",
    "    return plt.show()"
   ]
  },
  {
   "cell_type": "code",
   "execution_count": null,
   "metadata": {
    "collapsed": false
   },
   "outputs": [],
   "source": [
    "graficar(df_global,1)"
   ]
  },
  {
   "cell_type": "code",
   "execution_count": null,
   "metadata": {
    "collapsed": false
   },
   "outputs": [],
   "source": [
    "graficar(df_global,2)"
   ]
  },
  {
   "cell_type": "code",
   "execution_count": null,
   "metadata": {
    "collapsed": false
   },
   "outputs": [],
   "source": [
    "graficar(df_global,3)"
   ]
  },
  {
   "cell_type": "code",
   "execution_count": null,
   "metadata": {
    "collapsed": true
   },
   "outputs": [],
   "source": [
    "df_global.to_csv('df_global_6.csv')"
   ]
  },
  {
   "cell_type": "code",
   "execution_count": null,
   "metadata": {
    "collapsed": true
   },
   "outputs": [],
   "source": []
  }
 ],
 "metadata": {
  "anaconda-cloud": {},
  "kernelspec": {
   "display_name": "Python 2",
   "language": "python",
   "name": "python2"
  },
  "language_info": {
   "codemirror_mode": {
    "name": "ipython",
    "version": 2
   },
   "file_extension": ".py",
   "mimetype": "text/x-python",
   "name": "python",
   "nbconvert_exporter": "python",
   "pygments_lexer": "ipython2",
   "version": "2.7.13"
  }
 },
 "nbformat": 4,
 "nbformat_minor": 1
}
