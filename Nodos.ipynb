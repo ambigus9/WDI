{
 "cells": [
  {
   "cell_type": "code",
   "execution_count": 1,
   "metadata": {
    "collapsed": false
   },
   "outputs": [
    {
     "data": {
      "text/html": [
       "<div>\n",
       "<table border=\"1\" class=\"dataframe\">\n",
       "  <thead>\n",
       "    <tr style=\"text-align: right;\">\n",
       "      <th></th>\n",
       "      <th>Base</th>\n",
       "      <th>Target</th>\n",
       "      <th>Look Back</th>\n",
       "      <th>Reg</th>\n",
       "      <th>%</th>\n",
       "      <th>Time</th>\n",
       "      <th>Results</th>\n",
       "    </tr>\n",
       "  </thead>\n",
       "  <tbody>\n",
       "    <tr>\n",
       "      <th>10</th>\n",
       "      <td>Publico</td>\n",
       "      <td>Ciencia</td>\n",
       "      <td>2</td>\n",
       "      <td>13</td>\n",
       "      <td>0.852524</td>\n",
       "      <td>588.997</td>\n",
       "      <td>[[ 0.85400025]\\r\\n [ 0.59572513]\\r\\n [ 0.87225...</td>\n",
       "    </tr>\n",
       "    <tr>\n",
       "      <th>11</th>\n",
       "      <td>Publico</td>\n",
       "      <td>Ciencia</td>\n",
       "      <td>3</td>\n",
       "      <td>13</td>\n",
       "      <td>0.790205</td>\n",
       "      <td>668.571</td>\n",
       "      <td>[[ 0.91325516]\\r\\n [ 0.9637184 ]\\r\\n [ 0.86020...</td>\n",
       "    </tr>\n",
       "    <tr>\n",
       "      <th>12</th>\n",
       "      <td>Publico</td>\n",
       "      <td>Clima</td>\n",
       "      <td>1</td>\n",
       "      <td>79</td>\n",
       "      <td>0.700980</td>\n",
       "      <td>2537.779</td>\n",
       "      <td>[[ 0.31501467]\\r\\n [ 0.896671  ]\\r\\n [ 0.91907...</td>\n",
       "    </tr>\n",
       "    <tr>\n",
       "      <th>13</th>\n",
       "      <td>Publico</td>\n",
       "      <td>Clima</td>\n",
       "      <td>2</td>\n",
       "      <td>79</td>\n",
       "      <td>0.719032</td>\n",
       "      <td>2932.462</td>\n",
       "      <td>[[ 0.81123762]\\r\\n [ 0.84559224]\\r\\n [ 0.90771...</td>\n",
       "    </tr>\n",
       "    <tr>\n",
       "      <th>14</th>\n",
       "      <td>Publico</td>\n",
       "      <td>Clima</td>\n",
       "      <td>3</td>\n",
       "      <td>79</td>\n",
       "      <td>0.686375</td>\n",
       "      <td>2902.638</td>\n",
       "      <td>[[ 0.96984481]\\r\\n [ 0.74020127]\\r\\n [ 0.95058...</td>\n",
       "    </tr>\n",
       "  </tbody>\n",
       "</table>\n",
       "</div>"
      ],
      "text/plain": [
       "       Base   Target  Look Back  Reg         %      Time  \\\n",
       "10  Publico  Ciencia          2   13  0.852524   588.997   \n",
       "11  Publico  Ciencia          3   13  0.790205   668.571   \n",
       "12  Publico    Clima          1   79  0.700980  2537.779   \n",
       "13  Publico    Clima          2   79  0.719032  2932.462   \n",
       "14  Publico    Clima          3   79  0.686375  2902.638   \n",
       "\n",
       "                                              Results  \n",
       "10  [[ 0.85400025]\\r\\n [ 0.59572513]\\r\\n [ 0.87225...  \n",
       "11  [[ 0.91325516]\\r\\n [ 0.9637184 ]\\r\\n [ 0.86020...  \n",
       "12  [[ 0.31501467]\\r\\n [ 0.896671  ]\\r\\n [ 0.91907...  \n",
       "13  [[ 0.81123762]\\r\\n [ 0.84559224]\\r\\n [ 0.90771...  \n",
       "14  [[ 0.96984481]\\r\\n [ 0.74020127]\\r\\n [ 0.95058...  "
      ]
     },
     "execution_count": 1,
     "metadata": {},
     "output_type": "execute_result"
    }
   ],
   "source": [
    "import pandas as pd\n",
    "\n",
    "pd.read_csv(\"Nodos/suramerica_grid_log_15-20.csv\").drop(['Unnamed: 0'], 1).tail(5)"
   ]
  },
  {
   "cell_type": "code",
   "execution_count": null,
   "metadata": {
    "collapsed": true
   },
   "outputs": [],
   "source": []
  }
 ],
 "metadata": {
  "kernelspec": {
   "display_name": "Python 2",
   "language": "python",
   "name": "python2"
  },
  "language_info": {
   "codemirror_mode": {
    "name": "ipython",
    "version": 2
   },
   "file_extension": ".py",
   "mimetype": "text/x-python",
   "name": "python",
   "nbconvert_exporter": "python",
   "pygments_lexer": "ipython2",
   "version": "2.7.13"
  }
 },
 "nbformat": 4,
 "nbformat_minor": 2
}
