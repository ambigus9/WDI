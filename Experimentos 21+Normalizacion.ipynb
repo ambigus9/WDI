{
 "cells": [
  {
   "cell_type": "markdown",
   "metadata": {},
   "source": [
    "## World Development Indicators - Analytics"
   ]
  },
  {
   "cell_type": "code",
   "execution_count": 1,
   "metadata": {
    "collapsed": false
   },
   "outputs": [
    {
     "data": {
      "text/html": [
       "<div>\n",
       "<table border=\"1\" class=\"dataframe\">\n",
       "  <thead>\n",
       "    <tr style=\"text-align: right;\">\n",
       "      <th></th>\n",
       "      <th>0</th>\n",
       "      <th>1</th>\n",
       "      <th>2</th>\n",
       "      <th>3</th>\n",
       "      <th>4</th>\n",
       "      <th>5</th>\n",
       "      <th>6</th>\n",
       "      <th>7</th>\n",
       "      <th>8</th>\n",
       "      <th>9</th>\n",
       "      <th>10</th>\n",
       "      <th>11</th>\n",
       "      <th>12</th>\n",
       "      <th>13</th>\n",
       "      <th>14</th>\n",
       "    </tr>\n",
       "  </thead>\n",
       "  <tbody>\n",
       "    <tr>\n",
       "      <th>0</th>\n",
       "      <td>3.358406e+09</td>\n",
       "      <td>3.637845e+09</td>\n",
       "      <td>1.347350e+09</td>\n",
       "      <td>1.239080e+09</td>\n",
       "      <td>108.320559</td>\n",
       "      <td>0.071111</td>\n",
       "      <td>14517.635341</td>\n",
       "      <td>39348.639719</td>\n",
       "      <td>42622.666667</td>\n",
       "      <td>15786.172840</td>\n",
       "      <td>-1.046262</td>\n",
       "      <td>25735.714754</td>\n",
       "      <td>24723.111892</td>\n",
       "      <td>2.196543e+09</td>\n",
       "      <td>2.110118e+09</td>\n",
       "    </tr>\n",
       "    <tr>\n",
       "      <th>1</th>\n",
       "      <td>2.954188e+09</td>\n",
       "      <td>3.257308e+09</td>\n",
       "      <td>1.206410e+09</td>\n",
       "      <td>1.089944e+09</td>\n",
       "      <td>110.260684</td>\n",
       "      <td>-12.036015</td>\n",
       "      <td>12629.713786</td>\n",
       "      <td>34231.611819</td>\n",
       "      <td>37744.009270</td>\n",
       "      <td>13979.262693</td>\n",
       "      <td>-13.004332</td>\n",
       "      <td>22388.956865</td>\n",
       "      <td>21671.375749</td>\n",
       "      <td>1.932167e+09</td>\n",
       "      <td>1.870240e+09</td>\n",
       "    </tr>\n",
       "    <tr>\n",
       "      <th>2</th>\n",
       "      <td>2.743171e+09</td>\n",
       "      <td>3.065955e+09</td>\n",
       "      <td>1.135539e+09</td>\n",
       "      <td>1.012090e+09</td>\n",
       "      <td>111.766847</td>\n",
       "      <td>-7.142991</td>\n",
       "      <td>11602.142227</td>\n",
       "      <td>31446.478970</td>\n",
       "      <td>35146.738046</td>\n",
       "      <td>13017.310387</td>\n",
       "      <td>-8.136143</td>\n",
       "      <td>20567.359344</td>\n",
       "      <td>20151.309866</td>\n",
       "      <td>1.794152e+09</td>\n",
       "      <td>1.757859e+09</td>\n",
       "    </tr>\n",
       "    <tr>\n",
       "      <th>3</th>\n",
       "      <td>2.693974e+09</td>\n",
       "      <td>3.050780e+09</td>\n",
       "      <td>1.129918e+09</td>\n",
       "      <td>9.939385e+08</td>\n",
       "      <td>113.244595</td>\n",
       "      <td>-1.793436</td>\n",
       "      <td>11275.280156</td>\n",
       "      <td>30560.551094</td>\n",
       "      <td>34608.172248</td>\n",
       "      <td>12817.841573</td>\n",
       "      <td>-2.817256</td>\n",
       "      <td>19987.924139</td>\n",
       "      <td>19987.924139</td>\n",
       "      <td>1.761975e+09</td>\n",
       "      <td>1.761975e+09</td>\n",
       "    </tr>\n",
       "    <tr>\n",
       "      <th>4</th>\n",
       "      <td>2.802259e+09</td>\n",
       "      <td>3.252725e+09</td>\n",
       "      <td>1.204713e+09</td>\n",
       "      <td>1.033890e+09</td>\n",
       "      <td>116.075112</td>\n",
       "      <td>4.019542</td>\n",
       "      <td>11607.745344</td>\n",
       "      <td>31461.665675</td>\n",
       "      <td>36519.163794</td>\n",
       "      <td>13525.616220</td>\n",
       "      <td>2.948620</td>\n",
       "      <td>20577.292107</td>\n",
       "      <td>20946.700835</td>\n",
       "      <td>1.832799e+09</td>\n",
       "      <td>1.865702e+09</td>\n",
       "    </tr>\n",
       "  </tbody>\n",
       "</table>\n",
       "</div>"
      ],
      "text/plain": [
       "             0             1             2             3           4   \\\n",
       "0  3.358406e+09  3.637845e+09  1.347350e+09  1.239080e+09  108.320559   \n",
       "1  2.954188e+09  3.257308e+09  1.206410e+09  1.089944e+09  110.260684   \n",
       "2  2.743171e+09  3.065955e+09  1.135539e+09  1.012090e+09  111.766847   \n",
       "3  2.693974e+09  3.050780e+09  1.129918e+09  9.939385e+08  113.244595   \n",
       "4  2.802259e+09  3.252725e+09  1.204713e+09  1.033890e+09  116.075112   \n",
       "\n",
       "          5             6             7             8             9   \\\n",
       "0   0.071111  14517.635341  39348.639719  42622.666667  15786.172840   \n",
       "1 -12.036015  12629.713786  34231.611819  37744.009270  13979.262693   \n",
       "2  -7.142991  11602.142227  31446.478970  35146.738046  13017.310387   \n",
       "3  -1.793436  11275.280156  30560.551094  34608.172248  12817.841573   \n",
       "4   4.019542  11607.745344  31461.665675  36519.163794  13525.616220   \n",
       "\n",
       "          10            11            12            13            14  \n",
       "0  -1.046262  25735.714754  24723.111892  2.196543e+09  2.110118e+09  \n",
       "1 -13.004332  22388.956865  21671.375749  1.932167e+09  1.870240e+09  \n",
       "2  -8.136143  20567.359344  20151.309866  1.794152e+09  1.757859e+09  \n",
       "3  -2.817256  19987.924139  19987.924139  1.761975e+09  1.761975e+09  \n",
       "4   2.948620  20577.292107  20946.700835  1.832799e+09  1.865702e+09  "
      ]
     },
     "execution_count": 1,
     "metadata": {},
     "output_type": "execute_result"
    }
   ],
   "source": [
    "import numpy as np\n",
    "import pandas as pd\n",
    "import matplotlib.pyplot as plt\n",
    "\n",
    "tabla = np.array(pd.read_csv(\"https://www.dropbox.com/s/d1i6rs5wyhuvyjd/economia7.csv?dl=1\").drop('Unnamed: 0', 1))\n",
    "pd.DataFrame(tabla).head()"
   ]
  },
  {
   "cell_type": "markdown",
   "metadata": {},
   "source": [
    "## Train Test Split"
   ]
  },
  {
   "cell_type": "code",
   "execution_count": 2,
   "metadata": {
    "collapsed": false
   },
   "outputs": [],
   "source": [
    "def splitter(tabla,y_indicator):\n",
    "    from sklearn.model_selection import train_test_split\n",
    "    # Asignamos X e y, eliminando la columna y en X\n",
    "    X = np.delete(tabla[:,:], y_indicator, 1)\n",
    "    y = tabla[:,y_indicator]\n",
    "    # Separamos Train y Test respectivamente para X e y\n",
    "    X_train, X_test, y_train, y_test = train_test_split(X, y, test_size=0.2)\n",
    "    return X_train, X_test, y_train, y_test"
   ]
  },
  {
   "cell_type": "markdown",
   "metadata": {},
   "source": [
    "## Métricas de error\n",
    "### R2 Score - Coeficiente de Determinación\n",
    "El mejor valor posible es 1.0"
   ]
  },
  {
   "cell_type": "code",
   "execution_count": 3,
   "metadata": {
    "collapsed": false
   },
   "outputs": [],
   "source": [
    "from sklearn.metrics import r2_score\n",
    "def r2(y_true, y_predict):\n",
    "    return r2_score(y_true, y_predict)"
   ]
  },
  {
   "cell_type": "markdown",
   "metadata": {},
   "source": [
    "## Decission Tree Regressor"
   ]
  },
  {
   "cell_type": "code",
   "execution_count": 4,
   "metadata": {
    "collapsed": false
   },
   "outputs": [],
   "source": [
    "from sklearn.tree import DecisionTreeRegressor\n",
    "\n",
    "def DTR(X_train, X_test, y_train, y_test):\n",
    "    estimator = DecisionTreeRegressor()\n",
    "    estimator.fit(X_train,y_train)\n",
    "    y_predict = estimator.predict(X_test)\n",
    "    R2_test = r2(y_test,y_predict)\n",
    "    return R2_test"
   ]
  },
  {
   "cell_type": "markdown",
   "metadata": {},
   "source": [
    "## Indicador a Predecir"
   ]
  },
  {
   "cell_type": "code",
   "execution_count": 5,
   "metadata": {
    "collapsed": true
   },
   "outputs": [],
   "source": [
    "y_indicator = 5"
   ]
  },
  {
   "cell_type": "markdown",
   "metadata": {},
   "source": [
    "## Modificamos los valores nulos"
   ]
  },
  {
   "cell_type": "code",
   "execution_count": 6,
   "metadata": {
    "collapsed": false
   },
   "outputs": [],
   "source": [
    "def imputador(X):\n",
    "    from sklearn.preprocessing import Imputer\n",
    "    impute=Imputer(missing_values=0,strategy='mean',axis=0)\n",
    "    impute.fit(X)\n",
    "    X_imputado=impute.transform(X)\n",
    "    return X_imputado"
   ]
  },
  {
   "cell_type": "code",
   "execution_count": 7,
   "metadata": {
    "collapsed": true
   },
   "outputs": [],
   "source": [
    "tabla_imputada = imputador(tabla)"
   ]
  },
  {
   "cell_type": "markdown",
   "metadata": {},
   "source": [
    "## Normalizamos"
   ]
  },
  {
   "cell_type": "code",
   "execution_count": 8,
   "metadata": {
    "collapsed": true
   },
   "outputs": [],
   "source": [
    "def normalizar_datos(X):\n",
    "    from sklearn.preprocessing import StandardScaler\n",
    "    sc = StandardScaler()\n",
    "    X_norm = sc.fit_transform(X)\n",
    "    return X_norm"
   ]
  },
  {
   "cell_type": "code",
   "execution_count": 9,
   "metadata": {
    "collapsed": true
   },
   "outputs": [],
   "source": [
    "tabla_normalizada = normalizar_datos(tabla)\n",
    "tabla_imputada_normalizada = normalizar_datos(tabla_imputada)"
   ]
  },
  {
   "cell_type": "markdown",
   "metadata": {
    "collapsed": true
   },
   "source": [
    "## GridSearchCV"
   ]
  },
  {
   "cell_type": "markdown",
   "metadata": {},
   "source": [
    "Efecutamos un GridSearchCV para buscar el mejor valor del parámetro Max_depth (Máximo valor: 10) para nuestro modelo"
   ]
  },
  {
   "cell_type": "code",
   "execution_count": 10,
   "metadata": {
    "collapsed": false
   },
   "outputs": [],
   "source": [
    "def Grid_Search_CV(X_train, y_train):\n",
    "    from sklearn.grid_search import GridSearchCV\n",
    "    from sklearn.cross_validation import ShuffleSplit\n",
    "\n",
    "    cv = ShuffleSplit(X_train.shape[0], n_iter = 10, test_size=0.2)\n",
    "    estimator = DecisionTreeRegressor()\n",
    "    params = {'max_depth': [1, 2, 3, 4, 5, 6, 7, 8, 9, 10]}\n",
    "\n",
    "    grid = GridSearchCV(estimator, params, cv=cv, scoring=\"r2\")\n",
    "\n",
    "    grid.fit(X_train, y_train)\n",
    "    for k,v in grid.best_params_.iteritems():\n",
    "        best_max_depth = v\n",
    "    return grid,best_max_depth"
   ]
  },
  {
   "cell_type": "markdown",
   "metadata": {},
   "source": [
    "## Gráfica de Scores del GridSearchCV"
   ]
  },
  {
   "cell_type": "markdown",
   "metadata": {},
   "source": [
    "Graficos de cada score para cada valor del parámetro max_depth "
   ]
  },
  {
   "cell_type": "code",
   "execution_count": 11,
   "metadata": {
    "collapsed": false
   },
   "outputs": [],
   "source": [
    "def Grid_Search_CV_Plot(grid):\n",
    "    grid_mean_scores = [result.mean_validation_score for result in grid.grid_scores_]\n",
    "    plt.plot(range(1,11), grid_mean_scores)\n",
    "    plt.xlabel('Valor de Max_depth para el DecissionTreeRegressor')\n",
    "    plt.ylabel('Cross-Validated R2')\n",
    "    return plt.show()"
   ]
  },
  {
   "cell_type": "code",
   "execution_count": 12,
   "metadata": {
    "collapsed": false
   },
   "outputs": [
    {
     "name": "stderr",
     "output_type": "stream",
     "text": [
      "C:\\Program Files\\Anaconda2\\lib\\site-packages\\sklearn\\cross_validation.py:44: DeprecationWarning: This module was deprecated in version 0.18 in favor of the model_selection module into which all the refactored classes and functions are moved. Also note that the interface of the new CV iterators are different from that of this module. This module will be removed in 0.20.\n",
      "  \"This module will be removed in 0.20.\", DeprecationWarning)\n",
      "C:\\Program Files\\Anaconda2\\lib\\site-packages\\sklearn\\grid_search.py:43: DeprecationWarning: This module was deprecated in version 0.18 in favor of the model_selection module into which all the refactored classes and functions are moved. This module will be removed in 0.20.\n",
      "  DeprecationWarning)\n"
     ]
    },
    {
     "data": {
      "image/png": "[encoded data removed]",
      "text/plain": [
       "<matplotlib.figure.Figure at 0xbb01160>"
      ]
     },
     "metadata": {},
     "output_type": "display_data"
    }
   ],
   "source": [
    "X_train, X_test, y_train, y_test = splitter(tabla_imputada,y_indicator)\n",
    "grid,best_max_depth = Grid_Search_CV(X_train, y_train)\n",
    "Grid_Search_CV_Plot(grid)"
   ]
  },
  {
   "cell_type": "markdown",
   "metadata": {},
   "source": [
    "## DecissionTreeRegressor v2"
   ]
  },
  {
   "cell_type": "markdown",
   "metadata": {},
   "source": [
    "Ajustamos nuestra función DTR, asignando el Max_depth en base al mejor score del GridSearchCV"
   ]
  },
  {
   "cell_type": "code",
   "execution_count": 13,
   "metadata": {
    "collapsed": true
   },
   "outputs": [],
   "source": [
    "def DTR_v2(X_train, X_test, y_train, y_test, depth):\n",
    "    estimator = DecisionTreeRegressor(max_depth=depth)\n",
    "    estimator.fit(X_train,y_train)\n",
    "    y_predict = estimator.predict(X_test)\n",
    "    R2_test = r2(y_test,y_predict)\n",
    "    return R2_test"
   ]
  },
  {
   "cell_type": "markdown",
   "metadata": {},
   "source": [
    "## Curva de Aprendizaje"
   ]
  },
  {
   "cell_type": "code",
   "execution_count": 14,
   "metadata": {
    "collapsed": false
   },
   "outputs": [
    {
     "name": "stderr",
     "output_type": "stream",
     "text": [
      "C:\\Program Files\\Anaconda2\\lib\\site-packages\\sklearn\\learning_curve.py:23: DeprecationWarning: This module was deprecated in version 0.18 in favor of the model_selection module into which all the functions are moved. This module will be removed in 0.20\n",
      "  DeprecationWarning)\n"
     ]
    }
   ],
   "source": [
    "from sklearn import cross_validation\n",
    "from sklearn.naive_bayes import GaussianNB\n",
    "from sklearn.learning_curve import learning_curve\n",
    "from sklearn.svm import SVR\n",
    "from sklearn.cross_validation import train_test_split\n",
    "from sklearn.tree import DecisionTreeRegressor\n",
    "from sklearn.grid_search import GridSearchCV\n",
    "from sklearn.linear_model import LinearRegression\n",
    "from sklearn.preprocessing import MinMaxScaler\n",
    "  \n",
    "def plot_learning_curve(estimator, title, X, y, ylim=None, cv=None, scoring=None,\n",
    "                        n_jobs=1, train_sizes=np.linspace(.1, 1.0, 5)):\n",
    "    plt.title(title)\n",
    "    if ylim is not None:\n",
    "        plt.ylim(*ylim)\n",
    "    plt.xlabel(\"Training examples\")\n",
    "    plt.ylabel(\"Score\")\n",
    "    train_sizes, train_scores, test_scores = learning_curve(\n",
    "        estimator, X, y, cv=cv, n_jobs=n_jobs, train_sizes=train_sizes, scoring=scoring)\n",
    "    train_scores_mean = np.mean(train_scores, axis=1)\n",
    "    train_scores_std = np.std(train_scores, axis=1)\n",
    "    test_scores_mean = np.mean(test_scores, axis=1)\n",
    "    test_scores_std = np.std(test_scores, axis=1)\n",
    "    plt.grid()\n",
    "\n",
    "    plt.fill_between(train_sizes, train_scores_mean - train_scores_std,\n",
    "                     train_scores_mean + train_scores_std, alpha=0.1,\n",
    "                     color=\"r\")\n",
    "    plt.fill_between(train_sizes, test_scores_mean - test_scores_std,\n",
    "                     test_scores_mean + test_scores_std, alpha=0.1, color=\"g\")\n",
    "    plt.plot(train_sizes, train_scores_mean, 'o-', color=\"r\",\n",
    "             label=\"train score\")\n",
    "    plt.plot(train_sizes, test_scores_mean, 'o-', color=\"g\",\n",
    "             label=\"test score\")\n",
    "\n",
    "    plt.legend(loc=\"best\")\n",
    "    return plt"
   ]
  },
  {
   "cell_type": "markdown",
   "metadata": {},
   "source": [
    "## Tabla Imputada"
   ]
  },
  {
   "cell_type": "code",
   "execution_count": 15,
   "metadata": {
    "collapsed": false
   },
   "outputs": [
    {
     "data": {
      "image/png": "[encoded data removed]",
      "text/plain": [
       "<matplotlib.figure.Figure at 0xbe19358>"
      ]
     },
     "metadata": {},
     "output_type": "display_data"
    }
   ],
   "source": [
    "X = np.delete(tabla_imputada[:,:], y_indicator, 1)\n",
    "y = tabla_imputada[:,y_indicator]\n",
    "\n",
    "title = \"Curva de aprendizaje\"\n",
    "estimator = DecisionTreeRegressor()\n",
    "cv = cross_validation.ShuffleSplit(X.shape[0], n_iter=10, test_size=0.2)\n",
    "\n",
    "plot_learning_curve(estimator, title, X, y, ylim=(0,1), cv=cv, scoring='r2',n_jobs=4, train_sizes=np.linspace(.1, 1.0, 5)).show()"
   ]
  },
  {
   "cell_type": "code",
   "execution_count": 28,
   "metadata": {
    "collapsed": false
   },
   "outputs": [
    {
     "data": {
      "image/png": "[encoded data removed]",
      "text/plain": [
       "<matplotlib.figure.Figure at 0xbb9c1d0>"
      ]
     },
     "metadata": {},
     "output_type": "display_data"
    }
   ],
   "source": [
    "X = np.delete(tabla_normalizada[:,:], y_indicator, 1)\n",
    "y = tabla_normalizada[:,y_indicator]\n",
    "\n",
    "title = \"Curva de aprendizaje\"\n",
    "estimator = DecisionTreeRegressor()\n",
    "cv = cross_validation.ShuffleSplit(X.shape[0], n_iter=10, test_size=0.2)\n",
    "\n",
    "plot_learning_curve(estimator, title, X, y, ylim=(0,1), cv=cv, scoring='r2',n_jobs=4, train_sizes=np.linspace(.1, 1.0, 5)).show()"
   ]
  },
  {
   "cell_type": "code",
   "execution_count": 29,
   "metadata": {
    "collapsed": false
   },
   "outputs": [
    {
     "data": {
      "image/png": "[encoded data removed]",
      "text/plain": [
       "<matplotlib.figure.Figure at 0xbfc6f28>"
      ]
     },
     "metadata": {},
     "output_type": "display_data"
    }
   ],
   "source": [
    "X = np.delete(tabla_imputada_normalizada[:,:], y_indicator, 1)\n",
    "y = tabla_imputada_normalizada[:,y_indicator]\n",
    "\n",
    "title = \"Curva de aprendizaje\"\n",
    "estimator = DecisionTreeRegressor()\n",
    "cv = cross_validation.ShuffleSplit(X.shape[0], n_iter=10, test_size=0.2)\n",
    "\n",
    "plot_learning_curve(estimator, title, X, y, ylim=(0,1), cv=cv, scoring='r2',n_jobs=4, train_sizes=np.linspace(.1, 1.0, 5)).show()"
   ]
  },
  {
   "cell_type": "markdown",
   "metadata": {},
   "source": [
    "## Iteramos para todos los indicadores"
   ]
  },
  {
   "cell_type": "code",
   "execution_count": 30,
   "metadata": {
    "collapsed": false
   },
   "outputs": [
    {
     "data": {
      "text/html": [
       "<div>\n",
       "<table border=\"1\" class=\"dataframe\">\n",
       "  <thead>\n",
       "    <tr style=\"text-align: right;\">\n",
       "      <th></th>\n",
       "      <th>Original</th>\n",
       "      <th>Normalizado</th>\n",
       "      <th>Imputando</th>\n",
       "      <th>Imputado+Normalizado</th>\n",
       "    </tr>\n",
       "  </thead>\n",
       "  <tbody>\n",
       "    <tr>\n",
       "      <th>0</th>\n",
       "      <td>0.996450</td>\n",
       "      <td>0.998897</td>\n",
       "      <td>0.999857</td>\n",
       "      <td>0.997837</td>\n",
       "    </tr>\n",
       "    <tr>\n",
       "      <th>1</th>\n",
       "      <td>0.953889</td>\n",
       "      <td>0.990871</td>\n",
       "      <td>0.994040</td>\n",
       "      <td>0.973521</td>\n",
       "    </tr>\n",
       "    <tr>\n",
       "      <th>2</th>\n",
       "      <td>0.917896</td>\n",
       "      <td>0.957283</td>\n",
       "      <td>0.978863</td>\n",
       "      <td>0.980119</td>\n",
       "    </tr>\n",
       "    <tr>\n",
       "      <th>3</th>\n",
       "      <td>0.998549</td>\n",
       "      <td>0.995138</td>\n",
       "      <td>0.987242</td>\n",
       "      <td>0.997947</td>\n",
       "    </tr>\n",
       "    <tr>\n",
       "      <th>4</th>\n",
       "      <td>0.718538</td>\n",
       "      <td>0.851849</td>\n",
       "      <td>0.742129</td>\n",
       "      <td>0.992946</td>\n",
       "    </tr>\n",
       "    <tr>\n",
       "      <th>5</th>\n",
       "      <td>0.920290</td>\n",
       "      <td>0.927576</td>\n",
       "      <td>0.913605</td>\n",
       "      <td>0.918223</td>\n",
       "    </tr>\n",
       "    <tr>\n",
       "      <th>6</th>\n",
       "      <td>0.349840</td>\n",
       "      <td>0.823976</td>\n",
       "      <td>0.993586</td>\n",
       "      <td>0.833428</td>\n",
       "    </tr>\n",
       "    <tr>\n",
       "      <th>7</th>\n",
       "      <td>0.999078</td>\n",
       "      <td>0.996257</td>\n",
       "      <td>0.998807</td>\n",
       "      <td>0.995156</td>\n",
       "    </tr>\n",
       "    <tr>\n",
       "      <th>8</th>\n",
       "      <td>0.988859</td>\n",
       "      <td>0.858830</td>\n",
       "      <td>0.916157</td>\n",
       "      <td>0.996622</td>\n",
       "    </tr>\n",
       "    <tr>\n",
       "      <th>9</th>\n",
       "      <td>0.230946</td>\n",
       "      <td>0.694395</td>\n",
       "      <td>0.970484</td>\n",
       "      <td>0.959777</td>\n",
       "    </tr>\n",
       "    <tr>\n",
       "      <th>10</th>\n",
       "      <td>0.974966</td>\n",
       "      <td>0.757544</td>\n",
       "      <td>0.917235</td>\n",
       "      <td>0.933396</td>\n",
       "    </tr>\n",
       "    <tr>\n",
       "      <th>11</th>\n",
       "      <td>0.955620</td>\n",
       "      <td>0.996447</td>\n",
       "      <td>0.906270</td>\n",
       "      <td>0.942892</td>\n",
       "    </tr>\n",
       "    <tr>\n",
       "      <th>12</th>\n",
       "      <td>0.991256</td>\n",
       "      <td>0.996715</td>\n",
       "      <td>0.989979</td>\n",
       "      <td>0.937893</td>\n",
       "    </tr>\n",
       "    <tr>\n",
       "      <th>13</th>\n",
       "      <td>0.997617</td>\n",
       "      <td>0.997482</td>\n",
       "      <td>0.999185</td>\n",
       "      <td>0.999253</td>\n",
       "    </tr>\n",
       "    <tr>\n",
       "      <th>14</th>\n",
       "      <td>0.996906</td>\n",
       "      <td>0.999151</td>\n",
       "      <td>0.991673</td>\n",
       "      <td>0.995970</td>\n",
       "    </tr>\n",
       "  </tbody>\n",
       "</table>\n",
       "</div>"
      ],
      "text/plain": [
       "    Original  Normalizado  Imputando  Imputado+Normalizado\n",
       "0   0.996450     0.998897   0.999857              0.997837\n",
       "1   0.953889     0.990871   0.994040              0.973521\n",
       "2   0.917896     0.957283   0.978863              0.980119\n",
       "3   0.998549     0.995138   0.987242              0.997947\n",
       "4   0.718538     0.851849   0.742129              0.992946\n",
       "5   0.920290     0.927576   0.913605              0.918223\n",
       "6   0.349840     0.823976   0.993586              0.833428\n",
       "7   0.999078     0.996257   0.998807              0.995156\n",
       "8   0.988859     0.858830   0.916157              0.996622\n",
       "9   0.230946     0.694395   0.970484              0.959777\n",
       "10  0.974966     0.757544   0.917235              0.933396\n",
       "11  0.955620     0.996447   0.906270              0.942892\n",
       "12  0.991256     0.996715   0.989979              0.937893\n",
       "13  0.997617     0.997482   0.999185              0.999253\n",
       "14  0.996906     0.999151   0.991673              0.995970"
      ]
     },
     "execution_count": 30,
     "metadata": {},
     "output_type": "execute_result"
    }
   ],
   "source": [
    "R2_global = list()\n",
    "\n",
    "for i in range(0,np.shape(tabla)[1]):\n",
    "    ## Valores Originales\n",
    "    X_train, X_test, y_train, y_test = splitter(tabla,i)\n",
    "    grid,best_max_depth = Grid_Search_CV(X_train, y_train)\n",
    "    R2_Original_GridSearchCV = DTR_v2(X_train, X_test, y_train, y_test, best_max_depth)\n",
    "    \n",
    "    ## Valores Normalizados\n",
    "    X_train, X_test, y_train, y_test = splitter(tabla_normalizada,i)\n",
    "    grid,best_max_depth = Grid_Search_CV(X_train, y_train)\n",
    "    R2_Normalizada_GridSearchCV = DTR_v2(X_train, X_test, y_train, y_test, best_max_depth)\n",
    "\n",
    "    ## Sin Valores Nulos\n",
    "    X_train, X_test, y_train, y_test = splitter(tabla_imputada,i)\n",
    "    grid,best_max_depth = Grid_Search_CV(X_train, y_train)\n",
    "    R2_Imputado_GridSearchCV = DTR_v2(X_train, X_test, y_train, y_test, best_max_depth)\n",
    "    \n",
    "    ## Sin Valores Nulos Normalizada\n",
    "    X_train, X_test, y_train, y_test = splitter(tabla_imputada_normalizada,i)\n",
    "    grid,best_max_depth = Grid_Search_CV(X_train, y_train)\n",
    "    R2_Imputado_Normalizado_GridSearchCV = DTR_v2(X_train, X_test, y_train, y_test, best_max_depth)\n",
    "    \n",
    "    # Recopilamos los R2\n",
    "    R2_global.append(np.array([R2_Original_GridSearchCV,R2_Normalizada_GridSearchCV,R2_Imputado_GridSearchCV,R2_Imputado_Normalizado_GridSearchCV]))\n",
    "\n",
    "pd.DataFrame(R2_global,columns=['Original','Normalizado','Imputando','Imputado+Normalizado'])"
   ]
  },
  {
   "cell_type": "markdown",
   "metadata": {},
   "source": [
    "## Matriz de Correlación"
   ]
  },
  {
   "cell_type": "code",
   "execution_count": 17,
   "metadata": {
    "collapsed": false
   },
   "outputs": [
    {
     "data": {
      "image/png": "[encoded data removed]",
      "text/plain": [
       "<matplotlib.figure.Figure at 0xbc82f60>"
      ]
     },
     "metadata": {},
     "output_type": "display_data"
    }
   ],
   "source": [
    "def correlation_matrix(df):\n",
    "    from matplotlib import pyplot as plt\n",
    "    from matplotlib import cm as cm\n",
    "\n",
    "    fig = plt.figure()\n",
    "    ax1 = fig.add_subplot(111)\n",
    "    cmap = cm.get_cmap('jet', 30)\n",
    "    cax = ax1.imshow(df.corr(), interpolation=\"nearest\", cmap=cmap)\n",
    "    plt.title('Matriz de correlacion')\n",
    "    fig.colorbar(cax)\n",
    "    plt.show()\n",
    "\n",
    "correlation_matrix(pd.DataFrame(tabla))"
   ]
  },
  {
   "cell_type": "code",
   "execution_count": 18,
   "metadata": {
    "collapsed": false
   },
   "outputs": [],
   "source": [
    "def correlacion(tabla,y_indicator):\n",
    "    # Buscamos los indicadores que se correlacionen más (coeficiente > 0.7)\n",
    "    eliminar = []\n",
    "    tabla_correlacion = np.array(pd.DataFrame(tabla).corr())\n",
    "    for i in range(np.shape(tabla)[1]):\n",
    "        if abs(tabla_correlacion[i,y_indicator]) > 0.7:\n",
    "            eliminar.append(i)\n",
    "\n",
    "\n",
    "    # Eliminamos los indicadores que se correlacionan más (Coeficiente > 0.7)\n",
    "    temporal = tabla[:,:]\n",
    "\n",
    "    for i in range(len(eliminar)):\n",
    "        temporal = np.delete(temporal[:,:], eliminar[i]-i, 1)\n",
    "\n",
    "    return temporal"
   ]
  },
  {
   "cell_type": "markdown",
   "metadata": {
    "collapsed": true
   },
   "source": [
    "## Splitter v2"
   ]
  },
  {
   "cell_type": "markdown",
   "metadata": {},
   "source": [
    "Modificamos la función Splitter (train, test split) para que elimine las columnas de los indicadores que se correlacionan más"
   ]
  },
  {
   "cell_type": "code",
   "execution_count": 22,
   "metadata": {
    "collapsed": true
   },
   "outputs": [],
   "source": [
    "def splitter_v2(tabla,y_indicator):\n",
    "    from sklearn.model_selection import train_test_split   \n",
    "\n",
    "    # Asignamos X e y, eliminando los indicadores que se correlacionen más (coeficiente > 0.7)\n",
    "    X = correlacion(tabla,y_indicator)\n",
    "    y = tabla[:,y_indicator]\n",
    "    \n",
    "    # Separamos Train y Test respectivamente para X e y\n",
    "    X_train, X_test, y_train, y_test = train_test_split(X, y, test_size=0.2)\n",
    "    \n",
    "    return X_train, X_test, y_train, y_test"
   ]
  },
  {
   "cell_type": "markdown",
   "metadata": {},
   "source": [
    "## Iteramos nuevamente"
   ]
  },
  {
   "cell_type": "code",
   "execution_count": 31,
   "metadata": {
    "collapsed": false
   },
   "outputs": [
    {
     "data": {
      "text/html": [
       "<div>\n",
       "<table border=\"1\" class=\"dataframe\">\n",
       "  <thead>\n",
       "    <tr style=\"text-align: right;\">\n",
       "      <th></th>\n",
       "      <th>Original</th>\n",
       "      <th>Normalizado</th>\n",
       "      <th>Imputando</th>\n",
       "      <th>Imputado+Normalizado</th>\n",
       "    </tr>\n",
       "  </thead>\n",
       "  <tbody>\n",
       "    <tr>\n",
       "      <th>0</th>\n",
       "      <td>0.998438</td>\n",
       "      <td>0.998959</td>\n",
       "      <td>0.995053</td>\n",
       "      <td>0.998295</td>\n",
       "    </tr>\n",
       "    <tr>\n",
       "      <th>1</th>\n",
       "      <td>0.935597</td>\n",
       "      <td>-0.045244</td>\n",
       "      <td>-3.593782</td>\n",
       "      <td>0.971718</td>\n",
       "    </tr>\n",
       "    <tr>\n",
       "      <th>2</th>\n",
       "      <td>0.989792</td>\n",
       "      <td>0.636665</td>\n",
       "      <td>0.947508</td>\n",
       "      <td>0.985911</td>\n",
       "    </tr>\n",
       "    <tr>\n",
       "      <th>3</th>\n",
       "      <td>0.992265</td>\n",
       "      <td>0.989652</td>\n",
       "      <td>0.434537</td>\n",
       "      <td>0.955787</td>\n",
       "    </tr>\n",
       "    <tr>\n",
       "      <th>4</th>\n",
       "      <td>0.818856</td>\n",
       "      <td>0.762707</td>\n",
       "      <td>0.857498</td>\n",
       "      <td>0.988944</td>\n",
       "    </tr>\n",
       "    <tr>\n",
       "      <th>5</th>\n",
       "      <td>0.265034</td>\n",
       "      <td>-0.009061</td>\n",
       "      <td>0.081624</td>\n",
       "      <td>0.082934</td>\n",
       "    </tr>\n",
       "    <tr>\n",
       "      <th>6</th>\n",
       "      <td>0.983288</td>\n",
       "      <td>0.683779</td>\n",
       "      <td>0.980743</td>\n",
       "      <td>0.505031</td>\n",
       "    </tr>\n",
       "    <tr>\n",
       "      <th>7</th>\n",
       "      <td>0.524199</td>\n",
       "      <td>-2.222573</td>\n",
       "      <td>0.678679</td>\n",
       "      <td>0.988324</td>\n",
       "    </tr>\n",
       "    <tr>\n",
       "      <th>8</th>\n",
       "      <td>0.998702</td>\n",
       "      <td>0.960907</td>\n",
       "      <td>0.988212</td>\n",
       "      <td>0.993489</td>\n",
       "    </tr>\n",
       "    <tr>\n",
       "      <th>9</th>\n",
       "      <td>0.873084</td>\n",
       "      <td>0.507415</td>\n",
       "      <td>0.624424</td>\n",
       "      <td>0.748233</td>\n",
       "    </tr>\n",
       "    <tr>\n",
       "      <th>10</th>\n",
       "      <td>0.199808</td>\n",
       "      <td>-0.197654</td>\n",
       "      <td>0.278642</td>\n",
       "      <td>-0.456136</td>\n",
       "    </tr>\n",
       "    <tr>\n",
       "      <th>11</th>\n",
       "      <td>0.897607</td>\n",
       "      <td>0.983677</td>\n",
       "      <td>0.701030</td>\n",
       "      <td>0.890839</td>\n",
       "    </tr>\n",
       "    <tr>\n",
       "      <th>12</th>\n",
       "      <td>0.940197</td>\n",
       "      <td>0.993854</td>\n",
       "      <td>0.971323</td>\n",
       "      <td>0.633009</td>\n",
       "    </tr>\n",
       "    <tr>\n",
       "      <th>13</th>\n",
       "      <td>0.794004</td>\n",
       "      <td>0.996927</td>\n",
       "      <td>0.623829</td>\n",
       "      <td>0.999591</td>\n",
       "    </tr>\n",
       "    <tr>\n",
       "      <th>14</th>\n",
       "      <td>0.998999</td>\n",
       "      <td>0.891904</td>\n",
       "      <td>0.980639</td>\n",
       "      <td>0.998443</td>\n",
       "    </tr>\n",
       "  </tbody>\n",
       "</table>\n",
       "</div>"
      ],
      "text/plain": [
       "    Original  Normalizado  Imputando  Imputado+Normalizado\n",
       "0   0.998438     0.998959   0.995053              0.998295\n",
       "1   0.935597    -0.045244  -3.593782              0.971718\n",
       "2   0.989792     0.636665   0.947508              0.985911\n",
       "3   0.992265     0.989652   0.434537              0.955787\n",
       "4   0.818856     0.762707   0.857498              0.988944\n",
       "5   0.265034    -0.009061   0.081624              0.082934\n",
       "6   0.983288     0.683779   0.980743              0.505031\n",
       "7   0.524199    -2.222573   0.678679              0.988324\n",
       "8   0.998702     0.960907   0.988212              0.993489\n",
       "9   0.873084     0.507415   0.624424              0.748233\n",
       "10  0.199808    -0.197654   0.278642             -0.456136\n",
       "11  0.897607     0.983677   0.701030              0.890839\n",
       "12  0.940197     0.993854   0.971323              0.633009\n",
       "13  0.794004     0.996927   0.623829              0.999591\n",
       "14  0.998999     0.891904   0.980639              0.998443"
      ]
     },
     "execution_count": 31,
     "metadata": {},
     "output_type": "execute_result"
    }
   ],
   "source": [
    "R2_global = list()\n",
    "\n",
    "for i in range(0,np.shape(tabla)[1]):\n",
    "    ## Valores Originales\n",
    "    X_train, X_test, y_train, y_test = splitter_v2(tabla,i)\n",
    "    grid,best_max_depth = Grid_Search_CV(X_train, y_train)\n",
    "    R2_Original_GridSearchCV = DTR_v2(X_train, X_test, y_train, y_test, best_max_depth)\n",
    "    \n",
    "    ## Valores Normalizados\n",
    "    X_train, X_test, y_train, y_test = splitter_v2(tabla_normalizada,i)\n",
    "    grid,best_max_depth = Grid_Search_CV(X_train, y_train)\n",
    "    R2_Normalizada_GridSearchCV = DTR_v2(X_train, X_test, y_train, y_test, best_max_depth)\n",
    "\n",
    "    ## Sin Valores Nulos\n",
    "    X_train, X_test, y_train, y_test = splitter_v2(tabla_imputada,i)\n",
    "    grid,best_max_depth = Grid_Search_CV(X_train, y_train)\n",
    "    R2_Imputado_GridSearchCV = DTR_v2(X_train, X_test, y_train, y_test, best_max_depth)\n",
    "    \n",
    "    ## Sin Valores Nulos Normalizada\n",
    "    X_train, X_test, y_train, y_test = splitter_v2(tabla_imputada_normalizada,i)\n",
    "    grid,best_max_depth = Grid_Search_CV(X_train, y_train)\n",
    "    R2_Imputado_Normalizado_GridSearchCV = DTR_v2(X_train, X_test, y_train, y_test, best_max_depth)\n",
    "    \n",
    "    # Recopilamos los R2\n",
    "    R2_global.append(np.array([R2_Original_GridSearchCV,R2_Normalizada_GridSearchCV,R2_Imputado_GridSearchCV,R2_Imputado_Normalizado_GridSearchCV]))\n",
    "\n",
    "pd.DataFrame(R2_global,columns=['Original','Normalizado','Imputando','Imputado+Normalizado'])"
   ]
  },
  {
   "cell_type": "markdown",
   "metadata": {},
   "source": [
    "## Iteramos individualmente el nuevo Splitter v2"
   ]
  },
  {
   "cell_type": "markdown",
   "metadata": {},
   "source": [
    "### Iteramos en base al R2_Original (Sin modificar la tabla)"
   ]
  },
  {
   "cell_type": "code",
   "execution_count": 42,
   "metadata": {
    "collapsed": false
   },
   "outputs": [],
   "source": [
    "def iter_R2(tab,iteraciones):\n",
    "    temporal = []\n",
    "    iter_R2_Original_GridSearchCV = []\n",
    "    for k in range(np.shape(tab)[1]):\n",
    "        for i in range(iteraciones):\n",
    "            ## Valores Originales\n",
    "            X_train, X_test, y_train, y_test = splitter_v2(tab,k)\n",
    "            grid,best_max_depth = Grid_Search_CV(X_train, y_train)\n",
    "            R2_Original_GridSearchCV = DTR_v2(X_train, X_test, y_train, y_test, best_max_depth)\n",
    "            temporal.append(R2_Original_GridSearchCV)\n",
    "        iter_R2_Original_GridSearchCV.append(temporal)\n",
    "        temporal = []\n",
    "    return iter_R2_Original_GridSearchCV"
   ]
  },
  {
   "cell_type": "markdown",
   "metadata": {},
   "source": [
    "#### Media de las Iteraciones R2 para cada indicador en cada caso"
   ]
  },
  {
   "cell_type": "code",
   "execution_count": 38,
   "metadata": {
    "collapsed": false
   },
   "outputs": [],
   "source": [
    "def iter_mean(iter_score):\n",
    "    temporal = np.array([iter_score])\n",
    "    mean_score = []\n",
    "\n",
    "    for k in range(np.shape(tabla)[1]):\n",
    "        mean_score.append(np.mean(temporal[:,k]))\n",
    "        \n",
    "    return mean_score"
   ]
  },
  {
   "cell_type": "code",
   "execution_count": 43,
   "metadata": {
    "collapsed": false
   },
   "outputs": [
    {
     "data": {
      "text/html": [
       "<div>\n",
       "<table border=\"1\" class=\"dataframe\">\n",
       "  <thead>\n",
       "    <tr style=\"text-align: right;\">\n",
       "      <th></th>\n",
       "      <th>Original</th>\n",
       "      <th>Normalizado</th>\n",
       "      <th>Imputando</th>\n",
       "    </tr>\n",
       "  </thead>\n",
       "  <tbody>\n",
       "    <tr>\n",
       "      <th>0</th>\n",
       "      <td>0.973462</td>\n",
       "      <td>0.990743</td>\n",
       "      <td>0.948036</td>\n",
       "    </tr>\n",
       "    <tr>\n",
       "      <th>1</th>\n",
       "      <td>-0.734662</td>\n",
       "      <td>0.451605</td>\n",
       "      <td>-6.589096</td>\n",
       "    </tr>\n",
       "    <tr>\n",
       "      <th>2</th>\n",
       "      <td>0.842180</td>\n",
       "      <td>0.763153</td>\n",
       "      <td>0.910435</td>\n",
       "    </tr>\n",
       "    <tr>\n",
       "      <th>3</th>\n",
       "      <td>0.191487</td>\n",
       "      <td>0.655899</td>\n",
       "      <td>0.889015</td>\n",
       "    </tr>\n",
       "    <tr>\n",
       "      <th>4</th>\n",
       "      <td>0.835864</td>\n",
       "      <td>0.828397</td>\n",
       "      <td>0.812624</td>\n",
       "    </tr>\n",
       "    <tr>\n",
       "      <th>5</th>\n",
       "      <td>0.105796</td>\n",
       "      <td>0.139265</td>\n",
       "      <td>0.054580</td>\n",
       "    </tr>\n",
       "    <tr>\n",
       "      <th>6</th>\n",
       "      <td>0.688069</td>\n",
       "      <td>0.626152</td>\n",
       "      <td>0.628511</td>\n",
       "    </tr>\n",
       "    <tr>\n",
       "      <th>7</th>\n",
       "      <td>0.247234</td>\n",
       "      <td>-0.202172</td>\n",
       "      <td>-1.834312</td>\n",
       "    </tr>\n",
       "    <tr>\n",
       "      <th>8</th>\n",
       "      <td>0.987872</td>\n",
       "      <td>0.967166</td>\n",
       "      <td>0.968679</td>\n",
       "    </tr>\n",
       "    <tr>\n",
       "      <th>9</th>\n",
       "      <td>0.568028</td>\n",
       "      <td>0.543631</td>\n",
       "      <td>0.580160</td>\n",
       "    </tr>\n",
       "    <tr>\n",
       "      <th>10</th>\n",
       "      <td>0.112881</td>\n",
       "      <td>0.082538</td>\n",
       "      <td>0.050727</td>\n",
       "    </tr>\n",
       "    <tr>\n",
       "      <th>11</th>\n",
       "      <td>0.768397</td>\n",
       "      <td>0.720702</td>\n",
       "      <td>0.759834</td>\n",
       "    </tr>\n",
       "    <tr>\n",
       "      <th>12</th>\n",
       "      <td>0.814160</td>\n",
       "      <td>0.687518</td>\n",
       "      <td>0.708449</td>\n",
       "    </tr>\n",
       "    <tr>\n",
       "      <th>13</th>\n",
       "      <td>0.761710</td>\n",
       "      <td>-0.855125</td>\n",
       "      <td>0.740997</td>\n",
       "    </tr>\n",
       "    <tr>\n",
       "      <th>14</th>\n",
       "      <td>0.832893</td>\n",
       "      <td>0.847733</td>\n",
       "      <td>0.902700</td>\n",
       "    </tr>\n",
       "  </tbody>\n",
       "</table>\n",
       "</div>"
      ],
      "text/plain": [
       "    Original  Normalizado  Imputando\n",
       "0   0.973462     0.990743   0.948036\n",
       "1  -0.734662     0.451605  -6.589096\n",
       "2   0.842180     0.763153   0.910435\n",
       "3   0.191487     0.655899   0.889015\n",
       "4   0.835864     0.828397   0.812624\n",
       "5   0.105796     0.139265   0.054580\n",
       "6   0.688069     0.626152   0.628511\n",
       "7   0.247234    -0.202172  -1.834312\n",
       "8   0.987872     0.967166   0.968679\n",
       "9   0.568028     0.543631   0.580160\n",
       "10  0.112881     0.082538   0.050727\n",
       "11  0.768397     0.720702   0.759834\n",
       "12  0.814160     0.687518   0.708449\n",
       "13  0.761710    -0.855125   0.740997\n",
       "14  0.832893     0.847733   0.902700"
      ]
     },
     "execution_count": 43,
     "metadata": {},
     "output_type": "execute_result"
    }
   ],
   "source": [
    "pd.DataFrame(np.column_stack((iter_mean(iter_R2(tabla,20)),iter_mean(iter_R2(tabla_imputada,20)),iter_mean(iter_R2(tabla_imputada_normalizada,20)))),columns=['Original','Normalizado','Imputando'])"
   ]
  },
  {
   "cell_type": "markdown",
   "metadata": {},
   "source": [
    "Con lo cual determinamos que según el R2 iterado (>70%) los indicadores:\n",
    "\n",
    "- R2 Original:     0,1,4,6,7,8,9,11 y 12 \n",
    "- R2 Imputado:     0,4,6,7,8,11\n",
    "- R2 GridSearchCV: 0,4,6,8,11\n",
    "\n",
    "Son más fácilmente predecibles con nuestro modelo"
   ]
  },
  {
   "cell_type": "code",
   "execution_count": null,
   "metadata": {
    "collapsed": true
   },
   "outputs": [],
   "source": []
  }
 ],
 "metadata": {
  "anaconda-cloud": {},
  "kernelspec": {
   "display_name": "Python 2",
   "language": "python",
   "name": "python2"
  },
  "language_info": {
   "codemirror_mode": {
    "name": "ipython",
    "version": 2
   },
   "file_extension": ".py",
   "mimetype": "text/x-python",
   "name": "python",
   "nbconvert_exporter": "python",
   "pygments_lexer": "ipython2",
   "version": "2.7.13"
  }
 },
 "nbformat": 4,
 "nbformat_minor": 1
}
