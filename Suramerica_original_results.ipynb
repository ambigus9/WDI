{
 "cells": [
  {
   "cell_type": "code",
   "execution_count": 3,
   "metadata": {
    "collapsed": false
   },
   "outputs": [
    {
     "data": {
      "text/html": [
       "<div>\n",
       "<table border=\"1\" class=\"dataframe\">\n",
       "  <thead>\n",
       "    <tr style=\"text-align: right;\">\n",
       "      <th></th>\n",
       "      <th>Base</th>\n",
       "      <th>Target</th>\n",
       "      <th>Look Back</th>\n",
       "      <th>Reg</th>\n",
       "      <th>%</th>\n",
       "      <th>Time</th>\n",
       "      <th>Results</th>\n",
       "    </tr>\n",
       "  </thead>\n",
       "  <tbody>\n",
       "    <tr>\n",
       "      <th>0</th>\n",
       "      <td>Agricultura</td>\n",
       "      <td>Agricultura</td>\n",
       "      <td>1</td>\n",
       "      <td>48</td>\n",
       "      <td>0.730632</td>\n",
       "      <td>13.242</td>\n",
       "      <td>[[ 0.68218177]\\r\\n [ 0.77749546]\\r\\n [ 0.32564...</td>\n",
       "    </tr>\n",
       "    <tr>\n",
       "      <th>1</th>\n",
       "      <td>Agricultura</td>\n",
       "      <td>Agricultura</td>\n",
       "      <td>2</td>\n",
       "      <td>48</td>\n",
       "      <td>0.729640</td>\n",
       "      <td>15.580</td>\n",
       "      <td>[[ 0.69240111]\\r\\n [ 0.90648317]\\r\\n [ 0.95836...</td>\n",
       "    </tr>\n",
       "    <tr>\n",
       "      <th>2</th>\n",
       "      <td>Agricultura</td>\n",
       "      <td>Agricultura</td>\n",
       "      <td>3</td>\n",
       "      <td>48</td>\n",
       "      <td>0.718340</td>\n",
       "      <td>18.663</td>\n",
       "      <td>[[ 0.50353636]\\r\\n [ 0.95615268]\\r\\n [ 0.23570...</td>\n",
       "    </tr>\n",
       "  </tbody>\n",
       "</table>\n",
       "</div>"
      ],
      "text/plain": [
       "          Base       Target  Look Back  Reg         %    Time  \\\n",
       "0  Agricultura  Agricultura          1   48  0.730632  13.242   \n",
       "1  Agricultura  Agricultura          2   48  0.729640  15.580   \n",
       "2  Agricultura  Agricultura          3   48  0.718340  18.663   \n",
       "\n",
       "                                             Results  \n",
       "0  [[ 0.68218177]\\r\\n [ 0.77749546]\\r\\n [ 0.32564...  \n",
       "1  [[ 0.69240111]\\r\\n [ 0.90648317]\\r\\n [ 0.95836...  \n",
       "2  [[ 0.50353636]\\r\\n [ 0.95615268]\\r\\n [ 0.23570...  "
      ]
     },
     "execution_count": 3,
     "metadata": {},
     "output_type": "execute_result"
    }
   ],
   "source": [
    "import pandas as pd\n",
    "pd.read_csv(\"suramerica_absolute.csv\").drop('Unnamed: 0', 1)"
   ]
  },
  {
   "cell_type": "code",
   "execution_count": null,
   "metadata": {
    "collapsed": true
   },
   "outputs": [],
   "source": []
  }
 ],
 "metadata": {
  "kernelspec": {
   "display_name": "Python 2",
   "language": "python",
   "name": "python2"
  },
  "language_info": {
   "codemirror_mode": {
    "name": "ipython",
    "version": 2
   },
   "file_extension": ".py",
   "mimetype": "text/x-python",
   "name": "python",
   "nbconvert_exporter": "python",
   "pygments_lexer": "ipython2",
   "version": "2.7.13"
  }
 },
 "nbformat": 4,
 "nbformat_minor": 2
}
