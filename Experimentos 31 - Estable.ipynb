{
 "cells": [
  {
   "cell_type": "markdown",
   "metadata": {},
   "source": [
    "## World Development Indicators - Analytics"
   ]
  },
  {
   "cell_type": "code",
   "execution_count": 1,
   "metadata": {
    "collapsed": false
   },
   "outputs": [
    {
     "data": {
      "text/html": [
       "<div>\n",
       "<table border=\"1\" class=\"dataframe\">\n",
       "  <thead>\n",
       "    <tr style=\"text-align: right;\">\n",
       "      <th></th>\n",
       "      <th>CountryName</th>\n",
       "      <th>CountryCode</th>\n",
       "      <th>IndicatorName</th>\n",
       "      <th>IndicatorCode</th>\n",
       "      <th>Year</th>\n",
       "      <th>Value</th>\n",
       "    </tr>\n",
       "  </thead>\n",
       "  <tbody>\n",
       "    <tr>\n",
       "      <th>0</th>\n",
       "      <td>Antigua and Barbuda</td>\n",
       "      <td>ATG</td>\n",
       "      <td>Adolescent fertility rate (births per 1,000 wo...</td>\n",
       "      <td>SP.ADO.TFRT</td>\n",
       "      <td>1960</td>\n",
       "      <td>126.144000</td>\n",
       "    </tr>\n",
       "    <tr>\n",
       "      <th>1</th>\n",
       "      <td>Antigua and Barbuda</td>\n",
       "      <td>ATG</td>\n",
       "      <td>Age dependency ratio (% of working-age populat...</td>\n",
       "      <td>SP.POP.DPND</td>\n",
       "      <td>1960</td>\n",
       "      <td>88.237117</td>\n",
       "    </tr>\n",
       "    <tr>\n",
       "      <th>2</th>\n",
       "      <td>Antigua and Barbuda</td>\n",
       "      <td>ATG</td>\n",
       "      <td>Age dependency ratio, old (% of working-age po...</td>\n",
       "      <td>SP.POP.DPND.OL</td>\n",
       "      <td>1960</td>\n",
       "      <td>7.779958</td>\n",
       "    </tr>\n",
       "    <tr>\n",
       "      <th>3</th>\n",
       "      <td>Antigua and Barbuda</td>\n",
       "      <td>ATG</td>\n",
       "      <td>Age dependency ratio, young (% of working-age ...</td>\n",
       "      <td>SP.POP.DPND.YG</td>\n",
       "      <td>1960</td>\n",
       "      <td>80.457159</td>\n",
       "    </tr>\n",
       "    <tr>\n",
       "      <th>4</th>\n",
       "      <td>Antigua and Barbuda</td>\n",
       "      <td>ATG</td>\n",
       "      <td>Birth rate, crude (per 1,000 people)</td>\n",
       "      <td>SP.DYN.CBRT.IN</td>\n",
       "      <td>1960</td>\n",
       "      <td>32.920000</td>\n",
       "    </tr>\n",
       "  </tbody>\n",
       "</table>\n",
       "</div>"
      ],
      "text/plain": [
       "           CountryName CountryCode  \\\n",
       "0  Antigua and Barbuda         ATG   \n",
       "1  Antigua and Barbuda         ATG   \n",
       "2  Antigua and Barbuda         ATG   \n",
       "3  Antigua and Barbuda         ATG   \n",
       "4  Antigua and Barbuda         ATG   \n",
       "\n",
       "                                       IndicatorName   IndicatorCode  Year  \\\n",
       "0  Adolescent fertility rate (births per 1,000 wo...     SP.ADO.TFRT  1960   \n",
       "1  Age dependency ratio (% of working-age populat...     SP.POP.DPND  1960   \n",
       "2  Age dependency ratio, old (% of working-age po...  SP.POP.DPND.OL  1960   \n",
       "3  Age dependency ratio, young (% of working-age ...  SP.POP.DPND.YG  1960   \n",
       "4               Birth rate, crude (per 1,000 people)  SP.DYN.CBRT.IN  1960   \n",
       "\n",
       "        Value  \n",
       "0  126.144000  \n",
       "1   88.237117  \n",
       "2    7.779958  \n",
       "3   80.457159  \n",
       "4   32.920000  "
      ]
     },
     "execution_count": 1,
     "metadata": {},
     "output_type": "execute_result"
    }
   ],
   "source": [
    "import numpy as np\n",
    "import pandas as pd\n",
    "import matplotlib.pyplot as plt\n",
    "import time\n",
    "\n",
    "datos = pd.read_csv(\"suramerica.csv\").drop('Unnamed: 0', 1)\n",
    "datos.head()"
   ]
  },
  {
   "cell_type": "code",
   "execution_count": 2,
   "metadata": {
    "collapsed": true
   },
   "outputs": [],
   "source": [
    "paises = ['Antigua and Barbuda','Argentina','Aruba','Bahamas, The','Barbados','Belize','Bolivia','Brazil','Cayman Islands','Chile','Colombia','Costa Rica','Cuba','Curacao','Dominica','Dominican Republic','Ecuador','El Salvador','Grenada','Guatemala','Guyana','Haiti','Honduras','Jamaica','Mexico','Nicaragua','Panama','Paraguay','Peru','Puerto Rico','Sint Maarten (Dutch part)','St. Kitts and Nevis','St. Lucia','St. Martin (French part)','St. Vincent and the Grenadines','Suriname','Trinidad and Tobago','Turks and Caicos Islands','Uruguay','Venezuela, RB','Virgin Islands (U.S.)']\n",
    "years = range(2008,2012+1)\n",
    "gdp = ['NY.GDP.MKTP.KN','NY.GDP.MKTP.CN','NY.GDP.MKTP.CD','NY.GDP.MKTP.KD','NY.GDP.DEFL.ZS','NY.GDP.MKTP.KD.ZG','NY.GDP.PCAP.KD','NY.GDP.PCAP.KN','NY.GDP.PCAP.CN','NY.GDP.PCAP.CD','NY.GDP.PCAP.KD.ZG','NY.GDP.PCAP.PP.KD','NY.GDP.PCAP.PP.CD','NY.GDP.MKTP.PP.KD','NY.GDP.MKTP.PP.CD']\n",
    "gross = ['NE.GDI.TOTL.ZS','NE.GDI.TOTL.KD.ZG','NE.GDI.TOTL.KD','NE.GDI.TOTL.KN','NE.GDI.TOTL.CN','NE.GDI.TOTL.CD','NY.GDY.TOTL.KN','NY.GDS.TOTL.ZS','NY.GDS.TOTL.CN','NY.GDS.TOTL.CD','NE.GDI.FTOT.ZS','NE.GDI.FTOT.KD.ZG','NE.GDI.FTOT.KD','NE.GDI.FTOT.KN','NE.GDI.FTOT.CN','NE.GDI.FTOT.CD','NE.GDI.FPRV.ZS','NE.GDI.FPRV.CN','NE.DAB.TOTL.ZS','NE.DAB.TOTL.KD','NE.DAB.TOTL.KN','NE.DAB.TOTL.CN','NE.DAB.TOTL.CD','NE.DAB.DEFL.ZS','NY.GNS.ICTR.ZS','NY.GNS.ICTR.GN.ZS','NY.GNS.ICTR.CN','NY.GNS.ICTR.CD','NY.GDP.FCST.KD','NY.GDP.FCST.KN','NY.GDP.FCST.CN','NY.GDP.FCST.CD']\n",
    "gni = ['NY.GNP.MKTP.KD','NY.GNP.MKTP.KN','NY.GNP.MKTP.CN','NY.GNP.MKTP.CD','NY.GNP.MKTP.KD.ZG','NY.GNP.PCAP.KD','NY.GNP.PCAP.KN','NY.GNP.PCAP.CN','NY.GNP.PCAP.KD.ZG','NY.GNP.PCAP.CD','NY.GNP.PCAP.PP.KD','NY.GNP.PCAP.PP.CD','NY.GNP.ATLS.CD','NY.GNP.MKTP.PP.KD','NY.GNP.MKTP.PP.CD']\n",
    "conjunto_nombre = ['GDP','Gross','GNI']\n",
    "conjunto = [gdp,gross,gni]"
   ]
  },
  {
   "cell_type": "code",
   "execution_count": 18,
   "metadata": {
    "collapsed": true
   },
   "outputs": [],
   "source": [
    "agricultura = ['EG.ELC.ACCS.RU.ZS','EG.NSF.ACCS.RU.ZS','AG.LND.IRIG.AG.ZS','AG.LND.AGRI.ZS','AG.LND.AGRI.K2','AG.AGR.TRAC.NO','AG.LND.TRAC.ZS','EN.ATM.METH.AG.ZS','EN.ATM.METH.AG.KT.CE','EN.ATM.NOXE.AG.ZS','EN.ATM.NOXE.AG.KT.CE','TX.VAL.AGRI.ZS.UN','TM.VAL.AGRI.ZS.UN','EA.PRD.AGRI.KD','NV.AGR.TOTL.ZS','NV.AGR.TOTL.CD','ER.H2O.FWAG.ZS','AG.LND.ARBL.ZS','AG.LND.ARBL.HA.PC','AG.LND.ARBL.HA','AG.LND.PRCP.MM','AG.PRD.CREL.MT','AG.YLD.CREL.KG','AG.PRD.CROP.XD','SL.AGR.EMPL.ZS','SL.AGR.EMPL.FE.ZS','SL.AGR.EMPL.MA.ZS','AG.CON.FERT.PT.ZS','AG.CON.FERT.ZS','AG.PRD.FOOD.XD','AG.LND.FRST.ZS','AG.LND.FRST.K2','SH.STA.ACSN.RU','SH.H2O.SAFE.RU.ZS','AG.LND.TOTL.K2','AG.LND.CREL.HA','AG.PRD.LVSK.XD','AG.LND.CROP.ZS','AG.LND.TOTL.RU.K2','AG.LND.EL5M.RU.ZS','AG.LND.EL5M.RU.K2','SP.RUR.TOTL','SP.RUR.TOTL.ZS','SP.RUR.TOTL.ZG','EN.POP.EL5M.RU.ZS','SI.POV.RUGP','SI.POV.RUHC','AG.SRF.TOTL.K2']\n",
    "economia = ['PA.NUS.PPP.05','PA.NUS.PRVT.PP.05','NY.ADJ.NNTY.KD.ZG','NY.ADJ.NNTY.KD','NY.ADJ.NNTY.CD','NY.ADJ.NNTY.PC.KD.ZG','NY.ADJ.NNTY.PC.KD','NY.ADJ.NNTY.PC.CD','NY.ADJ.SVNX.GN.ZS','NY.ADJ.SVNX.CD','NY.ADJ.SVNG.GN.ZS','NY.ADJ.SVNG.CD','NY.ADJ.DCO2.GN.ZS','NY.ADJ.DCO2.CD','NY.ADJ.DKAP.GN.ZS','NY.ADJ.DKAP.CD','NY.ADJ.AEDU.GN.ZS','NY.ADJ.AEDU.CD','NY.ADJ.DNGY.GN.ZS','NY.ADJ.DNGY.CD','NY.ADJ.ICTR.GN.ZS','NY.ADJ.DMIN.GN.ZS','NY.ADJ.DMIN.CD','NY.ADJ.DRES.GN.ZS','NY.ADJ.DFOR.GN.ZS','NY.ADJ.DFOR.CD','NY.ADJ.NNAT.GN.ZS','NY.ADJ.NNAT.CD','NY.ADJ.DPEM.GN.ZS','NY.ADJ.DPEM.CD','NV.AGR.TOTL.ZS','NV.AGR.TOTL.KD.ZG','NV.AGR.TOTL.KD','NV.AGR.TOTL.KN','NV.AGR.TOTL.CN','NV.AGR.TOTL.CD','GC.DOD.TOTL.GD.ZS','NE.GDI.STKB.KN','NE.GDI.STKB.CN','NE.GDI.STKB.CD','BM.GSR.ROYL.CD','BX.GSR.ROYL.CD','NV.MNF.CHEM.ZS.UN','BX.GSR.CMCP.ZS','BM.GSR.CMCP.ZS','BN.CAB.XOKA.GD.ZS','BN.CAB.XOKA.CD','PA.NUS.ATLS','NY.GDP.DISC.KN','NY.GDP.DISC.CN','GC.XPN.TOTL.GD.ZS','NY.EXP.CAPM.KN','NE.EXP.GNFS.ZS','BX.GSR.GNFS.CD','NE.EXP.GNFS.KD.ZG','NE.EXP.GNFS.KD','NE.EXP.GNFS.KN','NE.EXP.GNFS.CN','NE.EXP.GNFS.CD','BX.GSR.TOTL.CD','NE.RSB.GNFS.ZS','NE.RSB.GNFS.KN','NE.RSB.GNFS.CN','NE.RSB.GNFS.CD','DT.DOD.DECT.GN.ZS','DT.DOD.DECT.EX.ZS','DT.DOD.DECT.CD','NE.CON.TOTL.KD','NE.CON.TOTL.KN','NE.CON.TOTL.CN','NE.CON.TOTL.CD','NE.CON.TETC.ZS','NE.CON.TETC.KD.ZG','NE.CON.TETC.KD','NE.CON.TETC.KN','NE.CON.TETC.CN','NE.CON.TETC.CD','NV.MNF.FBTO.ZS.UN','BN.KLT.DINV.CD','BX.KLT.DINV.WD.GD.ZS','BX.KLT.DINV.CD.WD','BM.KLT.DINV.WD.GD.ZS','BM.KLT.DINV.CD.WD','NY.GDP.MKTP.KN','NY.GDP.MKTP.CN','NY.GDP.MKTP.CD','NY.GDP.MKTP.KD','NY.GDP.DEFL.ZS','NY.GDP.MKTP.KD.ZG','NY.GDP.PCAP.KD','NY.GDP.PCAP.KN','NY.GDP.PCAP.CN','NY.GDP.PCAP.CD','NY.GDP.PCAP.KD.ZG','NY.GDP.PCAP.PP.KD','NY.GDP.PCAP.PP.CD','NY.GDP.MKTP.PP.KD','NY.GDP.MKTP.PP.CD','NY.GNP.MKTP.KD','NY.GNP.MKTP.KN','NY.GNP.MKTP.CN','NY.GNP.MKTP.CD','NY.GNP.MKTP.KD.ZG','NY.GNP.PCAP.KD','NY.GNP.PCAP.KN','NY.GNP.PCAP.CN','NY.GNP.PCAP.KD.ZG','NY.GNP.PCAP.CD','NY.GNP.PCAP.PP.KD','NY.GNP.PCAP.PP.CD','NY.GNP.ATLS.CD','NY.GNP.MKTP.PP.KD','NY.GNP.MKTP.PP.CD','NE.CON.GOVT.ZS','NE.CON.GOVT.KD.ZG','NE.CON.GOVT.KD','NE.CON.GOVT.KN','NE.CON.GOVT.CN','NE.CON.GOVT.CD','BX.GSR.MRCH.CD','BM.GSR.MRCH.CD','BX.GRT.EXTA.CD.WD','NE.GDI.TOTL.ZS','NE.GDI.TOTL.KD.ZG','NE.GDI.TOTL.KD','NE.GDI.TOTL.KN','NE.GDI.TOTL.CN','NE.GDI.TOTL.CD','NY.GDY.TOTL.KN','NY.GDS.TOTL.ZS','NY.GDS.TOTL.CN','NY.GDS.TOTL.CD','NE.GDI.FTOT.ZS','NE.GDI.FTOT.KD.ZG','NE.GDI.FTOT.KD','NE.GDI.FTOT.KN','NE.GDI.FTOT.CN','NE.GDI.FTOT.CD','NE.GDI.FPRV.ZS','NE.GDI.FPRV.CN','NE.DAB.TOTL.ZS','NE.DAB.TOTL.KD','NE.DAB.TOTL.KN','NE.DAB.TOTL.CN','NE.DAB.TOTL.CD','NE.DAB.DEFL.ZS','NY.GNS.ICTR.ZS','NY.GNS.ICTR.GN.ZS','NY.GNS.ICTR.CN','NY.GNS.ICTR.CD','NY.GDP.FCST.KD','NY.GDP.FCST.KN','NY.GDP.FCST.CN','NY.GDP.FCST.CD','NE.CON.PRVT.KD.ZG','NE.CON.PRVT.KD','NE.CON.PRVT.KN','NE.CON.PRVT.CN','NE.CON.PRVT.CD','NE.CON.PRVT.PC.KD','NE.CON.PRVT.PC.KD.ZG','NE.CON.PRVT.PP.KD','NE.CON.PRVT.PP.CD','NE.CON.PETC.ZS','NE.CON.PETC.KD.ZG','NE.CON.PETC.KD','NE.CON.PETC.KN','NE.CON.PETC.CN','NE.CON.PETC.CD','BX.GSR.CCIS.ZS','BX.GSR.CCIS.CD','NE.IMP.GNFS.ZS','BM.GSR.GNFS.CD','NE.IMP.GNFS.KD.ZG','NE.IMP.GNFS.KD','NE.IMP.GNFS.KN','NE.IMP.GNFS.CN','NE.IMP.GNFS.CD','BM.GSR.TOTL.CD','NV.IND.TOTL.ZS','NV.IND.TOTL.KD.ZG','NV.IND.TOTL.KD','NV.IND.TOTL.KN','NV.IND.TOTL.CN','NV.IND.TOTL.CD','NY.GDP.DEFL.KD.ZG','FP.CPI.TOTL.ZG','BX.GSR.INSF.ZS','BM.GSR.INSF.ZS','DT.INT.DECT.GN.ZS','DT.INT.DECT.EX.ZS','NV.MNF.MTRN.ZS.UN','NV.IND.MANF.ZS','NV.IND.MANF.KD.ZG','NV.IND.MANF.KD','NV.IND.MANF.KN','NV.IND.MANF.CN','NV.IND.MANF.CD','DT.ODA.ODAT.GN.ZS','DT.ODA.ODAT.PC.ZS','BN.TRF.KOGT.CD','NY.TRF.NCTR.KN','NY.TRF.NCTR.CN','NY.TRF.NCTR.CD','BN.KAC.EOMS.CD','BN.FIN.TOTL.CD','NY.GSR.NFCY.KN','NY.GSR.NFCY.CN','NY.GSR.NFCY.CD','DT.ODA.ODAT.CD','BN.GSR.FCTY.CD','BN.TRF.CURR.CD','NY.TAX.NIND.KN','NY.TAX.NIND.CN','NY.TAX.NIND.CD','BN.GSR.MRCH.CD','BN.GSR.GNFS.CD','NV.MNF.OTHR.ZS.UN','PA.NUS.PPP','PA.NUS.PRVT.PP','BM.TRF.PWKR.CD.DT','BX.TRF.PWKR.DT.GD.ZS','BX.TRF.PWKR.CD.DT','BX.TRF.PWKR.CD','BN.KLT.PTXL.CD','BX.PEF.TOTL.CD.WD','DT.DOD.PVLX.GN.ZS','DT.DOD.PVLX.EX.ZS','DT.DOD.PVLX.CD','PA.NUS.PPPC.RF','BX.KLT.DREM.CD.DT','BM.GSR.FCTY.CD','BX.GSR.FCTY.CD','BN.RES.INCL.CD','GC.REV.XGRT.GD.ZS','BX.TRF.CURR.CD','BM.TRF.PRVT.CD','BX.GSR.NFSV.CD','BM.GSR.NFSV.CD','NV.SRV.TETC.ZS','NV.SRV.TETC.KD.ZG','NV.SRV.TETC.KD','NV.SRV.TETC.KN','NV.SRV.TETC.CN','NV.SRV.TETC.CD','DT.DOD.DSTC.XP.ZS','DT.DOD.DSTC.IR.ZS','BX.GRT.TECH.CD.WD','NY.TTF.GNFS.KN','NV.MNF.TXTL.ZS.UN','DT.TDS.DECT.GN.ZS','DT.TDS.DECT.EX.ZS','FI.RES.TOTL.CD','FI.RES.XGLD.CD','NE.TRD.GNFS.ZS','BG.GSR.NFSV.GD.ZS','BX.GSR.TRAN.ZS','BM.GSR.TRAN.ZS','BX.GSR.TRVL.ZS','BM.GSR.TRVL.ZS']"
   ]
  },
  {
   "cell_type": "code",
   "execution_count": 3,
   "metadata": {
    "collapsed": false
   },
   "outputs": [],
   "source": [
    "def r2(y_true, y_predict):\n",
    "    from sklearn.metrics import r2_score\n",
    "    return r2_score(y_true, y_predict)"
   ]
  },
  {
   "cell_type": "code",
   "execution_count": 4,
   "metadata": {
    "collapsed": false
   },
   "outputs": [],
   "source": [
    "def imputador(tab):\n",
    "    from sklearn.preprocessing import Imputer\n",
    "    impute=Imputer(missing_values=\"NaN\",strategy='mean',axis=0)\n",
    "    impute.fit(tab)\n",
    "    tab_imputada=impute.transform(tab)\n",
    "    return pd.DataFrame(tab_imputada)"
   ]
  },
  {
   "cell_type": "code",
   "execution_count": 5,
   "metadata": {
    "collapsed": true
   },
   "outputs": [],
   "source": [
    "def zeros(tab):\n",
    "    #Asignamos a los NaN el valor de 0\n",
    "    tab_zeros = pd.DataFrame(tab).fillna(value=0)\n",
    "    #Eliminamos las columnas de Zeros descartando Indicadores que no tienen regristros para ningún pais y año deseados\n",
    "    tab_zeros_2 = tab_zeros.loc[:, (tab_zeros != 0).any(axis=0)]\n",
    "    return tab_zeros_2"
   ]
  },
  {
   "cell_type": "code",
   "execution_count": 6,
   "metadata": {
    "collapsed": false
   },
   "outputs": [],
   "source": [
    "def Grid_Search_CV(X_train, y_train):\n",
    "    from sklearn.grid_search import GridSearchCV\n",
    "    from sklearn.cross_validation import ShuffleSplit\n",
    "    from sklearn.metrics import make_scorer\n",
    "    from sklearn.tree import DecisionTreeRegressor\n",
    "    \n",
    "    cv = ShuffleSplit(X_train.shape[0], n_iter = 10, test_size=0.2, random_state=0)\n",
    "    estimator = DecisionTreeRegressor()\n",
    "    params = {'max_depth': [1, 2, 3, 4, 5, 6, 7, 8, 9, 10], 'splitter': ['best', 'random']}\n",
    "\n",
    "    grid = GridSearchCV(estimator, params, cv=cv, scoring=\"r2\")\n",
    "\n",
    "    grid.fit(X_train, y_train)\n",
    "    \n",
    "    for k,v in grid.best_params_.iteritems():\n",
    "        best_max_depth = v\n",
    "    \n",
    "    return best_max_depth"
   ]
  },
  {
   "cell_type": "code",
   "execution_count": 7,
   "metadata": {
    "collapsed": true
   },
   "outputs": [],
   "source": [
    "def DTR_v2(X_train, X_test, y_train, y_test, depth):\n",
    "    from sklearn.tree import DecisionTreeRegressor\n",
    "    estimator = DecisionTreeRegressor(max_depth=depth)\n",
    "    estimator.fit(X_train,y_train)\n",
    "    y_predict = estimator.predict(X_test)\n",
    "    return r2(y_test,y_predict)"
   ]
  },
  {
   "cell_type": "code",
   "execution_count": 8,
   "metadata": {
    "collapsed": false
   },
   "outputs": [],
   "source": [
    "def correlation_matrix(df):\n",
    "    from matplotlib import pyplot as plt\n",
    "    from matplotlib import cm as cm\n",
    "\n",
    "    fig = plt.figure()\n",
    "    ax1 = fig.add_subplot(111)\n",
    "    cmap = cm.get_cmap('jet', 30)\n",
    "    cax = ax1.imshow(df.corr(), interpolation=\"nearest\", cmap=cmap)\n",
    "    plt.title('Matriz de correlacion')\n",
    "    fig.colorbar(cax)\n",
    "    plt.show()"
   ]
  },
  {
   "cell_type": "code",
   "execution_count": 9,
   "metadata": {
    "collapsed": false
   },
   "outputs": [],
   "source": [
    "def correlacion(tab,y_indicator):\n",
    "    # Buscamos los indicadores que se correlacionen más (coeficiente > 0.7)\n",
    "    eliminar = []\n",
    "    tabla_correlacion = np.array(pd.DataFrame(tab).corr())\n",
    "    for i in range(np.shape(tab)[1]):\n",
    "        if abs(tabla_correlacion[i,y_indicator]) > 0.7:\n",
    "            eliminar.append(i)\n",
    "\n",
    "    # Eliminamos los indicadores que se correlacionan más (Coeficiente > 0.7)\n",
    "    temporal = tab[:,:]\n",
    "\n",
    "    for i in range(len(eliminar)):\n",
    "        temporal = np.delete(temporal[:,:], eliminar[i]-i, 1)\n",
    "\n",
    "    return temporal"
   ]
  },
  {
   "cell_type": "code",
   "execution_count": 10,
   "metadata": {
    "collapsed": true
   },
   "outputs": [],
   "source": [
    "def splitter_v3(tabla_1,tabla_2,y_indicator):\n",
    "    from sklearn.model_selection import train_test_split\n",
    "    #Fusionamos la tabla_1 y el indicador y de la tabla_2\n",
    "    tab_fusion = np.column_stack((tabla_1[:,:],tabla_2[:,y_indicator]))\n",
    "    \n",
    "    # Asignamos X e y, eliminando los indicadores que se correlacionen más (coeficiente > 0.7)  \n",
    "    X = correlacion(tab_fusion,-1)\n",
    "    y = tab_fusion[:,-1]\n",
    "    \n",
    "    # Separamos Train y Test respectivamente para X e y\n",
    "    X_train, X_test, y_train, y_test = train_test_split(X, y, test_size=0.2)\n",
    "    \n",
    "    return X_train, X_test, y_train, y_test"
   ]
  },
  {
   "cell_type": "code",
   "execution_count": 11,
   "metadata": {
    "collapsed": true
   },
   "outputs": [],
   "source": [
    "def iter_R2_Splitter_v3(tab1,tab2):    \n",
    "    R2_global = list()\n",
    "    for i in range(0,np.shape(tab2)[1]):\n",
    "        ## Zeros\n",
    "        X_train, X_test, y_train, y_test = splitter_v3(np.array(zeros(tab1)),np.array(zeros(tab2)),i)\n",
    "        best_max_depth = Grid_Search_CV(X_train, y_train)\n",
    "        R2_Original_GridSearchCV = DTR_v2(X_train, X_test, y_train, y_test,best_max_depth)\n",
    "\n",
    "        ## Imputado\n",
    "        X_train, X_test, y_train, y_test = splitter_v3(np.array(imputador(tab1)),np.array(imputador(tab2)),i)\n",
    "        best_max_depth = Grid_Search_CV(X_train, y_train)\n",
    "        R2_Imputado_GridSearchCV = DTR_v2(X_train, X_test, y_train, y_test,best_max_depth)\n",
    "\n",
    "        # Recopilamos los R2\n",
    "        R2_global.append([R2_Original_GridSearchCV,R2_Imputado_GridSearchCV])\n",
    "    \n",
    "    return pd.DataFrame(R2_global,columns=['Original','Imputado'])"
   ]
  },
  {
   "cell_type": "code",
   "execution_count": 12,
   "metadata": {
    "collapsed": false
   },
   "outputs": [],
   "source": [
    "def porcentaje(valor):\n",
    "    x=0.0\n",
    "    for i in np.array(valor):\n",
    "        if (i[0] > 0.9 and i[1] > 0.9):\n",
    "            x=x+1\n",
    "    return x/len(valor)"
   ]
  },
  {
   "cell_type": "code",
   "execution_count": 13,
   "metadata": {
    "collapsed": false
   },
   "outputs": [],
   "source": [
    "def tabla_base(paises,years,indicadores,datos):\n",
    "    tab = pd.DataFrame.pivot_table(datos, values='Value', index=['CountryName', 'Year'], columns=['IndicatorCode']).loc[(paises,years),indicadores].sortlevel([\"CountryName\",\"Year\"], ascending=[True,False])\n",
    "    return tab"
   ]
  },
  {
   "cell_type": "code",
   "execution_count": 14,
   "metadata": {
    "collapsed": true
   },
   "outputs": [],
   "source": [
    "def tabla_2_base(datos,indicadores,look_back):\n",
    "    temp_table = []\n",
    "    for k in range(look_back):\n",
    "        temp_years = []\n",
    "        for i in range(len(years)): \n",
    "            temp_years.append(years[i]-k)\n",
    "        temp_table.append(pd.DataFrame.pivot_table(datos, values='Value', index=['CountryName', 'Year'], columns=['IndicatorCode']).loc[(paises,temp_years),indicadores].sortlevel([\"CountryName\",\"Year\"], ascending=[True,False]))\n",
    "    return pd.DataFrame(np.column_stack(temp_table))"
   ]
  },
  {
   "cell_type": "code",
   "execution_count": 15,
   "metadata": {
    "collapsed": true
   },
   "outputs": [],
   "source": [
    "def iterador_global(datos,paises,years,indicadores_1,indicadores_2):\n",
    "    \n",
    "    t_1 = tabla_base(paises,years,indicadores_1,datos)\n",
    "    t_2 = tabla_base(paises,years,indicadores_2,datos)\n",
    "    \n",
    "    iterador = iter_R2_Splitter_v3(t_1,t_2)\n",
    "    \n",
    "    return iterador"
   ]
  },
  {
   "cell_type": "code",
   "execution_count": 16,
   "metadata": {
    "collapsed": false
   },
   "outputs": [
    {
     "data": {
      "text/html": [
       "<div>\n",
       "<table border=\"1\" class=\"dataframe\">\n",
       "  <thead>\n",
       "    <tr style=\"text-align: right;\">\n",
       "      <th></th>\n",
       "      <th>IndicatorCode</th>\n",
       "      <th>NY.GDP.MKTP.KN</th>\n",
       "      <th>NY.GDP.MKTP.CN</th>\n",
       "      <th>NY.GDP.MKTP.CD</th>\n",
       "      <th>NY.GDP.MKTP.KD</th>\n",
       "      <th>NY.GDP.DEFL.ZS</th>\n",
       "    </tr>\n",
       "    <tr>\n",
       "      <th>CountryName</th>\n",
       "      <th>Year</th>\n",
       "      <th></th>\n",
       "      <th></th>\n",
       "      <th></th>\n",
       "      <th></th>\n",
       "      <th></th>\n",
       "    </tr>\n",
       "  </thead>\n",
       "  <tbody>\n",
       "    <tr>\n",
       "      <th rowspan=\"5\" valign=\"top\">Antigua and Barbuda</th>\n",
       "      <th>2012</th>\n",
       "      <td>2.802259e+09</td>\n",
       "      <td>3.252725e+09</td>\n",
       "      <td>1.204713e+09</td>\n",
       "      <td>1.033890e+09</td>\n",
       "      <td>116.075112</td>\n",
       "    </tr>\n",
       "    <tr>\n",
       "      <th>2011</th>\n",
       "      <td>2.693974e+09</td>\n",
       "      <td>3.050780e+09</td>\n",
       "      <td>1.129918e+09</td>\n",
       "      <td>9.939385e+08</td>\n",
       "      <td>113.244595</td>\n",
       "    </tr>\n",
       "    <tr>\n",
       "      <th>2010</th>\n",
       "      <td>2.743171e+09</td>\n",
       "      <td>3.065955e+09</td>\n",
       "      <td>1.135539e+09</td>\n",
       "      <td>1.012090e+09</td>\n",
       "      <td>111.766847</td>\n",
       "    </tr>\n",
       "    <tr>\n",
       "      <th>2009</th>\n",
       "      <td>2.954188e+09</td>\n",
       "      <td>3.257308e+09</td>\n",
       "      <td>1.206410e+09</td>\n",
       "      <td>1.089944e+09</td>\n",
       "      <td>110.260684</td>\n",
       "    </tr>\n",
       "    <tr>\n",
       "      <th>2008</th>\n",
       "      <td>3.358406e+09</td>\n",
       "      <td>3.637845e+09</td>\n",
       "      <td>1.347350e+09</td>\n",
       "      <td>1.239080e+09</td>\n",
       "      <td>108.320559</td>\n",
       "    </tr>\n",
       "  </tbody>\n",
       "</table>\n",
       "</div>"
      ],
      "text/plain": [
       "IndicatorCode             NY.GDP.MKTP.KN  NY.GDP.MKTP.CN  NY.GDP.MKTP.CD  \\\n",
       "CountryName         Year                                                   \n",
       "Antigua and Barbuda 2012    2.802259e+09    3.252725e+09    1.204713e+09   \n",
       "                    2011    2.693974e+09    3.050780e+09    1.129918e+09   \n",
       "                    2010    2.743171e+09    3.065955e+09    1.135539e+09   \n",
       "                    2009    2.954188e+09    3.257308e+09    1.206410e+09   \n",
       "                    2008    3.358406e+09    3.637845e+09    1.347350e+09   \n",
       "\n",
       "IndicatorCode             NY.GDP.MKTP.KD  NY.GDP.DEFL.ZS  \n",
       "CountryName         Year                                  \n",
       "Antigua and Barbuda 2012    1.033890e+09      116.075112  \n",
       "                    2011    9.939385e+08      113.244595  \n",
       "                    2010    1.012090e+09      111.766847  \n",
       "                    2009    1.089944e+09      110.260684  \n",
       "                    2008    1.239080e+09      108.320559  "
      ]
     },
     "execution_count": 16,
     "metadata": {},
     "output_type": "execute_result"
    }
   ],
   "source": [
    "tabla_base(paises,years,gdp[:5],datos).head()"
   ]
  },
  {
   "cell_type": "code",
   "execution_count": 17,
   "metadata": {
    "collapsed": true
   },
   "outputs": [],
   "source": []
  },
  {
   "cell_type": "code",
   "execution_count": 73,
   "metadata": {
    "collapsed": false
   },
   "outputs": [
    {
     "data": {
      "text/html": [
       "<div>\n",
       "<table border=\"1\" class=\"dataframe\">\n",
       "  <thead>\n",
       "    <tr style=\"text-align: right;\">\n",
       "      <th></th>\n",
       "      <th>Original</th>\n",
       "      <th>Imputado</th>\n",
       "    </tr>\n",
       "  </thead>\n",
       "  <tbody>\n",
       "    <tr>\n",
       "      <th>0</th>\n",
       "      <td>0.699598</td>\n",
       "      <td>0.491615</td>\n",
       "    </tr>\n",
       "    <tr>\n",
       "      <th>1</th>\n",
       "      <td>-0.890953</td>\n",
       "      <td>0.082870</td>\n",
       "    </tr>\n",
       "    <tr>\n",
       "      <th>2</th>\n",
       "      <td>0.955514</td>\n",
       "      <td>0.719432</td>\n",
       "    </tr>\n",
       "    <tr>\n",
       "      <th>3</th>\n",
       "      <td>0.997867</td>\n",
       "      <td>0.418609</td>\n",
       "    </tr>\n",
       "    <tr>\n",
       "      <th>4</th>\n",
       "      <td>0.995039</td>\n",
       "      <td>0.991857</td>\n",
       "    </tr>\n",
       "    <tr>\n",
       "      <th>5</th>\n",
       "      <td>0.439023</td>\n",
       "      <td>-4.743835</td>\n",
       "    </tr>\n",
       "    <tr>\n",
       "      <th>6</th>\n",
       "      <td>0.995344</td>\n",
       "      <td>0.993139</td>\n",
       "    </tr>\n",
       "    <tr>\n",
       "      <th>7</th>\n",
       "      <td>0.553435</td>\n",
       "      <td>0.754601</td>\n",
       "    </tr>\n",
       "    <tr>\n",
       "      <th>8</th>\n",
       "      <td>0.948265</td>\n",
       "      <td>-6.118318</td>\n",
       "    </tr>\n",
       "    <tr>\n",
       "      <th>9</th>\n",
       "      <td>0.766183</td>\n",
       "      <td>0.744041</td>\n",
       "    </tr>\n",
       "    <tr>\n",
       "      <th>10</th>\n",
       "      <td>0.688223</td>\n",
       "      <td>0.108625</td>\n",
       "    </tr>\n",
       "    <tr>\n",
       "      <th>11</th>\n",
       "      <td>0.315712</td>\n",
       "      <td>0.139087</td>\n",
       "    </tr>\n",
       "    <tr>\n",
       "      <th>12</th>\n",
       "      <td>0.908698</td>\n",
       "      <td>0.976691</td>\n",
       "    </tr>\n",
       "    <tr>\n",
       "      <th>13</th>\n",
       "      <td>0.964987</td>\n",
       "      <td>0.997877</td>\n",
       "    </tr>\n",
       "    <tr>\n",
       "      <th>14</th>\n",
       "      <td>0.996130</td>\n",
       "      <td>0.993081</td>\n",
       "    </tr>\n",
       "    <tr>\n",
       "      <th>15</th>\n",
       "      <td>0.889161</td>\n",
       "      <td>-1.830977</td>\n",
       "    </tr>\n",
       "    <tr>\n",
       "      <th>16</th>\n",
       "      <td>0.664742</td>\n",
       "      <td>0.014960</td>\n",
       "    </tr>\n",
       "    <tr>\n",
       "      <th>17</th>\n",
       "      <td>0.986590</td>\n",
       "      <td>0.647474</td>\n",
       "    </tr>\n",
       "    <tr>\n",
       "      <th>18</th>\n",
       "      <td>0.985286</td>\n",
       "      <td>0.691744</td>\n",
       "    </tr>\n",
       "    <tr>\n",
       "      <th>19</th>\n",
       "      <td>0.998671</td>\n",
       "      <td>-0.202897</td>\n",
       "    </tr>\n",
       "    <tr>\n",
       "      <th>20</th>\n",
       "      <td>0.999877</td>\n",
       "      <td>0.997343</td>\n",
       "    </tr>\n",
       "    <tr>\n",
       "      <th>21</th>\n",
       "      <td>0.931580</td>\n",
       "      <td>0.916571</td>\n",
       "    </tr>\n",
       "    <tr>\n",
       "      <th>22</th>\n",
       "      <td>0.988662</td>\n",
       "      <td>0.771301</td>\n",
       "    </tr>\n",
       "    <tr>\n",
       "      <th>23</th>\n",
       "      <td>0.980987</td>\n",
       "      <td>0.947449</td>\n",
       "    </tr>\n",
       "    <tr>\n",
       "      <th>24</th>\n",
       "      <td>0.348826</td>\n",
       "      <td>0.558253</td>\n",
       "    </tr>\n",
       "    <tr>\n",
       "      <th>25</th>\n",
       "      <td>0.682712</td>\n",
       "      <td>0.164728</td>\n",
       "    </tr>\n",
       "    <tr>\n",
       "      <th>26</th>\n",
       "      <td>0.958748</td>\n",
       "      <td>-21.199344</td>\n",
       "    </tr>\n",
       "    <tr>\n",
       "      <th>27</th>\n",
       "      <td>0.954576</td>\n",
       "      <td>0.855452</td>\n",
       "    </tr>\n",
       "    <tr>\n",
       "      <th>28</th>\n",
       "      <td>0.884882</td>\n",
       "      <td>0.832858</td>\n",
       "    </tr>\n",
       "    <tr>\n",
       "      <th>29</th>\n",
       "      <td>0.993567</td>\n",
       "      <td>0.480980</td>\n",
       "    </tr>\n",
       "    <tr>\n",
       "      <th>30</th>\n",
       "      <td>-27.728008</td>\n",
       "      <td>0.503291</td>\n",
       "    </tr>\n",
       "    <tr>\n",
       "      <th>31</th>\n",
       "      <td>0.816888</td>\n",
       "      <td>0.895780</td>\n",
       "    </tr>\n",
       "  </tbody>\n",
       "</table>\n",
       "</div>"
      ],
      "text/plain": [
       "     Original   Imputado\n",
       "0    0.699598   0.491615\n",
       "1   -0.890953   0.082870\n",
       "2    0.955514   0.719432\n",
       "3    0.997867   0.418609\n",
       "4    0.995039   0.991857\n",
       "5    0.439023  -4.743835\n",
       "6    0.995344   0.993139\n",
       "7    0.553435   0.754601\n",
       "8    0.948265  -6.118318\n",
       "9    0.766183   0.744041\n",
       "10   0.688223   0.108625\n",
       "11   0.315712   0.139087\n",
       "12   0.908698   0.976691\n",
       "13   0.964987   0.997877\n",
       "14   0.996130   0.993081\n",
       "15   0.889161  -1.830977\n",
       "16   0.664742   0.014960\n",
       "17   0.986590   0.647474\n",
       "18   0.985286   0.691744\n",
       "19   0.998671  -0.202897\n",
       "20   0.999877   0.997343\n",
       "21   0.931580   0.916571\n",
       "22   0.988662   0.771301\n",
       "23   0.980987   0.947449\n",
       "24   0.348826   0.558253\n",
       "25   0.682712   0.164728\n",
       "26   0.958748 -21.199344\n",
       "27   0.954576   0.855452\n",
       "28   0.884882   0.832858\n",
       "29   0.993567   0.480980\n",
       "30 -27.728008   0.503291\n",
       "31   0.816888   0.895780"
      ]
     },
     "execution_count": 73,
     "metadata": {},
     "output_type": "execute_result"
    }
   ],
   "source": []
  },
  {
   "cell_type": "code",
   "execution_count": 24,
   "metadata": {
    "collapsed": false
   },
   "outputs": [
    {
     "data": {
      "image/png": "[encoded data removed]",
      "text/plain": [
       "<matplotlib.figure.Figure at 0xbd74f60>"
      ]
     },
     "metadata": {},
     "output_type": "display_data"
    }
   ],
   "source": [
    "correlation_matrix(tabla_2_base(datos,gdp,1))"
   ]
  },
  {
   "cell_type": "code",
   "execution_count": 25,
   "metadata": {
    "collapsed": false
   },
   "outputs": [
    {
     "data": {
      "image/png": "[encoded data removed]",
      "text/plain": [
       "<matplotlib.figure.Figure at 0xc60df28>"
      ]
     },
     "metadata": {},
     "output_type": "display_data"
    }
   ],
   "source": [
    "correlation_matrix(tabla_2_base(datos,gdp,2))"
   ]
  },
  {
   "cell_type": "code",
   "execution_count": 23,
   "metadata": {
    "collapsed": false
   },
   "outputs": [
    {
     "name": "stdout",
     "output_type": "stream",
     "text": [
      "[2008, 2009, 2010, 2011, 2012]\n",
      "[2007, 2008, 2009, 2010, 2011]\n",
      "[2006, 2007, 2008, 2009, 2010]\n"
     ]
    },
    {
     "data": {
      "text/plain": [
       "[2006, 2007, 2008, 2009, 2010]"
      ]
     },
     "execution_count": 23,
     "metadata": {},
     "output_type": "execute_result"
    }
   ],
   "source": [
    "for k in range(2):\n",
    "    temp_years = []\n",
    "    for i in range(len(years)): \n",
    "        temp_years.append(years[i]-k)\n",
    "temp_years"
   ]
  },
  {
   "cell_type": "code",
   "execution_count": 17,
   "metadata": {
    "collapsed": false
   },
   "outputs": [
    {
     "data": {
      "text/html": [
       "<div>\n",
       "<table border=\"1\" class=\"dataframe\">\n",
       "  <thead>\n",
       "    <tr style=\"text-align: right;\">\n",
       "      <th></th>\n",
       "      <th>IndicatorCode</th>\n",
       "      <th>NY.GDP.MKTP.KN</th>\n",
       "      <th>NY.GDP.MKTP.CN</th>\n",
       "      <th>NY.GDP.MKTP.CD</th>\n",
       "    </tr>\n",
       "    <tr>\n",
       "      <th>CountryName</th>\n",
       "      <th>Year</th>\n",
       "      <th></th>\n",
       "      <th></th>\n",
       "      <th></th>\n",
       "    </tr>\n",
       "  </thead>\n",
       "  <tbody>\n",
       "    <tr>\n",
       "      <th rowspan=\"5\" valign=\"top\">Antigua and Barbuda</th>\n",
       "      <th>2012</th>\n",
       "      <td>2.802259e+09</td>\n",
       "      <td>3.252725e+09</td>\n",
       "      <td>1.204713e+09</td>\n",
       "    </tr>\n",
       "    <tr>\n",
       "      <th>2011</th>\n",
       "      <td>2.693974e+09</td>\n",
       "      <td>3.050780e+09</td>\n",
       "      <td>1.129918e+09</td>\n",
       "    </tr>\n",
       "    <tr>\n",
       "      <th>2010</th>\n",
       "      <td>2.743171e+09</td>\n",
       "      <td>3.065955e+09</td>\n",
       "      <td>1.135539e+09</td>\n",
       "    </tr>\n",
       "    <tr>\n",
       "      <th>2009</th>\n",
       "      <td>2.954188e+09</td>\n",
       "      <td>3.257308e+09</td>\n",
       "      <td>1.206410e+09</td>\n",
       "    </tr>\n",
       "    <tr>\n",
       "      <th>2008</th>\n",
       "      <td>3.358406e+09</td>\n",
       "      <td>3.637845e+09</td>\n",
       "      <td>1.347350e+09</td>\n",
       "    </tr>\n",
       "  </tbody>\n",
       "</table>\n",
       "</div>"
      ],
      "text/plain": [
       "IndicatorCode             NY.GDP.MKTP.KN  NY.GDP.MKTP.CN  NY.GDP.MKTP.CD\n",
       "CountryName         Year                                                \n",
       "Antigua and Barbuda 2012    2.802259e+09    3.252725e+09    1.204713e+09\n",
       "                    2011    2.693974e+09    3.050780e+09    1.129918e+09\n",
       "                    2010    2.743171e+09    3.065955e+09    1.135539e+09\n",
       "                    2009    2.954188e+09    3.257308e+09    1.206410e+09\n",
       "                    2008    3.358406e+09    3.637845e+09    1.347350e+09"
      ]
     },
     "execution_count": 17,
     "metadata": {},
     "output_type": "execute_result"
    }
   ],
   "source": [
    "t1 = pd.DataFrame.pivot_table(datos, values='Value', index=['CountryName', 'Year'], columns=['IndicatorCode']).loc[(paises,years),gdp[:3]].sortlevel([\"CountryName\",\"Year\"], ascending=[True,False])\n",
    "t1.head()"
   ]
  },
  {
   "cell_type": "code",
   "execution_count": 19,
   "metadata": {
    "collapsed": false
   },
   "outputs": [
    {
     "data": {
      "text/html": [
       "<div>\n",
       "<table border=\"1\" class=\"dataframe\">\n",
       "  <thead>\n",
       "    <tr style=\"text-align: right;\">\n",
       "      <th></th>\n",
       "      <th>IndicatorCode</th>\n",
       "      <th>NY.GDP.MKTP.KN</th>\n",
       "      <th>NY.GDP.MKTP.CN</th>\n",
       "      <th>NY.GDP.MKTP.CD</th>\n",
       "    </tr>\n",
       "    <tr>\n",
       "      <th>CountryName</th>\n",
       "      <th>Year</th>\n",
       "      <th></th>\n",
       "      <th></th>\n",
       "      <th></th>\n",
       "    </tr>\n",
       "  </thead>\n",
       "  <tbody>\n",
       "    <tr>\n",
       "      <th rowspan=\"5\" valign=\"top\">Antigua and Barbuda</th>\n",
       "      <th>2011</th>\n",
       "      <td>2.693974e+09</td>\n",
       "      <td>3.050780e+09</td>\n",
       "      <td>1.129918e+09</td>\n",
       "    </tr>\n",
       "    <tr>\n",
       "      <th>2010</th>\n",
       "      <td>2.743171e+09</td>\n",
       "      <td>3.065955e+09</td>\n",
       "      <td>1.135539e+09</td>\n",
       "    </tr>\n",
       "    <tr>\n",
       "      <th>2009</th>\n",
       "      <td>2.954188e+09</td>\n",
       "      <td>3.257308e+09</td>\n",
       "      <td>1.206410e+09</td>\n",
       "    </tr>\n",
       "    <tr>\n",
       "      <th>2008</th>\n",
       "      <td>3.358406e+09</td>\n",
       "      <td>3.637845e+09</td>\n",
       "      <td>1.347350e+09</td>\n",
       "    </tr>\n",
       "    <tr>\n",
       "      <th>2007</th>\n",
       "      <td>3.356020e+09</td>\n",
       "      <td>3.480987e+09</td>\n",
       "      <td>1.289254e+09</td>\n",
       "    </tr>\n",
       "  </tbody>\n",
       "</table>\n",
       "</div>"
      ],
      "text/plain": [
       "IndicatorCode             NY.GDP.MKTP.KN  NY.GDP.MKTP.CN  NY.GDP.MKTP.CD\n",
       "CountryName         Year                                                \n",
       "Antigua and Barbuda 2011    2.693974e+09    3.050780e+09    1.129918e+09\n",
       "                    2010    2.743171e+09    3.065955e+09    1.135539e+09\n",
       "                    2009    2.954188e+09    3.257308e+09    1.206410e+09\n",
       "                    2008    3.358406e+09    3.637845e+09    1.347350e+09\n",
       "                    2007    3.356020e+09    3.480987e+09    1.289254e+09"
      ]
     },
     "execution_count": 19,
     "metadata": {},
     "output_type": "execute_result"
    }
   ],
   "source": [
    "t2 = pd.DataFrame.pivot_table(datos, values='Value', index=['CountryName', 'Year'], columns=['IndicatorCode']).loc[(paises,temp_years),gdp[:3]].sortlevel([\"CountryName\",\"Year\"], ascending=[True,False])\n",
    "t2.head()"
   ]
  },
  {
   "cell_type": "code",
   "execution_count": 20,
   "metadata": {
    "collapsed": false
   },
   "outputs": [
    {
     "data": {
      "text/html": [
       "<div>\n",
       "<table border=\"1\" class=\"dataframe\">\n",
       "  <thead>\n",
       "    <tr style=\"text-align: right;\">\n",
       "      <th></th>\n",
       "      <th>0</th>\n",
       "      <th>1</th>\n",
       "      <th>2</th>\n",
       "      <th>3</th>\n",
       "      <th>4</th>\n",
       "      <th>5</th>\n",
       "    </tr>\n",
       "  </thead>\n",
       "  <tbody>\n",
       "    <tr>\n",
       "      <th>0</th>\n",
       "      <td>2.802259e+09</td>\n",
       "      <td>3.252725e+09</td>\n",
       "      <td>1.204713e+09</td>\n",
       "      <td>2.693974e+09</td>\n",
       "      <td>3.050780e+09</td>\n",
       "      <td>1.129918e+09</td>\n",
       "    </tr>\n",
       "    <tr>\n",
       "      <th>1</th>\n",
       "      <td>2.693974e+09</td>\n",
       "      <td>3.050780e+09</td>\n",
       "      <td>1.129918e+09</td>\n",
       "      <td>2.743171e+09</td>\n",
       "      <td>3.065955e+09</td>\n",
       "      <td>1.135539e+09</td>\n",
       "    </tr>\n",
       "    <tr>\n",
       "      <th>2</th>\n",
       "      <td>2.743171e+09</td>\n",
       "      <td>3.065955e+09</td>\n",
       "      <td>1.135539e+09</td>\n",
       "      <td>2.954188e+09</td>\n",
       "      <td>3.257308e+09</td>\n",
       "      <td>1.206410e+09</td>\n",
       "    </tr>\n",
       "    <tr>\n",
       "      <th>3</th>\n",
       "      <td>2.954188e+09</td>\n",
       "      <td>3.257308e+09</td>\n",
       "      <td>1.206410e+09</td>\n",
       "      <td>3.358406e+09</td>\n",
       "      <td>3.637845e+09</td>\n",
       "      <td>1.347350e+09</td>\n",
       "    </tr>\n",
       "    <tr>\n",
       "      <th>4</th>\n",
       "      <td>3.358406e+09</td>\n",
       "      <td>3.637845e+09</td>\n",
       "      <td>1.347350e+09</td>\n",
       "      <td>3.356020e+09</td>\n",
       "      <td>3.480987e+09</td>\n",
       "      <td>1.289254e+09</td>\n",
       "    </tr>\n",
       "  </tbody>\n",
       "</table>\n",
       "</div>"
      ],
      "text/plain": [
       "              0             1             2             3             4  \\\n",
       "0  2.802259e+09  3.252725e+09  1.204713e+09  2.693974e+09  3.050780e+09   \n",
       "1  2.693974e+09  3.050780e+09  1.129918e+09  2.743171e+09  3.065955e+09   \n",
       "2  2.743171e+09  3.065955e+09  1.135539e+09  2.954188e+09  3.257308e+09   \n",
       "3  2.954188e+09  3.257308e+09  1.206410e+09  3.358406e+09  3.637845e+09   \n",
       "4  3.358406e+09  3.637845e+09  1.347350e+09  3.356020e+09  3.480987e+09   \n",
       "\n",
       "              5  \n",
       "0  1.129918e+09  \n",
       "1  1.135539e+09  \n",
       "2  1.206410e+09  \n",
       "3  1.347350e+09  \n",
       "4  1.289254e+09  "
      ]
     },
     "execution_count": 20,
     "metadata": {},
     "output_type": "execute_result"
    }
   ],
   "source": [
    "pd.DataFrame(np.column_stack([t1,t2])).head()"
   ]
  },
  {
   "cell_type": "code",
   "execution_count": 31,
   "metadata": {
    "collapsed": false
   },
   "outputs": [
    {
     "data": {
      "text/html": [
       "<div>\n",
       "<table border=\"1\" class=\"dataframe\">\n",
       "  <thead>\n",
       "    <tr style=\"text-align: right;\">\n",
       "      <th></th>\n",
       "      <th>0</th>\n",
       "      <th>1</th>\n",
       "      <th>2</th>\n",
       "      <th>3</th>\n",
       "      <th>4</th>\n",
       "      <th>5</th>\n",
       "    </tr>\n",
       "  </thead>\n",
       "  <tbody>\n",
       "    <tr>\n",
       "      <th>0</th>\n",
       "      <td>2.802259e+09</td>\n",
       "      <td>3.252725e+09</td>\n",
       "      <td>1.204713e+09</td>\n",
       "      <td>2.693974e+09</td>\n",
       "      <td>3.050780e+09</td>\n",
       "      <td>1.129918e+09</td>\n",
       "    </tr>\n",
       "    <tr>\n",
       "      <th>1</th>\n",
       "      <td>2.693974e+09</td>\n",
       "      <td>3.050780e+09</td>\n",
       "      <td>1.129918e+09</td>\n",
       "      <td>2.743171e+09</td>\n",
       "      <td>3.065955e+09</td>\n",
       "      <td>1.135539e+09</td>\n",
       "    </tr>\n",
       "    <tr>\n",
       "      <th>2</th>\n",
       "      <td>2.743171e+09</td>\n",
       "      <td>3.065955e+09</td>\n",
       "      <td>1.135539e+09</td>\n",
       "      <td>2.954188e+09</td>\n",
       "      <td>3.257308e+09</td>\n",
       "      <td>1.206410e+09</td>\n",
       "    </tr>\n",
       "    <tr>\n",
       "      <th>3</th>\n",
       "      <td>2.954188e+09</td>\n",
       "      <td>3.257308e+09</td>\n",
       "      <td>1.206410e+09</td>\n",
       "      <td>3.358406e+09</td>\n",
       "      <td>3.637845e+09</td>\n",
       "      <td>1.347350e+09</td>\n",
       "    </tr>\n",
       "    <tr>\n",
       "      <th>4</th>\n",
       "      <td>3.358406e+09</td>\n",
       "      <td>3.637845e+09</td>\n",
       "      <td>1.347350e+09</td>\n",
       "      <td>3.356020e+09</td>\n",
       "      <td>3.480987e+09</td>\n",
       "      <td>1.289254e+09</td>\n",
       "    </tr>\n",
       "  </tbody>\n",
       "</table>\n",
       "</div>"
      ],
      "text/plain": [
       "              0             1             2             3             4  \\\n",
       "0  2.802259e+09  3.252725e+09  1.204713e+09  2.693974e+09  3.050780e+09   \n",
       "1  2.693974e+09  3.050780e+09  1.129918e+09  2.743171e+09  3.065955e+09   \n",
       "2  2.743171e+09  3.065955e+09  1.135539e+09  2.954188e+09  3.257308e+09   \n",
       "3  2.954188e+09  3.257308e+09  1.206410e+09  3.358406e+09  3.637845e+09   \n",
       "4  3.358406e+09  3.637845e+09  1.347350e+09  3.356020e+09  3.480987e+09   \n",
       "\n",
       "              5  \n",
       "0  1.129918e+09  \n",
       "1  1.135539e+09  \n",
       "2  1.206410e+09  \n",
       "3  1.347350e+09  \n",
       "4  1.289254e+09  "
      ]
     },
     "execution_count": 31,
     "metadata": {},
     "output_type": "execute_result"
    }
   ],
   "source": [
    "tabla_2_base(datos,gdp,2).head()"
   ]
  },
  {
   "cell_type": "code",
   "execution_count": 23,
   "metadata": {
    "collapsed": false
   },
   "outputs": [],
   "source": [
    "def tabla_2_base(datos,indicadores,look_back):\n",
    "    temp_table = []\n",
    "    for k in range(look_back):\n",
    "        temp_years = []\n",
    "        for i in range(len(years)): \n",
    "            temp_years.append(years[i]-k)\n",
    "        temp_table.append(pd.DataFrame.pivot_table(datos, values='Value', index=['CountryName', 'Year'], columns=['IndicatorCode']).loc[(paises,temp_years),indicadores].sortlevel([\"CountryName\",\"Year\"], ascending=[True,False]))\n",
    "    return pd.DataFrame(np.column_stack(temp_table))"
   ]
  },
  {
   "cell_type": "code",
   "execution_count": null,
   "metadata": {
    "collapsed": true
   },
   "outputs": [],
   "source": [
    "def iterador_global_2(datos,paises,years,indicadores_1,indicadores_2,look_back):\n",
    "    \n",
    "    t_1 = tabla_2_base(datos,indicadores_1,look_back)\n",
    "    t_2 = tabla_base(paises,years,indicadores_2,datos)\n",
    "    \n",
    "    iterador = iter_R2_Splitter_v3(t_1,t_2)\n",
    "    \n",
    "    return iterador"
   ]
  },
  {
   "cell_type": "code",
   "execution_count": null,
   "metadata": {
    "collapsed": true
   },
   "outputs": [],
   "source": [
    "iterador_global_2(datos,paises,years,economia[:50],agricultura[:],2)"
   ]
  },
  {
   "cell_type": "code",
   "execution_count": 17,
   "metadata": {
    "collapsed": false
   },
   "outputs": [
    {
     "name": "stdout",
     "output_type": "stream",
     "text": [
      "--- 99.3480000496 seconds ---\n"
     ]
    },
    {
     "data": {
      "text/html": [
       "<div>\n",
       "<table border=\"1\" class=\"dataframe\">\n",
       "  <thead>\n",
       "    <tr style=\"text-align: right;\">\n",
       "      <th></th>\n",
       "      <th>Base</th>\n",
       "      <th>Target</th>\n",
       "      <th>% &gt; 90%</th>\n",
       "    </tr>\n",
       "  </thead>\n",
       "  <tbody>\n",
       "    <tr>\n",
       "      <th>0</th>\n",
       "      <td>GDP</td>\n",
       "      <td>GDP</td>\n",
       "      <td>0.466667</td>\n",
       "    </tr>\n",
       "    <tr>\n",
       "      <th>1</th>\n",
       "      <td>GDP</td>\n",
       "      <td>Gross</td>\n",
       "      <td>0.500000</td>\n",
       "    </tr>\n",
       "    <tr>\n",
       "      <th>2</th>\n",
       "      <td>GDP</td>\n",
       "      <td>GNI</td>\n",
       "      <td>0.266667</td>\n",
       "    </tr>\n",
       "  </tbody>\n",
       "</table>\n",
       "</div>"
      ],
      "text/plain": [
       "  Base Target   % > 90%\n",
       "0  GDP    GDP  0.466667\n",
       "1  GDP  Gross  0.500000\n",
       "2  GDP    GNI  0.266667"
      ]
     },
     "execution_count": 17,
     "metadata": {},
     "output_type": "execute_result"
    }
   ],
   "source": [
    "start_time = time.time()\n",
    "\n",
    "resultado = []\n",
    "look_back = 2\n",
    "for i in range(len(conjunto)):\n",
    "    resultado.append([conjunto_nombre[0],conjunto_nombre[i],porcentaje(iterador_global_2(datos,paises,years,conjunto[0],conjunto[i],look_back))])\n",
    "    \n",
    "print(\"--- %s seconds ---\" % (time.time() - start_time))\n",
    "pd.DataFrame(resultado, columns=[\"Base\",\"Target\",\"% > 90%\"])"
   ]
  },
  {
   "cell_type": "code",
   "execution_count": 18,
   "metadata": {
    "collapsed": false
   },
   "outputs": [
    {
     "data": {
      "text/html": [
       "<iframe id=\"igraph\" scrolling=\"no\" style=\"border:none;\" seamless=\"seamless\" src=\"https://plot.ly/~ambigus9/146.embed\" height=\"525px\" width=\"100%\"></iframe>"
      ],
      "text/plain": [
       "<plotly.tools.PlotlyDisplay object>"
      ]
     },
     "execution_count": 18,
     "metadata": {},
     "output_type": "execute_result"
    }
   ],
   "source": [
    "import plotly.plotly as py\n",
    "import plotly.graph_objs as go\n",
    "\n",
    "data = [go.Bar(\n",
    "            x=['GDP', 'Gross', 'GNI'],\n",
    "            y=np.array(resultado)[:,2]\n",
    "    )]\n",
    "\n",
    "py.iplot(data, filename='GDP')"
   ]
  },
  {
   "cell_type": "code",
   "execution_count": 19,
   "metadata": {
    "collapsed": false
   },
   "outputs": [
    {
     "name": "stdout",
     "output_type": "stream",
     "text": [
      "--- 301.758999825 seconds ---\n"
     ]
    },
    {
     "data": {
      "text/html": [
       "<div>\n",
       "<table border=\"1\" class=\"dataframe\">\n",
       "  <thead>\n",
       "    <tr style=\"text-align: right;\">\n",
       "      <th></th>\n",
       "      <th>Base</th>\n",
       "      <th>Target</th>\n",
       "      <th>% &gt; 90%</th>\n",
       "    </tr>\n",
       "  </thead>\n",
       "  <tbody>\n",
       "    <tr>\n",
       "      <th>0</th>\n",
       "      <td>GDP</td>\n",
       "      <td>GDP</td>\n",
       "      <td>0.066667</td>\n",
       "    </tr>\n",
       "    <tr>\n",
       "      <th>1</th>\n",
       "      <td>GDP</td>\n",
       "      <td>Gross</td>\n",
       "      <td>0.187500</td>\n",
       "    </tr>\n",
       "    <tr>\n",
       "      <th>2</th>\n",
       "      <td>GDP</td>\n",
       "      <td>GNI</td>\n",
       "      <td>0.266667</td>\n",
       "    </tr>\n",
       "    <tr>\n",
       "      <th>3</th>\n",
       "      <td>Gross</td>\n",
       "      <td>GDP</td>\n",
       "      <td>0.200000</td>\n",
       "    </tr>\n",
       "    <tr>\n",
       "      <th>4</th>\n",
       "      <td>Gross</td>\n",
       "      <td>Gross</td>\n",
       "      <td>0.218750</td>\n",
       "    </tr>\n",
       "    <tr>\n",
       "      <th>5</th>\n",
       "      <td>Gross</td>\n",
       "      <td>GNI</td>\n",
       "      <td>0.266667</td>\n",
       "    </tr>\n",
       "    <tr>\n",
       "      <th>6</th>\n",
       "      <td>GNI</td>\n",
       "      <td>GDP</td>\n",
       "      <td>0.400000</td>\n",
       "    </tr>\n",
       "    <tr>\n",
       "      <th>7</th>\n",
       "      <td>GNI</td>\n",
       "      <td>Gross</td>\n",
       "      <td>0.375000</td>\n",
       "    </tr>\n",
       "    <tr>\n",
       "      <th>8</th>\n",
       "      <td>GNI</td>\n",
       "      <td>GNI</td>\n",
       "      <td>0.333333</td>\n",
       "    </tr>\n",
       "  </tbody>\n",
       "</table>\n",
       "</div>"
      ],
      "text/plain": [
       "    Base Target   % > 90%\n",
       "0    GDP    GDP  0.066667\n",
       "1    GDP  Gross  0.187500\n",
       "2    GDP    GNI  0.266667\n",
       "3  Gross    GDP  0.200000\n",
       "4  Gross  Gross  0.218750\n",
       "5  Gross    GNI  0.266667\n",
       "6    GNI    GDP  0.400000\n",
       "7    GNI  Gross  0.375000\n",
       "8    GNI    GNI  0.333333"
      ]
     },
     "execution_count": 19,
     "metadata": {},
     "output_type": "execute_result"
    }
   ],
   "source": [
    "start_time = time.time()\n",
    "\n",
    "resultado = []\n",
    "for i in range(len(conjunto)):\n",
    "    for j in range(len(conjunto)):\n",
    "        resultado.append([conjunto_nombre[i],conjunto_nombre[j],porcentaje(iterador_global(datos,paises,years,conjunto[i],conjunto[j]))])\n",
    "        \n",
    "print(\"--- %s seconds ---\" % (time.time() - start_time))\n",
    "pd.DataFrame(resultado, columns=[\"Base\",\"Target\",\"% > 90%\"])"
   ]
  },
  {
   "cell_type": "code",
   "execution_count": 21,
   "metadata": {
    "collapsed": false
   },
   "outputs": [
    {
     "data": {
      "text/html": [
       "<iframe id=\"igraph\" scrolling=\"no\" style=\"border:none;\" seamless=\"seamless\" src=\"https://plot.ly/~ambigus9/142.embed\" height=\"525px\" width=\"100%\"></iframe>"
      ],
      "text/plain": [
       "<plotly.tools.PlotlyDisplay object>"
      ]
     },
     "execution_count": 21,
     "metadata": {},
     "output_type": "execute_result"
    }
   ],
   "source": [
    "data = [\n",
    "        go.Heatmap(\n",
    "            z=np.array(resultado)[:,2],\n",
    "            x=np.array(resultado)[:,1],\n",
    "            y=np.array(resultado)[:,0],\n",
    "            colorscale='Viridis'\n",
    "        )\n",
    "    ]\n",
    "py.iplot(data, filename='Resultado Global')"
   ]
  }
 ],
 "metadata": {
  "anaconda-cloud": {},
  "kernelspec": {
   "display_name": "Python [default]",
   "language": "python",
   "name": "python2"
  },
  "language_info": {
   "codemirror_mode": {
    "name": "ipython",
    "version": 2
   },
   "file_extension": ".py",
   "mimetype": "text/x-python",
   "name": "python",
   "nbconvert_exporter": "python",
   "pygments_lexer": "ipython2",
   "version": "2.7.12"
  }
 },
 "nbformat": 4,
 "nbformat_minor": 1
}
